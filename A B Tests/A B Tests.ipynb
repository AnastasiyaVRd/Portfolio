{
 "cells": [
  {
   "cell_type": "markdown",
   "metadata": {},
   "source": [
    "#  Увеличение выручки интернет-магазина"
   ]
  },
  {
   "cell_type": "markdown",
   "metadata": {},
   "source": [
    "**Описание исследования**   \n",
    "Вместе с отделом маркетинга провести исследование на основе A/B тестирования с целью увеличения выруски интернет-магазина."
   ]
  },
  {
   "cell_type": "markdown",
   "metadata": {},
   "source": [
    "**Цель исследования**   \n",
    "Приоритизировать гипотезы, запустить A/B тесты и проанализировать результаты."
   ]
  },
  {
   "cell_type": "markdown",
   "metadata": {},
   "source": [
    "**Задачи исследования**   \n",
    "- приоритезировать гипотезы фреймворками ICE и RICE и выявить различия;\n",
    "- построить графики кумулятивной выручки, среднего чека и конверсии по группам, выводы по ним;\n",
    "- построить графики относительного изменения кумулятивного среднего чека и кумулятивной конверсии группы B к группе А;\n",
    "- построить точечный график стоимостей заказов и сделать выводы;\n",
    "- посчитать 95-й и 99-й перцентили стоимости заказов, выбрать границу для определения аномальных заказов;\n",
    "- посчитать статистическую значимость различий в конверсии и среднем чеке между группами по «сырым» данным, сделать выводы и предположения;\n",
    "- посчитать статистическую значимость различий в конверсии и среднем чеке между группами по «очищенным» данным, сделать выводы и предположения;\n",
    "- принять решение о продолжении проведения теста."
   ]
  },
  {
   "cell_type": "markdown",
   "metadata": {},
   "source": [
    "**СОДЕРЖАНИЕ**   \n",
    "   \n",
    "[Часть 1. Приоритизация гипотез.](#section_1)    \n",
    "[Часть 2. Анализ A/B теста](#section_2)     \n",
    "[2.1. Кумулятивная выручка по группам.](#section_3)    \n",
    "[2.2. Кумулятивный средний чек по группам.](#section_4)    \n",
    "[2.3. Изменения кумулятивного среднего чека группы B к группе A.](#section_5)    \n",
    "[2.4. Кумулятивная конверсия.](#section_6)    \n",
    "[2.5. График относительного изменения кумулятивной конверсии группы B к группе A.](#section_7)     \n",
    "[2.6. Точечный график количества заказов по пользователям.](#section_8)    \n",
    "[2.7. 95-й и 99-й перцентили количества заказов на пользователя.](#section_9)    \n",
    "[2.8. Точечный график стоимостей заказов.](#section_10)    \n",
    "[2.9. 95-й и 99-й перцентили стоимости заказов.](#section_11)    \n",
    "[2.10. Статистическая значимость различий в конверсии между группами по «сырым» данным.](#section_12)   \n",
    "[2.11. Статистическая значимость различий в среднем чеке между группами по «сырым» данным.](#section_13)   \n",
    "[2.12. Статистическая значимость различий в конверсии между группами по «очищенным» данным.](#section_14)   \n",
    "[2.13. Статистическая значимость различий в среднем чеке между группами по «очищенным» данным.](#section_15)   \n",
    "[2.14. Выводы, рекомендации.](#section_16)"
   ]
  },
  {
   "cell_type": "markdown",
   "metadata": {},
   "source": [
    "## **Часть 1. Приоритизация гипотез**\n",
    "<a id='section_1'></a>"
   ]
  },
  {
   "cell_type": "code",
   "execution_count": 1,
   "metadata": {
    "scrolled": true
   },
   "outputs": [],
   "source": [
    "import pandas as pd\n",
    "import datetime as dt\n",
    "import numpy as np\n",
    "import scipy.stats as stats\n",
    "import matplotlib.pyplot as plt\n",
    "from pandas.plotting import register_matplotlib_converters\n",
    "import warnings\n",
    "register_matplotlib_converters()"
   ]
  },
  {
   "cell_type": "code",
   "execution_count": 2,
   "metadata": {},
   "outputs": [
    {
     "data": {
      "text/html": [
       "<div>\n",
       "<style scoped>\n",
       "    .dataframe tbody tr th:only-of-type {\n",
       "        vertical-align: middle;\n",
       "    }\n",
       "\n",
       "    .dataframe tbody tr th {\n",
       "        vertical-align: top;\n",
       "    }\n",
       "\n",
       "    .dataframe thead th {\n",
       "        text-align: right;\n",
       "    }\n",
       "</style>\n",
       "<table border=\"1\" class=\"dataframe\">\n",
       "  <thead>\n",
       "    <tr style=\"text-align: right;\">\n",
       "      <th></th>\n",
       "      <th>Hypothesis</th>\n",
       "      <th>Reach</th>\n",
       "      <th>Impact</th>\n",
       "      <th>Confidence</th>\n",
       "      <th>Efforts</th>\n",
       "    </tr>\n",
       "  </thead>\n",
       "  <tbody>\n",
       "    <tr>\n",
       "      <th>0</th>\n",
       "      <td>Добавить два новых канала привлечения трафика,...</td>\n",
       "      <td>3</td>\n",
       "      <td>10</td>\n",
       "      <td>8</td>\n",
       "      <td>6</td>\n",
       "    </tr>\n",
       "    <tr>\n",
       "      <th>1</th>\n",
       "      <td>Запустить собственную службу доставки, что сок...</td>\n",
       "      <td>2</td>\n",
       "      <td>5</td>\n",
       "      <td>4</td>\n",
       "      <td>10</td>\n",
       "    </tr>\n",
       "    <tr>\n",
       "      <th>2</th>\n",
       "      <td>Добавить блоки рекомендаций товаров на сайт ин...</td>\n",
       "      <td>8</td>\n",
       "      <td>3</td>\n",
       "      <td>7</td>\n",
       "      <td>3</td>\n",
       "    </tr>\n",
       "    <tr>\n",
       "      <th>3</th>\n",
       "      <td>Изменить структура категорий, что увеличит кон...</td>\n",
       "      <td>8</td>\n",
       "      <td>3</td>\n",
       "      <td>3</td>\n",
       "      <td>8</td>\n",
       "    </tr>\n",
       "    <tr>\n",
       "      <th>4</th>\n",
       "      <td>Изменить цвет фона главной страницы, чтобы уве...</td>\n",
       "      <td>3</td>\n",
       "      <td>1</td>\n",
       "      <td>1</td>\n",
       "      <td>1</td>\n",
       "    </tr>\n",
       "    <tr>\n",
       "      <th>5</th>\n",
       "      <td>Добавить страницу отзывов клиентов о магазине,...</td>\n",
       "      <td>3</td>\n",
       "      <td>2</td>\n",
       "      <td>2</td>\n",
       "      <td>3</td>\n",
       "    </tr>\n",
       "    <tr>\n",
       "      <th>6</th>\n",
       "      <td>Показать на главной странице баннеры с актуаль...</td>\n",
       "      <td>5</td>\n",
       "      <td>3</td>\n",
       "      <td>8</td>\n",
       "      <td>3</td>\n",
       "    </tr>\n",
       "    <tr>\n",
       "      <th>7</th>\n",
       "      <td>Добавить форму подписки на все основные страни...</td>\n",
       "      <td>10</td>\n",
       "      <td>7</td>\n",
       "      <td>8</td>\n",
       "      <td>5</td>\n",
       "    </tr>\n",
       "    <tr>\n",
       "      <th>8</th>\n",
       "      <td>Запустить акцию, дающую скидку на товар в день...</td>\n",
       "      <td>1</td>\n",
       "      <td>9</td>\n",
       "      <td>9</td>\n",
       "      <td>5</td>\n",
       "    </tr>\n",
       "  </tbody>\n",
       "</table>\n",
       "</div>"
      ],
      "text/plain": [
       "                                          Hypothesis  Reach  Impact  \\\n",
       "0  Добавить два новых канала привлечения трафика,...      3      10   \n",
       "1  Запустить собственную службу доставки, что сок...      2       5   \n",
       "2  Добавить блоки рекомендаций товаров на сайт ин...      8       3   \n",
       "3  Изменить структура категорий, что увеличит кон...      8       3   \n",
       "4  Изменить цвет фона главной страницы, чтобы уве...      3       1   \n",
       "5  Добавить страницу отзывов клиентов о магазине,...      3       2   \n",
       "6  Показать на главной странице баннеры с актуаль...      5       3   \n",
       "7  Добавить форму подписки на все основные страни...     10       7   \n",
       "8  Запустить акцию, дающую скидку на товар в день...      1       9   \n",
       "\n",
       "   Confidence  Efforts  \n",
       "0           8        6  \n",
       "1           4       10  \n",
       "2           7        3  \n",
       "3           3        8  \n",
       "4           1        1  \n",
       "5           2        3  \n",
       "6           8        3  \n",
       "7           8        5  \n",
       "8           9        5  "
      ]
     },
     "execution_count": 2,
     "metadata": {},
     "output_type": "execute_result"
    }
   ],
   "source": [
    "hypothesis_table = pd.read_csv('_.csv')\n",
    "hypothesis_table.head(10)"
   ]
  },
  {
   "cell_type": "code",
   "execution_count": 3,
   "metadata": {},
   "outputs": [
    {
     "data": {
      "text/html": [
       "<div>\n",
       "<style scoped>\n",
       "    .dataframe tbody tr th:only-of-type {\n",
       "        vertical-align: middle;\n",
       "    }\n",
       "\n",
       "    .dataframe tbody tr th {\n",
       "        vertical-align: top;\n",
       "    }\n",
       "\n",
       "    .dataframe thead th {\n",
       "        text-align: right;\n",
       "    }\n",
       "</style>\n",
       "<table border=\"1\" class=\"dataframe\">\n",
       "  <thead>\n",
       "    <tr style=\"text-align: right;\">\n",
       "      <th></th>\n",
       "      <th>Hypothesis</th>\n",
       "      <th>ICE</th>\n",
       "    </tr>\n",
       "  </thead>\n",
       "  <tbody>\n",
       "    <tr>\n",
       "      <th>8</th>\n",
       "      <td>Запустить акцию, дающую скидку на товар в день рождения</td>\n",
       "      <td>16.200</td>\n",
       "    </tr>\n",
       "    <tr>\n",
       "      <th>0</th>\n",
       "      <td>Добавить два новых канала привлечения трафика, что позволит привлекать на 30% больше пользователей</td>\n",
       "      <td>13.333</td>\n",
       "    </tr>\n",
       "    <tr>\n",
       "      <th>7</th>\n",
       "      <td>Добавить форму подписки на все основные страницы, чтобы собрать базу клиентов для email-рассылок</td>\n",
       "      <td>11.200</td>\n",
       "    </tr>\n",
       "    <tr>\n",
       "      <th>6</th>\n",
       "      <td>Показать на главной странице баннеры с актуальными акциями и распродажами, чтобы увеличить конверсию</td>\n",
       "      <td>8.000</td>\n",
       "    </tr>\n",
       "    <tr>\n",
       "      <th>2</th>\n",
       "      <td>Добавить блоки рекомендаций товаров на сайт интернет магазина, чтобы повысить конверсию и средний чек заказа</td>\n",
       "      <td>7.000</td>\n",
       "    </tr>\n",
       "    <tr>\n",
       "      <th>1</th>\n",
       "      <td>Запустить собственную службу доставки, что сократит срок доставки заказов</td>\n",
       "      <td>2.000</td>\n",
       "    </tr>\n",
       "    <tr>\n",
       "      <th>5</th>\n",
       "      <td>Добавить страницу отзывов клиентов о магазине, что позволит увеличить количество заказов</td>\n",
       "      <td>1.333</td>\n",
       "    </tr>\n",
       "    <tr>\n",
       "      <th>3</th>\n",
       "      <td>Изменить структура категорий, что увеличит конверсию, т.к. пользователи быстрее найдут нужный товар</td>\n",
       "      <td>1.125</td>\n",
       "    </tr>\n",
       "    <tr>\n",
       "      <th>4</th>\n",
       "      <td>Изменить цвет фона главной страницы, чтобы увеличить вовлеченность пользователей</td>\n",
       "      <td>1.000</td>\n",
       "    </tr>\n",
       "  </tbody>\n",
       "</table>\n",
       "</div>"
      ],
      "text/plain": [
       "                                                                                                     Hypothesis  \\\n",
       "8                                                       Запустить акцию, дающую скидку на товар в день рождения   \n",
       "0            Добавить два новых канала привлечения трафика, что позволит привлекать на 30% больше пользователей   \n",
       "7              Добавить форму подписки на все основные страницы, чтобы собрать базу клиентов для email-рассылок   \n",
       "6          Показать на главной странице баннеры с актуальными акциями и распродажами, чтобы увеличить конверсию   \n",
       "2  Добавить блоки рекомендаций товаров на сайт интернет магазина, чтобы повысить конверсию и средний чек заказа   \n",
       "1                                     Запустить собственную службу доставки, что сократит срок доставки заказов   \n",
       "5                      Добавить страницу отзывов клиентов о магазине, что позволит увеличить количество заказов   \n",
       "3           Изменить структура категорий, что увеличит конверсию, т.к. пользователи быстрее найдут нужный товар   \n",
       "4                              Изменить цвет фона главной страницы, чтобы увеличить вовлеченность пользователей   \n",
       "\n",
       "     ICE  \n",
       "8 16.200  \n",
       "0 13.333  \n",
       "7 11.200  \n",
       "6  8.000  \n",
       "2  7.000  \n",
       "1  2.000  \n",
       "5  1.333  \n",
       "3  1.125  \n",
       "4  1.000  "
      ]
     },
     "metadata": {},
     "output_type": "display_data"
    }
   ],
   "source": [
    "hypothesis_table['ICE'] = round((hypothesis_table['Impact']*hypothesis_table['Confidence']/hypothesis_table['Efforts']), 3)\n",
    "pd.set_option('display.max_columns', None)\n",
    "pd.options.display.max_colwidth = 150\n",
    "pd.set_option('display.float_format', '{:.3f}'.format)\n",
    "display(hypothesis_table[['Hypothesis', 'ICE']].sort_values(by='ICE', ascending=False))"
   ]
  },
  {
   "cell_type": "markdown",
   "metadata": {},
   "source": [
    "Наиболее перспективны гипотезы:\n",
    "- 8 - Запустить акцию, дающую скидку на товар в день рождения, \n",
    "- 0 - Добавить два новых канала привлечения трафика, что позволит привлекать на 30% больше пользователей, \n",
    "- 7 - Добавить форму подписки на все основные страницы, чтобы собрать базу клиентов для email-рассылок\t."
   ]
  },
  {
   "cell_type": "code",
   "execution_count": 4,
   "metadata": {},
   "outputs": [
    {
     "data": {
      "text/html": [
       "<div>\n",
       "<style scoped>\n",
       "    .dataframe tbody tr th:only-of-type {\n",
       "        vertical-align: middle;\n",
       "    }\n",
       "\n",
       "    .dataframe tbody tr th {\n",
       "        vertical-align: top;\n",
       "    }\n",
       "\n",
       "    .dataframe thead th {\n",
       "        text-align: right;\n",
       "    }\n",
       "</style>\n",
       "<table border=\"1\" class=\"dataframe\">\n",
       "  <thead>\n",
       "    <tr style=\"text-align: right;\">\n",
       "      <th></th>\n",
       "      <th>Hypothesis</th>\n",
       "      <th>RICE</th>\n",
       "      <th>ICE</th>\n",
       "    </tr>\n",
       "  </thead>\n",
       "  <tbody>\n",
       "    <tr>\n",
       "      <th>7</th>\n",
       "      <td>Добавить форму подписки на все основные страницы, чтобы собрать базу клиентов для email-рассылок</td>\n",
       "      <td>112.000</td>\n",
       "      <td>11.200</td>\n",
       "    </tr>\n",
       "    <tr>\n",
       "      <th>2</th>\n",
       "      <td>Добавить блоки рекомендаций товаров на сайт интернет магазина, чтобы повысить конверсию и средний чек заказа</td>\n",
       "      <td>56.000</td>\n",
       "      <td>7.000</td>\n",
       "    </tr>\n",
       "    <tr>\n",
       "      <th>0</th>\n",
       "      <td>Добавить два новых канала привлечения трафика, что позволит привлекать на 30% больше пользователей</td>\n",
       "      <td>40.000</td>\n",
       "      <td>13.333</td>\n",
       "    </tr>\n",
       "    <tr>\n",
       "      <th>6</th>\n",
       "      <td>Показать на главной странице баннеры с актуальными акциями и распродажами, чтобы увеличить конверсию</td>\n",
       "      <td>40.000</td>\n",
       "      <td>8.000</td>\n",
       "    </tr>\n",
       "    <tr>\n",
       "      <th>8</th>\n",
       "      <td>Запустить акцию, дающую скидку на товар в день рождения</td>\n",
       "      <td>16.200</td>\n",
       "      <td>16.200</td>\n",
       "    </tr>\n",
       "    <tr>\n",
       "      <th>3</th>\n",
       "      <td>Изменить структура категорий, что увеличит конверсию, т.к. пользователи быстрее найдут нужный товар</td>\n",
       "      <td>9.000</td>\n",
       "      <td>1.125</td>\n",
       "    </tr>\n",
       "    <tr>\n",
       "      <th>1</th>\n",
       "      <td>Запустить собственную службу доставки, что сократит срок доставки заказов</td>\n",
       "      <td>4.000</td>\n",
       "      <td>2.000</td>\n",
       "    </tr>\n",
       "    <tr>\n",
       "      <th>5</th>\n",
       "      <td>Добавить страницу отзывов клиентов о магазине, что позволит увеличить количество заказов</td>\n",
       "      <td>4.000</td>\n",
       "      <td>1.333</td>\n",
       "    </tr>\n",
       "    <tr>\n",
       "      <th>4</th>\n",
       "      <td>Изменить цвет фона главной страницы, чтобы увеличить вовлеченность пользователей</td>\n",
       "      <td>3.000</td>\n",
       "      <td>1.000</td>\n",
       "    </tr>\n",
       "  </tbody>\n",
       "</table>\n",
       "</div>"
      ],
      "text/plain": [
       "                                                                                                     Hypothesis  \\\n",
       "7              Добавить форму подписки на все основные страницы, чтобы собрать базу клиентов для email-рассылок   \n",
       "2  Добавить блоки рекомендаций товаров на сайт интернет магазина, чтобы повысить конверсию и средний чек заказа   \n",
       "0            Добавить два новых канала привлечения трафика, что позволит привлекать на 30% больше пользователей   \n",
       "6          Показать на главной странице баннеры с актуальными акциями и распродажами, чтобы увеличить конверсию   \n",
       "8                                                       Запустить акцию, дающую скидку на товар в день рождения   \n",
       "3           Изменить структура категорий, что увеличит конверсию, т.к. пользователи быстрее найдут нужный товар   \n",
       "1                                     Запустить собственную службу доставки, что сократит срок доставки заказов   \n",
       "5                      Добавить страницу отзывов клиентов о магазине, что позволит увеличить количество заказов   \n",
       "4                              Изменить цвет фона главной страницы, чтобы увеличить вовлеченность пользователей   \n",
       "\n",
       "     RICE    ICE  \n",
       "7 112.000 11.200  \n",
       "2  56.000  7.000  \n",
       "0  40.000 13.333  \n",
       "6  40.000  8.000  \n",
       "8  16.200 16.200  \n",
       "3   9.000  1.125  \n",
       "1   4.000  2.000  \n",
       "5   4.000  1.333  \n",
       "4   3.000  1.000  "
      ]
     },
     "metadata": {},
     "output_type": "display_data"
    }
   ],
   "source": [
    "hypothesis_table['RICE'] = round((hypothesis_table['Reach']*hypothesis_table['Impact']*hypothesis_table['Confidence']/hypothesis_table['Efforts']), 3)\n",
    "pd.set_option('display.max_columns', None)\n",
    "pd.options.display.max_colwidth = 150\n",
    "display(hypothesis_table[['Hypothesis','RICE', \"ICE\"]].sort_values(by='RICE', ascending=False))"
   ]
  },
  {
   "cell_type": "markdown",
   "metadata": {},
   "source": [
    "Наиболее перспективны гипотезы:\n",
    "- 7 - Добавить форму подписки на все основные страницы, чтобы собрать базу клиентов для email-рассылок,\n",
    "- 2 - Добавить блоки рекомендаций товаров на сайт интернет магазина, чтобы повысить конверсию и средний чек заказа, \n",
    "- 0 - Добавить два новых канала привлечения трафика, что позволит привлекать на 30% больше пользователей."
   ]
  },
  {
   "cell_type": "markdown",
   "metadata": {},
   "source": [
    "**Вывод**   \n",
    "\n",
    "При применении RICE гипотеза 8 потеряла лидирующую позицию, т.к. охват пользователей у данной гипотезы минимален из всех представленных.    \n",
    "Тогда как гипотеза 2 вошла в топ-3, т.к. имеет один из самых больших охватов пользователей.   \n",
    "Оптимальной выглядит гипотеза 7 - Добавить форму подписки на все основные страницы, чтобы собрать базу клиентов для email-рассылок - самый высокий охват пользователей при высоком уровне влияния и уверенности, а также затратах ресурсов на уровне 50% из максимально возможных."
   ]
  },
  {
   "cell_type": "markdown",
   "metadata": {},
   "source": [
    "## **Часть 2. Анализ A/B теста**\n",
    "<a id='section_2'></a>"
   ]
  },
  {
   "cell_type": "code",
   "execution_count": 5,
   "metadata": {},
   "outputs": [
    {
     "data": {
      "text/html": [
       "<div>\n",
       "<style scoped>\n",
       "    .dataframe tbody tr th:only-of-type {\n",
       "        vertical-align: middle;\n",
       "    }\n",
       "\n",
       "    .dataframe tbody tr th {\n",
       "        vertical-align: top;\n",
       "    }\n",
       "\n",
       "    .dataframe thead th {\n",
       "        text-align: right;\n",
       "    }\n",
       "</style>\n",
       "<table border=\"1\" class=\"dataframe\">\n",
       "  <thead>\n",
       "    <tr style=\"text-align: right;\">\n",
       "      <th></th>\n",
       "      <th>transactionId</th>\n",
       "      <th>visitorId</th>\n",
       "      <th>date</th>\n",
       "      <th>revenue</th>\n",
       "      <th>group</th>\n",
       "    </tr>\n",
       "  </thead>\n",
       "  <tbody>\n",
       "    <tr>\n",
       "      <th>0</th>\n",
       "      <td>3667963787</td>\n",
       "      <td>3312258926</td>\n",
       "      <td>2019-08-15</td>\n",
       "      <td>1650</td>\n",
       "      <td>B</td>\n",
       "    </tr>\n",
       "    <tr>\n",
       "      <th>1</th>\n",
       "      <td>2804400009</td>\n",
       "      <td>3642806036</td>\n",
       "      <td>2019-08-15</td>\n",
       "      <td>730</td>\n",
       "      <td>B</td>\n",
       "    </tr>\n",
       "    <tr>\n",
       "      <th>2</th>\n",
       "      <td>2961555356</td>\n",
       "      <td>4069496402</td>\n",
       "      <td>2019-08-15</td>\n",
       "      <td>400</td>\n",
       "      <td>A</td>\n",
       "    </tr>\n",
       "    <tr>\n",
       "      <th>3</th>\n",
       "      <td>3797467345</td>\n",
       "      <td>1196621759</td>\n",
       "      <td>2019-08-15</td>\n",
       "      <td>9759</td>\n",
       "      <td>B</td>\n",
       "    </tr>\n",
       "    <tr>\n",
       "      <th>4</th>\n",
       "      <td>2282983706</td>\n",
       "      <td>2322279887</td>\n",
       "      <td>2019-08-15</td>\n",
       "      <td>2308</td>\n",
       "      <td>B</td>\n",
       "    </tr>\n",
       "  </tbody>\n",
       "</table>\n",
       "</div>"
      ],
      "text/plain": [
       "   transactionId   visitorId       date  revenue group\n",
       "0     3667963787  3312258926 2019-08-15     1650     B\n",
       "1     2804400009  3642806036 2019-08-15      730     B\n",
       "2     2961555356  4069496402 2019-08-15      400     A\n",
       "3     3797467345  1196621759 2019-08-15     9759     B\n",
       "4     2282983706  2322279887 2019-08-15     2308     B"
      ]
     },
     "metadata": {},
     "output_type": "display_data"
    },
    {
     "data": {
      "text/html": [
       "<div>\n",
       "<style scoped>\n",
       "    .dataframe tbody tr th:only-of-type {\n",
       "        vertical-align: middle;\n",
       "    }\n",
       "\n",
       "    .dataframe tbody tr th {\n",
       "        vertical-align: top;\n",
       "    }\n",
       "\n",
       "    .dataframe thead th {\n",
       "        text-align: right;\n",
       "    }\n",
       "</style>\n",
       "<table border=\"1\" class=\"dataframe\">\n",
       "  <thead>\n",
       "    <tr style=\"text-align: right;\">\n",
       "      <th></th>\n",
       "      <th>date</th>\n",
       "      <th>group</th>\n",
       "      <th>visitors</th>\n",
       "    </tr>\n",
       "  </thead>\n",
       "  <tbody>\n",
       "    <tr>\n",
       "      <th>0</th>\n",
       "      <td>2019-08-01</td>\n",
       "      <td>A</td>\n",
       "      <td>719</td>\n",
       "    </tr>\n",
       "    <tr>\n",
       "      <th>1</th>\n",
       "      <td>2019-08-02</td>\n",
       "      <td>A</td>\n",
       "      <td>619</td>\n",
       "    </tr>\n",
       "    <tr>\n",
       "      <th>2</th>\n",
       "      <td>2019-08-03</td>\n",
       "      <td>A</td>\n",
       "      <td>507</td>\n",
       "    </tr>\n",
       "    <tr>\n",
       "      <th>3</th>\n",
       "      <td>2019-08-04</td>\n",
       "      <td>A</td>\n",
       "      <td>717</td>\n",
       "    </tr>\n",
       "    <tr>\n",
       "      <th>4</th>\n",
       "      <td>2019-08-05</td>\n",
       "      <td>A</td>\n",
       "      <td>756</td>\n",
       "    </tr>\n",
       "  </tbody>\n",
       "</table>\n",
       "</div>"
      ],
      "text/plain": [
       "        date group  visitors\n",
       "0 2019-08-01     A       719\n",
       "1 2019-08-02     A       619\n",
       "2 2019-08-03     A       507\n",
       "3 2019-08-04     A       717\n",
       "4 2019-08-05     A       756"
      ]
     },
     "metadata": {},
     "output_type": "display_data"
    }
   ],
   "source": [
    "orders = pd.read_csv('C_.csv')\n",
    "orders['date'] = orders['date'].map(lambda x: dt.datetime.strptime(x, '%Y-%m-%d'))\n",
    "\n",
    "display(orders.head())\n",
    "\n",
    "visitors = pd.read_csv('_.csv')\n",
    "visitors['date'] = visitors['date'].map(lambda x: dt.datetime.strptime(x, '%Y-%m-%d'))\n",
    "display(visitors.head())"
   ]
  },
  {
   "cell_type": "code",
   "execution_count": 6,
   "metadata": {},
   "outputs": [
    {
     "data": {
      "text/plain": [
       "array(['B', 'A'], dtype=object)"
      ]
     },
     "execution_count": 6,
     "metadata": {},
     "output_type": "execute_result"
    }
   ],
   "source": [
    "orders['group'].unique()"
   ]
  },
  {
   "cell_type": "markdown",
   "metadata": {},
   "source": [
    "В АВ-тесте 2 группы - А и В."
   ]
  },
  {
   "cell_type": "code",
   "execution_count": 7,
   "metadata": {},
   "outputs": [
    {
     "data": {
      "text/plain": [
       "Timestamp('2019-08-01 00:00:00')"
      ]
     },
     "execution_count": 7,
     "metadata": {},
     "output_type": "execute_result"
    }
   ],
   "source": [
    " orders['date'].min()"
   ]
  },
  {
   "cell_type": "markdown",
   "metadata": {},
   "source": [
    "Дата начала теста - 1 августа 2019 года."
   ]
  },
  {
   "cell_type": "code",
   "execution_count": 8,
   "metadata": {},
   "outputs": [
    {
     "data": {
      "text/plain": [
       "Timestamp('2019-08-31 00:00:00')"
      ]
     },
     "execution_count": 8,
     "metadata": {},
     "output_type": "execute_result"
    }
   ],
   "source": [
    "orders['date'].max()"
   ]
  },
  {
   "cell_type": "markdown",
   "metadata": {},
   "source": [
    "Дата окончания теста - 31 августа 2019 года."
   ]
  },
  {
   "cell_type": "code",
   "execution_count": 9,
   "metadata": {},
   "outputs": [
    {
     "data": {
      "text/plain": [
       "503"
      ]
     },
     "execution_count": 9,
     "metadata": {},
     "output_type": "execute_result"
    }
   ],
   "source": [
    "len(orders[orders['group'] == \"A\"]['visitorId'].unique())"
   ]
  },
  {
   "cell_type": "code",
   "execution_count": 10,
   "metadata": {},
   "outputs": [
    {
     "data": {
      "text/plain": [
       "586"
      ]
     },
     "execution_count": 10,
     "metadata": {},
     "output_type": "execute_result"
    }
   ],
   "source": [
    "len(orders[orders['group'] == \"B\"]['visitorId'].unique())"
   ]
  },
  {
   "cell_type": "markdown",
   "metadata": {},
   "source": [
    "В группе А 503 пользователя, а в группе B - 586. "
   ]
  },
  {
   "cell_type": "code",
   "execution_count": 11,
   "metadata": {},
   "outputs": [
    {
     "data": {
      "text/plain": [
       "1031"
      ]
     },
     "execution_count": 11,
     "metadata": {},
     "output_type": "execute_result"
    }
   ],
   "source": [
    "len(orders['visitorId'].unique())"
   ]
  },
  {
   "cell_type": "markdown",
   "metadata": {},
   "source": [
    "Общая сумма уникальных пользователей меньше, чем сумма по группам - из чего можно сделать вывод, что есть пользователи, которые входят и в группу А, и в группу В."
   ]
  },
  {
   "cell_type": "code",
   "execution_count": 12,
   "metadata": {},
   "outputs": [
    {
     "data": {
      "text/plain": [
       "58"
      ]
     },
     "execution_count": 12,
     "metadata": {},
     "output_type": "execute_result"
    }
   ],
   "source": [
    "(orders.groupby('visitorId')['group'].nunique() > 1).sum()"
   ]
  },
  {
   "cell_type": "markdown",
   "metadata": {},
   "source": [
    "### **Кумулятивная выручка по группам.**\n",
    "<a id='section_3'></a>\n",
    " "
   ]
  },
  {
   "cell_type": "code",
   "execution_count": 13,
   "metadata": {},
   "outputs": [
    {
     "data": {
      "text/html": [
       "<div>\n",
       "<style scoped>\n",
       "    .dataframe tbody tr th:only-of-type {\n",
       "        vertical-align: middle;\n",
       "    }\n",
       "\n",
       "    .dataframe tbody tr th {\n",
       "        vertical-align: top;\n",
       "    }\n",
       "\n",
       "    .dataframe thead th {\n",
       "        text-align: right;\n",
       "    }\n",
       "</style>\n",
       "<table border=\"1\" class=\"dataframe\">\n",
       "  <thead>\n",
       "    <tr style=\"text-align: right;\">\n",
       "      <th></th>\n",
       "      <th>date</th>\n",
       "      <th>group</th>\n",
       "      <th>transactionId</th>\n",
       "      <th>visitorId</th>\n",
       "      <th>revenue</th>\n",
       "    </tr>\n",
       "  </thead>\n",
       "  <tbody>\n",
       "    <tr>\n",
       "      <th>55</th>\n",
       "      <td>2019-08-01</td>\n",
       "      <td>A</td>\n",
       "      <td>24</td>\n",
       "      <td>20</td>\n",
       "      <td>148579</td>\n",
       "    </tr>\n",
       "    <tr>\n",
       "      <th>66</th>\n",
       "      <td>2019-08-01</td>\n",
       "      <td>B</td>\n",
       "      <td>21</td>\n",
       "      <td>20</td>\n",
       "      <td>101217</td>\n",
       "    </tr>\n",
       "    <tr>\n",
       "      <th>175</th>\n",
       "      <td>2019-08-02</td>\n",
       "      <td>A</td>\n",
       "      <td>44</td>\n",
       "      <td>38</td>\n",
       "      <td>242401</td>\n",
       "    </tr>\n",
       "    <tr>\n",
       "      <th>173</th>\n",
       "      <td>2019-08-02</td>\n",
       "      <td>B</td>\n",
       "      <td>45</td>\n",
       "      <td>43</td>\n",
       "      <td>266748</td>\n",
       "    </tr>\n",
       "    <tr>\n",
       "      <th>291</th>\n",
       "      <td>2019-08-03</td>\n",
       "      <td>A</td>\n",
       "      <td>68</td>\n",
       "      <td>62</td>\n",
       "      <td>354874</td>\n",
       "    </tr>\n",
       "  </tbody>\n",
       "</table>\n",
       "</div>"
      ],
      "text/plain": [
       "          date group  transactionId  visitorId  revenue\n",
       "55  2019-08-01     A             24         20   148579\n",
       "66  2019-08-01     B             21         20   101217\n",
       "175 2019-08-02     A             44         38   242401\n",
       "173 2019-08-02     B             45         43   266748\n",
       "291 2019-08-03     A             68         62   354874"
      ]
     },
     "metadata": {},
     "output_type": "display_data"
    }
   ],
   "source": [
    "dates_groups = orders[['date', 'group']].drop_duplicates()\n",
    "\n",
    "orders_aggregated = dates_groups.apply(\n",
    "    lambda x: orders[\n",
    "        np.logical_and(\n",
    "            orders['date'] <= x['date'], orders['group'] == x['group']\n",
    "        )\n",
    "    ].agg(\n",
    "        {\n",
    "            'date': 'max', \n",
    "            'group': 'max', \n",
    "            'transactionId': 'nunique', \n",
    "            'visitorId': 'nunique', \n",
    "            'revenue': 'sum'\n",
    "        }\n",
    "    ), axis=1,\n",
    ").sort_values(by=['date', 'group'])\n",
    "\n",
    "display(orders_aggregated.head())"
   ]
  },
  {
   "cell_type": "code",
   "execution_count": 14,
   "metadata": {
    "scrolled": true
   },
   "outputs": [
    {
     "data": {
      "text/html": [
       "<div>\n",
       "<style scoped>\n",
       "    .dataframe tbody tr th:only-of-type {\n",
       "        vertical-align: middle;\n",
       "    }\n",
       "\n",
       "    .dataframe tbody tr th {\n",
       "        vertical-align: top;\n",
       "    }\n",
       "\n",
       "    .dataframe thead th {\n",
       "        text-align: right;\n",
       "    }\n",
       "</style>\n",
       "<table border=\"1\" class=\"dataframe\">\n",
       "  <thead>\n",
       "    <tr style=\"text-align: right;\">\n",
       "      <th></th>\n",
       "      <th>date</th>\n",
       "      <th>group</th>\n",
       "      <th>visitors</th>\n",
       "    </tr>\n",
       "  </thead>\n",
       "  <tbody>\n",
       "    <tr>\n",
       "      <th>55</th>\n",
       "      <td>2019-08-01</td>\n",
       "      <td>A</td>\n",
       "      <td>719</td>\n",
       "    </tr>\n",
       "    <tr>\n",
       "      <th>66</th>\n",
       "      <td>2019-08-01</td>\n",
       "      <td>B</td>\n",
       "      <td>713</td>\n",
       "    </tr>\n",
       "    <tr>\n",
       "      <th>175</th>\n",
       "      <td>2019-08-02</td>\n",
       "      <td>A</td>\n",
       "      <td>1338</td>\n",
       "    </tr>\n",
       "    <tr>\n",
       "      <th>173</th>\n",
       "      <td>2019-08-02</td>\n",
       "      <td>B</td>\n",
       "      <td>1294</td>\n",
       "    </tr>\n",
       "    <tr>\n",
       "      <th>291</th>\n",
       "      <td>2019-08-03</td>\n",
       "      <td>A</td>\n",
       "      <td>1845</td>\n",
       "    </tr>\n",
       "  </tbody>\n",
       "</table>\n",
       "</div>"
      ],
      "text/plain": [
       "          date group  visitors\n",
       "55  2019-08-01     A       719\n",
       "66  2019-08-01     B       713\n",
       "175 2019-08-02     A      1338\n",
       "173 2019-08-02     B      1294\n",
       "291 2019-08-03     A      1845"
      ]
     },
     "metadata": {},
     "output_type": "display_data"
    }
   ],
   "source": [
    "visitors_aggregated = dates_groups.apply(\n",
    "    lambda x: visitors[\n",
    "        np.logical_and(\n",
    "            visitors['date'] <= x['date'], visitors['group'] == x['group']\n",
    "        )\n",
    "    ].agg({'date': 'max', 'group': 'max', 'visitors': 'sum'}),\n",
    "    axis=1,\n",
    ").sort_values(by=['date', 'group'])\n",
    "\n",
    "display(visitors_aggregated.head())"
   ]
  },
  {
   "cell_type": "code",
   "execution_count": 15,
   "metadata": {
    "scrolled": false
   },
   "outputs": [
    {
     "data": {
      "text/html": [
       "<div>\n",
       "<style scoped>\n",
       "    .dataframe tbody tr th:only-of-type {\n",
       "        vertical-align: middle;\n",
       "    }\n",
       "\n",
       "    .dataframe tbody tr th {\n",
       "        vertical-align: top;\n",
       "    }\n",
       "\n",
       "    .dataframe thead th {\n",
       "        text-align: right;\n",
       "    }\n",
       "</style>\n",
       "<table border=\"1\" class=\"dataframe\">\n",
       "  <thead>\n",
       "    <tr style=\"text-align: right;\">\n",
       "      <th></th>\n",
       "      <th>date</th>\n",
       "      <th>group</th>\n",
       "      <th>orders</th>\n",
       "      <th>buyers</th>\n",
       "      <th>revenue</th>\n",
       "      <th>visitors</th>\n",
       "    </tr>\n",
       "  </thead>\n",
       "  <tbody>\n",
       "    <tr>\n",
       "      <th>0</th>\n",
       "      <td>2019-08-01</td>\n",
       "      <td>A</td>\n",
       "      <td>24</td>\n",
       "      <td>20</td>\n",
       "      <td>148579</td>\n",
       "      <td>719</td>\n",
       "    </tr>\n",
       "    <tr>\n",
       "      <th>1</th>\n",
       "      <td>2019-08-01</td>\n",
       "      <td>B</td>\n",
       "      <td>21</td>\n",
       "      <td>20</td>\n",
       "      <td>101217</td>\n",
       "      <td>713</td>\n",
       "    </tr>\n",
       "    <tr>\n",
       "      <th>2</th>\n",
       "      <td>2019-08-02</td>\n",
       "      <td>A</td>\n",
       "      <td>44</td>\n",
       "      <td>38</td>\n",
       "      <td>242401</td>\n",
       "      <td>1338</td>\n",
       "    </tr>\n",
       "    <tr>\n",
       "      <th>3</th>\n",
       "      <td>2019-08-02</td>\n",
       "      <td>B</td>\n",
       "      <td>45</td>\n",
       "      <td>43</td>\n",
       "      <td>266748</td>\n",
       "      <td>1294</td>\n",
       "    </tr>\n",
       "    <tr>\n",
       "      <th>4</th>\n",
       "      <td>2019-08-03</td>\n",
       "      <td>A</td>\n",
       "      <td>68</td>\n",
       "      <td>62</td>\n",
       "      <td>354874</td>\n",
       "      <td>1845</td>\n",
       "    </tr>\n",
       "  </tbody>\n",
       "</table>\n",
       "</div>"
      ],
      "text/plain": [
       "        date group  orders  buyers  revenue  visitors\n",
       "0 2019-08-01     A      24      20   148579       719\n",
       "1 2019-08-01     B      21      20   101217       713\n",
       "2 2019-08-02     A      44      38   242401      1338\n",
       "3 2019-08-02     B      45      43   266748      1294\n",
       "4 2019-08-03     A      68      62   354874      1845"
      ]
     },
     "metadata": {},
     "output_type": "display_data"
    }
   ],
   "source": [
    "cumulative_data = orders_aggregated.merge(\n",
    "    visitors_aggregated, left_on=['date', 'group'], right_on=['date', 'group']\n",
    ")\n",
    "\n",
    "cumulative_data.columns = [\n",
    "    'date',\n",
    "    'group',\n",
    "    'orders',\n",
    "    'buyers',\n",
    "    'revenue',\n",
    "    'visitors'\n",
    "]\n",
    "\n",
    "display(cumulative_data.head())"
   ]
  },
  {
   "cell_type": "code",
   "execution_count": 16,
   "metadata": {
    "scrolled": false
   },
   "outputs": [
    {
     "data": {
      "image/png": "[encoded data removed]",
      "text/plain": [
       "<Figure size 504x504 with 1 Axes>"
      ]
     },
     "metadata": {
      "needs_background": "light"
     },
     "output_type": "display_data"
    }
   ],
   "source": [
    "cumulative_revenue_a = cumulative_data[cumulative_data['group'] == 'A'][['date', 'revenue', 'orders']]\n",
    "\n",
    "cumulative_revenue_b = cumulative_data[cumulative_data['group'] == 'B'][['date', 'revenue', 'orders']]\n",
    "\n",
    "plt.figure(figsize=(7, 7))\n",
    "\n",
    "plt.plot(cumulative_revenue_a['date'], cumulative_revenue_a['revenue'], label='A')\n",
    "\n",
    "plt.plot(cumulative_revenue_b['date'], cumulative_revenue_b['revenue'], label='B')\n",
    "\n",
    "plt.title('Кумулятивная выручка по группам')\n",
    "plt.xlabel('Дата')\n",
    "plt.ylabel('Выручка, млн. руб')\n",
    "plt.xticks(rotation=45) \n",
    "\n",
    "plt.legend()\n",
    "plt.show()"
   ]
  },
  {
   "cell_type": "markdown",
   "metadata": {},
   "source": [
    "По \"неочищенным\" данным группа B лидирует по кумулятивной выручке."
   ]
  },
  {
   "cell_type": "markdown",
   "metadata": {},
   "source": [
    "### **Кумулятивный средний чек по группам.**\n",
    "<a id='section_4'></a>"
   ]
  },
  {
   "cell_type": "code",
   "execution_count": 17,
   "metadata": {
    "scrolled": true
   },
   "outputs": [
    {
     "data": {
      "image/png": "[encoded data removed]",
      "text/plain": [
       "<Figure size 504x504 with 1 Axes>"
      ]
     },
     "metadata": {
      "needs_background": "light"
     },
     "output_type": "display_data"
    }
   ],
   "source": [
    "plt.figure(figsize=(7, 7))\n",
    "\n",
    "plt.plot(cumulative_revenue_a['date'], cumulative_revenue_a['revenue']/cumulative_revenue_a['orders'], label='A')\n",
    "\n",
    "plt.plot(cumulative_revenue_b['date'], cumulative_revenue_b['revenue']/cumulative_revenue_b['orders'], label='B')\n",
    "\n",
    "plt.title('Кумулятивный средний чек по группам')\n",
    "plt.xlabel('Дата')\n",
    "plt.ylabel('Средний чек, руб.')\n",
    "plt.xticks(rotation=45) \n",
    "\n",
    "plt.legend()\n",
    "plt.show()"
   ]
  },
  {
   "cell_type": "markdown",
   "metadata": {},
   "source": [
    "По \"неочищенным\" данным показатель среднего чека по сегментам сильно колеблется."
   ]
  },
  {
   "cell_type": "markdown",
   "metadata": {},
   "source": [
    "### **Изменения кумулятивного среднего чека группы B к группе A.**\n",
    "<a id='section_5'></a>"
   ]
  },
  {
   "cell_type": "code",
   "execution_count": 18,
   "metadata": {
    "scrolled": true
   },
   "outputs": [
    {
     "data": {
      "image/png": "[encoded data removed]",
      "text/plain": [
       "<Figure size 504x504 with 1 Axes>"
      ]
     },
     "metadata": {
      "needs_background": "light"
     },
     "output_type": "display_data"
    }
   ],
   "source": [
    "merged_cumulative_revenue = cumulative_revenue_a.merge(cumulative_revenue_b, left_on='date', right_on='date', how='left', suffixes=['A', 'B'])\n",
    "\n",
    "plt.figure(figsize=(7, 7))\n",
    "\n",
    "plt.plot(\n",
    "    merged_cumulative_revenue['date'],\n",
    "    (merged_cumulative_revenue['revenueB']/merged_cumulative_revenue['ordersB'])/(merged_cumulative_revenue['revenueA']/merged_cumulative_revenue['revenueA'])-1\n",
    ")\n",
    "\n",
    "plt.axhline(y=0, color='black', linestyle='--')\n",
    "plt.axhline(y=10000, color='grey', linestyle='--')\n",
    "\n",
    "plt.title('Изменения кумулятивного среднего чека группы B к группе A.')\n",
    "plt.xlabel('Дата')\n",
    "plt.ylabel('Изменение кумулятивного среднего чека, руб')\n",
    "plt.xticks(rotation=45) \n",
    "\n",
    "plt.show()"
   ]
  },
  {
   "cell_type": "markdown",
   "metadata": {},
   "source": [
    "Судя по графику кумулятивного среднего чека группа B лидирует по этому показателю, но есть значительные вариации, на которые влияют, вероятно, аномально крупные заказы."
   ]
  },
  {
   "cell_type": "markdown",
   "metadata": {},
   "source": [
    "### **Кумулятивная конверсия.**\n",
    "<a id='section_6'></a>"
   ]
  },
  {
   "cell_type": "code",
   "execution_count": 19,
   "metadata": {
    "scrolled": true
   },
   "outputs": [
    {
     "data": {
      "image/png": "[encoded data removed]",
      "text/plain": [
       "<Figure size 504x504 with 1 Axes>"
      ]
     },
     "metadata": {
      "needs_background": "light"
     },
     "output_type": "display_data"
    }
   ],
   "source": [
    "cumulative_data['conversion'] = cumulative_data['orders']/cumulative_data['visitors']\n",
    "\n",
    "cumulative_data_a = cumulative_data[cumulative_data['group'] == 'A']\n",
    "cumulative_data_b = cumulative_data[cumulative_data['group'] == 'B']\n",
    "\n",
    "plt.figure(figsize=(7, 7))\n",
    "plt.plot(cumulative_data_a['date'], cumulative_data_a['conversion'], label='A')\n",
    "plt.plot(cumulative_data_b['date'], cumulative_data_b['conversion'], label='B')\n",
    "\n",
    "plt.title('Кумулятивная конверсия')\n",
    "plt.xlabel('Дата')\n",
    "plt.ylabel('Уровень конверсии')\n",
    "plt.xticks(rotation=45) \n",
    "\n",
    "plt.legend()\n",
    "plt.show()"
   ]
  },
  {
   "cell_type": "markdown",
   "metadata": {},
   "source": [
    "По \"неочищенным\" данным в начале теста конверсия группы B была ниже, но к концу изучаемого периода стала выше, чем в группе А. "
   ]
  },
  {
   "cell_type": "markdown",
   "metadata": {},
   "source": [
    "### **График относительного изменения кумулятивной конверсии группы B к группе A.**\n",
    "<a id='section_7'></a>"
   ]
  },
  {
   "cell_type": "code",
   "execution_count": 20,
   "metadata": {
    "scrolled": true
   },
   "outputs": [
    {
     "data": {
      "image/png": "[encoded data removed]",
      "text/plain": [
       "<Figure size 504x504 with 1 Axes>"
      ]
     },
     "metadata": {
      "needs_background": "light"
     },
     "output_type": "display_data"
    }
   ],
   "source": [
    "merged_cumulative_conversions = cumulative_data_a[['date', 'conversion']].merge(\n",
    "    cumulative_data_b[['date', 'conversion']],\n",
    "    left_on='date',\n",
    "    right_on='date',\n",
    "    how='left',\n",
    "    suffixes=['A', 'B']\n",
    ")\n",
    "\n",
    "plt.figure(figsize=(7, 7))\n",
    "plt.plot(\n",
    "    merged_cumulative_conversions['date'],\n",
    "    merged_cumulative_conversions['conversionB']/merged_cumulative_conversions['conversionA']-1,\n",
    "    label='Относительный прирост конверсии группы В относительно группы А'\n",
    ")\n",
    "\n",
    "plt.axhline(y=0, color='black', linestyle='--')\n",
    "\n",
    "plt.title('График относительного изменения кумулятивной конверсии группы B к группе A')\n",
    "plt.xlabel('Дата')\n",
    "plt.ylabel('Уровень прироста конверсии')\n",
    "plt.xticks(rotation=45) \n",
    "\n",
    "plt.legend()\n",
    "plt.show()"
   ]
  },
  {
   "cell_type": "markdown",
   "metadata": {},
   "source": [
    "Данный график отражает вывод предыдущего пункта: в группе В конверсия на протяжении теста становилась лучше. "
   ]
  },
  {
   "cell_type": "markdown",
   "metadata": {},
   "source": [
    "### **Точечный график количества заказов по пользователям.**\n",
    "<a id='section_8'></a>"
   ]
  },
  {
   "cell_type": "code",
   "execution_count": 21,
   "metadata": {
    "scrolled": true
   },
   "outputs": [
    {
     "data": {
      "image/png": "[encoded data removed]",
      "text/plain": [
       "<Figure size 432x288 with 1 Axes>"
      ]
     },
     "metadata": {
      "needs_background": "light"
     },
     "output_type": "display_data"
    }
   ],
   "source": [
    "orders_by_users = orders.groupby('visitorId', as_index=False).agg({'transactionId': 'nunique'})\n",
    "\n",
    "orders_by_users.columns = ['visitorId', 'orders']\n",
    "\n",
    "x_values = pd.Series(range(0, len(orders_by_users)))\n",
    "\n",
    "plt.scatter(x_values, orders_by_users['orders'])\n",
    "\n",
    "plt.title('Точечный график количества заказов по пользователям')\n",
    "plt.xlabel('Дата')\n",
    "plt.ylabel('Количество заказов, шт.')\n",
    "plt.xticks(rotation=45) \n",
    "\n",
    "plt.show()"
   ]
  },
  {
   "cell_type": "markdown",
   "metadata": {},
   "source": [
    "Большинство пользователей сделало заказ 1 раз."
   ]
  },
  {
   "cell_type": "markdown",
   "metadata": {},
   "source": [
    "### **95-й и 99-й перцентили количества заказов на пользователя.**\n",
    "<a id='section_9'></a>"
   ]
  },
  {
   "cell_type": "code",
   "execution_count": 22,
   "metadata": {},
   "outputs": [
    {
     "data": {
      "text/plain": [
       "array([2., 4.])"
      ]
     },
     "execution_count": 22,
     "metadata": {},
     "output_type": "execute_result"
    }
   ],
   "source": [
    "conversion_percentile = np.percentile(orders_by_users['orders'], [95, 99])\n",
    "conversion_percentile"
   ]
  },
  {
   "cell_type": "markdown",
   "metadata": {},
   "source": [
    "Не более 5 % пользователей совершали больше двух заказов.   \n",
    "и не более одного процента пользователей - больше четырёх заказов."
   ]
  },
  {
   "cell_type": "markdown",
   "metadata": {},
   "source": [
    "### **Точечный график стоимостей заказов.**\n",
    "<a id='section_10'></a>"
   ]
  },
  {
   "cell_type": "code",
   "execution_count": 23,
   "metadata": {
    "scrolled": true
   },
   "outputs": [
    {
     "data": {
      "image/png": "[encoded data removed]",
      "text/plain": [
       "<Figure size 432x288 with 1 Axes>"
      ]
     },
     "metadata": {
      "needs_background": "light"
     },
     "output_type": "display_data"
    }
   ],
   "source": [
    "x_values = pd.Series(range(0, len(orders['revenue'])))\n",
    "\n",
    "plt.scatter(x_values, orders['revenue'])\n",
    "\n",
    "plt.title('Точечный график стоимостей заказа')\n",
    "plt.xlabel('Дата')\n",
    "plt.ylabel('Стоимость заказов, млн.руб')\n",
    "plt.xticks(rotation=45) \n",
    "\n",
    "plt.show()"
   ]
  },
  {
   "cell_type": "markdown",
   "metadata": {},
   "source": [
    "По стоимости заказа есть всего 2 выброса больше 200 тысяч рублей. Самый дорогой заказ мог повлиять на рассчёт показателей по \"неочищенным\" данным и привести к неверным выводам."
   ]
  },
  {
   "cell_type": "code",
   "execution_count": 24,
   "metadata": {},
   "outputs": [
    {
     "data": {
      "image/png": "[encoded data removed]",
      "text/plain": [
       "<Figure size 432x288 with 1 Axes>"
      ]
     },
     "metadata": {
      "needs_background": "light"
     },
     "output_type": "display_data"
    }
   ],
   "source": [
    "orders_till_200000 = orders[orders['revenue'] <= 200000]\n",
    "\n",
    "x_values = pd.Series(range(0, len(orders_till_200000['revenue'])))\n",
    "\n",
    "plt.scatter(x_values, orders_till_200000['revenue'])\n",
    "\n",
    "plt.title('Точечный график стоимостей заказа, стоимостью до 200 тысяч рублей')\n",
    "plt.xlabel('Дата')\n",
    "plt.ylabel('Стоимость заказов, руб')\n",
    "plt.xticks(rotation=45) \n",
    "\n",
    "plt.show()"
   ]
  },
  {
   "cell_type": "markdown",
   "metadata": {},
   "source": [
    "### **95-й и 99-й перцентили стоимости заказов.**\n",
    "<a id='section_11'></a>"
   ]
  },
  {
   "cell_type": "code",
   "execution_count": 25,
   "metadata": {},
   "outputs": [
    {
     "data": {
      "text/plain": [
       "array([28000. , 58233.2])"
      ]
     },
     "execution_count": 25,
     "metadata": {},
     "output_type": "execute_result"
    }
   ],
   "source": [
    "costs_percentile = np.percentile(orders['revenue'], [95, 99])\n",
    "costs_percentile"
   ]
  },
  {
   "cell_type": "markdown",
   "metadata": {},
   "source": [
    "Не больше 5 % пользователей сделали заказы стоимостью свыше 20 тысяч. Не более одного процента - стоимостью выше 58 233 тысячи."
   ]
  },
  {
   "cell_type": "markdown",
   "metadata": {},
   "source": [
    "### **Статистическая значимость различий в конверсии между группами по «сырым» данным.**\n",
    "<a id='section_12'></a>"
   ]
  },
  {
   "cell_type": "markdown",
   "metadata": {},
   "source": [
    "H0: различий в конверсии между группами нет.\n",
    "\n",
    "H1: различия в конверсии между группами есть.\n",
    "\n",
    "Уровень значимости - 5 %."
   ]
  },
  {
   "cell_type": "code",
   "execution_count": 26,
   "metadata": {},
   "outputs": [
    {
     "name": "stdout",
     "output_type": "stream",
     "text": [
      "P-value = 0.017\n",
      "Относительный прирост конверсии группы B к конверсии группы А равен 0.138\n"
     ]
    }
   ],
   "source": [
    "orders_by_users_a =(\n",
    "    orders[orders['group'] == 'A']\n",
    "    .groupby('visitorId', as_index=False)\n",
    "    .agg({'transactionId': pd.Series.nunique})\n",
    ")\n",
    "orders_by_users_a.columns = ['visitorId', 'orders']\n",
    "\n",
    "orders_by_users_b = (\n",
    "    orders[orders['group'] == 'B']\n",
    "    .groupby('visitorId', as_index=False)\n",
    "    .agg({'transactionId': pd.Series.nunique})\n",
    ")\n",
    "orders_by_users_b.columns = ['visitorId', 'orders']\n",
    "\n",
    "sample_a = pd.concat([orders_by_users_a['orders'], pd.Series(0, index=np.arange(visitors[visitors['group'] == 'A']['visitors'].sum() - len(orders_by_users_a['orders'])), name='orders')], axis=0)\n",
    "sample_b = pd.concat([orders_by_users_b['orders'], pd.Series(0, index=np.arange(visitors[visitors['group'] == 'B']['visitors'].sum() - len(orders_by_users_b['orders'])), name='orders')], axis=0)\n",
    "\n",
    "print('P-value =', \"{0:.3f}\".format(stats.mannwhitneyu(sample_a, sample_b)[1]))\n",
    "print('Относительный прирост конверсии группы B к конверсии группы А равен',\"{0:.3f}\".format(sample_b.mean() / sample_a.mean() - 1))"
   ]
  },
  {
   "cell_type": "markdown",
   "metadata": {},
   "source": [
    "P-value меньше 0.05, следовательно отвергаем нулевую гипотезу. Анализ \"неочищенных данных\" свидетельствует, что в конверсии между группами есть статистически значимые различия.    "
   ]
  },
  {
   "cell_type": "markdown",
   "metadata": {},
   "source": [
    "### **Статистическая значимость различий в среднем чеке между группами по «сырым» данным.**\n",
    "<a id='section_13'></a>"
   ]
  },
  {
   "cell_type": "markdown",
   "metadata": {},
   "source": [
    "H0: различий в среднем чеке между группами нет.\n",
    "\n",
    "H1: различия в среднем чеке между группами есть.\n",
    "\n",
    "Уровень значимости - 5 %."
   ]
  },
  {
   "cell_type": "code",
   "execution_count": 27,
   "metadata": {},
   "outputs": [
    {
     "name": "stdout",
     "output_type": "stream",
     "text": [
      "P-value = 0.729\n",
      "Относительное различие среднего чека между сегментами - 0.259\n"
     ]
    }
   ],
   "source": [
    "print(\"P-value = \"'{0:.3f}'.format(stats.mannwhitneyu(orders[orders['group']=='A']['revenue'], orders[orders['group'] == 'B']['revenue'])[1]))\n",
    "\n",
    "print('Относительное различие среднего чека между сегментами - ''{0:.3f}'.format(orders[orders['group'] == 'B']['revenue'].mean()/orders[orders['group'] == 'A']['revenue'].mean()-1))"
   ]
  },
  {
   "cell_type": "markdown",
   "metadata": {},
   "source": [
    "P-value больше 0.05 - статистически значимых отличий в среднем чеке между группами нет.    "
   ]
  },
  {
   "cell_type": "markdown",
   "metadata": {},
   "source": [
    "### **Статистическая значимость различий в конверсии между группами по «очищенным» данным.**\n",
    "<a id='section_14'></a>"
   ]
  },
  {
   "cell_type": "markdown",
   "metadata": {},
   "source": [
    "H0: различий в конверсии между группами нет.\n",
    "\n",
    "H1: различия в конверсии между группами есть.\n",
    "\n",
    "Уровень значимости - 5 %."
   ]
  },
  {
   "cell_type": "code",
   "execution_count": 28,
   "metadata": {
    "scrolled": true
   },
   "outputs": [
    {
     "name": "stdout",
     "output_type": "stream",
     "text": [
      "P-value = 0.010\n",
      "Относительный прирост конверсии группы B к конверсии группы А 0.174\n"
     ]
    }
   ],
   "source": [
    "users_with_many_orders = pd.concat(\n",
    "    [\n",
    "        orders_by_users_a[orders_by_users_a['orders'] > conversion_percentile[0]]['visitorId'],\n",
    "        orders_by_users_b[orders_by_users_b['orders'] > conversion_percentile[0]]['visitorId']\n",
    "    ],\n",
    "    axis=0\n",
    ")\n",
    "\n",
    "users_with_expensive_orders = orders[orders['revenue'] > costs_percentile[1]]['visitorId']\n",
    "\n",
    "ab_normal_users = (\n",
    "    pd.concat([users_with_many_orders, users_with_expensive_orders], axis=0)\n",
    "    .drop_duplicates()\n",
    "    .sort_values()\n",
    ")\n",
    "\n",
    "sample_a_filtered = pd.concat(\n",
    "    [\n",
    "        orders_by_users_a[\n",
    "            np.logical_not(orders_by_users_a['visitorId'].isin(ab_normal_users))\n",
    "        ]['orders'],\n",
    "        pd.Series(\n",
    "        0,\n",
    "        index=np.arange(visitors[visitors['group']=='A']['visitors'].sum() - len(orders_by_users_a['orders'])),\n",
    "        name='orders'\n",
    "        ),\n",
    "    ],\n",
    "    axis=0\n",
    ")\n",
    "\n",
    "sample_b_filtered = pd.concat(\n",
    "    [\n",
    "        orders_by_users_b[\n",
    "            np.logical_not(orders_by_users_b['visitorId'].isin(ab_normal_users))\n",
    "        ]['orders'],\n",
    "        pd.Series(\n",
    "        0,\n",
    "        index=np.arange(visitors[visitors['group']=='B']['visitors'].sum() - len(orders_by_users_b['orders'])),\n",
    "        name='orders'),\n",
    "    ],\n",
    "    axis=0\n",
    ")\n",
    "\n",
    "print(\"P-value = \"'{0:.3f}'.format(stats.mannwhitneyu(sample_a_filtered, sample_b_filtered)[1]))\n",
    "print('Относительный прирост конверсии группы B к конверсии группы А {0:.3f}'.format(sample_b_filtered.mean()/sample_a_filtered.mean()-1))"
   ]
  },
  {
   "cell_type": "markdown",
   "metadata": {},
   "source": [
    "По \"очищенным\" данным P-value меньше 0.05, следовательно отвергаем нулевую гипотезу, в конверсии между группами есть статистически значимые различия.    \n",
    "Относительный прирост конверсии группы B к конверсии группы А больше чем в \"неочищенных\" данных и равен 17.4 %."
   ]
  },
  {
   "cell_type": "markdown",
   "metadata": {},
   "source": [
    "### **Статистическая значимость различий в среднем чеке между группами по «очищенным» данным.**\n",
    "<a id='section_15'></a>"
   ]
  },
  {
   "cell_type": "markdown",
   "metadata": {},
   "source": [
    "H0: различий в среднем чеке между группами нет.\n",
    "\n",
    "H1: различия в среднем чеке между группами есть.\n",
    "\n",
    "Уровень значимости - 5 %."
   ]
  },
  {
   "cell_type": "code",
   "execution_count": 29,
   "metadata": {},
   "outputs": [
    {
     "name": "stdout",
     "output_type": "stream",
     "text": [
      "P-value = 0.798\n",
      "Относительное различие среднего чека между сегментами -0.020\n"
     ]
    }
   ],
   "source": [
    "print('P-value = {0:.3f}'.format(\n",
    "        stats.mannwhitneyu(orders[\n",
    "                np.logical_and(orders['group'] == 'A',\n",
    "                np.logical_not(orders['visitorId'].isin(ab_normal_users)),\n",
    "                )\n",
    "            ]['revenue'],\n",
    "            orders[np.logical_and(orders['group'] == 'B',\n",
    "                np.logical_not(orders['visitorId'].isin(ab_normal_users)),\n",
    "                )\n",
    "            ]['revenue'])[1]))\n",
    "\n",
    "print('Относительное различие среднего чека между сегментами {0:.3f}'.format(\n",
    "        orders[np.logical_and(orders['group'] == 'B',\n",
    "        np.logical_not(orders['visitorId'].isin(ab_normal_users)),\n",
    "        )\n",
    "        ]['revenue'].mean()\n",
    "        / orders[np.logical_and(orders['group'] == 'A',\n",
    "        np.logical_not(orders['visitorId'].isin(ab_normal_users)),\n",
    "        )\n",
    "        ]['revenue'].mean()-1)\n",
    ")"
   ]
  },
  {
   "cell_type": "markdown",
   "metadata": {},
   "source": [
    "По \"очищенным\" данням P-value больше 0.05 - статистически значимых отличий в среднем чеке между группами нет.    \n",
    "Относительное различие среднего чека между сегментами - 2 %. После удаления выбросов оказалось, что средний чек в группе А больше на 2 %."
   ]
  },
  {
   "cell_type": "markdown",
   "metadata": {},
   "source": [
    "### **Выводы, рекомендации.**\n",
    "<a id='section_16'></a>"
   ]
  },
  {
   "cell_type": "markdown",
   "metadata": {},
   "source": [
    "- Есть статистически значимое различие по конверсии между группами как по сырым данным, так и после фильтрации аномалий. \n",
    "\n",
    "- По \"сырым\" и \"очищенным\" данным нет статистически значимых отличий по среднему чеку между группами.\n",
    "\n",
    "- По графику конверсии результаты группы B лучше, но имеются значительные колебания.    \n",
    "\n",
    "- График различия среднего чека положителен, но не имеет стабильной тенденции к росту.   "
   ]
  },
  {
   "cell_type": "markdown",
   "metadata": {},
   "source": [
    "Рекомендации: продолжить тест, чтобы удостовериться, что конверсия группы В стабильно лучше. "
   ]
  }
 ],
 "metadata": {
  "ExecuteTimeLog": [
   {
    "duration": 142,
    "start_time": "2022-05-12T11:41:10.712Z"
   },
   {
    "duration": 129,
    "start_time": "2022-05-12T11:56:57.794Z"
   },
   {
    "duration": 1182,
    "start_time": "2022-05-12T12:04:37.108Z"
   },
   {
    "duration": 37,
    "start_time": "2022-05-12T12:05:44.992Z"
   },
   {
    "duration": 20,
    "start_time": "2022-05-12T12:05:53.477Z"
   },
   {
    "duration": 24,
    "start_time": "2022-05-12T12:19:42.237Z"
   },
   {
    "duration": 24,
    "start_time": "2022-05-12T12:19:49.840Z"
   },
   {
    "duration": 21,
    "start_time": "2022-05-12T12:19:57.339Z"
   },
   {
    "duration": 34,
    "start_time": "2022-05-12T12:24:48.379Z"
   },
   {
    "duration": 21,
    "start_time": "2022-05-12T12:24:54.501Z"
   },
   {
    "duration": 21,
    "start_time": "2022-05-12T12:29:02.197Z"
   },
   {
    "duration": 17,
    "start_time": "2022-05-12T12:29:43.027Z"
   },
   {
    "duration": 16,
    "start_time": "2022-05-12T12:29:54.850Z"
   },
   {
    "duration": 63,
    "start_time": "2022-05-12T13:22:13.367Z"
   },
   {
    "duration": 979,
    "start_time": "2022-05-12T13:22:22.060Z"
   },
   {
    "duration": 73,
    "start_time": "2022-05-12T13:22:23.420Z"
   },
   {
    "duration": 16,
    "start_time": "2022-05-12T13:22:50.658Z"
   },
   {
    "duration": 12,
    "start_time": "2022-05-12T13:23:01.398Z"
   },
   {
    "duration": 12,
    "start_time": "2022-05-12T13:23:10.214Z"
   },
   {
    "duration": 14,
    "start_time": "2022-05-12T13:23:16.758Z"
   },
   {
    "duration": 142,
    "start_time": "2022-05-12T14:17:50.034Z"
   },
   {
    "duration": 1510,
    "start_time": "2022-05-12T14:20:09.212Z"
   },
   {
    "duration": 128,
    "start_time": "2022-05-12T14:22:07.746Z"
   },
   {
    "duration": 155,
    "start_time": "2022-05-12T14:25:33.247Z"
   },
   {
    "duration": 2358,
    "start_time": "2022-05-12T17:40:57.161Z"
   },
   {
    "duration": 99,
    "start_time": "2022-05-12T17:41:20.483Z"
   },
   {
    "duration": 699,
    "start_time": "2022-05-12T17:43:08.956Z"
   },
   {
    "duration": 71,
    "start_time": "2022-05-12T17:43:28.203Z"
   },
   {
    "duration": 89,
    "start_time": "2022-05-12T17:44:56.331Z"
   },
   {
    "duration": 7,
    "start_time": "2022-05-12T17:46:41.220Z"
   },
   {
    "duration": 19,
    "start_time": "2022-05-12T17:58:21.689Z"
   },
   {
    "duration": 15,
    "start_time": "2022-05-12T18:01:14.288Z"
   },
   {
    "duration": 14,
    "start_time": "2022-05-12T18:02:52.281Z"
   },
   {
    "duration": 165,
    "start_time": "2022-05-12T18:03:42.996Z"
   },
   {
    "duration": 618,
    "start_time": "2022-05-19T02:53:01.797Z"
   },
   {
    "duration": 14,
    "start_time": "2022-05-19T02:53:02.417Z"
   },
   {
    "duration": 18,
    "start_time": "2022-05-19T02:53:02.433Z"
   },
   {
    "duration": 981,
    "start_time": "2022-05-19T02:53:02.452Z"
   },
   {
    "duration": 178,
    "start_time": "2022-05-19T02:53:03.435Z"
   },
   {
    "duration": 124,
    "start_time": "2022-05-19T02:53:03.614Z"
   },
   {
    "duration": 12,
    "start_time": "2022-05-19T02:53:03.739Z"
   },
   {
    "duration": 399,
    "start_time": "2022-05-19T02:53:03.753Z"
   },
   {
    "duration": 184,
    "start_time": "2022-05-19T02:53:04.154Z"
   },
   {
    "duration": 312,
    "start_time": "2022-05-19T02:53:04.340Z"
   },
   {
    "duration": 218,
    "start_time": "2022-05-19T02:53:04.654Z"
   },
   {
    "duration": 308,
    "start_time": "2022-05-19T02:53:04.874Z"
   },
   {
    "duration": 120,
    "start_time": "2022-05-19T02:53:05.184Z"
   },
   {
    "duration": 5,
    "start_time": "2022-05-19T02:53:05.306Z"
   },
   {
    "duration": 140,
    "start_time": "2022-05-19T02:53:05.313Z"
   },
   {
    "duration": 5,
    "start_time": "2022-05-19T02:53:05.454Z"
   },
   {
    "duration": 230,
    "start_time": "2022-05-19T02:53:05.461Z"
   },
   {
    "duration": 200,
    "start_time": "2022-05-19T02:53:05.692Z"
   },
   {
    "duration": 10,
    "start_time": "2022-05-19T02:53:05.894Z"
   },
   {
    "duration": 49,
    "start_time": "2022-05-19T02:53:05.906Z"
   },
   {
    "duration": 14,
    "start_time": "2022-05-19T02:53:05.956Z"
   },
   {
    "duration": 14,
    "start_time": "2022-05-19T12:05:31.818Z"
   },
   {
    "duration": 12,
    "start_time": "2022-05-19T12:06:50.747Z"
   },
   {
    "duration": 12,
    "start_time": "2022-05-19T12:10:06.916Z"
   },
   {
    "duration": 46,
    "start_time": "2022-05-19T12:48:44.935Z"
   },
   {
    "duration": 4,
    "start_time": "2022-05-19T12:49:06.158Z"
   },
   {
    "duration": 49,
    "start_time": "2022-05-19T12:49:12.117Z"
   },
   {
    "duration": 6,
    "start_time": "2022-05-19T12:51:55.984Z"
   },
   {
    "duration": 5,
    "start_time": "2022-05-19T12:54:36.019Z"
   },
   {
    "duration": 6,
    "start_time": "2022-05-19T12:55:12.590Z"
   },
   {
    "duration": 4,
    "start_time": "2022-05-19T12:55:30.109Z"
   },
   {
    "duration": 4,
    "start_time": "2022-05-19T12:56:46.719Z"
   },
   {
    "duration": 4,
    "start_time": "2022-05-19T12:57:30.025Z"
   },
   {
    "duration": 4,
    "start_time": "2022-05-19T13:01:44.672Z"
   },
   {
    "duration": 5,
    "start_time": "2022-05-19T13:01:50.541Z"
   },
   {
    "duration": 68,
    "start_time": "2022-05-19T13:03:20.690Z"
   },
   {
    "duration": 9,
    "start_time": "2022-05-19T13:03:29.648Z"
   },
   {
    "duration": 6,
    "start_time": "2022-05-19T13:03:42.681Z"
   },
   {
    "duration": 5,
    "start_time": "2022-05-19T13:10:22.653Z"
   },
   {
    "duration": 10,
    "start_time": "2022-05-19T13:30:49.900Z"
   },
   {
    "duration": 9,
    "start_time": "2022-05-19T13:31:17.384Z"
   },
   {
    "duration": 10,
    "start_time": "2022-05-19T13:32:28.979Z"
   },
   {
    "duration": 42,
    "start_time": "2022-05-19T13:33:05.078Z"
   },
   {
    "duration": 22,
    "start_time": "2022-05-19T13:33:13.605Z"
   },
   {
    "duration": 21,
    "start_time": "2022-05-19T13:33:25.199Z"
   },
   {
    "duration": 11,
    "start_time": "2022-05-19T13:33:35.220Z"
   },
   {
    "duration": 26,
    "start_time": "2022-05-19T13:34:07.152Z"
   },
   {
    "duration": 30,
    "start_time": "2022-05-19T13:34:16.497Z"
   },
   {
    "duration": 29,
    "start_time": "2022-05-19T13:42:56.561Z"
   },
   {
    "duration": 29,
    "start_time": "2022-05-19T13:43:49.527Z"
   },
   {
    "duration": 19,
    "start_time": "2022-05-19T13:46:31.848Z"
   },
   {
    "duration": 5,
    "start_time": "2022-05-19T13:52:27.853Z"
   },
   {
    "duration": 36,
    "start_time": "2022-05-19T14:08:01.397Z"
   },
   {
    "duration": 21,
    "start_time": "2022-05-19T14:10:36.018Z"
   },
   {
    "duration": 31,
    "start_time": "2022-05-19T14:15:29.553Z"
   },
   {
    "duration": 12,
    "start_time": "2022-05-19T14:20:24.790Z"
   },
   {
    "duration": 434,
    "start_time": "2022-05-19T14:20:33.457Z"
   },
   {
    "duration": 14,
    "start_time": "2022-05-19T14:20:33.894Z"
   },
   {
    "duration": 21,
    "start_time": "2022-05-19T14:20:33.911Z"
   },
   {
    "duration": 672,
    "start_time": "2022-05-19T14:20:33.934Z"
   },
   {
    "duration": 46,
    "start_time": "2022-05-19T14:20:34.608Z"
   },
   {
    "duration": 5,
    "start_time": "2022-05-19T14:20:34.656Z"
   },
   {
    "duration": 8,
    "start_time": "2022-05-19T14:20:34.663Z"
   },
   {
    "duration": 6,
    "start_time": "2022-05-19T14:20:34.674Z"
   },
   {
    "duration": 8,
    "start_time": "2022-05-19T14:20:34.682Z"
   },
   {
    "duration": 7,
    "start_time": "2022-05-19T14:20:34.693Z"
   },
   {
    "duration": 8,
    "start_time": "2022-05-19T14:20:34.702Z"
   },
   {
    "duration": 200,
    "start_time": "2022-05-19T14:20:34.727Z"
   },
   {
    "duration": 135,
    "start_time": "2022-05-19T14:20:34.929Z"
   },
   {
    "duration": 11,
    "start_time": "2022-05-19T14:20:35.066Z"
   },
   {
    "duration": 350,
    "start_time": "2022-05-19T14:20:35.079Z"
   },
   {
    "duration": 277,
    "start_time": "2022-05-19T14:20:35.431Z"
   },
   {
    "duration": 317,
    "start_time": "2022-05-19T14:20:35.710Z"
   },
   {
    "duration": 216,
    "start_time": "2022-05-19T14:20:36.029Z"
   },
   {
    "duration": 353,
    "start_time": "2022-05-19T14:20:36.248Z"
   },
   {
    "duration": 110,
    "start_time": "2022-05-19T14:20:36.603Z"
   },
   {
    "duration": 4,
    "start_time": "2022-05-19T14:20:36.715Z"
   },
   {
    "duration": 133,
    "start_time": "2022-05-19T14:20:36.727Z"
   },
   {
    "duration": 5,
    "start_time": "2022-05-19T14:20:36.862Z"
   },
   {
    "duration": 235,
    "start_time": "2022-05-19T14:20:36.868Z"
   },
   {
    "duration": 178,
    "start_time": "2022-05-19T14:20:37.105Z"
   },
   {
    "duration": 12,
    "start_time": "2022-05-19T14:20:37.285Z"
   },
   {
    "duration": 70,
    "start_time": "2022-05-19T14:20:37.299Z"
   },
   {
    "duration": 14,
    "start_time": "2022-05-19T14:20:37.372Z"
   },
   {
    "duration": 211,
    "start_time": "2022-05-19T14:21:17.858Z"
   },
   {
    "duration": 254,
    "start_time": "2022-05-19T14:22:06.295Z"
   },
   {
    "duration": 257,
    "start_time": "2022-05-19T14:23:26.227Z"
   },
   {
    "duration": 301,
    "start_time": "2022-05-19T14:23:40.768Z"
   },
   {
    "duration": 320,
    "start_time": "2022-05-19T14:24:45.716Z"
   },
   {
    "duration": 290,
    "start_time": "2022-05-19T14:25:04.480Z"
   },
   {
    "duration": 337,
    "start_time": "2022-05-19T14:26:13.038Z"
   },
   {
    "duration": 319,
    "start_time": "2022-05-19T14:27:23.151Z"
   },
   {
    "duration": 147,
    "start_time": "2022-05-19T14:29:15.552Z"
   },
   {
    "duration": 148,
    "start_time": "2022-05-19T14:29:19.510Z"
   },
   {
    "duration": 5,
    "start_time": "2022-05-19T14:29:42.959Z"
   },
   {
    "duration": 138,
    "start_time": "2022-05-19T14:31:08.855Z"
   },
   {
    "duration": 219,
    "start_time": "2022-05-19T14:32:17.636Z"
   },
   {
    "duration": 139,
    "start_time": "2022-05-19T14:32:38.181Z"
   },
   {
    "duration": 125,
    "start_time": "2022-05-19T14:32:47.675Z"
   },
   {
    "duration": 112,
    "start_time": "2022-05-19T14:33:44.283Z"
   },
   {
    "duration": 148,
    "start_time": "2022-05-19T14:39:21.062Z"
   },
   {
    "duration": 153,
    "start_time": "2022-05-19T14:39:47.293Z"
   },
   {
    "duration": 6,
    "start_time": "2022-05-19T14:40:00.018Z"
   },
   {
    "duration": 20,
    "start_time": "2022-05-19T14:42:29.326Z"
   },
   {
    "duration": 37,
    "start_time": "2022-05-19T14:43:14.508Z"
   },
   {
    "duration": 26,
    "start_time": "2022-05-19T14:43:49.846Z"
   },
   {
    "duration": 32,
    "start_time": "2022-05-19T14:44:13.553Z"
   },
   {
    "duration": 161,
    "start_time": "2022-05-19T14:44:20.956Z"
   },
   {
    "duration": 165,
    "start_time": "2022-05-19T14:44:57.354Z"
   },
   {
    "duration": 157,
    "start_time": "2022-05-19T14:45:02.512Z"
   },
   {
    "duration": 186,
    "start_time": "2022-05-19T14:46:21.218Z"
   },
   {
    "duration": 34,
    "start_time": "2022-05-19T14:56:25.322Z"
   },
   {
    "duration": 31,
    "start_time": "2022-05-19T14:56:56.915Z"
   },
   {
    "duration": 17,
    "start_time": "2022-05-19T14:58:07.729Z"
   },
   {
    "duration": 15,
    "start_time": "2022-05-19T14:59:40.917Z"
   },
   {
    "duration": 18,
    "start_time": "2022-05-19T15:21:23.684Z"
   },
   {
    "duration": 5,
    "start_time": "2022-05-19T15:23:50.849Z"
   },
   {
    "duration": 5,
    "start_time": "2022-05-19T15:23:59.070Z"
   },
   {
    "duration": 6,
    "start_time": "2022-05-19T15:24:18.434Z"
   },
   {
    "duration": 6,
    "start_time": "2022-05-19T15:24:31.941Z"
   },
   {
    "duration": 47,
    "start_time": "2022-05-19T15:24:39.806Z"
   },
   {
    "duration": 6,
    "start_time": "2022-05-19T15:25:10.485Z"
   },
   {
    "duration": 18,
    "start_time": "2022-05-19T15:26:05.284Z"
   },
   {
    "duration": 6,
    "start_time": "2022-05-19T15:26:56.634Z"
   },
   {
    "duration": 7,
    "start_time": "2022-05-19T15:26:59.959Z"
   },
   {
    "duration": 6,
    "start_time": "2022-05-19T15:27:06.086Z"
   },
   {
    "duration": 44,
    "start_time": "2022-05-19T15:27:12.586Z"
   },
   {
    "duration": 39,
    "start_time": "2022-05-19T15:29:16.781Z"
   },
   {
    "duration": 39,
    "start_time": "2022-05-19T15:29:52.456Z"
   },
   {
    "duration": 13,
    "start_time": "2022-05-19T15:31:36.462Z"
   },
   {
    "duration": 17,
    "start_time": "2022-05-19T15:32:00.017Z"
   },
   {
    "duration": 439,
    "start_time": "2022-05-19T15:53:08.855Z"
   },
   {
    "duration": 19,
    "start_time": "2022-05-19T15:53:09.296Z"
   },
   {
    "duration": 28,
    "start_time": "2022-05-19T15:53:09.316Z"
   },
   {
    "duration": 677,
    "start_time": "2022-05-19T15:53:09.347Z"
   },
   {
    "duration": 54,
    "start_time": "2022-05-19T15:53:10.026Z"
   },
   {
    "duration": 5,
    "start_time": "2022-05-19T15:53:10.082Z"
   },
   {
    "duration": 11,
    "start_time": "2022-05-19T15:53:10.090Z"
   },
   {
    "duration": 12,
    "start_time": "2022-05-19T15:53:10.103Z"
   },
   {
    "duration": 23,
    "start_time": "2022-05-19T15:53:10.118Z"
   },
   {
    "duration": 7,
    "start_time": "2022-05-19T15:53:10.145Z"
   },
   {
    "duration": 24,
    "start_time": "2022-05-19T15:53:10.154Z"
   },
   {
    "duration": 199,
    "start_time": "2022-05-19T15:53:10.180Z"
   },
   {
    "duration": 178,
    "start_time": "2022-05-19T15:53:10.381Z"
   },
   {
    "duration": 17,
    "start_time": "2022-05-19T15:53:10.561Z"
   },
   {
    "duration": 353,
    "start_time": "2022-05-19T15:53:10.580Z"
   },
   {
    "duration": 297,
    "start_time": "2022-05-19T15:53:10.934Z"
   },
   {
    "duration": 331,
    "start_time": "2022-05-19T15:53:11.233Z"
   },
   {
    "duration": 255,
    "start_time": "2022-05-19T15:53:11.565Z"
   },
   {
    "duration": 359,
    "start_time": "2022-05-19T15:53:11.837Z"
   },
   {
    "duration": 159,
    "start_time": "2022-05-19T15:53:12.198Z"
   },
   {
    "duration": 6,
    "start_time": "2022-05-19T15:53:12.361Z"
   },
   {
    "duration": 160,
    "start_time": "2022-05-19T15:53:12.369Z"
   },
   {
    "duration": 161,
    "start_time": "2022-05-19T15:53:12.531Z"
   },
   {
    "duration": 7,
    "start_time": "2022-05-19T15:53:12.694Z"
   },
   {
    "duration": 306,
    "start_time": "2022-05-19T15:53:12.703Z"
   },
   {
    "duration": 0,
    "start_time": "2022-05-19T15:53:13.011Z"
   },
   {
    "duration": 0,
    "start_time": "2022-05-19T15:53:13.013Z"
   },
   {
    "duration": 0,
    "start_time": "2022-05-19T15:53:13.014Z"
   },
   {
    "duration": 181,
    "start_time": "2022-05-19T15:54:02.482Z"
   },
   {
    "duration": 11,
    "start_time": "2022-05-19T15:54:40.062Z"
   },
   {
    "duration": 29,
    "start_time": "2022-05-19T15:56:50.903Z"
   },
   {
    "duration": 27,
    "start_time": "2022-05-19T15:57:04.431Z"
   },
   {
    "duration": 47,
    "start_time": "2022-05-19T15:57:16.617Z"
   },
   {
    "duration": 35,
    "start_time": "2022-05-19T15:58:38.625Z"
   },
   {
    "duration": 219,
    "start_time": "2022-05-19T15:58:43.999Z"
   },
   {
    "duration": 149,
    "start_time": "2022-05-19T15:59:53.379Z"
   },
   {
    "duration": 163,
    "start_time": "2022-05-19T16:00:19.587Z"
   },
   {
    "duration": 162,
    "start_time": "2022-05-19T16:02:13.350Z"
   },
   {
    "duration": 61,
    "start_time": "2022-05-20T08:27:05.109Z"
   },
   {
    "duration": 478,
    "start_time": "2022-05-20T08:27:14.411Z"
   },
   {
    "duration": 16,
    "start_time": "2022-05-20T08:27:14.892Z"
   },
   {
    "duration": 20,
    "start_time": "2022-05-20T08:27:14.910Z"
   },
   {
    "duration": 777,
    "start_time": "2022-05-20T08:27:14.932Z"
   },
   {
    "duration": 84,
    "start_time": "2022-05-20T08:27:15.711Z"
   },
   {
    "duration": 6,
    "start_time": "2022-05-20T08:27:15.797Z"
   },
   {
    "duration": 8,
    "start_time": "2022-05-20T08:27:15.805Z"
   },
   {
    "duration": 7,
    "start_time": "2022-05-20T08:27:15.815Z"
   },
   {
    "duration": 10,
    "start_time": "2022-05-20T08:27:15.824Z"
   },
   {
    "duration": 11,
    "start_time": "2022-05-20T08:27:15.837Z"
   },
   {
    "duration": 9,
    "start_time": "2022-05-20T08:27:15.851Z"
   },
   {
    "duration": 41,
    "start_time": "2022-05-20T08:27:15.862Z"
   },
   {
    "duration": 207,
    "start_time": "2022-05-20T08:27:15.906Z"
   },
   {
    "duration": 164,
    "start_time": "2022-05-20T08:27:16.115Z"
   },
   {
    "duration": 25,
    "start_time": "2022-05-20T08:27:16.281Z"
   },
   {
    "duration": 383,
    "start_time": "2022-05-20T08:27:16.308Z"
   },
   {
    "duration": 299,
    "start_time": "2022-05-20T08:27:16.695Z"
   },
   {
    "duration": 361,
    "start_time": "2022-05-20T08:27:16.996Z"
   },
   {
    "duration": 295,
    "start_time": "2022-05-20T08:27:17.359Z"
   },
   {
    "duration": 410,
    "start_time": "2022-05-20T08:27:17.656Z"
   },
   {
    "duration": 149,
    "start_time": "2022-05-20T08:27:18.068Z"
   },
   {
    "duration": 11,
    "start_time": "2022-05-20T08:27:18.219Z"
   },
   {
    "duration": 263,
    "start_time": "2022-05-20T08:27:18.232Z"
   },
   {
    "duration": 301,
    "start_time": "2022-05-20T08:27:18.497Z"
   },
   {
    "duration": 6,
    "start_time": "2022-05-20T08:27:18.800Z"
   },
   {
    "duration": 325,
    "start_time": "2022-05-20T08:27:18.808Z"
   },
   {
    "duration": 0,
    "start_time": "2022-05-20T08:27:19.135Z"
   },
   {
    "duration": 0,
    "start_time": "2022-05-20T08:27:19.136Z"
   },
   {
    "duration": 0,
    "start_time": "2022-05-20T08:27:19.137Z"
   },
   {
    "duration": 5,
    "start_time": "2022-05-20T08:28:00.100Z"
   },
   {
    "duration": 7,
    "start_time": "2022-05-20T08:28:04.537Z"
   },
   {
    "duration": 8,
    "start_time": "2022-05-20T08:28:09.551Z"
   },
   {
    "duration": 12,
    "start_time": "2022-05-20T08:28:15.911Z"
   },
   {
    "duration": 6,
    "start_time": "2022-05-20T08:28:19.345Z"
   },
   {
    "duration": 178,
    "start_time": "2022-05-20T08:33:51.792Z"
   },
   {
    "duration": 11,
    "start_time": "2022-05-20T08:33:56.989Z"
   },
   {
    "duration": 23,
    "start_time": "2022-05-20T08:33:57.002Z"
   },
   {
    "duration": 0,
    "start_time": "2022-05-20T08:33:57.027Z"
   },
   {
    "duration": 5,
    "start_time": "2022-05-20T08:49:51.888Z"
   },
   {
    "duration": 6,
    "start_time": "2022-05-20T08:49:55.096Z"
   },
   {
    "duration": 10,
    "start_time": "2022-05-20T08:49:58.753Z"
   },
   {
    "duration": 168,
    "start_time": "2022-05-20T08:52:18.358Z"
   },
   {
    "duration": 10,
    "start_time": "2022-05-20T08:54:01.359Z"
   },
   {
    "duration": 18,
    "start_time": "2022-05-20T08:54:06.004Z"
   },
   {
    "duration": 16,
    "start_time": "2022-05-20T08:55:35.006Z"
   },
   {
    "duration": 6,
    "start_time": "2022-05-21T07:19:05.066Z"
   },
   {
    "duration": 163,
    "start_time": "2022-05-21T07:23:44.472Z"
   },
   {
    "duration": 53,
    "start_time": "2022-05-21T07:24:37.064Z"
   },
   {
    "duration": 69,
    "start_time": "2022-05-21T07:26:39.701Z"
   },
   {
    "duration": 52,
    "start_time": "2022-05-21T17:59:32.303Z"
   },
   {
    "duration": 615,
    "start_time": "2022-05-21T17:59:36.111Z"
   },
   {
    "duration": 14,
    "start_time": "2022-05-21T17:59:36.728Z"
   },
   {
    "duration": 13,
    "start_time": "2022-05-21T17:59:36.743Z"
   },
   {
    "duration": 1132,
    "start_time": "2022-05-21T17:59:36.758Z"
   },
   {
    "duration": 212,
    "start_time": "2022-05-21T17:59:37.892Z"
   },
   {
    "duration": 5,
    "start_time": "2022-05-21T17:59:38.106Z"
   },
   {
    "duration": 6,
    "start_time": "2022-05-21T17:59:38.112Z"
   },
   {
    "duration": 5,
    "start_time": "2022-05-21T17:59:38.120Z"
   },
   {
    "duration": 6,
    "start_time": "2022-05-21T17:59:38.126Z"
   },
   {
    "duration": 6,
    "start_time": "2022-05-21T17:59:38.135Z"
   },
   {
    "duration": 4,
    "start_time": "2022-05-21T17:59:38.143Z"
   },
   {
    "duration": 6,
    "start_time": "2022-05-21T17:59:38.148Z"
   },
   {
    "duration": 212,
    "start_time": "2022-05-21T17:59:38.156Z"
   },
   {
    "duration": 148,
    "start_time": "2022-05-21T17:59:38.370Z"
   },
   {
    "duration": 14,
    "start_time": "2022-05-21T17:59:38.520Z"
   },
   {
    "duration": 428,
    "start_time": "2022-05-21T17:59:38.535Z"
   },
   {
    "duration": 213,
    "start_time": "2022-05-21T17:59:38.965Z"
   },
   {
    "duration": 395,
    "start_time": "2022-05-21T17:59:39.180Z"
   },
   {
    "duration": 225,
    "start_time": "2022-05-21T17:59:39.577Z"
   },
   {
    "duration": 357,
    "start_time": "2022-05-21T17:59:39.804Z"
   },
   {
    "duration": 143,
    "start_time": "2022-05-21T17:59:40.163Z"
   },
   {
    "duration": 5,
    "start_time": "2022-05-21T17:59:40.311Z"
   },
   {
    "duration": 198,
    "start_time": "2022-05-21T17:59:40.318Z"
   },
   {
    "duration": 161,
    "start_time": "2022-05-21T17:59:40.518Z"
   },
   {
    "duration": 5,
    "start_time": "2022-05-21T17:59:40.681Z"
   },
   {
    "duration": 188,
    "start_time": "2022-05-21T17:59:40.688Z"
   },
   {
    "duration": 14,
    "start_time": "2022-05-21T17:59:40.878Z"
   },
   {
    "duration": 77,
    "start_time": "2022-05-21T17:59:40.896Z"
   },
   {
    "duration": 17,
    "start_time": "2022-05-21T17:59:40.976Z"
   },
   {
    "duration": 25,
    "start_time": "2022-05-21T17:59:40.994Z"
   },
   {
    "duration": 5,
    "start_time": "2022-05-21T18:00:02.501Z"
   },
   {
    "duration": 86,
    "start_time": "2022-05-21T18:00:29.549Z"
   },
   {
    "duration": 12,
    "start_time": "2022-05-21T18:00:37.293Z"
   },
   {
    "duration": 6,
    "start_time": "2022-05-21T18:00:42.149Z"
   },
   {
    "duration": 5,
    "start_time": "2022-05-21T18:01:41.130Z"
   },
   {
    "duration": 11,
    "start_time": "2022-05-21T18:01:50.009Z"
   },
   {
    "duration": 9,
    "start_time": "2022-05-21T18:02:26.971Z"
   },
   {
    "duration": 4,
    "start_time": "2022-05-21T18:02:39.237Z"
   },
   {
    "duration": 4,
    "start_time": "2022-05-21T18:02:49.514Z"
   },
   {
    "duration": 4,
    "start_time": "2022-05-21T18:13:30.815Z"
   },
   {
    "duration": 8,
    "start_time": "2022-05-21T18:15:04.545Z"
   },
   {
    "duration": 5,
    "start_time": "2022-05-21T18:15:18.140Z"
   },
   {
    "duration": 11,
    "start_time": "2022-05-21T18:17:49.450Z"
   },
   {
    "duration": 5,
    "start_time": "2022-05-21T18:18:05.512Z"
   },
   {
    "duration": 5,
    "start_time": "2022-05-21T18:18:40.312Z"
   }
  ],
  "kernelspec": {
   "display_name": "Python 3 (ipykernel)",
   "language": "python",
   "name": "python3"
  },
  "language_info": {
   "codemirror_mode": {
    "name": "ipython",
    "version": 3
   },
   "file_extension": ".py",
   "mimetype": "text/x-python",
   "name": "python",
   "nbconvert_exporter": "python",
   "pygments_lexer": "ipython3",
   "version": "3.9.12"
  },
  "toc": {
   "base_numbering": 1,
   "nav_menu": {},
   "number_sections": true,
   "sideBar": true,
   "skip_h1_title": true,
   "title_cell": "Table of Contents",
   "title_sidebar": "Contents",
   "toc_cell": false,
   "toc_position": {
    "height": "calc(100% - 180px)",
    "left": "10px",
    "top": "150px",
    "width": "275px"
   },
   "toc_section_display": true,
   "toc_window_display": true
  }
 },
 "nbformat": 4,
 "nbformat_minor": 2
}
