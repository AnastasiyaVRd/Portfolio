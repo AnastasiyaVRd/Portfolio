{
 "cells": [
  {
   "cell_type": "markdown",
   "metadata": {},
   "source": [
    "# Анализ рынка"
   ]
  },
  {
   "cell_type": "markdown",
   "metadata": {},
   "source": [
    "**Описание исследования**   \n",
    "Исследование рынка заведений общественного питания Москвы."
   ]
  },
  {
   "cell_type": "markdown",
   "metadata": {},
   "source": [
    "**Цель исследования**   \n",
    "Подготовить информацию, подтверждающую для инвесторов перспективность открытия оригинального кафе в Москве."
   ]
  },
  {
   "cell_type": "markdown",
   "metadata": {},
   "source": [
    "**Задачи исследования** \n",
    "- Исследовать соотношения разных типов заведений Москвы по нескольким признакам (количество посадочных мест, принадлежность к сети);   \n",
    "- Изучить среднее количество посадочных мест в разных типах заведений Москвы;   \n",
    "- Выделить в отдельный столбец информацию об улице и постройть график топ-10 улиц по количеству объектов общественного питания;  \n",
    "- Сделать общий вывод и дать рекомендации о виде заведения, количестве посадочных мест, а также районе расположения;   \n",
    "- Подготовить презентацию с результатами исследования."
   ]
  },
  {
   "cell_type": "markdown",
   "metadata": {},
   "source": [
    "**СОДЕРЖАНИЕ**      \n",
    "\n",
    "[1. Подготовка данных к анализу.](#section_1)   \n",
    "[2. Анализ данных](#section_2)   \n",
    "[3. Cоотношение видов объектов общественного питания по количеству. График](#section_3)   \n",
    "[4. Соотношение сетевых и несетевых заведений по количеству. График](#section_4)    \n",
    "[5. Для какого вида объекта общественного питания характерно сетевое распространение?](#section_5)   \n",
    "[6. Что характерно для сетевых заведений: много заведений с небольшим числом посадочных мест в каждом или мало заведений с большим количеством посадочных мест?](#section_6)   \n",
    "[7. Среднее количество посадочных мест для каждого вида объекта](#section_7)   \n",
    "[8. Анализ местарасположения](#section_8)   \n",
    "[9. Выводы](#section_10)"
   ]
  },
  {
   "cell_type": "markdown",
   "metadata": {},
   "source": [
    "## **Подготовка данных к анализу.**\n",
    "<a id='section_1'></a>"
   ]
  },
  {
   "cell_type": "code",
   "execution_count": 1,
   "metadata": {},
   "outputs": [],
   "source": [
    "%matplotlib inline\n",
    "import pandas as pd\n",
    "import matplotlib.pyplot as plt\n",
    "import seaborn as sns\n",
    "from io import BytesIO\n",
    "import requests"
   ]
  },
  {
   "cell_type": "code",
   "execution_count": 2,
   "metadata": {},
   "outputs": [
    {
     "name": "stdout",
     "output_type": "stream",
     "text": [
      "<class 'pandas.core.frame.DataFrame'>\n",
      "RangeIndex: 15366 entries, 0 to 15365\n",
      "Data columns (total 6 columns):\n",
      " #   Column       Non-Null Count  Dtype \n",
      "---  ------       --------------  ----- \n",
      " 0   id           15366 non-null  int64 \n",
      " 1   object_name  15366 non-null  object\n",
      " 2   chain        15366 non-null  object\n",
      " 3   object_type  15366 non-null  object\n",
      " 4   address      15366 non-null  object\n",
      " 5   number       15366 non-null  int64 \n",
      "dtypes: int64(2), object(4)\n",
      "memory usage: 720.4+ KB\n"
     ]
    },
    {
     "data": {
      "text/html": [
       "<div>\n",
       "<style scoped>\n",
       "    .dataframe tbody tr th:only-of-type {\n",
       "        vertical-align: middle;\n",
       "    }\n",
       "\n",
       "    .dataframe tbody tr th {\n",
       "        vertical-align: top;\n",
       "    }\n",
       "\n",
       "    .dataframe thead th {\n",
       "        text-align: right;\n",
       "    }\n",
       "</style>\n",
       "<table border=\"1\" class=\"dataframe\">\n",
       "  <thead>\n",
       "    <tr style=\"text-align: right;\">\n",
       "      <th></th>\n",
       "      <th>id</th>\n",
       "      <th>object_name</th>\n",
       "      <th>chain</th>\n",
       "      <th>object_type</th>\n",
       "      <th>address</th>\n",
       "      <th>number</th>\n",
       "    </tr>\n",
       "  </thead>\n",
       "  <tbody>\n",
       "    <tr>\n",
       "      <th>0</th>\n",
       "      <td>151635</td>\n",
       "      <td>СМЕТАНА</td>\n",
       "      <td>нет</td>\n",
       "      <td>кафе</td>\n",
       "      <td>город Москва, улица Егора Абакумова, дом 9</td>\n",
       "      <td>48</td>\n",
       "    </tr>\n",
       "    <tr>\n",
       "      <th>1</th>\n",
       "      <td>77874</td>\n",
       "      <td>Родник</td>\n",
       "      <td>нет</td>\n",
       "      <td>кафе</td>\n",
       "      <td>город Москва, улица Талалихина, дом 2/1, корпус 1</td>\n",
       "      <td>35</td>\n",
       "    </tr>\n",
       "    <tr>\n",
       "      <th>2</th>\n",
       "      <td>24309</td>\n",
       "      <td>Кафе «Академия»</td>\n",
       "      <td>нет</td>\n",
       "      <td>кафе</td>\n",
       "      <td>город Москва, Абельмановская улица, дом 6</td>\n",
       "      <td>95</td>\n",
       "    </tr>\n",
       "    <tr>\n",
       "      <th>3</th>\n",
       "      <td>21894</td>\n",
       "      <td>ПИЦЦЕТОРИЯ</td>\n",
       "      <td>да</td>\n",
       "      <td>кафе</td>\n",
       "      <td>город Москва, Абрамцевская улица, дом 1</td>\n",
       "      <td>40</td>\n",
       "    </tr>\n",
       "    <tr>\n",
       "      <th>4</th>\n",
       "      <td>119365</td>\n",
       "      <td>Кафе «Вишневая метель»</td>\n",
       "      <td>нет</td>\n",
       "      <td>кафе</td>\n",
       "      <td>город Москва, Абрамцевская улица, дом 9, корпус 1</td>\n",
       "      <td>50</td>\n",
       "    </tr>\n",
       "  </tbody>\n",
       "</table>\n",
       "</div>"
      ],
      "text/plain": [
       "       id             object_name chain object_type  \\\n",
       "0  151635                 СМЕТАНА   нет        кафе   \n",
       "1   77874                  Родник   нет        кафе   \n",
       "2   24309         Кафе «Академия»   нет        кафе   \n",
       "3   21894              ПИЦЦЕТОРИЯ    да        кафе   \n",
       "4  119365  Кафе «Вишневая метель»   нет        кафе   \n",
       "\n",
       "                                             address  number  \n",
       "0         город Москва, улица Егора Абакумова, дом 9      48  \n",
       "1  город Москва, улица Талалихина, дом 2/1, корпус 1      35  \n",
       "2          город Москва, Абельмановская улица, дом 6      95  \n",
       "3            город Москва, Абрамцевская улица, дом 1      40  \n",
       "4  город Москва, Абрамцевская улица, дом 9, корпус 1      50  "
      ]
     },
     "execution_count": 2,
     "metadata": {},
     "output_type": "execute_result"
    }
   ],
   "source": [
    "data = pd.read_csv('_.csv')\n",
    "pd.set_option('display.max_columns', None)\n",
    "data.info()\n",
    "data.head()"
   ]
  },
  {
   "cell_type": "markdown",
   "metadata": {},
   "source": [
    "В данных нет пропусков."
   ]
  },
  {
   "cell_type": "code",
   "execution_count": 3,
   "metadata": {},
   "outputs": [
    {
     "data": {
      "text/html": [
       "<div>\n",
       "<style scoped>\n",
       "    .dataframe tbody tr th:only-of-type {\n",
       "        vertical-align: middle;\n",
       "    }\n",
       "\n",
       "    .dataframe tbody tr th {\n",
       "        vertical-align: top;\n",
       "    }\n",
       "\n",
       "    .dataframe thead th {\n",
       "        text-align: right;\n",
       "    }\n",
       "</style>\n",
       "<table border=\"1\" class=\"dataframe\">\n",
       "  <thead>\n",
       "    <tr style=\"text-align: right;\">\n",
       "      <th></th>\n",
       "      <th>id</th>\n",
       "      <th>object_name</th>\n",
       "      <th>chain</th>\n",
       "      <th>object_type</th>\n",
       "      <th>address</th>\n",
       "      <th>number</th>\n",
       "    </tr>\n",
       "  </thead>\n",
       "  <tbody>\n",
       "    <tr>\n",
       "      <th>0</th>\n",
       "      <td>151635</td>\n",
       "      <td>сметана</td>\n",
       "      <td>нет</td>\n",
       "      <td>кафе</td>\n",
       "      <td>город Москва, улица Егора Абакумова, дом 9</td>\n",
       "      <td>48</td>\n",
       "    </tr>\n",
       "    <tr>\n",
       "      <th>1</th>\n",
       "      <td>77874</td>\n",
       "      <td>родник</td>\n",
       "      <td>нет</td>\n",
       "      <td>кафе</td>\n",
       "      <td>город Москва, улица Талалихина, дом 2/1, корпус 1</td>\n",
       "      <td>35</td>\n",
       "    </tr>\n",
       "    <tr>\n",
       "      <th>2</th>\n",
       "      <td>24309</td>\n",
       "      <td>кафе «академия»</td>\n",
       "      <td>нет</td>\n",
       "      <td>кафе</td>\n",
       "      <td>город Москва, Абельмановская улица, дом 6</td>\n",
       "      <td>95</td>\n",
       "    </tr>\n",
       "    <tr>\n",
       "      <th>3</th>\n",
       "      <td>21894</td>\n",
       "      <td>пиццетория</td>\n",
       "      <td>да</td>\n",
       "      <td>кафе</td>\n",
       "      <td>город Москва, Абрамцевская улица, дом 1</td>\n",
       "      <td>40</td>\n",
       "    </tr>\n",
       "    <tr>\n",
       "      <th>4</th>\n",
       "      <td>119365</td>\n",
       "      <td>кафе «вишневая метель»</td>\n",
       "      <td>нет</td>\n",
       "      <td>кафе</td>\n",
       "      <td>город Москва, Абрамцевская улица, дом 9, корпус 1</td>\n",
       "      <td>50</td>\n",
       "    </tr>\n",
       "  </tbody>\n",
       "</table>\n",
       "</div>"
      ],
      "text/plain": [
       "       id             object_name chain object_type  \\\n",
       "0  151635                 сметана   нет        кафе   \n",
       "1   77874                  родник   нет        кафе   \n",
       "2   24309         кафе «академия»   нет        кафе   \n",
       "3   21894              пиццетория    да        кафе   \n",
       "4  119365  кафе «вишневая метель»   нет        кафе   \n",
       "\n",
       "                                             address  number  \n",
       "0         город Москва, улица Егора Абакумова, дом 9      48  \n",
       "1  город Москва, улица Талалихина, дом 2/1, корпус 1      35  \n",
       "2          город Москва, Абельмановская улица, дом 6      95  \n",
       "3            город Москва, Абрамцевская улица, дом 1      40  \n",
       "4  город Москва, Абрамцевская улица, дом 9, корпус 1      50  "
      ]
     },
     "execution_count": 3,
     "metadata": {},
     "output_type": "execute_result"
    }
   ],
   "source": [
    "data['object_name'] = data['object_name'].str.lower()\n",
    "data.head()"
   ]
  },
  {
   "cell_type": "code",
   "execution_count": 4,
   "metadata": {
    "scrolled": true
   },
   "outputs": [
    {
     "name": "stdout",
     "output_type": "stream",
     "text": [
      "<class 'pandas.core.frame.DataFrame'>\n",
      "RangeIndex: 15366 entries, 0 to 15365\n",
      "Data columns (total 6 columns):\n",
      " #   Column       Non-Null Count  Dtype \n",
      "---  ------       --------------  ----- \n",
      " 0   id           15366 non-null  int64 \n",
      " 1   object_name  15366 non-null  object\n",
      " 2   chain        15366 non-null  object\n",
      " 3   object_type  15366 non-null  object\n",
      " 4   address      15366 non-null  object\n",
      " 5   number       15366 non-null  int64 \n",
      "dtypes: int64(2), object(4)\n",
      "memory usage: 720.4+ KB\n"
     ]
    }
   ],
   "source": [
    "data.drop_duplicates()\n",
    "data.info()"
   ]
  },
  {
   "cell_type": "markdown",
   "metadata": {},
   "source": [
    "После удаления дубликатов осталось 15366 строк, значит дубликатов не было."
   ]
  },
  {
   "cell_type": "markdown",
   "metadata": {},
   "source": [
    "## **Анадиз данных**\n",
    "<a id='section_2'></a>"
   ]
  },
  {
   "cell_type": "markdown",
   "metadata": {},
   "source": [
    "###  **Cоотношение видов объектов общественного питания по количеству. График**\n",
    "<a id='section_3'></a>"
   ]
  },
  {
   "cell_type": "code",
   "execution_count": 5,
   "metadata": {},
   "outputs": [
    {
     "data": {
      "text/html": [
       "<div>\n",
       "<style scoped>\n",
       "    .dataframe tbody tr th:only-of-type {\n",
       "        vertical-align: middle;\n",
       "    }\n",
       "\n",
       "    .dataframe tbody tr th {\n",
       "        vertical-align: top;\n",
       "    }\n",
       "\n",
       "    .dataframe thead th {\n",
       "        text-align: right;\n",
       "    }\n",
       "</style>\n",
       "<table border=\"1\" class=\"dataframe\">\n",
       "  <thead>\n",
       "    <tr style=\"text-align: right;\">\n",
       "      <th></th>\n",
       "      <th>object_type</th>\n",
       "      <th>quantity</th>\n",
       "      <th>share</th>\n",
       "    </tr>\n",
       "  </thead>\n",
       "  <tbody>\n",
       "    <tr>\n",
       "      <th>0</th>\n",
       "      <td>кафе</td>\n",
       "      <td>6099</td>\n",
       "      <td>0.397</td>\n",
       "    </tr>\n",
       "    <tr>\n",
       "      <th>1</th>\n",
       "      <td>столовая</td>\n",
       "      <td>2587</td>\n",
       "      <td>0.168</td>\n",
       "    </tr>\n",
       "    <tr>\n",
       "      <th>2</th>\n",
       "      <td>ресторан</td>\n",
       "      <td>2285</td>\n",
       "      <td>0.149</td>\n",
       "    </tr>\n",
       "    <tr>\n",
       "      <th>3</th>\n",
       "      <td>предприятие быстрого обслуживания</td>\n",
       "      <td>1923</td>\n",
       "      <td>0.125</td>\n",
       "    </tr>\n",
       "    <tr>\n",
       "      <th>4</th>\n",
       "      <td>бар</td>\n",
       "      <td>856</td>\n",
       "      <td>0.056</td>\n",
       "    </tr>\n",
       "    <tr>\n",
       "      <th>5</th>\n",
       "      <td>буфет</td>\n",
       "      <td>585</td>\n",
       "      <td>0.038</td>\n",
       "    </tr>\n",
       "    <tr>\n",
       "      <th>6</th>\n",
       "      <td>кафетерий</td>\n",
       "      <td>398</td>\n",
       "      <td>0.026</td>\n",
       "    </tr>\n",
       "    <tr>\n",
       "      <th>7</th>\n",
       "      <td>закусочная</td>\n",
       "      <td>360</td>\n",
       "      <td>0.023</td>\n",
       "    </tr>\n",
       "    <tr>\n",
       "      <th>8</th>\n",
       "      <td>магазин (отдел кулинарии)</td>\n",
       "      <td>273</td>\n",
       "      <td>0.018</td>\n",
       "    </tr>\n",
       "  </tbody>\n",
       "</table>\n",
       "</div>"
      ],
      "text/plain": [
       "                         object_type  quantity  share\n",
       "0                               кафе      6099  0.397\n",
       "1                           столовая      2587  0.168\n",
       "2                           ресторан      2285  0.149\n",
       "3  предприятие быстрого обслуживания      1923  0.125\n",
       "4                                бар       856  0.056\n",
       "5                              буфет       585  0.038\n",
       "6                          кафетерий       398  0.026\n",
       "7                         закусочная       360  0.023\n",
       "8          магазин (отдел кулинарии)       273  0.018"
      ]
     },
     "execution_count": 5,
     "metadata": {},
     "output_type": "execute_result"
    }
   ],
   "source": [
    "data_type = data.pivot_table(index='object_type', values='id', aggfunc='count').sort_values(by='id', ascending=False).reset_index()\n",
    "data_type.columns = ['object_type', 'quantity']\n",
    "data_type['share'] = round(data_type['quantity'] / data_type['quantity'].sum(), 3)\n",
    "data_type"
   ]
  },
  {
   "cell_type": "code",
   "execution_count": 6,
   "metadata": {},
   "outputs": [
    {
     "data": {
      "image/png": "[encoded data removed]",
      "text/plain": [
       "<Figure size 504x504 with 1 Axes>"
      ]
     },
     "metadata": {
      "needs_background": "light"
     },
     "output_type": "display_data"
    }
   ],
   "source": [
    "plt.figure(figsize=(7, 7))\n",
    "col_map = plt.get_cmap('Paired')\n",
    "\n",
    "plt.bar(\n",
    "    x='object_type', \n",
    "    height='share', \n",
    "    data=data_type, \n",
    "    alpha=0.7,\n",
    "    color=col_map.colors, \n",
    "    edgecolor='k'\n",
    ")\n",
    "\n",
    "plt.title('Cоотношение видов объектов общественного питания по количеству')\n",
    "plt.xlabel('Тип объекта общественного питания')\n",
    "plt.ylabel('Соотношение')\n",
    "plt.xticks(rotation=85) \n",
    "plt.grid()\n",
    "\n",
    "plt.savefig('1.png')\n",
    "plt.show()"
   ]
  },
  {
   "cell_type": "markdown",
   "metadata": {},
   "source": [
    "В Москве на момент исследования бОльшая часть заведений относится к типу \"кафе\" - 39.7 % от всех заведений."
   ]
  },
  {
   "cell_type": "markdown",
   "metadata": {},
   "source": [
    "###  **Соотношение сетевых и несетевых заведений по количеству. График**\n",
    "<a id='section_4'></a>"
   ]
  },
  {
   "cell_type": "code",
   "execution_count": 7,
   "metadata": {},
   "outputs": [
    {
     "data": {
      "text/html": [
       "<div>\n",
       "<style scoped>\n",
       "    .dataframe tbody tr th:only-of-type {\n",
       "        vertical-align: middle;\n",
       "    }\n",
       "\n",
       "    .dataframe tbody tr th {\n",
       "        vertical-align: top;\n",
       "    }\n",
       "\n",
       "    .dataframe thead th {\n",
       "        text-align: right;\n",
       "    }\n",
       "</style>\n",
       "<table border=\"1\" class=\"dataframe\">\n",
       "  <thead>\n",
       "    <tr style=\"text-align: right;\">\n",
       "      <th></th>\n",
       "      <th>chain</th>\n",
       "      <th>quantity</th>\n",
       "      <th>share</th>\n",
       "    </tr>\n",
       "  </thead>\n",
       "  <tbody>\n",
       "    <tr>\n",
       "      <th>0</th>\n",
       "      <td>нет</td>\n",
       "      <td>12398</td>\n",
       "      <td>0.807</td>\n",
       "    </tr>\n",
       "    <tr>\n",
       "      <th>1</th>\n",
       "      <td>да</td>\n",
       "      <td>2968</td>\n",
       "      <td>0.193</td>\n",
       "    </tr>\n",
       "  </tbody>\n",
       "</table>\n",
       "</div>"
      ],
      "text/plain": [
       "  chain  quantity  share\n",
       "0   нет     12398  0.807\n",
       "1    да      2968  0.193"
      ]
     },
     "execution_count": 7,
     "metadata": {},
     "output_type": "execute_result"
    }
   ],
   "source": [
    "data_chain = data.pivot_table(index='chain', values='id', aggfunc='count').sort_values(by='id', ascending=False).reset_index()\n",
    "data_chain.columns = ['chain', 'quantity']\n",
    "data_chain['share'] = round(data_chain['quantity'] / data_chain['quantity'].sum(), 3)\n",
    "data_chain"
   ]
  },
  {
   "cell_type": "code",
   "execution_count": 8,
   "metadata": {},
   "outputs": [
    {
     "data": {
      "image/png": "[encoded data removed]",
      "text/plain": [
       "<Figure size 504x504 with 1 Axes>"
      ]
     },
     "metadata": {},
     "output_type": "display_data"
    }
   ],
   "source": [
    "plt.figure(figsize=(7, 7))\n",
    "\n",
    "plt.pie(\n",
    "    x='share',  \n",
    "    data=data_chain, \n",
    "    autopct='%1.1f%%',\n",
    "    shadow=True, \n",
    "    startangle=90\n",
    ")\n",
    "\n",
    "plt.title('Соотношение сетевых и несетевых заведений по количеству')\n",
    "plt.xlabel('Принадлежность к сети')\n",
    "plt.ylabel('Соотношение')\n",
    "plt.xticks(rotation=85) \n",
    "plt.grid()\n",
    "\n",
    "plt.savefig('2.png')\n",
    "plt.show()"
   ]
  },
  {
   "cell_type": "markdown",
   "metadata": {},
   "source": [
    "19 % ресторанов Москвы на момент сбора информации сетевые."
   ]
  },
  {
   "cell_type": "markdown",
   "metadata": {},
   "source": [
    "###  **Для какого вида объекта общественного питания характерно сетевое распространение?**\n",
    "<a id='section_5'></a>"
   ]
  },
  {
   "cell_type": "code",
   "execution_count": 9,
   "metadata": {
    "scrolled": true
   },
   "outputs": [
    {
     "data": {
      "text/html": [
       "<div>\n",
       "<style scoped>\n",
       "    .dataframe tbody tr th:only-of-type {\n",
       "        vertical-align: middle;\n",
       "    }\n",
       "\n",
       "    .dataframe tbody tr th {\n",
       "        vertical-align: top;\n",
       "    }\n",
       "\n",
       "    .dataframe thead th {\n",
       "        text-align: right;\n",
       "    }\n",
       "</style>\n",
       "<table border=\"1\" class=\"dataframe\">\n",
       "  <thead>\n",
       "    <tr style=\"text-align: right;\">\n",
       "      <th></th>\n",
       "      <th>object_type</th>\n",
       "      <th>chain</th>\n",
       "      <th>id</th>\n",
       "    </tr>\n",
       "  </thead>\n",
       "  <tbody>\n",
       "    <tr>\n",
       "      <th>0</th>\n",
       "      <td>бар</td>\n",
       "      <td>да</td>\n",
       "      <td>4806907</td>\n",
       "    </tr>\n",
       "    <tr>\n",
       "      <th>1</th>\n",
       "      <td>бар</td>\n",
       "      <td>нет</td>\n",
       "      <td>116355855</td>\n",
       "    </tr>\n",
       "    <tr>\n",
       "      <th>2</th>\n",
       "      <td>буфет</td>\n",
       "      <td>да</td>\n",
       "      <td>1874466</td>\n",
       "    </tr>\n",
       "    <tr>\n",
       "      <th>3</th>\n",
       "      <td>буфет</td>\n",
       "      <td>нет</td>\n",
       "      <td>37793575</td>\n",
       "    </tr>\n",
       "    <tr>\n",
       "      <th>4</th>\n",
       "      <td>закусочная</td>\n",
       "      <td>да</td>\n",
       "      <td>8257583</td>\n",
       "    </tr>\n",
       "    <tr>\n",
       "      <th>5</th>\n",
       "      <td>закусочная</td>\n",
       "      <td>нет</td>\n",
       "      <td>53245363</td>\n",
       "    </tr>\n",
       "    <tr>\n",
       "      <th>6</th>\n",
       "      <td>кафе</td>\n",
       "      <td>да</td>\n",
       "      <td>160789883</td>\n",
       "    </tr>\n",
       "    <tr>\n",
       "      <th>7</th>\n",
       "      <td>кафе</td>\n",
       "      <td>нет</td>\n",
       "      <td>645393824</td>\n",
       "    </tr>\n",
       "    <tr>\n",
       "      <th>8</th>\n",
       "      <td>кафетерий</td>\n",
       "      <td>да</td>\n",
       "      <td>9054576</td>\n",
       "    </tr>\n",
       "    <tr>\n",
       "      <th>9</th>\n",
       "      <td>кафетерий</td>\n",
       "      <td>нет</td>\n",
       "      <td>59510241</td>\n",
       "    </tr>\n",
       "    <tr>\n",
       "      <th>10</th>\n",
       "      <td>магазин (отдел кулинарии)</td>\n",
       "      <td>да</td>\n",
       "      <td>13409322</td>\n",
       "    </tr>\n",
       "    <tr>\n",
       "      <th>11</th>\n",
       "      <td>магазин (отдел кулинарии)</td>\n",
       "      <td>нет</td>\n",
       "      <td>33596637</td>\n",
       "    </tr>\n",
       "    <tr>\n",
       "      <th>12</th>\n",
       "      <td>предприятие быстрого обслуживания</td>\n",
       "      <td>да</td>\n",
       "      <td>100545063</td>\n",
       "    </tr>\n",
       "    <tr>\n",
       "      <th>13</th>\n",
       "      <td>предприятие быстрого обслуживания</td>\n",
       "      <td>нет</td>\n",
       "      <td>197733789</td>\n",
       "    </tr>\n",
       "    <tr>\n",
       "      <th>14</th>\n",
       "      <td>ресторан</td>\n",
       "      <td>да</td>\n",
       "      <td>51855874</td>\n",
       "    </tr>\n",
       "    <tr>\n",
       "      <th>15</th>\n",
       "      <td>ресторан</td>\n",
       "      <td>нет</td>\n",
       "      <td>195676511</td>\n",
       "    </tr>\n",
       "    <tr>\n",
       "      <th>16</th>\n",
       "      <td>столовая</td>\n",
       "      <td>да</td>\n",
       "      <td>204267</td>\n",
       "    </tr>\n",
       "    <tr>\n",
       "      <th>17</th>\n",
       "      <td>столовая</td>\n",
       "      <td>нет</td>\n",
       "      <td>149514812</td>\n",
       "    </tr>\n",
       "  </tbody>\n",
       "</table>\n",
       "</div>"
      ],
      "text/plain": [
       "                          object_type chain         id\n",
       "0                                 бар    да    4806907\n",
       "1                                 бар   нет  116355855\n",
       "2                               буфет    да    1874466\n",
       "3                               буфет   нет   37793575\n",
       "4                          закусочная    да    8257583\n",
       "5                          закусочная   нет   53245363\n",
       "6                                кафе    да  160789883\n",
       "7                                кафе   нет  645393824\n",
       "8                           кафетерий    да    9054576\n",
       "9                           кафетерий   нет   59510241\n",
       "10          магазин (отдел кулинарии)    да   13409322\n",
       "11          магазин (отдел кулинарии)   нет   33596637\n",
       "12  предприятие быстрого обслуживания    да  100545063\n",
       "13  предприятие быстрого обслуживания   нет  197733789\n",
       "14                           ресторан    да   51855874\n",
       "15                           ресторан   нет  195676511\n",
       "16                           столовая    да     204267\n",
       "17                           столовая   нет  149514812"
      ]
     },
     "execution_count": 9,
     "metadata": {},
     "output_type": "execute_result"
    }
   ],
   "source": [
    "data_grouped_with_chain = data.groupby(['object_type', 'chain'], as_index=False).agg({'id': 'sum'})\n",
    "data_grouped_with_chain"
   ]
  },
  {
   "cell_type": "code",
   "execution_count": 10,
   "metadata": {
    "scrolled": true
   },
   "outputs": [
    {
     "data": {
      "text/html": [
       "<div>\n",
       "<style scoped>\n",
       "    .dataframe tbody tr th:only-of-type {\n",
       "        vertical-align: middle;\n",
       "    }\n",
       "\n",
       "    .dataframe tbody tr th {\n",
       "        vertical-align: top;\n",
       "    }\n",
       "\n",
       "    .dataframe thead th {\n",
       "        text-align: right;\n",
       "    }\n",
       "</style>\n",
       "<table border=\"1\" class=\"dataframe\">\n",
       "  <thead>\n",
       "    <tr style=\"text-align: right;\">\n",
       "      <th></th>\n",
       "      <th>object_type</th>\n",
       "      <th>id</th>\n",
       "    </tr>\n",
       "  </thead>\n",
       "  <tbody>\n",
       "    <tr>\n",
       "      <th>0</th>\n",
       "      <td>бар</td>\n",
       "      <td>121162762</td>\n",
       "    </tr>\n",
       "    <tr>\n",
       "      <th>1</th>\n",
       "      <td>буфет</td>\n",
       "      <td>39668041</td>\n",
       "    </tr>\n",
       "    <tr>\n",
       "      <th>2</th>\n",
       "      <td>закусочная</td>\n",
       "      <td>61502946</td>\n",
       "    </tr>\n",
       "    <tr>\n",
       "      <th>3</th>\n",
       "      <td>кафе</td>\n",
       "      <td>806183707</td>\n",
       "    </tr>\n",
       "    <tr>\n",
       "      <th>4</th>\n",
       "      <td>кафетерий</td>\n",
       "      <td>68564817</td>\n",
       "    </tr>\n",
       "    <tr>\n",
       "      <th>5</th>\n",
       "      <td>магазин (отдел кулинарии)</td>\n",
       "      <td>47005959</td>\n",
       "    </tr>\n",
       "    <tr>\n",
       "      <th>6</th>\n",
       "      <td>предприятие быстрого обслуживания</td>\n",
       "      <td>298278852</td>\n",
       "    </tr>\n",
       "    <tr>\n",
       "      <th>7</th>\n",
       "      <td>ресторан</td>\n",
       "      <td>247532385</td>\n",
       "    </tr>\n",
       "    <tr>\n",
       "      <th>8</th>\n",
       "      <td>столовая</td>\n",
       "      <td>149719079</td>\n",
       "    </tr>\n",
       "  </tbody>\n",
       "</table>\n",
       "</div>"
      ],
      "text/plain": [
       "                         object_type         id\n",
       "0                                бар  121162762\n",
       "1                              буфет   39668041\n",
       "2                         закусочная   61502946\n",
       "3                               кафе  806183707\n",
       "4                          кафетерий   68564817\n",
       "5          магазин (отдел кулинарии)   47005959\n",
       "6  предприятие быстрого обслуживания  298278852\n",
       "7                           ресторан  247532385\n",
       "8                           столовая  149719079"
      ]
     },
     "execution_count": 10,
     "metadata": {},
     "output_type": "execute_result"
    }
   ],
   "source": [
    "data_grouped_without_chain = data.groupby('object_type', as_index=False).agg({'id': 'sum'})\n",
    "data_grouped_without_chain"
   ]
  },
  {
   "cell_type": "code",
   "execution_count": 11,
   "metadata": {
    "scrolled": true
   },
   "outputs": [
    {
     "data": {
      "text/html": [
       "<div>\n",
       "<style scoped>\n",
       "    .dataframe tbody tr th:only-of-type {\n",
       "        vertical-align: middle;\n",
       "    }\n",
       "\n",
       "    .dataframe tbody tr th {\n",
       "        vertical-align: top;\n",
       "    }\n",
       "\n",
       "    .dataframe thead th {\n",
       "        text-align: right;\n",
       "    }\n",
       "</style>\n",
       "<table border=\"1\" class=\"dataframe\">\n",
       "  <thead>\n",
       "    <tr style=\"text-align: right;\">\n",
       "      <th></th>\n",
       "      <th>object_type</th>\n",
       "      <th>chain</th>\n",
       "      <th>id_x</th>\n",
       "      <th>id_y</th>\n",
       "    </tr>\n",
       "  </thead>\n",
       "  <tbody>\n",
       "    <tr>\n",
       "      <th>0</th>\n",
       "      <td>бар</td>\n",
       "      <td>да</td>\n",
       "      <td>4806907</td>\n",
       "      <td>121162762</td>\n",
       "    </tr>\n",
       "    <tr>\n",
       "      <th>1</th>\n",
       "      <td>бар</td>\n",
       "      <td>нет</td>\n",
       "      <td>116355855</td>\n",
       "      <td>121162762</td>\n",
       "    </tr>\n",
       "    <tr>\n",
       "      <th>2</th>\n",
       "      <td>буфет</td>\n",
       "      <td>да</td>\n",
       "      <td>1874466</td>\n",
       "      <td>39668041</td>\n",
       "    </tr>\n",
       "    <tr>\n",
       "      <th>3</th>\n",
       "      <td>буфет</td>\n",
       "      <td>нет</td>\n",
       "      <td>37793575</td>\n",
       "      <td>39668041</td>\n",
       "    </tr>\n",
       "    <tr>\n",
       "      <th>4</th>\n",
       "      <td>закусочная</td>\n",
       "      <td>да</td>\n",
       "      <td>8257583</td>\n",
       "      <td>61502946</td>\n",
       "    </tr>\n",
       "    <tr>\n",
       "      <th>5</th>\n",
       "      <td>закусочная</td>\n",
       "      <td>нет</td>\n",
       "      <td>53245363</td>\n",
       "      <td>61502946</td>\n",
       "    </tr>\n",
       "    <tr>\n",
       "      <th>6</th>\n",
       "      <td>кафе</td>\n",
       "      <td>да</td>\n",
       "      <td>160789883</td>\n",
       "      <td>806183707</td>\n",
       "    </tr>\n",
       "    <tr>\n",
       "      <th>7</th>\n",
       "      <td>кафе</td>\n",
       "      <td>нет</td>\n",
       "      <td>645393824</td>\n",
       "      <td>806183707</td>\n",
       "    </tr>\n",
       "    <tr>\n",
       "      <th>8</th>\n",
       "      <td>кафетерий</td>\n",
       "      <td>да</td>\n",
       "      <td>9054576</td>\n",
       "      <td>68564817</td>\n",
       "    </tr>\n",
       "    <tr>\n",
       "      <th>9</th>\n",
       "      <td>кафетерий</td>\n",
       "      <td>нет</td>\n",
       "      <td>59510241</td>\n",
       "      <td>68564817</td>\n",
       "    </tr>\n",
       "    <tr>\n",
       "      <th>10</th>\n",
       "      <td>магазин (отдел кулинарии)</td>\n",
       "      <td>да</td>\n",
       "      <td>13409322</td>\n",
       "      <td>47005959</td>\n",
       "    </tr>\n",
       "    <tr>\n",
       "      <th>11</th>\n",
       "      <td>магазин (отдел кулинарии)</td>\n",
       "      <td>нет</td>\n",
       "      <td>33596637</td>\n",
       "      <td>47005959</td>\n",
       "    </tr>\n",
       "    <tr>\n",
       "      <th>12</th>\n",
       "      <td>предприятие быстрого обслуживания</td>\n",
       "      <td>да</td>\n",
       "      <td>100545063</td>\n",
       "      <td>298278852</td>\n",
       "    </tr>\n",
       "    <tr>\n",
       "      <th>13</th>\n",
       "      <td>предприятие быстрого обслуживания</td>\n",
       "      <td>нет</td>\n",
       "      <td>197733789</td>\n",
       "      <td>298278852</td>\n",
       "    </tr>\n",
       "    <tr>\n",
       "      <th>14</th>\n",
       "      <td>ресторан</td>\n",
       "      <td>да</td>\n",
       "      <td>51855874</td>\n",
       "      <td>247532385</td>\n",
       "    </tr>\n",
       "    <tr>\n",
       "      <th>15</th>\n",
       "      <td>ресторан</td>\n",
       "      <td>нет</td>\n",
       "      <td>195676511</td>\n",
       "      <td>247532385</td>\n",
       "    </tr>\n",
       "    <tr>\n",
       "      <th>16</th>\n",
       "      <td>столовая</td>\n",
       "      <td>да</td>\n",
       "      <td>204267</td>\n",
       "      <td>149719079</td>\n",
       "    </tr>\n",
       "    <tr>\n",
       "      <th>17</th>\n",
       "      <td>столовая</td>\n",
       "      <td>нет</td>\n",
       "      <td>149514812</td>\n",
       "      <td>149719079</td>\n",
       "    </tr>\n",
       "  </tbody>\n",
       "</table>\n",
       "</div>"
      ],
      "text/plain": [
       "                          object_type chain       id_x       id_y\n",
       "0                                 бар    да    4806907  121162762\n",
       "1                                 бар   нет  116355855  121162762\n",
       "2                               буфет    да    1874466   39668041\n",
       "3                               буфет   нет   37793575   39668041\n",
       "4                          закусочная    да    8257583   61502946\n",
       "5                          закусочная   нет   53245363   61502946\n",
       "6                                кафе    да  160789883  806183707\n",
       "7                                кафе   нет  645393824  806183707\n",
       "8                           кафетерий    да    9054576   68564817\n",
       "9                           кафетерий   нет   59510241   68564817\n",
       "10          магазин (отдел кулинарии)    да   13409322   47005959\n",
       "11          магазин (отдел кулинарии)   нет   33596637   47005959\n",
       "12  предприятие быстрого обслуживания    да  100545063  298278852\n",
       "13  предприятие быстрого обслуживания   нет  197733789  298278852\n",
       "14                           ресторан    да   51855874  247532385\n",
       "15                           ресторан   нет  195676511  247532385\n",
       "16                           столовая    да     204267  149719079\n",
       "17                           столовая   нет  149514812  149719079"
      ]
     },
     "execution_count": 11,
     "metadata": {},
     "output_type": "execute_result"
    }
   ],
   "source": [
    "data_grouped = data_grouped_with_chain.merge(data_grouped_without_chain, left_on='object_type', right_on='object_type')\n",
    "data_grouped"
   ]
  },
  {
   "cell_type": "code",
   "execution_count": 12,
   "metadata": {},
   "outputs": [
    {
     "data": {
      "text/html": [
       "<div>\n",
       "<style scoped>\n",
       "    .dataframe tbody tr th:only-of-type {\n",
       "        vertical-align: middle;\n",
       "    }\n",
       "\n",
       "    .dataframe tbody tr th {\n",
       "        vertical-align: top;\n",
       "    }\n",
       "\n",
       "    .dataframe thead th {\n",
       "        text-align: right;\n",
       "    }\n",
       "</style>\n",
       "<table border=\"1\" class=\"dataframe\">\n",
       "  <thead>\n",
       "    <tr style=\"text-align: right;\">\n",
       "      <th></th>\n",
       "      <th>object_type</th>\n",
       "      <th>chain</th>\n",
       "      <th>id_x</th>\n",
       "      <th>id_y</th>\n",
       "      <th>share</th>\n",
       "    </tr>\n",
       "  </thead>\n",
       "  <tbody>\n",
       "    <tr>\n",
       "      <th>0</th>\n",
       "      <td>бар</td>\n",
       "      <td>да</td>\n",
       "      <td>4806907</td>\n",
       "      <td>121162762</td>\n",
       "      <td>0.04</td>\n",
       "    </tr>\n",
       "    <tr>\n",
       "      <th>1</th>\n",
       "      <td>бар</td>\n",
       "      <td>нет</td>\n",
       "      <td>116355855</td>\n",
       "      <td>121162762</td>\n",
       "      <td>0.96</td>\n",
       "    </tr>\n",
       "    <tr>\n",
       "      <th>2</th>\n",
       "      <td>буфет</td>\n",
       "      <td>да</td>\n",
       "      <td>1874466</td>\n",
       "      <td>39668041</td>\n",
       "      <td>0.05</td>\n",
       "    </tr>\n",
       "    <tr>\n",
       "      <th>3</th>\n",
       "      <td>буфет</td>\n",
       "      <td>нет</td>\n",
       "      <td>37793575</td>\n",
       "      <td>39668041</td>\n",
       "      <td>0.95</td>\n",
       "    </tr>\n",
       "    <tr>\n",
       "      <th>4</th>\n",
       "      <td>закусочная</td>\n",
       "      <td>да</td>\n",
       "      <td>8257583</td>\n",
       "      <td>61502946</td>\n",
       "      <td>0.13</td>\n",
       "    </tr>\n",
       "    <tr>\n",
       "      <th>5</th>\n",
       "      <td>закусочная</td>\n",
       "      <td>нет</td>\n",
       "      <td>53245363</td>\n",
       "      <td>61502946</td>\n",
       "      <td>0.87</td>\n",
       "    </tr>\n",
       "    <tr>\n",
       "      <th>6</th>\n",
       "      <td>кафе</td>\n",
       "      <td>да</td>\n",
       "      <td>160789883</td>\n",
       "      <td>806183707</td>\n",
       "      <td>0.20</td>\n",
       "    </tr>\n",
       "    <tr>\n",
       "      <th>7</th>\n",
       "      <td>кафе</td>\n",
       "      <td>нет</td>\n",
       "      <td>645393824</td>\n",
       "      <td>806183707</td>\n",
       "      <td>0.80</td>\n",
       "    </tr>\n",
       "    <tr>\n",
       "      <th>8</th>\n",
       "      <td>кафетерий</td>\n",
       "      <td>да</td>\n",
       "      <td>9054576</td>\n",
       "      <td>68564817</td>\n",
       "      <td>0.13</td>\n",
       "    </tr>\n",
       "    <tr>\n",
       "      <th>9</th>\n",
       "      <td>кафетерий</td>\n",
       "      <td>нет</td>\n",
       "      <td>59510241</td>\n",
       "      <td>68564817</td>\n",
       "      <td>0.87</td>\n",
       "    </tr>\n",
       "    <tr>\n",
       "      <th>10</th>\n",
       "      <td>магазин (отдел кулинарии)</td>\n",
       "      <td>да</td>\n",
       "      <td>13409322</td>\n",
       "      <td>47005959</td>\n",
       "      <td>0.29</td>\n",
       "    </tr>\n",
       "    <tr>\n",
       "      <th>11</th>\n",
       "      <td>магазин (отдел кулинарии)</td>\n",
       "      <td>нет</td>\n",
       "      <td>33596637</td>\n",
       "      <td>47005959</td>\n",
       "      <td>0.71</td>\n",
       "    </tr>\n",
       "    <tr>\n",
       "      <th>12</th>\n",
       "      <td>предприятие быстрого обслуживания</td>\n",
       "      <td>да</td>\n",
       "      <td>100545063</td>\n",
       "      <td>298278852</td>\n",
       "      <td>0.34</td>\n",
       "    </tr>\n",
       "    <tr>\n",
       "      <th>13</th>\n",
       "      <td>предприятие быстрого обслуживания</td>\n",
       "      <td>нет</td>\n",
       "      <td>197733789</td>\n",
       "      <td>298278852</td>\n",
       "      <td>0.66</td>\n",
       "    </tr>\n",
       "    <tr>\n",
       "      <th>14</th>\n",
       "      <td>ресторан</td>\n",
       "      <td>да</td>\n",
       "      <td>51855874</td>\n",
       "      <td>247532385</td>\n",
       "      <td>0.21</td>\n",
       "    </tr>\n",
       "    <tr>\n",
       "      <th>15</th>\n",
       "      <td>ресторан</td>\n",
       "      <td>нет</td>\n",
       "      <td>195676511</td>\n",
       "      <td>247532385</td>\n",
       "      <td>0.79</td>\n",
       "    </tr>\n",
       "    <tr>\n",
       "      <th>16</th>\n",
       "      <td>столовая</td>\n",
       "      <td>да</td>\n",
       "      <td>204267</td>\n",
       "      <td>149719079</td>\n",
       "      <td>0.00</td>\n",
       "    </tr>\n",
       "    <tr>\n",
       "      <th>17</th>\n",
       "      <td>столовая</td>\n",
       "      <td>нет</td>\n",
       "      <td>149514812</td>\n",
       "      <td>149719079</td>\n",
       "      <td>1.00</td>\n",
       "    </tr>\n",
       "  </tbody>\n",
       "</table>\n",
       "</div>"
      ],
      "text/plain": [
       "                          object_type chain       id_x       id_y  share\n",
       "0                                 бар    да    4806907  121162762   0.04\n",
       "1                                 бар   нет  116355855  121162762   0.96\n",
       "2                               буфет    да    1874466   39668041   0.05\n",
       "3                               буфет   нет   37793575   39668041   0.95\n",
       "4                          закусочная    да    8257583   61502946   0.13\n",
       "5                          закусочная   нет   53245363   61502946   0.87\n",
       "6                                кафе    да  160789883  806183707   0.20\n",
       "7                                кафе   нет  645393824  806183707   0.80\n",
       "8                           кафетерий    да    9054576   68564817   0.13\n",
       "9                           кафетерий   нет   59510241   68564817   0.87\n",
       "10          магазин (отдел кулинарии)    да   13409322   47005959   0.29\n",
       "11          магазин (отдел кулинарии)   нет   33596637   47005959   0.71\n",
       "12  предприятие быстрого обслуживания    да  100545063  298278852   0.34\n",
       "13  предприятие быстрого обслуживания   нет  197733789  298278852   0.66\n",
       "14                           ресторан    да   51855874  247532385   0.21\n",
       "15                           ресторан   нет  195676511  247532385   0.79\n",
       "16                           столовая    да     204267  149719079   0.00\n",
       "17                           столовая   нет  149514812  149719079   1.00"
      ]
     },
     "execution_count": 12,
     "metadata": {},
     "output_type": "execute_result"
    }
   ],
   "source": [
    "data_grouped['share'] = round(data_grouped['id_x']/data_grouped['id_y'], 2)\n",
    "data_grouped"
   ]
  },
  {
   "cell_type": "code",
   "execution_count": 13,
   "metadata": {},
   "outputs": [
    {
     "data": {
      "image/png": "[encoded data removed]",
      "text/plain": [
       "<Figure size 504x504 with 1 Axes>"
      ]
     },
     "metadata": {
      "needs_background": "light"
     },
     "output_type": "display_data"
    }
   ],
   "source": [
    "plt.figure(figsize=(7, 7))\n",
    "\n",
    "sns.barplot(x='object_type', y='share', hue='chain', data=data_grouped, palette = 'hls', saturation=0.75)\n",
    "\n",
    "plt.title('Сетевые и несетевые заведения в различных типах заведений')\n",
    "plt.xlabel('Принадлежность к сети и типу')\n",
    "plt.ylabel('Доля')\n",
    "plt.xticks(rotation=85) \n",
    "plt.grid()\n",
    "\n",
    "plt.savefig('3.png')\n",
    "plt.show()"
   ]
  },
  {
   "cell_type": "markdown",
   "metadata": {},
   "source": [
    "Самая большая доля сетевых заведений среди предприятий быстрого обслуживания(34%) и магазинов(отделов кулинарий)(29%)."
   ]
  },
  {
   "cell_type": "markdown",
   "metadata": {},
   "source": [
    "\n",
    "###  **Что характерно для сетевых заведений: много заведений с небольшим числом посадочных мест в каждом или мало заведений с большим количеством посадочных мест?**\n",
    "<a id='section_6'></a>"
   ]
  },
  {
   "cell_type": "code",
   "execution_count": 14,
   "metadata": {},
   "outputs": [
    {
     "data": {
      "text/html": [
       "<div>\n",
       "<style scoped>\n",
       "    .dataframe tbody tr th:only-of-type {\n",
       "        vertical-align: middle;\n",
       "    }\n",
       "\n",
       "    .dataframe tbody tr th {\n",
       "        vertical-align: top;\n",
       "    }\n",
       "\n",
       "    .dataframe thead th {\n",
       "        text-align: right;\n",
       "    }\n",
       "</style>\n",
       "<table border=\"1\" class=\"dataframe\">\n",
       "  <thead>\n",
       "    <tr style=\"text-align: right;\">\n",
       "      <th></th>\n",
       "      <th>id</th>\n",
       "      <th>object_name</th>\n",
       "      <th>chain</th>\n",
       "      <th>object_type</th>\n",
       "      <th>address</th>\n",
       "      <th>number</th>\n",
       "    </tr>\n",
       "  </thead>\n",
       "  <tbody>\n",
       "    <tr>\n",
       "      <th>3</th>\n",
       "      <td>21894</td>\n",
       "      <td>пиццетория</td>\n",
       "      <td>да</td>\n",
       "      <td>кафе</td>\n",
       "      <td>город Москва, Абрамцевская улица, дом 1</td>\n",
       "      <td>40</td>\n",
       "    </tr>\n",
       "    <tr>\n",
       "      <th>6</th>\n",
       "      <td>148815</td>\n",
       "      <td>брусника</td>\n",
       "      <td>да</td>\n",
       "      <td>кафе</td>\n",
       "      <td>город Москва, переулок Сивцев Вражек, дом 6/2</td>\n",
       "      <td>10</td>\n",
       "    </tr>\n",
       "    <tr>\n",
       "      <th>13</th>\n",
       "      <td>22579</td>\n",
       "      <td>алло пицца</td>\n",
       "      <td>да</td>\n",
       "      <td>кафе</td>\n",
       "      <td>город Москва, улица Авиаторов, дом 14</td>\n",
       "      <td>32</td>\n",
       "    </tr>\n",
       "    <tr>\n",
       "      <th>16</th>\n",
       "      <td>144107</td>\n",
       "      <td>суши wok</td>\n",
       "      <td>да</td>\n",
       "      <td>предприятие быстрого обслуживания</td>\n",
       "      <td>город Москва, Азовская улица, дом 3</td>\n",
       "      <td>7</td>\n",
       "    </tr>\n",
       "    <tr>\n",
       "      <th>18</th>\n",
       "      <td>58565</td>\n",
       "      <td>тануки</td>\n",
       "      <td>да</td>\n",
       "      <td>ресторан</td>\n",
       "      <td>город Москва, Большая Академическая улица, дом 65</td>\n",
       "      <td>160</td>\n",
       "    </tr>\n",
       "    <tr>\n",
       "      <th>...</th>\n",
       "      <td>...</td>\n",
       "      <td>...</td>\n",
       "      <td>...</td>\n",
       "      <td>...</td>\n",
       "      <td>...</td>\n",
       "      <td>...</td>\n",
       "    </tr>\n",
       "    <tr>\n",
       "      <th>15361</th>\n",
       "      <td>208537</td>\n",
       "      <td>шоколадница</td>\n",
       "      <td>да</td>\n",
       "      <td>кафе</td>\n",
       "      <td>город Москва, 3-й Крутицкий переулок, дом 18</td>\n",
       "      <td>50</td>\n",
       "    </tr>\n",
       "    <tr>\n",
       "      <th>15362</th>\n",
       "      <td>209264</td>\n",
       "      <td>шоколадница</td>\n",
       "      <td>да</td>\n",
       "      <td>кафе</td>\n",
       "      <td>город Москва, улица Земляной Вал, дом 33</td>\n",
       "      <td>10</td>\n",
       "    </tr>\n",
       "    <tr>\n",
       "      <th>15363</th>\n",
       "      <td>209186</td>\n",
       "      <td>шоколадница</td>\n",
       "      <td>да</td>\n",
       "      <td>кафе</td>\n",
       "      <td>город Москва, улица Земляной Вал, дом 33</td>\n",
       "      <td>20</td>\n",
       "    </tr>\n",
       "    <tr>\n",
       "      <th>15364</th>\n",
       "      <td>221900</td>\n",
       "      <td>шоколадница</td>\n",
       "      <td>да</td>\n",
       "      <td>кафе</td>\n",
       "      <td>город Москва, поселение Московский, Киевское ш...</td>\n",
       "      <td>36</td>\n",
       "    </tr>\n",
       "    <tr>\n",
       "      <th>15365</th>\n",
       "      <td>222535</td>\n",
       "      <td>шоколадница</td>\n",
       "      <td>да</td>\n",
       "      <td>кафе</td>\n",
       "      <td>город Москва, Ходынский бульвар, дом 4</td>\n",
       "      <td>10</td>\n",
       "    </tr>\n",
       "  </tbody>\n",
       "</table>\n",
       "<p>2968 rows × 6 columns</p>\n",
       "</div>"
      ],
      "text/plain": [
       "           id  object_name chain                        object_type  \\\n",
       "3       21894   пиццетория    да                               кафе   \n",
       "6      148815     брусника    да                               кафе   \n",
       "13      22579   алло пицца    да                               кафе   \n",
       "16     144107     суши wok    да  предприятие быстрого обслуживания   \n",
       "18      58565       тануки    да                           ресторан   \n",
       "...       ...          ...   ...                                ...   \n",
       "15361  208537  шоколадница    да                               кафе   \n",
       "15362  209264  шоколадница    да                               кафе   \n",
       "15363  209186  шоколадница    да                               кафе   \n",
       "15364  221900  шоколадница    да                               кафе   \n",
       "15365  222535  шоколадница    да                               кафе   \n",
       "\n",
       "                                                 address  number  \n",
       "3                город Москва, Абрамцевская улица, дом 1      40  \n",
       "6          город Москва, переулок Сивцев Вражек, дом 6/2      10  \n",
       "13                 город Москва, улица Авиаторов, дом 14      32  \n",
       "16                   город Москва, Азовская улица, дом 3       7  \n",
       "18     город Москва, Большая Академическая улица, дом 65     160  \n",
       "...                                                  ...     ...  \n",
       "15361       город Москва, 3-й Крутицкий переулок, дом 18      50  \n",
       "15362           город Москва, улица Земляной Вал, дом 33      10  \n",
       "15363           город Москва, улица Земляной Вал, дом 33      20  \n",
       "15364  город Москва, поселение Московский, Киевское ш...      36  \n",
       "15365             город Москва, Ходынский бульвар, дом 4      10  \n",
       "\n",
       "[2968 rows x 6 columns]"
      ]
     },
     "execution_count": 14,
     "metadata": {},
     "output_type": "execute_result"
    }
   ],
   "source": [
    "data_chain = data.query('chain == \"да\"')\n",
    "data_chain"
   ]
  },
  {
   "cell_type": "code",
   "execution_count": 15,
   "metadata": {},
   "outputs": [
    {
     "data": {
      "text/html": [
       "<div>\n",
       "<style scoped>\n",
       "    .dataframe tbody tr th:only-of-type {\n",
       "        vertical-align: middle;\n",
       "    }\n",
       "\n",
       "    .dataframe tbody tr th {\n",
       "        vertical-align: top;\n",
       "    }\n",
       "\n",
       "    .dataframe thead th {\n",
       "        text-align: right;\n",
       "    }\n",
       "</style>\n",
       "<table border=\"1\" class=\"dataframe\">\n",
       "  <thead>\n",
       "    <tr style=\"text-align: right;\">\n",
       "      <th></th>\n",
       "      <th>object_name_</th>\n",
       "      <th>count_number</th>\n",
       "      <th>mean_number</th>\n",
       "    </tr>\n",
       "  </thead>\n",
       "  <tbody>\n",
       "    <tr>\n",
       "      <th>563</th>\n",
       "      <td>шоколадница</td>\n",
       "      <td>157</td>\n",
       "      <td>57.184713</td>\n",
       "    </tr>\n",
       "    <tr>\n",
       "      <th>25</th>\n",
       "      <td>kfc</td>\n",
       "      <td>155</td>\n",
       "      <td>55.341935</td>\n",
       "    </tr>\n",
       "    <tr>\n",
       "      <th>330</th>\n",
       "      <td>макдоналдс</td>\n",
       "      <td>151</td>\n",
       "      <td>87.119205</td>\n",
       "    </tr>\n",
       "    <tr>\n",
       "      <th>109</th>\n",
       "      <td>бургер кинг</td>\n",
       "      <td>137</td>\n",
       "      <td>46.649635</td>\n",
       "    </tr>\n",
       "    <tr>\n",
       "      <th>521</th>\n",
       "      <td>теремок</td>\n",
       "      <td>94</td>\n",
       "      <td>25.606383</td>\n",
       "    </tr>\n",
       "    <tr>\n",
       "      <th>311</th>\n",
       "      <td>крошка картошка</td>\n",
       "      <td>90</td>\n",
       "      <td>21.855556</td>\n",
       "    </tr>\n",
       "    <tr>\n",
       "      <th>159</th>\n",
       "      <td>домино'с пицца</td>\n",
       "      <td>90</td>\n",
       "      <td>18.344444</td>\n",
       "    </tr>\n",
       "    <tr>\n",
       "      <th>339</th>\n",
       "      <td>милти</td>\n",
       "      <td>72</td>\n",
       "      <td>1.333333</td>\n",
       "    </tr>\n",
       "    <tr>\n",
       "      <th>505</th>\n",
       "      <td>суши wok</td>\n",
       "      <td>72</td>\n",
       "      <td>6.708333</td>\n",
       "    </tr>\n",
       "    <tr>\n",
       "      <th>367</th>\n",
       "      <td>папа джонс</td>\n",
       "      <td>51</td>\n",
       "      <td>22.039216</td>\n",
       "    </tr>\n",
       "    <tr>\n",
       "      <th>157</th>\n",
       "      <td>додо пицца</td>\n",
       "      <td>49</td>\n",
       "      <td>32.551020</td>\n",
       "    </tr>\n",
       "    <tr>\n",
       "      <th>287</th>\n",
       "      <td>кофе с собой</td>\n",
       "      <td>46</td>\n",
       "      <td>0.782609</td>\n",
       "    </tr>\n",
       "    <tr>\n",
       "      <th>550</th>\n",
       "      <td>чайхона №1</td>\n",
       "      <td>43</td>\n",
       "      <td>148.813953</td>\n",
       "    </tr>\n",
       "    <tr>\n",
       "      <th>569</th>\n",
       "      <td>якитория</td>\n",
       "      <td>38</td>\n",
       "      <td>117.157895</td>\n",
       "    </tr>\n",
       "    <tr>\n",
       "      <th>542</th>\n",
       "      <td>хинкальная</td>\n",
       "      <td>38</td>\n",
       "      <td>52.447368</td>\n",
       "    </tr>\n",
       "    <tr>\n",
       "      <th>291</th>\n",
       "      <td>кофе хаус</td>\n",
       "      <td>35</td>\n",
       "      <td>55.857143</td>\n",
       "    </tr>\n",
       "    <tr>\n",
       "      <th>51</th>\n",
       "      <td>subway</td>\n",
       "      <td>34</td>\n",
       "      <td>17.352941</td>\n",
       "    </tr>\n",
       "    <tr>\n",
       "      <th>517</th>\n",
       "      <td>тануки</td>\n",
       "      <td>32</td>\n",
       "      <td>113.875000</td>\n",
       "    </tr>\n",
       "    <tr>\n",
       "      <th>546</th>\n",
       "      <td>хлеб насущный</td>\n",
       "      <td>32</td>\n",
       "      <td>41.937500</td>\n",
       "    </tr>\n",
       "    <tr>\n",
       "      <th>45</th>\n",
       "      <td>starbucks</td>\n",
       "      <td>30</td>\n",
       "      <td>44.566667</td>\n",
       "    </tr>\n",
       "    <tr>\n",
       "      <th>407</th>\n",
       "      <td>прайм стар</td>\n",
       "      <td>26</td>\n",
       "      <td>37.115385</td>\n",
       "    </tr>\n",
       "    <tr>\n",
       "      <th>180</th>\n",
       "      <td>иль патио</td>\n",
       "      <td>25</td>\n",
       "      <td>121.080000</td>\n",
       "    </tr>\n",
       "    <tr>\n",
       "      <th>9</th>\n",
       "      <td>cofix</td>\n",
       "      <td>25</td>\n",
       "      <td>9.600000</td>\n",
       "    </tr>\n",
       "    <tr>\n",
       "      <th>352</th>\n",
       "      <td>мята lounge</td>\n",
       "      <td>24</td>\n",
       "      <td>48.500000</td>\n",
       "    </tr>\n",
       "    <tr>\n",
       "      <th>348</th>\n",
       "      <td>му-му</td>\n",
       "      <td>24</td>\n",
       "      <td>143.125000</td>\n",
       "    </tr>\n",
       "  </tbody>\n",
       "</table>\n",
       "</div>"
      ],
      "text/plain": [
       "        object_name_  count_number  mean_number\n",
       "563      шоколадница           157    57.184713\n",
       "25               kfc           155    55.341935\n",
       "330       макдоналдс           151    87.119205\n",
       "109      бургер кинг           137    46.649635\n",
       "521          теремок            94    25.606383\n",
       "311  крошка картошка            90    21.855556\n",
       "159   домино'с пицца            90    18.344444\n",
       "339            милти            72     1.333333\n",
       "505         суши wok            72     6.708333\n",
       "367       папа джонс            51    22.039216\n",
       "157       додо пицца            49    32.551020\n",
       "287     кофе с собой            46     0.782609\n",
       "550       чайхона №1            43   148.813953\n",
       "569         якитория            38   117.157895\n",
       "542       хинкальная            38    52.447368\n",
       "291        кофе хаус            35    55.857143\n",
       "51            subway            34    17.352941\n",
       "517           тануки            32   113.875000\n",
       "546    хлеб насущный            32    41.937500\n",
       "45         starbucks            30    44.566667\n",
       "407       прайм стар            26    37.115385\n",
       "180        иль патио            25   121.080000\n",
       "9              cofix            25     9.600000\n",
       "352      мята lounge            24    48.500000\n",
       "348            му-му            24   143.125000"
      ]
     },
     "execution_count": 15,
     "metadata": {},
     "output_type": "execute_result"
    }
   ],
   "source": [
    "data_chain_grouped = data_chain.pivot_table(\n",
    "    index = 'object_name',\n",
    "    values = 'number',\n",
    "    aggfunc = ['count', 'mean']\n",
    ").reset_index()\n",
    "data_chain_grouped.columns = [\"_\".join((j,k)) for j,k in data_chain_grouped.columns]\n",
    "data_chain_grouped.sort_values('count_number', ascending=False).head(25)"
   ]
  },
  {
   "cell_type": "code",
   "execution_count": 16,
   "metadata": {},
   "outputs": [
    {
     "data": {
      "text/plain": [
       "1.0"
      ]
     },
     "execution_count": 16,
     "metadata": {},
     "output_type": "execute_result"
    }
   ],
   "source": [
    "data_chain_grouped['count_number'].median()"
   ]
  },
  {
   "cell_type": "code",
   "execution_count": 17,
   "metadata": {},
   "outputs": [
    {
     "data": {
      "image/png": "[encoded data removed]",
      "text/plain": [
       "<Figure size 504x504 with 1 Axes>"
      ]
     },
     "metadata": {
      "needs_background": "light"
     },
     "output_type": "display_data"
    }
   ],
   "source": [
    "plt.figure(figsize=(7, 7))\n",
    "\n",
    "data_chain_grouped['count_number'].hist(bins=100, grid=True, color='#87a3cc')\n",
    "plt.title('Распределение сетей по количеству ресторанов')\n",
    "plt.xlabel('Количество ресторанов, шт.')\n",
    "plt.ylabel('Количество сетей, шт.') \n",
    "\n",
    "plt.show()"
   ]
  },
  {
   "cell_type": "markdown",
   "metadata": {},
   "source": [
    "Медианное значение столбца количества заведений сети - 1. Это значение не подходит для определения категории. Возьмём условную границу в 10 заведений. Свыше неё - заведений много."
   ]
  },
  {
   "cell_type": "code",
   "execution_count": 18,
   "metadata": {},
   "outputs": [
    {
     "data": {
      "text/plain": [
       "43.5"
      ]
     },
     "execution_count": 18,
     "metadata": {},
     "output_type": "execute_result"
    }
   ],
   "source": [
    "data_chain_grouped['mean_number'].median()"
   ]
  },
  {
   "cell_type": "code",
   "execution_count": 19,
   "metadata": {},
   "outputs": [
    {
     "data": {
      "image/png": "[encoded data removed]",
      "text/plain": [
       "<Figure size 504x504 with 1 Axes>"
      ]
     },
     "metadata": {
      "needs_background": "light"
     },
     "output_type": "display_data"
    }
   ],
   "source": [
    "plt.figure(figsize=(7, 7))\n",
    "\n",
    "data_chain_grouped['mean_number'].hist(bins=25, grid=True, color='#87a3cc')\n",
    "plt.title('Распределение сетей по количеству посадочных мест')\n",
    "plt.xlabel('Количество ресторанов, шт.')\n",
    "plt.ylabel('Количество посадочных мест, шт.') \n",
    "\n",
    "plt.show()"
   ]
  },
  {
   "cell_type": "markdown",
   "metadata": {},
   "source": [
    "Медианное значение количества посадочных мест - 45. Возьмём её для определения группы."
   ]
  },
  {
   "cell_type": "code",
   "execution_count": 20,
   "metadata": {},
   "outputs": [],
   "source": [
    "median_count = 10\n",
    "median_number = 45"
   ]
  },
  {
   "cell_type": "code",
   "execution_count": 21,
   "metadata": {},
   "outputs": [],
   "source": [
    "def chain_category(row):\n",
    "    count = row['count_number']\n",
    "    number = row['mean_number']\n",
    "    \n",
    "    if count > median_count:\n",
    "        if number > median_number:\n",
    "            return 'много заведений - много мест'\n",
    "        else:\n",
    "            return 'много заведений - мало мест'\n",
    "    \n",
    "    else:\n",
    "        if number > median_number:\n",
    "            return 'мало заведений - много мест'\n",
    "        else:\n",
    "            return 'мало заведений - мало мест'"
   ]
  },
  {
   "cell_type": "code",
   "execution_count": 22,
   "metadata": {},
   "outputs": [
    {
     "data": {
      "text/html": [
       "<div>\n",
       "<style scoped>\n",
       "    .dataframe tbody tr th:only-of-type {\n",
       "        vertical-align: middle;\n",
       "    }\n",
       "\n",
       "    .dataframe tbody tr th {\n",
       "        vertical-align: top;\n",
       "    }\n",
       "\n",
       "    .dataframe thead th {\n",
       "        text-align: right;\n",
       "    }\n",
       "</style>\n",
       "<table border=\"1\" class=\"dataframe\">\n",
       "  <thead>\n",
       "    <tr style=\"text-align: right;\">\n",
       "      <th></th>\n",
       "      <th>object_name_</th>\n",
       "      <th>count_number</th>\n",
       "      <th>mean_number</th>\n",
       "      <th>category</th>\n",
       "    </tr>\n",
       "  </thead>\n",
       "  <tbody>\n",
       "    <tr>\n",
       "      <th>0</th>\n",
       "      <td>beverly hills diner</td>\n",
       "      <td>1</td>\n",
       "      <td>88.000000</td>\n",
       "      <td>мало заведений - много мест</td>\n",
       "    </tr>\n",
       "    <tr>\n",
       "      <th>1</th>\n",
       "      <td>bierloga</td>\n",
       "      <td>1</td>\n",
       "      <td>75.000000</td>\n",
       "      <td>мало заведений - много мест</td>\n",
       "    </tr>\n",
       "    <tr>\n",
       "      <th>2</th>\n",
       "      <td>black &amp; white</td>\n",
       "      <td>1</td>\n",
       "      <td>40.000000</td>\n",
       "      <td>мало заведений - мало мест</td>\n",
       "    </tr>\n",
       "    <tr>\n",
       "      <th>3</th>\n",
       "      <td>bocconcino</td>\n",
       "      <td>3</td>\n",
       "      <td>66.666667</td>\n",
       "      <td>мало заведений - много мест</td>\n",
       "    </tr>\n",
       "    <tr>\n",
       "      <th>4</th>\n",
       "      <td>boobo</td>\n",
       "      <td>1</td>\n",
       "      <td>46.000000</td>\n",
       "      <td>мало заведений - много мест</td>\n",
       "    </tr>\n",
       "  </tbody>\n",
       "</table>\n",
       "</div>"
      ],
      "text/plain": [
       "          object_name_  count_number  mean_number                     category\n",
       "0  beverly hills diner             1    88.000000  мало заведений - много мест\n",
       "1             bierloga             1    75.000000  мало заведений - много мест\n",
       "2        black & white             1    40.000000   мало заведений - мало мест\n",
       "3           bocconcino             3    66.666667  мало заведений - много мест\n",
       "4                boobo             1    46.000000  мало заведений - много мест"
      ]
     },
     "execution_count": 22,
     "metadata": {},
     "output_type": "execute_result"
    }
   ],
   "source": [
    "data_chain_grouped['category'] = data_chain_grouped.apply(chain_category, axis=1)\n",
    "data_chain_grouped.head()"
   ]
  },
  {
   "cell_type": "code",
   "execution_count": 23,
   "metadata": {},
   "outputs": [
    {
     "data": {
      "image/png": "[encoded data removed]",
      "text/plain": [
       "<Figure size 504x504 with 1 Axes>"
      ]
     },
     "metadata": {
      "needs_background": "light"
     },
     "output_type": "display_data"
    },
    {
     "data": {
      "text/html": [
       "<div>\n",
       "<style scoped>\n",
       "    .dataframe tbody tr th:only-of-type {\n",
       "        vertical-align: middle;\n",
       "    }\n",
       "\n",
       "    .dataframe tbody tr th {\n",
       "        vertical-align: top;\n",
       "    }\n",
       "\n",
       "    .dataframe thead tr th {\n",
       "        text-align: left;\n",
       "    }\n",
       "\n",
       "    .dataframe thead tr:last-of-type th {\n",
       "        text-align: right;\n",
       "    }\n",
       "</style>\n",
       "<table border=\"1\" class=\"dataframe\">\n",
       "  <thead>\n",
       "    <tr>\n",
       "      <th></th>\n",
       "      <th colspan=\"2\" halign=\"left\">count</th>\n",
       "      <th colspan=\"2\" halign=\"left\">mean</th>\n",
       "    </tr>\n",
       "    <tr>\n",
       "      <th></th>\n",
       "      <th>count_number</th>\n",
       "      <th>mean_number</th>\n",
       "      <th>count_number</th>\n",
       "      <th>mean_number</th>\n",
       "    </tr>\n",
       "    <tr>\n",
       "      <th>category</th>\n",
       "      <th></th>\n",
       "      <th></th>\n",
       "      <th></th>\n",
       "      <th></th>\n",
       "    </tr>\n",
       "  </thead>\n",
       "  <tbody>\n",
       "    <tr>\n",
       "      <th>мало заведений - мало мест</th>\n",
       "      <td>275</td>\n",
       "      <td>275</td>\n",
       "      <td>1.996364</td>\n",
       "      <td>21.479385</td>\n",
       "    </tr>\n",
       "    <tr>\n",
       "      <th>мало заведений - много мест</th>\n",
       "      <td>257</td>\n",
       "      <td>257</td>\n",
       "      <td>2.163424</td>\n",
       "      <td>101.575695</td>\n",
       "    </tr>\n",
       "    <tr>\n",
       "      <th>много заведений - мало мест</th>\n",
       "      <td>26</td>\n",
       "      <td>26</td>\n",
       "      <td>34.884615</td>\n",
       "      <td>19.592626</td>\n",
       "    </tr>\n",
       "    <tr>\n",
       "      <th>много заведений - много мест</th>\n",
       "      <td>19</td>\n",
       "      <td>19</td>\n",
       "      <td>50.315789</td>\n",
       "      <td>83.835064</td>\n",
       "    </tr>\n",
       "  </tbody>\n",
       "</table>\n",
       "</div>"
      ],
      "text/plain": [
       "                                    count                     mean            \n",
       "                             count_number mean_number count_number mean_number\n",
       "category                                                                      \n",
       "мало заведений - мало мест            275         275     1.996364   21.479385\n",
       "мало заведений - много мест           257         257     2.163424  101.575695\n",
       "много заведений - мало мест            26          26    34.884615   19.592626\n",
       "много заведений - много мест           19          19    50.315789   83.835064"
      ]
     },
     "execution_count": 23,
     "metadata": {},
     "output_type": "execute_result"
    }
   ],
   "source": [
    "plt.figure(figsize=(7, 7))\n",
    "\n",
    "sns.scatterplot(data=data_chain_grouped, x='count_number', y='mean_number', hue='category', palette = 'hls')\n",
    "\n",
    "plt.title('Распределение заведений по категориям')\n",
    "plt.xlabel('Количество заведений, шт.')\n",
    "plt.ylabel('Количество посадочных мест, шт.')\n",
    "plt.grid()\n",
    "\n",
    "plt.savefig('4.png')\n",
    "plt.show()\n",
    "\n",
    "data_chain_grouped.pivot_table(\n",
    "    index='category',\n",
    "    values=['count_number', 'mean_number'],\n",
    "    aggfunc=['count', 'mean']\n",
    ")"
   ]
  },
  {
   "cell_type": "markdown",
   "metadata": {},
   "source": [
    "Из графика можно сделать вывод, что для сетевых ресторанов характерно небольшое количество заведений (меньше 10), а вот больше 45 посадочных или меньше - уже на усмотрение руководителей. "
   ]
  },
  {
   "cell_type": "markdown",
   "metadata": {},
   "source": [
    " ###  **Среднее количество посадочных мест для каждого вида объекта**\n",
    "<a id='section_7'></a>"
   ]
  },
  {
   "cell_type": "code",
   "execution_count": 24,
   "metadata": {},
   "outputs": [
    {
     "data": {
      "text/html": [
       "<div>\n",
       "<style scoped>\n",
       "    .dataframe tbody tr th:only-of-type {\n",
       "        vertical-align: middle;\n",
       "    }\n",
       "\n",
       "    .dataframe tbody tr th {\n",
       "        vertical-align: top;\n",
       "    }\n",
       "\n",
       "    .dataframe thead th {\n",
       "        text-align: right;\n",
       "    }\n",
       "</style>\n",
       "<table border=\"1\" class=\"dataframe\">\n",
       "  <thead>\n",
       "    <tr style=\"text-align: right;\">\n",
       "      <th></th>\n",
       "      <th>object_type</th>\n",
       "      <th>chain</th>\n",
       "      <th>number</th>\n",
       "    </tr>\n",
       "  </thead>\n",
       "  <tbody>\n",
       "    <tr>\n",
       "      <th>17</th>\n",
       "      <td>столовая</td>\n",
       "      <td>нет</td>\n",
       "      <td>130.0</td>\n",
       "    </tr>\n",
       "    <tr>\n",
       "      <th>16</th>\n",
       "      <td>столовая</td>\n",
       "      <td>да</td>\n",
       "      <td>112.0</td>\n",
       "    </tr>\n",
       "    <tr>\n",
       "      <th>14</th>\n",
       "      <td>ресторан</td>\n",
       "      <td>да</td>\n",
       "      <td>100.0</td>\n",
       "    </tr>\n",
       "    <tr>\n",
       "      <th>15</th>\n",
       "      <td>ресторан</td>\n",
       "      <td>нет</td>\n",
       "      <td>96.0</td>\n",
       "    </tr>\n",
       "    <tr>\n",
       "      <th>0</th>\n",
       "      <td>бар</td>\n",
       "      <td>да</td>\n",
       "      <td>53.0</td>\n",
       "    </tr>\n",
       "    <tr>\n",
       "      <th>3</th>\n",
       "      <td>буфет</td>\n",
       "      <td>нет</td>\n",
       "      <td>52.0</td>\n",
       "    </tr>\n",
       "    <tr>\n",
       "      <th>6</th>\n",
       "      <td>кафе</td>\n",
       "      <td>да</td>\n",
       "      <td>47.0</td>\n",
       "    </tr>\n",
       "    <tr>\n",
       "      <th>1</th>\n",
       "      <td>бар</td>\n",
       "      <td>нет</td>\n",
       "      <td>43.0</td>\n",
       "    </tr>\n",
       "    <tr>\n",
       "      <th>12</th>\n",
       "      <td>предприятие быстрого обслуживания</td>\n",
       "      <td>да</td>\n",
       "      <td>40.0</td>\n",
       "    </tr>\n",
       "    <tr>\n",
       "      <th>7</th>\n",
       "      <td>кафе</td>\n",
       "      <td>нет</td>\n",
       "      <td>37.0</td>\n",
       "    </tr>\n",
       "    <tr>\n",
       "      <th>4</th>\n",
       "      <td>закусочная</td>\n",
       "      <td>да</td>\n",
       "      <td>14.0</td>\n",
       "    </tr>\n",
       "    <tr>\n",
       "      <th>2</th>\n",
       "      <td>буфет</td>\n",
       "      <td>да</td>\n",
       "      <td>13.0</td>\n",
       "    </tr>\n",
       "    <tr>\n",
       "      <th>8</th>\n",
       "      <td>кафетерий</td>\n",
       "      <td>да</td>\n",
       "      <td>12.0</td>\n",
       "    </tr>\n",
       "    <tr>\n",
       "      <th>10</th>\n",
       "      <td>магазин (отдел кулинарии)</td>\n",
       "      <td>да</td>\n",
       "      <td>9.0</td>\n",
       "    </tr>\n",
       "    <tr>\n",
       "      <th>9</th>\n",
       "      <td>кафетерий</td>\n",
       "      <td>нет</td>\n",
       "      <td>9.0</td>\n",
       "    </tr>\n",
       "    <tr>\n",
       "      <th>13</th>\n",
       "      <td>предприятие быстрого обслуживания</td>\n",
       "      <td>нет</td>\n",
       "      <td>7.0</td>\n",
       "    </tr>\n",
       "    <tr>\n",
       "      <th>5</th>\n",
       "      <td>закусочная</td>\n",
       "      <td>нет</td>\n",
       "      <td>6.0</td>\n",
       "    </tr>\n",
       "    <tr>\n",
       "      <th>11</th>\n",
       "      <td>магазин (отдел кулинарии)</td>\n",
       "      <td>нет</td>\n",
       "      <td>4.0</td>\n",
       "    </tr>\n",
       "  </tbody>\n",
       "</table>\n",
       "</div>"
      ],
      "text/plain": [
       "                          object_type chain  number\n",
       "17                           столовая   нет   130.0\n",
       "16                           столовая    да   112.0\n",
       "14                           ресторан    да   100.0\n",
       "15                           ресторан   нет    96.0\n",
       "0                                 бар    да    53.0\n",
       "3                               буфет   нет    52.0\n",
       "6                                кафе    да    47.0\n",
       "1                                 бар   нет    43.0\n",
       "12  предприятие быстрого обслуживания    да    40.0\n",
       "7                                кафе   нет    37.0\n",
       "4                          закусочная    да    14.0\n",
       "2                               буфет    да    13.0\n",
       "8                           кафетерий    да    12.0\n",
       "10          магазин (отдел кулинарии)    да     9.0\n",
       "9                           кафетерий   нет     9.0\n",
       "13  предприятие быстрого обслуживания   нет     7.0\n",
       "5                          закусочная   нет     6.0\n",
       "11          магазин (отдел кулинарии)   нет     4.0"
      ]
     },
     "execution_count": 24,
     "metadata": {},
     "output_type": "execute_result"
    }
   ],
   "source": [
    "data_object_number = data.pivot_table(\n",
    "    index = ['object_type', 'chain'],\n",
    "    values = 'number'\n",
    ").reset_index().sort_values(by='number', ascending=False)\n",
    "data_object_number = round(data_object_number)\n",
    "data_object_number"
   ]
  },
  {
   "cell_type": "code",
   "execution_count": 25,
   "metadata": {},
   "outputs": [
    {
     "data": {
      "image/png": "[encoded data removed]",
      "text/plain": [
       "<Figure size 504x504 with 1 Axes>"
      ]
     },
     "metadata": {
      "needs_background": "light"
     },
     "output_type": "display_data"
    }
   ],
   "source": [
    "plt.figure(figsize=(7, 7))\n",
    "\n",
    "sns.barplot(data=data_object_number, x='object_type', y='number', hue='chain', palette = 'hls', saturation=0.75)\n",
    "\n",
    "plt.title('Среднее число мест по типам объектов, шт.')\n",
    "plt.xlabel('Тип объекта общественного питания')\n",
    "plt.ylabel('Количество, шт.')\n",
    "plt.xticks(rotation=85) \n",
    "plt.grid()\n",
    "\n",
    "plt.savefig('5.png')\n",
    "plt.show()"
   ]
  },
  {
   "cell_type": "markdown",
   "metadata": {},
   "source": [
    "Больше всего посадочных мест в несетевых столовых и сетевых ресторанах. Меньше всего - в несетевых магазинах (отделах кулинарии)."
   ]
  },
  {
   "cell_type": "markdown",
   "metadata": {},
   "source": [
    " ###  **Анализ месторасположения заведения**\n",
    "<a id='section_8'></a>"
   ]
  },
  {
   "cell_type": "code",
   "execution_count": 26,
   "metadata": {},
   "outputs": [
    {
     "data": {
      "text/html": [
       "<div>\n",
       "<style scoped>\n",
       "    .dataframe tbody tr th:only-of-type {\n",
       "        vertical-align: middle;\n",
       "    }\n",
       "\n",
       "    .dataframe tbody tr th {\n",
       "        vertical-align: top;\n",
       "    }\n",
       "\n",
       "    .dataframe thead th {\n",
       "        text-align: right;\n",
       "    }\n",
       "</style>\n",
       "<table border=\"1\" class=\"dataframe\">\n",
       "  <thead>\n",
       "    <tr style=\"text-align: right;\">\n",
       "      <th></th>\n",
       "      <th>id</th>\n",
       "      <th>object_name</th>\n",
       "      <th>chain</th>\n",
       "      <th>object_type</th>\n",
       "      <th>address</th>\n",
       "      <th>number</th>\n",
       "      <th>street</th>\n",
       "    </tr>\n",
       "  </thead>\n",
       "  <tbody>\n",
       "    <tr>\n",
       "      <th>0</th>\n",
       "      <td>151635</td>\n",
       "      <td>сметана</td>\n",
       "      <td>нет</td>\n",
       "      <td>кафе</td>\n",
       "      <td>город Москва, улица Егора Абакумова, дом 9</td>\n",
       "      <td>48</td>\n",
       "      <td>улица Егора Абакумова</td>\n",
       "    </tr>\n",
       "    <tr>\n",
       "      <th>1</th>\n",
       "      <td>77874</td>\n",
       "      <td>родник</td>\n",
       "      <td>нет</td>\n",
       "      <td>кафе</td>\n",
       "      <td>город Москва, улица Талалихина, дом 2/1, корпус 1</td>\n",
       "      <td>35</td>\n",
       "      <td>улица Талалихина</td>\n",
       "    </tr>\n",
       "    <tr>\n",
       "      <th>2</th>\n",
       "      <td>24309</td>\n",
       "      <td>кафе «академия»</td>\n",
       "      <td>нет</td>\n",
       "      <td>кафе</td>\n",
       "      <td>город Москва, Абельмановская улица, дом 6</td>\n",
       "      <td>95</td>\n",
       "      <td>Абельмановская улица</td>\n",
       "    </tr>\n",
       "    <tr>\n",
       "      <th>3</th>\n",
       "      <td>21894</td>\n",
       "      <td>пиццетория</td>\n",
       "      <td>да</td>\n",
       "      <td>кафе</td>\n",
       "      <td>город Москва, Абрамцевская улица, дом 1</td>\n",
       "      <td>40</td>\n",
       "      <td>Абрамцевская улица</td>\n",
       "    </tr>\n",
       "    <tr>\n",
       "      <th>4</th>\n",
       "      <td>119365</td>\n",
       "      <td>кафе «вишневая метель»</td>\n",
       "      <td>нет</td>\n",
       "      <td>кафе</td>\n",
       "      <td>город Москва, Абрамцевская улица, дом 9, корпус 1</td>\n",
       "      <td>50</td>\n",
       "      <td>Абрамцевская улица</td>\n",
       "    </tr>\n",
       "  </tbody>\n",
       "</table>\n",
       "</div>"
      ],
      "text/plain": [
       "       id             object_name chain object_type  \\\n",
       "0  151635                 сметана   нет        кафе   \n",
       "1   77874                  родник   нет        кафе   \n",
       "2   24309         кафе «академия»   нет        кафе   \n",
       "3   21894              пиццетория    да        кафе   \n",
       "4  119365  кафе «вишневая метель»   нет        кафе   \n",
       "\n",
       "                                             address  number  \\\n",
       "0         город Москва, улица Егора Абакумова, дом 9      48   \n",
       "1  город Москва, улица Талалихина, дом 2/1, корпус 1      35   \n",
       "2          город Москва, Абельмановская улица, дом 6      95   \n",
       "3            город Москва, Абрамцевская улица, дом 1      40   \n",
       "4  город Москва, Абрамцевская улица, дом 9, корпус 1      50   \n",
       "\n",
       "                  street  \n",
       "0  улица Егора Абакумова  \n",
       "1       улица Талалихина  \n",
       "2   Абельмановская улица  \n",
       "3     Абрамцевская улица  \n",
       "4     Абрамцевская улица  "
      ]
     },
     "execution_count": 26,
     "metadata": {},
     "output_type": "execute_result"
    }
   ],
   "source": [
    "data['street']= data['address'].str.extract(r'(?:,\\s+)(.+?)(?:,)')\n",
    "data.head()"
   ]
  },
  {
   "cell_type": "code",
   "execution_count": 27,
   "metadata": {},
   "outputs": [
    {
     "data": {
      "text/html": [
       "<div>\n",
       "<style scoped>\n",
       "    .dataframe tbody tr th:only-of-type {\n",
       "        vertical-align: middle;\n",
       "    }\n",
       "\n",
       "    .dataframe tbody tr th {\n",
       "        vertical-align: top;\n",
       "    }\n",
       "\n",
       "    .dataframe thead th {\n",
       "        text-align: right;\n",
       "    }\n",
       "</style>\n",
       "<table border=\"1\" class=\"dataframe\">\n",
       "  <thead>\n",
       "    <tr style=\"text-align: right;\">\n",
       "      <th></th>\n",
       "      <th>street</th>\n",
       "      <th>id</th>\n",
       "    </tr>\n",
       "  </thead>\n",
       "  <tbody>\n",
       "    <tr>\n",
       "      <th>1331</th>\n",
       "      <td>город Зеленоград</td>\n",
       "      <td>232</td>\n",
       "    </tr>\n",
       "    <tr>\n",
       "      <th>1440</th>\n",
       "      <td>проспект Мира</td>\n",
       "      <td>204</td>\n",
       "    </tr>\n",
       "    <tr>\n",
       "      <th>993</th>\n",
       "      <td>Профсоюзная улица</td>\n",
       "      <td>182</td>\n",
       "    </tr>\n",
       "    <tr>\n",
       "      <th>683</th>\n",
       "      <td>Ленинградский проспект</td>\n",
       "      <td>171</td>\n",
       "    </tr>\n",
       "    <tr>\n",
       "      <th>979</th>\n",
       "      <td>Пресненская набережная</td>\n",
       "      <td>167</td>\n",
       "    </tr>\n",
       "    <tr>\n",
       "      <th>407</th>\n",
       "      <td>Варшавское шоссе</td>\n",
       "      <td>161</td>\n",
       "    </tr>\n",
       "    <tr>\n",
       "      <th>686</th>\n",
       "      <td>Ленинский проспект</td>\n",
       "      <td>147</td>\n",
       "    </tr>\n",
       "    <tr>\n",
       "      <th>1407</th>\n",
       "      <td>поселение Сосенское</td>\n",
       "      <td>138</td>\n",
       "    </tr>\n",
       "    <tr>\n",
       "      <th>1437</th>\n",
       "      <td>проспект Вернадского</td>\n",
       "      <td>132</td>\n",
       "    </tr>\n",
       "    <tr>\n",
       "      <th>674</th>\n",
       "      <td>Кутузовский проспект</td>\n",
       "      <td>114</td>\n",
       "    </tr>\n",
       "  </tbody>\n",
       "</table>\n",
       "</div>"
      ],
      "text/plain": [
       "                      street   id\n",
       "1331        город Зеленоград  232\n",
       "1440           проспект Мира  204\n",
       "993        Профсоюзная улица  182\n",
       "683   Ленинградский проспект  171\n",
       "979   Пресненская набережная  167\n",
       "407         Варшавское шоссе  161\n",
       "686       Ленинский проспект  147\n",
       "1407     поселение Сосенское  138\n",
       "1437    проспект Вернадского  132\n",
       "674     Кутузовский проспект  114"
      ]
     },
     "execution_count": 27,
     "metadata": {},
     "output_type": "execute_result"
    }
   ],
   "source": [
    "data.groupby('street', as_index=False)['id'].count().sort_values(by='id', ascending=False).head(10)"
   ]
  },
  {
   "cell_type": "markdown",
   "metadata": {},
   "source": [
    "Зеленоград - это часть Москвы, но всё-таки не улица. Уберём его из анализа."
   ]
  },
  {
   "cell_type": "code",
   "execution_count": 28,
   "metadata": {},
   "outputs": [
    {
     "data": {
      "text/html": [
       "<div>\n",
       "<style scoped>\n",
       "    .dataframe tbody tr th:only-of-type {\n",
       "        vertical-align: middle;\n",
       "    }\n",
       "\n",
       "    .dataframe tbody tr th {\n",
       "        vertical-align: top;\n",
       "    }\n",
       "\n",
       "    .dataframe thead th {\n",
       "        text-align: right;\n",
       "    }\n",
       "</style>\n",
       "<table border=\"1\" class=\"dataframe\">\n",
       "  <thead>\n",
       "    <tr style=\"text-align: right;\">\n",
       "      <th></th>\n",
       "      <th>street</th>\n",
       "      <th>id</th>\n",
       "    </tr>\n",
       "  </thead>\n",
       "  <tbody>\n",
       "    <tr>\n",
       "      <th>1440</th>\n",
       "      <td>проспект Мира</td>\n",
       "      <td>204</td>\n",
       "    </tr>\n",
       "    <tr>\n",
       "      <th>993</th>\n",
       "      <td>Профсоюзная улица</td>\n",
       "      <td>182</td>\n",
       "    </tr>\n",
       "    <tr>\n",
       "      <th>683</th>\n",
       "      <td>Ленинградский проспект</td>\n",
       "      <td>171</td>\n",
       "    </tr>\n",
       "    <tr>\n",
       "      <th>979</th>\n",
       "      <td>Пресненская набережная</td>\n",
       "      <td>167</td>\n",
       "    </tr>\n",
       "    <tr>\n",
       "      <th>407</th>\n",
       "      <td>Варшавское шоссе</td>\n",
       "      <td>161</td>\n",
       "    </tr>\n",
       "    <tr>\n",
       "      <th>686</th>\n",
       "      <td>Ленинский проспект</td>\n",
       "      <td>147</td>\n",
       "    </tr>\n",
       "    <tr>\n",
       "      <th>1437</th>\n",
       "      <td>проспект Вернадского</td>\n",
       "      <td>132</td>\n",
       "    </tr>\n",
       "    <tr>\n",
       "      <th>674</th>\n",
       "      <td>Кутузовский проспект</td>\n",
       "      <td>114</td>\n",
       "    </tr>\n",
       "    <tr>\n",
       "      <th>600</th>\n",
       "      <td>Каширское шоссе</td>\n",
       "      <td>112</td>\n",
       "    </tr>\n",
       "    <tr>\n",
       "      <th>605</th>\n",
       "      <td>Кировоградская улица</td>\n",
       "      <td>110</td>\n",
       "    </tr>\n",
       "  </tbody>\n",
       "</table>\n",
       "</div>"
      ],
      "text/plain": [
       "                      street   id\n",
       "1440           проспект Мира  204\n",
       "993        Профсоюзная улица  182\n",
       "683   Ленинградский проспект  171\n",
       "979   Пресненская набережная  167\n",
       "407         Варшавское шоссе  161\n",
       "686       Ленинский проспект  147\n",
       "1437    проспект Вернадского  132\n",
       "674     Кутузовский проспект  114\n",
       "600          Каширское шоссе  112\n",
       "605     Кировоградская улица  110"
      ]
     },
     "execution_count": 28,
     "metadata": {},
     "output_type": "execute_result"
    }
   ],
   "source": [
    "data_streets = data.groupby('street', as_index=False)['id'].count().sort_values(by='id', ascending=False).drop(index=[1331, 1407]).head(10)\n",
    "data_streets"
   ]
  },
  {
   "cell_type": "code",
   "execution_count": 29,
   "metadata": {},
   "outputs": [
    {
     "data": {
      "image/png": "[encoded data removed]",
      "text/plain": [
       "<Figure size 504x504 with 1 Axes>"
      ]
     },
     "metadata": {
      "needs_background": "light"
     },
     "output_type": "display_data"
    }
   ],
   "source": [
    "plt.figure(figsize=(7, 7))\n",
    "\n",
    "sns.barplot(data=data_streets, x='street', y='id', color='yellow', saturation=0.75)\n",
    "\n",
    "plt.title('Топ-10 улиц с заведениями общественного питания в Москве')\n",
    "plt.xlabel('Тип объекта общественного питания')\n",
    "plt.ylabel('Количество, шт.')\n",
    "plt.xticks(rotation=80) \n",
    "plt.grid()\n",
    "\n",
    "plt.savefig('6.png')\n",
    "plt.show()"
   ]
  },
  {
   "cell_type": "markdown",
   "metadata": {},
   "source": [
    "На графике представлены Топ-10 улиц Москвы с самым большим количеством заведений общественного питания.   \n",
    "Лидеры:\n",
    "- проспект Мира (8,9 км);   \n",
    "- Профсоюзная улица (9,3 км);   \n",
    "- Ленинградский проспект (5,6 км)."
   ]
  },
  {
   "cell_type": "code",
   "execution_count": 30,
   "metadata": {},
   "outputs": [
    {
     "data": {
      "text/html": [
       "<div>\n",
       "<style scoped>\n",
       "    .dataframe tbody tr th:only-of-type {\n",
       "        vertical-align: middle;\n",
       "    }\n",
       "\n",
       "    .dataframe tbody tr th {\n",
       "        vertical-align: top;\n",
       "    }\n",
       "\n",
       "    .dataframe thead th {\n",
       "        text-align: right;\n",
       "    }\n",
       "</style>\n",
       "<table border=\"1\" class=\"dataframe\">\n",
       "  <thead>\n",
       "    <tr style=\"text-align: right;\">\n",
       "      <th></th>\n",
       "      <th>streetname</th>\n",
       "      <th>areaid</th>\n",
       "      <th>okrug</th>\n",
       "      <th>area</th>\n",
       "    </tr>\n",
       "  </thead>\n",
       "  <tbody>\n",
       "    <tr>\n",
       "      <th>0</th>\n",
       "      <td>Выставочный переулок</td>\n",
       "      <td>17</td>\n",
       "      <td>ЦАО</td>\n",
       "      <td>Пресненский район</td>\n",
       "    </tr>\n",
       "    <tr>\n",
       "      <th>1</th>\n",
       "      <td>улица Гашека</td>\n",
       "      <td>17</td>\n",
       "      <td>ЦАО</td>\n",
       "      <td>Пресненский район</td>\n",
       "    </tr>\n",
       "    <tr>\n",
       "      <th>2</th>\n",
       "      <td>Большая Никитская улица</td>\n",
       "      <td>17</td>\n",
       "      <td>ЦАО</td>\n",
       "      <td>Пресненский район</td>\n",
       "    </tr>\n",
       "    <tr>\n",
       "      <th>3</th>\n",
       "      <td>Глубокий переулок</td>\n",
       "      <td>17</td>\n",
       "      <td>ЦАО</td>\n",
       "      <td>Пресненский район</td>\n",
       "    </tr>\n",
       "    <tr>\n",
       "      <th>4</th>\n",
       "      <td>Большой Гнездниковский переулок</td>\n",
       "      <td>17</td>\n",
       "      <td>ЦАО</td>\n",
       "      <td>Пресненский район</td>\n",
       "    </tr>\n",
       "    <tr>\n",
       "      <th>...</th>\n",
       "      <td>...</td>\n",
       "      <td>...</td>\n",
       "      <td>...</td>\n",
       "      <td>...</td>\n",
       "    </tr>\n",
       "    <tr>\n",
       "      <th>4393</th>\n",
       "      <td>Вознесенский проезд</td>\n",
       "      <td>17</td>\n",
       "      <td>ЦАО</td>\n",
       "      <td>Пресненский район</td>\n",
       "    </tr>\n",
       "    <tr>\n",
       "      <th>4394</th>\n",
       "      <td>Волков переулок</td>\n",
       "      <td>17</td>\n",
       "      <td>ЦАО</td>\n",
       "      <td>Пресненский район</td>\n",
       "    </tr>\n",
       "    <tr>\n",
       "      <th>4395</th>\n",
       "      <td>Поварская улица</td>\n",
       "      <td>17</td>\n",
       "      <td>ЦАО</td>\n",
       "      <td>Пресненский район</td>\n",
       "    </tr>\n",
       "    <tr>\n",
       "      <th>4396</th>\n",
       "      <td>Кудринская площадь</td>\n",
       "      <td>17</td>\n",
       "      <td>ЦАО</td>\n",
       "      <td>Пресненский район</td>\n",
       "    </tr>\n",
       "    <tr>\n",
       "      <th>4397</th>\n",
       "      <td>Вспольный переулок</td>\n",
       "      <td>17</td>\n",
       "      <td>ЦАО</td>\n",
       "      <td>Пресненский район</td>\n",
       "    </tr>\n",
       "  </tbody>\n",
       "</table>\n",
       "<p>4398 rows × 4 columns</p>\n",
       "</div>"
      ],
      "text/plain": [
       "                           streetname  areaid okrug               area\n",
       "0                Выставочный переулок      17   ЦАО  Пресненский район\n",
       "1                        улица Гашека      17   ЦАО  Пресненский район\n",
       "2             Большая Никитская улица      17   ЦАО  Пресненский район\n",
       "3                   Глубокий переулок      17   ЦАО  Пресненский район\n",
       "4     Большой Гнездниковский переулок      17   ЦАО  Пресненский район\n",
       "...                               ...     ...   ...                ...\n",
       "4393              Вознесенский проезд      17   ЦАО  Пресненский район\n",
       "4394                  Волков переулок      17   ЦАО  Пресненский район\n",
       "4395                  Поварская улица      17   ЦАО  Пресненский район\n",
       "4396               Кудринская площадь      17   ЦАО  Пресненский район\n",
       "4397               Вспольный переулок      17   ЦАО  Пресненский район\n",
       "\n",
       "[4398 rows x 4 columns]"
      ]
     },
     "execution_count": 30,
     "metadata": {},
     "output_type": "execute_result"
    }
   ],
   "source": [
    "spreadsheet_id = '1CPDYDGjKCb6jGoQt9KR5WOvTspK-dHS3NUrVeqsyqJs'\n",
    "file_name = 'https://docs.google.com/spreadsheets/d/{}/export?format=csv'.format(spreadsheet_id)\n",
    "r = requests.get(file_name)\n",
    "data_areas = pd.read_csv(BytesIO(r.content))\n",
    "data_areas"
   ]
  },
  {
   "cell_type": "code",
   "execution_count": 31,
   "metadata": {},
   "outputs": [
    {
     "data": {
      "text/html": [
       "<div>\n",
       "<style scoped>\n",
       "    .dataframe tbody tr th:only-of-type {\n",
       "        vertical-align: middle;\n",
       "    }\n",
       "\n",
       "    .dataframe tbody tr th {\n",
       "        vertical-align: top;\n",
       "    }\n",
       "\n",
       "    .dataframe thead th {\n",
       "        text-align: right;\n",
       "    }\n",
       "</style>\n",
       "<table border=\"1\" class=\"dataframe\">\n",
       "  <thead>\n",
       "    <tr style=\"text-align: right;\">\n",
       "      <th></th>\n",
       "      <th>street</th>\n",
       "      <th>id</th>\n",
       "      <th>streetname</th>\n",
       "      <th>areaid</th>\n",
       "      <th>okrug</th>\n",
       "      <th>area</th>\n",
       "    </tr>\n",
       "  </thead>\n",
       "  <tbody>\n",
       "    <tr>\n",
       "      <th>0</th>\n",
       "      <td>проспект Мира</td>\n",
       "      <td>204</td>\n",
       "      <td>проспект Мира</td>\n",
       "      <td>70</td>\n",
       "      <td>СВАО</td>\n",
       "      <td>Алексеевский район</td>\n",
       "    </tr>\n",
       "    <tr>\n",
       "      <th>1</th>\n",
       "      <td>проспект Мира</td>\n",
       "      <td>204</td>\n",
       "      <td>проспект Мира</td>\n",
       "      <td>86</td>\n",
       "      <td>СВАО</td>\n",
       "      <td>Ярославский Район</td>\n",
       "    </tr>\n",
       "    <tr>\n",
       "      <th>2</th>\n",
       "      <td>проспект Мира</td>\n",
       "      <td>204</td>\n",
       "      <td>проспект Мира</td>\n",
       "      <td>78</td>\n",
       "      <td>СВАО</td>\n",
       "      <td>Район Марьина роща</td>\n",
       "    </tr>\n",
       "    <tr>\n",
       "      <th>3</th>\n",
       "      <td>проспект Мира</td>\n",
       "      <td>204</td>\n",
       "      <td>проспект Мира</td>\n",
       "      <td>79</td>\n",
       "      <td>СВАО</td>\n",
       "      <td>Останкинский район</td>\n",
       "    </tr>\n",
       "    <tr>\n",
       "      <th>4</th>\n",
       "      <td>проспект Мира</td>\n",
       "      <td>204</td>\n",
       "      <td>проспект Мира</td>\n",
       "      <td>81</td>\n",
       "      <td>СВАО</td>\n",
       "      <td>Район Ростокино</td>\n",
       "    </tr>\n",
       "    <tr>\n",
       "      <th>5</th>\n",
       "      <td>проспект Мира</td>\n",
       "      <td>204</td>\n",
       "      <td>проспект Мира</td>\n",
       "      <td>82</td>\n",
       "      <td>СВАО</td>\n",
       "      <td>Район Свиблово</td>\n",
       "    </tr>\n",
       "    <tr>\n",
       "      <th>6</th>\n",
       "      <td>проспект Мира</td>\n",
       "      <td>204</td>\n",
       "      <td>проспект Мира</td>\n",
       "      <td>16</td>\n",
       "      <td>ЦАО</td>\n",
       "      <td>Мещанский район</td>\n",
       "    </tr>\n",
       "    <tr>\n",
       "      <th>7</th>\n",
       "      <td>Профсоюзная улица</td>\n",
       "      <td>182</td>\n",
       "      <td>Профсоюзная улица</td>\n",
       "      <td>123</td>\n",
       "      <td>ЮЗАО</td>\n",
       "      <td>Академический район</td>\n",
       "    </tr>\n",
       "    <tr>\n",
       "      <th>8</th>\n",
       "      <td>Профсоюзная улица</td>\n",
       "      <td>182</td>\n",
       "      <td>Профсоюзная улица</td>\n",
       "      <td>132</td>\n",
       "      <td>ЮЗАО</td>\n",
       "      <td>Район Черемушки</td>\n",
       "    </tr>\n",
       "    <tr>\n",
       "      <th>9</th>\n",
       "      <td>Профсоюзная улица</td>\n",
       "      <td>182</td>\n",
       "      <td>Профсоюзная улица</td>\n",
       "      <td>134</td>\n",
       "      <td>ЮЗАО</td>\n",
       "      <td>Район Ясенево</td>\n",
       "    </tr>\n",
       "    <tr>\n",
       "      <th>10</th>\n",
       "      <td>Профсоюзная улица</td>\n",
       "      <td>182</td>\n",
       "      <td>Профсоюзная улица</td>\n",
       "      <td>126</td>\n",
       "      <td>ЮЗАО</td>\n",
       "      <td>Район Коньково</td>\n",
       "    </tr>\n",
       "    <tr>\n",
       "      <th>11</th>\n",
       "      <td>Профсоюзная улица</td>\n",
       "      <td>182</td>\n",
       "      <td>Профсоюзная улица</td>\n",
       "      <td>129</td>\n",
       "      <td>ЮЗАО</td>\n",
       "      <td>Обручевский район</td>\n",
       "    </tr>\n",
       "    <tr>\n",
       "      <th>12</th>\n",
       "      <td>Профсоюзная улица</td>\n",
       "      <td>182</td>\n",
       "      <td>Профсоюзная улица</td>\n",
       "      <td>131</td>\n",
       "      <td>ЮЗАО</td>\n",
       "      <td>Район Теплый Стан</td>\n",
       "    </tr>\n",
       "    <tr>\n",
       "      <th>13</th>\n",
       "      <td>Ленинградский проспект</td>\n",
       "      <td>171</td>\n",
       "      <td>Ленинградский проспект</td>\n",
       "      <td>54</td>\n",
       "      <td>САО</td>\n",
       "      <td>Район Аэропорт</td>\n",
       "    </tr>\n",
       "    <tr>\n",
       "      <th>14</th>\n",
       "      <td>Ленинградский проспект</td>\n",
       "      <td>171</td>\n",
       "      <td>Ленинградский проспект</td>\n",
       "      <td>55</td>\n",
       "      <td>САО</td>\n",
       "      <td>Район Беговой</td>\n",
       "    </tr>\n",
       "    <tr>\n",
       "      <th>15</th>\n",
       "      <td>Ленинградский проспект</td>\n",
       "      <td>171</td>\n",
       "      <td>Ленинградский проспект</td>\n",
       "      <td>69</td>\n",
       "      <td>САО</td>\n",
       "      <td>Хорошевский район</td>\n",
       "    </tr>\n",
       "    <tr>\n",
       "      <th>16</th>\n",
       "      <td>Ленинградский проспект</td>\n",
       "      <td>171</td>\n",
       "      <td>Ленинградский проспект</td>\n",
       "      <td>66</td>\n",
       "      <td>САО</td>\n",
       "      <td>Район Сокол</td>\n",
       "    </tr>\n",
       "    <tr>\n",
       "      <th>17</th>\n",
       "      <td>Пресненская набережная</td>\n",
       "      <td>167</td>\n",
       "      <td>Пресненская набережная</td>\n",
       "      <td>17</td>\n",
       "      <td>ЦАО</td>\n",
       "      <td>Пресненский район</td>\n",
       "    </tr>\n",
       "    <tr>\n",
       "      <th>18</th>\n",
       "      <td>Варшавское шоссе</td>\n",
       "      <td>161</td>\n",
       "      <td>Варшавское шоссе</td>\n",
       "      <td>109</td>\n",
       "      <td>ЮАО</td>\n",
       "      <td>Район Чертаново Центральное</td>\n",
       "    </tr>\n",
       "    <tr>\n",
       "      <th>19</th>\n",
       "      <td>Варшавское шоссе</td>\n",
       "      <td>161</td>\n",
       "      <td>Варшавское шоссе</td>\n",
       "      <td>108</td>\n",
       "      <td>ЮАО</td>\n",
       "      <td>Район Чертаново Северное</td>\n",
       "    </tr>\n",
       "    <tr>\n",
       "      <th>20</th>\n",
       "      <td>Варшавское шоссе</td>\n",
       "      <td>161</td>\n",
       "      <td>Варшавское шоссе</td>\n",
       "      <td>110</td>\n",
       "      <td>ЮАО</td>\n",
       "      <td>Район Чертаново Южное</td>\n",
       "    </tr>\n",
       "    <tr>\n",
       "      <th>21</th>\n",
       "      <td>Варшавское шоссе</td>\n",
       "      <td>161</td>\n",
       "      <td>Варшавское шоссе</td>\n",
       "      <td>99</td>\n",
       "      <td>ЮАО</td>\n",
       "      <td>Донской район</td>\n",
       "    </tr>\n",
       "    <tr>\n",
       "      <th>22</th>\n",
       "      <td>Варшавское шоссе</td>\n",
       "      <td>161</td>\n",
       "      <td>Варшавское шоссе</td>\n",
       "      <td>102</td>\n",
       "      <td>ЮАО</td>\n",
       "      <td>Район Нагатино-Садовники</td>\n",
       "    </tr>\n",
       "    <tr>\n",
       "      <th>23</th>\n",
       "      <td>Варшавское шоссе</td>\n",
       "      <td>161</td>\n",
       "      <td>Варшавское шоссе</td>\n",
       "      <td>104</td>\n",
       "      <td>ЮАО</td>\n",
       "      <td>Нагорный район</td>\n",
       "    </tr>\n",
       "    <tr>\n",
       "      <th>24</th>\n",
       "      <td>Варшавское шоссе</td>\n",
       "      <td>161</td>\n",
       "      <td>Варшавское шоссе</td>\n",
       "      <td>130</td>\n",
       "      <td>ЮЗАО</td>\n",
       "      <td>Район Северное Бутово</td>\n",
       "    </tr>\n",
       "    <tr>\n",
       "      <th>25</th>\n",
       "      <td>Варшавское шоссе</td>\n",
       "      <td>161</td>\n",
       "      <td>Варшавское шоссе</td>\n",
       "      <td>133</td>\n",
       "      <td>ЮЗАО</td>\n",
       "      <td>Район Южное Бутово</td>\n",
       "    </tr>\n",
       "    <tr>\n",
       "      <th>26</th>\n",
       "      <td>Ленинский проспект</td>\n",
       "      <td>147</td>\n",
       "      <td>Ленинский проспект</td>\n",
       "      <td>44</td>\n",
       "      <td>ЗАО</td>\n",
       "      <td>Район Проспект Вернадского</td>\n",
       "    </tr>\n",
       "    <tr>\n",
       "      <th>27</th>\n",
       "      <td>Ленинский проспект</td>\n",
       "      <td>147</td>\n",
       "      <td>Ленинский проспект</td>\n",
       "      <td>47</td>\n",
       "      <td>ЗАО</td>\n",
       "      <td>Район Тропарево-Никулино</td>\n",
       "    </tr>\n",
       "    <tr>\n",
       "      <th>28</th>\n",
       "      <td>Ленинский проспект</td>\n",
       "      <td>147</td>\n",
       "      <td>Ленинский проспект</td>\n",
       "      <td>99</td>\n",
       "      <td>ЮАО</td>\n",
       "      <td>Донской район</td>\n",
       "    </tr>\n",
       "    <tr>\n",
       "      <th>29</th>\n",
       "      <td>Ленинский проспект</td>\n",
       "      <td>147</td>\n",
       "      <td>Ленинский проспект</td>\n",
       "      <td>124</td>\n",
       "      <td>ЮЗАО</td>\n",
       "      <td>Район Гагаринский</td>\n",
       "    </tr>\n",
       "    <tr>\n",
       "      <th>30</th>\n",
       "      <td>Ленинский проспект</td>\n",
       "      <td>147</td>\n",
       "      <td>Ленинский проспект</td>\n",
       "      <td>128</td>\n",
       "      <td>ЮЗАО</td>\n",
       "      <td>Ломоносовский район</td>\n",
       "    </tr>\n",
       "    <tr>\n",
       "      <th>31</th>\n",
       "      <td>Ленинский проспект</td>\n",
       "      <td>147</td>\n",
       "      <td>Ленинский проспект</td>\n",
       "      <td>129</td>\n",
       "      <td>ЮЗАО</td>\n",
       "      <td>Обручевский район</td>\n",
       "    </tr>\n",
       "    <tr>\n",
       "      <th>32</th>\n",
       "      <td>Ленинский проспект</td>\n",
       "      <td>147</td>\n",
       "      <td>Ленинский проспект</td>\n",
       "      <td>131</td>\n",
       "      <td>ЮЗАО</td>\n",
       "      <td>Район Теплый Стан</td>\n",
       "    </tr>\n",
       "    <tr>\n",
       "      <th>33</th>\n",
       "      <td>Ленинский проспект</td>\n",
       "      <td>147</td>\n",
       "      <td>Ленинский проспект</td>\n",
       "      <td>21</td>\n",
       "      <td>ЦАО</td>\n",
       "      <td>Район Якиманка</td>\n",
       "    </tr>\n",
       "    <tr>\n",
       "      <th>34</th>\n",
       "      <td>проспект Вернадского</td>\n",
       "      <td>132</td>\n",
       "      <td>проспект Вернадского</td>\n",
       "      <td>44</td>\n",
       "      <td>ЗАО</td>\n",
       "      <td>Район Проспект Вернадского</td>\n",
       "    </tr>\n",
       "    <tr>\n",
       "      <th>35</th>\n",
       "      <td>проспект Вернадского</td>\n",
       "      <td>132</td>\n",
       "      <td>проспект Вернадского</td>\n",
       "      <td>45</td>\n",
       "      <td>ЗАО</td>\n",
       "      <td>Район Раменки</td>\n",
       "    </tr>\n",
       "    <tr>\n",
       "      <th>36</th>\n",
       "      <td>проспект Вернадского</td>\n",
       "      <td>132</td>\n",
       "      <td>проспект Вернадского</td>\n",
       "      <td>47</td>\n",
       "      <td>ЗАО</td>\n",
       "      <td>Район Тропарево-Никулино</td>\n",
       "    </tr>\n",
       "    <tr>\n",
       "      <th>37</th>\n",
       "      <td>проспект Вернадского</td>\n",
       "      <td>132</td>\n",
       "      <td>проспект Вернадского</td>\n",
       "      <td>124</td>\n",
       "      <td>ЮЗАО</td>\n",
       "      <td>Район Гагаринский</td>\n",
       "    </tr>\n",
       "    <tr>\n",
       "      <th>38</th>\n",
       "      <td>проспект Вернадского</td>\n",
       "      <td>132</td>\n",
       "      <td>проспект Вернадского</td>\n",
       "      <td>128</td>\n",
       "      <td>ЮЗАО</td>\n",
       "      <td>Ломоносовский район</td>\n",
       "    </tr>\n",
       "    <tr>\n",
       "      <th>39</th>\n",
       "      <td>Кутузовский проспект</td>\n",
       "      <td>114</td>\n",
       "      <td>Кутузовский проспект</td>\n",
       "      <td>38</td>\n",
       "      <td>ЗАО</td>\n",
       "      <td>Район Дорогомилово</td>\n",
       "    </tr>\n",
       "    <tr>\n",
       "      <th>40</th>\n",
       "      <td>Кутузовский проспект</td>\n",
       "      <td>114</td>\n",
       "      <td>Кутузовский проспект</td>\n",
       "      <td>49</td>\n",
       "      <td>ЗАО</td>\n",
       "      <td>Район Фили-Давыдково</td>\n",
       "    </tr>\n",
       "    <tr>\n",
       "      <th>41</th>\n",
       "      <td>Каширское шоссе</td>\n",
       "      <td>112</td>\n",
       "      <td>Каширское шоссе</td>\n",
       "      <td>101</td>\n",
       "      <td>ЮАО</td>\n",
       "      <td>Район Москворечье-Сабурово</td>\n",
       "    </tr>\n",
       "    <tr>\n",
       "      <th>42</th>\n",
       "      <td>Каширское шоссе</td>\n",
       "      <td>112</td>\n",
       "      <td>Каширское шоссе</td>\n",
       "      <td>102</td>\n",
       "      <td>ЮАО</td>\n",
       "      <td>Район Нагатино-Садовники</td>\n",
       "    </tr>\n",
       "    <tr>\n",
       "      <th>43</th>\n",
       "      <td>Каширское шоссе</td>\n",
       "      <td>112</td>\n",
       "      <td>Каширское шоссе</td>\n",
       "      <td>106</td>\n",
       "      <td>ЮАО</td>\n",
       "      <td>Район Орехово-Борисово Южное</td>\n",
       "    </tr>\n",
       "    <tr>\n",
       "      <th>44</th>\n",
       "      <td>Каширское шоссе</td>\n",
       "      <td>112</td>\n",
       "      <td>Каширское шоссе</td>\n",
       "      <td>105</td>\n",
       "      <td>ЮАО</td>\n",
       "      <td>Район Орехово-Борисово Северное</td>\n",
       "    </tr>\n",
       "    <tr>\n",
       "      <th>45</th>\n",
       "      <td>Кировоградская улица</td>\n",
       "      <td>110</td>\n",
       "      <td>Кировоградская улица</td>\n",
       "      <td>109</td>\n",
       "      <td>ЮАО</td>\n",
       "      <td>Район Чертаново Центральное</td>\n",
       "    </tr>\n",
       "    <tr>\n",
       "      <th>46</th>\n",
       "      <td>Кировоградская улица</td>\n",
       "      <td>110</td>\n",
       "      <td>Кировоградская улица</td>\n",
       "      <td>108</td>\n",
       "      <td>ЮАО</td>\n",
       "      <td>Район Чертаново Северное</td>\n",
       "    </tr>\n",
       "    <tr>\n",
       "      <th>47</th>\n",
       "      <td>Кировоградская улица</td>\n",
       "      <td>110</td>\n",
       "      <td>Кировоградская улица</td>\n",
       "      <td>110</td>\n",
       "      <td>ЮАО</td>\n",
       "      <td>Район Чертаново Южное</td>\n",
       "    </tr>\n",
       "  </tbody>\n",
       "</table>\n",
       "</div>"
      ],
      "text/plain": [
       "                    street   id              streetname  areaid okrug  \\\n",
       "0            проспект Мира  204           проспект Мира      70  СВАО   \n",
       "1            проспект Мира  204           проспект Мира      86  СВАО   \n",
       "2            проспект Мира  204           проспект Мира      78  СВАО   \n",
       "3            проспект Мира  204           проспект Мира      79  СВАО   \n",
       "4            проспект Мира  204           проспект Мира      81  СВАО   \n",
       "5            проспект Мира  204           проспект Мира      82  СВАО   \n",
       "6            проспект Мира  204           проспект Мира      16   ЦАО   \n",
       "7        Профсоюзная улица  182       Профсоюзная улица     123  ЮЗАО   \n",
       "8        Профсоюзная улица  182       Профсоюзная улица     132  ЮЗАО   \n",
       "9        Профсоюзная улица  182       Профсоюзная улица     134  ЮЗАО   \n",
       "10       Профсоюзная улица  182       Профсоюзная улица     126  ЮЗАО   \n",
       "11       Профсоюзная улица  182       Профсоюзная улица     129  ЮЗАО   \n",
       "12       Профсоюзная улица  182       Профсоюзная улица     131  ЮЗАО   \n",
       "13  Ленинградский проспект  171  Ленинградский проспект      54   САО   \n",
       "14  Ленинградский проспект  171  Ленинградский проспект      55   САО   \n",
       "15  Ленинградский проспект  171  Ленинградский проспект      69   САО   \n",
       "16  Ленинградский проспект  171  Ленинградский проспект      66   САО   \n",
       "17  Пресненская набережная  167  Пресненская набережная      17   ЦАО   \n",
       "18        Варшавское шоссе  161        Варшавское шоссе     109   ЮАО   \n",
       "19        Варшавское шоссе  161        Варшавское шоссе     108   ЮАО   \n",
       "20        Варшавское шоссе  161        Варшавское шоссе     110   ЮАО   \n",
       "21        Варшавское шоссе  161        Варшавское шоссе      99   ЮАО   \n",
       "22        Варшавское шоссе  161        Варшавское шоссе     102   ЮАО   \n",
       "23        Варшавское шоссе  161        Варшавское шоссе     104   ЮАО   \n",
       "24        Варшавское шоссе  161        Варшавское шоссе     130  ЮЗАО   \n",
       "25        Варшавское шоссе  161        Варшавское шоссе     133  ЮЗАО   \n",
       "26      Ленинский проспект  147      Ленинский проспект      44   ЗАО   \n",
       "27      Ленинский проспект  147      Ленинский проспект      47   ЗАО   \n",
       "28      Ленинский проспект  147      Ленинский проспект      99   ЮАО   \n",
       "29      Ленинский проспект  147      Ленинский проспект     124  ЮЗАО   \n",
       "30      Ленинский проспект  147      Ленинский проспект     128  ЮЗАО   \n",
       "31      Ленинский проспект  147      Ленинский проспект     129  ЮЗАО   \n",
       "32      Ленинский проспект  147      Ленинский проспект     131  ЮЗАО   \n",
       "33      Ленинский проспект  147      Ленинский проспект      21   ЦАО   \n",
       "34    проспект Вернадского  132    проспект Вернадского      44   ЗАО   \n",
       "35    проспект Вернадского  132    проспект Вернадского      45   ЗАО   \n",
       "36    проспект Вернадского  132    проспект Вернадского      47   ЗАО   \n",
       "37    проспект Вернадского  132    проспект Вернадского     124  ЮЗАО   \n",
       "38    проспект Вернадского  132    проспект Вернадского     128  ЮЗАО   \n",
       "39    Кутузовский проспект  114    Кутузовский проспект      38   ЗАО   \n",
       "40    Кутузовский проспект  114    Кутузовский проспект      49   ЗАО   \n",
       "41         Каширское шоссе  112         Каширское шоссе     101   ЮАО   \n",
       "42         Каширское шоссе  112         Каширское шоссе     102   ЮАО   \n",
       "43         Каширское шоссе  112         Каширское шоссе     106   ЮАО   \n",
       "44         Каширское шоссе  112         Каширское шоссе     105   ЮАО   \n",
       "45    Кировоградская улица  110    Кировоградская улица     109   ЮАО   \n",
       "46    Кировоградская улица  110    Кировоградская улица     108   ЮАО   \n",
       "47    Кировоградская улица  110    Кировоградская улица     110   ЮАО   \n",
       "\n",
       "                               area  \n",
       "0                Алексеевский район  \n",
       "1                 Ярославский Район  \n",
       "2                Район Марьина роща  \n",
       "3                Останкинский район  \n",
       "4                   Район Ростокино  \n",
       "5                    Район Свиблово  \n",
       "6                   Мещанский район  \n",
       "7               Академический район  \n",
       "8                   Район Черемушки  \n",
       "9                     Район Ясенево  \n",
       "10                   Район Коньково  \n",
       "11                Обручевский район  \n",
       "12                Район Теплый Стан  \n",
       "13                   Район Аэропорт  \n",
       "14                    Район Беговой  \n",
       "15                Хорошевский район  \n",
       "16                      Район Сокол  \n",
       "17                Пресненский район  \n",
       "18      Район Чертаново Центральное  \n",
       "19         Район Чертаново Северное  \n",
       "20            Район Чертаново Южное  \n",
       "21                    Донской район  \n",
       "22         Район Нагатино-Садовники  \n",
       "23                   Нагорный район  \n",
       "24            Район Северное Бутово  \n",
       "25               Район Южное Бутово  \n",
       "26       Район Проспект Вернадского  \n",
       "27         Район Тропарево-Никулино  \n",
       "28                    Донской район  \n",
       "29                Район Гагаринский  \n",
       "30              Ломоносовский район  \n",
       "31                Обручевский район  \n",
       "32                Район Теплый Стан  \n",
       "33                   Район Якиманка  \n",
       "34       Район Проспект Вернадского  \n",
       "35                    Район Раменки  \n",
       "36         Район Тропарево-Никулино  \n",
       "37                Район Гагаринский  \n",
       "38              Ломоносовский район  \n",
       "39               Район Дорогомилово  \n",
       "40             Район Фили-Давыдково  \n",
       "41       Район Москворечье-Сабурово  \n",
       "42         Район Нагатино-Садовники  \n",
       "43     Район Орехово-Борисово Южное  \n",
       "44  Район Орехово-Борисово Северное  \n",
       "45      Район Чертаново Центральное  \n",
       "46         Район Чертаново Северное  \n",
       "47            Район Чертаново Южное  "
      ]
     },
     "execution_count": 31,
     "metadata": {},
     "output_type": "execute_result"
    }
   ],
   "source": [
    "areas_top_10 = data_streets.merge(data_areas, left_on='street', right_on='streetname')\n",
    "areas_top_10"
   ]
  },
  {
   "cell_type": "code",
   "execution_count": 32,
   "metadata": {
    "scrolled": true
   },
   "outputs": [
    {
     "name": "stdout",
     "output_type": "stream",
     "text": [
      "Улицы с самым большим количеством заведений общественного питания располагаются в районах: ['Алексеевский район' 'Ярославский Район' 'Район Марьина роща'\n",
      " 'Останкинский район' 'Район Ростокино' 'Район Свиблово' 'Мещанский район'\n",
      " 'Академический район' 'Район Черемушки' 'Район Ясенево' 'Район Коньково'\n",
      " 'Обручевский район' 'Район Теплый Стан' 'Район Аэропорт' 'Район Беговой'\n",
      " 'Хорошевский район' 'Район Сокол' 'Пресненский район'\n",
      " 'Район Чертаново Центральное' 'Район Чертаново Северное'\n",
      " 'Район Чертаново Южное' 'Донской район' 'Район Нагатино-Садовники'\n",
      " 'Нагорный район' 'Район Северное Бутово' 'Район Южное Бутово'\n",
      " 'Район Проспект Вернадского' 'Район Тропарево-Никулино'\n",
      " 'Район Гагаринский' 'Ломоносовский район' 'Район Якиманка'\n",
      " 'Район Раменки' 'Район Дорогомилово' 'Район Фили-Давыдково'\n",
      " 'Район Москворечье-Сабурово' 'Район Орехово-Борисово Южное'\n",
      " 'Район Орехово-Борисово Северное']\n"
     ]
    }
   ],
   "source": [
    "print(\"Улицы с самым большим количеством заведений общественного питания располагаются в районах:\", areas_top_10['area'].unique())"
   ]
  },
  {
   "cell_type": "code",
   "execution_count": 43,
   "metadata": {},
   "outputs": [
    {
     "data": {
      "text/html": [
       "<div>\n",
       "<style scoped>\n",
       "    .dataframe tbody tr th:only-of-type {\n",
       "        vertical-align: middle;\n",
       "    }\n",
       "\n",
       "    .dataframe tbody tr th {\n",
       "        vertical-align: top;\n",
       "    }\n",
       "\n",
       "    .dataframe thead th {\n",
       "        text-align: right;\n",
       "    }\n",
       "</style>\n",
       "<table border=\"1\" class=\"dataframe\">\n",
       "  <thead>\n",
       "    <tr style=\"text-align: right;\">\n",
       "      <th></th>\n",
       "      <th>streetname</th>\n",
       "      <th>okrug</th>\n",
       "      <th>area</th>\n",
       "    </tr>\n",
       "  </thead>\n",
       "  <tbody>\n",
       "    <tr>\n",
       "      <th>0</th>\n",
       "      <td>Варшавское шоссе</td>\n",
       "      <td>{ЮЗАО, ЮАО}</td>\n",
       "      <td>{Район Чертаново Северное, Район Чертаново Цен...</td>\n",
       "    </tr>\n",
       "    <tr>\n",
       "      <th>1</th>\n",
       "      <td>Каширское шоссе</td>\n",
       "      <td>{ЮАО}</td>\n",
       "      <td>{Район Москворечье-Сабурово, Район Орехово-Бор...</td>\n",
       "    </tr>\n",
       "    <tr>\n",
       "      <th>2</th>\n",
       "      <td>Кировоградская улица</td>\n",
       "      <td>{ЮАО}</td>\n",
       "      <td>{Район Чертаново Северное, Район Чертаново Цен...</td>\n",
       "    </tr>\n",
       "    <tr>\n",
       "      <th>3</th>\n",
       "      <td>Кутузовский проспект</td>\n",
       "      <td>{ЗАО}</td>\n",
       "      <td>{Район Дорогомилово, Район Фили-Давыдково}</td>\n",
       "    </tr>\n",
       "    <tr>\n",
       "      <th>4</th>\n",
       "      <td>Ленинградский проспект</td>\n",
       "      <td>{САО}</td>\n",
       "      <td>{Район Беговой, Район Аэропорт, Район Сокол, Х...</td>\n",
       "    </tr>\n",
       "    <tr>\n",
       "      <th>5</th>\n",
       "      <td>Ленинский проспект</td>\n",
       "      <td>{ЦАО, ЮЗАО, ЮАО, ЗАО}</td>\n",
       "      <td>{Район Гагаринский, Район Теплый Стан, Ломонос...</td>\n",
       "    </tr>\n",
       "    <tr>\n",
       "      <th>6</th>\n",
       "      <td>Пресненская набережная</td>\n",
       "      <td>{ЦАО}</td>\n",
       "      <td>{Пресненский район}</td>\n",
       "    </tr>\n",
       "    <tr>\n",
       "      <th>7</th>\n",
       "      <td>Профсоюзная улица</td>\n",
       "      <td>{ЮЗАО}</td>\n",
       "      <td>{Район Ясенево, Обручевский район, Академическ...</td>\n",
       "    </tr>\n",
       "    <tr>\n",
       "      <th>8</th>\n",
       "      <td>проспект Вернадского</td>\n",
       "      <td>{ЮЗАО, ЗАО}</td>\n",
       "      <td>{Район Тропарево-Никулино, Район Гагаринский, ...</td>\n",
       "    </tr>\n",
       "    <tr>\n",
       "      <th>9</th>\n",
       "      <td>проспект Мира</td>\n",
       "      <td>{ЦАО, СВАО}</td>\n",
       "      <td>{Мещанский район, Район Марьина роща, Район Ро...</td>\n",
       "    </tr>\n",
       "  </tbody>\n",
       "</table>\n",
       "</div>"
      ],
      "text/plain": [
       "               streetname                  okrug  \\\n",
       "0        Варшавское шоссе            {ЮЗАО, ЮАО}   \n",
       "1         Каширское шоссе                  {ЮАО}   \n",
       "2    Кировоградская улица                  {ЮАО}   \n",
       "3    Кутузовский проспект                  {ЗАО}   \n",
       "4  Ленинградский проспект                  {САО}   \n",
       "5      Ленинский проспект  {ЦАО, ЮЗАО, ЮАО, ЗАО}   \n",
       "6  Пресненская набережная                  {ЦАО}   \n",
       "7       Профсоюзная улица                 {ЮЗАО}   \n",
       "8    проспект Вернадского            {ЮЗАО, ЗАО}   \n",
       "9           проспект Мира            {ЦАО, СВАО}   \n",
       "\n",
       "                                                area  \n",
       "0  {Район Чертаново Северное, Район Чертаново Цен...  \n",
       "1  {Район Москворечье-Сабурово, Район Орехово-Бор...  \n",
       "2  {Район Чертаново Северное, Район Чертаново Цен...  \n",
       "3         {Район Дорогомилово, Район Фили-Давыдково}  \n",
       "4  {Район Беговой, Район Аэропорт, Район Сокол, Х...  \n",
       "5  {Район Гагаринский, Район Теплый Стан, Ломонос...  \n",
       "6                                {Пресненский район}  \n",
       "7  {Район Ясенево, Обручевский район, Академическ...  \n",
       "8  {Район Тропарево-Никулино, Район Гагаринский, ...  \n",
       "9  {Мещанский район, Район Марьина роща, Район Ро...  "
      ]
     },
     "execution_count": 43,
     "metadata": {},
     "output_type": "execute_result"
    }
   ],
   "source": [
    "areas_top_10.groupby('streetname', as_index=False).agg({'okrug': set, 'area': set})"
   ]
  },
  {
   "cell_type": "code",
   "execution_count": 33,
   "metadata": {},
   "outputs": [
    {
     "data": {
      "text/html": [
       "<div>\n",
       "<style scoped>\n",
       "    .dataframe tbody tr th:only-of-type {\n",
       "        vertical-align: middle;\n",
       "    }\n",
       "\n",
       "    .dataframe tbody tr th {\n",
       "        vertical-align: top;\n",
       "    }\n",
       "\n",
       "    .dataframe thead th {\n",
       "        text-align: right;\n",
       "    }\n",
       "</style>\n",
       "<table border=\"1\" class=\"dataframe\">\n",
       "  <thead>\n",
       "    <tr style=\"text-align: right;\">\n",
       "      <th></th>\n",
       "      <th>area</th>\n",
       "    </tr>\n",
       "    <tr>\n",
       "      <th>streetname</th>\n",
       "      <th></th>\n",
       "    </tr>\n",
       "  </thead>\n",
       "  <tbody>\n",
       "    <tr>\n",
       "      <th>Варшавское шоссе</th>\n",
       "      <td>8</td>\n",
       "    </tr>\n",
       "    <tr>\n",
       "      <th>Каширское шоссе</th>\n",
       "      <td>4</td>\n",
       "    </tr>\n",
       "    <tr>\n",
       "      <th>Кировоградская улица</th>\n",
       "      <td>3</td>\n",
       "    </tr>\n",
       "    <tr>\n",
       "      <th>Кутузовский проспект</th>\n",
       "      <td>2</td>\n",
       "    </tr>\n",
       "    <tr>\n",
       "      <th>Ленинградский проспект</th>\n",
       "      <td>4</td>\n",
       "    </tr>\n",
       "    <tr>\n",
       "      <th>Ленинский проспект</th>\n",
       "      <td>8</td>\n",
       "    </tr>\n",
       "    <tr>\n",
       "      <th>Пресненская набережная</th>\n",
       "      <td>1</td>\n",
       "    </tr>\n",
       "    <tr>\n",
       "      <th>Профсоюзная улица</th>\n",
       "      <td>6</td>\n",
       "    </tr>\n",
       "    <tr>\n",
       "      <th>проспект Вернадского</th>\n",
       "      <td>5</td>\n",
       "    </tr>\n",
       "    <tr>\n",
       "      <th>проспект Мира</th>\n",
       "      <td>7</td>\n",
       "    </tr>\n",
       "  </tbody>\n",
       "</table>\n",
       "</div>"
      ],
      "text/plain": [
       "                        area\n",
       "streetname                  \n",
       "Варшавское шоссе           8\n",
       "Каширское шоссе            4\n",
       "Кировоградская улица       3\n",
       "Кутузовский проспект       2\n",
       "Ленинградский проспект     4\n",
       "Ленинский проспект         8\n",
       "Пресненская набережная     1\n",
       "Профсоюзная улица          6\n",
       "проспект Вернадского       5\n",
       "проспект Мира              7"
      ]
     },
     "execution_count": 33,
     "metadata": {},
     "output_type": "execute_result"
    }
   ],
   "source": [
    "areas_top_10.groupby('streetname').count()[['area']]"
   ]
  },
  {
   "cell_type": "markdown",
   "metadata": {},
   "source": [
    "Районов слишком много и распределение равномерно и без перевесов, поэтому сузим аналитику до округов."
   ]
  },
  {
   "cell_type": "code",
   "execution_count": 34,
   "metadata": {},
   "outputs": [
    {
     "data": {
      "text/html": [
       "<div>\n",
       "<style scoped>\n",
       "    .dataframe tbody tr th:only-of-type {\n",
       "        vertical-align: middle;\n",
       "    }\n",
       "\n",
       "    .dataframe tbody tr th {\n",
       "        vertical-align: top;\n",
       "    }\n",
       "\n",
       "    .dataframe thead th {\n",
       "        text-align: right;\n",
       "    }\n",
       "</style>\n",
       "<table border=\"1\" class=\"dataframe\">\n",
       "  <thead>\n",
       "    <tr style=\"text-align: right;\">\n",
       "      <th></th>\n",
       "      <th>okrug</th>\n",
       "      <th>id</th>\n",
       "    </tr>\n",
       "  </thead>\n",
       "  <tbody>\n",
       "    <tr>\n",
       "      <th>4</th>\n",
       "      <td>ЮАО</td>\n",
       "      <td>14</td>\n",
       "    </tr>\n",
       "    <tr>\n",
       "      <th>5</th>\n",
       "      <td>ЮЗАО</td>\n",
       "      <td>14</td>\n",
       "    </tr>\n",
       "    <tr>\n",
       "      <th>0</th>\n",
       "      <td>ЗАО</td>\n",
       "      <td>7</td>\n",
       "    </tr>\n",
       "    <tr>\n",
       "      <th>2</th>\n",
       "      <td>СВАО</td>\n",
       "      <td>6</td>\n",
       "    </tr>\n",
       "    <tr>\n",
       "      <th>1</th>\n",
       "      <td>САО</td>\n",
       "      <td>4</td>\n",
       "    </tr>\n",
       "    <tr>\n",
       "      <th>3</th>\n",
       "      <td>ЦАО</td>\n",
       "      <td>3</td>\n",
       "    </tr>\n",
       "  </tbody>\n",
       "</table>\n",
       "</div>"
      ],
      "text/plain": [
       "  okrug  id\n",
       "4   ЮАО  14\n",
       "5  ЮЗАО  14\n",
       "0   ЗАО   7\n",
       "2  СВАО   6\n",
       "1   САО   4\n",
       "3   ЦАО   3"
      ]
     },
     "execution_count": 34,
     "metadata": {},
     "output_type": "execute_result"
    }
   ],
   "source": [
    "data_areas_top_10 = areas_top_10.groupby('okrug', as_index=False)['id'].count().sort_values(by='id', ascending=False)\n",
    "data_areas_top_10"
   ]
  },
  {
   "cell_type": "code",
   "execution_count": 35,
   "metadata": {},
   "outputs": [
    {
     "data": {
      "image/png": "[encoded data removed]",
      "text/plain": [
       "<Figure size 504x504 with 1 Axes>"
      ]
     },
     "metadata": {
      "needs_background": "light"
     },
     "output_type": "display_data"
    }
   ],
   "source": [
    "plt.figure(figsize=(7, 7))\n",
    "col_map = plt.get_cmap('Paired')\n",
    "\n",
    "plt.bar(\n",
    "    x='okrug', \n",
    "    height='id',\n",
    "    data= data_areas_top_10,\n",
    "    alpha=0.7,\n",
    "    color=col_map.colors, \n",
    "    edgecolor='k'\n",
    ")\n",
    "\n",
    "plt.title('Распределение загруженных улиц по административным райнам Москвы')\n",
    "plt.xlabel('Административный округ Москвы')\n",
    "plt.ylabel('Количество улиц из Топ-10 в округе, шт.')\n",
    "plt.grid()\n",
    "\n",
    "plt.savefig('7.png')\n",
    "plt.show()"
   ]
  },
  {
   "cell_type": "code",
   "execution_count": 36,
   "metadata": {},
   "outputs": [
    {
     "data": {
      "text/html": [
       "<div>\n",
       "<style scoped>\n",
       "    .dataframe tbody tr th:only-of-type {\n",
       "        vertical-align: middle;\n",
       "    }\n",
       "\n",
       "    .dataframe tbody tr th {\n",
       "        vertical-align: top;\n",
       "    }\n",
       "\n",
       "    .dataframe thead th {\n",
       "        text-align: right;\n",
       "    }\n",
       "</style>\n",
       "<table border=\"1\" class=\"dataframe\">\n",
       "  <thead>\n",
       "    <tr style=\"text-align: right;\">\n",
       "      <th></th>\n",
       "      <th>street</th>\n",
       "      <th>id</th>\n",
       "    </tr>\n",
       "  </thead>\n",
       "  <tbody>\n",
       "    <tr>\n",
       "      <th>2</th>\n",
       "      <td>1-й Балтийский переулок</td>\n",
       "      <td>1</td>\n",
       "    </tr>\n",
       "    <tr>\n",
       "      <th>3</th>\n",
       "      <td>1-й Басманный переулок</td>\n",
       "      <td>1</td>\n",
       "    </tr>\n",
       "    <tr>\n",
       "      <th>4</th>\n",
       "      <td>1-й Ботанический проезд</td>\n",
       "      <td>1</td>\n",
       "    </tr>\n",
       "    <tr>\n",
       "      <th>7</th>\n",
       "      <td>1-й Вешняковский проезд</td>\n",
       "      <td>1</td>\n",
       "    </tr>\n",
       "    <tr>\n",
       "      <th>9</th>\n",
       "      <td>1-й Голутвинский переулок</td>\n",
       "      <td>1</td>\n",
       "    </tr>\n",
       "    <tr>\n",
       "      <th>...</th>\n",
       "      <td>...</td>\n",
       "      <td>...</td>\n",
       "    </tr>\n",
       "    <tr>\n",
       "      <th>1873</th>\n",
       "      <td>улица Шеногина</td>\n",
       "      <td>1</td>\n",
       "    </tr>\n",
       "    <tr>\n",
       "      <th>1876</th>\n",
       "      <td>улица Шумилова</td>\n",
       "      <td>1</td>\n",
       "    </tr>\n",
       "    <tr>\n",
       "      <th>1877</th>\n",
       "      <td>улица Шумкина</td>\n",
       "      <td>1</td>\n",
       "    </tr>\n",
       "    <tr>\n",
       "      <th>1881</th>\n",
       "      <td>улица Щорса</td>\n",
       "      <td>1</td>\n",
       "    </tr>\n",
       "    <tr>\n",
       "      <th>1886</th>\n",
       "      <td>шоссе Фрезер</td>\n",
       "      <td>1</td>\n",
       "    </tr>\n",
       "  </tbody>\n",
       "</table>\n",
       "<p>571 rows × 2 columns</p>\n",
       "</div>"
      ],
      "text/plain": [
       "                         street  id\n",
       "2       1-й Балтийский переулок   1\n",
       "3        1-й Басманный переулок   1\n",
       "4       1-й Ботанический проезд   1\n",
       "7       1-й Вешняковский проезд   1\n",
       "9     1-й Голутвинский переулок   1\n",
       "...                         ...  ..\n",
       "1873             улица Шеногина   1\n",
       "1876             улица Шумилова   1\n",
       "1877              улица Шумкина   1\n",
       "1881                улица Щорса   1\n",
       "1886               шоссе Фрезер   1\n",
       "\n",
       "[571 rows x 2 columns]"
      ]
     },
     "execution_count": 36,
     "metadata": {},
     "output_type": "execute_result"
    }
   ],
   "source": [
    "street_only_one = data.groupby('street', as_index=False)['id'].count().query('id == 1')\n",
    "street_only_one"
   ]
  },
  {
   "cell_type": "markdown",
   "metadata": {},
   "source": [
    "В нашей базе 571 улица с одним заведением общественного питания."
   ]
  },
  {
   "cell_type": "code",
   "execution_count": 37,
   "metadata": {},
   "outputs": [
    {
     "data": {
      "text/html": [
       "<div>\n",
       "<style scoped>\n",
       "    .dataframe tbody tr th:only-of-type {\n",
       "        vertical-align: middle;\n",
       "    }\n",
       "\n",
       "    .dataframe tbody tr th {\n",
       "        vertical-align: top;\n",
       "    }\n",
       "\n",
       "    .dataframe thead th {\n",
       "        text-align: right;\n",
       "    }\n",
       "</style>\n",
       "<table border=\"1\" class=\"dataframe\">\n",
       "  <thead>\n",
       "    <tr style=\"text-align: right;\">\n",
       "      <th></th>\n",
       "      <th>street</th>\n",
       "      <th>id</th>\n",
       "      <th>streetname</th>\n",
       "      <th>areaid</th>\n",
       "      <th>okrug</th>\n",
       "      <th>area</th>\n",
       "    </tr>\n",
       "  </thead>\n",
       "  <tbody>\n",
       "    <tr>\n",
       "      <th>0</th>\n",
       "      <td>1-й Балтийский переулок</td>\n",
       "      <td>1</td>\n",
       "      <td>1-й Балтийский переулок</td>\n",
       "      <td>54</td>\n",
       "      <td>САО</td>\n",
       "      <td>Район Аэропорт</td>\n",
       "    </tr>\n",
       "    <tr>\n",
       "      <th>1</th>\n",
       "      <td>1-й Басманный переулок</td>\n",
       "      <td>1</td>\n",
       "      <td>1-й Басманный переулок</td>\n",
       "      <td>13</td>\n",
       "      <td>ЦАО</td>\n",
       "      <td>Басманный район</td>\n",
       "    </tr>\n",
       "    <tr>\n",
       "      <th>2</th>\n",
       "      <td>1-й Басманный переулок</td>\n",
       "      <td>1</td>\n",
       "      <td>1-й Басманный переулок</td>\n",
       "      <td>15</td>\n",
       "      <td>ЦАО</td>\n",
       "      <td>Красносельский район</td>\n",
       "    </tr>\n",
       "    <tr>\n",
       "      <th>3</th>\n",
       "      <td>1-й Ботанический проезд</td>\n",
       "      <td>1</td>\n",
       "      <td>1-й Ботанический проезд</td>\n",
       "      <td>82</td>\n",
       "      <td>СВАО</td>\n",
       "      <td>Район Свиблово</td>\n",
       "    </tr>\n",
       "    <tr>\n",
       "      <th>4</th>\n",
       "      <td>1-й Вешняковский проезд</td>\n",
       "      <td>1</td>\n",
       "      <td>1-й Вешняковский проезд</td>\n",
       "      <td>120</td>\n",
       "      <td>ЮВАО</td>\n",
       "      <td>Рязанский район</td>\n",
       "    </tr>\n",
       "    <tr>\n",
       "      <th>...</th>\n",
       "      <td>...</td>\n",
       "      <td>...</td>\n",
       "      <td>...</td>\n",
       "      <td>...</td>\n",
       "      <td>...</td>\n",
       "      <td>...</td>\n",
       "    </tr>\n",
       "    <tr>\n",
       "      <th>555</th>\n",
       "      <td>улица Шеногина</td>\n",
       "      <td>1</td>\n",
       "      <td>улица Шеногина</td>\n",
       "      <td>92</td>\n",
       "      <td>СЗАО</td>\n",
       "      <td>Район Хорошево-Мневники</td>\n",
       "    </tr>\n",
       "    <tr>\n",
       "      <th>556</th>\n",
       "      <td>улица Шумилова</td>\n",
       "      <td>1</td>\n",
       "      <td>улица Шумилова</td>\n",
       "      <td>113</td>\n",
       "      <td>ЮВАО</td>\n",
       "      <td>Район Кузьминки</td>\n",
       "    </tr>\n",
       "    <tr>\n",
       "      <th>557</th>\n",
       "      <td>улица Шумкина</td>\n",
       "      <td>1</td>\n",
       "      <td>улица Шумкина</td>\n",
       "      <td>26</td>\n",
       "      <td>ВАО</td>\n",
       "      <td>Район Сокольники</td>\n",
       "    </tr>\n",
       "    <tr>\n",
       "      <th>558</th>\n",
       "      <td>улица Щорса</td>\n",
       "      <td>1</td>\n",
       "      <td>улица Щорса</td>\n",
       "      <td>46</td>\n",
       "      <td>ЗАО</td>\n",
       "      <td>Район Солнцево</td>\n",
       "    </tr>\n",
       "    <tr>\n",
       "      <th>559</th>\n",
       "      <td>шоссе Фрезер</td>\n",
       "      <td>1</td>\n",
       "      <td>шоссе Фрезер</td>\n",
       "      <td>117</td>\n",
       "      <td>ЮВАО</td>\n",
       "      <td>Нижегородский район</td>\n",
       "    </tr>\n",
       "  </tbody>\n",
       "</table>\n",
       "<p>560 rows × 6 columns</p>\n",
       "</div>"
      ],
      "text/plain": [
       "                      street  id               streetname  areaid okrug  \\\n",
       "0    1-й Балтийский переулок   1  1-й Балтийский переулок      54   САО   \n",
       "1     1-й Басманный переулок   1   1-й Басманный переулок      13   ЦАО   \n",
       "2     1-й Басманный переулок   1   1-й Басманный переулок      15   ЦАО   \n",
       "3    1-й Ботанический проезд   1  1-й Ботанический проезд      82  СВАО   \n",
       "4    1-й Вешняковский проезд   1  1-й Вешняковский проезд     120  ЮВАО   \n",
       "..                       ...  ..                      ...     ...   ...   \n",
       "555           улица Шеногина   1           улица Шеногина      92  СЗАО   \n",
       "556           улица Шумилова   1           улица Шумилова     113  ЮВАО   \n",
       "557            улица Шумкина   1            улица Шумкина      26   ВАО   \n",
       "558              улица Щорса   1              улица Щорса      46   ЗАО   \n",
       "559             шоссе Фрезер   1             шоссе Фрезер     117  ЮВАО   \n",
       "\n",
       "                        area  \n",
       "0             Район Аэропорт  \n",
       "1            Басманный район  \n",
       "2       Красносельский район  \n",
       "3             Район Свиблово  \n",
       "4            Рязанский район  \n",
       "..                       ...  \n",
       "555  Район Хорошево-Мневники  \n",
       "556          Район Кузьминки  \n",
       "557         Район Сокольники  \n",
       "558           Район Солнцево  \n",
       "559      Нижегородский район  \n",
       "\n",
       "[560 rows x 6 columns]"
      ]
     },
     "execution_count": 37,
     "metadata": {},
     "output_type": "execute_result"
    }
   ],
   "source": [
    "areas_only_one = street_only_one.merge(data_areas, left_on='street', right_on='streetname')\n",
    "areas_only_one"
   ]
  },
  {
   "cell_type": "code",
   "execution_count": 38,
   "metadata": {},
   "outputs": [
    {
     "name": "stdout",
     "output_type": "stream",
     "text": [
      "Улицы с одним заведением общественного питания располагаются в районах: ['Район Аэропорт' 'Басманный район' 'Красносельский район'\n",
      " 'Район Свиблово' 'Рязанский район' 'Район Якиманка' 'Район Хамовники'\n",
      " 'Район Соколиная Гора' 'Даниловский район' 'Мещанский район'\n",
      " 'Таганский район' 'Район Лефортово' 'Район Печатники' 'Район Сокольники'\n",
      " 'Район Замоскворечье' 'Хорошевский район' 'Район Арбат'\n",
      " 'Алексеевский район' 'Район Текстильщики' 'Район Ростокино'\n",
      " 'Район Раменки' 'Район Хорошево-Мневники' 'Район Покровское-Стрешнево'\n",
      " 'Район Марьина роща' 'Район Богородское' 'Нижегородский район'\n",
      " 'Тверской район' 'Лосиноостровский район' 'Район Преображенское'\n",
      " 'Район Ново-Переделкино' 'Район Измайлово' 'Район Северное Измайлово'\n",
      " 'Район Восточное Измайлово' 'Район Беговой' 'Донской район'\n",
      " 'Район Гольяново' 'Войковский Район' 'Савеловский район'\n",
      " 'Район Филевский Парк' 'Район Перово' 'Район Чертаново Южное'\n",
      " 'Южнопортовый Район' 'Головинский район' 'Район Южное Бутово'\n",
      " 'Останкинский район' 'Район Сокол' 'Район Северный' 'Район Кунцево'\n",
      " 'Район Люблино' 'Тимирязевский Район' 'Район Внуково'\n",
      " 'Бескудниковский Район' 'Район Зюзино' 'Пресненский район'\n",
      " 'Район Солнцево' 'Дмитровский район' 'Район Метрогородок' 'Район Митино'\n",
      " 'Район Нагатино-Садовники' 'Можайский Район' 'Район Кузьминки'\n",
      " 'Район Черемушки' 'Район Косино-Ухтомский' 'Район Коптево'\n",
      " 'Район Выхино-Жулебино' 'Район Куркино' 'Ярославский Район'\n",
      " 'Район Бирюлево Восточное' 'Район Гагаринский' 'Район Котловка'\n",
      " 'Район Южное Тушино' 'Район Строгино' 'Район Отрадное'\n",
      " 'Бабушкинский район' 'Район Дорогомилово' 'Район Марьино'\n",
      " 'Район Левобережный' 'Молжаниновский район' 'Район Ивановское'\n",
      " 'Район Западное Дегунино' 'Район Северное Медведково' 'Нагорный район'\n",
      " 'Район Матушкино-Савелки' 'Район Новогиреево' 'Алтуфьевский район'\n",
      " 'Район Чертаново Северное' 'Район Ясенево' 'Район Северное Бутово'\n",
      " 'Район Южное Медведково' 'Район Восточный' 'Бутырский район'\n",
      " 'Район Коньково' 'Район Марфино' 'Обручевский район' 'Район Щукино'\n",
      " 'Район Фили-Давыдково' 'Район Москворечье-Сабурово' 'Район Царицыно'\n",
      " 'Район Очаково-Матвеевское']\n"
     ]
    }
   ],
   "source": [
    "print(\"Улицы с одним заведением общественного питания располагаются в районах:\", areas_only_one['area'].unique())"
   ]
  },
  {
   "cell_type": "code",
   "execution_count": 39,
   "metadata": {
    "scrolled": true
   },
   "outputs": [
    {
     "data": {
      "text/html": [
       "<div>\n",
       "<style scoped>\n",
       "    .dataframe tbody tr th:only-of-type {\n",
       "        vertical-align: middle;\n",
       "    }\n",
       "\n",
       "    .dataframe tbody tr th {\n",
       "        vertical-align: top;\n",
       "    }\n",
       "\n",
       "    .dataframe thead th {\n",
       "        text-align: right;\n",
       "    }\n",
       "</style>\n",
       "<table border=\"1\" class=\"dataframe\">\n",
       "  <thead>\n",
       "    <tr style=\"text-align: right;\">\n",
       "      <th></th>\n",
       "      <th>area</th>\n",
       "      <th>id</th>\n",
       "    </tr>\n",
       "  </thead>\n",
       "  <tbody>\n",
       "    <tr>\n",
       "      <th>93</th>\n",
       "      <td>Таганский район</td>\n",
       "      <td>27</td>\n",
       "    </tr>\n",
       "    <tr>\n",
       "      <th>79</th>\n",
       "      <td>Район Хамовники</td>\n",
       "      <td>26</td>\n",
       "    </tr>\n",
       "    <tr>\n",
       "      <th>3</th>\n",
       "      <td>Басманный район</td>\n",
       "      <td>25</td>\n",
       "    </tr>\n",
       "    <tr>\n",
       "      <th>94</th>\n",
       "      <td>Тверской район</td>\n",
       "      <td>20</td>\n",
       "    </tr>\n",
       "    <tr>\n",
       "      <th>20</th>\n",
       "      <td>Пресненский район</td>\n",
       "      <td>19</td>\n",
       "    </tr>\n",
       "    <tr>\n",
       "      <th>...</th>\n",
       "      <td>...</td>\n",
       "      <td>...</td>\n",
       "    </tr>\n",
       "    <tr>\n",
       "      <th>50</th>\n",
       "      <td>Район Марьино</td>\n",
       "      <td>1</td>\n",
       "    </tr>\n",
       "    <tr>\n",
       "      <th>51</th>\n",
       "      <td>Район Матушкино-Савелки</td>\n",
       "      <td>1</td>\n",
       "    </tr>\n",
       "    <tr>\n",
       "      <th>52</th>\n",
       "      <td>Район Метрогородок</td>\n",
       "      <td>1</td>\n",
       "    </tr>\n",
       "    <tr>\n",
       "      <th>54</th>\n",
       "      <td>Район Москворечье-Сабурово</td>\n",
       "      <td>1</td>\n",
       "    </tr>\n",
       "    <tr>\n",
       "      <th>18</th>\n",
       "      <td>Обручевский район</td>\n",
       "      <td>1</td>\n",
       "    </tr>\n",
       "  </tbody>\n",
       "</table>\n",
       "<p>99 rows × 2 columns</p>\n",
       "</div>"
      ],
      "text/plain": [
       "                          area  id\n",
       "93             Таганский район  27\n",
       "79             Район Хамовники  26\n",
       "3              Басманный район  25\n",
       "94              Тверской район  20\n",
       "20           Пресненский район  19\n",
       "..                         ...  ..\n",
       "50               Район Марьино   1\n",
       "51     Район Матушкино-Савелки   1\n",
       "52          Район Метрогородок   1\n",
       "54  Район Москворечье-Сабурово   1\n",
       "18           Обручевский район   1\n",
       "\n",
       "[99 rows x 2 columns]"
      ]
     },
     "execution_count": 39,
     "metadata": {},
     "output_type": "execute_result"
    }
   ],
   "source": [
    "areas_only_one.groupby('area', as_index=False)['id'].count().sort_values(by='id', ascending=False)"
   ]
  },
  {
   "cell_type": "markdown",
   "metadata": {},
   "source": [
    "Лидируют Таганский район, район Хамовники и Басманный район.   \n",
    "Рассмотрим также аналитику по административным округам."
   ]
  },
  {
   "cell_type": "code",
   "execution_count": 40,
   "metadata": {
    "scrolled": true
   },
   "outputs": [
    {
     "data": {
      "text/html": [
       "<div>\n",
       "<style scoped>\n",
       "    .dataframe tbody tr th:only-of-type {\n",
       "        vertical-align: middle;\n",
       "    }\n",
       "\n",
       "    .dataframe tbody tr th {\n",
       "        vertical-align: top;\n",
       "    }\n",
       "\n",
       "    .dataframe thead th {\n",
       "        text-align: right;\n",
       "    }\n",
       "</style>\n",
       "<table border=\"1\" class=\"dataframe\">\n",
       "  <thead>\n",
       "    <tr style=\"text-align: right;\">\n",
       "      <th></th>\n",
       "      <th>okrug</th>\n",
       "      <th>id</th>\n",
       "    </tr>\n",
       "  </thead>\n",
       "  <tbody>\n",
       "    <tr>\n",
       "      <th>6</th>\n",
       "      <td>ЦАО</td>\n",
       "      <td>185</td>\n",
       "    </tr>\n",
       "    <tr>\n",
       "      <th>0</th>\n",
       "      <td>ВАО</td>\n",
       "      <td>72</td>\n",
       "    </tr>\n",
       "    <tr>\n",
       "      <th>4</th>\n",
       "      <td>СВАО</td>\n",
       "      <td>67</td>\n",
       "    </tr>\n",
       "    <tr>\n",
       "      <th>3</th>\n",
       "      <td>САО</td>\n",
       "      <td>55</td>\n",
       "    </tr>\n",
       "    <tr>\n",
       "      <th>8</th>\n",
       "      <td>ЮВАО</td>\n",
       "      <td>55</td>\n",
       "    </tr>\n",
       "    <tr>\n",
       "      <th>1</th>\n",
       "      <td>ЗАО</td>\n",
       "      <td>41</td>\n",
       "    </tr>\n",
       "    <tr>\n",
       "      <th>7</th>\n",
       "      <td>ЮАО</td>\n",
       "      <td>30</td>\n",
       "    </tr>\n",
       "    <tr>\n",
       "      <th>5</th>\n",
       "      <td>СЗАО</td>\n",
       "      <td>27</td>\n",
       "    </tr>\n",
       "    <tr>\n",
       "      <th>9</th>\n",
       "      <td>ЮЗАО</td>\n",
       "      <td>27</td>\n",
       "    </tr>\n",
       "    <tr>\n",
       "      <th>2</th>\n",
       "      <td>Зеленоград</td>\n",
       "      <td>1</td>\n",
       "    </tr>\n",
       "  </tbody>\n",
       "</table>\n",
       "</div>"
      ],
      "text/plain": [
       "        okrug   id\n",
       "6         ЦАО  185\n",
       "0         ВАО   72\n",
       "4        СВАО   67\n",
       "3         САО   55\n",
       "8        ЮВАО   55\n",
       "1         ЗАО   41\n",
       "7         ЮАО   30\n",
       "5        СЗАО   27\n",
       "9        ЮЗАО   27\n",
       "2  Зеленоград    1"
      ]
     },
     "execution_count": 40,
     "metadata": {},
     "output_type": "execute_result"
    }
   ],
   "source": [
    "data_areas_only_one = areas_only_one.groupby('okrug', as_index=False)['id'].count().sort_values(by='id', ascending=False)\n",
    "data_areas_only_one"
   ]
  },
  {
   "cell_type": "code",
   "execution_count": 41,
   "metadata": {
    "scrolled": true
   },
   "outputs": [
    {
     "data": {
      "image/png": "[encoded data removed]",
      "text/plain": [
       "<Figure size 504x504 with 1 Axes>"
      ]
     },
     "metadata": {
      "needs_background": "light"
     },
     "output_type": "display_data"
    }
   ],
   "source": [
    "plt.figure(figsize=(7, 7))\n",
    "col_map = plt.get_cmap('Paired')\n",
    "\n",
    "plt.bar(\n",
    "    x='okrug', \n",
    "    height='id',\n",
    "    data=data_areas_only_one,\n",
    "    alpha=0.7,\n",
    "    color=col_map.colors, \n",
    "    edgecolor='k'\n",
    ")\n",
    "\n",
    "plt.title('Распределение улиц с одним рестораном по административным райнам Москвы')\n",
    "plt.xlabel('Административный округ Москвы')\n",
    "plt.ylabel('Количество улиц с одним рестораном в округе, шт.')\n",
    "plt.xticks(rotation=80)\n",
    "plt.grid()\n",
    "\n",
    "plt.savefig('8.png')\n",
    "plt.show()"
   ]
  },
  {
   "cell_type": "markdown",
   "metadata": {},
   "source": [
    "ЦАО - однозначный лидер по количеству улиц с 1 заведением общественного питания."
   ]
  },
  {
   "cell_type": "code",
   "execution_count": 42,
   "metadata": {},
   "outputs": [
    {
     "name": "stdout",
     "output_type": "stream",
     "text": [
      "0.7291666666666666\n"
     ]
    }
   ],
   "source": [
    "print(areas_top_10['area'].isin(areas_only_one['area']).mean())"
   ]
  },
  {
   "cell_type": "markdown",
   "metadata": {},
   "source": [
    "Районы с улицами, насыщенными заведениями общественного питания, и районы с улицами, на которых находится всего один объект общественного питания, пересекаются на 73 %."
   ]
  },
  {
   "cell_type": "markdown",
   "metadata": {},
   "source": [
    " ##  **Выводы**\n",
    "<a id='section_10'></a>"
   ]
  },
  {
   "cell_type": "markdown",
   "metadata": {},
   "source": [
    "В течение работы мы: \n",
    "\n",
    "1. Исследовали соотношения разных типов заведений Москвы по нескольким признакам:   \n",
    "   - В Москве на момент исследования бОльшая часть заведений относится к типу \"кафе\" - 39.7 % от всех заведений;\n",
    "   - 19 % ресторанов Москвы на момент сбора информации сетевые;   \n",
    "   - Самая большая доля сетевых заведений среди предприятий быстрого обслуживания(34%) и магазинов(отделов кулинарий)(29%);\n",
    "2. Изучили среднее количество посадочных мест в разных типах заведений Москвы   \n",
    "Из графика можно сделать вывод, что для сетевых ресторанов характерно небольшое количество заведений (меньше 10), а вот больше 45 посадочных или меньше - уже на усмотрение руководителей. \n",
    "3. Провели анализ места расположения:   \n",
    "   - Улицы, на которых больше всего заведений общественного питания - проспект Мира и Профсоюзная улица;\n",
    "   - Административные округа Москвы, в которых расплагаются самые загруженные улицы - ЮАО и ЮЗАО."
   ]
  },
  {
   "cell_type": "markdown",
   "metadata": {},
   "source": [
    "Заведение общественного питания, которое планируется открыть:   \n",
    "\n",
    "- Тип - кафе - как и 40% всех заведений Москвы;   \n",
    "- Несетевое как и 81 % заведений Москвы;   \n",
    "- Количество посадочных мест - 40, как и в среднем в кафе в Москве;   \n",
    "- По расположению – нам важна высокая проходимость на улице, поэтому можно выбрать улицы из Топ-10 в ЮАО или ЮЗАО."
   ]
  }
 ],
 "metadata": {
  "ExecuteTimeLog": [
   {
    "duration": 45,
    "start_time": "2022-05-23T10:59:57.446Z"
   },
   {
    "duration": 756,
    "start_time": "2022-05-23T11:16:29.940Z"
   },
   {
    "duration": 439,
    "start_time": "2022-05-23T11:16:57.165Z"
   },
   {
    "duration": 270,
    "start_time": "2022-05-23T11:18:39.537Z"
   },
   {
    "duration": 82,
    "start_time": "2022-05-23T11:20:04.370Z"
   },
   {
    "duration": 80,
    "start_time": "2022-05-23T11:20:11.538Z"
   },
   {
    "duration": 5,
    "start_time": "2022-05-23T11:22:50.436Z"
   },
   {
    "duration": 13,
    "start_time": "2022-05-23T11:22:57.837Z"
   },
   {
    "duration": 19,
    "start_time": "2022-05-23T11:23:30.981Z"
   },
   {
    "duration": 6,
    "start_time": "2022-05-23T11:23:36.136Z"
   },
   {
    "duration": 6,
    "start_time": "2022-05-23T11:23:46.260Z"
   },
   {
    "duration": 5,
    "start_time": "2022-05-23T11:23:54.635Z"
   },
   {
    "duration": 40,
    "start_time": "2022-05-23T11:25:35.192Z"
   },
   {
    "duration": 8,
    "start_time": "2022-05-23T11:31:33.057Z"
   },
   {
    "duration": 7,
    "start_time": "2022-05-23T11:31:44.424Z"
   },
   {
    "duration": 142,
    "start_time": "2022-05-23T11:31:57.982Z"
   },
   {
    "duration": 147,
    "start_time": "2022-05-23T11:41:40.203Z"
   },
   {
    "duration": 132,
    "start_time": "2022-05-23T11:41:54.568Z"
   },
   {
    "duration": 4,
    "start_time": "2022-05-23T11:42:50.900Z"
   },
   {
    "duration": 10,
    "start_time": "2022-05-23T11:44:05.416Z"
   },
   {
    "duration": 8,
    "start_time": "2022-05-23T11:44:34.973Z"
   },
   {
    "duration": 11,
    "start_time": "2022-05-23T11:44:41.576Z"
   },
   {
    "duration": 14,
    "start_time": "2022-05-23T11:45:57.970Z"
   },
   {
    "duration": 13,
    "start_time": "2022-05-23T11:46:06.439Z"
   },
   {
    "duration": 237,
    "start_time": "2022-05-23T11:47:38.343Z"
   },
   {
    "duration": 11,
    "start_time": "2022-05-23T11:47:48.273Z"
   },
   {
    "duration": 15,
    "start_time": "2022-05-23T11:48:43.095Z"
   },
   {
    "duration": 13,
    "start_time": "2022-05-23T11:48:50.796Z"
   },
   {
    "duration": 79,
    "start_time": "2022-05-23T11:49:26.034Z"
   },
   {
    "duration": 16,
    "start_time": "2022-05-23T11:50:11.656Z"
   },
   {
    "duration": 363,
    "start_time": "2022-05-23T11:51:02.456Z"
   },
   {
    "duration": 15,
    "start_time": "2022-05-23T11:51:59.895Z"
   },
   {
    "duration": 705,
    "start_time": "2022-05-23T11:55:47.338Z"
   },
   {
    "duration": 46,
    "start_time": "2022-05-23T11:57:07.155Z"
   },
   {
    "duration": 407,
    "start_time": "2022-05-23T11:57:24.289Z"
   },
   {
    "duration": 11,
    "start_time": "2022-05-23T11:57:47.198Z"
   },
   {
    "duration": 11,
    "start_time": "2022-05-23T11:57:52.156Z"
   },
   {
    "duration": 19,
    "start_time": "2022-05-23T11:58:00.201Z"
   },
   {
    "duration": 465,
    "start_time": "2022-05-23T12:00:21.116Z"
   },
   {
    "duration": 466,
    "start_time": "2022-05-23T12:00:31.110Z"
   },
   {
    "duration": 8,
    "start_time": "2022-05-23T12:01:39.659Z"
   },
   {
    "duration": 23630,
    "start_time": "2022-05-23T12:01:51.174Z"
   },
   {
    "duration": 97,
    "start_time": "2022-05-23T12:07:49.293Z"
   },
   {
    "duration": 469,
    "start_time": "2022-05-23T12:11:05.142Z"
   },
   {
    "duration": 13,
    "start_time": "2022-05-23T12:12:10.075Z"
   },
   {
    "duration": 13,
    "start_time": "2022-05-23T12:12:15.918Z"
   },
   {
    "duration": 10,
    "start_time": "2022-05-23T12:12:53.078Z"
   },
   {
    "duration": 10,
    "start_time": "2022-05-23T12:13:04.388Z"
   },
   {
    "duration": 10,
    "start_time": "2022-05-23T12:13:29.853Z"
   },
   {
    "duration": 468,
    "start_time": "2022-05-23T12:14:23.979Z"
   },
   {
    "duration": 475,
    "start_time": "2022-05-23T12:14:57.648Z"
   },
   {
    "duration": 429,
    "start_time": "2022-05-23T12:15:47.197Z"
   },
   {
    "duration": 1309,
    "start_time": "2022-05-23T12:16:23.266Z"
   },
   {
    "duration": 10,
    "start_time": "2022-05-23T12:17:59.442Z"
   },
   {
    "duration": 11,
    "start_time": "2022-05-23T12:18:08.896Z"
   },
   {
    "duration": 22,
    "start_time": "2022-05-23T12:18:19.350Z"
   },
   {
    "duration": 58,
    "start_time": "2022-05-23T12:23:57.105Z"
   },
   {
    "duration": 888,
    "start_time": "2022-05-23T12:24:03.033Z"
   },
   {
    "duration": 133,
    "start_time": "2022-05-23T12:25:26.732Z"
   },
   {
    "duration": 135,
    "start_time": "2022-05-23T12:26:36.107Z"
   },
   {
    "duration": 225,
    "start_time": "2022-05-23T12:26:50.167Z"
   },
   {
    "duration": 156,
    "start_time": "2022-05-23T12:27:14.958Z"
   },
   {
    "duration": 146,
    "start_time": "2022-05-23T12:28:03.400Z"
   },
   {
    "duration": 10,
    "start_time": "2022-05-23T12:28:27.870Z"
   },
   {
    "duration": 11,
    "start_time": "2022-05-23T12:28:48.982Z"
   },
   {
    "duration": 10,
    "start_time": "2022-05-23T12:28:56.520Z"
   },
   {
    "duration": 13,
    "start_time": "2022-05-23T12:29:02.942Z"
   },
   {
    "duration": 148,
    "start_time": "2022-05-23T12:29:30.310Z"
   },
   {
    "duration": 139,
    "start_time": "2022-05-23T12:30:23.197Z"
   },
   {
    "duration": 153,
    "start_time": "2022-05-23T12:32:47.643Z"
   },
   {
    "duration": 12,
    "start_time": "2022-05-23T12:34:19.421Z"
   },
   {
    "duration": 14,
    "start_time": "2022-05-23T12:34:33.874Z"
   },
   {
    "duration": 13,
    "start_time": "2022-05-23T12:34:45.819Z"
   },
   {
    "duration": 13,
    "start_time": "2022-05-23T12:34:59.504Z"
   },
   {
    "duration": 147,
    "start_time": "2022-05-23T12:35:16.076Z"
   },
   {
    "duration": 9,
    "start_time": "2022-05-23T12:41:17.024Z"
   },
   {
    "duration": 588,
    "start_time": "2022-05-23T12:41:39.735Z"
   },
   {
    "duration": 9,
    "start_time": "2022-05-23T12:41:48.321Z"
   },
   {
    "duration": 9,
    "start_time": "2022-05-23T12:41:58.817Z"
   },
   {
    "duration": 13,
    "start_time": "2022-05-23T12:42:12.638Z"
   },
   {
    "duration": 156,
    "start_time": "2022-05-23T12:42:48.849Z"
   },
   {
    "duration": 181,
    "start_time": "2022-05-23T12:43:07.553Z"
   },
   {
    "duration": 26,
    "start_time": "2022-05-23T12:43:20.389Z"
   },
   {
    "duration": 609,
    "start_time": "2022-05-23T12:43:26.112Z"
   },
   {
    "duration": 14,
    "start_time": "2022-05-23T12:50:54.113Z"
   },
   {
    "duration": 13,
    "start_time": "2022-05-23T12:50:58.699Z"
   },
   {
    "duration": 10,
    "start_time": "2022-05-23T12:51:15.713Z"
   },
   {
    "duration": 13,
    "start_time": "2022-05-23T12:51:31.345Z"
   },
   {
    "duration": 12,
    "start_time": "2022-05-23T12:51:48.413Z"
   },
   {
    "duration": 16,
    "start_time": "2022-05-23T12:52:59.505Z"
   },
   {
    "duration": 222,
    "start_time": "2022-05-23T12:53:24.699Z"
   },
   {
    "duration": 15,
    "start_time": "2022-05-23T12:53:37.930Z"
   },
   {
    "duration": 233,
    "start_time": "2022-05-23T12:53:47.353Z"
   },
   {
    "duration": 235,
    "start_time": "2022-05-23T12:53:58.262Z"
   },
   {
    "duration": 59,
    "start_time": "2022-05-23T12:54:31.456Z"
   },
   {
    "duration": 40,
    "start_time": "2022-05-23T12:54:38.610Z"
   },
   {
    "duration": 40,
    "start_time": "2022-05-23T12:54:52.256Z"
   },
   {
    "duration": 47,
    "start_time": "2022-05-23T12:54:57.251Z"
   },
   {
    "duration": 206,
    "start_time": "2022-05-23T12:55:05.415Z"
   },
   {
    "duration": 221,
    "start_time": "2022-05-23T12:55:22.924Z"
   },
   {
    "duration": 203,
    "start_time": "2022-05-23T12:55:40.259Z"
   },
   {
    "duration": 226,
    "start_time": "2022-05-23T12:56:01.786Z"
   },
   {
    "duration": 445,
    "start_time": "2022-05-23T12:56:43.820Z"
   },
   {
    "duration": 13,
    "start_time": "2022-05-23T13:02:50.877Z"
   },
   {
    "duration": 231,
    "start_time": "2022-05-23T13:03:27.898Z"
   },
   {
    "duration": 307,
    "start_time": "2022-05-23T13:03:58.857Z"
   },
   {
    "duration": 231,
    "start_time": "2022-05-23T13:04:16.787Z"
   },
   {
    "duration": 242,
    "start_time": "2022-05-23T13:05:51.502Z"
   },
   {
    "duration": 224,
    "start_time": "2022-05-23T13:06:02.289Z"
   },
   {
    "duration": 238,
    "start_time": "2022-05-23T13:06:07.590Z"
   },
   {
    "duration": 478,
    "start_time": "2022-05-23T13:06:57.369Z"
   },
   {
    "duration": 12,
    "start_time": "2022-05-23T13:07:11.187Z"
   },
   {
    "duration": 17,
    "start_time": "2022-05-23T13:07:21.133Z"
   },
   {
    "duration": 16,
    "start_time": "2022-05-23T13:07:39.631Z"
   },
   {
    "duration": 122,
    "start_time": "2022-05-23T13:07:51.481Z"
   },
   {
    "duration": 239,
    "start_time": "2022-05-23T13:08:21.019Z"
   },
   {
    "duration": 14,
    "start_time": "2022-05-23T13:14:31.374Z"
   },
   {
    "duration": 15,
    "start_time": "2022-05-23T13:15:07.929Z"
   },
   {
    "duration": 53,
    "start_time": "2022-05-23T13:15:21.873Z"
   },
   {
    "duration": 252,
    "start_time": "2022-05-23T13:15:31.259Z"
   },
   {
    "duration": 17,
    "start_time": "2022-05-23T13:16:27.434Z"
   },
   {
    "duration": 16,
    "start_time": "2022-05-23T13:16:34.286Z"
   },
   {
    "duration": 10,
    "start_time": "2022-05-23T13:17:17.465Z"
   },
   {
    "duration": 585,
    "start_time": "2022-05-23T13:18:36.762Z"
   },
   {
    "duration": 497,
    "start_time": "2022-05-23T13:18:58.392Z"
   },
   {
    "duration": 885,
    "start_time": "2022-05-23T13:19:02.240Z"
   },
   {
    "duration": 765,
    "start_time": "2022-05-23T13:19:27.376Z"
   },
   {
    "duration": 734,
    "start_time": "2022-05-23T13:19:45.581Z"
   },
   {
    "duration": 64,
    "start_time": "2022-05-23T13:20:26.964Z"
   },
   {
    "duration": 578,
    "start_time": "2022-05-23T13:20:32.537Z"
   },
   {
    "duration": 12,
    "start_time": "2022-05-23T13:20:44.752Z"
   },
   {
    "duration": 12,
    "start_time": "2022-05-23T13:21:12.548Z"
   },
   {
    "duration": 18,
    "start_time": "2022-05-23T13:21:19.642Z"
   },
   {
    "duration": 31,
    "start_time": "2022-05-23T13:21:32.976Z"
   },
   {
    "duration": 14,
    "start_time": "2022-05-23T13:23:40.402Z"
   },
   {
    "duration": 12,
    "start_time": "2022-05-23T13:24:34.704Z"
   },
   {
    "duration": 14,
    "start_time": "2022-05-23T13:24:40.166Z"
   },
   {
    "duration": 133,
    "start_time": "2022-05-23T13:24:59.214Z"
   },
   {
    "duration": 34,
    "start_time": "2022-05-23T13:26:44.801Z"
   },
   {
    "duration": 15,
    "start_time": "2022-05-23T13:27:14.229Z"
   },
   {
    "duration": 212,
    "start_time": "2022-05-23T13:28:31.123Z"
   },
   {
    "duration": 189,
    "start_time": "2022-05-23T13:28:47.237Z"
   },
   {
    "duration": 60,
    "start_time": "2022-05-23T13:29:56.270Z"
   },
   {
    "duration": 190,
    "start_time": "2022-05-23T13:30:11.755Z"
   },
   {
    "duration": 279,
    "start_time": "2022-05-23T13:34:22.520Z"
   },
   {
    "duration": 189,
    "start_time": "2022-05-23T13:34:28.094Z"
   },
   {
    "duration": 235,
    "start_time": "2022-05-23T13:34:41.198Z"
   },
   {
    "duration": 124,
    "start_time": "2022-05-23T13:35:12.028Z"
   },
   {
    "duration": 200,
    "start_time": "2022-05-23T13:35:33.930Z"
   },
   {
    "duration": 195,
    "start_time": "2022-05-23T13:36:10.100Z"
   },
   {
    "duration": 221,
    "start_time": "2022-05-23T13:36:25.711Z"
   },
   {
    "duration": 213,
    "start_time": "2022-05-23T13:36:31.385Z"
   },
   {
    "duration": 207,
    "start_time": "2022-05-23T13:40:55.779Z"
   },
   {
    "duration": 210,
    "start_time": "2022-05-23T13:43:20.103Z"
   },
   {
    "duration": 224,
    "start_time": "2022-05-23T13:46:48.328Z"
   },
   {
    "duration": 53,
    "start_time": "2022-05-23T13:53:48.225Z"
   },
   {
    "duration": 13,
    "start_time": "2022-05-23T13:54:12.181Z"
   },
   {
    "duration": 229,
    "start_time": "2022-05-23T13:54:28.472Z"
   },
   {
    "duration": 290,
    "start_time": "2022-05-23T14:04:58.070Z"
   },
   {
    "duration": 121,
    "start_time": "2022-05-23T14:48:19.145Z"
   },
   {
    "duration": 11,
    "start_time": "2022-05-23T14:48:25.449Z"
   },
   {
    "duration": 14,
    "start_time": "2022-05-23T14:48:32.813Z"
   },
   {
    "duration": 25,
    "start_time": "2022-05-23T14:49:05.610Z"
   },
   {
    "duration": 17,
    "start_time": "2022-05-23T15:07:25.289Z"
   },
   {
    "duration": 179,
    "start_time": "2022-05-23T15:08:54.421Z"
   },
   {
    "duration": 119,
    "start_time": "2022-05-23T15:14:52.309Z"
   },
   {
    "duration": 12,
    "start_time": "2022-05-23T15:15:06.258Z"
   },
   {
    "duration": 14,
    "start_time": "2022-05-23T15:15:13.956Z"
   },
   {
    "duration": 15,
    "start_time": "2022-05-23T15:15:21.773Z"
   },
   {
    "duration": 135,
    "start_time": "2022-05-23T15:15:27.462Z"
   },
   {
    "duration": 86,
    "start_time": "2022-05-23T15:21:15.080Z"
   },
   {
    "duration": 82,
    "start_time": "2022-05-23T15:22:07.563Z"
   },
   {
    "duration": 4,
    "start_time": "2022-05-23T15:22:29.022Z"
   },
   {
    "duration": 15,
    "start_time": "2022-05-23T15:25:20.254Z"
   },
   {
    "duration": 20,
    "start_time": "2022-05-23T15:26:22.686Z"
   },
   {
    "duration": 192,
    "start_time": "2022-05-23T15:26:24.457Z"
   },
   {
    "duration": 20,
    "start_time": "2022-05-23T15:26:28.296Z"
   },
   {
    "duration": 79,
    "start_time": "2022-05-23T15:26:29.366Z"
   },
   {
    "duration": 27,
    "start_time": "2022-05-23T15:26:48.362Z"
   },
   {
    "duration": 8,
    "start_time": "2022-05-23T15:28:24.688Z"
   },
   {
    "duration": 13,
    "start_time": "2022-05-23T15:28:30.829Z"
   },
   {
    "duration": 110,
    "start_time": "2022-05-23T15:29:48.464Z"
   },
   {
    "duration": 686,
    "start_time": "2022-05-23T15:38:55.682Z"
   },
   {
    "duration": 640,
    "start_time": "2022-05-23T15:39:34.304Z"
   },
   {
    "duration": 14,
    "start_time": "2022-05-23T15:42:34.715Z"
   },
   {
    "duration": 113,
    "start_time": "2022-05-23T15:42:39.646Z"
   },
   {
    "duration": 754,
    "start_time": "2022-05-23T15:43:44.524Z"
   },
   {
    "duration": 674,
    "start_time": "2022-05-23T15:44:44.319Z"
   },
   {
    "duration": 663,
    "start_time": "2022-05-23T15:46:02.210Z"
   },
   {
    "duration": 631,
    "start_time": "2022-05-23T15:46:08.330Z"
   },
   {
    "duration": 665,
    "start_time": "2022-05-23T15:53:27.229Z"
   },
   {
    "duration": 668,
    "start_time": "2022-05-23T15:55:04.689Z"
   },
   {
    "duration": 61,
    "start_time": "2022-05-27T10:40:48.504Z"
   },
   {
    "duration": 1323,
    "start_time": "2022-05-27T10:40:53.621Z"
   },
   {
    "duration": 206,
    "start_time": "2022-05-27T10:40:54.946Z"
   },
   {
    "duration": 7,
    "start_time": "2022-05-27T10:40:55.154Z"
   },
   {
    "duration": 32,
    "start_time": "2022-05-27T10:40:55.162Z"
   },
   {
    "duration": 126,
    "start_time": "2022-05-27T10:40:55.196Z"
   },
   {
    "duration": 0,
    "start_time": "2022-05-27T10:40:55.325Z"
   },
   {
    "duration": 0,
    "start_time": "2022-05-27T10:40:55.327Z"
   },
   {
    "duration": 0,
    "start_time": "2022-05-27T10:40:55.328Z"
   },
   {
    "duration": 0,
    "start_time": "2022-05-27T10:40:55.329Z"
   },
   {
    "duration": 0,
    "start_time": "2022-05-27T10:40:55.330Z"
   },
   {
    "duration": 16,
    "start_time": "2022-05-27T10:40:59.673Z"
   },
   {
    "duration": 27,
    "start_time": "2022-05-27T10:43:30.682Z"
   },
   {
    "duration": 6,
    "start_time": "2022-05-27T10:43:33.490Z"
   },
   {
    "duration": 8,
    "start_time": "2022-05-27T10:43:41.143Z"
   },
   {
    "duration": 14,
    "start_time": "2022-05-27T10:44:46.728Z"
   },
   {
    "duration": 15,
    "start_time": "2022-05-27T10:45:07.841Z"
   },
   {
    "duration": 375,
    "start_time": "2022-05-27T10:45:20.174Z"
   },
   {
    "duration": 1138,
    "start_time": "2022-05-27T10:50:23.116Z"
   },
   {
    "duration": 118,
    "start_time": "2022-05-27T10:50:24.256Z"
   },
   {
    "duration": 8,
    "start_time": "2022-05-27T10:50:24.377Z"
   },
   {
    "duration": 24,
    "start_time": "2022-05-27T10:50:24.387Z"
   },
   {
    "duration": 127,
    "start_time": "2022-05-27T10:50:24.415Z"
   },
   {
    "duration": 0,
    "start_time": "2022-05-27T10:50:24.543Z"
   },
   {
    "duration": 0,
    "start_time": "2022-05-27T10:50:24.545Z"
   },
   {
    "duration": 0,
    "start_time": "2022-05-27T10:50:24.546Z"
   },
   {
    "duration": 0,
    "start_time": "2022-05-27T10:50:24.548Z"
   },
   {
    "duration": 0,
    "start_time": "2022-05-27T10:50:24.550Z"
   },
   {
    "duration": 266,
    "start_time": "2022-05-27T10:50:55.519Z"
   },
   {
    "duration": 18,
    "start_time": "2022-05-27T10:51:01.694Z"
   },
   {
    "duration": 129,
    "start_time": "2022-05-27T10:51:05.785Z"
   },
   {
    "duration": 684,
    "start_time": "2022-05-27T10:51:09.642Z"
   },
   {
    "duration": 1128,
    "start_time": "2022-05-27T10:51:49.512Z"
   },
   {
    "duration": 92,
    "start_time": "2022-05-27T10:51:50.642Z"
   },
   {
    "duration": 5,
    "start_time": "2022-05-27T10:51:50.736Z"
   },
   {
    "duration": 21,
    "start_time": "2022-05-27T10:51:50.743Z"
   },
   {
    "duration": 227,
    "start_time": "2022-05-27T10:51:50.785Z"
   },
   {
    "duration": 20,
    "start_time": "2022-05-27T10:51:51.013Z"
   },
   {
    "duration": 219,
    "start_time": "2022-05-27T10:51:51.034Z"
   },
   {
    "duration": 15,
    "start_time": "2022-05-27T10:51:51.254Z"
   },
   {
    "duration": 730,
    "start_time": "2022-05-27T10:51:51.271Z"
   },
   {
    "duration": 18,
    "start_time": "2022-05-27T10:57:03.493Z"
   },
   {
    "duration": 17,
    "start_time": "2022-05-27T10:57:19.136Z"
   },
   {
    "duration": 15,
    "start_time": "2022-05-27T10:58:04.043Z"
   },
   {
    "duration": 114,
    "start_time": "2022-05-27T10:58:15.503Z"
   },
   {
    "duration": 18,
    "start_time": "2022-05-27T10:58:35.095Z"
   },
   {
    "duration": 11,
    "start_time": "2022-05-27T11:02:24.147Z"
   },
   {
    "duration": 24,
    "start_time": "2022-05-27T11:02:31.421Z"
   },
   {
    "duration": 20,
    "start_time": "2022-05-27T11:02:39.174Z"
   },
   {
    "duration": 21,
    "start_time": "2022-05-27T11:02:58.552Z"
   },
   {
    "duration": 16,
    "start_time": "2022-05-27T11:03:13.772Z"
   },
   {
    "duration": 34,
    "start_time": "2022-05-27T11:08:27.976Z"
   },
   {
    "duration": 23,
    "start_time": "2022-05-27T11:08:41.704Z"
   },
   {
    "duration": 24,
    "start_time": "2022-05-27T11:08:46.510Z"
   },
   {
    "duration": 26,
    "start_time": "2022-05-27T11:09:01.060Z"
   },
   {
    "duration": 33,
    "start_time": "2022-05-27T11:09:58.059Z"
   },
   {
    "duration": 31,
    "start_time": "2022-05-27T11:10:06.378Z"
   },
   {
    "duration": 9,
    "start_time": "2022-05-27T11:19:55.899Z"
   },
   {
    "duration": 19,
    "start_time": "2022-05-27T11:20:00.131Z"
   },
   {
    "duration": 26,
    "start_time": "2022-05-27T11:20:08.497Z"
   },
   {
    "duration": 9,
    "start_time": "2022-05-27T11:20:17.155Z"
   },
   {
    "duration": 8,
    "start_time": "2022-05-27T11:20:31.548Z"
   },
   {
    "duration": 9,
    "start_time": "2022-05-27T11:20:41.375Z"
   },
   {
    "duration": 17,
    "start_time": "2022-05-27T11:22:29.851Z"
   },
   {
    "duration": 3,
    "start_time": "2022-05-27T11:23:47.656Z"
   },
   {
    "duration": 11,
    "start_time": "2022-05-27T11:24:00.896Z"
   },
   {
    "duration": 8,
    "start_time": "2022-05-27T11:27:25.153Z"
   },
   {
    "duration": 31,
    "start_time": "2022-05-27T11:27:29.031Z"
   },
   {
    "duration": 18,
    "start_time": "2022-05-27T11:27:32.021Z"
   },
   {
    "duration": 26,
    "start_time": "2022-05-27T11:30:50.827Z"
   },
   {
    "duration": 26,
    "start_time": "2022-05-27T11:31:04.850Z"
   },
   {
    "duration": 27,
    "start_time": "2022-05-27T11:40:33.993Z"
   },
   {
    "duration": 28,
    "start_time": "2022-05-27T11:40:46.282Z"
   },
   {
    "duration": 4,
    "start_time": "2022-05-27T11:45:17.185Z"
   },
   {
    "duration": 5,
    "start_time": "2022-05-27T11:45:29.323Z"
   },
   {
    "duration": 9,
    "start_time": "2022-05-27T11:46:15.555Z"
   },
   {
    "duration": 4,
    "start_time": "2022-05-27T11:46:21.697Z"
   },
   {
    "duration": 6,
    "start_time": "2022-05-27T11:46:36.476Z"
   },
   {
    "duration": 24,
    "start_time": "2022-05-27T11:46:52.672Z"
   },
   {
    "duration": 26,
    "start_time": "2022-05-27T11:46:58.668Z"
   },
   {
    "duration": 27,
    "start_time": "2022-05-27T11:47:05.517Z"
   },
   {
    "duration": 33,
    "start_time": "2022-05-27T11:47:17.564Z"
   },
   {
    "duration": 6,
    "start_time": "2022-05-27T11:48:11.686Z"
   },
   {
    "duration": 8,
    "start_time": "2022-05-27T11:48:24.926Z"
   },
   {
    "duration": 8,
    "start_time": "2022-05-27T11:48:50.084Z"
   },
   {
    "duration": 8,
    "start_time": "2022-05-27T11:49:03.990Z"
   },
   {
    "duration": 7,
    "start_time": "2022-05-27T11:49:15.875Z"
   },
   {
    "duration": 31,
    "start_time": "2022-05-27T11:53:38.012Z"
   },
   {
    "duration": 27,
    "start_time": "2022-05-27T11:53:43.598Z"
   },
   {
    "duration": 15,
    "start_time": "2022-05-27T11:53:49.385Z"
   },
   {
    "duration": 14,
    "start_time": "2022-05-27T11:54:59.000Z"
   },
   {
    "duration": 14,
    "start_time": "2022-05-27T11:55:30.114Z"
   },
   {
    "duration": 12,
    "start_time": "2022-05-27T11:56:12.129Z"
   },
   {
    "duration": 6,
    "start_time": "2022-05-27T12:00:13.646Z"
   },
   {
    "duration": 165,
    "start_time": "2022-05-27T12:00:44.305Z"
   },
   {
    "duration": 157,
    "start_time": "2022-05-27T12:00:55.296Z"
   },
   {
    "duration": 183,
    "start_time": "2022-05-27T12:01:05.939Z"
   },
   {
    "duration": 177,
    "start_time": "2022-05-27T12:01:32.334Z"
   },
   {
    "duration": 5,
    "start_time": "2022-05-27T12:02:43.500Z"
   },
   {
    "duration": 185,
    "start_time": "2022-05-27T12:03:02.682Z"
   },
   {
    "duration": 214,
    "start_time": "2022-05-27T12:03:08.545Z"
   },
   {
    "duration": 36,
    "start_time": "2022-05-27T12:16:21.653Z"
   },
   {
    "duration": 4,
    "start_time": "2022-05-27T12:16:30.891Z"
   },
   {
    "duration": 2,
    "start_time": "2022-05-27T12:16:33.657Z"
   },
   {
    "duration": 4,
    "start_time": "2022-05-27T12:16:35.648Z"
   },
   {
    "duration": 48,
    "start_time": "2022-05-27T12:18:38.309Z"
   },
   {
    "duration": 10,
    "start_time": "2022-05-27T12:19:04.239Z"
   },
   {
    "duration": 22,
    "start_time": "2022-05-27T12:19:18.774Z"
   },
   {
    "duration": 18,
    "start_time": "2022-05-27T12:22:22.023Z"
   },
   {
    "duration": 27,
    "start_time": "2022-05-27T12:23:08.396Z"
   },
   {
    "duration": 240,
    "start_time": "2022-05-27T12:24:24.569Z"
   },
   {
    "duration": 27,
    "start_time": "2022-05-27T12:24:34.570Z"
   },
   {
    "duration": 164,
    "start_time": "2022-05-27T12:24:46.819Z"
   },
   {
    "duration": 28,
    "start_time": "2022-05-27T12:25:15.140Z"
   },
   {
    "duration": 9,
    "start_time": "2022-05-27T12:26:19.116Z"
   },
   {
    "duration": 339,
    "start_time": "2022-05-27T12:30:52.794Z"
   },
   {
    "duration": 315,
    "start_time": "2022-05-27T12:33:19.435Z"
   },
   {
    "duration": 154,
    "start_time": "2022-05-27T12:34:56.374Z"
   },
   {
    "duration": 328,
    "start_time": "2022-05-27T12:35:07.311Z"
   },
   {
    "duration": 338,
    "start_time": "2022-05-27T12:35:40.519Z"
   },
   {
    "duration": 507,
    "start_time": "2022-05-27T12:36:14.220Z"
   },
   {
    "duration": 314,
    "start_time": "2022-05-27T12:36:25.935Z"
   },
   {
    "duration": 324,
    "start_time": "2022-05-27T12:38:01.025Z"
   },
   {
    "duration": 58,
    "start_time": "2022-05-27T13:10:26.869Z"
   },
   {
    "duration": 23,
    "start_time": "2022-05-27T13:12:14.892Z"
   },
   {
    "duration": 396,
    "start_time": "2022-05-27T13:12:58.410Z"
   },
   {
    "duration": 31,
    "start_time": "2022-05-27T13:15:58.143Z"
   },
   {
    "duration": 14,
    "start_time": "2022-05-27T13:16:03.022Z"
   },
   {
    "duration": 22,
    "start_time": "2022-05-27T13:16:10.304Z"
   },
   {
    "duration": 214,
    "start_time": "2022-05-27T13:16:57.547Z"
   },
   {
    "duration": 222,
    "start_time": "2022-05-27T13:18:21.374Z"
   },
   {
    "duration": 25,
    "start_time": "2022-05-27T13:19:01.317Z"
   },
   {
    "duration": 211,
    "start_time": "2022-05-27T13:19:44.857Z"
   },
   {
    "duration": 32,
    "start_time": "2022-05-27T13:45:17.110Z"
   },
   {
    "duration": 35,
    "start_time": "2022-05-27T13:45:29.850Z"
   },
   {
    "duration": 19,
    "start_time": "2022-05-27T13:52:13.249Z"
   },
   {
    "duration": 22,
    "start_time": "2022-05-27T13:55:54.199Z"
   },
   {
    "duration": 17,
    "start_time": "2022-05-27T14:02:29.462Z"
   },
   {
    "duration": 13,
    "start_time": "2022-05-27T14:02:59.446Z"
   },
   {
    "duration": 10,
    "start_time": "2022-05-27T14:03:43.553Z"
   },
   {
    "duration": 16,
    "start_time": "2022-05-27T14:03:54.550Z"
   },
   {
    "duration": 240,
    "start_time": "2022-05-27T14:04:23.381Z"
   },
   {
    "duration": 220,
    "start_time": "2022-05-27T14:04:40.347Z"
   },
   {
    "duration": 184,
    "start_time": "2022-05-27T14:10:15.377Z"
   },
   {
    "duration": 229,
    "start_time": "2022-05-27T14:10:47.956Z"
   },
   {
    "duration": 215,
    "start_time": "2022-05-27T14:10:57.560Z"
   },
   {
    "duration": 205,
    "start_time": "2022-05-27T14:11:05.226Z"
   },
   {
    "duration": 204,
    "start_time": "2022-05-27T14:11:10.654Z"
   },
   {
    "duration": 1216,
    "start_time": "2022-05-27T14:54:17.181Z"
   },
   {
    "duration": 1092,
    "start_time": "2022-05-27T14:54:26.926Z"
   },
   {
    "duration": 16,
    "start_time": "2022-05-27T15:00:20.549Z"
   },
   {
    "duration": 5,
    "start_time": "2022-05-27T15:03:04.440Z"
   },
   {
    "duration": 10,
    "start_time": "2022-05-27T15:03:33.232Z"
   },
   {
    "duration": 12,
    "start_time": "2022-05-27T15:03:46.101Z"
   },
   {
    "duration": 4,
    "start_time": "2022-05-27T15:04:02.208Z"
   },
   {
    "duration": 10,
    "start_time": "2022-05-27T15:04:25.626Z"
   },
   {
    "duration": 10,
    "start_time": "2022-05-27T15:04:33.232Z"
   },
   {
    "duration": 11,
    "start_time": "2022-05-27T15:04:41.055Z"
   },
   {
    "duration": 10,
    "start_time": "2022-05-27T15:04:46.974Z"
   },
   {
    "duration": 4,
    "start_time": "2022-05-27T15:05:20.362Z"
   },
   {
    "duration": 28,
    "start_time": "2022-05-27T15:34:14.818Z"
   },
   {
    "duration": 18,
    "start_time": "2022-05-27T15:34:20.747Z"
   },
   {
    "duration": 15,
    "start_time": "2022-05-27T15:34:29.818Z"
   },
   {
    "duration": 11,
    "start_time": "2022-05-27T15:35:03.893Z"
   },
   {
    "duration": 14,
    "start_time": "2022-05-27T15:35:09.761Z"
   },
   {
    "duration": 7,
    "start_time": "2022-05-27T15:39:25.309Z"
   },
   {
    "duration": 17,
    "start_time": "2022-05-27T15:39:32.078Z"
   },
   {
    "duration": 4,
    "start_time": "2022-05-27T15:40:41.704Z"
   },
   {
    "duration": 5,
    "start_time": "2022-05-27T15:41:50.444Z"
   },
   {
    "duration": 4,
    "start_time": "2022-05-27T15:43:24.370Z"
   },
   {
    "duration": 5,
    "start_time": "2022-05-27T16:00:50.320Z"
   },
   {
    "duration": 10,
    "start_time": "2022-05-27T16:01:01.605Z"
   },
   {
    "duration": 4,
    "start_time": "2022-05-27T16:01:10.405Z"
   },
   {
    "duration": 5,
    "start_time": "2022-05-27T16:01:16.968Z"
   },
   {
    "duration": 5,
    "start_time": "2022-05-27T16:01:40.669Z"
   },
   {
    "duration": 5,
    "start_time": "2022-05-27T16:01:56.011Z"
   },
   {
    "duration": 4,
    "start_time": "2022-05-27T16:02:05.329Z"
   },
   {
    "duration": 8,
    "start_time": "2022-05-27T16:02:56.058Z"
   },
   {
    "duration": 8,
    "start_time": "2022-05-27T16:03:30.286Z"
   },
   {
    "duration": 7,
    "start_time": "2022-05-27T16:07:12.083Z"
   },
   {
    "duration": 7,
    "start_time": "2022-05-27T16:07:21.814Z"
   },
   {
    "duration": 8,
    "start_time": "2022-05-27T16:07:53.259Z"
   },
   {
    "duration": 58,
    "start_time": "2022-05-28T09:24:26.828Z"
   },
   {
    "duration": 1325,
    "start_time": "2022-05-28T09:24:35.222Z"
   },
   {
    "duration": 129,
    "start_time": "2022-05-28T09:24:36.549Z"
   },
   {
    "duration": 4,
    "start_time": "2022-05-28T09:24:36.680Z"
   },
   {
    "duration": 20,
    "start_time": "2022-05-28T09:24:36.686Z"
   },
   {
    "duration": 202,
    "start_time": "2022-05-28T09:24:36.707Z"
   },
   {
    "duration": 17,
    "start_time": "2022-05-28T09:24:36.910Z"
   },
   {
    "duration": 191,
    "start_time": "2022-05-28T09:24:36.929Z"
   },
   {
    "duration": 12,
    "start_time": "2022-05-28T09:24:37.122Z"
   },
   {
    "duration": 775,
    "start_time": "2022-05-28T09:24:37.136Z"
   },
   {
    "duration": 16,
    "start_time": "2022-05-28T09:24:37.914Z"
   },
   {
    "duration": 27,
    "start_time": "2022-05-28T09:24:37.931Z"
   },
   {
    "duration": 5,
    "start_time": "2022-05-28T09:24:37.960Z"
   },
   {
    "duration": 235,
    "start_time": "2022-05-28T09:24:37.966Z"
   },
   {
    "duration": 5,
    "start_time": "2022-05-28T09:24:38.202Z"
   },
   {
    "duration": 218,
    "start_time": "2022-05-28T09:24:38.209Z"
   },
   {
    "duration": 2,
    "start_time": "2022-05-28T09:24:38.429Z"
   },
   {
    "duration": 8,
    "start_time": "2022-05-28T09:24:38.433Z"
   },
   {
    "duration": 29,
    "start_time": "2022-05-28T09:24:38.442Z"
   },
   {
    "duration": 308,
    "start_time": "2022-05-28T09:24:38.472Z"
   },
   {
    "duration": 25,
    "start_time": "2022-05-28T09:24:38.782Z"
   },
   {
    "duration": 194,
    "start_time": "2022-05-28T09:24:38.809Z"
   },
   {
    "duration": 116,
    "start_time": "2022-05-28T09:24:39.005Z"
   },
   {
    "duration": 14,
    "start_time": "2022-05-28T09:24:39.122Z"
   },
   {
    "duration": 13,
    "start_time": "2022-05-28T09:24:39.138Z"
   },
   {
    "duration": 234,
    "start_time": "2022-05-28T09:24:39.153Z"
   },
   {
    "duration": 1161,
    "start_time": "2022-05-28T09:24:39.389Z"
   },
   {
    "duration": 17,
    "start_time": "2022-05-28T09:24:40.552Z"
   },
   {
    "duration": 4,
    "start_time": "2022-05-28T09:24:40.572Z"
   },
   {
    "duration": 16,
    "start_time": "2022-05-28T09:24:40.577Z"
   },
   {
    "duration": 27,
    "start_time": "2022-05-28T09:24:40.595Z"
   },
   {
    "duration": 14,
    "start_time": "2022-05-28T09:24:40.624Z"
   },
   {
    "duration": 5,
    "start_time": "2022-05-28T09:24:40.640Z"
   },
   {
    "duration": 16,
    "start_time": "2022-05-28T09:24:40.647Z"
   },
   {
    "duration": 8,
    "start_time": "2022-05-28T09:24:40.665Z"
   },
   {
    "duration": 136,
    "start_time": "2022-05-28T09:25:24.273Z"
   },
   {
    "duration": 133,
    "start_time": "2022-05-28T09:25:34.823Z"
   },
   {
    "duration": 18,
    "start_time": "2022-05-28T09:25:48.898Z"
   },
   {
    "duration": 116,
    "start_time": "2022-05-28T09:25:53.483Z"
   },
   {
    "duration": 254,
    "start_time": "2022-05-28T09:28:21.865Z"
   },
   {
    "duration": 221,
    "start_time": "2022-05-28T09:29:03.953Z"
   },
   {
    "duration": 237,
    "start_time": "2022-05-28T09:29:49.569Z"
   },
   {
    "duration": 371,
    "start_time": "2022-05-28T09:31:52.309Z"
   },
   {
    "duration": 259,
    "start_time": "2022-05-28T09:37:05.222Z"
   },
   {
    "duration": 248,
    "start_time": "2022-05-28T09:37:19.751Z"
   },
   {
    "duration": 262,
    "start_time": "2022-05-28T09:37:43.898Z"
   },
   {
    "duration": 248,
    "start_time": "2022-05-28T09:38:48.423Z"
   },
   {
    "duration": 164,
    "start_time": "2022-05-28T09:40:22.367Z"
   },
   {
    "duration": 3,
    "start_time": "2022-05-28T09:40:57.173Z"
   },
   {
    "duration": 4,
    "start_time": "2022-05-28T09:40:58.815Z"
   },
   {
    "duration": 16,
    "start_time": "2022-05-28T09:41:02.424Z"
   },
   {
    "duration": 16,
    "start_time": "2022-05-28T09:42:53.728Z"
   },
   {
    "duration": 15,
    "start_time": "2022-05-28T09:43:03.848Z"
   },
   {
    "duration": 18,
    "start_time": "2022-05-28T09:44:05.314Z"
   },
   {
    "duration": 17,
    "start_time": "2022-05-28T09:44:20.926Z"
   },
   {
    "duration": 23,
    "start_time": "2022-05-28T09:44:31.102Z"
   },
   {
    "duration": 19,
    "start_time": "2022-05-28T09:44:41.205Z"
   },
   {
    "duration": 14,
    "start_time": "2022-05-28T09:50:56.728Z"
   },
   {
    "duration": 347,
    "start_time": "2022-05-28T09:51:02.688Z"
   },
   {
    "duration": 1295,
    "start_time": "2022-05-28T09:55:04.763Z"
   },
   {
    "duration": 16,
    "start_time": "2022-05-28T09:55:12.061Z"
   },
   {
    "duration": 4,
    "start_time": "2022-05-28T09:55:51.544Z"
   },
   {
    "duration": 9,
    "start_time": "2022-05-28T09:55:56.834Z"
   },
   {
    "duration": 15,
    "start_time": "2022-05-28T09:56:22.376Z"
   },
   {
    "duration": 19,
    "start_time": "2022-05-28T09:56:43.656Z"
   },
   {
    "duration": 24,
    "start_time": "2022-05-28T09:56:52.129Z"
   },
   {
    "duration": 9,
    "start_time": "2022-05-28T09:57:08.843Z"
   },
   {
    "duration": 5,
    "start_time": "2022-05-28T09:57:16.635Z"
   },
   {
    "duration": 263,
    "start_time": "2022-05-28T10:08:18.209Z"
   },
   {
    "duration": 401,
    "start_time": "2022-05-28T10:10:38.734Z"
   },
   {
    "duration": 178,
    "start_time": "2022-05-28T10:12:52.157Z"
   },
   {
    "duration": 941,
    "start_time": "2022-05-28T10:13:25.061Z"
   },
   {
    "duration": 525,
    "start_time": "2022-05-28T10:13:52.390Z"
   },
   {
    "duration": 330,
    "start_time": "2022-05-28T10:14:12.550Z"
   },
   {
    "duration": 380,
    "start_time": "2022-05-28T10:14:41.674Z"
   },
   {
    "duration": 12,
    "start_time": "2022-05-28T10:15:50.875Z"
   },
   {
    "duration": 7,
    "start_time": "2022-05-28T10:15:55.823Z"
   },
   {
    "duration": 13,
    "start_time": "2022-05-28T10:17:08.588Z"
   },
   {
    "duration": 10,
    "start_time": "2022-05-28T10:17:29.819Z"
   },
   {
    "duration": 14,
    "start_time": "2022-05-28T10:17:37.734Z"
   },
   {
    "duration": 13,
    "start_time": "2022-05-28T10:17:47.378Z"
   },
   {
    "duration": 193,
    "start_time": "2022-05-28T10:19:29.993Z"
   },
   {
    "duration": 154,
    "start_time": "2022-05-28T10:19:42.737Z"
   },
   {
    "duration": 14,
    "start_time": "2022-05-28T10:19:52.549Z"
   },
   {
    "duration": 205,
    "start_time": "2022-05-28T10:20:04.423Z"
   },
   {
    "duration": 285,
    "start_time": "2022-05-28T10:20:21.846Z"
   },
   {
    "duration": 12,
    "start_time": "2022-05-28T10:20:29.015Z"
   },
   {
    "duration": 18,
    "start_time": "2022-05-28T10:22:12.995Z"
   },
   {
    "duration": 43,
    "start_time": "2022-05-28T10:22:45.245Z"
   },
   {
    "duration": 135,
    "start_time": "2022-05-28T10:23:21.659Z"
   },
   {
    "duration": 339,
    "start_time": "2022-05-28T10:27:13.687Z"
   },
   {
    "duration": 16,
    "start_time": "2022-05-28T10:33:06.857Z"
   },
   {
    "duration": 13,
    "start_time": "2022-05-28T10:33:34.020Z"
   },
   {
    "duration": 14,
    "start_time": "2022-05-28T10:36:24.435Z"
   },
   {
    "duration": 11,
    "start_time": "2022-05-28T10:40:30.923Z"
   },
   {
    "duration": 263,
    "start_time": "2022-05-28T10:40:42.900Z"
   },
   {
    "duration": 14,
    "start_time": "2022-05-28T10:42:50.021Z"
   },
   {
    "duration": 6,
    "start_time": "2022-05-28T10:42:59.010Z"
   },
   {
    "duration": 203,
    "start_time": "2022-05-28T10:43:00.013Z"
   },
   {
    "duration": 5,
    "start_time": "2022-05-28T10:43:13.584Z"
   },
   {
    "duration": 7,
    "start_time": "2022-05-28T10:43:21.766Z"
   },
   {
    "duration": 147,
    "start_time": "2022-05-28T10:43:35.710Z"
   },
   {
    "duration": 21,
    "start_time": "2022-05-28T10:44:03.317Z"
   },
   {
    "duration": 11,
    "start_time": "2022-05-28T10:44:20.639Z"
   },
   {
    "duration": 322,
    "start_time": "2022-05-28T10:44:22.423Z"
   },
   {
    "duration": 1263,
    "start_time": "2022-05-28T14:31:03.766Z"
   },
   {
    "duration": 97,
    "start_time": "2022-05-28T14:31:05.031Z"
   },
   {
    "duration": 6,
    "start_time": "2022-05-28T14:31:05.130Z"
   },
   {
    "duration": 21,
    "start_time": "2022-05-28T14:31:05.139Z"
   },
   {
    "duration": 403,
    "start_time": "2022-05-28T14:31:05.162Z"
   },
   {
    "duration": 21,
    "start_time": "2022-05-28T14:31:05.567Z"
   },
   {
    "duration": 180,
    "start_time": "2022-05-28T14:31:05.589Z"
   },
   {
    "duration": 17,
    "start_time": "2022-05-28T14:31:05.771Z"
   },
   {
    "duration": 825,
    "start_time": "2022-05-28T14:31:05.790Z"
   },
   {
    "duration": 16,
    "start_time": "2022-05-28T14:31:06.617Z"
   },
   {
    "duration": 26,
    "start_time": "2022-05-28T14:31:06.642Z"
   },
   {
    "duration": 5,
    "start_time": "2022-05-28T14:31:06.669Z"
   },
   {
    "duration": 357,
    "start_time": "2022-05-28T14:31:06.676Z"
   },
   {
    "duration": 11,
    "start_time": "2022-05-28T14:31:07.035Z"
   },
   {
    "duration": 401,
    "start_time": "2022-05-28T14:31:07.048Z"
   },
   {
    "duration": 3,
    "start_time": "2022-05-28T14:31:07.451Z"
   },
   {
    "duration": 8,
    "start_time": "2022-05-28T14:31:07.455Z"
   },
   {
    "duration": 76,
    "start_time": "2022-05-28T14:31:07.465Z"
   },
   {
    "duration": 1136,
    "start_time": "2022-05-28T14:31:07.543Z"
   },
   {
    "duration": 74,
    "start_time": "2022-05-28T14:31:08.680Z"
   },
   {
    "duration": 508,
    "start_time": "2022-05-28T14:31:08.755Z"
   },
   {
    "duration": 38,
    "start_time": "2022-05-28T14:31:09.265Z"
   },
   {
    "duration": 18,
    "start_time": "2022-05-28T14:31:09.305Z"
   },
   {
    "duration": 15,
    "start_time": "2022-05-28T14:31:09.342Z"
   },
   {
    "duration": 909,
    "start_time": "2022-05-28T14:31:09.359Z"
   },
   {
    "duration": 871,
    "start_time": "2022-05-28T14:31:10.269Z"
   },
   {
    "duration": 19,
    "start_time": "2022-05-28T14:31:11.142Z"
   },
   {
    "duration": 4,
    "start_time": "2022-05-28T14:31:11.164Z"
   },
   {
    "duration": 15,
    "start_time": "2022-05-28T14:31:11.170Z"
   },
   {
    "duration": 13,
    "start_time": "2022-05-28T14:31:11.187Z"
   },
   {
    "duration": 280,
    "start_time": "2022-05-28T14:31:11.202Z"
   },
   {
    "duration": 17,
    "start_time": "2022-05-28T14:31:11.483Z"
   },
   {
    "duration": 18,
    "start_time": "2022-05-28T14:31:11.502Z"
   },
   {
    "duration": 6,
    "start_time": "2022-05-28T14:31:11.540Z"
   },
   {
    "duration": 16,
    "start_time": "2022-05-28T14:31:11.548Z"
   },
   {
    "duration": 11,
    "start_time": "2022-05-28T14:31:11.566Z"
   },
   {
    "duration": 318,
    "start_time": "2022-05-28T14:31:11.580Z"
   },
   {
    "duration": 4,
    "start_time": "2022-05-28T14:31:11.900Z"
   },
   {
    "duration": 55,
    "start_time": "2022-05-28T15:07:55.690Z"
   },
   {
    "duration": 1676,
    "start_time": "2022-05-28T15:08:06.205Z"
   },
   {
    "duration": 134,
    "start_time": "2022-05-28T15:08:08.372Z"
   },
   {
    "duration": 6,
    "start_time": "2022-05-28T15:08:12.383Z"
   },
   {
    "duration": 79,
    "start_time": "2022-05-28T15:08:15.083Z"
   },
   {
    "duration": 11,
    "start_time": "2022-05-28T15:08:31.081Z"
   },
   {
    "duration": 19,
    "start_time": "2022-05-28T15:08:45.701Z"
   },
   {
    "duration": 27,
    "start_time": "2022-05-28T15:16:32.188Z"
   },
   {
    "duration": 26,
    "start_time": "2022-05-28T15:16:50.352Z"
   },
   {
    "duration": 16,
    "start_time": "2022-05-28T15:22:39.178Z"
   },
   {
    "duration": 199,
    "start_time": "2022-05-28T15:23:08.053Z"
   },
   {
    "duration": 15,
    "start_time": "2022-05-28T15:49:32.176Z"
   },
   {
    "duration": 15,
    "start_time": "2022-05-28T15:51:37.158Z"
   },
   {
    "duration": 35,
    "start_time": "2022-05-28T15:52:01.219Z"
   },
   {
    "duration": 12,
    "start_time": "2022-05-28T15:52:19.644Z"
   },
   {
    "duration": 11,
    "start_time": "2022-05-28T15:57:25.233Z"
   },
   {
    "duration": 23,
    "start_time": "2022-05-28T15:57:42.021Z"
   },
   {
    "duration": 11,
    "start_time": "2022-05-28T15:57:43.485Z"
   },
   {
    "duration": 17,
    "start_time": "2022-05-28T15:57:45.325Z"
   },
   {
    "duration": 5,
    "start_time": "2022-05-28T16:00:01.884Z"
   },
   {
    "duration": 11,
    "start_time": "2022-05-28T16:00:07.606Z"
   },
   {
    "duration": 11,
    "start_time": "2022-05-28T16:00:22.985Z"
   },
   {
    "duration": 478,
    "start_time": "2022-05-28T16:02:13.435Z"
   },
   {
    "duration": 535,
    "start_time": "2022-05-28T16:05:06.853Z"
   },
   {
    "duration": 34,
    "start_time": "2022-05-28T16:08:11.306Z"
   },
   {
    "duration": 28,
    "start_time": "2022-05-28T16:09:02.070Z"
   },
   {
    "duration": 25,
    "start_time": "2022-05-28T16:12:50.969Z"
   },
   {
    "duration": 582,
    "start_time": "2022-05-28T16:14:15.017Z"
   },
   {
    "duration": 414,
    "start_time": "2022-05-28T16:14:43.433Z"
   },
   {
    "duration": 37,
    "start_time": "2022-05-28T16:15:53.445Z"
   },
   {
    "duration": 18,
    "start_time": "2022-05-28T16:19:36.962Z"
   },
   {
    "duration": 1265,
    "start_time": "2022-05-28T16:19:46.232Z"
   },
   {
    "duration": 90,
    "start_time": "2022-05-28T16:19:47.500Z"
   },
   {
    "duration": 18,
    "start_time": "2022-05-28T16:19:47.592Z"
   },
   {
    "duration": 43,
    "start_time": "2022-05-28T16:19:47.612Z"
   },
   {
    "duration": 19,
    "start_time": "2022-05-28T16:19:47.657Z"
   },
   {
    "duration": 387,
    "start_time": "2022-05-28T16:19:47.678Z"
   },
   {
    "duration": 16,
    "start_time": "2022-05-28T16:19:48.067Z"
   },
   {
    "duration": 187,
    "start_time": "2022-05-28T16:19:48.085Z"
   },
   {
    "duration": 123,
    "start_time": "2022-05-28T16:19:48.274Z"
   },
   {
    "duration": 0,
    "start_time": "2022-05-28T16:19:48.400Z"
   },
   {
    "duration": 0,
    "start_time": "2022-05-28T16:19:48.401Z"
   },
   {
    "duration": 0,
    "start_time": "2022-05-28T16:19:48.403Z"
   },
   {
    "duration": 0,
    "start_time": "2022-05-28T16:19:48.404Z"
   },
   {
    "duration": 0,
    "start_time": "2022-05-28T16:19:48.405Z"
   },
   {
    "duration": 0,
    "start_time": "2022-05-28T16:19:48.406Z"
   },
   {
    "duration": 0,
    "start_time": "2022-05-28T16:19:48.407Z"
   },
   {
    "duration": 0,
    "start_time": "2022-05-28T16:19:48.408Z"
   },
   {
    "duration": 0,
    "start_time": "2022-05-28T16:19:48.409Z"
   },
   {
    "duration": 0,
    "start_time": "2022-05-28T16:19:48.411Z"
   },
   {
    "duration": 0,
    "start_time": "2022-05-28T16:19:48.412Z"
   },
   {
    "duration": 0,
    "start_time": "2022-05-28T16:19:48.413Z"
   },
   {
    "duration": 0,
    "start_time": "2022-05-28T16:19:48.442Z"
   },
   {
    "duration": 0,
    "start_time": "2022-05-28T16:19:48.443Z"
   },
   {
    "duration": 0,
    "start_time": "2022-05-28T16:19:48.444Z"
   },
   {
    "duration": 0,
    "start_time": "2022-05-28T16:19:48.445Z"
   },
   {
    "duration": 0,
    "start_time": "2022-05-28T16:19:48.446Z"
   },
   {
    "duration": 0,
    "start_time": "2022-05-28T16:19:48.447Z"
   },
   {
    "duration": 0,
    "start_time": "2022-05-28T16:19:48.448Z"
   },
   {
    "duration": 0,
    "start_time": "2022-05-28T16:19:48.449Z"
   },
   {
    "duration": 0,
    "start_time": "2022-05-28T16:19:48.450Z"
   },
   {
    "duration": 0,
    "start_time": "2022-05-28T16:19:48.451Z"
   },
   {
    "duration": 0,
    "start_time": "2022-05-28T16:19:48.452Z"
   },
   {
    "duration": 0,
    "start_time": "2022-05-28T16:19:48.452Z"
   },
   {
    "duration": 0,
    "start_time": "2022-05-28T16:19:48.453Z"
   },
   {
    "duration": 0,
    "start_time": "2022-05-28T16:19:48.454Z"
   },
   {
    "duration": 0,
    "start_time": "2022-05-28T16:19:48.455Z"
   },
   {
    "duration": 0,
    "start_time": "2022-05-28T16:19:48.457Z"
   },
   {
    "duration": 0,
    "start_time": "2022-05-28T16:19:48.457Z"
   },
   {
    "duration": 0,
    "start_time": "2022-05-28T16:19:48.458Z"
   },
   {
    "duration": 0,
    "start_time": "2022-05-28T16:19:48.460Z"
   },
   {
    "duration": 0,
    "start_time": "2022-05-28T16:19:48.461Z"
   },
   {
    "duration": 0,
    "start_time": "2022-05-28T16:19:48.462Z"
   },
   {
    "duration": 16,
    "start_time": "2022-05-28T16:21:58.538Z"
   },
   {
    "duration": 1163,
    "start_time": "2022-05-28T16:22:03.269Z"
   },
   {
    "duration": 89,
    "start_time": "2022-05-28T16:22:04.434Z"
   },
   {
    "duration": 18,
    "start_time": "2022-05-28T16:22:04.525Z"
   },
   {
    "duration": 30,
    "start_time": "2022-05-28T16:22:04.545Z"
   },
   {
    "duration": 21,
    "start_time": "2022-05-28T16:22:04.578Z"
   },
   {
    "duration": 410,
    "start_time": "2022-05-28T16:22:04.601Z"
   },
   {
    "duration": 16,
    "start_time": "2022-05-28T16:22:05.012Z"
   },
   {
    "duration": 189,
    "start_time": "2022-05-28T16:22:05.030Z"
   },
   {
    "duration": 26,
    "start_time": "2022-05-28T16:22:05.221Z"
   },
   {
    "duration": 13,
    "start_time": "2022-05-28T16:22:05.250Z"
   },
   {
    "duration": 14,
    "start_time": "2022-05-28T16:22:05.265Z"
   },
   {
    "duration": 26,
    "start_time": "2022-05-28T16:22:05.281Z"
   },
   {
    "duration": 481,
    "start_time": "2022-05-28T16:22:05.309Z"
   },
   {
    "duration": 15,
    "start_time": "2022-05-28T16:22:05.793Z"
   },
   {
    "duration": 40,
    "start_time": "2022-05-28T16:22:05.810Z"
   },
   {
    "duration": 5,
    "start_time": "2022-05-28T16:22:05.853Z"
   },
   {
    "duration": 329,
    "start_time": "2022-05-28T16:22:05.860Z"
   },
   {
    "duration": 5,
    "start_time": "2022-05-28T16:22:06.191Z"
   },
   {
    "duration": 184,
    "start_time": "2022-05-28T16:22:06.198Z"
   },
   {
    "duration": 2,
    "start_time": "2022-05-28T16:22:06.384Z"
   },
   {
    "duration": 8,
    "start_time": "2022-05-28T16:22:06.388Z"
   },
   {
    "duration": 20,
    "start_time": "2022-05-28T16:22:06.398Z"
   },
   {
    "duration": 552,
    "start_time": "2022-05-28T16:22:06.420Z"
   },
   {
    "duration": 27,
    "start_time": "2022-05-28T16:22:06.974Z"
   },
   {
    "duration": 433,
    "start_time": "2022-05-28T16:22:07.004Z"
   },
   {
    "duration": 36,
    "start_time": "2022-05-28T16:22:07.441Z"
   },
   {
    "duration": 17,
    "start_time": "2022-05-28T16:22:07.479Z"
   },
   {
    "duration": 47,
    "start_time": "2022-05-28T16:22:07.498Z"
   },
   {
    "duration": 427,
    "start_time": "2022-05-28T16:22:07.546Z"
   },
   {
    "duration": 1357,
    "start_time": "2022-05-28T16:22:07.975Z"
   },
   {
    "duration": 28,
    "start_time": "2022-05-28T16:22:09.334Z"
   },
   {
    "duration": 5,
    "start_time": "2022-05-28T16:22:09.365Z"
   },
   {
    "duration": 15,
    "start_time": "2022-05-28T16:22:09.372Z"
   },
   {
    "duration": 14,
    "start_time": "2022-05-28T16:22:09.389Z"
   },
   {
    "duration": 258,
    "start_time": "2022-05-28T16:22:09.405Z"
   },
   {
    "duration": 16,
    "start_time": "2022-05-28T16:22:09.665Z"
   },
   {
    "duration": 17,
    "start_time": "2022-05-28T16:22:09.682Z"
   },
   {
    "duration": 4,
    "start_time": "2022-05-28T16:22:09.701Z"
   },
   {
    "duration": 39,
    "start_time": "2022-05-28T16:22:09.707Z"
   },
   {
    "duration": 10,
    "start_time": "2022-05-28T16:22:09.748Z"
   },
   {
    "duration": 345,
    "start_time": "2022-05-28T16:22:09.761Z"
   },
   {
    "duration": 4,
    "start_time": "2022-05-28T16:22:10.108Z"
   },
   {
    "duration": 117,
    "start_time": "2022-05-28T16:25:02.806Z"
   },
   {
    "duration": 4,
    "start_time": "2022-05-28T16:25:08.565Z"
   },
   {
    "duration": 8,
    "start_time": "2022-05-28T16:25:51.289Z"
   },
   {
    "duration": 9,
    "start_time": "2022-05-28T16:26:04.880Z"
   },
   {
    "duration": 11,
    "start_time": "2022-05-28T16:26:56.701Z"
   },
   {
    "duration": 7,
    "start_time": "2022-05-28T16:26:58.981Z"
   },
   {
    "duration": 9,
    "start_time": "2022-05-28T16:27:07.073Z"
   },
   {
    "duration": 319,
    "start_time": "2022-05-28T16:29:30.896Z"
   },
   {
    "duration": 27,
    "start_time": "2022-05-28T16:30:08.323Z"
   },
   {
    "duration": 363,
    "start_time": "2022-05-28T16:50:52.866Z"
   },
   {
    "duration": 348,
    "start_time": "2022-05-28T16:51:54.495Z"
   },
   {
    "duration": 361,
    "start_time": "2022-05-28T16:52:08.946Z"
   },
   {
    "duration": 15,
    "start_time": "2022-05-28T16:52:47.606Z"
   },
   {
    "duration": 361,
    "start_time": "2022-05-28T17:00:33.823Z"
   },
   {
    "duration": 454,
    "start_time": "2022-05-28T17:00:42.902Z"
   },
   {
    "duration": 361,
    "start_time": "2022-05-28T17:03:17.301Z"
   },
   {
    "duration": 35,
    "start_time": "2022-05-28T17:44:49.895Z"
   },
   {
    "duration": 1324,
    "start_time": "2022-05-28T19:56:19.898Z"
   },
   {
    "duration": 108,
    "start_time": "2022-05-28T19:56:21.224Z"
   },
   {
    "duration": 32,
    "start_time": "2022-05-28T19:56:21.334Z"
   },
   {
    "duration": 40,
    "start_time": "2022-05-28T19:56:21.368Z"
   },
   {
    "duration": 48,
    "start_time": "2022-05-28T19:56:21.411Z"
   },
   {
    "duration": 612,
    "start_time": "2022-05-28T19:56:21.462Z"
   },
   {
    "duration": 21,
    "start_time": "2022-05-28T19:56:22.076Z"
   },
   {
    "duration": 485,
    "start_time": "2022-05-28T19:56:22.099Z"
   },
   {
    "duration": 23,
    "start_time": "2022-05-28T19:56:22.586Z"
   },
   {
    "duration": 20,
    "start_time": "2022-05-28T19:56:22.659Z"
   },
   {
    "duration": 25,
    "start_time": "2022-05-28T19:56:22.681Z"
   },
   {
    "duration": 66,
    "start_time": "2022-05-28T19:56:22.708Z"
   },
   {
    "duration": 1208,
    "start_time": "2022-05-28T19:56:22.776Z"
   },
   {
    "duration": 18,
    "start_time": "2022-05-28T19:56:23.987Z"
   },
   {
    "duration": 88,
    "start_time": "2022-05-28T19:56:24.007Z"
   },
   {
    "duration": 7,
    "start_time": "2022-05-28T19:56:24.097Z"
   },
   {
    "duration": 861,
    "start_time": "2022-05-28T19:56:24.105Z"
   },
   {
    "duration": 6,
    "start_time": "2022-05-28T19:56:24.969Z"
   },
   {
    "duration": 489,
    "start_time": "2022-05-28T19:56:24.977Z"
   },
   {
    "duration": 4,
    "start_time": "2022-05-28T19:56:25.468Z"
   },
   {
    "duration": 15,
    "start_time": "2022-05-28T19:56:25.474Z"
   },
   {
    "duration": 83,
    "start_time": "2022-05-28T19:56:25.491Z"
   },
   {
    "duration": 1415,
    "start_time": "2022-05-28T19:56:25.577Z"
   },
   {
    "duration": 94,
    "start_time": "2022-05-28T19:56:26.994Z"
   },
   {
    "duration": 794,
    "start_time": "2022-05-28T19:56:27.089Z"
   },
   {
    "duration": 38,
    "start_time": "2022-05-28T19:56:27.885Z"
   },
   {
    "duration": 40,
    "start_time": "2022-05-28T19:56:27.925Z"
   },
   {
    "duration": 19,
    "start_time": "2022-05-28T19:56:27.968Z"
   },
   {
    "duration": 499,
    "start_time": "2022-05-28T19:56:27.989Z"
   },
   {
    "duration": 1312,
    "start_time": "2022-05-28T19:56:28.490Z"
   },
   {
    "duration": 14,
    "start_time": "2022-05-28T19:56:29.806Z"
   },
   {
    "duration": 13,
    "start_time": "2022-05-28T19:56:29.822Z"
   },
   {
    "duration": 153,
    "start_time": "2022-05-28T19:56:29.837Z"
   },
   {
    "duration": 0,
    "start_time": "2022-05-28T19:56:29.991Z"
   },
   {
    "duration": 0,
    "start_time": "2022-05-28T19:56:29.993Z"
   },
   {
    "duration": 0,
    "start_time": "2022-05-28T19:56:29.994Z"
   },
   {
    "duration": 0,
    "start_time": "2022-05-28T19:56:29.995Z"
   },
   {
    "duration": 1,
    "start_time": "2022-05-28T19:56:29.995Z"
   },
   {
    "duration": 0,
    "start_time": "2022-05-28T19:56:29.996Z"
   },
   {
    "duration": 0,
    "start_time": "2022-05-28T19:56:29.999Z"
   },
   {
    "duration": 0,
    "start_time": "2022-05-28T19:56:30.000Z"
   },
   {
    "duration": 0,
    "start_time": "2022-05-28T19:56:30.001Z"
   },
   {
    "duration": 5,
    "start_time": "2022-05-28T19:58:35.349Z"
   },
   {
    "duration": 11,
    "start_time": "2022-05-28T20:01:21.792Z"
   },
   {
    "duration": 0,
    "start_time": "2022-05-28T20:01:21.805Z"
   },
   {
    "duration": 16,
    "start_time": "2022-05-28T20:01:21.807Z"
   },
   {
    "duration": 20,
    "start_time": "2022-05-28T20:01:21.825Z"
   },
   {
    "duration": 5,
    "start_time": "2022-05-28T20:01:21.847Z"
   },
   {
    "duration": 20,
    "start_time": "2022-05-28T20:01:21.854Z"
   },
   {
    "duration": 15,
    "start_time": "2022-05-28T20:01:21.877Z"
   },
   {
    "duration": 390,
    "start_time": "2022-05-28T20:01:21.894Z"
   },
   {
    "duration": 13,
    "start_time": "2022-05-28T20:01:22.286Z"
   },
   {
    "duration": 1892,
    "start_time": "2022-05-28T20:02:39.477Z"
   },
   {
    "duration": 193,
    "start_time": "2022-05-28T20:02:41.373Z"
   },
   {
    "duration": 27,
    "start_time": "2022-05-28T20:02:41.570Z"
   },
   {
    "duration": 114,
    "start_time": "2022-05-28T20:02:41.599Z"
   },
   {
    "duration": 74,
    "start_time": "2022-05-28T20:02:41.717Z"
   },
   {
    "duration": 1225,
    "start_time": "2022-05-28T20:02:41.793Z"
   },
   {
    "duration": 60,
    "start_time": "2022-05-28T20:02:43.020Z"
   },
   {
    "duration": 306,
    "start_time": "2022-05-28T20:02:43.083Z"
   },
   {
    "duration": 17,
    "start_time": "2022-05-28T20:02:43.392Z"
   },
   {
    "duration": 14,
    "start_time": "2022-05-28T20:02:43.412Z"
   },
   {
    "duration": 46,
    "start_time": "2022-05-28T20:02:43.428Z"
   },
   {
    "duration": 27,
    "start_time": "2022-05-28T20:02:43.476Z"
   },
   {
    "duration": 530,
    "start_time": "2022-05-28T20:02:43.505Z"
   },
   {
    "duration": 36,
    "start_time": "2022-05-28T20:02:44.038Z"
   },
   {
    "duration": 31,
    "start_time": "2022-05-28T20:02:44.076Z"
   },
   {
    "duration": 6,
    "start_time": "2022-05-28T20:02:44.109Z"
   },
   {
    "duration": 399,
    "start_time": "2022-05-28T20:02:44.117Z"
   },
   {
    "duration": 6,
    "start_time": "2022-05-28T20:02:44.518Z"
   },
   {
    "duration": 246,
    "start_time": "2022-05-28T20:02:44.527Z"
   },
   {
    "duration": 3,
    "start_time": "2022-05-28T20:02:44.775Z"
   },
   {
    "duration": 19,
    "start_time": "2022-05-28T20:02:44.781Z"
   },
   {
    "duration": 24,
    "start_time": "2022-05-28T20:02:44.802Z"
   },
   {
    "duration": 892,
    "start_time": "2022-05-28T20:02:44.828Z"
   },
   {
    "duration": 41,
    "start_time": "2022-05-28T20:02:45.722Z"
   },
   {
    "duration": 461,
    "start_time": "2022-05-28T20:02:45.765Z"
   },
   {
    "duration": 60,
    "start_time": "2022-05-28T20:02:46.229Z"
   },
   {
    "duration": 22,
    "start_time": "2022-05-28T20:02:46.291Z"
   },
   {
    "duration": 35,
    "start_time": "2022-05-28T20:02:46.325Z"
   },
   {
    "duration": 530,
    "start_time": "2022-05-28T20:02:46.363Z"
   },
   {
    "duration": 1141,
    "start_time": "2022-05-28T20:02:46.896Z"
   },
   {
    "duration": 10,
    "start_time": "2022-05-28T20:02:48.039Z"
   },
   {
    "duration": 11,
    "start_time": "2022-05-28T20:02:48.051Z"
   },
   {
    "duration": 150,
    "start_time": "2022-05-28T20:02:48.065Z"
   },
   {
    "duration": 0,
    "start_time": "2022-05-28T20:02:48.217Z"
   },
   {
    "duration": 0,
    "start_time": "2022-05-28T20:02:48.218Z"
   },
   {
    "duration": 0,
    "start_time": "2022-05-28T20:02:48.219Z"
   },
   {
    "duration": 0,
    "start_time": "2022-05-28T20:02:48.220Z"
   },
   {
    "duration": 0,
    "start_time": "2022-05-28T20:02:48.222Z"
   },
   {
    "duration": 0,
    "start_time": "2022-05-28T20:02:48.223Z"
   },
   {
    "duration": 0,
    "start_time": "2022-05-28T20:02:48.224Z"
   },
   {
    "duration": 0,
    "start_time": "2022-05-28T20:02:48.225Z"
   },
   {
    "duration": 0,
    "start_time": "2022-05-28T20:02:48.226Z"
   },
   {
    "duration": 12,
    "start_time": "2022-05-29T07:17:04.717Z"
   },
   {
    "duration": 11,
    "start_time": "2022-05-29T07:17:07.725Z"
   },
   {
    "duration": 11,
    "start_time": "2022-05-29T07:18:50.622Z"
   },
   {
    "duration": 8,
    "start_time": "2022-05-29T07:22:36.771Z"
   },
   {
    "duration": 18,
    "start_time": "2022-05-29T07:22:50.701Z"
   },
   {
    "duration": 3,
    "start_time": "2022-05-29T07:22:59.478Z"
   },
   {
    "duration": 10,
    "start_time": "2022-05-29T07:23:10.953Z"
   },
   {
    "duration": 10,
    "start_time": "2022-05-29T07:26:39.463Z"
   },
   {
    "duration": 8,
    "start_time": "2022-05-29T07:28:02.260Z"
   },
   {
    "duration": 18,
    "start_time": "2022-05-29T07:28:11.829Z"
   },
   {
    "duration": 18,
    "start_time": "2022-05-29T07:33:11.788Z"
   },
   {
    "duration": 19,
    "start_time": "2022-05-29T07:33:45.859Z"
   },
   {
    "duration": 4,
    "start_time": "2022-05-29T07:36:53.803Z"
   },
   {
    "duration": 5,
    "start_time": "2022-05-29T07:37:05.559Z"
   },
   {
    "duration": 6,
    "start_time": "2022-05-29T07:37:10.452Z"
   },
   {
    "duration": 7,
    "start_time": "2022-05-29T07:38:42.509Z"
   },
   {
    "duration": 7,
    "start_time": "2022-05-29T07:38:50.957Z"
   },
   {
    "duration": 15,
    "start_time": "2022-05-29T07:39:01.689Z"
   },
   {
    "duration": 13,
    "start_time": "2022-05-29T07:39:06.265Z"
   },
   {
    "duration": 5,
    "start_time": "2022-05-29T07:39:44.129Z"
   },
   {
    "duration": 11,
    "start_time": "2022-05-29T07:40:54.891Z"
   },
   {
    "duration": 9,
    "start_time": "2022-05-29T07:41:46.225Z"
   },
   {
    "duration": 1657,
    "start_time": "2022-05-29T19:33:11.725Z"
   },
   {
    "duration": 344,
    "start_time": "2022-05-29T19:33:13.385Z"
   },
   {
    "duration": 19,
    "start_time": "2022-05-29T19:33:13.731Z"
   },
   {
    "duration": 36,
    "start_time": "2022-05-29T19:33:13.752Z"
   },
   {
    "duration": 21,
    "start_time": "2022-05-29T19:33:13.790Z"
   },
   {
    "duration": 377,
    "start_time": "2022-05-29T19:33:13.813Z"
   },
   {
    "duration": 19,
    "start_time": "2022-05-29T19:33:14.192Z"
   },
   {
    "duration": 210,
    "start_time": "2022-05-29T19:33:14.212Z"
   },
   {
    "duration": 23,
    "start_time": "2022-05-29T19:33:14.425Z"
   },
   {
    "duration": 18,
    "start_time": "2022-05-29T19:33:14.467Z"
   },
   {
    "duration": 17,
    "start_time": "2022-05-29T19:33:14.487Z"
   },
   {
    "duration": 19,
    "start_time": "2022-05-29T19:33:14.505Z"
   },
   {
    "duration": 516,
    "start_time": "2022-05-29T19:33:14.527Z"
   },
   {
    "duration": 33,
    "start_time": "2022-05-29T19:33:15.045Z"
   },
   {
    "duration": 32,
    "start_time": "2022-05-29T19:33:15.081Z"
   },
   {
    "duration": 5,
    "start_time": "2022-05-29T19:33:15.115Z"
   },
   {
    "duration": 336,
    "start_time": "2022-05-29T19:33:15.122Z"
   },
   {
    "duration": 17,
    "start_time": "2022-05-29T19:33:15.460Z"
   },
   {
    "duration": 190,
    "start_time": "2022-05-29T19:33:15.480Z"
   },
   {
    "duration": 6,
    "start_time": "2022-05-29T19:33:15.675Z"
   },
   {
    "duration": 6,
    "start_time": "2022-05-29T19:33:15.683Z"
   },
   {
    "duration": 23,
    "start_time": "2022-05-29T19:33:15.691Z"
   },
   {
    "duration": 591,
    "start_time": "2022-05-29T19:33:15.716Z"
   },
   {
    "duration": 23,
    "start_time": "2022-05-29T19:33:16.309Z"
   },
   {
    "duration": 451,
    "start_time": "2022-05-29T19:33:16.334Z"
   },
   {
    "duration": 150,
    "start_time": "2022-05-29T19:33:16.787Z"
   },
   {
    "duration": 28,
    "start_time": "2022-05-29T19:33:16.938Z"
   },
   {
    "duration": 19,
    "start_time": "2022-05-29T19:33:16.971Z"
   },
   {
    "duration": 403,
    "start_time": "2022-05-29T19:33:16.991Z"
   },
   {
    "duration": 1493,
    "start_time": "2022-05-29T19:33:17.398Z"
   },
   {
    "duration": 26,
    "start_time": "2022-05-29T19:33:18.893Z"
   },
   {
    "duration": 5,
    "start_time": "2022-05-29T19:33:18.922Z"
   },
   {
    "duration": 22,
    "start_time": "2022-05-29T19:33:18.930Z"
   },
   {
    "duration": 19,
    "start_time": "2022-05-29T19:33:18.972Z"
   },
   {
    "duration": 317,
    "start_time": "2022-05-29T19:33:18.993Z"
   },
   {
    "duration": 25,
    "start_time": "2022-05-29T19:33:19.312Z"
   },
   {
    "duration": 44,
    "start_time": "2022-05-29T19:33:19.340Z"
   },
   {
    "duration": 4,
    "start_time": "2022-05-29T19:33:19.386Z"
   },
   {
    "duration": 14,
    "start_time": "2022-05-29T19:33:19.392Z"
   },
   {
    "duration": 11,
    "start_time": "2022-05-29T19:33:19.408Z"
   },
   {
    "duration": 374,
    "start_time": "2022-05-29T19:33:19.421Z"
   },
   {
    "duration": 5,
    "start_time": "2022-05-29T19:33:19.798Z"
   },
   {
    "duration": 26,
    "start_time": "2022-05-29T19:34:23.854Z"
   }
  ],
  "kernelspec": {
   "display_name": "Python 3 (ipykernel)",
   "language": "python",
   "name": "python3"
  },
  "language_info": {
   "codemirror_mode": {
    "name": "ipython",
    "version": 3
   },
   "file_extension": ".py",
   "mimetype": "text/x-python",
   "name": "python",
   "nbconvert_exporter": "python",
   "pygments_lexer": "ipython3",
   "version": "3.9.12"
  },
  "toc": {
   "base_numbering": 1,
   "nav_menu": {},
   "number_sections": true,
   "sideBar": true,
   "skip_h1_title": true,
   "title_cell": "Table of Contents",
   "title_sidebar": "Contents",
   "toc_cell": false,
   "toc_position": {
    "height": "calc(100% - 180px)",
    "left": "10px",
    "top": "150px",
    "width": "383.188px"
   },
   "toc_section_display": true,
   "toc_window_display": false
  }
 },
 "nbformat": 4,
 "nbformat_minor": 2
}
