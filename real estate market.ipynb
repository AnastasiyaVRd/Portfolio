{
 "cells": [
  {
   "cell_type": "markdown",
   "metadata": {},
   "source": [
    "<div style=\"border:solid lightblue 3px; padding: 20px\">\n",
    "<b>Настя, привет!</b>\n",
    "\n",
    "Меня зовут Виталий Мехоношин, и я буду проверять твой проект. Предлагаю общаться на «ты» 😉\n",
    "\n",
    "Моя основная цель — не указать на совершенные тобою ошибки, а поделиться своим опытом и помочь тебе стать аналитиком данных. Тобой проделана большая работа над проектом, давай сделаем его еще лучше. Ниже ты найдешь мои комментарии. Есть несколько правил:<br>\n",
    "- <b>Пожалуйста, не перемещай, не изменяй и не удаляй комментарии.</b>\n",
    "- У комментариев могут быть приписки <b>V2, V3</b> и т.д., которые соответствуют версии проверки. \n",
    "- Еще обрати внимание на цветовую разметку:\n",
    "\n",
    "<div class=\"alert alert-danger\">\n",
    "<b>❌ Комментарий ревьюера:</b> \n",
    "Комментарии такого цвета необходимо исправить, без их отработки проект не будет принят. \n",
    "</div>\n",
    "\n",
    "<div class=\"alert alert-warning\">\n",
    "<b>⚠️ Комментарий ревьюера:</b> \n",
    "На комментарии такого цвета нужно обязательно обратить внимание. Их не должно быть много.\n",
    "</div>\n",
    "\n",
    "<div class=\"alert alert-success\">\n",
    "<b>✅ Комментарий ревьюера:</b> \n",
    "Комментарии такого цвета будут содержать лайфхаки, которые смогут улучшить твой верный код, их необязательно исправлять.\n",
    "</div>\n",
    "\n",
    "Предлагаю работать над проектом в диалоге: если ты хочешь ответить на мои комментарии — пиши об этом. Мне будет легче отследить изменения, если ты выделишь свои комментарии вот так:\n",
    "<div class=\"alert alert-info\"> <b>Комментарий студента:</b> Например, вот так.</div>\n",
    "\n",
    "Всё это поможет выполнить повторную проверку твоего проекта оперативнее.\n",
    "</div>"
   ]
  },
  {
   "cell_type": "markdown",
   "metadata": {},
   "source": [
    "<div style=\"border:solid lightblue 3px; padding: 20px\">\n",
    "<b>Общий комментарий ревьюера:</b>\n",
    "\n",
    "У тебя хорошая и чательно сделанная работа. Каждый заголовок выделен, каждое рассуждение выделено, каждый пункт выделен. Хочется отметить так же упорядоченность и последовательность действий, нет скачков от одних пунктов к другим.\n",
    "    \n",
    "Так же нужно поработать над следующими моментами:\n",
    "    \n",
    "1. Заполнением пропусков\n",
    "2. Визуализацией\n",
    "3. Определением центральной границы.\n",
    "\n",
    "В остальном все очень хорошо. Возвращаю проект на доработку, поправь эти моменты и сформулируй вопросы и непонятки. Буду ждать твоих исправлений😊\n",
    "</div>"
   ]
  },
  {
   "cell_type": "markdown",
   "metadata": {},
   "source": [
    "<div style=\"border:solid lightblue 3px; padding: 20px\">\n",
    "<b>Общий комментарий ревьюера V2:</b>\n",
    "\n",
    "Осталось поработать над:\n",
    "    \n",
    "1. ~Заполнением пропусков~\n",
    "2. ~Визуализацией~\n",
    "3. Определением центральной границы.\n",
    "\n",
    "Буду ждать твоих исправлений😊\n",
    "</div>"
   ]
  },
  {
   "cell_type": "markdown",
   "metadata": {},
   "source": [
    "<div style=\"border:solid lightblue 3px; padding: 20px\">\n",
    "<b>Общий комментарий ревьюера V3:</b>\n",
    "\n",
    "Работа над комментариями успешно произведена, проект принят, удачи на следующих спринтах😊\n",
    "</div>"
   ]
  },
  {
   "cell_type": "markdown",
   "metadata": {
    "toc": true
   },
   "source": [
    "<h1>Содержание<span class=\"tocSkip\"></span></h1>\n",
    "<div class=\"toc\"><ul class=\"toc-item\"><li><span><a href=\"#Изучение-данных-из-файла\" data-toc-modified-id=\"Изучение-данных-из-файла-1\"><span class=\"toc-item-num\">1&nbsp;&nbsp;</span>Изучение данных из файла</a></span><ul class=\"toc-item\"><li><span><a href=\"#Вывод\" data-toc-modified-id=\"Вывод-1.1\"><span class=\"toc-item-num\">1.1&nbsp;&nbsp;</span>Вывод</a></span></li></ul></li><li><span><a href=\"#Предобработка-данных\" data-toc-modified-id=\"Предобработка-данных-2\"><span class=\"toc-item-num\">2&nbsp;&nbsp;</span>Предобработка данных</a></span></li><li><span><a href=\"#Расчёты-и-добавление-результатов-в-таблицу\" data-toc-modified-id=\"Расчёты-и-добавление-результатов-в-таблицу-3\"><span class=\"toc-item-num\">3&nbsp;&nbsp;</span>Расчёты и добавление результатов в таблицу</a></span></li><li><span><a href=\"#Исследовательский-анализ-данных\" data-toc-modified-id=\"Исследовательский-анализ-данных-4\"><span class=\"toc-item-num\">4&nbsp;&nbsp;</span>Исследовательский анализ данных</a></span></li><li><span><a href=\"#Общий-вывод\" data-toc-modified-id=\"Общий-вывод-5\"><span class=\"toc-item-num\">5&nbsp;&nbsp;</span>Общий вывод</a></span></li><li><span><a href=\"#Чек-лист-готовности-проекта\" data-toc-modified-id=\"Чек-лист-готовности-проекта-6\"><span class=\"toc-item-num\">6&nbsp;&nbsp;</span>Чек-лист готовности проекта</a></span></li></ul></div>"
   ]
  },
  {
   "cell_type": "markdown",
   "metadata": {},
   "source": [
    "# Исследование объявлений о продаже квартир\n",
    "\n",
    "В вашем распоряжении данные сервиса Яндекс.Недвижимость — архив объявлений о продаже квартир в Санкт-Петербурге и соседних населённых пунктах за несколько лет. Нужно научиться определять рыночную стоимость объектов недвижимости. Ваша задача — установить параметры. Это позволит построить автоматизированную систему: она отследит аномалии и мошенническую деятельность. \n",
    "\n",
    "По каждой квартире на продажу доступны два вида данных. Первые вписаны пользователем, вторые получены автоматически на основе картографических данных. Например, расстояние до центра, аэропорта, ближайшего парка и водоёма. "
   ]
  },
  {
   "cell_type": "markdown",
   "metadata": {},
   "source": [
    "## Изучение данных из файла"
   ]
  },
  {
   "cell_type": "code",
   "execution_count": 17,
   "metadata": {},
   "outputs": [
    {
     "data": {
      "text/html": [
       "<div>\n",
       "<style scoped>\n",
       "    .dataframe tbody tr th:only-of-type {\n",
       "        vertical-align: middle;\n",
       "    }\n",
       "\n",
       "    .dataframe tbody tr th {\n",
       "        vertical-align: top;\n",
       "    }\n",
       "\n",
       "    .dataframe thead th {\n",
       "        text-align: right;\n",
       "    }\n",
       "</style>\n",
       "<table border=\"1\" class=\"dataframe\">\n",
       "  <thead>\n",
       "    <tr style=\"text-align: right;\">\n",
       "      <th></th>\n",
       "      <th>total_images</th>\n",
       "      <th>last_price</th>\n",
       "      <th>total_area</th>\n",
       "      <th>first_day_exposition</th>\n",
       "      <th>rooms</th>\n",
       "      <th>ceiling_height</th>\n",
       "      <th>floors_total</th>\n",
       "      <th>living_area</th>\n",
       "      <th>floor</th>\n",
       "      <th>is_apartment</th>\n",
       "      <th>...</th>\n",
       "      <th>kitchen_area</th>\n",
       "      <th>balcony</th>\n",
       "      <th>locality_name</th>\n",
       "      <th>airports_nearest</th>\n",
       "      <th>cityCenters_nearest</th>\n",
       "      <th>parks_around3000</th>\n",
       "      <th>parks_nearest</th>\n",
       "      <th>ponds_around3000</th>\n",
       "      <th>ponds_nearest</th>\n",
       "      <th>days_exposition</th>\n",
       "    </tr>\n",
       "  </thead>\n",
       "  <tbody>\n",
       "    <tr>\n",
       "      <td>0</td>\n",
       "      <td>20</td>\n",
       "      <td>13000000.0</td>\n",
       "      <td>108.0</td>\n",
       "      <td>2019-03-07T00:00:00</td>\n",
       "      <td>3</td>\n",
       "      <td>2.70</td>\n",
       "      <td>16.0</td>\n",
       "      <td>51.0</td>\n",
       "      <td>8</td>\n",
       "      <td>NaN</td>\n",
       "      <td>...</td>\n",
       "      <td>25.0</td>\n",
       "      <td>NaN</td>\n",
       "      <td>Санкт-Петербург</td>\n",
       "      <td>18863.0</td>\n",
       "      <td>16028.0</td>\n",
       "      <td>1.0</td>\n",
       "      <td>482.0</td>\n",
       "      <td>2.0</td>\n",
       "      <td>755.0</td>\n",
       "      <td>NaN</td>\n",
       "    </tr>\n",
       "    <tr>\n",
       "      <td>1</td>\n",
       "      <td>7</td>\n",
       "      <td>3350000.0</td>\n",
       "      <td>40.4</td>\n",
       "      <td>2018-12-04T00:00:00</td>\n",
       "      <td>1</td>\n",
       "      <td>NaN</td>\n",
       "      <td>11.0</td>\n",
       "      <td>18.6</td>\n",
       "      <td>1</td>\n",
       "      <td>NaN</td>\n",
       "      <td>...</td>\n",
       "      <td>11.0</td>\n",
       "      <td>2.0</td>\n",
       "      <td>посёлок Шушары</td>\n",
       "      <td>12817.0</td>\n",
       "      <td>18603.0</td>\n",
       "      <td>0.0</td>\n",
       "      <td>NaN</td>\n",
       "      <td>0.0</td>\n",
       "      <td>NaN</td>\n",
       "      <td>81.0</td>\n",
       "    </tr>\n",
       "    <tr>\n",
       "      <td>2</td>\n",
       "      <td>10</td>\n",
       "      <td>5196000.0</td>\n",
       "      <td>56.0</td>\n",
       "      <td>2015-08-20T00:00:00</td>\n",
       "      <td>2</td>\n",
       "      <td>NaN</td>\n",
       "      <td>5.0</td>\n",
       "      <td>34.3</td>\n",
       "      <td>4</td>\n",
       "      <td>NaN</td>\n",
       "      <td>...</td>\n",
       "      <td>8.3</td>\n",
       "      <td>0.0</td>\n",
       "      <td>Санкт-Петербург</td>\n",
       "      <td>21741.0</td>\n",
       "      <td>13933.0</td>\n",
       "      <td>1.0</td>\n",
       "      <td>90.0</td>\n",
       "      <td>2.0</td>\n",
       "      <td>574.0</td>\n",
       "      <td>558.0</td>\n",
       "    </tr>\n",
       "    <tr>\n",
       "      <td>3</td>\n",
       "      <td>0</td>\n",
       "      <td>64900000.0</td>\n",
       "      <td>159.0</td>\n",
       "      <td>2015-07-24T00:00:00</td>\n",
       "      <td>3</td>\n",
       "      <td>NaN</td>\n",
       "      <td>14.0</td>\n",
       "      <td>NaN</td>\n",
       "      <td>9</td>\n",
       "      <td>NaN</td>\n",
       "      <td>...</td>\n",
       "      <td>NaN</td>\n",
       "      <td>0.0</td>\n",
       "      <td>Санкт-Петербург</td>\n",
       "      <td>28098.0</td>\n",
       "      <td>6800.0</td>\n",
       "      <td>2.0</td>\n",
       "      <td>84.0</td>\n",
       "      <td>3.0</td>\n",
       "      <td>234.0</td>\n",
       "      <td>424.0</td>\n",
       "    </tr>\n",
       "    <tr>\n",
       "      <td>4</td>\n",
       "      <td>2</td>\n",
       "      <td>10000000.0</td>\n",
       "      <td>100.0</td>\n",
       "      <td>2018-06-19T00:00:00</td>\n",
       "      <td>2</td>\n",
       "      <td>3.03</td>\n",
       "      <td>14.0</td>\n",
       "      <td>32.0</td>\n",
       "      <td>13</td>\n",
       "      <td>NaN</td>\n",
       "      <td>...</td>\n",
       "      <td>41.0</td>\n",
       "      <td>NaN</td>\n",
       "      <td>Санкт-Петербург</td>\n",
       "      <td>31856.0</td>\n",
       "      <td>8098.0</td>\n",
       "      <td>2.0</td>\n",
       "      <td>112.0</td>\n",
       "      <td>1.0</td>\n",
       "      <td>48.0</td>\n",
       "      <td>121.0</td>\n",
       "    </tr>\n",
       "  </tbody>\n",
       "</table>\n",
       "<p>5 rows × 22 columns</p>\n",
       "</div>"
      ],
      "text/plain": [
       "   total_images  last_price  total_area first_day_exposition  rooms  \\\n",
       "0            20  13000000.0       108.0  2019-03-07T00:00:00      3   \n",
       "1             7   3350000.0        40.4  2018-12-04T00:00:00      1   \n",
       "2            10   5196000.0        56.0  2015-08-20T00:00:00      2   \n",
       "3             0  64900000.0       159.0  2015-07-24T00:00:00      3   \n",
       "4             2  10000000.0       100.0  2018-06-19T00:00:00      2   \n",
       "\n",
       "   ceiling_height  floors_total  living_area  floor is_apartment  ...  \\\n",
       "0            2.70          16.0         51.0      8          NaN  ...   \n",
       "1             NaN          11.0         18.6      1          NaN  ...   \n",
       "2             NaN           5.0         34.3      4          NaN  ...   \n",
       "3             NaN          14.0          NaN      9          NaN  ...   \n",
       "4            3.03          14.0         32.0     13          NaN  ...   \n",
       "\n",
       "   kitchen_area  balcony    locality_name  airports_nearest  \\\n",
       "0          25.0      NaN  Санкт-Петербург           18863.0   \n",
       "1          11.0      2.0   посёлок Шушары           12817.0   \n",
       "2           8.3      0.0  Санкт-Петербург           21741.0   \n",
       "3           NaN      0.0  Санкт-Петербург           28098.0   \n",
       "4          41.0      NaN  Санкт-Петербург           31856.0   \n",
       "\n",
       "  cityCenters_nearest  parks_around3000  parks_nearest  ponds_around3000  \\\n",
       "0             16028.0               1.0          482.0               2.0   \n",
       "1             18603.0               0.0            NaN               0.0   \n",
       "2             13933.0               1.0           90.0               2.0   \n",
       "3              6800.0               2.0           84.0               3.0   \n",
       "4              8098.0               2.0          112.0               1.0   \n",
       "\n",
       "   ponds_nearest  days_exposition  \n",
       "0          755.0              NaN  \n",
       "1            NaN             81.0  \n",
       "2          574.0            558.0  \n",
       "3          234.0            424.0  \n",
       "4           48.0            121.0  \n",
       "\n",
       "[5 rows x 22 columns]"
      ]
     },
     "metadata": {},
     "output_type": "display_data"
    },
    {
     "name": "stdout",
     "output_type": "stream",
     "text": [
      "<class 'pandas.core.frame.DataFrame'>\n",
      "RangeIndex: 23699 entries, 0 to 23698\n",
      "Data columns (total 22 columns):\n",
      "total_images            23699 non-null int64\n",
      "last_price              23699 non-null float64\n",
      "total_area              23699 non-null float64\n",
      "first_day_exposition    23699 non-null object\n",
      "rooms                   23699 non-null int64\n",
      "ceiling_height          14504 non-null float64\n",
      "floors_total            23613 non-null float64\n",
      "living_area             21796 non-null float64\n",
      "floor                   23699 non-null int64\n",
      "is_apartment            2775 non-null object\n",
      "studio                  23699 non-null bool\n",
      "open_plan               23699 non-null bool\n",
      "kitchen_area            21421 non-null float64\n",
      "balcony                 12180 non-null float64\n",
      "locality_name           23650 non-null object\n",
      "airports_nearest        18157 non-null float64\n",
      "cityCenters_nearest     18180 non-null float64\n",
      "parks_around3000        18181 non-null float64\n",
      "parks_nearest           8079 non-null float64\n",
      "ponds_around3000        18181 non-null float64\n",
      "ponds_nearest           9110 non-null float64\n",
      "days_exposition         20518 non-null float64\n",
      "dtypes: bool(2), float64(14), int64(3), object(3)\n",
      "memory usage: 3.7+ MB\n"
     ]
    }
   ],
   "source": [
    "import pandas as pd\n",
    "import matplotlib\n",
    "import matplotlib.pyplot as plt\n",
    "import statistics as stat\n",
    "import numpy as np\n",
    "import warnings\n",
    "\n",
    "data = pd.read_csv('/datasets/real_estate_data.csv', sep='\\t')\n",
    "\n",
    "display(data.head())\n",
    "data.info()"
   ]
  },
  {
   "cell_type": "markdown",
   "metadata": {},
   "source": [
    "### Вывод"
   ]
  },
  {
   "cell_type": "markdown",
   "metadata": {},
   "source": [
    "Датасет содержит 22 столбца с данными. Количество значений неодинаково, значит имеются пропуски. "
   ]
  },
  {
   "cell_type": "markdown",
   "metadata": {},
   "source": [
    "<div class=\"alert alert-success\">\n",
    "<b>✅ Комментарий ревьюера:</b> \n",
    "\n",
    "Первый взгляд на данные хороший. Могу рекомендовать создать универсальную функцию, которая будет принимать на вход датафрейм, а на выходе она будет выводить всего нужные характеристики, например, `head`, `describe`, `info`, дубликаты и т.п.\n",
    "</div>"
   ]
  },
  {
   "cell_type": "markdown",
   "metadata": {},
   "source": [
    "## Предобработка данных"
   ]
  },
  {
   "cell_type": "code",
   "execution_count": 18,
   "metadata": {},
   "outputs": [
    {
     "data": {
      "text/html": [
       "<div>\n",
       "<style scoped>\n",
       "    .dataframe tbody tr th:only-of-type {\n",
       "        vertical-align: middle;\n",
       "    }\n",
       "\n",
       "    .dataframe tbody tr th {\n",
       "        vertical-align: top;\n",
       "    }\n",
       "\n",
       "    .dataframe thead th {\n",
       "        text-align: right;\n",
       "    }\n",
       "</style>\n",
       "<table border=\"1\" class=\"dataframe\">\n",
       "  <thead>\n",
       "    <tr style=\"text-align: right;\">\n",
       "      <th></th>\n",
       "      <th>total_images</th>\n",
       "      <th>last_price</th>\n",
       "      <th>total_area</th>\n",
       "      <th>first_day_exposition</th>\n",
       "      <th>rooms</th>\n",
       "      <th>ceiling_height</th>\n",
       "      <th>floors_total</th>\n",
       "      <th>living_area</th>\n",
       "      <th>floor</th>\n",
       "      <th>is_apartment</th>\n",
       "      <th>...</th>\n",
       "      <th>kitchen_area</th>\n",
       "      <th>balcony</th>\n",
       "      <th>locality_name</th>\n",
       "      <th>airports_nearest</th>\n",
       "      <th>cityCenters_nearest</th>\n",
       "      <th>parks_around3000</th>\n",
       "      <th>parks_nearest</th>\n",
       "      <th>ponds_around3000</th>\n",
       "      <th>ponds_nearest</th>\n",
       "      <th>days_exposition</th>\n",
       "    </tr>\n",
       "  </thead>\n",
       "  <tbody>\n",
       "    <tr>\n",
       "      <td>0</td>\n",
       "      <td>20</td>\n",
       "      <td>13000000.0</td>\n",
       "      <td>108.0</td>\n",
       "      <td>2019-03-07T00:00:00</td>\n",
       "      <td>3</td>\n",
       "      <td>2.70</td>\n",
       "      <td>16</td>\n",
       "      <td>51.000000</td>\n",
       "      <td>8</td>\n",
       "      <td>False</td>\n",
       "      <td>...</td>\n",
       "      <td>25.0</td>\n",
       "      <td>0</td>\n",
       "      <td>санкт-петербург</td>\n",
       "      <td>18863.0</td>\n",
       "      <td>16028.0</td>\n",
       "      <td>1.0</td>\n",
       "      <td>482.0</td>\n",
       "      <td>2.0</td>\n",
       "      <td>755.0</td>\n",
       "      <td>1</td>\n",
       "    </tr>\n",
       "    <tr>\n",
       "      <td>1</td>\n",
       "      <td>7</td>\n",
       "      <td>3350000.0</td>\n",
       "      <td>40.4</td>\n",
       "      <td>2018-12-04T00:00:00</td>\n",
       "      <td>1</td>\n",
       "      <td>2.50</td>\n",
       "      <td>11</td>\n",
       "      <td>18.600000</td>\n",
       "      <td>1</td>\n",
       "      <td>False</td>\n",
       "      <td>...</td>\n",
       "      <td>11.0</td>\n",
       "      <td>2</td>\n",
       "      <td>шушары</td>\n",
       "      <td>12817.0</td>\n",
       "      <td>18603.0</td>\n",
       "      <td>0.0</td>\n",
       "      <td>NaN</td>\n",
       "      <td>0.0</td>\n",
       "      <td>NaN</td>\n",
       "      <td>81</td>\n",
       "    </tr>\n",
       "    <tr>\n",
       "      <td>2</td>\n",
       "      <td>10</td>\n",
       "      <td>5196000.0</td>\n",
       "      <td>56.0</td>\n",
       "      <td>2015-08-20T00:00:00</td>\n",
       "      <td>2</td>\n",
       "      <td>2.50</td>\n",
       "      <td>5</td>\n",
       "      <td>34.300000</td>\n",
       "      <td>4</td>\n",
       "      <td>False</td>\n",
       "      <td>...</td>\n",
       "      <td>8.3</td>\n",
       "      <td>0</td>\n",
       "      <td>санкт-петербург</td>\n",
       "      <td>21741.0</td>\n",
       "      <td>13933.0</td>\n",
       "      <td>1.0</td>\n",
       "      <td>90.0</td>\n",
       "      <td>2.0</td>\n",
       "      <td>574.0</td>\n",
       "      <td>558</td>\n",
       "    </tr>\n",
       "    <tr>\n",
       "      <td>3</td>\n",
       "      <td>0</td>\n",
       "      <td>64900000.0</td>\n",
       "      <td>159.0</td>\n",
       "      <td>2015-07-24T00:00:00</td>\n",
       "      <td>3</td>\n",
       "      <td>2.50</td>\n",
       "      <td>14</td>\n",
       "      <td>83.629164</td>\n",
       "      <td>9</td>\n",
       "      <td>False</td>\n",
       "      <td>...</td>\n",
       "      <td>225403.3</td>\n",
       "      <td>0</td>\n",
       "      <td>санкт-петербург</td>\n",
       "      <td>28098.0</td>\n",
       "      <td>6800.0</td>\n",
       "      <td>2.0</td>\n",
       "      <td>84.0</td>\n",
       "      <td>3.0</td>\n",
       "      <td>234.0</td>\n",
       "      <td>424</td>\n",
       "    </tr>\n",
       "    <tr>\n",
       "      <td>4</td>\n",
       "      <td>2</td>\n",
       "      <td>10000000.0</td>\n",
       "      <td>100.0</td>\n",
       "      <td>2018-06-19T00:00:00</td>\n",
       "      <td>2</td>\n",
       "      <td>3.03</td>\n",
       "      <td>14</td>\n",
       "      <td>32.000000</td>\n",
       "      <td>13</td>\n",
       "      <td>False</td>\n",
       "      <td>...</td>\n",
       "      <td>41.0</td>\n",
       "      <td>0</td>\n",
       "      <td>санкт-петербург</td>\n",
       "      <td>31856.0</td>\n",
       "      <td>8098.0</td>\n",
       "      <td>2.0</td>\n",
       "      <td>112.0</td>\n",
       "      <td>1.0</td>\n",
       "      <td>48.0</td>\n",
       "      <td>121</td>\n",
       "    </tr>\n",
       "  </tbody>\n",
       "</table>\n",
       "<p>5 rows × 22 columns</p>\n",
       "</div>"
      ],
      "text/plain": [
       "   total_images  last_price  total_area first_day_exposition  rooms  \\\n",
       "0            20  13000000.0       108.0  2019-03-07T00:00:00      3   \n",
       "1             7   3350000.0        40.4  2018-12-04T00:00:00      1   \n",
       "2            10   5196000.0        56.0  2015-08-20T00:00:00      2   \n",
       "3             0  64900000.0       159.0  2015-07-24T00:00:00      3   \n",
       "4             2  10000000.0       100.0  2018-06-19T00:00:00      2   \n",
       "\n",
       "   ceiling_height  floors_total  living_area  floor  is_apartment  ...  \\\n",
       "0            2.70            16    51.000000      8         False  ...   \n",
       "1            2.50            11    18.600000      1         False  ...   \n",
       "2            2.50             5    34.300000      4         False  ...   \n",
       "3            2.50            14    83.629164      9         False  ...   \n",
       "4            3.03            14    32.000000     13         False  ...   \n",
       "\n",
       "   kitchen_area  balcony    locality_name  airports_nearest  \\\n",
       "0          25.0        0  санкт-петербург           18863.0   \n",
       "1          11.0        2           шушары           12817.0   \n",
       "2           8.3        0  санкт-петербург           21741.0   \n",
       "3      225403.3        0  санкт-петербург           28098.0   \n",
       "4          41.0        0  санкт-петербург           31856.0   \n",
       "\n",
       "  cityCenters_nearest  parks_around3000  parks_nearest  ponds_around3000  \\\n",
       "0             16028.0               1.0          482.0               2.0   \n",
       "1             18603.0               0.0            NaN               0.0   \n",
       "2             13933.0               1.0           90.0               2.0   \n",
       "3              6800.0               2.0           84.0               3.0   \n",
       "4              8098.0               2.0          112.0               1.0   \n",
       "\n",
       "   ponds_nearest  days_exposition  \n",
       "0          755.0                1  \n",
       "1            NaN               81  \n",
       "2          574.0              558  \n",
       "3          234.0              424  \n",
       "4           48.0              121  \n",
       "\n",
       "[5 rows x 22 columns]"
      ]
     },
     "metadata": {},
     "output_type": "display_data"
    },
    {
     "name": "stdout",
     "output_type": "stream",
     "text": [
      "<class 'pandas.core.frame.DataFrame'>\n",
      "Int64Index: 23565 entries, 0 to 23698\n",
      "Data columns (total 22 columns):\n",
      "total_images            23565 non-null int64\n",
      "last_price              23565 non-null float64\n",
      "total_area              23565 non-null float64\n",
      "first_day_exposition    23565 non-null object\n",
      "rooms                   23565 non-null int64\n",
      "ceiling_height          23565 non-null float64\n",
      "floors_total            23565 non-null int64\n",
      "living_area             23565 non-null float64\n",
      "floor                   23565 non-null int64\n",
      "is_apartment            23565 non-null bool\n",
      "studio                  23565 non-null bool\n",
      "open_plan               23565 non-null bool\n",
      "kitchen_area            23565 non-null float64\n",
      "balcony                 23565 non-null int64\n",
      "locality_name           23565 non-null object\n",
      "airports_nearest        18041 non-null float64\n",
      "cityCenters_nearest     18064 non-null float64\n",
      "parks_around3000        18065 non-null float64\n",
      "parks_nearest           8030 non-null float64\n",
      "ponds_around3000        18065 non-null float64\n",
      "ponds_nearest           9036 non-null float64\n",
      "days_exposition         23565 non-null int64\n",
      "dtypes: bool(3), float64(11), int64(6), object(2)\n",
      "memory usage: 3.7+ MB\n"
     ]
    }
   ],
   "source": [
    "data.isna().sum() #знакомимся с масштабами пропусков. \n",
    "#Если пропусков меньше 100, то значения в такой большой выборке не повлияют значительно, и значит мы можем их удалить.\n",
    "data.dropna(subset=['floors_total'], inplace=True) #удаляем объекты без указания общего количества этажей, т.к это важная информация при выборе объекта и её отсутствие критично для выбора. \n",
    "data.dropna(subset=['locality_name'], inplace=True) #удаляем объекты без указания города, т.к. они могут не относится к изучаемому региону\n",
    "\n",
    "share_of_living_area = (data['living_area'].sum()) / data['total_area'].sum()\n",
    "data['living_area'] = data['living_area'].fillna(value=(data['total_area']*share_of_living_area))\n",
    "share_of_kitchen_area = (data['kitchen_area'].sum() / data['total_area'])\n",
    "data['kitchen_area'] = data['kitchen_area'].fillna(value=(data['total_area']*share_of_kitchen_area))\n",
    "\n",
    "data['ceiling_height'] = data['ceiling_height'].fillna(value=stat.mode(data['ceiling_height'])) #заменяем отсутстующие значения самым частовстречающимся.\n",
    "\n",
    "data['balcony'] = data['balcony'].fillna(0) #Даже если наша замена приведёт к дезинформации, то потом наличие балкона это будет приятный сюрприз, не вызывающий негатива.\n",
    "\n",
    "data['locality_name'] = data['locality_name'].str.lower() #приводим все наименоваания к единому регистру\n",
    "data['locality_name'].unique() #просматриваем значения с целью выявить то, что можно оптимизировать\n",
    "undue_locality_name = ['посёлок ', 'городской посёлок ', \"деревня \", \"поселок городского типа \", \"поселок \", \"садовое товарищество \", 'городской ', \"городского типа \", \"село \", 'коттеджный ']\n",
    "#составляем список слов, которые можно убрать, при этом оставляя важную информацию\n",
    "undue_locality_name = '|'.join(undue_locality_name)\n",
    "data['locality_name'] = data['locality_name'].str.replace(undue_locality_name, '')\n",
    "data['locality_name'].unique() #проверяем, что всё сработало\n",
    "\n",
    "#заполнять пробелы в категориях airports_nearest, cityCenters_nearest, parks_around3000, parks_nearest, ponds_around3000 и ponds_nearest считаю не целесообразным.\n",
    "#Расположение объектов в городской среде не поддаётся точным измерениям и сильно зависит от точного расположения объекта, от которого ведётся отсчёт.\n",
    "\n",
    "data[data['days_exposition']==0] #в столбце нет ни одного нулевого значения\n",
    "#Исходя из этого можно предположить, что система оставляет пропуски если объявление было снято менее чем через сутки после размещения.\n",
    "#Логично предположить, что в этом случае сделка проходит за 1 день.\n",
    "data['days_exposition'] = data['days_exposition'].fillna(1)\n",
    "\n",
    "data['is_apartment'] = data['is_apartment'].fillna(False)\n",
    "\n",
    "data['floors_total'] = data['floors_total'].astype('int64') #количество этажей целочисленное значение\n",
    "data['balcony'] = data['balcony'].astype('int64') #количество балконов целочисленное значение\n",
    "data['is_apartment'] = data['is_apartment'].astype('bool') #в описании указано, что это булев тип данных\n",
    "data['days_exposition'] = data['days_exposition'].astype('int64') #количество дней целочисленное значение\n",
    "\n",
    "display(data.head())\n",
    "data.info() #проверяем, что всё реализовано"
   ]
  },
  {
   "cell_type": "markdown",
   "metadata": {},
   "source": [
    "<div class=\"alert alert-success\">\n",
    "<b>✅ Комментарий ревьюера:</b> \n",
    "\n",
    "- `locality_name, floors_total`. Удаление записей с пропусками логично, их очень мало. Если их менее 1%, то можно ими пренебречь. В качестве аргумента старайся приводить долю пропусков.\n",
    "    \n",
    "- `ceiling_height`. Согласен, диапазон основного тела выборки этого параметра достаточно узок, это значит, что большинство значения будут плюс минус равны. В данном случае, отлично подходит заполнение медианой. Только не перекладывай значения вручную, подставь саму переменную, чтобы код был автоматизированным.\n",
    "    \n",
    "- `balcony`. Заполнение логично.\n",
    "    \n",
    "- Молодец, что работаешь с местностями с точки зрения текста. Работа над регистрами к месту. Так же могу посоветовать, что можно избежать циклов при `replace`. Для этого возьми массив `cities` и примени к нему вот такую штуку `'|'.join(cities)` и подставь его внутрь `replace` уже без массив, тогда все элементы которые перечислены через `|` в строке - а именно она у тебя получилась после `join` будут заменяться на нужные.\n",
    "    \n",
    "- Работа над типами корректна\n",
    "</div>"
   ]
  },
  {
   "cell_type": "markdown",
   "metadata": {},
   "source": [
    "<div class=\"alert alert-danger\">\n",
    "<b>❌ Комментарий ревьюера:</b> \n",
    "\n",
    "- `living_area` и `kitchen_area`. Эти параметры достаточно хорошо связаны с общей площадью, т.к. чаще всего в квартирах площадь кухни и жилая площадь имеют какую-то долю от общей. Эту долю можно посчитать на основе имеющихся данных, например, для разного кол-ва комнат. Попробуй поработать с заполнением этих параметров.\n",
    "    \n",
    "- `is_apartment` - с этим параметром так же вполне можно поработать, он похож на булев и заполнение вполне логично (если пропуск-значит вероятно не апартаменты)\n",
    "</div>"
   ]
  },
  {
   "cell_type": "markdown",
   "metadata": {},
   "source": [
    "<div class=\"alert alert-info\"> \n",
    "<b>Комментарий студента:</b> \n",
    "    \n",
    "- Не поняла как в рассчёт living_area и kitchen_area интегрировать знания о комнатах в квартире. Даже через groupby\n",
    "</div>"
   ]
  },
  {
   "cell_type": "markdown",
   "metadata": {},
   "source": [
    "<div class=\"alert alert-success\">\n",
    "<b>✅ Комментарий ревьюера V2:</b> \n",
    "\n",
    "Можно сгруппировать данные и применитьк группироке метод `transform` как вариант.\n",
    "</div>"
   ]
  },
  {
   "cell_type": "markdown",
   "metadata": {},
   "source": [
    "## Расчёты и добавление результатов в таблицу"
   ]
  },
  {
   "cell_type": "code",
   "execution_count": 19,
   "metadata": {},
   "outputs": [
    {
     "data": {
      "text/html": [
       "<div>\n",
       "<style scoped>\n",
       "    .dataframe tbody tr th:only-of-type {\n",
       "        vertical-align: middle;\n",
       "    }\n",
       "\n",
       "    .dataframe tbody tr th {\n",
       "        vertical-align: top;\n",
       "    }\n",
       "\n",
       "    .dataframe thead th {\n",
       "        text-align: right;\n",
       "    }\n",
       "</style>\n",
       "<table border=\"1\" class=\"dataframe\">\n",
       "  <thead>\n",
       "    <tr style=\"text-align: right;\">\n",
       "      <th></th>\n",
       "      <th>total_images</th>\n",
       "      <th>last_price</th>\n",
       "      <th>total_area</th>\n",
       "      <th>first_day_exposition</th>\n",
       "      <th>rooms</th>\n",
       "      <th>ceiling_height</th>\n",
       "      <th>floors_total</th>\n",
       "      <th>living_area</th>\n",
       "      <th>floor</th>\n",
       "      <th>is_apartment</th>\n",
       "      <th>...</th>\n",
       "      <th>ponds_around3000</th>\n",
       "      <th>ponds_nearest</th>\n",
       "      <th>days_exposition</th>\n",
       "      <th>metr_price</th>\n",
       "      <th>first_exposition_weekday</th>\n",
       "      <th>first_exposition_month</th>\n",
       "      <th>first_exposition_year</th>\n",
       "      <th>floor_category</th>\n",
       "      <th>ratio_living_total</th>\n",
       "      <th>ratio_kitchen_total</th>\n",
       "    </tr>\n",
       "  </thead>\n",
       "  <tbody>\n",
       "    <tr>\n",
       "      <td>0</td>\n",
       "      <td>20</td>\n",
       "      <td>13000000.0</td>\n",
       "      <td>108.0</td>\n",
       "      <td>2019-03-07</td>\n",
       "      <td>3</td>\n",
       "      <td>2.70</td>\n",
       "      <td>16</td>\n",
       "      <td>51.000000</td>\n",
       "      <td>8</td>\n",
       "      <td>False</td>\n",
       "      <td>...</td>\n",
       "      <td>2.0</td>\n",
       "      <td>755.0</td>\n",
       "      <td>1</td>\n",
       "      <td>120370.37</td>\n",
       "      <td>3</td>\n",
       "      <td>3</td>\n",
       "      <td>2019</td>\n",
       "      <td>другое</td>\n",
       "      <td>0.47</td>\n",
       "      <td>0.23</td>\n",
       "    </tr>\n",
       "    <tr>\n",
       "      <td>1</td>\n",
       "      <td>7</td>\n",
       "      <td>3350000.0</td>\n",
       "      <td>40.4</td>\n",
       "      <td>2018-12-04</td>\n",
       "      <td>1</td>\n",
       "      <td>2.50</td>\n",
       "      <td>11</td>\n",
       "      <td>18.600000</td>\n",
       "      <td>1</td>\n",
       "      <td>False</td>\n",
       "      <td>...</td>\n",
       "      <td>0.0</td>\n",
       "      <td>NaN</td>\n",
       "      <td>81</td>\n",
       "      <td>82920.79</td>\n",
       "      <td>1</td>\n",
       "      <td>12</td>\n",
       "      <td>2018</td>\n",
       "      <td>первый</td>\n",
       "      <td>0.46</td>\n",
       "      <td>0.27</td>\n",
       "    </tr>\n",
       "    <tr>\n",
       "      <td>2</td>\n",
       "      <td>10</td>\n",
       "      <td>5196000.0</td>\n",
       "      <td>56.0</td>\n",
       "      <td>2015-08-20</td>\n",
       "      <td>2</td>\n",
       "      <td>2.50</td>\n",
       "      <td>5</td>\n",
       "      <td>34.300000</td>\n",
       "      <td>4</td>\n",
       "      <td>False</td>\n",
       "      <td>...</td>\n",
       "      <td>2.0</td>\n",
       "      <td>574.0</td>\n",
       "      <td>558</td>\n",
       "      <td>92785.71</td>\n",
       "      <td>3</td>\n",
       "      <td>8</td>\n",
       "      <td>2015</td>\n",
       "      <td>другое</td>\n",
       "      <td>0.61</td>\n",
       "      <td>0.15</td>\n",
       "    </tr>\n",
       "    <tr>\n",
       "      <td>3</td>\n",
       "      <td>0</td>\n",
       "      <td>64900000.0</td>\n",
       "      <td>159.0</td>\n",
       "      <td>2015-07-24</td>\n",
       "      <td>3</td>\n",
       "      <td>2.50</td>\n",
       "      <td>14</td>\n",
       "      <td>83.629164</td>\n",
       "      <td>9</td>\n",
       "      <td>False</td>\n",
       "      <td>...</td>\n",
       "      <td>3.0</td>\n",
       "      <td>234.0</td>\n",
       "      <td>424</td>\n",
       "      <td>408176.10</td>\n",
       "      <td>4</td>\n",
       "      <td>7</td>\n",
       "      <td>2015</td>\n",
       "      <td>другое</td>\n",
       "      <td>0.53</td>\n",
       "      <td>1417.63</td>\n",
       "    </tr>\n",
       "    <tr>\n",
       "      <td>4</td>\n",
       "      <td>2</td>\n",
       "      <td>10000000.0</td>\n",
       "      <td>100.0</td>\n",
       "      <td>2018-06-19</td>\n",
       "      <td>2</td>\n",
       "      <td>3.03</td>\n",
       "      <td>14</td>\n",
       "      <td>32.000000</td>\n",
       "      <td>13</td>\n",
       "      <td>False</td>\n",
       "      <td>...</td>\n",
       "      <td>1.0</td>\n",
       "      <td>48.0</td>\n",
       "      <td>121</td>\n",
       "      <td>100000.00</td>\n",
       "      <td>1</td>\n",
       "      <td>6</td>\n",
       "      <td>2018</td>\n",
       "      <td>другое</td>\n",
       "      <td>0.32</td>\n",
       "      <td>0.41</td>\n",
       "    </tr>\n",
       "  </tbody>\n",
       "</table>\n",
       "<p>5 rows × 29 columns</p>\n",
       "</div>"
      ],
      "text/plain": [
       "   total_images  last_price  total_area first_day_exposition  rooms  \\\n",
       "0            20  13000000.0       108.0           2019-03-07      3   \n",
       "1             7   3350000.0        40.4           2018-12-04      1   \n",
       "2            10   5196000.0        56.0           2015-08-20      2   \n",
       "3             0  64900000.0       159.0           2015-07-24      3   \n",
       "4             2  10000000.0       100.0           2018-06-19      2   \n",
       "\n",
       "   ceiling_height  floors_total  living_area  floor  is_apartment  ...  \\\n",
       "0            2.70            16    51.000000      8         False  ...   \n",
       "1            2.50            11    18.600000      1         False  ...   \n",
       "2            2.50             5    34.300000      4         False  ...   \n",
       "3            2.50            14    83.629164      9         False  ...   \n",
       "4            3.03            14    32.000000     13         False  ...   \n",
       "\n",
       "   ponds_around3000  ponds_nearest  days_exposition  metr_price  \\\n",
       "0               2.0          755.0                1   120370.37   \n",
       "1               0.0            NaN               81    82920.79   \n",
       "2               2.0          574.0              558    92785.71   \n",
       "3               3.0          234.0              424   408176.10   \n",
       "4               1.0           48.0              121   100000.00   \n",
       "\n",
       "  first_exposition_weekday  first_exposition_month  first_exposition_year  \\\n",
       "0                        3                       3                   2019   \n",
       "1                        1                      12                   2018   \n",
       "2                        3                       8                   2015   \n",
       "3                        4                       7                   2015   \n",
       "4                        1                       6                   2018   \n",
       "\n",
       "   floor_category  ratio_living_total  ratio_kitchen_total  \n",
       "0          другое                0.47                 0.23  \n",
       "1          первый                0.46                 0.27  \n",
       "2          другое                0.61                 0.15  \n",
       "3          другое                0.53              1417.63  \n",
       "4          другое                0.32                 0.41  \n",
       "\n",
       "[5 rows x 29 columns]"
      ]
     },
     "execution_count": 19,
     "metadata": {},
     "output_type": "execute_result"
    }
   ],
   "source": [
    "data['metr_price'] = data['last_price'] / data['total_area'] #рассчитываем цену квадратного метра\n",
    "data['metr_price'] = round(data['metr_price'], 2)\n",
    "\n",
    "data['first_day_exposition'] = pd.to_datetime(data['first_day_exposition'], format='%Y-%m-%dT%H:%M:%S')\n",
    "#добавляем день недели, месяц и год публикации объявления\n",
    "data['first_exposition_weekday'] = data['first_day_exposition'].dt.weekday\n",
    "data['first_exposition_month'] = data['first_day_exposition'].dt.month\n",
    "data['first_exposition_year'] = data['first_day_exposition'].dt.year\n",
    "\n",
    "#функция для категоризации этажей\n",
    "def floor_category(row):\n",
    "    if row['floor'] == 1:\n",
    "        return 'первый'\n",
    "    if row['floor'] == row['floors_total']:\n",
    "        return 'последний'\n",
    "    return 'другое'\n",
    "\n",
    "data['floor_category'] = data.apply(floor_category, axis=1)\n",
    "\n",
    "#соотношение жилой и общей площади, а также отношение площади кухни к общей.\n",
    "data['ratio_living_total'] = data['living_area'] / data['total_area']\n",
    "data['ratio_living_total'] = round(data['ratio_living_total'], 2)\n",
    "\n",
    "data['ratio_kitchen_total'] = data['kitchen_area'] / data['total_area']\n",
    "data['ratio_kitchen_total'] = round(data['ratio_kitchen_total'], 2)\n",
    "\n",
    "data.head() #проверяем, что все столбцы отображаются"
   ]
  },
  {
   "cell_type": "markdown",
   "metadata": {},
   "source": [
    "<div class=\"alert alert-success\">\n",
    "<b>✅ Комментарий ревьюера :</b> \n",
    "\n",
    "Согласен\n",
    "- Расчеты корректны\n",
    "- Добавление корректно\n",
    "- Категоризация так же верна\n",
    "</div>"
   ]
  },
  {
   "cell_type": "markdown",
   "metadata": {},
   "source": [
    "## Исследовательский анализ данных"
   ]
  },
  {
   "cell_type": "code",
   "execution_count": 20,
   "metadata": {
    "scrolled": true
   },
   "outputs": [
    {
     "data": {
      "image/png": "[encoded data removed]",
      "text/plain": [
       "<Figure size 432x288 with 1 Axes>"
      ]
     },
     "metadata": {
      "needs_background": "light"
     },
     "output_type": "display_data"
    }
   ],
   "source": [
    "data['total_area'].plot(kind='hist',\n",
    "    range=(0, 375),\n",
    "    bins=50, \n",
    "    grid=True,\n",
    ")\n",
    "\n",
    "plt.title('Распредение объектов в зависимости от общей площади')\n",
    "plt.xlabel('total_area, кв.м ')\n",
    "plt.ylabel('количество объектов, шт')\n",
    "plt.show()"
   ]
  },
  {
   "cell_type": "markdown",
   "metadata": {},
   "source": [
    "<div class=\"alert alert-warning\">\n",
    "<b>⚠️ Комментарий ревьюера:</b> \n",
    "\n",
    "Добавь на все свои графики:\n",
    "- подписи осей\n",
    "- заголовки\n",
    "- легенду, где требуется\n",
    "- единицы измерения\n",
    "</div>"
   ]
  },
  {
   "cell_type": "markdown",
   "metadata": {},
   "source": [
    "Из гистограммы общей площади объектов недвижимости видно, что больше всего объектов на рынке имеют площади от 40 до 50 квадратных метров. Площадь самого крупного объекта находится в районе 350 квадратных метров. Распределение нормальное со смещением влево."
   ]
  },
  {
   "cell_type": "code",
   "execution_count": 21,
   "metadata": {
    "scrolled": false
   },
   "outputs": [
    {
     "name": "stdout",
     "output_type": "stream",
     "text": [
      "12190.0\n",
      "763000000.0\n"
     ]
    },
    {
     "data": {
      "image/png": "[encoded data removed]",
      "text/plain": [
       "<Figure size 720x720 with 1 Axes>"
      ]
     },
     "metadata": {
      "needs_background": "light"
     },
     "output_type": "display_data"
    }
   ],
   "source": [
    "print(data['last_price'].min())\n",
    "print(data['last_price'].max())\n",
    "data['last_price'].plot(kind='hist',\n",
    "    range=(12000, 765000000),\n",
    "    bins=500, \n",
    "    grid=True,\n",
    "    figsize=(10,10))\n",
    "\n",
    "plt.title('Распредение объектов в зависимости от итоговой цены объекта')\n",
    "plt.xlabel('last_price, руб.')\n",
    "plt.ylabel('количество объектов, шт.')\n",
    "plt.show()"
   ]
  },
  {
   "cell_type": "markdown",
   "metadata": {},
   "source": [
    "<div class=\"alert alert-warning\">\n",
    "<b>⚠️ Комментарий ревьюера:</b> \n",
    "\n",
    "Огромный график получился, поработай над масштабом, чтобы не приходилось скролить вверх вниз, маленького масштаба будет вполне достаточно\n",
    "</div>"
   ]
  },
  {
   "cell_type": "markdown",
   "metadata": {},
   "source": [
    "<div class=\"alert alert-info\"> <b>Комментарий студента:</b> А как-то ещё можно работать нам масштабом графиков кроме регулирования range?\n",
    "</div>"
   ]
  },
  {
   "cell_type": "markdown",
   "metadata": {},
   "source": [
    "<div class=\"alert alert-success\">\n",
    "<b>✅ Комментарий ревьюера V2:</b> \n",
    "\n",
    "Конечно, figsize можно настраивать и не только</div>"
   ]
  },
  {
   "cell_type": "markdown",
   "metadata": {},
   "source": [
    "Разброс между максимальным и минимальным значение стоимости объектов на рынке очень велик. Распределение нормальное со смещением влево. "
   ]
  },
  {
   "cell_type": "code",
   "execution_count": 22,
   "metadata": {
    "scrolled": true
   },
   "outputs": [
    {
     "data": {
      "image/png": "[encoded data removed]",
      "text/plain": [
       "<Figure size 432x288 with 1 Axes>"
      ]
     },
     "metadata": {
      "needs_background": "light"
     },
     "output_type": "display_data"
    }
   ],
   "source": [
    "data['rooms'].plot(kind='hist',\n",
    "    range=(0,9),\n",
    "    bins=50, \n",
    "    grid=True\n",
    ")\n",
    "\n",
    "plt.title('Распредение объектов в зависимости от количества комнат')\n",
    "plt.xlabel('количество комнат')\n",
    "plt.ylabel('количество объектов')\n",
    "plt.show()"
   ]
  },
  {
   "cell_type": "markdown",
   "metadata": {},
   "source": [
    "На рыке представлено больше всего однокомнатных квартир, чуть меньше двухкомнатных. Максимальнок количество комнат среди объктов базы данных - 8. Предположим, что 0 комнат - это студии."
   ]
  },
  {
   "cell_type": "code",
   "execution_count": 23,
   "metadata": {
    "scrolled": true
   },
   "outputs": [
    {
     "data": {
      "image/png": "[encoded data removed]",
      "text/plain": [
       "<Figure size 432x288 with 1 Axes>"
      ]
     },
     "metadata": {
      "needs_background": "light"
     },
     "output_type": "display_data"
    }
   ],
   "source": [
    "data['ceiling_height'].plot(kind='hist',\n",
    "    bins=25, \n",
    "    range=(1, 5),\n",
    "    grid=True\n",
    ")\n",
    "plt.title('Распредение объектов в зависимости от высоты потолков')\n",
    "plt.xlabel('высота потолков, м')\n",
    "plt.ylabel('количество объектов')\n",
    "plt.show()"
   ]
  },
  {
   "cell_type": "markdown",
   "metadata": {},
   "source": [
    "На показания гистограммы о высоте потолков могло повлиять то, что пропущенные значения мы заполняли значение моды - 2.4 метра."
   ]
  },
  {
   "cell_type": "markdown",
   "metadata": {},
   "source": [
    "<div class=\"alert alert-success\">\n",
    "<b>✅ Комментарий ревьюера:</b> \n",
    "\n",
    "- С оценкой параметров согласен\n",
    "- Основные диапазоны выделены корректно\n",
    "- Гистограммы прочитаны верно\n",
    "</div>"
   ]
  },
  {
   "cell_type": "code",
   "execution_count": 24,
   "metadata": {},
   "outputs": [
    {
     "data": {
      "text/plain": [
       "count    23565.000000\n",
       "mean       156.554679\n",
       "std        213.418959\n",
       "min          1.000000\n",
       "25%         22.000000\n",
       "50%         73.000000\n",
       "75%        198.000000\n",
       "max       1580.000000\n",
       "Name: days_exposition, dtype: float64"
      ]
     },
     "metadata": {},
     "output_type": "display_data"
    },
    {
     "data": {
      "image/png": "[encoded data removed]",
      "text/plain": [
       "<Figure size 432x288 with 1 Axes>"
      ]
     },
     "metadata": {
      "needs_background": "light"
     },
     "output_type": "display_data"
    }
   ],
   "source": [
    "display(data['days_exposition'].describe())\n",
    "\n",
    "data['days_exposition'].plot(kind='hist',\n",
    "    bins=400,\n",
    "    grid=True\n",
    ")\n",
    "\n",
    "plt.title('Распредение объектов в зависимости от продолжительности публикации')\n",
    "plt.xlabel('количество дней')\n",
    "plt.ylabel('количество объектов')\n",
    "plt.show()"
   ]
  },
  {
   "cell_type": "markdown",
   "metadata": {},
   "source": [
    "В среднем продажа недвижимости на рынке Санкт-Петербурга и Ленинградской области занимает 157 дней с момента публикации объявления. Будем считать, что если квартира продаётся менее чем за 73 дня, то это быстрая продажа. Больше 73 дней - длинная продажа объекта."
   ]
  },
  {
   "cell_type": "markdown",
   "metadata": {},
   "source": [
    "<div class=\"alert alert-success\">\n",
    "<b>✅ Комментарий ревьюера :</b> \n",
    "\n",
    "Согласен, так же рекомендую взглянуть на диапазон от 0 до 150, там есть пики, как их можешь объяснить?\n",
    "</div>"
   ]
  },
  {
   "cell_type": "markdown",
   "metadata": {},
   "source": [
    "<div class=\"alert alert-info\"> <b>Комментарий студента:</b> Я бы предположила значительные пики в диапазоне от 0 до 150 связаны с тем, что у системы есть возможность снятия объявления об объекте с публикации при определённых условиях. Например: снятие с публикации через 30 дней если продавец не подтвердил свои контактные данные (email, телефон). Возможно пики характеризуют продолжительность всей сделки по оформлениею документов и переходу права собственности при условии, что продавцы показали покупателю квартиру в первый же день публикации и у них были все документы на руках.\n",
    "</div>"
   ]
  },
  {
   "cell_type": "markdown",
   "metadata": {},
   "source": [
    "<div class=\"alert alert-success\">\n",
    "<b>✅ Комментарий ревьюера V2:</b> \n",
    "\n",
    "С рассуждениями согласен</div>"
   ]
  },
  {
   "cell_type": "code",
   "execution_count": 25,
   "metadata": {},
   "outputs": [
    {
     "name": "stdout",
     "output_type": "stream",
     "text": [
      "<class 'pandas.core.frame.DataFrame'>\n",
      "Int64Index: 22259 entries, 0 to 23698\n",
      "Data columns (total 29 columns):\n",
      "total_images                22259 non-null int64\n",
      "last_price                  22259 non-null float64\n",
      "total_area                  22259 non-null float64\n",
      "first_day_exposition        22259 non-null datetime64[ns]\n",
      "rooms                       22259 non-null int64\n",
      "ceiling_height              22259 non-null float64\n",
      "floors_total                22259 non-null int64\n",
      "living_area                 22259 non-null float64\n",
      "floor                       22259 non-null int64\n",
      "is_apartment                22259 non-null bool\n",
      "studio                      22259 non-null bool\n",
      "open_plan                   22259 non-null bool\n",
      "kitchen_area                22259 non-null float64\n",
      "balcony                     22259 non-null int64\n",
      "locality_name               22259 non-null object\n",
      "airports_nearest            16949 non-null float64\n",
      "cityCenters_nearest         16969 non-null float64\n",
      "parks_around3000            16970 non-null float64\n",
      "parks_nearest               7372 non-null float64\n",
      "ponds_around3000            16970 non-null float64\n",
      "ponds_nearest               8320 non-null float64\n",
      "days_exposition             22259 non-null int64\n",
      "metr_price                  22259 non-null float64\n",
      "first_exposition_weekday    22259 non-null int64\n",
      "first_exposition_month      22259 non-null int64\n",
      "first_exposition_year       22259 non-null int64\n",
      "floor_category              22259 non-null object\n",
      "ratio_living_total          22259 non-null float64\n",
      "ratio_kitchen_total         22259 non-null float64\n",
      "dtypes: bool(3), datetime64[ns](1), float64(14), int64(9), object(2)\n",
      "memory usage: 4.6+ MB\n"
     ]
    }
   ],
   "source": [
    "data[data['total_area'] > 300]['total_area'].count() #0,25 % от общего числа объектов имеет площадь более 300 квадратных метров, что является аномально большим\n",
    "data = data.query('total_area < 300')\n",
    "\n",
    "data[data['last_price'] > 30000000]['last_price'].count() #1,34 % от общего числа объектов имеют очень высокую цену более 30 миллионов рублей\n",
    "data = data.query('last_price < 30000000')\n",
    "\n",
    "data[data['rooms'] > 6]['rooms'].count() #0,38 % от общего числа объектов больше 6 комнат, это аномальные значения\n",
    "data = data.query('rooms < 6')\n",
    "\n",
    "data[data['ceiling_height'] < 2.4]['ceiling_height'].count() #0,1 % от общего числа объектов имеет высоту потолков меньше медианной\n",
    "data = data.query('ceiling_height > 2.4')\n",
    "\n",
    "data[data['ceiling_height'] > 4]['ceiling_height'].count() #0,32 % от общего числа объектов имеют высоту потолка более 4 метров\n",
    "data = data.query('ceiling_height < 4')\n",
    "\n",
    "data[data['days_exposition'] > 730]['days_exposition'].count() #3,2 % от общего числа объектов продаются более двух лет. Логично предположить, что с информацией в объявлении что-то не так, либо агенство дулируют объекты когда берутся за сделку.\n",
    "data = data.query('days_exposition < 730')\n",
    "\n",
    "data.info()"
   ]
  },
  {
   "cell_type": "markdown",
   "metadata": {},
   "source": [
    "Убрав редкие и выбивающиеся значения мы сократили массив данных до 22 259 строк."
   ]
  },
  {
   "cell_type": "markdown",
   "metadata": {},
   "source": [
    "<div class=\"alert alert-success\">\n",
    "<b>✅ Комментарий ревьюера :</b> \n",
    "\n",
    "- Супер, с оценкой выбивающихся значений по всем параметрам согласен\n",
    "- Рассуждения подробные и чательные\n",
    "\n",
    "Только старайся выводить еще долю удаленных и оставшихся данных после фильтрации (именно долю, а не кол-во, доля более информативна)\n",
    "</div>"
   ]
  },
  {
   "cell_type": "code",
   "execution_count": 26,
   "metadata": {},
   "outputs": [
    {
     "data": {
      "image/png": "[encoded data removed]",
      "text/plain": [
       "<Figure size 720x720 with 9 Axes>"
      ]
     },
     "metadata": {
      "needs_background": "light"
     },
     "output_type": "display_data"
    }
   ],
   "source": [
    "columns_for_visualization = ['last_price', 'total_area', 'rooms']\n",
    "data_for_visualization = data[columns_for_visualization]\n",
    "\n",
    "pd.plotting.scatter_matrix(data_for_visualization, figsize=(10, 10))\n",
    "plt.title('Матрица зависимости')\n",
    "plt.show()"
   ]
  },
  {
   "cell_type": "markdown",
   "metadata": {},
   "source": [
    "<div class=\"alert alert-success\">\n",
    "<b>✅ Комментарий ревьюера :</b> \n",
    "\n",
    "Хороший график, сокращает кол-во действий, можно сразу посмотреть разные зав-ти. Рекомендую так же прописать `plt.show()` в конце блока, где выводишь график, чтобы убрать лишнюю символику.\n",
    "\n",
    "</div>"
   ]
  },
  {
   "cell_type": "markdown",
   "metadata": {},
   "source": [
    "Из гистограммы по данным о цене объектов видно, что большинство объектов стоимостью более 10 миллионов рублей. \n",
    "\n",
    "Связь цены и общей площади: есть тенденция к прямой связи - чем боле площадь, тем больше цена, но втречается большое количество\n",
    "нетипичных значений и с увеличением цены связь становится менее характерной. Возможно это связано с самим количество объектов:\n",
    "в базе меньше объектов крупной площади и с высокой ценой. \n",
    "\n",
    "Связь цены и количества комнат: нет чёткой зависимости. Например, если рассматривать ценовой диапазон от 5 до 10 миллионов\n",
    "рублей, то в нём встречается достатовно большое количество объектов и с 1, и с 2, и с 3, и с 4 комнатами. \n",
    "Можно проследить небольшую зависисмость при цене объекта более 10 миллионов рублей: чем больше комнат, тем больше цена.\n",
    "Но при количестве в 5 комнат данная тенденция теряется. (возможно потому что 5 и более комнат - \n",
    "это скорре исключение на рынке недвижимости)."
   ]
  },
  {
   "cell_type": "markdown",
   "metadata": {},
   "source": [
    "<div class=\"alert alert-success\">\n",
    "<b>✅ Комментарий ревьюера :</b> \n",
    "\n",
    "- Молодец, кф корреляции посчитаны верно\n",
    "- Визуализация наглядная и понятная\n",
    "- Выводы на основе графиков и кф корректные, зависимости найдены верно\n",
    "</div>"
   ]
  },
  {
   "cell_type": "code",
   "execution_count": 27,
   "metadata": {
    "scrolled": false
   },
   "outputs": [
    {
     "data": {
      "image/png": "[encoded data removed]",
      "text/plain": [
       "<Figure size 720x720 with 16 Axes>"
      ]
     },
     "metadata": {
      "needs_background": "light"
     },
     "output_type": "display_data"
    }
   ],
   "source": [
    "datetime_visualization = ['last_price','first_exposition_weekday', 'first_exposition_month', 'first_exposition_year']\n",
    "data_datetime_visualization = data[datetime_visualization]\n",
    "\n",
    "pd.plotting.scatter_matrix(data_datetime_visualization , figsize=(10, 10))\n",
    "plt.title('Матрица зависимости')\n",
    "plt.show()"
   ]
  },
  {
   "cell_type": "markdown",
   "metadata": {},
   "source": [
    "Зависимость цены от дня недели: если рассматривать будни, то не наблюдается существенных различий. Больше всего объявлений публикуют по четвергам. В субботу и воскресение публикуют меньше дорогостоящих объектов, чем в рабочие дни недели.\n",
    "\n",
    "Зависимость цены от месяца публикации: значительных различий цен объектов между месяцами нет.\n",
    "\n",
    "Зависимость цены от года публикации: в 2014 году объявлений было значительно меньше, чем в другие месяцы, но были как недорогие, так и состоимостью выше среднего. В 2015 году не было сверхдорогих объектов. В 2019 году вновь объявлений о дорогостоящих объектах стало меньше. Можно сказать, что нет зависииости цены от года публикации. "
   ]
  },
  {
   "cell_type": "markdown",
   "metadata": {},
   "source": [
    "<div class=\"alert alert-success\">\n",
    "<b>✅ Комментарий ревьюера :</b> \n",
    "\n",
    "Супер, зависимость от времени описана корректно. Так же как думаешь зависимость от дня, месяца, года можно считать существенной?\n",
    "</div>"
   ]
  },
  {
   "cell_type": "markdown",
   "metadata": {},
   "source": [
    "<div class=\"alert alert-info\"> <b>Комментарий студента:</b> Нет, зависимость несущественная.\n",
    "</div>"
   ]
  },
  {
   "cell_type": "markdown",
   "metadata": {},
   "source": [
    "<div class=\"alert alert-success\">\n",
    "<b>✅ Комментарий ревьюера V2:</b> \n",
    "\n",
    "да</div>"
   ]
  },
  {
   "cell_type": "code",
   "execution_count": 28,
   "metadata": {},
   "outputs": [
    {
     "data": {
      "image/png": "[encoded data removed]",
      "text/plain": [
       "<Figure size 432x288 with 1 Axes>"
      ]
     },
     "metadata": {
      "needs_background": "light"
     },
     "output_type": "display_data"
    }
   ],
   "source": [
    "data.groupby('floor_category')['last_price'].median().plot(kind='bar', grid=True)\n",
    "plt.title('Зависимость цены от расположения объекта на этаже')\n",
    "plt.ylabel('медиана мтоговой цены объекта')\n",
    "plt.show()"
   ]
  },
  {
   "cell_type": "markdown",
   "metadata": {},
   "source": [
    "Если учитывать медиану цены объектов по категорям этажей, то самые недорогие квартиры располагаются на первом и последнем этажах."
   ]
  },
  {
   "cell_type": "code",
   "execution_count": 29,
   "metadata": {},
   "outputs": [
    {
     "data": {
      "text/html": [
       "<div>\n",
       "<style scoped>\n",
       "    .dataframe tbody tr th:only-of-type {\n",
       "        vertical-align: middle;\n",
       "    }\n",
       "\n",
       "    .dataframe tbody tr th {\n",
       "        vertical-align: top;\n",
       "    }\n",
       "\n",
       "    .dataframe thead th {\n",
       "        text-align: right;\n",
       "    }\n",
       "</style>\n",
       "<table border=\"1\" class=\"dataframe\">\n",
       "  <thead>\n",
       "    <tr style=\"text-align: right;\">\n",
       "      <th></th>\n",
       "      <th>metr_price</th>\n",
       "    </tr>\n",
       "    <tr>\n",
       "      <th>locality_name</th>\n",
       "      <th></th>\n",
       "    </tr>\n",
       "  </thead>\n",
       "  <tbody>\n",
       "    <tr>\n",
       "      <td>выборг</td>\n",
       "      <td>58360.543911</td>\n",
       "    </tr>\n",
       "    <tr>\n",
       "      <td>всеволожск</td>\n",
       "      <td>68735.518512</td>\n",
       "    </tr>\n",
       "    <tr>\n",
       "      <td>гатчина</td>\n",
       "      <td>68923.447491</td>\n",
       "    </tr>\n",
       "    <tr>\n",
       "      <td>колпино</td>\n",
       "      <td>75282.176545</td>\n",
       "    </tr>\n",
       "    <tr>\n",
       "      <td>шушары</td>\n",
       "      <td>78522.230117</td>\n",
       "    </tr>\n",
       "    <tr>\n",
       "      <td>мурино</td>\n",
       "      <td>86111.069435</td>\n",
       "    </tr>\n",
       "    <tr>\n",
       "      <td>парголово</td>\n",
       "      <td>90179.108025</td>\n",
       "    </tr>\n",
       "    <tr>\n",
       "      <td>кудрово</td>\n",
       "      <td>95464.160958</td>\n",
       "    </tr>\n",
       "    <tr>\n",
       "      <td>пушкин</td>\n",
       "      <td>102847.831792</td>\n",
       "    </tr>\n",
       "    <tr>\n",
       "      <td>санкт-петербург</td>\n",
       "      <td>110394.834940</td>\n",
       "    </tr>\n",
       "  </tbody>\n",
       "</table>\n",
       "</div>"
      ],
      "text/plain": [
       "                    metr_price\n",
       "locality_name                 \n",
       "выборг            58360.543911\n",
       "всеволожск        68735.518512\n",
       "гатчина           68923.447491\n",
       "колпино           75282.176545\n",
       "шушары            78522.230117\n",
       "мурино            86111.069435\n",
       "парголово         90179.108025\n",
       "кудрово           95464.160958\n",
       "пушкин           102847.831792\n",
       "санкт-петербург  110394.834940"
      ]
     },
     "execution_count": 29,
     "metadata": {},
     "output_type": "execute_result"
    }
   ],
   "source": [
    "top_locality = data['locality_name'].value_counts().sort_values(ascending = False).head(10).index.values\n",
    "data_for_locality_analitics = data[data['locality_name'].isin(top_locality)]\n",
    "\n",
    "data_for_locality_analitics.pivot_table(index='locality_name', values='metr_price').sort_values(by='metr_price') #рассчитываем среднюю стоимость квадратного метра"
   ]
  },
  {
   "cell_type": "markdown",
   "metadata": {},
   "source": [
    "<div class=\"alert alert-success\">\n",
    "<b>✅ Комментарий ревьюера :</b> \n",
    "\n",
    "- Группировка корректная\n",
    "- Топ выделен верно\n",
    "</div>"
   ]
  },
  {
   "cell_type": "markdown",
   "metadata": {},
   "source": [
    "Самая большая стоимость квадратного метра ожидаемо в Санкт-Петербурге. Самый недорогой квадратный метр из самых многочисленно представленных в базе населённых пунктов находится в г. Выборг."
   ]
  },
  {
   "cell_type": "code",
   "execution_count": 32,
   "metadata": {},
   "outputs": [
    {
     "data": {
      "image/png": "[encoded data removed]",
      "text/plain": [
       "<Figure size 432x288 with 1 Axes>"
      ]
     },
     "metadata": {
      "needs_background": "light"
     },
     "output_type": "display_data"
    }
   ],
   "source": [
    "spb_data = data[data['locality_name'] == \"санкт-петербург\"]\n",
    "#SPB_data.info() #Для анализа столбца cityCenters_nearest удалим пропуски, т.к. их меньше процента\n",
    "spb_data.dropna(subset=['cityCenters_nearest'], inplace=True)\n",
    "#spb_data.info() #проверяем, что значения удалились\n",
    "\n",
    "spb_data['cityCenters_nearest_km'] = (spb_data['cityCenters_nearest']/1000).round()\n",
    "\n",
    "(spb_data\n",
    "     .pivot_table(index='cityCenters_nearest_km', values='last_price')\n",
    "     .plot()\n",
    ")\n",
    "\n",
    "plt.show()\n",
    "\n",
    "warnings.filterwarnings(\"ignore\")"
   ]
  },
  {
   "cell_type": "markdown",
   "metadata": {},
   "source": [
    "<div class=\"alert alert-danger\">\n",
    "<b>❌ Комментарий ревьюера:</b> \n",
    "\n",
    "График построен не совсем так как нужно. Тебе нужно привести расстояние к целым км и уже группировать данные по ним, тогда линейный график будет более понятным. Тебе нужен экстремум, после которого начинается спад цены.\n",
    "    \n",
    "`Рекомендация`: Попробуй исключить вот эту строку \n",
    "    \n",
    "```python\n",
    "spb_data['avg_price_of_km'] = spb_data['last_price'] / spb_data['cityCenters_nearest_km']\n",
    "```\n",
    "т.к. она дает излишнее осреднение\n",
    "</div>"
   ]
  },
  {
   "cell_type": "markdown",
   "metadata": {},
   "source": [
    "<div class=\"alert alert-info\"> <b>Комментарий студента:</b>  Либо я выбираю неверный тип графика, либо это опять 20-ый километр\n",
    "</div>"
   ]
  },
  {
   "cell_type": "markdown",
   "metadata": {},
   "source": [
    "<div class=\"alert alert-danger\">\n",
    "<b>❌ Комментарий ревьюера V2:</b> \n",
    "\n",
    "Тебе нужно посчиать среднее для каждого км, а ты выводишь всю выборку. Тип графика выбирай линейный.</div>"
   ]
  },
  {
   "cell_type": "markdown",
   "metadata": {},
   "source": [
    "<div class=\"alert alert-info\"> <b>Комментарий студента:</b>  Граница центра - 6 километров\n",
    "</div>"
   ]
  },
  {
   "cell_type": "markdown",
   "metadata": {},
   "source": [
    "<div class=\"alert alert-success\">\n",
    "<b>✅ Комментарий ревьюера V3:</b> \n",
    "\n",
    "Супер, теперь корректно\n",
    "</div>"
   ]
  },
  {
   "cell_type": "markdown",
   "metadata": {},
   "source": [
    "Смотря на график я бы провела границу центра города на 20ом километре."
   ]
  },
  {
   "cell_type": "code",
   "execution_count": 33,
   "metadata": {
    "scrolled": true
   },
   "outputs": [
    {
     "data": {
      "text/plain": [
       "count    2549.000000\n",
       "mean       80.322268\n",
       "std        34.968000\n",
       "min        12.000000\n",
       "25%        55.200000\n",
       "50%        75.000000\n",
       "75%        98.000000\n",
       "max       290.000000\n",
       "Name: total_area, dtype: float64"
      ]
     },
     "execution_count": 33,
     "metadata": {},
     "output_type": "execute_result"
    }
   ],
   "source": [
    "spb_data_center = spb_data[spb_data['cityCenters_nearest_km'] <= 6]\n",
    "spb_data_center['total_area'].describe()"
   ]
  },
  {
   "cell_type": "markdown",
   "metadata": {},
   "source": [
    "Самый большой объект в центре Петербурга имеет лощадь 290 квадратных метров. Это гораздо выше среднего показателя для данного района, который составляет 80 квадратных метров. Исходя из того, что медианное значение показателя ниже, можно сделать вывод, что большая часть объектов недвижимости в центре меньше среднего."
   ]
  },
  {
   "cell_type": "code",
   "execution_count": 34,
   "metadata": {
    "scrolled": true
   },
   "outputs": [
    {
     "data": {
      "text/plain": [
       "count    2549.000000\n",
       "mean        2.608866\n",
       "std         1.107106\n",
       "min         0.000000\n",
       "25%         2.000000\n",
       "50%         3.000000\n",
       "75%         3.000000\n",
       "max         5.000000\n",
       "Name: rooms, dtype: float64"
      ]
     },
     "execution_count": 34,
     "metadata": {},
     "output_type": "execute_result"
    }
   ],
   "source": [
    "spb_data_center['rooms'].describe()"
   ]
  },
  {
   "cell_type": "markdown",
   "metadata": {},
   "source": [
    "В центре Санкт-Петербурга каждый сможет найти подходящий объект, т.к. здесь представлены все варианты количества комнат."
   ]
  },
  {
   "cell_type": "code",
   "execution_count": 35,
   "metadata": {},
   "outputs": [
    {
     "data": {
      "text/plain": [
       "count    2549.000000\n",
       "mean        2.863833\n",
       "std         0.366940\n",
       "min         2.450000\n",
       "25%         2.500000\n",
       "50%         2.800000\n",
       "75%         3.100000\n",
       "max         3.980000\n",
       "Name: ceiling_height, dtype: float64"
      ]
     },
     "execution_count": 35,
     "metadata": {},
     "output_type": "execute_result"
    }
   ],
   "source": [
    "spb_data_center['ceiling_height'].describe()"
   ]
  },
  {
   "cell_type": "markdown",
   "metadata": {},
   "source": [
    "Средняя высота потолков в центре Санк-Петербурга составляет 2,86 м. Самые высокие потолки - 3,98 м. Т.к. медианное значение меньше среднего, можно предположить, что в большинстве квартир потолки меньше среднего. По всей базе медианное значение потолков составляло 2.4 м. Значит в центре Санкт-Петербурга потолки в среднем выше, чем по области. Также замена пропусков на медианное значение могла повлиять на итоговую статистику. "
   ]
  },
  {
   "cell_type": "code",
   "execution_count": 37,
   "metadata": {
    "scrolled": true
   },
   "outputs": [
    {
     "name": "stdout",
     "output_type": "stream",
     "text": [
      "29999000.0\n"
     ]
    },
    {
     "data": {
      "text/plain": [
       "10110049.064731266"
      ]
     },
     "execution_count": 37,
     "metadata": {},
     "output_type": "execute_result"
    }
   ],
   "source": [
    "print(spb_data_center['last_price'].max())\n",
    "spb_data_center['last_price'].mean()"
   ]
  },
  {
   "cell_type": "markdown",
   "metadata": {},
   "source": [
    "Средняя стоимость квартир в центре Санкт-Петербурга составляет 10 миллионов рублей (неожиданно мало, но учитывая, что в базе представлены данные с 2014 года, возможно это правда)."
   ]
  },
  {
   "cell_type": "code",
   "execution_count": 38,
   "metadata": {},
   "outputs": [
    {
     "data": {
      "image/png": "[encoded data removed]",
      "text/plain": [
       "<Figure size 432x288 with 9 Axes>"
      ]
     },
     "metadata": {
      "needs_background": "light"
     },
     "output_type": "display_data"
    }
   ],
   "source": [
    "columns_for_center_spb_contrast = ['last_price', 'rooms', 'floor_category', 'cityCenters_nearest']\n",
    "center_spb_visualization = spb_data_center[columns_for_center_spb_contrast]\n",
    "all_region_visualization = data[columns_for_center_spb_contrast]\n",
    "\n",
    "pd.plotting.scatter_matrix(center_spb_visualization)\n",
    "plt.show()"
   ]
  },
  {
   "cell_type": "markdown",
   "metadata": {},
   "source": [
    "<div class=\"alert alert-info\"> <b>Комментарий студента:</b>  Не нашла способа наложить одну на другую именно матрицу. plot не берёт в kind scatter_matrix, поэтому ах=ах не получилось\n",
    "</div>"
   ]
  },
  {
   "cell_type": "markdown",
   "metadata": {},
   "source": [
    "В центре Санкт-Петербурга меньше однокомнатных квартир и студий, чем в общем в городе и области. Больше всего трёх- и четырёх-комнатных квартир. \n",
    "Цена же квартир не находится в прямой зависимости от расстояниия от центра города. Распределение не похоже на нормальное. Объекты одной и той же ценовой категории могуть находиться на разном расстоянии от ценра города. Это свидетельствует о развитой инфраструктуре Санкт-Петербурга и уходу от центрической модели развития города. "
   ]
  },
  {
   "cell_type": "markdown",
   "metadata": {},
   "source": [
    "<div class=\"alert alert-warning\">\n",
    "<b>⚠️ Комментарий ревьюера:</b> \n",
    "\n",
    "С оценкой центральной границы согласен, только старайся эту часть анализа проводить уже в сравнении с общей частью. График должны быть наложены друг на друга и в выводах должно присутствовать сравнение. Так же стоит перерассмотреть ее, после корректного определения центральной границы.\n",
    "</div>"
   ]
  },
  {
   "cell_type": "markdown",
   "metadata": {},
   "source": [
    "<div class=\"alert alert-info\"> <b>Комментарий студента:</b>  Выводы подкорректировала после изменения границы\n",
    "</div>"
   ]
  },
  {
   "cell_type": "markdown",
   "metadata": {},
   "source": [
    "## Общий вывод"
   ]
  },
  {
   "cell_type": "markdown",
   "metadata": {},
   "source": [
    "1. В данных Яндекс-Недвижимости было много пропусков. При выборе недвижимости важна каждая мелочь. Посетитель, который потратил время на обсуждение объекта, который ему не подошёл будь все данные заполнены, по итогу будет недоволен взаимодействием с сервисом.\n",
    "2. Средний размер объектов Яндекс-недвижимости от 40 до 50 квадратных метров. Этот показатель чуть больше для центра Санкт-Петербурга, вероятно так исторически сложилось. \n",
    "3. Разброс от максимального значения до минимального на рынке Недвижимости значителен.\n",
    "4. Чем ближе к центру крупного города, тем больше комнат в квартире.\n",
    "5. Покупка недвижимости - серьёзный шаг для среднестатистического жителя нашей страны, поэтому публикации преимущественно актуальны долгое время.\n",
    "6. Нельзя дать рекомендации по предпочтительному дню публикации объявления.\n",
    "7. 2018 год был пиком пользования сервисом. Спад в 2019 году можно связать как со падом на рынке недвижимости (хотя люди в больших городах активно выходили на рынок загородной недвижимости), так и с проблемами с работой с сервисом (вернёмся к п.1.). Возможно стоит сделать поправку на действия конкурентов на рынке акгрегаторов недвижимости.\n",
    "8. Если цель сэкономить, то можно активировать фильтр по этажам - квартиры на первом этаже дешевле. \n",
    "9. По каждому показателю были нехарактерные значения, а значит даже покупатель с нетипичным запросом может найти на рынке недвижимости Санк-Петкрбурга и Ленинградской области что-то подходящее. "
   ]
  },
  {
   "cell_type": "markdown",
   "metadata": {},
   "source": [
    "<div class=\"alert alert-success\">\n",
    "<b>✅ Комментарий ревьюера :</b> \n",
    "\n",
    "Общий вывод принят\n",
    "</div>"
   ]
  },
  {
   "cell_type": "markdown",
   "metadata": {},
   "source": []
  },
  {
   "cell_type": "markdown",
   "metadata": {},
   "source": [
    "## Чек-лист готовности проекта\n",
    "\n",
    "Поставьте 'x' в выполненных пунктах. Далее нажмите Shift+Enter."
   ]
  },
  {
   "cell_type": "markdown",
   "metadata": {},
   "source": [
    "- [x]  открыт файл\n",
    "- [ ]  файлы изучены (выведены первые строки, метод info())\n",
    "- [ ]  определены пропущенные значения\n",
    "- [ ]  заполнены пропущенные значения\n",
    "- [ ]  есть пояснение, какие пропущенные значения обнаружены\n",
    "- [ ]  изменены типы данных\n",
    "- [ ]  есть пояснение, в каких столбцах изменены типы и почему\n",
    "- [ ]  посчитано и добавлено в таблицу: цена квадратного метра\n",
    "- [ ]  посчитано и добавлено в таблицу: день недели, месяц и год публикации объявления\n",
    "- [ ]  посчитано и добавлено в таблицу: этаж квартиры; варианты — первый, последний, другой\n",
    "- [ ]  посчитано и добавлено в таблицу: соотношение жилой и общей площади, а также отношение площади кухни к общей\n",
    "- [ ]  изучены следующие параметры: площадь, цена, число комнат, высота потолков\n",
    "- [ ]  построены гистограммы для каждого параметра\n",
    "- [ ]  выполнено задание: \"Изучите время продажи квартиры. Постройте гистограмму. Посчитайте среднее и медиану. Опишите, сколько обычно занимает продажа. Когда можно считать, что продажи прошли очень быстро, а когда необычно долго?\"\n",
    "- [ ]  выполнено задание: \"Уберите редкие и выбивающиеся значения. Опишите, какие особенности обнаружили.\"\n",
    "- [ ]  выполнено задание: \"Какие факторы больше всего влияют на стоимость квартиры? Изучите, зависит ли цена от квадратного метра, числа комнат, этажа (первого или последнего), удалённости от центра. Также изучите зависимость от даты размещения: дня недели, месяца и года. \"Выберите 10 населённых пунктов с наибольшим числом объявлений. Посчитайте среднюю цену квадратного метра в этих населённых пунктах. Выделите населённые пункты с самой высокой и низкой стоимостью жилья. Эти данные можно найти по имени в столбце '*locality_name'*. \"\n",
    "- [ ]  выполнено задание: \"Изучите предложения квартир: для каждой квартиры есть информация о расстоянии до центра. Выделите квартиры в Санкт-Петербурге (*'locality_name'*). Ваша задача — выяснить, какая область входит в центр. Создайте столбец с расстоянием до центра в километрах: округлите до целых значений. После этого посчитайте среднюю цену для каждого километра. Постройте график: он должен показывать, как цена зависит от удалённости от центра. Определите границу, где график сильно меняется — это и будет центральная зона. \"\n",
    "- [ ]  выполнено задание: \"Выделите сегмент квартир в центре. Проанализируйте эту территорию и изучите следующие параметры: площадь, цена, число комнат, высота потолков. Также выделите факторы, которые влияют на стоимость квартиры (число комнат, этаж, удалённость от центра, дата размещения объявления). Сделайте выводы. Отличаются ли они от общих выводов по всему городу?\"\n",
    "- [ ]  в каждом этапе есть выводы\n",
    "- [ ]  есть общий вывод"
   ]
  }
 ],
 "metadata": {
  "ExecuteTimeLog": [
   {
    "duration": 3516,
    "start_time": "2022-01-10T14:04:34.976Z"
   },
   {
    "duration": 106,
    "start_time": "2022-01-10T14:04:53.006Z"
   },
   {
    "duration": 2473,
    "start_time": "2022-01-10T14:05:08.604Z"
   },
   {
    "duration": 75,
    "start_time": "2022-01-10T14:06:56.452Z"
   },
   {
    "duration": 89,
    "start_time": "2022-01-10T14:07:08.341Z"
   },
   {
    "duration": 75,
    "start_time": "2022-01-10T14:07:33.585Z"
   },
   {
    "duration": 83,
    "start_time": "2022-01-10T14:07:44.497Z"
   },
   {
    "duration": 76,
    "start_time": "2022-01-10T14:08:25.444Z"
   },
   {
    "duration": 102,
    "start_time": "2022-01-10T14:08:46.289Z"
   },
   {
    "duration": 76,
    "start_time": "2022-01-10T14:09:03.481Z"
   },
   {
    "duration": 74,
    "start_time": "2022-01-10T14:09:19.112Z"
   },
   {
    "duration": 75,
    "start_time": "2022-01-10T14:09:35.742Z"
   },
   {
    "duration": 78,
    "start_time": "2022-01-10T14:10:03.531Z"
   },
   {
    "duration": 121,
    "start_time": "2022-01-10T14:10:42.402Z"
   },
   {
    "duration": 130,
    "start_time": "2022-01-10T14:14:01.326Z"
   },
   {
    "duration": 457,
    "start_time": "2022-01-10T14:24:15.501Z"
   },
   {
    "duration": 382,
    "start_time": "2022-01-10T14:24:23.853Z"
   },
   {
    "duration": -178,
    "start_time": "2022-01-10T14:24:52.362Z"
   },
   {
    "duration": 337,
    "start_time": "2022-01-10T14:25:00.637Z"
   },
   {
    "duration": 9,
    "start_time": "2022-01-10T14:26:50.568Z"
   },
   {
    "duration": 54,
    "start_time": "2022-01-10T14:27:25.778Z"
   },
   {
    "duration": 127,
    "start_time": "2022-01-10T14:43:49.047Z"
   },
   {
    "duration": 145,
    "start_time": "2022-01-10T14:43:52.921Z"
   },
   {
    "duration": 104,
    "start_time": "2022-01-10T14:44:07.415Z"
   },
   {
    "duration": 102,
    "start_time": "2022-01-10T14:44:14.297Z"
   },
   {
    "duration": 109,
    "start_time": "2022-01-10T14:46:43.983Z"
   },
   {
    "duration": 115,
    "start_time": "2022-01-10T14:46:53.599Z"
   },
   {
    "duration": 104,
    "start_time": "2022-01-10T14:47:01.533Z"
   },
   {
    "duration": 108,
    "start_time": "2022-01-10T14:47:12.368Z"
   },
   {
    "duration": 107,
    "start_time": "2022-01-10T14:47:29.912Z"
   },
   {
    "duration": 8,
    "start_time": "2022-01-10T14:47:36.498Z"
   },
   {
    "duration": 8,
    "start_time": "2022-01-10T14:47:46.408Z"
   },
   {
    "duration": 10,
    "start_time": "2022-01-10T14:48:03.192Z"
   },
   {
    "duration": 55,
    "start_time": "2022-01-10T14:48:23.623Z"
   },
   {
    "duration": 860,
    "start_time": "2022-01-10T14:49:27.840Z"
   },
   {
    "duration": 108,
    "start_time": "2022-01-10T14:49:42.688Z"
   },
   {
    "duration": 133,
    "start_time": "2022-01-10T14:49:47.913Z"
   },
   {
    "duration": 116,
    "start_time": "2022-01-10T14:50:17.138Z"
   },
   {
    "duration": 387,
    "start_time": "2022-01-10T14:52:26.688Z"
   },
   {
    "duration": 118,
    "start_time": "2022-01-10T14:52:36.376Z"
   },
   {
    "duration": 110,
    "start_time": "2022-01-10T14:52:55.737Z"
   },
   {
    "duration": 14,
    "start_time": "2022-01-10T14:53:01.833Z"
   },
   {
    "duration": 59,
    "start_time": "2022-01-10T14:53:08.932Z"
   },
   {
    "duration": 337,
    "start_time": "2022-01-10T14:54:54.328Z"
   },
   {
    "duration": 320,
    "start_time": "2022-01-10T14:55:09.724Z"
   },
   {
    "duration": 329,
    "start_time": "2022-01-10T14:58:06.996Z"
   },
   {
    "duration": 8,
    "start_time": "2022-01-10T14:59:26.074Z"
   },
   {
    "duration": 8,
    "start_time": "2022-01-10T14:59:36.442Z"
   },
   {
    "duration": 1062,
    "start_time": "2022-01-10T14:59:41.107Z"
   },
   {
    "duration": 64,
    "start_time": "2022-01-10T15:00:10.474Z"
   },
   {
    "duration": 7,
    "start_time": "2022-01-10T15:01:04.747Z"
   },
   {
    "duration": 55,
    "start_time": "2022-01-10T15:01:33.323Z"
   },
   {
    "duration": 1111,
    "start_time": "2022-01-11T14:04:51.254Z"
   },
   {
    "duration": 102,
    "start_time": "2022-01-11T14:06:33.049Z"
   },
   {
    "duration": 450,
    "start_time": "2022-01-11T14:06:44.438Z"
   },
   {
    "duration": 13,
    "start_time": "2022-01-11T14:08:34.784Z"
   },
   {
    "duration": 40,
    "start_time": "2022-01-11T14:08:49.465Z"
   },
   {
    "duration": 41,
    "start_time": "2022-01-11T14:09:00.360Z"
   },
   {
    "duration": 332,
    "start_time": "2022-01-11T14:09:46.601Z"
   },
   {
    "duration": 9,
    "start_time": "2022-01-11T14:13:11.066Z"
   },
   {
    "duration": 89,
    "start_time": "2022-01-11T14:13:27.625Z"
   },
   {
    "duration": 26,
    "start_time": "2022-01-11T14:13:31.849Z"
   },
   {
    "duration": 25,
    "start_time": "2022-01-11T14:13:37.056Z"
   },
   {
    "duration": 26,
    "start_time": "2022-01-11T14:14:33.075Z"
   },
   {
    "duration": 7,
    "start_time": "2022-01-11T14:15:18.146Z"
   },
   {
    "duration": 134,
    "start_time": "2022-01-11T14:15:33.090Z"
   },
   {
    "duration": 35,
    "start_time": "2022-01-11T14:16:14.498Z"
   },
   {
    "duration": 8,
    "start_time": "2022-01-11T14:16:44.220Z"
   },
   {
    "duration": 9,
    "start_time": "2022-01-11T14:17:04.273Z"
   },
   {
    "duration": 797,
    "start_time": "2022-01-11T14:17:13.754Z"
   },
   {
    "duration": 7,
    "start_time": "2022-01-11T14:17:30.289Z"
   },
   {
    "duration": 55,
    "start_time": "2022-01-11T14:17:45.579Z"
   },
   {
    "duration": 8,
    "start_time": "2022-01-11T14:18:15.966Z"
   },
   {
    "duration": 7522,
    "start_time": "2022-01-11T14:39:16.982Z"
   },
   {
    "duration": 891,
    "start_time": "2022-01-11T14:39:39.678Z"
   },
   {
    "duration": 7335,
    "start_time": "2022-01-11T14:40:02.625Z"
   },
   {
    "duration": 383,
    "start_time": "2022-01-11T14:40:34.919Z"
   },
   {
    "duration": 38,
    "start_time": "2022-01-11T14:40:48.752Z"
   },
   {
    "duration": 40,
    "start_time": "2022-01-11T14:42:12.669Z"
   },
   {
    "duration": 37,
    "start_time": "2022-01-11T14:42:29.633Z"
   },
   {
    "duration": 45,
    "start_time": "2022-01-11T14:46:58.852Z"
   },
   {
    "duration": 11,
    "start_time": "2022-01-11T14:47:12.729Z"
   },
   {
    "duration": 42,
    "start_time": "2022-01-11T14:47:19.816Z"
   },
   {
    "duration": 40,
    "start_time": "2022-01-11T14:47:27.128Z"
   },
   {
    "duration": 39,
    "start_time": "2022-01-11T14:50:35.721Z"
   },
   {
    "duration": 15,
    "start_time": "2022-01-11T14:52:32.714Z"
   },
   {
    "duration": 42,
    "start_time": "2022-01-11T14:52:38.226Z"
   },
   {
    "duration": 44,
    "start_time": "2022-01-11T14:52:55.657Z"
   },
   {
    "duration": 45,
    "start_time": "2022-01-11T14:53:18.908Z"
   },
   {
    "duration": 46,
    "start_time": "2022-01-11T14:53:35.818Z"
   },
   {
    "duration": 47,
    "start_time": "2022-01-11T14:53:43.761Z"
   },
   {
    "duration": 46,
    "start_time": "2022-01-11T14:54:01.275Z"
   },
   {
    "duration": 46,
    "start_time": "2022-01-11T14:54:05.274Z"
   },
   {
    "duration": 60,
    "start_time": "2022-01-11T14:55:04.601Z"
   },
   {
    "duration": 41,
    "start_time": "2022-01-11T14:56:20.011Z"
   },
   {
    "duration": 126,
    "start_time": "2022-01-11T14:56:42.362Z"
   },
   {
    "duration": 43,
    "start_time": "2022-01-11T14:56:46.756Z"
   },
   {
    "duration": 42,
    "start_time": "2022-01-11T14:56:55.306Z"
   },
   {
    "duration": 133,
    "start_time": "2022-01-11T15:00:14.964Z"
   },
   {
    "duration": 37,
    "start_time": "2022-01-11T15:00:19.003Z"
   },
   {
    "duration": 36,
    "start_time": "2022-01-11T15:16:53.326Z"
   },
   {
    "duration": 37,
    "start_time": "2022-01-11T15:19:36.689Z"
   },
   {
    "duration": 48,
    "start_time": "2022-01-11T15:20:44.531Z"
   },
   {
    "duration": 40,
    "start_time": "2022-01-11T15:20:50.936Z"
   },
   {
    "duration": 340,
    "start_time": "2022-01-11T15:21:09.656Z"
   },
   {
    "duration": 41,
    "start_time": "2022-01-11T15:21:29.568Z"
   },
   {
    "duration": 41,
    "start_time": "2022-01-11T15:36:26.937Z"
   },
   {
    "duration": 127,
    "start_time": "2022-01-11T15:51:22.206Z"
   },
   {
    "duration": 8,
    "start_time": "2022-01-11T15:55:30.392Z"
   },
   {
    "duration": 11,
    "start_time": "2022-01-11T15:55:41.064Z"
   },
   {
    "duration": 378,
    "start_time": "2022-01-12T08:48:33.296Z"
   },
   {
    "duration": 934,
    "start_time": "2022-01-12T08:48:40.392Z"
   },
   {
    "duration": 411,
    "start_time": "2022-01-12T08:48:53.384Z"
   },
   {
    "duration": 10,
    "start_time": "2022-01-12T08:49:01.842Z"
   },
   {
    "duration": 113,
    "start_time": "2022-01-12T08:51:28.264Z"
   },
   {
    "duration": 9,
    "start_time": "2022-01-12T08:53:52.028Z"
   },
   {
    "duration": 9,
    "start_time": "2022-01-12T08:54:11.797Z"
   },
   {
    "duration": 67,
    "start_time": "2022-01-12T08:54:22.516Z"
   },
   {
    "duration": 108,
    "start_time": "2022-01-12T08:55:31.191Z"
   },
   {
    "duration": 158,
    "start_time": "2022-01-12T09:01:06.034Z"
   },
   {
    "duration": 9163,
    "start_time": "2022-01-12T09:24:23.220Z"
   },
   {
    "duration": 8,
    "start_time": "2022-01-12T09:24:47.261Z"
   },
   {
    "duration": 7,
    "start_time": "2022-01-12T09:25:03.334Z"
   },
   {
    "duration": 9,
    "start_time": "2022-01-12T09:25:09.130Z"
   },
   {
    "duration": 8,
    "start_time": "2022-01-12T09:25:23.783Z"
   },
   {
    "duration": 8,
    "start_time": "2022-01-12T09:25:48.837Z"
   },
   {
    "duration": 9,
    "start_time": "2022-01-12T09:42:22.588Z"
   },
   {
    "duration": 394,
    "start_time": "2022-01-12T09:42:42.864Z"
   },
   {
    "duration": 135,
    "start_time": "2022-01-12T09:42:52.353Z"
   },
   {
    "duration": 387,
    "start_time": "2022-01-12T09:42:56.704Z"
   },
   {
    "duration": 309,
    "start_time": "2022-01-12T09:43:07.665Z"
   },
   {
    "duration": 7,
    "start_time": "2022-01-12T09:44:39.252Z"
   },
   {
    "duration": 308,
    "start_time": "2022-01-12T09:44:48.184Z"
   },
   {
    "duration": 58,
    "start_time": "2022-01-12T09:45:12.043Z"
   },
   {
    "duration": 313,
    "start_time": "2022-01-12T09:52:53.234Z"
   },
   {
    "duration": 9,
    "start_time": "2022-01-12T09:53:12.370Z"
   },
   {
    "duration": 10,
    "start_time": "2022-01-12T09:53:34.064Z"
   },
   {
    "duration": 57,
    "start_time": "2022-01-12T09:53:44.317Z"
   },
   {
    "duration": 16,
    "start_time": "2022-01-12T10:10:41.308Z"
   },
   {
    "duration": 25,
    "start_time": "2022-01-12T10:10:51.230Z"
   },
   {
    "duration": 1588,
    "start_time": "2022-01-12T10:11:09.173Z"
   },
   {
    "duration": 22,
    "start_time": "2022-01-12T10:12:15.157Z"
   },
   {
    "duration": 5,
    "start_time": "2022-01-12T10:15:33.559Z"
   },
   {
    "duration": 17,
    "start_time": "2022-01-12T10:15:41.072Z"
   },
   {
    "duration": 9,
    "start_time": "2022-01-12T10:19:31.329Z"
   },
   {
    "duration": 6,
    "start_time": "2022-01-12T10:19:33.160Z"
   },
   {
    "duration": 20,
    "start_time": "2022-01-12T10:19:40.743Z"
   },
   {
    "duration": 316,
    "start_time": "2022-01-12T10:35:52.716Z"
   },
   {
    "duration": 315,
    "start_time": "2022-01-12T10:36:07.435Z"
   },
   {
    "duration": 10,
    "start_time": "2022-01-12T10:36:36.428Z"
   },
   {
    "duration": 10,
    "start_time": "2022-01-12T10:37:39.420Z"
   },
   {
    "duration": 24,
    "start_time": "2022-01-12T10:37:48.124Z"
   },
   {
    "duration": 13,
    "start_time": "2022-01-12T10:42:50.348Z"
   },
   {
    "duration": 21,
    "start_time": "2022-01-12T10:43:00.724Z"
   },
   {
    "duration": 10,
    "start_time": "2022-01-12T10:47:05.094Z"
   },
   {
    "duration": 21,
    "start_time": "2022-01-12T10:47:15.517Z"
   },
   {
    "duration": 344,
    "start_time": "2022-01-12T10:52:14.791Z"
   },
   {
    "duration": 862,
    "start_time": "2022-01-12T10:52:44.399Z"
   },
   {
    "duration": 325,
    "start_time": "2022-01-12T10:52:53.583Z"
   },
   {
    "duration": 374,
    "start_time": "2022-01-12T10:53:14.183Z"
   },
   {
    "duration": 477,
    "start_time": "2022-01-12T10:53:20.463Z"
   },
   {
    "duration": 425,
    "start_time": "2022-01-12T10:53:26.590Z"
   },
   {
    "duration": 133,
    "start_time": "2022-01-12T10:56:14.832Z"
   },
   {
    "duration": 24,
    "start_time": "2022-01-12T10:56:22.520Z"
   },
   {
    "duration": 319,
    "start_time": "2022-01-12T10:59:49.176Z"
   },
   {
    "duration": 30,
    "start_time": "2022-01-12T11:00:54.097Z"
   },
   {
    "duration": 32,
    "start_time": "2022-01-12T11:04:26.898Z"
   },
   {
    "duration": 1273,
    "start_time": "2022-01-12T11:07:38.021Z"
   },
   {
    "duration": 91,
    "start_time": "2022-01-12T11:07:44.346Z"
   },
   {
    "duration": 9173,
    "start_time": "2022-01-12T11:09:42.827Z"
   },
   {
    "duration": 26,
    "start_time": "2022-01-12T11:11:29.180Z"
   },
   {
    "duration": 30,
    "start_time": "2022-01-12T13:48:23.756Z"
   },
   {
    "duration": 18,
    "start_time": "2022-01-12T13:51:46.918Z"
   },
   {
    "duration": 31,
    "start_time": "2022-01-12T13:52:02.333Z"
   },
   {
    "duration": 7438,
    "start_time": "2022-01-12T13:55:37.208Z"
   },
   {
    "duration": 25,
    "start_time": "2022-01-12T13:56:38.274Z"
   },
   {
    "duration": 8593,
    "start_time": "2022-01-12T14:23:53.728Z"
   },
   {
    "duration": 1302,
    "start_time": "2022-01-12T14:24:15.242Z"
   },
   {
    "duration": 357,
    "start_time": "2022-01-12T14:24:31.651Z"
   },
   {
    "duration": 320,
    "start_time": "2022-01-12T14:24:51.738Z"
   },
   {
    "duration": 373,
    "start_time": "2022-01-12T14:25:07.277Z"
   },
   {
    "duration": 378,
    "start_time": "2022-01-12T14:25:31.037Z"
   },
   {
    "duration": 507,
    "start_time": "2022-01-12T14:26:27.795Z"
   },
   {
    "duration": 319,
    "start_time": "2022-01-12T14:26:50.530Z"
   },
   {
    "duration": 342,
    "start_time": "2022-01-12T14:27:05.188Z"
   },
   {
    "duration": 593,
    "start_time": "2022-01-12T14:32:18.236Z"
   },
   {
    "duration": 345,
    "start_time": "2022-01-12T14:32:27.124Z"
   },
   {
    "duration": 348,
    "start_time": "2022-01-12T14:33:11.815Z"
   },
   {
    "duration": 372,
    "start_time": "2022-01-12T14:33:29.037Z"
   },
   {
    "duration": 101,
    "start_time": "2022-01-12T14:34:09.491Z"
   },
   {
    "duration": 338,
    "start_time": "2022-01-12T14:34:43.090Z"
   },
   {
    "duration": 101,
    "start_time": "2022-01-12T14:44:09.533Z"
   },
   {
    "duration": 896,
    "start_time": "2022-01-12T14:44:23.820Z"
   },
   {
    "duration": 885,
    "start_time": "2022-01-12T14:53:10.602Z"
   },
   {
    "duration": 768,
    "start_time": "2022-01-12T14:53:45.820Z"
   },
   {
    "duration": 359,
    "start_time": "2022-01-12T14:53:52.539Z"
   },
   {
    "duration": 415,
    "start_time": "2022-01-12T14:54:28.220Z"
   },
   {
    "duration": 835,
    "start_time": "2022-01-12T14:54:53.004Z"
   },
   {
    "duration": 853,
    "start_time": "2022-01-12T14:58:01.012Z"
   },
   {
    "duration": 432,
    "start_time": "2022-01-12T15:00:35.701Z"
   },
   {
    "duration": 342,
    "start_time": "2022-01-12T15:01:06.281Z"
   },
   {
    "duration": 100,
    "start_time": "2022-01-12T15:01:21.773Z"
   },
   {
    "duration": 53,
    "start_time": "2022-01-12T15:08:10.430Z"
   },
   {
    "duration": 2125,
    "start_time": "2022-01-12T15:08:46.576Z"
   },
   {
    "duration": 85,
    "start_time": "2022-01-12T15:10:25.216Z"
   },
   {
    "duration": 339,
    "start_time": "2022-01-12T15:10:43.257Z"
   },
   {
    "duration": 337,
    "start_time": "2022-01-12T15:10:57.888Z"
   },
   {
    "duration": 444,
    "start_time": "2022-01-12T15:12:01.091Z"
   },
   {
    "duration": 337,
    "start_time": "2022-01-12T15:12:38.900Z"
   },
   {
    "duration": 342,
    "start_time": "2022-01-12T15:13:53.787Z"
   },
   {
    "duration": 140,
    "start_time": "2022-01-12T15:13:59.161Z"
   },
   {
    "duration": 55,
    "start_time": "2022-01-12T15:14:02.154Z"
   },
   {
    "duration": 97,
    "start_time": "2022-01-12T15:14:20.812Z"
   },
   {
    "duration": 86,
    "start_time": "2022-01-12T15:15:03.057Z"
   },
   {
    "duration": 2552,
    "start_time": "2022-01-12T15:15:18.874Z"
   },
   {
    "duration": 44,
    "start_time": "2022-01-12T15:17:17.797Z"
   },
   {
    "duration": 99,
    "start_time": "2022-01-12T15:17:26.610Z"
   },
   {
    "duration": 33,
    "start_time": "2022-01-12T15:19:42.558Z"
   },
   {
    "duration": 21,
    "start_time": "2022-01-12T15:20:01.700Z"
   },
   {
    "duration": 24,
    "start_time": "2022-01-12T15:20:14.339Z"
   },
   {
    "duration": 139,
    "start_time": "2022-01-12T15:20:35.516Z"
   },
   {
    "duration": 41,
    "start_time": "2022-01-12T15:20:39.163Z"
   },
   {
    "duration": 51,
    "start_time": "2022-01-12T15:23:11.926Z"
   },
   {
    "duration": 46,
    "start_time": "2022-01-12T15:23:25.080Z"
   },
   {
    "duration": 83,
    "start_time": "2022-01-12T15:23:33.004Z"
   },
   {
    "duration": 136,
    "start_time": "2022-01-12T15:42:04.507Z"
   },
   {
    "duration": 132,
    "start_time": "2022-01-12T15:44:54.545Z"
   },
   {
    "duration": 389,
    "start_time": "2022-01-13T12:58:07.854Z"
   },
   {
    "duration": 938,
    "start_time": "2022-01-13T12:58:14.185Z"
   },
   {
    "duration": 168,
    "start_time": "2022-01-13T12:58:18.736Z"
   },
   {
    "duration": 171,
    "start_time": "2022-01-13T12:58:47.693Z"
   },
   {
    "duration": 246,
    "start_time": "2022-01-13T13:02:36.009Z"
   },
   {
    "duration": 724,
    "start_time": "2022-01-13T13:04:26.930Z"
   },
   {
    "duration": 221,
    "start_time": "2022-01-13T13:04:38.236Z"
   },
   {
    "duration": 222,
    "start_time": "2022-01-13T13:06:09.809Z"
   },
   {
    "duration": 230,
    "start_time": "2022-01-13T13:08:10.810Z"
   },
   {
    "duration": 251,
    "start_time": "2022-01-13T13:09:24.825Z"
   },
   {
    "duration": 10666,
    "start_time": "2022-01-13T13:36:47.313Z"
   },
   {
    "duration": 8487,
    "start_time": "2022-01-13T13:37:27.802Z"
   },
   {
    "duration": 253,
    "start_time": "2022-01-13T13:37:48.159Z"
   },
   {
    "duration": 277,
    "start_time": "2022-01-13T13:38:24.903Z"
   },
   {
    "duration": 9855,
    "start_time": "2022-01-13T13:41:26.263Z"
   },
   {
    "duration": 250,
    "start_time": "2022-01-13T13:41:47.435Z"
   },
   {
    "duration": 249,
    "start_time": "2022-01-13T13:50:54.587Z"
   },
   {
    "duration": 8744,
    "start_time": "2022-01-13T13:52:42.903Z"
   },
   {
    "duration": 9721,
    "start_time": "2022-01-13T13:53:10.131Z"
   },
   {
    "duration": 264,
    "start_time": "2022-01-13T13:53:30.871Z"
   },
   {
    "duration": 67,
    "start_time": "2022-01-13T13:57:28.093Z"
   },
   {
    "duration": 38,
    "start_time": "2022-01-13T13:59:19.335Z"
   },
   {
    "duration": 41,
    "start_time": "2022-01-13T14:00:33.994Z"
   },
   {
    "duration": 341,
    "start_time": "2022-01-13T14:07:43.387Z"
   },
   {
    "duration": 494,
    "start_time": "2022-01-13T14:17:09.106Z"
   },
   {
    "duration": 322,
    "start_time": "2022-01-13T14:19:11.392Z"
   },
   {
    "duration": 349,
    "start_time": "2022-01-13T14:21:04.269Z"
   },
   {
    "duration": 47,
    "start_time": "2022-01-13T14:21:21.517Z"
   },
   {
    "duration": 49,
    "start_time": "2022-01-13T14:22:22.000Z"
   },
   {
    "duration": 56,
    "start_time": "2022-01-13T14:22:43.557Z"
   },
   {
    "duration": 59,
    "start_time": "2022-01-13T14:22:55.294Z"
   },
   {
    "duration": 66,
    "start_time": "2022-01-13T14:30:52.147Z"
   },
   {
    "duration": 420,
    "start_time": "2022-01-13T14:31:00.136Z"
   },
   {
    "duration": 49,
    "start_time": "2022-01-13T14:34:44.257Z"
   },
   {
    "duration": 52,
    "start_time": "2022-01-13T14:35:22.131Z"
   },
   {
    "duration": 120,
    "start_time": "2022-01-13T14:54:19.413Z"
   },
   {
    "duration": 57,
    "start_time": "2022-01-13T14:54:25.566Z"
   },
   {
    "duration": 57,
    "start_time": "2022-01-13T14:54:32.499Z"
   },
   {
    "duration": 458,
    "start_time": "2022-01-13T15:02:35.858Z"
   },
   {
    "duration": 529,
    "start_time": "2022-01-13T15:02:57.655Z"
   },
   {
    "duration": 1089,
    "start_time": "2022-01-13T15:04:51.681Z"
   },
   {
    "duration": 1116,
    "start_time": "2022-01-13T15:08:24.537Z"
   },
   {
    "duration": 1275,
    "start_time": "2022-01-13T15:13:44.589Z"
   },
   {
    "duration": 144,
    "start_time": "2022-01-14T13:24:53.581Z"
   },
   {
    "duration": 259,
    "start_time": "2022-01-14T13:24:57.698Z"
   },
   {
    "duration": 1152,
    "start_time": "2022-01-14T13:25:05.061Z"
   },
   {
    "duration": 676,
    "start_time": "2022-01-14T13:35:43.259Z"
   },
   {
    "duration": 290,
    "start_time": "2022-01-14T13:36:28.953Z"
   },
   {
    "duration": 262,
    "start_time": "2022-01-14T13:36:34.403Z"
   },
   {
    "duration": 340,
    "start_time": "2022-01-14T13:36:43.233Z"
   },
   {
    "duration": 529,
    "start_time": "2022-01-14T13:36:50.656Z"
   },
   {
    "duration": 813,
    "start_time": "2022-01-14T13:36:58.352Z"
   },
   {
    "duration": 1778,
    "start_time": "2022-01-14T13:37:05.042Z"
   },
   {
    "duration": 110,
    "start_time": "2022-01-14T13:37:44.265Z"
   },
   {
    "duration": 1671,
    "start_time": "2022-01-14T13:37:51.265Z"
   },
   {
    "duration": 2189,
    "start_time": "2022-01-14T13:39:04.017Z"
   },
   {
    "duration": 1975,
    "start_time": "2022-01-14T13:39:13.731Z"
   },
   {
    "duration": 2151,
    "start_time": "2022-01-14T13:39:19.106Z"
   },
   {
    "duration": 1805,
    "start_time": "2022-01-14T13:39:34.786Z"
   },
   {
    "duration": 3208,
    "start_time": "2022-01-14T13:40:24.850Z"
   },
   {
    "duration": 1904,
    "start_time": "2022-01-14T13:40:36.478Z"
   },
   {
    "duration": 1722,
    "start_time": "2022-01-14T13:54:32.044Z"
   },
   {
    "duration": 2188,
    "start_time": "2022-01-14T13:54:55.470Z"
   },
   {
    "duration": 1811,
    "start_time": "2022-01-14T13:56:33.775Z"
   },
   {
    "duration": 629,
    "start_time": "2022-01-14T13:58:27.772Z"
   },
   {
    "duration": 325,
    "start_time": "2022-01-14T13:58:37.815Z"
   },
   {
    "duration": 382,
    "start_time": "2022-01-14T13:58:44.291Z"
   },
   {
    "duration": 333,
    "start_time": "2022-01-14T13:59:51.477Z"
   },
   {
    "duration": 331,
    "start_time": "2022-01-14T14:00:01.560Z"
   },
   {
    "duration": 326,
    "start_time": "2022-01-14T14:00:10.488Z"
   },
   {
    "duration": 186,
    "start_time": "2022-01-14T14:00:56.895Z"
   },
   {
    "duration": 1086,
    "start_time": "2022-01-14T14:01:00.472Z"
   },
   {
    "duration": 1042,
    "start_time": "2022-01-14T14:01:17.766Z"
   },
   {
    "duration": 320,
    "start_time": "2022-01-14T14:01:32.955Z"
   },
   {
    "duration": 1163,
    "start_time": "2022-01-14T14:01:43.696Z"
   },
   {
    "duration": 348,
    "start_time": "2022-01-14T14:01:50.921Z"
   },
   {
    "duration": 402,
    "start_time": "2022-01-14T14:01:58.010Z"
   },
   {
    "duration": 345,
    "start_time": "2022-01-14T14:05:15.121Z"
   },
   {
    "duration": 368,
    "start_time": "2022-01-14T14:05:23.418Z"
   },
   {
    "duration": 393,
    "start_time": "2022-01-14T14:05:35.555Z"
   },
   {
    "duration": 404,
    "start_time": "2022-01-14T14:05:48.860Z"
   },
   {
    "duration": 414,
    "start_time": "2022-01-14T14:05:54.337Z"
   },
   {
    "duration": 454,
    "start_time": "2022-01-14T14:06:24.680Z"
   },
   {
    "duration": 754,
    "start_time": "2022-01-14T14:06:30.858Z"
   },
   {
    "duration": 342,
    "start_time": "2022-01-14T14:11:06.242Z"
   },
   {
    "duration": 381,
    "start_time": "2022-01-14T14:11:18.690Z"
   },
   {
    "duration": 285,
    "start_time": "2022-01-14T14:12:01.171Z"
   },
   {
    "duration": 440,
    "start_time": "2022-01-14T14:12:21.060Z"
   },
   {
    "duration": 284,
    "start_time": "2022-01-14T14:12:30.555Z"
   },
   {
    "duration": 309,
    "start_time": "2022-01-14T14:12:34.499Z"
   },
   {
    "duration": 292,
    "start_time": "2022-01-14T14:12:39.508Z"
   },
   {
    "duration": 290,
    "start_time": "2022-01-14T14:12:48.496Z"
   },
   {
    "duration": 293,
    "start_time": "2022-01-14T14:12:51.363Z"
   },
   {
    "duration": 430,
    "start_time": "2022-01-14T14:12:57.212Z"
   },
   {
    "duration": 286,
    "start_time": "2022-01-14T14:12:59.955Z"
   },
   {
    "duration": 396,
    "start_time": "2022-01-14T14:13:13.915Z"
   },
   {
    "duration": 290,
    "start_time": "2022-01-14T14:13:22.155Z"
   },
   {
    "duration": 275,
    "start_time": "2022-01-14T14:13:27.123Z"
   },
   {
    "duration": 284,
    "start_time": "2022-01-14T14:13:42.332Z"
   },
   {
    "duration": 268,
    "start_time": "2022-01-14T14:13:49.692Z"
   },
   {
    "duration": 278,
    "start_time": "2022-01-14T14:13:58.444Z"
   },
   {
    "duration": 280,
    "start_time": "2022-01-14T14:14:02.627Z"
   },
   {
    "duration": 681,
    "start_time": "2022-01-14T14:14:47.508Z"
   },
   {
    "duration": 615,
    "start_time": "2022-01-14T14:14:58.998Z"
   },
   {
    "duration": 619,
    "start_time": "2022-01-14T14:15:19.012Z"
   },
   {
    "duration": 1965,
    "start_time": "2022-01-14T14:15:45.660Z"
   },
   {
    "duration": 1953,
    "start_time": "2022-01-14T14:15:55.649Z"
   },
   {
    "duration": 3277,
    "start_time": "2022-01-14T14:18:39.653Z"
   },
   {
    "duration": 29863,
    "start_time": "2022-01-14T14:18:51.649Z"
   },
   {
    "duration": 16177,
    "start_time": "2022-01-14T14:19:27.311Z"
   },
   {
    "duration": 15782,
    "start_time": "2022-01-14T14:24:26.952Z"
   },
   {
    "duration": 3255,
    "start_time": "2022-01-14T14:24:50.705Z"
   },
   {
    "duration": 2999,
    "start_time": "2022-01-14T14:25:00.834Z"
   },
   {
    "duration": 1460,
    "start_time": "2022-01-14T14:25:13.211Z"
   },
   {
    "duration": 1696,
    "start_time": "2022-01-14T14:25:20.000Z"
   },
   {
    "duration": 598,
    "start_time": "2022-01-14T14:25:27.496Z"
   },
   {
    "duration": 404,
    "start_time": "2022-01-14T14:25:38.932Z"
   },
   {
    "duration": 359,
    "start_time": "2022-01-14T14:25:53.335Z"
   },
   {
    "duration": 447,
    "start_time": "2022-01-14T14:26:01.353Z"
   },
   {
    "duration": 295,
    "start_time": "2022-01-14T14:26:06.536Z"
   },
   {
    "duration": 1303,
    "start_time": "2022-01-14T14:26:48.048Z"
   },
   {
    "duration": 1464,
    "start_time": "2022-01-14T14:28:00.689Z"
   },
   {
    "duration": 1366,
    "start_time": "2022-01-14T14:28:11.498Z"
   },
   {
    "duration": 1406,
    "start_time": "2022-01-14T14:28:22.652Z"
   },
   {
    "duration": 1716,
    "start_time": "2022-01-14T14:28:36.489Z"
   },
   {
    "duration": 2785,
    "start_time": "2022-01-14T14:31:30.728Z"
   },
   {
    "duration": 1645,
    "start_time": "2022-01-14T14:31:41.925Z"
   },
   {
    "duration": 1509,
    "start_time": "2022-01-14T14:31:55.928Z"
   },
   {
    "duration": 2846,
    "start_time": "2022-01-14T14:32:04.649Z"
   },
   {
    "duration": 2162,
    "start_time": "2022-01-14T14:32:13.162Z"
   },
   {
    "duration": 4321,
    "start_time": "2022-01-14T14:32:16.330Z"
   },
   {
    "duration": 3386,
    "start_time": "2022-01-14T14:32:29.024Z"
   },
   {
    "duration": 4233,
    "start_time": "2022-01-14T14:32:41.107Z"
   },
   {
    "duration": 3051,
    "start_time": "2022-01-14T14:34:16.650Z"
   },
   {
    "duration": 3056,
    "start_time": "2022-01-14T14:34:36.298Z"
   },
   {
    "duration": 2951,
    "start_time": "2022-01-14T14:34:50.245Z"
   },
   {
    "duration": 319,
    "start_time": "2022-01-14T14:37:10.457Z"
   },
   {
    "duration": 310,
    "start_time": "2022-01-14T14:37:24.138Z"
   },
   {
    "duration": 273,
    "start_time": "2022-01-14T14:37:29.082Z"
   },
   {
    "duration": 272,
    "start_time": "2022-01-14T14:37:32.250Z"
   },
   {
    "duration": 378,
    "start_time": "2022-01-14T14:37:36.090Z"
   },
   {
    "duration": 683,
    "start_time": "2022-01-14T14:37:43.498Z"
   },
   {
    "duration": 410,
    "start_time": "2022-01-14T14:39:31.522Z"
   },
   {
    "duration": 416,
    "start_time": "2022-01-14T14:39:38.442Z"
   },
   {
    "duration": 283,
    "start_time": "2022-01-14T14:42:47.786Z"
   },
   {
    "duration": 420,
    "start_time": "2022-01-14T14:43:00.036Z"
   },
   {
    "duration": 567,
    "start_time": "2022-01-14T14:43:05.733Z"
   },
   {
    "duration": 2935,
    "start_time": "2022-01-14T14:43:18.772Z"
   },
   {
    "duration": 2984,
    "start_time": "2022-01-14T14:43:52.652Z"
   },
   {
    "duration": 3076,
    "start_time": "2022-01-14T14:44:08.267Z"
   },
   {
    "duration": 1131,
    "start_time": "2022-01-14T14:44:19.227Z"
   },
   {
    "duration": 815,
    "start_time": "2022-01-14T14:44:26.649Z"
   },
   {
    "duration": 545,
    "start_time": "2022-01-14T14:44:32.327Z"
   },
   {
    "duration": 418,
    "start_time": "2022-01-14T14:44:38.428Z"
   },
   {
    "duration": 434,
    "start_time": "2022-01-14T14:44:43.266Z"
   },
   {
    "duration": 371,
    "start_time": "2022-01-14T14:44:51.146Z"
   },
   {
    "duration": 375,
    "start_time": "2022-01-14T14:44:56.262Z"
   },
   {
    "duration": 337,
    "start_time": "2022-01-14T14:48:24.724Z"
   },
   {
    "duration": 12,
    "start_time": "2022-01-14T14:53:05.014Z"
   },
   {
    "duration": 324,
    "start_time": "2022-01-14T14:53:44.302Z"
   },
   {
    "duration": 557,
    "start_time": "2022-01-14T14:53:55.014Z"
   },
   {
    "duration": 3251,
    "start_time": "2022-01-14T14:54:05.116Z"
   },
   {
    "duration": 1765,
    "start_time": "2022-01-14T14:54:15.141Z"
   },
   {
    "duration": 1129,
    "start_time": "2022-01-14T14:54:24.096Z"
   },
   {
    "duration": 1462,
    "start_time": "2022-01-14T14:54:33.443Z"
   },
   {
    "duration": 1401,
    "start_time": "2022-01-14T14:54:57.041Z"
   },
   {
    "duration": 64,
    "start_time": "2022-01-14T15:09:47.562Z"
   },
   {
    "duration": 13,
    "start_time": "2022-01-14T15:09:53.849Z"
   },
   {
    "duration": 10,
    "start_time": "2022-01-14T15:11:16.694Z"
   },
   {
    "duration": 332,
    "start_time": "2022-01-14T15:13:32.430Z"
   },
   {
    "duration": 417,
    "start_time": "2022-01-14T15:13:40.798Z"
   },
   {
    "duration": 317,
    "start_time": "2022-01-14T15:14:44.078Z"
   },
   {
    "duration": 11,
    "start_time": "2022-01-14T15:14:49.173Z"
   },
   {
    "duration": 11,
    "start_time": "2022-01-14T15:15:11.334Z"
   },
   {
    "duration": 15,
    "start_time": "2022-01-14T15:15:17.549Z"
   },
   {
    "duration": 11,
    "start_time": "2022-01-14T15:15:35.382Z"
   },
   {
    "duration": 10,
    "start_time": "2022-01-14T15:15:45.830Z"
   },
   {
    "duration": 13,
    "start_time": "2022-01-14T15:23:57.559Z"
   },
   {
    "duration": 15,
    "start_time": "2022-01-14T15:24:02.391Z"
   },
   {
    "duration": 14,
    "start_time": "2022-01-14T15:24:10.075Z"
   },
   {
    "duration": 341,
    "start_time": "2022-01-14T15:26:26.385Z"
   },
   {
    "duration": 359,
    "start_time": "2022-01-14T15:26:38.815Z"
   },
   {
    "duration": 25,
    "start_time": "2022-01-14T15:27:04.049Z"
   },
   {
    "duration": 17,
    "start_time": "2022-01-14T15:27:27.256Z"
   },
   {
    "duration": 352,
    "start_time": "2022-01-14T15:28:10.945Z"
   },
   {
    "duration": 17,
    "start_time": "2022-01-14T15:28:18.256Z"
   },
   {
    "duration": 19,
    "start_time": "2022-01-14T15:28:39.442Z"
   },
   {
    "duration": 23,
    "start_time": "2022-01-14T15:33:06.601Z"
   },
   {
    "duration": 21,
    "start_time": "2022-01-14T15:33:12.889Z"
   },
   {
    "duration": 27,
    "start_time": "2022-01-14T15:33:17.218Z"
   },
   {
    "duration": 21,
    "start_time": "2022-01-14T15:33:20.796Z"
   },
   {
    "duration": 30,
    "start_time": "2022-01-14T15:33:54.986Z"
   },
   {
    "duration": 111,
    "start_time": "2022-01-14T15:41:04.380Z"
   },
   {
    "duration": 122,
    "start_time": "2022-01-14T15:41:10.574Z"
   },
   {
    "duration": 136,
    "start_time": "2022-01-14T15:41:18.060Z"
   },
   {
    "duration": 29,
    "start_time": "2022-01-14T15:41:37.636Z"
   },
   {
    "duration": 36,
    "start_time": "2022-01-14T15:41:48.820Z"
   },
   {
    "duration": 36,
    "start_time": "2022-01-14T15:43:31.653Z"
   },
   {
    "duration": 41,
    "start_time": "2022-01-14T15:45:20.383Z"
   },
   {
    "duration": 40,
    "start_time": "2022-01-14T15:45:35.790Z"
   },
   {
    "duration": 69,
    "start_time": "2022-01-14T15:45:44.621Z"
   },
   {
    "duration": 426,
    "start_time": "2022-01-14T15:45:48.501Z"
   },
   {
    "duration": 52,
    "start_time": "2022-01-14T15:46:08.877Z"
   },
   {
    "duration": 405,
    "start_time": "2022-01-14T15:46:14.774Z"
   },
   {
    "duration": 393,
    "start_time": "2022-01-14T15:46:17.942Z"
   },
   {
    "duration": 37,
    "start_time": "2022-01-14T15:46:28.290Z"
   },
   {
    "duration": 183,
    "start_time": "2022-01-14T15:46:36.102Z"
   },
   {
    "duration": 381,
    "start_time": "2022-01-14T15:46:44.766Z"
   },
   {
    "duration": 1035,
    "start_time": "2022-01-14T15:46:49.023Z"
   },
   {
    "duration": 45,
    "start_time": "2022-01-14T15:46:56.944Z"
   },
   {
    "duration": 43,
    "start_time": "2022-01-14T15:47:23.014Z"
   },
   {
    "duration": 36,
    "start_time": "2022-01-14T15:48:17.858Z"
   },
   {
    "duration": 42,
    "start_time": "2022-01-14T15:48:51.358Z"
   },
   {
    "duration": 88,
    "start_time": "2022-01-14T15:50:51.257Z"
   },
   {
    "duration": 1995,
    "start_time": "2022-01-17T09:35:30.350Z"
   },
   {
    "duration": 267,
    "start_time": "2022-01-17T09:35:32.348Z"
   },
   {
    "duration": 1020,
    "start_time": "2022-01-17T09:35:32.624Z"
   },
   {
    "duration": 495,
    "start_time": "2022-01-17T09:35:33.647Z"
   },
   {
    "duration": 2866,
    "start_time": "2022-01-17T09:35:34.144Z"
   },
   {
    "duration": 437,
    "start_time": "2022-01-17T09:35:37.012Z"
   },
   {
    "duration": 371,
    "start_time": "2022-01-17T09:35:37.461Z"
   },
   {
    "duration": 1498,
    "start_time": "2022-01-17T09:35:37.834Z"
   },
   {
    "duration": 82,
    "start_time": "2022-01-17T09:35:39.334Z"
   },
   {
    "duration": -1292,
    "start_time": "2022-01-17T09:39:04.352Z"
   },
   {
    "duration": 4727,
    "start_time": "2022-01-17T09:56:43.272Z"
   },
   {
    "duration": 100,
    "start_time": "2022-01-17T10:37:03.377Z"
   },
   {
    "duration": 1092,
    "start_time": "2022-01-17T10:37:15.180Z"
   },
   {
    "duration": 984,
    "start_time": "2022-01-17T10:37:27.684Z"
   },
   {
    "duration": 267,
    "start_time": "2022-01-17T10:37:32.893Z"
   },
   {
    "duration": 1016,
    "start_time": "2022-01-17T10:37:36.237Z"
   },
   {
    "duration": 661,
    "start_time": "2022-01-17T10:37:43.692Z"
   },
   {
    "duration": 414,
    "start_time": "2022-01-17T10:37:57.447Z"
   },
   {
    "duration": 320,
    "start_time": "2022-01-17T10:38:47.122Z"
   },
   {
    "duration": 116,
    "start_time": "2022-01-17T10:45:43.226Z"
   },
   {
    "duration": 282,
    "start_time": "2022-01-17T10:45:51.868Z"
   },
   {
    "duration": 321,
    "start_time": "2022-01-17T10:48:24.406Z"
   },
   {
    "duration": 454,
    "start_time": "2022-01-17T10:49:22.569Z"
   },
   {
    "duration": 955,
    "start_time": "2022-01-17T10:50:45.765Z"
   },
   {
    "duration": 257,
    "start_time": "2022-01-17T11:00:47.182Z"
   },
   {
    "duration": 262,
    "start_time": "2022-01-17T11:01:02.691Z"
   },
   {
    "duration": 261,
    "start_time": "2022-01-17T11:01:23.480Z"
   },
   {
    "duration": 255,
    "start_time": "2022-01-17T11:01:36.451Z"
   },
   {
    "duration": 295,
    "start_time": "2022-01-17T11:04:42.553Z"
   },
   {
    "duration": 13,
    "start_time": "2022-01-17T11:04:51.279Z"
   },
   {
    "duration": 109,
    "start_time": "2022-01-17T11:07:26.682Z"
   },
   {
    "duration": 853,
    "start_time": "2022-01-17T11:07:34.675Z"
   },
   {
    "duration": 297,
    "start_time": "2022-01-17T11:08:02.109Z"
   },
   {
    "duration": 233,
    "start_time": "2022-01-17T11:08:23.625Z"
   },
   {
    "duration": 231,
    "start_time": "2022-01-17T11:08:54.292Z"
   },
   {
    "duration": 306,
    "start_time": "2022-01-17T11:17:03.400Z"
   },
   {
    "duration": 13,
    "start_time": "2022-01-17T11:17:13.807Z"
   },
   {
    "duration": 433,
    "start_time": "2022-01-17T11:19:41.120Z"
   },
   {
    "duration": 108,
    "start_time": "2022-01-17T11:19:50.361Z"
   },
   {
    "duration": 319,
    "start_time": "2022-01-17T11:19:58.235Z"
   },
   {
    "duration": 1058,
    "start_time": "2022-01-17T11:20:05.051Z"
   },
   {
    "duration": 15,
    "start_time": "2022-01-17T11:21:21.474Z"
   },
   {
    "duration": 71,
    "start_time": "2022-01-17T11:21:34.730Z"
   },
   {
    "duration": 37,
    "start_time": "2022-01-17T11:25:01.960Z"
   },
   {
    "duration": 43,
    "start_time": "2022-01-17T11:26:19.426Z"
   },
   {
    "duration": 46,
    "start_time": "2022-01-17T11:26:41.827Z"
   },
   {
    "duration": 82,
    "start_time": "2022-01-17T11:27:52.397Z"
   },
   {
    "duration": 386,
    "start_time": "2022-01-17T11:28:04.271Z"
   },
   {
    "duration": 367,
    "start_time": "2022-01-17T11:28:07.761Z"
   },
   {
    "duration": 58,
    "start_time": "2022-01-17T11:28:12.003Z"
   },
   {
    "duration": 387,
    "start_time": "2022-01-17T11:29:44.627Z"
   },
   {
    "duration": 60,
    "start_time": "2022-01-17T11:30:04.228Z"
   },
   {
    "duration": 31,
    "start_time": "2022-01-17T11:30:21.999Z"
   },
   {
    "duration": 10,
    "start_time": "2022-01-17T11:37:55.142Z"
   },
   {
    "duration": 19,
    "start_time": "2022-01-17T11:38:38.432Z"
   },
   {
    "duration": 1023,
    "start_time": "2022-01-17T11:39:38.327Z"
   },
   {
    "duration": 255,
    "start_time": "2022-01-17T11:39:39.360Z"
   },
   {
    "duration": 1014,
    "start_time": "2022-01-17T11:39:39.619Z"
   },
   {
    "duration": 487,
    "start_time": "2022-01-17T11:39:40.637Z"
   },
   {
    "duration": 2891,
    "start_time": "2022-01-17T11:39:41.127Z"
   },
   {
    "duration": 424,
    "start_time": "2022-01-17T11:39:44.021Z"
   },
   {
    "duration": 376,
    "start_time": "2022-01-17T11:39:44.448Z"
   },
   {
    "duration": 1473,
    "start_time": "2022-01-17T11:39:44.828Z"
   },
   {
    "duration": 83,
    "start_time": "2022-01-17T11:39:46.304Z"
   },
   {
    "duration": 4763,
    "start_time": "2022-01-17T11:39:46.390Z"
   },
   {
    "duration": 164,
    "start_time": "2022-01-17T11:39:51.160Z"
   },
   {
    "duration": -1235,
    "start_time": "2022-01-17T11:39:52.561Z"
   },
   {
    "duration": -1234,
    "start_time": "2022-01-17T11:39:52.562Z"
   },
   {
    "duration": -1234,
    "start_time": "2022-01-17T11:39:52.563Z"
   },
   {
    "duration": 23,
    "start_time": "2022-01-17T11:40:25.960Z"
   },
   {
    "duration": 791,
    "start_time": "2022-01-17T11:43:20.583Z"
   },
   {
    "duration": 379,
    "start_time": "2022-01-17T11:43:37.183Z"
   },
   {
    "duration": 346,
    "start_time": "2022-01-17T11:44:00.446Z"
   },
   {
    "duration": 374,
    "start_time": "2022-01-17T11:44:15.039Z"
   },
   {
    "duration": 344,
    "start_time": "2022-01-17T11:44:25.344Z"
   },
   {
    "duration": 31,
    "start_time": "2022-01-17T11:44:40.376Z"
   },
   {
    "duration": 37,
    "start_time": "2022-01-17T11:46:05.863Z"
   },
   {
    "duration": 26,
    "start_time": "2022-01-17T11:46:23.200Z"
   },
   {
    "duration": 28,
    "start_time": "2022-01-17T11:46:52.300Z"
   },
   {
    "duration": 29,
    "start_time": "2022-01-17T11:49:26.938Z"
   },
   {
    "duration": 1026,
    "start_time": "2022-01-17T11:50:06.817Z"
   },
   {
    "duration": 267,
    "start_time": "2022-01-17T11:50:07.847Z"
   },
   {
    "duration": 1134,
    "start_time": "2022-01-17T11:50:08.120Z"
   },
   {
    "duration": 477,
    "start_time": "2022-01-17T11:50:09.260Z"
   },
   {
    "duration": 3020,
    "start_time": "2022-01-17T11:50:09.740Z"
   },
   {
    "duration": 448,
    "start_time": "2022-01-17T11:50:12.763Z"
   },
   {
    "duration": 413,
    "start_time": "2022-01-17T11:50:13.214Z"
   },
   {
    "duration": 1608,
    "start_time": "2022-01-17T11:50:13.630Z"
   },
   {
    "duration": 84,
    "start_time": "2022-01-17T11:50:15.241Z"
   },
   {
    "duration": 4633,
    "start_time": "2022-01-17T11:50:15.329Z"
   },
   {
    "duration": 238,
    "start_time": "2022-01-17T11:50:19.964Z"
   },
   {
    "duration": 35,
    "start_time": "2022-01-17T11:50:20.205Z"
   },
   {
    "duration": 32,
    "start_time": "2022-01-17T11:50:20.259Z"
   },
   {
    "duration": 61,
    "start_time": "2022-01-17T11:50:58.121Z"
   },
   {
    "duration": 32,
    "start_time": "2022-01-17T11:53:30.929Z"
   },
   {
    "duration": 30,
    "start_time": "2022-01-17T11:55:01.456Z"
   },
   {
    "duration": 66,
    "start_time": "2022-01-17T11:56:13.246Z"
   },
   {
    "duration": 4895,
    "start_time": "2022-01-17T12:04:43.987Z"
   },
   {
    "duration": 8262,
    "start_time": "2022-01-17T12:42:56.011Z"
   },
   {
    "duration": 8640,
    "start_time": "2022-01-17T13:12:37.278Z"
   },
   {
    "duration": 8643,
    "start_time": "2022-01-17T13:23:53.871Z"
   },
   {
    "duration": 8129,
    "start_time": "2022-01-17T13:24:22.145Z"
   },
   {
    "duration": 8671,
    "start_time": "2022-01-17T13:26:55.976Z"
   },
   {
    "duration": 8468,
    "start_time": "2022-01-17T13:27:32.097Z"
   },
   {
    "duration": 7908,
    "start_time": "2022-01-17T13:29:05.714Z"
   },
   {
    "duration": 8309,
    "start_time": "2022-01-17T13:37:22.528Z"
   },
   {
    "duration": 8586,
    "start_time": "2022-01-17T13:37:47.502Z"
   },
   {
    "duration": 7906,
    "start_time": "2022-01-17T13:38:03.390Z"
   },
   {
    "duration": 8200,
    "start_time": "2022-01-17T13:38:39.589Z"
   },
   {
    "duration": 952,
    "start_time": "2022-01-17T13:39:04.389Z"
   },
   {
    "duration": 268,
    "start_time": "2022-01-17T13:39:05.344Z"
   },
   {
    "duration": 1147,
    "start_time": "2022-01-17T13:39:05.615Z"
   },
   {
    "duration": 475,
    "start_time": "2022-01-17T13:39:06.765Z"
   },
   {
    "duration": 3024,
    "start_time": "2022-01-17T13:39:07.243Z"
   },
   {
    "duration": 419,
    "start_time": "2022-01-17T13:39:10.270Z"
   },
   {
    "duration": 407,
    "start_time": "2022-01-17T13:39:10.691Z"
   },
   {
    "duration": 1502,
    "start_time": "2022-01-17T13:39:11.101Z"
   },
   {
    "duration": 85,
    "start_time": "2022-01-17T13:39:12.607Z"
   },
   {
    "duration": 4660,
    "start_time": "2022-01-17T13:39:12.694Z"
   },
   {
    "duration": 8388,
    "start_time": "2022-01-17T13:39:17.359Z"
   },
   {
    "duration": 238,
    "start_time": "2022-01-17T13:39:25.750Z"
   },
   {
    "duration": 36,
    "start_time": "2022-01-17T13:39:25.990Z"
   },
   {
    "duration": 454,
    "start_time": "2022-01-17T13:39:26.029Z"
   },
   {
    "duration": 51,
    "start_time": "2022-01-17T13:39:48.966Z"
   },
   {
    "duration": 54,
    "start_time": "2022-01-17T13:40:02.553Z"
   },
   {
    "duration": 969,
    "start_time": "2022-01-17T13:41:30.195Z"
   },
   {
    "duration": 1043,
    "start_time": "2022-01-17T13:45:33.326Z"
   },
   {
    "duration": 278,
    "start_time": "2022-01-17T13:45:34.372Z"
   },
   {
    "duration": 1009,
    "start_time": "2022-01-17T13:45:34.653Z"
   },
   {
    "duration": 483,
    "start_time": "2022-01-17T13:45:35.664Z"
   },
   {
    "duration": 2913,
    "start_time": "2022-01-17T13:45:36.149Z"
   },
   {
    "duration": 423,
    "start_time": "2022-01-17T13:45:39.064Z"
   },
   {
    "duration": 377,
    "start_time": "2022-01-17T13:45:39.491Z"
   },
   {
    "duration": 1499,
    "start_time": "2022-01-17T13:45:39.873Z"
   },
   {
    "duration": 86,
    "start_time": "2022-01-17T13:45:41.374Z"
   },
   {
    "duration": 4457,
    "start_time": "2022-01-17T13:45:41.463Z"
   },
   {
    "duration": 8773,
    "start_time": "2022-01-17T13:45:45.923Z"
   },
   {
    "duration": 236,
    "start_time": "2022-01-17T13:45:54.698Z"
   },
   {
    "duration": 43,
    "start_time": "2022-01-17T13:45:54.937Z"
   },
   {
    "duration": 681,
    "start_time": "2022-01-17T13:45:54.983Z"
   },
   {
    "duration": 815,
    "start_time": "2022-01-17T13:46:31.569Z"
   },
   {
    "duration": 750,
    "start_time": "2022-01-17T13:47:20.492Z"
   },
   {
    "duration": 821,
    "start_time": "2022-01-17T13:48:38.500Z"
   },
   {
    "duration": 906,
    "start_time": "2022-01-17T13:50:51.527Z"
   },
   {
    "duration": 104,
    "start_time": "2022-01-17T14:05:29.363Z"
   },
   {
    "duration": 971,
    "start_time": "2022-01-17T14:05:46.849Z"
   },
   {
    "duration": 107,
    "start_time": "2022-01-17T14:06:37.050Z"
   },
   {
    "duration": 156,
    "start_time": "2022-01-17T14:07:30.902Z"
   },
   {
    "duration": 1089,
    "start_time": "2022-01-17T14:07:42.074Z"
   },
   {
    "duration": 7,
    "start_time": "2022-01-17T14:09:09.044Z"
   },
   {
    "duration": 7,
    "start_time": "2022-01-17T14:09:26.347Z"
   },
   {
    "duration": 15,
    "start_time": "2022-01-17T14:11:29.161Z"
   },
   {
    "duration": 11,
    "start_time": "2022-01-17T14:15:13.744Z"
   },
   {
    "duration": 12,
    "start_time": "2022-01-17T14:17:02.492Z"
   },
   {
    "duration": 1010,
    "start_time": "2022-01-17T14:17:30.880Z"
   },
   {
    "duration": 291,
    "start_time": "2022-01-17T14:17:31.893Z"
   },
   {
    "duration": 1148,
    "start_time": "2022-01-17T14:17:32.187Z"
   },
   {
    "duration": 541,
    "start_time": "2022-01-17T14:17:33.338Z"
   },
   {
    "duration": 3034,
    "start_time": "2022-01-17T14:17:33.882Z"
   },
   {
    "duration": 415,
    "start_time": "2022-01-17T14:17:36.919Z"
   },
   {
    "duration": 361,
    "start_time": "2022-01-17T14:17:37.337Z"
   },
   {
    "duration": 1576,
    "start_time": "2022-01-17T14:17:37.700Z"
   },
   {
    "duration": 81,
    "start_time": "2022-01-17T14:17:39.280Z"
   },
   {
    "duration": 4372,
    "start_time": "2022-01-17T14:17:39.364Z"
   },
   {
    "duration": 8167,
    "start_time": "2022-01-17T14:17:43.738Z"
   },
   {
    "duration": 241,
    "start_time": "2022-01-17T14:17:51.908Z"
   },
   {
    "duration": 41,
    "start_time": "2022-01-17T14:17:52.151Z"
   },
   {
    "duration": 967,
    "start_time": "2022-01-17T14:17:52.194Z"
   },
   {
    "duration": 17,
    "start_time": "2022-01-17T14:17:53.164Z"
   },
   {
    "duration": 11,
    "start_time": "2022-01-17T14:17:53.183Z"
   },
   {
    "duration": 11,
    "start_time": "2022-01-17T14:20:56.096Z"
   },
   {
    "duration": 11,
    "start_time": "2022-01-17T14:26:30.269Z"
   },
   {
    "duration": 989,
    "start_time": "2022-01-17T14:26:59.712Z"
   },
   {
    "duration": 67,
    "start_time": "2022-01-17T14:27:46.019Z"
   },
   {
    "duration": 15,
    "start_time": "2022-01-17T14:33:26.305Z"
   },
   {
    "duration": 8,
    "start_time": "2022-01-17T14:34:01.126Z"
   },
   {
    "duration": 10,
    "start_time": "2022-01-17T14:34:22.089Z"
   },
   {
    "duration": 8,
    "start_time": "2022-01-17T14:34:54.230Z"
   },
   {
    "duration": 520,
    "start_time": "2022-01-17T15:02:50.991Z"
   },
   {
    "duration": 3645,
    "start_time": "2022-01-17T15:04:40.264Z"
   },
   {
    "duration": 3576,
    "start_time": "2022-01-17T15:20:50.693Z"
   },
   {
    "duration": 1053,
    "start_time": "2022-01-20T15:32:04.661Z"
   },
   {
    "duration": 269,
    "start_time": "2022-01-20T15:32:05.716Z"
   },
   {
    "duration": 1003,
    "start_time": "2022-01-20T15:32:05.988Z"
   },
   {
    "duration": 550,
    "start_time": "2022-01-20T15:32:06.994Z"
   },
   {
    "duration": 3478,
    "start_time": "2022-01-20T15:32:07.547Z"
   },
   {
    "duration": 438,
    "start_time": "2022-01-20T15:32:11.031Z"
   },
   {
    "duration": 383,
    "start_time": "2022-01-20T15:32:11.472Z"
   },
   {
    "duration": 1483,
    "start_time": "2022-01-20T15:32:11.861Z"
   },
   {
    "duration": 87,
    "start_time": "2022-01-20T15:32:13.348Z"
   },
   {
    "duration": 4727,
    "start_time": "2022-01-20T15:32:13.439Z"
   },
   {
    "duration": 8544,
    "start_time": "2022-01-20T15:32:18.168Z"
   },
   {
    "duration": 241,
    "start_time": "2022-01-20T15:32:26.715Z"
   },
   {
    "duration": 36,
    "start_time": "2022-01-20T15:32:26.958Z"
   },
   {
    "duration": 1081,
    "start_time": "2022-01-20T15:32:26.996Z"
   },
   {
    "duration": 15,
    "start_time": "2022-01-20T15:32:28.080Z"
   },
   {
    "duration": 36,
    "start_time": "2022-01-20T15:32:28.097Z"
   },
   {
    "duration": 11,
    "start_time": "2022-01-20T15:32:28.135Z"
   },
   {
    "duration": 10,
    "start_time": "2022-01-20T15:32:28.149Z"
   },
   {
    "duration": 3449,
    "start_time": "2022-01-20T15:32:28.162Z"
   },
   {
    "duration": 187,
    "start_time": "2022-01-21T10:13:08.448Z"
   },
   {
    "duration": 756,
    "start_time": "2022-01-21T10:13:14.391Z"
   },
   {
    "duration": 1155,
    "start_time": "2022-01-21T10:13:19.336Z"
   },
   {
    "duration": 188,
    "start_time": "2022-01-21T10:14:10.218Z"
   },
   {
    "duration": 54,
    "start_time": "2022-01-21T10:14:21.608Z"
   },
   {
    "duration": 57,
    "start_time": "2022-01-21T10:17:31.476Z"
   },
   {
    "duration": 63,
    "start_time": "2022-01-21T10:21:31.236Z"
   },
   {
    "duration": 180,
    "start_time": "2022-01-21T10:23:06.906Z"
   },
   {
    "duration": 175,
    "start_time": "2022-01-21T10:30:46.229Z"
   },
   {
    "duration": 728,
    "start_time": "2022-01-21T10:30:51.451Z"
   },
   {
    "duration": 112,
    "start_time": "2022-01-21T10:30:55.800Z"
   },
   {
    "duration": 69,
    "start_time": "2022-01-21T10:32:47.232Z"
   },
   {
    "duration": 72,
    "start_time": "2022-01-21T10:33:07.544Z"
   },
   {
    "duration": 71,
    "start_time": "2022-01-21T10:35:31.222Z"
   },
   {
    "duration": 80,
    "start_time": "2022-01-21T10:35:49.230Z"
   },
   {
    "duration": 72,
    "start_time": "2022-01-21T10:39:45.693Z"
   },
   {
    "duration": 108,
    "start_time": "2022-01-21T10:39:59.122Z"
   },
   {
    "duration": 127,
    "start_time": "2022-01-21T10:40:03.626Z"
   },
   {
    "duration": 189,
    "start_time": "2022-01-21T10:56:18.474Z"
   },
   {
    "duration": 77,
    "start_time": "2022-01-21T11:01:52.776Z"
   },
   {
    "duration": 85,
    "start_time": "2022-01-21T11:02:14.399Z"
   },
   {
    "duration": 105,
    "start_time": "2022-01-21T11:02:39.775Z"
   },
   {
    "duration": 98,
    "start_time": "2022-01-21T11:04:00.086Z"
   },
   {
    "duration": 101,
    "start_time": "2022-01-21T11:04:05.201Z"
   },
   {
    "duration": 93,
    "start_time": "2022-01-21T11:04:10.623Z"
   },
   {
    "duration": 101,
    "start_time": "2022-01-21T11:04:15.074Z"
   },
   {
    "duration": 93,
    "start_time": "2022-01-21T11:05:26.411Z"
   },
   {
    "duration": 92,
    "start_time": "2022-01-21T11:07:21.933Z"
   },
   {
    "duration": 92,
    "start_time": "2022-01-21T11:07:32.163Z"
   },
   {
    "duration": 103,
    "start_time": "2022-01-21T11:07:46.566Z"
   },
   {
    "duration": 94,
    "start_time": "2022-01-21T11:11:56.476Z"
   },
   {
    "duration": 107,
    "start_time": "2022-01-21T11:12:01.750Z"
   },
   {
    "duration": 102,
    "start_time": "2022-01-21T11:12:33.271Z"
   },
   {
    "duration": 103,
    "start_time": "2022-01-21T11:12:49.771Z"
   },
   {
    "duration": 93,
    "start_time": "2022-01-21T11:12:56.876Z"
   },
   {
    "duration": 96,
    "start_time": "2022-01-21T11:13:02.191Z"
   },
   {
    "duration": 108,
    "start_time": "2022-01-21T11:13:06.452Z"
   },
   {
    "duration": 101,
    "start_time": "2022-01-21T11:13:21.068Z"
   },
   {
    "duration": 102,
    "start_time": "2022-01-21T11:13:41.819Z"
   },
   {
    "duration": 96,
    "start_time": "2022-01-21T11:13:47.219Z"
   },
   {
    "duration": 100,
    "start_time": "2022-01-21T11:14:02.762Z"
   },
   {
    "duration": 107,
    "start_time": "2022-01-21T11:14:07.619Z"
   },
   {
    "duration": 102,
    "start_time": "2022-01-21T11:17:32.711Z"
   },
   {
    "duration": 94,
    "start_time": "2022-01-21T11:18:54.306Z"
   },
   {
    "duration": 104,
    "start_time": "2022-01-21T11:18:59.916Z"
   },
   {
    "duration": 131,
    "start_time": "2022-01-21T11:19:04.099Z"
   },
   {
    "duration": 105,
    "start_time": "2022-01-21T11:19:51.861Z"
   },
   {
    "duration": 108,
    "start_time": "2022-01-21T11:19:55.038Z"
   },
   {
    "duration": 759,
    "start_time": "2022-01-21T11:24:10.805Z"
   },
   {
    "duration": 67,
    "start_time": "2022-01-21T11:24:11.566Z"
   },
   {
    "duration": 706,
    "start_time": "2022-01-21T11:24:10.929Z"
   },
   {
    "duration": 660,
    "start_time": "2022-01-21T11:24:10.976Z"
   },
   {
    "duration": 653,
    "start_time": "2022-01-21T11:24:10.984Z"
   },
   {
    "duration": 652,
    "start_time": "2022-01-21T11:24:10.986Z"
   },
   {
    "duration": 650,
    "start_time": "2022-01-21T11:24:10.989Z"
   },
   {
    "duration": 650,
    "start_time": "2022-01-21T11:24:10.990Z"
   },
   {
    "duration": 648,
    "start_time": "2022-01-21T11:24:10.992Z"
   },
   {
    "duration": 648,
    "start_time": "2022-01-21T11:24:10.993Z"
   },
   {
    "duration": 647,
    "start_time": "2022-01-21T11:24:10.995Z"
   },
   {
    "duration": 647,
    "start_time": "2022-01-21T11:24:10.996Z"
   },
   {
    "duration": 647,
    "start_time": "2022-01-21T11:24:10.997Z"
   },
   {
    "duration": 647,
    "start_time": "2022-01-21T11:24:10.998Z"
   },
   {
    "duration": 647,
    "start_time": "2022-01-21T11:24:10.999Z"
   },
   {
    "duration": 647,
    "start_time": "2022-01-21T11:24:11.000Z"
   },
   {
    "duration": 647,
    "start_time": "2022-01-21T11:24:11.001Z"
   },
   {
    "duration": 647,
    "start_time": "2022-01-21T11:24:11.002Z"
   },
   {
    "duration": 647,
    "start_time": "2022-01-21T11:24:11.003Z"
   },
   {
    "duration": 101,
    "start_time": "2022-01-21T11:25:52.403Z"
   },
   {
    "duration": 94,
    "start_time": "2022-01-21T11:26:04.268Z"
   },
   {
    "duration": 247,
    "start_time": "2022-01-21T11:32:29.992Z"
   },
   {
    "duration": 100,
    "start_time": "2022-01-21T11:32:43.222Z"
   },
   {
    "duration": 159,
    "start_time": "2022-01-21T11:32:46.817Z"
   },
   {
    "duration": 101,
    "start_time": "2022-01-21T11:33:10.750Z"
   },
   {
    "duration": 51,
    "start_time": "2022-01-21T11:33:26.055Z"
   },
   {
    "duration": 105,
    "start_time": "2022-01-21T11:33:31.795Z"
   },
   {
    "duration": 93,
    "start_time": "2022-01-21T11:42:29.776Z"
   },
   {
    "duration": 49,
    "start_time": "2022-01-21T11:42:56.598Z"
   },
   {
    "duration": 99,
    "start_time": "2022-01-21T11:43:13.672Z"
   },
   {
    "duration": 93,
    "start_time": "2022-01-21T11:43:21.874Z"
   },
   {
    "duration": 115,
    "start_time": "2022-01-21T11:43:34.599Z"
   },
   {
    "duration": 105,
    "start_time": "2022-01-21T11:46:06.108Z"
   },
   {
    "duration": 101,
    "start_time": "2022-01-21T11:46:30.301Z"
   },
   {
    "duration": 107,
    "start_time": "2022-01-21T11:46:34.256Z"
   },
   {
    "duration": 160,
    "start_time": "2022-01-21T11:49:10.469Z"
   },
   {
    "duration": 95,
    "start_time": "2022-01-21T11:49:30.191Z"
   },
   {
    "duration": 93,
    "start_time": "2022-01-21T11:49:39.620Z"
   },
   {
    "duration": 90,
    "start_time": "2022-01-21T11:49:55.291Z"
   },
   {
    "duration": 105,
    "start_time": "2022-01-21T11:49:59.531Z"
   },
   {
    "duration": 103,
    "start_time": "2022-01-21T11:59:20.264Z"
   },
   {
    "duration": 123,
    "start_time": "2022-01-21T11:59:23.952Z"
   },
   {
    "duration": 102,
    "start_time": "2022-01-21T11:59:42.519Z"
   },
   {
    "duration": 132,
    "start_time": "2022-01-21T11:59:46.864Z"
   },
   {
    "duration": 60,
    "start_time": "2022-01-21T12:01:03.335Z"
   },
   {
    "duration": 191,
    "start_time": "2022-01-21T12:01:09.090Z"
   },
   {
    "duration": 110,
    "start_time": "2022-01-21T12:01:31.465Z"
   },
   {
    "duration": 1386,
    "start_time": "2022-01-21T12:01:35.121Z"
   },
   {
    "duration": 110,
    "start_time": "2022-01-21T12:13:35.647Z"
   },
   {
    "duration": 92,
    "start_time": "2022-01-21T12:13:40.510Z"
   },
   {
    "duration": 102,
    "start_time": "2022-01-21T12:14:48.509Z"
   },
   {
    "duration": 91,
    "start_time": "2022-01-21T12:17:54.889Z"
   },
   {
    "duration": 640,
    "start_time": "2022-01-21T12:19:24.471Z"
   },
   {
    "duration": 46,
    "start_time": "2022-01-21T12:23:46.514Z"
   },
   {
    "duration": 97,
    "start_time": "2022-01-21T12:23:52.945Z"
   },
   {
    "duration": 106,
    "start_time": "2022-01-21T12:24:56.595Z"
   },
   {
    "duration": 113,
    "start_time": "2022-01-21T12:25:32.186Z"
   },
   {
    "duration": 102,
    "start_time": "2022-01-21T12:26:39.828Z"
   },
   {
    "duration": 97,
    "start_time": "2022-01-21T12:27:15.037Z"
   },
   {
    "duration": 114,
    "start_time": "2022-01-21T12:27:38.483Z"
   },
   {
    "duration": 1323,
    "start_time": "2022-01-21T12:27:42.381Z"
   },
   {
    "duration": 94,
    "start_time": "2022-01-21T12:31:53.622Z"
   },
   {
    "duration": 103,
    "start_time": "2022-01-21T12:32:15.594Z"
   },
   {
    "duration": 96,
    "start_time": "2022-01-21T12:33:57.532Z"
   },
   {
    "duration": 103,
    "start_time": "2022-01-21T12:36:25.667Z"
   },
   {
    "duration": 109,
    "start_time": "2022-01-21T12:36:49.860Z"
   },
   {
    "duration": 1322,
    "start_time": "2022-01-21T12:36:53.492Z"
   },
   {
    "duration": 588,
    "start_time": "2022-01-21T12:41:27.575Z"
   },
   {
    "duration": 437,
    "start_time": "2022-01-21T12:48:10.089Z"
   },
   {
    "duration": 412,
    "start_time": "2022-01-21T12:48:24.175Z"
   },
   {
    "duration": 816,
    "start_time": "2022-01-21T12:48:37.142Z"
   },
   {
    "duration": 403,
    "start_time": "2022-01-21T12:48:48.670Z"
   },
   {
    "duration": 45,
    "start_time": "2022-01-21T12:48:57.006Z"
   },
   {
    "duration": 447,
    "start_time": "2022-01-21T12:49:05.806Z"
   },
   {
    "duration": 413,
    "start_time": "2022-01-21T12:53:51.680Z"
   },
   {
    "duration": 538,
    "start_time": "2022-01-21T13:03:07.923Z"
   },
   {
    "duration": 432,
    "start_time": "2022-01-21T13:03:15.612Z"
   },
   {
    "duration": 401,
    "start_time": "2022-01-21T13:03:19.323Z"
   },
   {
    "duration": 55,
    "start_time": "2022-01-21T13:04:25.828Z"
   },
   {
    "duration": 95,
    "start_time": "2022-01-21T13:04:32.173Z"
   },
   {
    "duration": 1415,
    "start_time": "2022-01-21T13:04:36.772Z"
   },
   {
    "duration": 581,
    "start_time": "2022-01-21T13:04:47.828Z"
   },
   {
    "duration": 419,
    "start_time": "2022-01-21T13:05:10.677Z"
   },
   {
    "duration": 52,
    "start_time": "2022-01-21T13:06:14.605Z"
   },
   {
    "duration": 233,
    "start_time": "2022-01-21T13:06:22.812Z"
   },
   {
    "duration": 621,
    "start_time": "2022-01-21T13:06:34.983Z"
   },
   {
    "duration": 654,
    "start_time": "2022-01-21T13:06:44.398Z"
   },
   {
    "duration": 2668,
    "start_time": "2022-01-21T13:07:00.678Z"
   },
   {
    "duration": 78,
    "start_time": "2022-01-21T13:07:39.454Z"
   },
   {
    "duration": 132,
    "start_time": "2022-01-21T13:07:46.246Z"
   },
   {
    "duration": 433,
    "start_time": "2022-01-21T13:07:57.183Z"
   },
   {
    "duration": 561,
    "start_time": "2022-01-21T13:10:27.898Z"
   },
   {
    "duration": 450,
    "start_time": "2022-01-21T13:10:45.343Z"
   },
   {
    "duration": 222,
    "start_time": "2022-01-21T13:11:11.335Z"
   },
   {
    "duration": 423,
    "start_time": "2022-01-21T13:11:18.638Z"
   },
   {
    "duration": 430,
    "start_time": "2022-01-21T13:11:25.543Z"
   },
   {
    "duration": 328,
    "start_time": "2022-01-21T13:11:43.719Z"
   },
   {
    "duration": 435,
    "start_time": "2022-01-21T13:12:11.943Z"
   },
   {
    "duration": 312,
    "start_time": "2022-01-21T13:12:18.833Z"
   },
   {
    "duration": 703,
    "start_time": "2022-01-21T13:16:01.712Z"
   },
   {
    "duration": 407,
    "start_time": "2022-01-21T13:16:12.153Z"
   },
   {
    "duration": 311,
    "start_time": "2022-01-21T13:16:18.612Z"
   },
   {
    "duration": 326,
    "start_time": "2022-01-21T13:16:56.529Z"
   },
   {
    "duration": 331,
    "start_time": "2022-01-21T13:18:32.057Z"
   },
   {
    "duration": 323,
    "start_time": "2022-01-21T13:19:11.195Z"
   },
   {
    "duration": 297,
    "start_time": "2022-01-21T13:19:52.738Z"
   },
   {
    "duration": 390,
    "start_time": "2022-01-21T13:20:21.458Z"
   },
   {
    "duration": 303,
    "start_time": "2022-01-21T13:21:26.371Z"
   },
   {
    "duration": 312,
    "start_time": "2022-01-21T13:22:06.850Z"
   },
   {
    "duration": 1930,
    "start_time": "2022-01-21T13:22:18.667Z"
   },
   {
    "duration": 1644,
    "start_time": "2022-01-21T13:23:16.571Z"
   },
   {
    "duration": 1703,
    "start_time": "2022-01-21T13:23:28.147Z"
   },
   {
    "duration": 1712,
    "start_time": "2022-01-21T13:24:07.892Z"
   },
   {
    "duration": 1723,
    "start_time": "2022-01-21T13:24:16.368Z"
   },
   {
    "duration": 1570,
    "start_time": "2022-01-21T13:27:01.692Z"
   },
   {
    "duration": 1804,
    "start_time": "2022-01-21T13:27:14.701Z"
   },
   {
    "duration": 1771,
    "start_time": "2022-01-21T13:27:34.534Z"
   },
   {
    "duration": 1522,
    "start_time": "2022-01-21T13:27:48.829Z"
   },
   {
    "duration": 1961,
    "start_time": "2022-01-21T13:28:29.156Z"
   },
   {
    "duration": 136,
    "start_time": "2022-01-21T13:28:51.389Z"
   },
   {
    "duration": 1484,
    "start_time": "2022-01-21T13:29:24.894Z"
   },
   {
    "duration": 1512,
    "start_time": "2022-01-21T13:29:48.791Z"
   },
   {
    "duration": 2310,
    "start_time": "2022-01-21T13:30:12.238Z"
   },
   {
    "duration": 268,
    "start_time": "2022-01-21T13:30:19.369Z"
   },
   {
    "duration": 436,
    "start_time": "2022-01-21T13:30:25.414Z"
   },
   {
    "duration": 1132,
    "start_time": "2022-01-21T13:30:32.682Z"
   },
   {
    "duration": 46,
    "start_time": "2022-01-21T13:31:01.783Z"
   },
   {
    "duration": 1626,
    "start_time": "2022-01-21T13:32:21.894Z"
   },
   {
    "duration": 261,
    "start_time": "2022-01-21T13:34:12.759Z"
   },
   {
    "duration": 433,
    "start_time": "2022-01-21T13:34:45.215Z"
   },
   {
    "duration": 1271,
    "start_time": "2022-01-21T13:34:55.078Z"
   },
   {
    "duration": 305,
    "start_time": "2022-01-21T13:38:32.061Z"
   },
   {
    "duration": 1121,
    "start_time": "2022-01-21T13:38:41.527Z"
   },
   {
    "duration": 1138,
    "start_time": "2022-01-21T13:39:12.290Z"
   },
   {
    "duration": 290,
    "start_time": "2022-01-21T13:39:31.329Z"
   },
   {
    "duration": 299,
    "start_time": "2022-01-21T13:39:53.154Z"
   },
   {
    "duration": 821,
    "start_time": "2022-01-21T13:40:12.652Z"
   },
   {
    "duration": 270,
    "start_time": "2022-01-21T13:45:23.676Z"
   },
   {
    "duration": 911,
    "start_time": "2022-01-21T13:45:34.236Z"
   },
   {
    "duration": 931,
    "start_time": "2022-01-21T13:51:40.683Z"
   },
   {
    "duration": 88,
    "start_time": "2022-01-21T13:58:07.190Z"
   },
   {
    "duration": 3242,
    "start_time": "2022-01-21T13:58:16.963Z"
   },
   {
    "duration": 3111,
    "start_time": "2022-01-21T13:58:35.589Z"
   },
   {
    "duration": 5729,
    "start_time": "2022-01-21T13:59:39.926Z"
   },
   {
    "duration": 5663,
    "start_time": "2022-01-21T13:59:49.289Z"
   },
   {
    "duration": 155,
    "start_time": "2022-01-21T14:01:57.654Z"
   },
   {
    "duration": 642,
    "start_time": "2022-01-21T14:02:11.680Z"
   },
   {
    "duration": 150,
    "start_time": "2022-01-21T14:04:12.463Z"
   },
   {
    "duration": 55,
    "start_time": "2022-01-21T14:15:25.299Z"
   },
   {
    "duration": 3262,
    "start_time": "2022-01-21T14:16:04.652Z"
   },
   {
    "duration": 3419,
    "start_time": "2022-01-21T14:16:25.162Z"
   },
   {
    "duration": 3324,
    "start_time": "2022-01-21T14:16:37.638Z"
   },
   {
    "duration": 3848,
    "start_time": "2022-01-21T14:16:48.067Z"
   },
   {
    "duration": 664,
    "start_time": "2022-01-21T14:17:16.568Z"
   },
   {
    "duration": 675,
    "start_time": "2022-01-21T14:17:33.754Z"
   },
   {
    "duration": 637,
    "start_time": "2022-01-21T14:18:51.390Z"
   },
   {
    "duration": 427,
    "start_time": "2022-01-21T14:19:56.698Z"
   },
   {
    "duration": 721,
    "start_time": "2022-01-21T14:21:25.243Z"
   },
   {
    "duration": 1287,
    "start_time": "2022-01-21T14:21:25.966Z"
   },
   {
    "duration": 624,
    "start_time": "2022-01-21T14:21:27.255Z"
   },
   {
    "duration": 305,
    "start_time": "2022-01-21T14:21:27.881Z"
   },
   {
    "duration": 1117,
    "start_time": "2022-01-21T14:21:28.188Z"
   },
   {
    "duration": 281,
    "start_time": "2022-01-21T14:21:29.307Z"
   },
   {
    "duration": 256,
    "start_time": "2022-01-21T14:21:29.590Z"
   },
   {
    "duration": 996,
    "start_time": "2022-01-21T14:21:29.849Z"
   },
   {
    "duration": 70,
    "start_time": "2022-01-21T14:21:30.847Z"
   },
   {
    "duration": 2918,
    "start_time": "2022-01-21T14:21:30.919Z"
   },
   {
    "duration": 5477,
    "start_time": "2022-01-21T14:21:33.839Z"
   },
   {
    "duration": 156,
    "start_time": "2022-01-21T14:21:39.318Z"
   },
   {
    "duration": 35,
    "start_time": "2022-01-21T14:21:39.475Z"
   },
   {
    "duration": 12,
    "start_time": "2022-01-21T14:21:40.159Z"
   },
   {
    "duration": 35,
    "start_time": "2022-01-21T14:21:40.172Z"
   },
   {
    "duration": 25,
    "start_time": "2022-01-21T14:21:40.209Z"
   },
   {
    "duration": 25,
    "start_time": "2022-01-21T14:21:40.236Z"
   },
   {
    "duration": 2186,
    "start_time": "2022-01-21T14:21:40.262Z"
   },
   {
    "duration": 652,
    "start_time": "2022-01-21T14:21:42.450Z"
   },
   {
    "duration": 13,
    "start_time": "2022-01-21T14:22:53.293Z"
   },
   {
    "duration": 9,
    "start_time": "2022-01-21T14:22:55.461Z"
   },
   {
    "duration": 9,
    "start_time": "2022-01-21T14:22:57.780Z"
   },
   {
    "duration": 6,
    "start_time": "2022-01-21T14:23:00.917Z"
   },
   {
    "duration": 2728,
    "start_time": "2022-01-21T14:23:03.428Z"
   },
   {
    "duration": 2594,
    "start_time": "2022-01-21T14:23:16.861Z"
   },
   {
    "duration": 2198,
    "start_time": "2022-01-21T14:23:22.764Z"
   },
   {
    "duration": 2419,
    "start_time": "2022-01-21T14:24:57.501Z"
   },
   {
    "duration": 137,
    "start_time": "2022-01-21T14:25:09.798Z"
   },
   {
    "duration": 2283,
    "start_time": "2022-01-21T14:25:21.829Z"
   },
   {
    "duration": 2429,
    "start_time": "2022-01-21T14:26:16.871Z"
   },
   {
    "duration": 4976,
    "start_time": "2022-01-21T14:26:46.903Z"
   },
   {
    "duration": 191,
    "start_time": "2022-01-21T14:46:53.308Z"
   },
   {
    "duration": 151,
    "start_time": "2022-01-21T14:47:43.371Z"
   },
   {
    "duration": 44,
    "start_time": "2022-01-21T14:56:11.611Z"
   },
   {
    "duration": 141,
    "start_time": "2022-01-21T14:56:17.460Z"
   },
   {
    "duration": 142,
    "start_time": "2022-01-21T14:58:51.234Z"
   },
   {
    "duration": 178,
    "start_time": "2022-01-21T14:59:42.907Z"
   },
   {
    "duration": 151,
    "start_time": "2022-01-21T15:00:27.194Z"
   },
   {
    "duration": 382,
    "start_time": "2022-01-24T14:07:36.280Z"
   },
   {
    "duration": 684,
    "start_time": "2022-01-24T14:07:41.523Z"
   },
   {
    "duration": 1331,
    "start_time": "2022-01-24T14:07:45.599Z"
   },
   {
    "duration": 89,
    "start_time": "2022-01-24T14:07:59.437Z"
   },
   {
    "duration": 100,
    "start_time": "2022-01-24T14:08:23.877Z"
   },
   {
    "duration": 80,
    "start_time": "2022-01-24T14:08:39.173Z"
   },
   {
    "duration": 79,
    "start_time": "2022-01-24T14:09:16.469Z"
   },
   {
    "duration": 114,
    "start_time": "2022-01-24T14:09:22.971Z"
   },
   {
    "duration": 85,
    "start_time": "2022-01-24T14:09:35.291Z"
   },
   {
    "duration": 84,
    "start_time": "2022-01-24T14:09:50.244Z"
   },
   {
    "duration": 88,
    "start_time": "2022-01-24T14:09:53.580Z"
   },
   {
    "duration": 1251,
    "start_time": "2022-01-24T14:09:57.171Z"
   },
   {
    "duration": 102,
    "start_time": "2022-01-24T14:10:03.901Z"
   },
   {
    "duration": 88,
    "start_time": "2022-01-24T14:10:16.067Z"
   },
   {
    "duration": 1281,
    "start_time": "2022-01-24T14:10:26.094Z"
   },
   {
    "duration": 91,
    "start_time": "2022-01-24T14:11:00.572Z"
   },
   {
    "duration": 1328,
    "start_time": "2022-01-24T14:11:04.215Z"
   },
   {
    "duration": 97,
    "start_time": "2022-01-24T14:11:27.997Z"
   },
   {
    "duration": 106,
    "start_time": "2022-01-24T14:22:45.543Z"
   },
   {
    "duration": 88,
    "start_time": "2022-01-24T14:22:50.766Z"
   },
   {
    "duration": 718,
    "start_time": "2022-01-24T14:32:18.337Z"
   },
   {
    "duration": 1418,
    "start_time": "2022-01-24T14:32:19.057Z"
   },
   {
    "duration": 654,
    "start_time": "2022-01-24T14:32:20.478Z"
   },
   {
    "duration": 295,
    "start_time": "2022-01-24T14:32:21.134Z"
   },
   {
    "duration": 1110,
    "start_time": "2022-01-24T14:32:21.431Z"
   },
   {
    "duration": 290,
    "start_time": "2022-01-24T14:32:22.542Z"
   },
   {
    "duration": 252,
    "start_time": "2022-01-24T14:32:22.834Z"
   },
   {
    "duration": 965,
    "start_time": "2022-01-24T14:32:23.089Z"
   },
   {
    "duration": 62,
    "start_time": "2022-01-24T14:32:24.056Z"
   },
   {
    "duration": 3146,
    "start_time": "2022-01-24T14:32:24.119Z"
   },
   {
    "duration": 5962,
    "start_time": "2022-01-24T14:32:27.266Z"
   },
   {
    "duration": 144,
    "start_time": "2022-01-24T14:32:33.230Z"
   },
   {
    "duration": 27,
    "start_time": "2022-01-24T14:32:33.377Z"
   },
   {
    "duration": 693,
    "start_time": "2022-01-24T14:32:33.405Z"
   },
   {
    "duration": 10,
    "start_time": "2022-01-24T14:32:34.099Z"
   },
   {
    "duration": 6,
    "start_time": "2022-01-24T14:32:34.110Z"
   },
   {
    "duration": 6,
    "start_time": "2022-01-24T14:32:34.118Z"
   },
   {
    "duration": 5,
    "start_time": "2022-01-24T14:32:34.125Z"
   },
   {
    "duration": 324,
    "start_time": "2022-01-24T14:32:34.131Z"
   },
   {
    "duration": 7700,
    "start_time": "2022-01-24T14:34:20.490Z"
   },
   {
    "duration": 83,
    "start_time": "2022-01-24T14:34:28.698Z"
   },
   {
    "duration": 8053,
    "start_time": "2022-01-24T14:34:34.141Z"
   },
   {
    "duration": 108,
    "start_time": "2022-01-24T14:35:06.199Z"
   },
   {
    "duration": 98,
    "start_time": "2022-01-24T14:35:16.658Z"
   },
   {
    "duration": 1394,
    "start_time": "2022-01-24T14:35:20.557Z"
   },
   {
    "duration": 99,
    "start_time": "2022-01-24T14:35:43.636Z"
   },
   {
    "duration": 95,
    "start_time": "2022-01-24T14:35:47.962Z"
   },
   {
    "duration": 1399,
    "start_time": "2022-01-24T14:35:55.221Z"
   },
   {
    "duration": 100,
    "start_time": "2022-01-24T14:36:34.491Z"
   },
   {
    "duration": 101,
    "start_time": "2022-01-24T14:36:39.451Z"
   },
   {
    "duration": 1389,
    "start_time": "2022-01-24T14:36:44.620Z"
   },
   {
    "duration": 818,
    "start_time": "2022-01-24T14:37:01.369Z"
   },
   {
    "duration": 1397,
    "start_time": "2022-01-24T14:37:02.189Z"
   },
   {
    "duration": 655,
    "start_time": "2022-01-24T14:37:03.588Z"
   },
   {
    "duration": 304,
    "start_time": "2022-01-24T14:37:04.245Z"
   },
   {
    "duration": 1163,
    "start_time": "2022-01-24T14:37:04.550Z"
   },
   {
    "duration": 291,
    "start_time": "2022-01-24T14:37:05.715Z"
   },
   {
    "duration": 252,
    "start_time": "2022-01-24T14:37:06.008Z"
   },
   {
    "duration": 1054,
    "start_time": "2022-01-24T14:37:06.262Z"
   },
   {
    "duration": 60,
    "start_time": "2022-01-24T14:37:07.318Z"
   },
   {
    "duration": 3395,
    "start_time": "2022-01-24T14:37:07.380Z"
   },
   {
    "duration": 5931,
    "start_time": "2022-01-24T14:37:10.777Z"
   },
   {
    "duration": 148,
    "start_time": "2022-01-24T14:37:16.710Z"
   },
   {
    "duration": 31,
    "start_time": "2022-01-24T14:37:16.860Z"
   },
   {
    "duration": 787,
    "start_time": "2022-01-24T14:37:16.894Z"
   },
   {
    "duration": 14,
    "start_time": "2022-01-24T14:37:17.684Z"
   },
   {
    "duration": 10,
    "start_time": "2022-01-24T14:37:17.699Z"
   },
   {
    "duration": 9,
    "start_time": "2022-01-24T14:37:17.711Z"
   },
   {
    "duration": 6,
    "start_time": "2022-01-24T14:37:17.721Z"
   },
   {
    "duration": 478,
    "start_time": "2022-01-24T14:37:17.728Z"
   },
   {
    "duration": 100,
    "start_time": "2022-01-24T14:37:52.952Z"
   },
   {
    "duration": 121,
    "start_time": "2022-01-24T14:37:59.201Z"
   },
   {
    "duration": 96,
    "start_time": "2022-01-24T14:38:06.053Z"
   },
   {
    "duration": 102,
    "start_time": "2022-01-24T14:38:20.671Z"
   },
   {
    "duration": 85,
    "start_time": "2022-01-24T14:38:48.489Z"
   },
   {
    "duration": 90,
    "start_time": "2022-01-24T14:38:54.415Z"
   },
   {
    "duration": 1399,
    "start_time": "2022-01-24T14:38:58.873Z"
   },
   {
    "duration": 687,
    "start_time": "2022-01-24T14:39:11.325Z"
   },
   {
    "duration": 1396,
    "start_time": "2022-01-24T14:39:12.013Z"
   },
   {
    "duration": 667,
    "start_time": "2022-01-24T14:39:13.414Z"
   },
   {
    "duration": 309,
    "start_time": "2022-01-24T14:39:14.083Z"
   },
   {
    "duration": 1080,
    "start_time": "2022-01-24T14:39:14.393Z"
   },
   {
    "duration": 274,
    "start_time": "2022-01-24T14:39:15.475Z"
   },
   {
    "duration": 265,
    "start_time": "2022-01-24T14:39:15.752Z"
   },
   {
    "duration": 929,
    "start_time": "2022-01-24T14:39:16.019Z"
   },
   {
    "duration": 65,
    "start_time": "2022-01-24T14:39:16.949Z"
   },
   {
    "duration": 3281,
    "start_time": "2022-01-24T14:39:17.016Z"
   },
   {
    "duration": 6466,
    "start_time": "2022-01-24T14:39:20.299Z"
   },
   {
    "duration": 152,
    "start_time": "2022-01-24T14:39:26.767Z"
   },
   {
    "duration": 23,
    "start_time": "2022-01-24T14:39:26.921Z"
   },
   {
    "duration": 623,
    "start_time": "2022-01-24T14:39:26.946Z"
   },
   {
    "duration": 15,
    "start_time": "2022-01-24T14:39:27.572Z"
   },
   {
    "duration": 12,
    "start_time": "2022-01-24T14:39:27.588Z"
   },
   {
    "duration": 22,
    "start_time": "2022-01-24T14:39:27.601Z"
   },
   {
    "duration": 18,
    "start_time": "2022-01-24T14:39:27.625Z"
   },
   {
    "duration": 363,
    "start_time": "2022-01-24T14:39:27.645Z"
   },
   {
    "duration": 94,
    "start_time": "2022-01-24T14:39:28.761Z"
   },
   {
    "duration": 104,
    "start_time": "2022-01-24T14:40:03.076Z"
   },
   {
    "duration": 94,
    "start_time": "2022-01-24T14:40:08.137Z"
   },
   {
    "duration": 1369,
    "start_time": "2022-01-24T14:40:14.072Z"
   },
   {
    "duration": 779,
    "start_time": "2022-01-24T14:40:22.862Z"
   },
   {
    "duration": 1386,
    "start_time": "2022-01-24T14:40:23.643Z"
   },
   {
    "duration": 669,
    "start_time": "2022-01-24T14:40:25.031Z"
   },
   {
    "duration": 294,
    "start_time": "2022-01-24T14:40:25.702Z"
   },
   {
    "duration": 1047,
    "start_time": "2022-01-24T14:40:25.998Z"
   },
   {
    "duration": 269,
    "start_time": "2022-01-24T14:40:27.047Z"
   },
   {
    "duration": 240,
    "start_time": "2022-01-24T14:40:27.318Z"
   },
   {
    "duration": 903,
    "start_time": "2022-01-24T14:40:27.561Z"
   },
   {
    "duration": 57,
    "start_time": "2022-01-24T14:40:28.466Z"
   },
   {
    "duration": 3112,
    "start_time": "2022-01-24T14:40:28.524Z"
   },
   {
    "duration": 5673,
    "start_time": "2022-01-24T14:40:31.637Z"
   },
   {
    "duration": 144,
    "start_time": "2022-01-24T14:40:37.311Z"
   },
   {
    "duration": 29,
    "start_time": "2022-01-24T14:40:37.457Z"
   },
   {
    "duration": 649,
    "start_time": "2022-01-24T14:40:37.488Z"
   },
   {
    "duration": 10,
    "start_time": "2022-01-24T14:40:38.138Z"
   },
   {
    "duration": 7,
    "start_time": "2022-01-24T14:40:38.149Z"
   },
   {
    "duration": 19,
    "start_time": "2022-01-24T14:40:38.158Z"
   },
   {
    "duration": 5,
    "start_time": "2022-01-24T14:40:38.178Z"
   },
   {
    "duration": 383,
    "start_time": "2022-01-24T14:40:38.186Z"
   },
   {
    "duration": 87,
    "start_time": "2022-01-24T14:42:13.761Z"
   },
   {
    "duration": 84,
    "start_time": "2022-01-24T14:42:18.484Z"
   },
   {
    "duration": 1814,
    "start_time": "2022-01-24T14:42:24.507Z"
   },
   {
    "duration": 93,
    "start_time": "2022-01-24T14:42:44.523Z"
   },
   {
    "duration": 88,
    "start_time": "2022-01-24T14:42:55.946Z"
   },
   {
    "duration": 90,
    "start_time": "2022-01-24T14:43:23.802Z"
   },
   {
    "duration": 580,
    "start_time": "2022-01-24T14:43:57.354Z"
   },
   {
    "duration": 262,
    "start_time": "2022-01-24T14:44:35.426Z"
   },
   {
    "duration": 1050,
    "start_time": "2022-01-24T14:44:46.758Z"
   },
   {
    "duration": 250,
    "start_time": "2022-01-24T14:45:08.634Z"
   },
   {
    "duration": 249,
    "start_time": "2022-01-24T14:45:38.961Z"
   },
   {
    "duration": 232,
    "start_time": "2022-01-24T14:45:54.025Z"
   },
   {
    "duration": 923,
    "start_time": "2022-01-24T14:49:21.362Z"
   },
   {
    "duration": 45,
    "start_time": "2022-01-24T14:49:47.939Z"
   },
   {
    "duration": 41,
    "start_time": "2022-01-24T14:55:51.005Z"
   },
   {
    "duration": 2733,
    "start_time": "2022-01-24T14:56:08.260Z"
   },
   {
    "duration": 2638,
    "start_time": "2022-01-24T14:56:46.300Z"
   },
   {
    "duration": 2868,
    "start_time": "2022-01-24T14:56:49.447Z"
   },
   {
    "duration": 5237,
    "start_time": "2022-01-24T14:58:12.629Z"
   },
   {
    "duration": 132,
    "start_time": "2022-01-24T15:01:19.286Z"
   },
   {
    "duration": 381,
    "start_time": "2022-01-24T15:02:32.414Z"
   },
   {
    "duration": 631,
    "start_time": "2022-01-24T15:04:04.902Z"
   },
   {
    "duration": 412,
    "start_time": "2022-01-24T15:05:36.840Z"
   },
   {
    "duration": 442,
    "start_time": "2022-01-24T15:06:01.743Z"
   },
   {
    "duration": 632,
    "start_time": "2022-01-24T15:07:17.599Z"
   },
   {
    "duration": 884,
    "start_time": "2022-01-24T15:18:02.009Z"
   },
   {
    "duration": 2029,
    "start_time": "2022-01-24T15:18:33.362Z"
   },
   {
    "duration": 405,
    "start_time": "2022-01-24T15:18:52.331Z"
   },
   {
    "duration": 262,
    "start_time": "2022-01-24T15:19:52.563Z"
   },
   {
    "duration": 1618,
    "start_time": "2022-01-24T15:20:19.980Z"
   },
   {
    "duration": 314,
    "start_time": "2022-01-24T15:20:35.147Z"
   },
   {
    "duration": 2494,
    "start_time": "2022-01-24T15:29:43.950Z"
   },
   {
    "duration": 2366,
    "start_time": "2022-01-24T15:30:05.336Z"
   },
   {
    "duration": 2482,
    "start_time": "2022-01-24T15:30:24.070Z"
   },
   {
    "duration": 4971,
    "start_time": "2022-01-24T15:30:42.423Z"
   },
   {
    "duration": 2298,
    "start_time": "2022-01-24T15:30:58.303Z"
   },
   {
    "duration": 4580,
    "start_time": "2022-01-24T15:34:58.825Z"
   },
   {
    "duration": 1970,
    "start_time": "2022-01-24T15:37:48.419Z"
   },
   {
    "duration": 2295,
    "start_time": "2022-01-24T15:38:03.731Z"
   },
   {
    "duration": 2171,
    "start_time": "2022-01-24T15:38:22.497Z"
   },
   {
    "duration": 760,
    "start_time": "2022-01-24T15:48:18.190Z"
   },
   {
    "duration": 884,
    "start_time": "2022-01-24T15:49:24.524Z"
   },
   {
    "duration": 825,
    "start_time": "2022-01-24T15:49:48.656Z"
   },
   {
    "duration": 732,
    "start_time": "2022-01-24T15:50:04.212Z"
   },
   {
    "duration": 171,
    "start_time": "2022-01-24T15:52:33.076Z"
   },
   {
    "duration": 195,
    "start_time": "2022-01-24T15:52:36.221Z"
   },
   {
    "duration": 723,
    "start_time": "2022-01-24T15:52:44.620Z"
   },
   {
    "duration": 110,
    "start_time": "2022-01-24T15:52:45.345Z"
   },
   {
    "duration": 206,
    "start_time": "2022-01-24T15:52:45.252Z"
   },
   {
    "duration": 206,
    "start_time": "2022-01-24T15:52:45.253Z"
   },
   {
    "duration": 205,
    "start_time": "2022-01-24T15:52:45.255Z"
   },
   {
    "duration": 203,
    "start_time": "2022-01-24T15:52:45.258Z"
   },
   {
    "duration": 204,
    "start_time": "2022-01-24T15:52:45.259Z"
   },
   {
    "duration": 201,
    "start_time": "2022-01-24T15:52:45.263Z"
   },
   {
    "duration": 201,
    "start_time": "2022-01-24T15:52:45.264Z"
   },
   {
    "duration": 202,
    "start_time": "2022-01-24T15:52:45.265Z"
   },
   {
    "duration": 202,
    "start_time": "2022-01-24T15:52:45.266Z"
   },
   {
    "duration": 202,
    "start_time": "2022-01-24T15:52:45.267Z"
   },
   {
    "duration": 203,
    "start_time": "2022-01-24T15:52:45.268Z"
   },
   {
    "duration": 203,
    "start_time": "2022-01-24T15:52:45.269Z"
   },
   {
    "duration": 204,
    "start_time": "2022-01-24T15:52:45.270Z"
   },
   {
    "duration": 199,
    "start_time": "2022-01-24T15:52:45.276Z"
   },
   {
    "duration": 198,
    "start_time": "2022-01-24T15:52:45.278Z"
   },
   {
    "duration": 198,
    "start_time": "2022-01-24T15:52:45.279Z"
   },
   {
    "duration": 198,
    "start_time": "2022-01-24T15:52:45.280Z"
   },
   {
    "duration": 1597,
    "start_time": "2022-01-24T15:53:00.952Z"
   },
   {
    "duration": 888,
    "start_time": "2022-01-25T05:38:42.494Z"
   },
   {
    "duration": 1523,
    "start_time": "2022-01-25T05:38:43.384Z"
   },
   {
    "duration": 759,
    "start_time": "2022-01-25T05:38:44.910Z"
   },
   {
    "duration": 326,
    "start_time": "2022-01-25T05:38:45.671Z"
   },
   {
    "duration": 1174,
    "start_time": "2022-01-25T05:38:45.999Z"
   },
   {
    "duration": 303,
    "start_time": "2022-01-25T05:38:47.175Z"
   },
   {
    "duration": 274,
    "start_time": "2022-01-25T05:38:47.481Z"
   },
   {
    "duration": 1015,
    "start_time": "2022-01-25T05:38:47.759Z"
   },
   {
    "duration": 75,
    "start_time": "2022-01-25T05:38:48.777Z"
   },
   {
    "duration": 3202,
    "start_time": "2022-01-25T05:38:48.854Z"
   },
   {
    "duration": 6458,
    "start_time": "2022-01-25T05:38:52.058Z"
   },
   {
    "duration": 179,
    "start_time": "2022-01-25T05:38:58.518Z"
   },
   {
    "duration": 29,
    "start_time": "2022-01-25T05:38:58.698Z"
   },
   {
    "duration": 754,
    "start_time": "2022-01-25T05:38:58.729Z"
   },
   {
    "duration": 24,
    "start_time": "2022-01-25T05:38:59.485Z"
   },
   {
    "duration": 9,
    "start_time": "2022-01-25T05:38:59.511Z"
   },
   {
    "duration": 9,
    "start_time": "2022-01-25T05:38:59.522Z"
   },
   {
    "duration": 7,
    "start_time": "2022-01-25T05:38:59.533Z"
   },
   {
    "duration": 2369,
    "start_time": "2022-01-25T05:38:59.542Z"
   },
   {
    "duration": 455,
    "start_time": "2022-01-25T12:20:31.152Z"
   },
   {
    "duration": 1146,
    "start_time": "2022-01-25T12:20:41.343Z"
   },
   {
    "duration": 2527,
    "start_time": "2022-01-25T12:20:42.492Z"
   },
   {
    "duration": 1086,
    "start_time": "2022-01-25T12:20:45.026Z"
   },
   {
    "duration": 454,
    "start_time": "2022-01-25T12:20:46.115Z"
   },
   {
    "duration": 1769,
    "start_time": "2022-01-25T12:20:46.572Z"
   },
   {
    "duration": 431,
    "start_time": "2022-01-25T12:20:48.343Z"
   },
   {
    "duration": 379,
    "start_time": "2022-01-25T12:20:48.777Z"
   },
   {
    "duration": 1514,
    "start_time": "2022-01-25T12:20:49.159Z"
   },
   {
    "duration": 87,
    "start_time": "2022-01-25T12:20:50.677Z"
   },
   {
    "duration": 4441,
    "start_time": "2022-01-25T12:20:50.767Z"
   },
   {
    "duration": 8277,
    "start_time": "2022-01-25T12:20:55.210Z"
   },
   {
    "duration": 238,
    "start_time": "2022-01-25T12:21:03.490Z"
   },
   {
    "duration": 37,
    "start_time": "2022-01-25T12:21:03.732Z"
   },
   {
    "duration": 1429,
    "start_time": "2022-01-25T12:21:03.771Z"
   },
   {
    "duration": 26,
    "start_time": "2022-01-25T12:21:05.176Z"
   },
   {
    "duration": 25,
    "start_time": "2022-01-25T12:21:05.178Z"
   },
   {
    "duration": 23,
    "start_time": "2022-01-25T12:21:05.181Z"
   },
   {
    "duration": 23,
    "start_time": "2022-01-25T12:21:05.183Z"
   },
   {
    "duration": 22,
    "start_time": "2022-01-25T12:21:05.185Z"
   },
   {
    "duration": 8,
    "start_time": "2022-01-25T12:21:05.200Z"
   },
   {
    "duration": 3395,
    "start_time": "2022-01-25T12:23:26.306Z"
   },
   {
    "duration": 319,
    "start_time": "2022-01-25T12:26:22.077Z"
   },
   {
    "duration": 146,
    "start_time": "2022-01-25T12:26:34.812Z"
   },
   {
    "duration": 2730,
    "start_time": "2022-01-25T12:26:38.438Z"
   },
   {
    "duration": 1060,
    "start_time": "2022-01-25T12:26:42.680Z"
   },
   {
    "duration": 439,
    "start_time": "2022-01-25T12:26:45.652Z"
   },
   {
    "duration": 1904,
    "start_time": "2022-01-25T12:26:48.965Z"
   },
   {
    "duration": 463,
    "start_time": "2022-01-25T12:26:54.060Z"
   },
   {
    "duration": 398,
    "start_time": "2022-01-25T12:26:56.996Z"
   },
   {
    "duration": 1493,
    "start_time": "2022-01-25T12:27:00.114Z"
   },
   {
    "duration": 74,
    "start_time": "2022-01-25T12:27:05.325Z"
   },
   {
    "duration": 4449,
    "start_time": "2022-01-25T12:27:08.700Z"
   },
   {
    "duration": 8250,
    "start_time": "2022-01-25T12:27:14.148Z"
   },
   {
    "duration": 239,
    "start_time": "2022-01-25T12:27:22.411Z"
   },
   {
    "duration": 32,
    "start_time": "2022-01-25T12:27:25.741Z"
   },
   {
    "duration": 18,
    "start_time": "2022-01-25T12:27:29.273Z"
   },
   {
    "duration": 17,
    "start_time": "2022-01-25T12:27:32.910Z"
   },
   {
    "duration": 300,
    "start_time": "2022-01-25T12:30:13.964Z"
   },
   {
    "duration": 15,
    "start_time": "2022-01-25T12:33:43.815Z"
   },
   {
    "duration": 13,
    "start_time": "2022-01-25T12:34:29.552Z"
   },
   {
    "duration": 11,
    "start_time": "2022-01-25T12:34:38.166Z"
   },
   {
    "duration": 8,
    "start_time": "2022-01-25T12:34:45.373Z"
   },
   {
    "duration": 8,
    "start_time": "2022-01-25T12:36:06.798Z"
   },
   {
    "duration": 1568,
    "start_time": "2022-01-25T12:36:55.992Z"
   }
  ],
  "kernelspec": {
   "display_name": "Python 3 (ipykernel)",
   "language": "python",
   "name": "python3"
  },
  "language_info": {
   "codemirror_mode": {
    "name": "ipython",
    "version": 3
   },
   "file_extension": ".py",
   "mimetype": "text/x-python",
   "name": "python",
   "nbconvert_exporter": "python",
   "pygments_lexer": "ipython3",
   "version": "3.9.5"
  },
  "toc": {
   "base_numbering": 1,
   "nav_menu": {},
   "number_sections": true,
   "sideBar": true,
   "skip_h1_title": true,
   "title_cell": "Содержание",
   "title_sidebar": "Contents",
   "toc_cell": true,
   "toc_position": {},
   "toc_section_display": true,
   "toc_window_display": false
  }
 },
 "nbformat": 4,
 "nbformat_minor": 2
}
