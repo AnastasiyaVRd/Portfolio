{
 "cells": [
  {
   "cell_type": "markdown",
   "metadata": {},
   "source": [
    "# Определение перспективного тарифа для телеком-компании\n",
    "    \n",
    "**Название проекта**   \n",
    "Определение перспективного тарифа для телеком-компании.\n",
    "\n",
    "**Описание исследования.**\n",
    "Сделать предварительный анализ тарифов на небольшой выборке клиентов, чтобы понять, какой тариф приносит больше денег и скорректировать рекламный бюджет. \n",
    "    \n",
    "**Цель исследования.**\n",
    "Нужно проанализировать поведение клиентов и сделать вывод — какой тариф лучше.\n",
    "    \n",
    "**Задачи исследования.**\n",
    "- выявить в данных проблемы;\n",
    "- подготовить данные к анализу;\n",
    "- построить и интерпретировать графики для распределения;\n",
    "- рассчитать стандартное отклонение и дисперсию;\n",
    "- сформулировать нулевую и альтернативную гипотезы;\n",
    "- проверить гипотезы.\n",
    "\n",
    "**Исходные данные.**\n",
    "\n",
    "**Таблица users (информация о пользователях):**\n",
    "    \n",
    "user_id — уникальный идентификатор пользователя\n",
    "    \n",
    "first_name — имя пользователя\n",
    "    \n",
    "last_name — фамилия пользователя\n",
    "    \n",
    "age — возраст пользователя (годы)\n",
    "    \n",
    "reg_date — дата подключения тарифа (день, месяц, год)\n",
    "    \n",
    "churn_date — дата прекращения пользования тарифом (если значение пропущено, то тариф ещё действовал на момент выгрузки данных)\n",
    "    \n",
    "city — город проживания пользователя\n",
    "    \n",
    "tarif — название тарифного плана\n",
    "    \n",
    "**Таблица calls (информация о звонках):**\n",
    "    \n",
    "id — уникальный номер звонка\n",
    "    \n",
    "call_date — дата звонка\n",
    "    \n",
    "duration — длительность звонка в минутах\n",
    "    \n",
    "user_id — идентификатор пользователя, сделавшего звонок\n",
    "    \n",
    "    \n",
    "**Таблица messages (информация о сообщениях):**\n",
    "    \n",
    "id — уникальный номер сообщения\n",
    "    \n",
    "message_date — дата сообщения\n",
    "    \n",
    "user_id — идентификатор пользователя, отправившего сообщение\n",
    "    \n",
    "    \n",
    "**Таблица internet (информация об интернет-сессиях):**\n",
    "    \n",
    "id — уникальный номер сессии\n",
    "    \n",
    "mb_used — объём потраченного за сессию интернет-трафика (в мегабайтах)\n",
    "    \n",
    "session_date — дата интернет-сессии\n",
    "    \n",
    "user_id — идентификатор пользователя\n",
    "    \n",
    "    \n",
    "**Таблица tariffs (информация о тарифах):**\n",
    "    \n",
    "tariff_name — название тарифа\n",
    "    \n",
    "rub_monthly_fee — ежемесячная абонентская плата в рублях\n",
    "    \n",
    "minutes_included — количество минут разговора в месяц, включённых в абонентскую плату\n",
    "    \n",
    "messages_included — количество сообщений в месяц, включённых в абонентскую плату\n",
    "    \n",
    "mb_per_month_included — объём интернет-трафика, включённого в абонентскую плату (в мегабайтах)\n",
    "    \n",
    "rub_per_minute — стоимость минуты разговора сверх тарифного пакета (например, если в тарифе 100 минут разговора в месяц, то со 101 минуты будет взиматься плата)\n",
    "    \n",
    "rub_per_message — стоимость отправки сообщения сверх тарифного пакета\n",
    "    \n",
    "rub_per_gb — стоимость дополнительного гигабайта интернет-трафика сверх тарифного пакета (1 гигабайт = 1024 мегабайта)\n",
    "  \n",
    "</div>"
   ]
  },
  {
   "cell_type": "markdown",
   "metadata": {},
   "source": [
    "  \n",
    "**Данное исследование разделим на несколько частей.**\n",
    "\n",
    "[Часть 1. Изучение общей информации.](#section_1)\n",
    "    \n",
    "[Часть 2. Подготовка данных.](#section_2)\n",
    "    \n",
    "[Часть 3. Анализ данных.](#section_3)"
   ]
  },
  {
   "cell_type": "markdown",
   "metadata": {},
   "source": [
    "**Часть 1. Изучение общей информации**\n",
    "<a id='section_1'></a>"
   ]
  },
  {
   "cell_type": "code",
   "execution_count": 1,
   "metadata": {},
   "outputs": [
    {
     "name": "stdout",
     "output_type": "stream",
     "text": [
      "<class 'pandas.core.frame.DataFrame'>\n",
      "RangeIndex: 2 entries, 0 to 1\n",
      "Data columns (total 8 columns):\n",
      " #   Column                 Non-Null Count  Dtype \n",
      "---  ------                 --------------  ----- \n",
      " 0   messages_included      2 non-null      int64 \n",
      " 1   mb_per_month_included  2 non-null      int64 \n",
      " 2   minutes_included       2 non-null      int64 \n",
      " 3   rub_monthly_fee        2 non-null      int64 \n",
      " 4   rub_per_gb             2 non-null      int64 \n",
      " 5   rub_per_message        2 non-null      int64 \n",
      " 6   rub_per_minute         2 non-null      int64 \n",
      " 7   tariff_name            2 non-null      object\n",
      "dtypes: int64(7), object(1)\n",
      "memory usage: 256.0+ bytes\n"
     ]
    },
    {
     "data": {
      "text/html": [
       "<div>\n",
       "<style scoped>\n",
       "    .dataframe tbody tr th:only-of-type {\n",
       "        vertical-align: middle;\n",
       "    }\n",
       "\n",
       "    .dataframe tbody tr th {\n",
       "        vertical-align: top;\n",
       "    }\n",
       "\n",
       "    .dataframe thead th {\n",
       "        text-align: right;\n",
       "    }\n",
       "</style>\n",
       "<table border=\"1\" class=\"dataframe\">\n",
       "  <thead>\n",
       "    <tr style=\"text-align: right;\">\n",
       "      <th></th>\n",
       "      <th>messages_included</th>\n",
       "      <th>mb_per_month_included</th>\n",
       "      <th>minutes_included</th>\n",
       "      <th>rub_monthly_fee</th>\n",
       "      <th>rub_per_gb</th>\n",
       "      <th>rub_per_message</th>\n",
       "      <th>rub_per_minute</th>\n",
       "      <th>tariff_name</th>\n",
       "    </tr>\n",
       "  </thead>\n",
       "  <tbody>\n",
       "    <tr>\n",
       "      <th>0</th>\n",
       "      <td>50</td>\n",
       "      <td>15360</td>\n",
       "      <td>500</td>\n",
       "      <td>550</td>\n",
       "      <td>200</td>\n",
       "      <td>3</td>\n",
       "      <td>3</td>\n",
       "      <td>smart</td>\n",
       "    </tr>\n",
       "    <tr>\n",
       "      <th>1</th>\n",
       "      <td>1000</td>\n",
       "      <td>30720</td>\n",
       "      <td>3000</td>\n",
       "      <td>1950</td>\n",
       "      <td>150</td>\n",
       "      <td>1</td>\n",
       "      <td>1</td>\n",
       "      <td>ultra</td>\n",
       "    </tr>\n",
       "  </tbody>\n",
       "</table>\n",
       "</div>"
      ],
      "text/plain": [
       "   messages_included  mb_per_month_included  minutes_included  \\\n",
       "0                 50                  15360               500   \n",
       "1               1000                  30720              3000   \n",
       "\n",
       "   rub_monthly_fee  rub_per_gb  rub_per_message  rub_per_minute tariff_name  \n",
       "0              550         200                3               3       smart  \n",
       "1             1950         150                1               1       ultra  "
      ]
     },
     "metadata": {},
     "output_type": "display_data"
    },
    {
     "name": "stdout",
     "output_type": "stream",
     "text": [
      "<class 'pandas.core.frame.DataFrame'>\n",
      "RangeIndex: 500 entries, 0 to 499\n",
      "Data columns (total 8 columns):\n",
      " #   Column      Non-Null Count  Dtype \n",
      "---  ------      --------------  ----- \n",
      " 0   user_id     500 non-null    int64 \n",
      " 1   age         500 non-null    int64 \n",
      " 2   churn_date  38 non-null     object\n",
      " 3   city        500 non-null    object\n",
      " 4   first_name  500 non-null    object\n",
      " 5   last_name   500 non-null    object\n",
      " 6   reg_date    500 non-null    object\n",
      " 7   tariff      500 non-null    object\n",
      "dtypes: int64(2), object(6)\n",
      "memory usage: 31.4+ KB\n"
     ]
    },
    {
     "data": {
      "text/html": [
       "<div>\n",
       "<style scoped>\n",
       "    .dataframe tbody tr th:only-of-type {\n",
       "        vertical-align: middle;\n",
       "    }\n",
       "\n",
       "    .dataframe tbody tr th {\n",
       "        vertical-align: top;\n",
       "    }\n",
       "\n",
       "    .dataframe thead th {\n",
       "        text-align: right;\n",
       "    }\n",
       "</style>\n",
       "<table border=\"1\" class=\"dataframe\">\n",
       "  <thead>\n",
       "    <tr style=\"text-align: right;\">\n",
       "      <th></th>\n",
       "      <th>user_id</th>\n",
       "      <th>age</th>\n",
       "      <th>churn_date</th>\n",
       "      <th>city</th>\n",
       "      <th>first_name</th>\n",
       "      <th>last_name</th>\n",
       "      <th>reg_date</th>\n",
       "      <th>tariff</th>\n",
       "    </tr>\n",
       "  </thead>\n",
       "  <tbody>\n",
       "    <tr>\n",
       "      <th>0</th>\n",
       "      <td>1000</td>\n",
       "      <td>52</td>\n",
       "      <td>NaN</td>\n",
       "      <td>Краснодар</td>\n",
       "      <td>Рафаил</td>\n",
       "      <td>Верещагин</td>\n",
       "      <td>2018-05-25</td>\n",
       "      <td>ultra</td>\n",
       "    </tr>\n",
       "    <tr>\n",
       "      <th>1</th>\n",
       "      <td>1001</td>\n",
       "      <td>41</td>\n",
       "      <td>NaN</td>\n",
       "      <td>Москва</td>\n",
       "      <td>Иван</td>\n",
       "      <td>Ежов</td>\n",
       "      <td>2018-11-01</td>\n",
       "      <td>smart</td>\n",
       "    </tr>\n",
       "    <tr>\n",
       "      <th>2</th>\n",
       "      <td>1002</td>\n",
       "      <td>59</td>\n",
       "      <td>NaN</td>\n",
       "      <td>Стерлитамак</td>\n",
       "      <td>Евгений</td>\n",
       "      <td>Абрамович</td>\n",
       "      <td>2018-06-17</td>\n",
       "      <td>smart</td>\n",
       "    </tr>\n",
       "    <tr>\n",
       "      <th>3</th>\n",
       "      <td>1003</td>\n",
       "      <td>23</td>\n",
       "      <td>NaN</td>\n",
       "      <td>Москва</td>\n",
       "      <td>Белла</td>\n",
       "      <td>Белякова</td>\n",
       "      <td>2018-08-17</td>\n",
       "      <td>ultra</td>\n",
       "    </tr>\n",
       "    <tr>\n",
       "      <th>4</th>\n",
       "      <td>1004</td>\n",
       "      <td>68</td>\n",
       "      <td>NaN</td>\n",
       "      <td>Новокузнецк</td>\n",
       "      <td>Татьяна</td>\n",
       "      <td>Авдеенко</td>\n",
       "      <td>2018-05-14</td>\n",
       "      <td>ultra</td>\n",
       "    </tr>\n",
       "  </tbody>\n",
       "</table>\n",
       "</div>"
      ],
      "text/plain": [
       "   user_id  age churn_date         city first_name  last_name    reg_date  \\\n",
       "0     1000   52        NaN    Краснодар     Рафаил  Верещагин  2018-05-25   \n",
       "1     1001   41        NaN       Москва       Иван       Ежов  2018-11-01   \n",
       "2     1002   59        NaN  Стерлитамак    Евгений  Абрамович  2018-06-17   \n",
       "3     1003   23        NaN       Москва      Белла   Белякова  2018-08-17   \n",
       "4     1004   68        NaN  Новокузнецк    Татьяна   Авдеенко  2018-05-14   \n",
       "\n",
       "  tariff  \n",
       "0  ultra  \n",
       "1  smart  \n",
       "2  smart  \n",
       "3  ultra  \n",
       "4  ultra  "
      ]
     },
     "metadata": {},
     "output_type": "display_data"
    },
    {
     "name": "stdout",
     "output_type": "stream",
     "text": [
      "<class 'pandas.core.frame.DataFrame'>\n",
      "RangeIndex: 202607 entries, 0 to 202606\n",
      "Data columns (total 4 columns):\n",
      " #   Column     Non-Null Count   Dtype  \n",
      "---  ------     --------------   -----  \n",
      " 0   id         202607 non-null  object \n",
      " 1   call_date  202607 non-null  object \n",
      " 2   duration   202607 non-null  float64\n",
      " 3   user_id    202607 non-null  int64  \n",
      "dtypes: float64(1), int64(1), object(2)\n",
      "memory usage: 6.2+ MB\n"
     ]
    },
    {
     "data": {
      "text/html": [
       "<div>\n",
       "<style scoped>\n",
       "    .dataframe tbody tr th:only-of-type {\n",
       "        vertical-align: middle;\n",
       "    }\n",
       "\n",
       "    .dataframe tbody tr th {\n",
       "        vertical-align: top;\n",
       "    }\n",
       "\n",
       "    .dataframe thead th {\n",
       "        text-align: right;\n",
       "    }\n",
       "</style>\n",
       "<table border=\"1\" class=\"dataframe\">\n",
       "  <thead>\n",
       "    <tr style=\"text-align: right;\">\n",
       "      <th></th>\n",
       "      <th>id</th>\n",
       "      <th>call_date</th>\n",
       "      <th>duration</th>\n",
       "      <th>user_id</th>\n",
       "    </tr>\n",
       "  </thead>\n",
       "  <tbody>\n",
       "    <tr>\n",
       "      <th>0</th>\n",
       "      <td>1000_0</td>\n",
       "      <td>2018-07-25</td>\n",
       "      <td>0.00</td>\n",
       "      <td>1000</td>\n",
       "    </tr>\n",
       "    <tr>\n",
       "      <th>1</th>\n",
       "      <td>1000_1</td>\n",
       "      <td>2018-08-17</td>\n",
       "      <td>0.00</td>\n",
       "      <td>1000</td>\n",
       "    </tr>\n",
       "    <tr>\n",
       "      <th>2</th>\n",
       "      <td>1000_2</td>\n",
       "      <td>2018-06-11</td>\n",
       "      <td>2.85</td>\n",
       "      <td>1000</td>\n",
       "    </tr>\n",
       "    <tr>\n",
       "      <th>3</th>\n",
       "      <td>1000_3</td>\n",
       "      <td>2018-09-21</td>\n",
       "      <td>13.80</td>\n",
       "      <td>1000</td>\n",
       "    </tr>\n",
       "    <tr>\n",
       "      <th>4</th>\n",
       "      <td>1000_4</td>\n",
       "      <td>2018-12-15</td>\n",
       "      <td>5.18</td>\n",
       "      <td>1000</td>\n",
       "    </tr>\n",
       "  </tbody>\n",
       "</table>\n",
       "</div>"
      ],
      "text/plain": [
       "       id   call_date  duration  user_id\n",
       "0  1000_0  2018-07-25      0.00     1000\n",
       "1  1000_1  2018-08-17      0.00     1000\n",
       "2  1000_2  2018-06-11      2.85     1000\n",
       "3  1000_3  2018-09-21     13.80     1000\n",
       "4  1000_4  2018-12-15      5.18     1000"
      ]
     },
     "metadata": {},
     "output_type": "display_data"
    },
    {
     "name": "stdout",
     "output_type": "stream",
     "text": [
      "<class 'pandas.core.frame.DataFrame'>\n",
      "RangeIndex: 149396 entries, 0 to 149395\n",
      "Data columns (total 5 columns):\n",
      " #   Column        Non-Null Count   Dtype  \n",
      "---  ------        --------------   -----  \n",
      " 0   Unnamed: 0    149396 non-null  int64  \n",
      " 1   id            149396 non-null  object \n",
      " 2   mb_used       149396 non-null  float64\n",
      " 3   session_date  149396 non-null  object \n",
      " 4   user_id       149396 non-null  int64  \n",
      "dtypes: float64(1), int64(2), object(2)\n",
      "memory usage: 5.7+ MB\n"
     ]
    },
    {
     "data": {
      "text/html": [
       "<div>\n",
       "<style scoped>\n",
       "    .dataframe tbody tr th:only-of-type {\n",
       "        vertical-align: middle;\n",
       "    }\n",
       "\n",
       "    .dataframe tbody tr th {\n",
       "        vertical-align: top;\n",
       "    }\n",
       "\n",
       "    .dataframe thead th {\n",
       "        text-align: right;\n",
       "    }\n",
       "</style>\n",
       "<table border=\"1\" class=\"dataframe\">\n",
       "  <thead>\n",
       "    <tr style=\"text-align: right;\">\n",
       "      <th></th>\n",
       "      <th>Unnamed: 0</th>\n",
       "      <th>id</th>\n",
       "      <th>mb_used</th>\n",
       "      <th>session_date</th>\n",
       "      <th>user_id</th>\n",
       "    </tr>\n",
       "  </thead>\n",
       "  <tbody>\n",
       "    <tr>\n",
       "      <th>0</th>\n",
       "      <td>0</td>\n",
       "      <td>1000_0</td>\n",
       "      <td>112.95</td>\n",
       "      <td>2018-11-25</td>\n",
       "      <td>1000</td>\n",
       "    </tr>\n",
       "    <tr>\n",
       "      <th>1</th>\n",
       "      <td>1</td>\n",
       "      <td>1000_1</td>\n",
       "      <td>1052.81</td>\n",
       "      <td>2018-09-07</td>\n",
       "      <td>1000</td>\n",
       "    </tr>\n",
       "    <tr>\n",
       "      <th>2</th>\n",
       "      <td>2</td>\n",
       "      <td>1000_2</td>\n",
       "      <td>1197.26</td>\n",
       "      <td>2018-06-25</td>\n",
       "      <td>1000</td>\n",
       "    </tr>\n",
       "    <tr>\n",
       "      <th>3</th>\n",
       "      <td>3</td>\n",
       "      <td>1000_3</td>\n",
       "      <td>550.27</td>\n",
       "      <td>2018-08-22</td>\n",
       "      <td>1000</td>\n",
       "    </tr>\n",
       "    <tr>\n",
       "      <th>4</th>\n",
       "      <td>4</td>\n",
       "      <td>1000_4</td>\n",
       "      <td>302.56</td>\n",
       "      <td>2018-09-24</td>\n",
       "      <td>1000</td>\n",
       "    </tr>\n",
       "  </tbody>\n",
       "</table>\n",
       "</div>"
      ],
      "text/plain": [
       "   Unnamed: 0      id  mb_used session_date  user_id\n",
       "0           0  1000_0   112.95   2018-11-25     1000\n",
       "1           1  1000_1  1052.81   2018-09-07     1000\n",
       "2           2  1000_2  1197.26   2018-06-25     1000\n",
       "3           3  1000_3   550.27   2018-08-22     1000\n",
       "4           4  1000_4   302.56   2018-09-24     1000"
      ]
     },
     "metadata": {},
     "output_type": "display_data"
    },
    {
     "name": "stdout",
     "output_type": "stream",
     "text": [
      "<class 'pandas.core.frame.DataFrame'>\n",
      "RangeIndex: 123036 entries, 0 to 123035\n",
      "Data columns (total 3 columns):\n",
      " #   Column        Non-Null Count   Dtype \n",
      "---  ------        --------------   ----- \n",
      " 0   id            123036 non-null  object\n",
      " 1   message_date  123036 non-null  object\n",
      " 2   user_id       123036 non-null  int64 \n",
      "dtypes: int64(1), object(2)\n",
      "memory usage: 2.8+ MB\n"
     ]
    },
    {
     "data": {
      "text/html": [
       "<div>\n",
       "<style scoped>\n",
       "    .dataframe tbody tr th:only-of-type {\n",
       "        vertical-align: middle;\n",
       "    }\n",
       "\n",
       "    .dataframe tbody tr th {\n",
       "        vertical-align: top;\n",
       "    }\n",
       "\n",
       "    .dataframe thead th {\n",
       "        text-align: right;\n",
       "    }\n",
       "</style>\n",
       "<table border=\"1\" class=\"dataframe\">\n",
       "  <thead>\n",
       "    <tr style=\"text-align: right;\">\n",
       "      <th></th>\n",
       "      <th>id</th>\n",
       "      <th>message_date</th>\n",
       "      <th>user_id</th>\n",
       "    </tr>\n",
       "  </thead>\n",
       "  <tbody>\n",
       "    <tr>\n",
       "      <th>0</th>\n",
       "      <td>1000_0</td>\n",
       "      <td>2018-06-27</td>\n",
       "      <td>1000</td>\n",
       "    </tr>\n",
       "    <tr>\n",
       "      <th>1</th>\n",
       "      <td>1000_1</td>\n",
       "      <td>2018-10-08</td>\n",
       "      <td>1000</td>\n",
       "    </tr>\n",
       "    <tr>\n",
       "      <th>2</th>\n",
       "      <td>1000_2</td>\n",
       "      <td>2018-08-04</td>\n",
       "      <td>1000</td>\n",
       "    </tr>\n",
       "    <tr>\n",
       "      <th>3</th>\n",
       "      <td>1000_3</td>\n",
       "      <td>2018-06-16</td>\n",
       "      <td>1000</td>\n",
       "    </tr>\n",
       "    <tr>\n",
       "      <th>4</th>\n",
       "      <td>1000_4</td>\n",
       "      <td>2018-12-05</td>\n",
       "      <td>1000</td>\n",
       "    </tr>\n",
       "  </tbody>\n",
       "</table>\n",
       "</div>"
      ],
      "text/plain": [
       "       id message_date  user_id\n",
       "0  1000_0   2018-06-27     1000\n",
       "1  1000_1   2018-10-08     1000\n",
       "2  1000_2   2018-08-04     1000\n",
       "3  1000_3   2018-06-16     1000\n",
       "4  1000_4   2018-12-05     1000"
      ]
     },
     "metadata": {},
     "output_type": "display_data"
    }
   ],
   "source": [
    "import pandas as pd\n",
    "import matplotlib\n",
    "import matplotlib.pyplot as plt\n",
    "import statistics as stat\n",
    "import numpy as np\n",
    "import warnings\n",
    "import math\n",
    "from scipy import stats as st\n",
    "\n",
    "data_tariffs = pd.read_csv('_.csv')\n",
    "data_tariffs.info()\n",
    "display(data_tariffs.head())\n",
    "\n",
    "data_users = pd.read_csv('_.csv')\n",
    "data_users.info()\n",
    "display(data_users.head())\n",
    "\n",
    "data_calls = pd.read_csv('_.csv')\n",
    "data_calls.info()\n",
    "display(data_calls.head())\n",
    "\n",
    "data_internet = pd.read_csv('_.csv') \n",
    "data_internet.info()\n",
    "display(data_internet.head())\n",
    "\n",
    "data_messages = pd.read_csv('_.csv')\n",
    "data_messages.info()\n",
    "display(data_messages.head())"
   ]
  },
  {
   "cell_type": "markdown",
   "metadata": {},
   "source": [
    "**Часть 2. Подготовка данных**\n",
    "<a id='section_2'></a>"
   ]
  },
  {
   "cell_type": "code",
   "execution_count": 2,
   "metadata": {},
   "outputs": [
    {
     "name": "stdout",
     "output_type": "stream",
     "text": [
      "<class 'pandas.core.frame.DataFrame'>\n",
      "RangeIndex: 2 entries, 0 to 1\n",
      "Data columns (total 8 columns):\n",
      " #   Column                 Non-Null Count  Dtype \n",
      "---  ------                 --------------  ----- \n",
      " 0   messages_included      2 non-null      int64 \n",
      " 1   mb_per_month_included  2 non-null      int64 \n",
      " 2   minutes_included       2 non-null      int64 \n",
      " 3   rub_monthly_fee        2 non-null      int64 \n",
      " 4   rub_per_gb             2 non-null      int64 \n",
      " 5   rub_per_message        2 non-null      int64 \n",
      " 6   rub_per_minute         2 non-null      int64 \n",
      " 7   tariff_name            2 non-null      object\n",
      "dtypes: int64(7), object(1)\n",
      "memory usage: 256.0+ bytes\n"
     ]
    },
    {
     "data": {
      "text/html": [
       "<div>\n",
       "<style scoped>\n",
       "    .dataframe tbody tr th:only-of-type {\n",
       "        vertical-align: middle;\n",
       "    }\n",
       "\n",
       "    .dataframe tbody tr th {\n",
       "        vertical-align: top;\n",
       "    }\n",
       "\n",
       "    .dataframe thead th {\n",
       "        text-align: right;\n",
       "    }\n",
       "</style>\n",
       "<table border=\"1\" class=\"dataframe\">\n",
       "  <thead>\n",
       "    <tr style=\"text-align: right;\">\n",
       "      <th></th>\n",
       "      <th>messages_included</th>\n",
       "      <th>mb_per_month_included</th>\n",
       "      <th>minutes_included</th>\n",
       "      <th>rub_monthly_fee</th>\n",
       "      <th>rub_per_gb</th>\n",
       "      <th>rub_per_message</th>\n",
       "      <th>rub_per_minute</th>\n",
       "      <th>tariff_name</th>\n",
       "    </tr>\n",
       "  </thead>\n",
       "  <tbody>\n",
       "    <tr>\n",
       "      <th>0</th>\n",
       "      <td>50</td>\n",
       "      <td>15360</td>\n",
       "      <td>500</td>\n",
       "      <td>550</td>\n",
       "      <td>200</td>\n",
       "      <td>3</td>\n",
       "      <td>3</td>\n",
       "      <td>smart</td>\n",
       "    </tr>\n",
       "    <tr>\n",
       "      <th>1</th>\n",
       "      <td>1000</td>\n",
       "      <td>30720</td>\n",
       "      <td>3000</td>\n",
       "      <td>1950</td>\n",
       "      <td>150</td>\n",
       "      <td>1</td>\n",
       "      <td>1</td>\n",
       "      <td>ultra</td>\n",
       "    </tr>\n",
       "  </tbody>\n",
       "</table>\n",
       "</div>"
      ],
      "text/plain": [
       "   messages_included  mb_per_month_included  minutes_included  \\\n",
       "0                 50                  15360               500   \n",
       "1               1000                  30720              3000   \n",
       "\n",
       "   rub_monthly_fee  rub_per_gb  rub_per_message  rub_per_minute tariff_name  \n",
       "0              550         200                3               3       smart  \n",
       "1             1950         150                1               1       ultra  "
      ]
     },
     "execution_count": 2,
     "metadata": {},
     "output_type": "execute_result"
    }
   ],
   "source": [
    "data_tariffs.head() \n",
    "data_tariffs.info() \n",
    "data_tariffs.head()"
   ]
  },
  {
   "cell_type": "markdown",
   "metadata": {},
   "source": [
    "Названия всех столбцов совпадают с описанием, стилистически названия верны.\n",
    "По типам данных в этом месте не меняла бы ничего. Все цены указываются в рублях без копеек. Секунды округляются до минут.\n",
    "Не вижу ошибок в этом файле. Пропусков в данных нет."
   ]
  },
  {
   "cell_type": "code",
   "execution_count": 3,
   "metadata": {},
   "outputs": [
    {
     "name": "stdout",
     "output_type": "stream",
     "text": [
      "<class 'pandas.core.frame.DataFrame'>\n",
      "RangeIndex: 500 entries, 0 to 499\n",
      "Data columns (total 8 columns):\n",
      " #   Column      Non-Null Count  Dtype \n",
      "---  ------      --------------  ----- \n",
      " 0   user_id     500 non-null    int64 \n",
      " 1   age         500 non-null    int64 \n",
      " 2   churn_date  38 non-null     object\n",
      " 3   city        500 non-null    object\n",
      " 4   first_name  500 non-null    object\n",
      " 5   last_name   500 non-null    object\n",
      " 6   reg_date    500 non-null    object\n",
      " 7   tariff      500 non-null    object\n",
      "dtypes: int64(2), object(6)\n",
      "memory usage: 31.4+ KB\n"
     ]
    },
    {
     "data": {
      "text/html": [
       "<div>\n",
       "<style scoped>\n",
       "    .dataframe tbody tr th:only-of-type {\n",
       "        vertical-align: middle;\n",
       "    }\n",
       "\n",
       "    .dataframe tbody tr th {\n",
       "        vertical-align: top;\n",
       "    }\n",
       "\n",
       "    .dataframe thead th {\n",
       "        text-align: right;\n",
       "    }\n",
       "</style>\n",
       "<table border=\"1\" class=\"dataframe\">\n",
       "  <thead>\n",
       "    <tr style=\"text-align: right;\">\n",
       "      <th></th>\n",
       "      <th>user_id</th>\n",
       "      <th>age</th>\n",
       "      <th>churn_date</th>\n",
       "      <th>city</th>\n",
       "      <th>first_name</th>\n",
       "      <th>last_name</th>\n",
       "      <th>reg_date</th>\n",
       "      <th>tariff</th>\n",
       "    </tr>\n",
       "  </thead>\n",
       "  <tbody>\n",
       "    <tr>\n",
       "      <th>0</th>\n",
       "      <td>1000</td>\n",
       "      <td>52</td>\n",
       "      <td>NaT</td>\n",
       "      <td>Краснодар</td>\n",
       "      <td>Рафаил</td>\n",
       "      <td>Верещагин</td>\n",
       "      <td>2018-05-25</td>\n",
       "      <td>ultra</td>\n",
       "    </tr>\n",
       "    <tr>\n",
       "      <th>1</th>\n",
       "      <td>1001</td>\n",
       "      <td>41</td>\n",
       "      <td>NaT</td>\n",
       "      <td>Москва</td>\n",
       "      <td>Иван</td>\n",
       "      <td>Ежов</td>\n",
       "      <td>2018-11-01</td>\n",
       "      <td>smart</td>\n",
       "    </tr>\n",
       "    <tr>\n",
       "      <th>2</th>\n",
       "      <td>1002</td>\n",
       "      <td>59</td>\n",
       "      <td>NaT</td>\n",
       "      <td>Стерлитамак</td>\n",
       "      <td>Евгений</td>\n",
       "      <td>Абрамович</td>\n",
       "      <td>2018-06-17</td>\n",
       "      <td>smart</td>\n",
       "    </tr>\n",
       "    <tr>\n",
       "      <th>3</th>\n",
       "      <td>1003</td>\n",
       "      <td>23</td>\n",
       "      <td>NaT</td>\n",
       "      <td>Москва</td>\n",
       "      <td>Белла</td>\n",
       "      <td>Белякова</td>\n",
       "      <td>2018-08-17</td>\n",
       "      <td>ultra</td>\n",
       "    </tr>\n",
       "    <tr>\n",
       "      <th>4</th>\n",
       "      <td>1004</td>\n",
       "      <td>68</td>\n",
       "      <td>NaT</td>\n",
       "      <td>Новокузнецк</td>\n",
       "      <td>Татьяна</td>\n",
       "      <td>Авдеенко</td>\n",
       "      <td>2018-05-14</td>\n",
       "      <td>ultra</td>\n",
       "    </tr>\n",
       "  </tbody>\n",
       "</table>\n",
       "</div>"
      ],
      "text/plain": [
       "  user_id  age churn_date         city first_name  last_name   reg_date tariff\n",
       "0    1000   52        NaT    Краснодар     Рафаил  Верещагин 2018-05-25  ultra\n",
       "1    1001   41        NaT       Москва       Иван       Ежов 2018-11-01  smart\n",
       "2    1002   59        NaT  Стерлитамак    Евгений  Абрамович 2018-06-17  smart\n",
       "3    1003   23        NaT       Москва      Белла   Белякова 2018-08-17  ultra\n",
       "4    1004   68        NaT  Новокузнецк    Татьяна   Авдеенко 2018-05-14  ultra"
      ]
     },
     "metadata": {},
     "output_type": "display_data"
    },
    {
     "name": "stdout",
     "output_type": "stream",
     "text": [
      "<class 'pandas.core.frame.DataFrame'>\n",
      "RangeIndex: 500 entries, 0 to 499\n",
      "Data columns (total 8 columns):\n",
      " #   Column      Non-Null Count  Dtype         \n",
      "---  ------      --------------  -----         \n",
      " 0   user_id     500 non-null    object        \n",
      " 1   age         500 non-null    int64         \n",
      " 2   churn_date  38 non-null     datetime64[ns]\n",
      " 3   city        500 non-null    object        \n",
      " 4   first_name  500 non-null    object        \n",
      " 5   last_name   500 non-null    object        \n",
      " 6   reg_date    500 non-null    datetime64[ns]\n",
      " 7   tariff      500 non-null    object        \n",
      "dtypes: datetime64[ns](2), int64(1), object(5)\n",
      "memory usage: 31.4+ KB\n"
     ]
    }
   ],
   "source": [
    "data_users.head() \n",
    "data_users.info() \n",
    "data_users['user_id'] = data_users['user_id'].astype('object')\n",
    "data_users['churn_date'] = pd.to_datetime(data_users['churn_date'], format='%Y-%m-%d')\n",
    "data_users['reg_date'] = pd.to_datetime(data_users['reg_date'], format='%Y-%m-%d')\n",
    "\n",
    "display(data_users.head())\n",
    "\n",
    "data_users.info() "
   ]
  },
  {
   "cell_type": "markdown",
   "metadata": {},
   "source": [
    "Названия всех столбцов совпадают с описанием, стилистически названия верны.\n",
    "Пропуски в столбце 'churn_date'. Всего 7,6 % абонентов выборки перестали пользоваться услугами оператора. \n",
    "Пропуски означают действующих клиентов. Их менять не будем.\n",
    "Проверяем, что замена сработала.\n",
    "Не вижу ошибок в этом файле. Предпосылок менять все буквы на низкий регистр тоже не вижу."
   ]
  },
  {
   "cell_type": "code",
   "execution_count": 4,
   "metadata": {
    "scrolled": false
   },
   "outputs": [
    {
     "name": "stdout",
     "output_type": "stream",
     "text": [
      "<class 'pandas.core.frame.DataFrame'>\n",
      "RangeIndex: 202607 entries, 0 to 202606\n",
      "Data columns (total 4 columns):\n",
      " #   Column     Non-Null Count   Dtype  \n",
      "---  ------     --------------   -----  \n",
      " 0   id         202607 non-null  object \n",
      " 1   call_date  202607 non-null  object \n",
      " 2   duration   202607 non-null  float64\n",
      " 3   user_id    202607 non-null  int64  \n",
      "dtypes: float64(1), int64(1), object(2)\n",
      "memory usage: 6.2+ MB\n",
      "<class 'pandas.core.frame.DataFrame'>\n",
      "RangeIndex: 202607 entries, 0 to 202606\n",
      "Data columns (total 5 columns):\n",
      " #   Column     Non-Null Count   Dtype         \n",
      "---  ------     --------------   -----         \n",
      " 0   id         202607 non-null  object        \n",
      " 1   call_date  202607 non-null  datetime64[ns]\n",
      " 2   duration   202607 non-null  int64         \n",
      " 3   user_id    202607 non-null  int64         \n",
      " 4   month      202607 non-null  int64         \n",
      "dtypes: datetime64[ns](1), int64(3), object(1)\n",
      "memory usage: 7.7+ MB\n"
     ]
    },
    {
     "data": {
      "text/html": [
       "<div>\n",
       "<style scoped>\n",
       "    .dataframe tbody tr th:only-of-type {\n",
       "        vertical-align: middle;\n",
       "    }\n",
       "\n",
       "    .dataframe tbody tr th {\n",
       "        vertical-align: top;\n",
       "    }\n",
       "\n",
       "    .dataframe thead th {\n",
       "        text-align: right;\n",
       "    }\n",
       "</style>\n",
       "<table border=\"1\" class=\"dataframe\">\n",
       "  <thead>\n",
       "    <tr style=\"text-align: right;\">\n",
       "      <th></th>\n",
       "      <th></th>\n",
       "      <th>duration</th>\n",
       "      <th>id</th>\n",
       "    </tr>\n",
       "    <tr>\n",
       "      <th>user_id</th>\n",
       "      <th>month</th>\n",
       "      <th></th>\n",
       "      <th></th>\n",
       "    </tr>\n",
       "  </thead>\n",
       "  <tbody>\n",
       "    <tr>\n",
       "      <th rowspan=\"5\" valign=\"top\">1000</th>\n",
       "      <th>5</th>\n",
       "      <td>159</td>\n",
       "      <td>22</td>\n",
       "    </tr>\n",
       "    <tr>\n",
       "      <th>6</th>\n",
       "      <td>172</td>\n",
       "      <td>43</td>\n",
       "    </tr>\n",
       "    <tr>\n",
       "      <th>7</th>\n",
       "      <td>340</td>\n",
       "      <td>47</td>\n",
       "    </tr>\n",
       "    <tr>\n",
       "      <th>8</th>\n",
       "      <td>408</td>\n",
       "      <td>52</td>\n",
       "    </tr>\n",
       "    <tr>\n",
       "      <th>9</th>\n",
       "      <td>466</td>\n",
       "      <td>58</td>\n",
       "    </tr>\n",
       "  </tbody>\n",
       "</table>\n",
       "</div>"
      ],
      "text/plain": [
       "               duration  id\n",
       "user_id month              \n",
       "1000    5           159  22\n",
       "        6           172  43\n",
       "        7           340  47\n",
       "        8           408  52\n",
       "        9           466  58"
      ]
     },
     "execution_count": 4,
     "metadata": {},
     "output_type": "execute_result"
    }
   ],
   "source": [
    "data_calls.head() \n",
    "data_calls.info() \n",
    "\n",
    "data_calls['call_date'] = pd.to_datetime(data_calls['call_date'], format='%Y-%m-%d')\n",
    "data_calls['month'] = pd.DatetimeIndex(data_calls['call_date']).month\n",
    "\n",
    "data_calls['duration'] = np.ceil(data_calls['duration']).astype('int64')\n",
    "\n",
    "data_calls.info()\n",
    "\n",
    "data_calls_total = data_calls.pivot_table(\n",
    "    index = ['user_id', 'month'],\n",
    "    values = ['duration', 'id'],\n",
    "    aggfunc ={'duration':sum, 'id':'count'}\n",
    ")\n",
    "\n",
    "data_calls_total.head()"
   ]
  },
  {
   "cell_type": "markdown",
   "metadata": {},
   "source": [
    "Названия всех столбцов совпадают с описанием, стилистически названия верны. \n",
    "Первые 4 цифры id звонка равны user_id (может быть нам это пригодится).\n",
    "Пропусков в данных нет. "
   ]
  },
  {
   "cell_type": "code",
   "execution_count": 5,
   "metadata": {
    "scrolled": true
   },
   "outputs": [
    {
     "name": "stdout",
     "output_type": "stream",
     "text": [
      "<class 'pandas.core.frame.DataFrame'>\n",
      "RangeIndex: 149396 entries, 0 to 149395\n",
      "Data columns (total 5 columns):\n",
      " #   Column        Non-Null Count   Dtype  \n",
      "---  ------        --------------   -----  \n",
      " 0   Unnamed: 0    149396 non-null  int64  \n",
      " 1   id            149396 non-null  object \n",
      " 2   mb_used       149396 non-null  float64\n",
      " 3   session_date  149396 non-null  object \n",
      " 4   user_id       149396 non-null  int64  \n",
      "dtypes: float64(1), int64(2), object(2)\n",
      "memory usage: 5.7+ MB\n",
      "<class 'pandas.core.frame.DataFrame'>\n",
      "RangeIndex: 149396 entries, 0 to 149395\n",
      "Data columns (total 5 columns):\n",
      " #   Column        Non-Null Count   Dtype         \n",
      "---  ------        --------------   -----         \n",
      " 0   Unnamed: 0    149396 non-null  int64         \n",
      " 1   id            149396 non-null  object        \n",
      " 2   mb_used       149396 non-null  float64       \n",
      " 3   session_date  149396 non-null  datetime64[ns]\n",
      " 4   user_id       149396 non-null  object        \n",
      "dtypes: datetime64[ns](1), float64(1), int64(1), object(2)\n",
      "memory usage: 5.7+ MB\n"
     ]
    },
    {
     "data": {
      "text/html": [
       "<div>\n",
       "<style scoped>\n",
       "    .dataframe tbody tr th:only-of-type {\n",
       "        vertical-align: middle;\n",
       "    }\n",
       "\n",
       "    .dataframe tbody tr th {\n",
       "        vertical-align: top;\n",
       "    }\n",
       "\n",
       "    .dataframe thead th {\n",
       "        text-align: right;\n",
       "    }\n",
       "</style>\n",
       "<table border=\"1\" class=\"dataframe\">\n",
       "  <thead>\n",
       "    <tr style=\"text-align: right;\">\n",
       "      <th></th>\n",
       "      <th></th>\n",
       "      <th>id</th>\n",
       "      <th>mb_used</th>\n",
       "    </tr>\n",
       "    <tr>\n",
       "      <th>user_id</th>\n",
       "      <th>month</th>\n",
       "      <th></th>\n",
       "      <th></th>\n",
       "    </tr>\n",
       "  </thead>\n",
       "  <tbody>\n",
       "    <tr>\n",
       "      <th rowspan=\"5\" valign=\"top\">1000</th>\n",
       "      <th>5</th>\n",
       "      <td>5</td>\n",
       "      <td>2253.49</td>\n",
       "    </tr>\n",
       "    <tr>\n",
       "      <th>6</th>\n",
       "      <td>49</td>\n",
       "      <td>23233.77</td>\n",
       "    </tr>\n",
       "    <tr>\n",
       "      <th>7</th>\n",
       "      <td>29</td>\n",
       "      <td>14003.64</td>\n",
       "    </tr>\n",
       "    <tr>\n",
       "      <th>8</th>\n",
       "      <td>29</td>\n",
       "      <td>14055.93</td>\n",
       "    </tr>\n",
       "    <tr>\n",
       "      <th>9</th>\n",
       "      <td>27</td>\n",
       "      <td>14568.91</td>\n",
       "    </tr>\n",
       "  </tbody>\n",
       "</table>\n",
       "</div>"
      ],
      "text/plain": [
       "               id   mb_used\n",
       "user_id month              \n",
       "1000    5       5   2253.49\n",
       "        6      49  23233.77\n",
       "        7      29  14003.64\n",
       "        8      29  14055.93\n",
       "        9      27  14568.91"
      ]
     },
     "execution_count": 5,
     "metadata": {},
     "output_type": "execute_result"
    }
   ],
   "source": [
    "data_internet.head() \n",
    "data_internet.info()\n",
    "data_internet['user_id'] = data_internet['user_id'].astype('object')\n",
    "data_internet['session_date'] = pd.to_datetime(data_internet['session_date'], format='%Y-%m-%d')\n",
    "data_internet.info()\n",
    "data_internet['month'] = pd.DatetimeIndex(data_internet['session_date']).month\n",
    "\n",
    "data_internet.drop('Unnamed: 0', inplace=True, axis=1)\n",
    "data_internet.head()\n",
    "\n",
    "data_internet_total = data_internet.pivot_table(\n",
    "    index = ['user_id', 'month'],\n",
    "    values = ['id', 'mb_used'],\n",
    "    aggfunc = {'mb_used':sum, 'id':'count'}\n",
    ")\n",
    "\n",
    "data_internet_total.head()"
   ]
  },
  {
   "cell_type": "markdown",
   "metadata": {},
   "source": [
    "Названия всех столбцов совпадают с описанием кроме Unnamed:0, стилистически названия верны. По ошибкам в этом файле: Судя по названию столбца Unnamed:0 он задумывался как счётчик значений с пропущенными id.\n",
    "Значения этого столбца повторяют индексы. На данном этапе думаю, что смысловой нагрузки он не несёт и можно удалить без потерь."
   ]
  },
  {
   "cell_type": "code",
   "execution_count": 6,
   "metadata": {},
   "outputs": [
    {
     "name": "stdout",
     "output_type": "stream",
     "text": [
      "<class 'pandas.core.frame.DataFrame'>\n",
      "RangeIndex: 123036 entries, 0 to 123035\n",
      "Data columns (total 3 columns):\n",
      " #   Column        Non-Null Count   Dtype \n",
      "---  ------        --------------   ----- \n",
      " 0   id            123036 non-null  object\n",
      " 1   message_date  123036 non-null  object\n",
      " 2   user_id       123036 non-null  int64 \n",
      "dtypes: int64(1), object(2)\n",
      "memory usage: 2.8+ MB\n",
      "<class 'pandas.core.frame.DataFrame'>\n",
      "RangeIndex: 123036 entries, 0 to 123035\n",
      "Data columns (total 4 columns):\n",
      " #   Column        Non-Null Count   Dtype         \n",
      "---  ------        --------------   -----         \n",
      " 0   id            123036 non-null  object        \n",
      " 1   message_date  123036 non-null  datetime64[ns]\n",
      " 2   user_id       123036 non-null  object        \n",
      " 3   month         123036 non-null  int64         \n",
      "dtypes: datetime64[ns](1), int64(1), object(2)\n",
      "memory usage: 3.8+ MB\n"
     ]
    },
    {
     "data": {
      "text/html": [
       "<div>\n",
       "<style scoped>\n",
       "    .dataframe tbody tr th:only-of-type {\n",
       "        vertical-align: middle;\n",
       "    }\n",
       "\n",
       "    .dataframe tbody tr th {\n",
       "        vertical-align: top;\n",
       "    }\n",
       "\n",
       "    .dataframe thead th {\n",
       "        text-align: right;\n",
       "    }\n",
       "</style>\n",
       "<table border=\"1\" class=\"dataframe\">\n",
       "  <thead>\n",
       "    <tr style=\"text-align: right;\">\n",
       "      <th></th>\n",
       "      <th></th>\n",
       "      <th>id</th>\n",
       "    </tr>\n",
       "    <tr>\n",
       "      <th>user_id</th>\n",
       "      <th>month</th>\n",
       "      <th></th>\n",
       "    </tr>\n",
       "  </thead>\n",
       "  <tbody>\n",
       "    <tr>\n",
       "      <th rowspan=\"5\" valign=\"top\">1000</th>\n",
       "      <th>5</th>\n",
       "      <td>22</td>\n",
       "    </tr>\n",
       "    <tr>\n",
       "      <th>6</th>\n",
       "      <td>60</td>\n",
       "    </tr>\n",
       "    <tr>\n",
       "      <th>7</th>\n",
       "      <td>75</td>\n",
       "    </tr>\n",
       "    <tr>\n",
       "      <th>8</th>\n",
       "      <td>81</td>\n",
       "    </tr>\n",
       "    <tr>\n",
       "      <th>9</th>\n",
       "      <td>57</td>\n",
       "    </tr>\n",
       "  </tbody>\n",
       "</table>\n",
       "</div>"
      ],
      "text/plain": [
       "               id\n",
       "user_id month    \n",
       "1000    5      22\n",
       "        6      60\n",
       "        7      75\n",
       "        8      81\n",
       "        9      57"
      ]
     },
     "execution_count": 6,
     "metadata": {},
     "output_type": "execute_result"
    }
   ],
   "source": [
    "data_messages.head() \n",
    "data_messages.info()\n",
    "data_messages['message_date'] = pd.to_datetime(data_messages['message_date'], format='%Y-%m-%d')\n",
    "data_messages['user_id'] = data_messages['user_id'].astype('object')\n",
    "data_messages['month'] = pd.DatetimeIndex(data_messages['message_date']).month\n",
    "data_messages.info()\n",
    "data_messages.head(50)\n",
    "data_messages.tail(50)\n",
    "\n",
    "data_messages_total = data_messages.pivot_table(\n",
    "    index = ['user_id', 'month'],\n",
    "    values = ['id'],\n",
    "    aggfunc = 'count'\n",
    ")\n",
    "\n",
    "data_messages_total.head()"
   ]
  },
  {
   "cell_type": "markdown",
   "metadata": {},
   "source": [
    "Названия всех столбцов совпадают с описанием, стилистически названия верны. Не вижу ошибок в этом файле"
   ]
  },
  {
   "cell_type": "code",
   "execution_count": 7,
   "metadata": {
    "scrolled": true
   },
   "outputs": [
    {
     "name": "stdout",
     "output_type": "stream",
     "text": [
      "<class 'pandas.core.frame.DataFrame'>\n",
      "MultiIndex: 3214 entries, (1000, 5) to (1489, 12)\n",
      "Data columns (total 5 columns):\n",
      " #   Column           Non-Null Count  Dtype  \n",
      "---  ------           --------------  -----  \n",
      " 0   duration         3174 non-null   float64\n",
      " 1   calls_number     3174 non-null   float64\n",
      " 2   sessions_number  3203 non-null   float64\n",
      " 3   mb_used          3203 non-null   float64\n",
      " 4   messages_number  2717 non-null   float64\n",
      "dtypes: float64(5)\n",
      "memory usage: 155.5 KB\n"
     ]
    },
    {
     "data": {
      "text/html": [
       "<div>\n",
       "<style scoped>\n",
       "    .dataframe tbody tr th:only-of-type {\n",
       "        vertical-align: middle;\n",
       "    }\n",
       "\n",
       "    .dataframe tbody tr th {\n",
       "        vertical-align: top;\n",
       "    }\n",
       "\n",
       "    .dataframe thead th {\n",
       "        text-align: right;\n",
       "    }\n",
       "</style>\n",
       "<table border=\"1\" class=\"dataframe\">\n",
       "  <thead>\n",
       "    <tr style=\"text-align: right;\">\n",
       "      <th></th>\n",
       "      <th></th>\n",
       "      <th>duration</th>\n",
       "      <th>calls_number</th>\n",
       "      <th>sessions_number</th>\n",
       "      <th>mb_used</th>\n",
       "      <th>messages_number</th>\n",
       "    </tr>\n",
       "    <tr>\n",
       "      <th>user_id</th>\n",
       "      <th>month</th>\n",
       "      <th></th>\n",
       "      <th></th>\n",
       "      <th></th>\n",
       "      <th></th>\n",
       "      <th></th>\n",
       "    </tr>\n",
       "  </thead>\n",
       "  <tbody>\n",
       "    <tr>\n",
       "      <th rowspan=\"5\" valign=\"top\">1000</th>\n",
       "      <th>5</th>\n",
       "      <td>159.0</td>\n",
       "      <td>22.0</td>\n",
       "      <td>5.0</td>\n",
       "      <td>2253.49</td>\n",
       "      <td>22.0</td>\n",
       "    </tr>\n",
       "    <tr>\n",
       "      <th>6</th>\n",
       "      <td>172.0</td>\n",
       "      <td>43.0</td>\n",
       "      <td>49.0</td>\n",
       "      <td>23233.77</td>\n",
       "      <td>60.0</td>\n",
       "    </tr>\n",
       "    <tr>\n",
       "      <th>7</th>\n",
       "      <td>340.0</td>\n",
       "      <td>47.0</td>\n",
       "      <td>29.0</td>\n",
       "      <td>14003.64</td>\n",
       "      <td>75.0</td>\n",
       "    </tr>\n",
       "    <tr>\n",
       "      <th>8</th>\n",
       "      <td>408.0</td>\n",
       "      <td>52.0</td>\n",
       "      <td>29.0</td>\n",
       "      <td>14055.93</td>\n",
       "      <td>81.0</td>\n",
       "    </tr>\n",
       "    <tr>\n",
       "      <th>9</th>\n",
       "      <td>466.0</td>\n",
       "      <td>58.0</td>\n",
       "      <td>27.0</td>\n",
       "      <td>14568.91</td>\n",
       "      <td>57.0</td>\n",
       "    </tr>\n",
       "  </tbody>\n",
       "</table>\n",
       "</div>"
      ],
      "text/plain": [
       "               duration  calls_number  sessions_number   mb_used  \\\n",
       "user_id month                                                      \n",
       "1000    5         159.0          22.0              5.0   2253.49   \n",
       "        6         172.0          43.0             49.0  23233.77   \n",
       "        7         340.0          47.0             29.0  14003.64   \n",
       "        8         408.0          52.0             29.0  14055.93   \n",
       "        9         466.0          58.0             27.0  14568.91   \n",
       "\n",
       "               messages_number  \n",
       "user_id month                   \n",
       "1000    5                 22.0  \n",
       "        6                 60.0  \n",
       "        7                 75.0  \n",
       "        8                 81.0  \n",
       "        9                 57.0  "
      ]
     },
     "metadata": {},
     "output_type": "display_data"
    },
    {
     "name": "stdout",
     "output_type": "stream",
     "text": [
      "<class 'pandas.core.frame.DataFrame'>\n",
      "MultiIndex: 3214 entries, (1000, 5) to (1489, 12)\n",
      "Data columns (total 5 columns):\n",
      " #   Column           Non-Null Count  Dtype  \n",
      "---  ------           --------------  -----  \n",
      " 0   duration         3214 non-null   float64\n",
      " 1   calls_number     3214 non-null   float64\n",
      " 2   sessions_number  3214 non-null   float64\n",
      " 3   mb_used          3214 non-null   float64\n",
      " 4   messages_number  3214 non-null   float64\n",
      "dtypes: float64(5)\n",
      "memory usage: 155.5 KB\n"
     ]
    }
   ],
   "source": [
    "data_calls_total.rename(columns = {'id':'calls_number'}, inplace=True)\n",
    "data_internet_total.rename(columns = {'id':'sessions_number'}, inplace=True)\n",
    "data_messages_total.rename(columns = {'id':'messages_number'}, inplace=True)\n",
    "\n",
    "data_total = data_calls_total.merge(data_internet_total, \n",
    "    on = ['user_id', 'month'], how = 'outer').merge(data_messages_total, \n",
    "    on = ['user_id', 'month'], how = 'outer')\n",
    "    \n",
    "data_total.info() \n",
    "display(data_total.head())\n",
    "\n",
    "data_total['duration'] = data_total['duration'].fillna(0)\n",
    "data_total['sessions_number'] = data_total['sessions_number'].fillna(0)\n",
    "data_total['mb_used'] = data_total['mb_used'].fillna(0)\n",
    "data_total['calls_number'] = data_total['calls_number'].fillna(0)\n",
    "data_total['messages_number'] = data_total['messages_number'].fillna(0)\n",
    "\n",
    "data_total.info()"
   ]
  },
  {
   "cell_type": "markdown",
   "metadata": {},
   "source": [
    "После  получаем, что есть пропущенные значения во всех столбцах.\n",
    "Это похоже на реальную картину вещей: не все абоненты пользуются сообщениями и телефонными разговорами в век интернета. Не все пользуются интернетом, в выборке представлены абоненты всех возрастов.\n",
    "Благодаря месенджерам обмен сообщениями уже в 2018 году не является самой популярной услугой.\n",
    "Не думаю, что правильным решением будет заменять пропущенные значения на моду или медиану, т.к. это может повлиять на рассчёт дохода от тарифа. Заменим на нули."
   ]
  },
  {
   "cell_type": "code",
   "execution_count": 8,
   "metadata": {
    "scrolled": true
   },
   "outputs": [
    {
     "name": "stdout",
     "output_type": "stream",
     "text": [
      "<class 'pandas.core.frame.DataFrame'>\n",
      "Int64Index: 3216 entries, 0 to 3215\n",
      "Data columns (total 13 columns):\n",
      " #   Column           Non-Null Count  Dtype         \n",
      "---  ------           --------------  -----         \n",
      " 0   user_id          3216 non-null   object        \n",
      " 1   age              3216 non-null   int64         \n",
      " 2   churn_date       189 non-null    datetime64[ns]\n",
      " 3   city             3216 non-null   object        \n",
      " 4   first_name       3216 non-null   object        \n",
      " 5   last_name        3216 non-null   object        \n",
      " 6   reg_date         3216 non-null   datetime64[ns]\n",
      " 7   tariff           3216 non-null   object        \n",
      " 8   duration         3214 non-null   float64       \n",
      " 9   calls_number     3214 non-null   float64       \n",
      " 10  sessions_number  3214 non-null   float64       \n",
      " 11  mb_used          3214 non-null   float64       \n",
      " 12  messages_number  3214 non-null   float64       \n",
      "dtypes: datetime64[ns](2), float64(5), int64(1), object(5)\n",
      "memory usage: 351.8+ KB\n",
      "<class 'pandas.core.frame.DataFrame'>\n",
      "Int64Index: 3214 entries, 0 to 3215\n",
      "Data columns (total 13 columns):\n",
      " #   Column           Non-Null Count  Dtype         \n",
      "---  ------           --------------  -----         \n",
      " 0   user_id          3214 non-null   object        \n",
      " 1   age              3214 non-null   int64         \n",
      " 2   churn_date       187 non-null    datetime64[ns]\n",
      " 3   city             3214 non-null   object        \n",
      " 4   first_name       3214 non-null   object        \n",
      " 5   last_name        3214 non-null   object        \n",
      " 6   reg_date         3214 non-null   datetime64[ns]\n",
      " 7   tariff           3214 non-null   object        \n",
      " 8   duration         3214 non-null   float64       \n",
      " 9   calls_number     3214 non-null   float64       \n",
      " 10  sessions_number  3214 non-null   float64       \n",
      " 11  mb_used          3214 non-null   float64       \n",
      " 12  messages_number  3214 non-null   float64       \n",
      "dtypes: datetime64[ns](2), float64(5), int64(1), object(5)\n",
      "memory usage: 351.5+ KB\n"
     ]
    },
    {
     "data": {
      "text/plain": [
       "0"
      ]
     },
     "execution_count": 8,
     "metadata": {},
     "output_type": "execute_result"
    }
   ],
   "source": [
    "data_total = data_users.merge(data_total, on=['user_id'], how='outer')\n",
    "\n",
    "data_total.head()\n",
    "\n",
    "data_total.info() \n",
    "\n",
    "data_total.dropna(subset=['duration', 'calls_number', 'messages_number'], inplace=True)\n",
    "\n",
    "data_total.info()\n",
    "\n",
    "data_total.head()\n",
    "\n",
    "data_total['duration'].isna().sum()"
   ]
  },
  {
   "cell_type": "markdown",
   "metadata": {},
   "source": [
    "Замечаем, что после объединения образовались абоненты, по которым нет информации по использованию услугами Мегалайн. Да, они завели сим-карту, но не пользовались ей. Можно преположить, что этих пользователей нет в живых, либо терефон был утерян и при восстановлениипользователь обратился к другом оператору. В любом случае таких строк меньше процента от общего числа."
   ]
  },
  {
   "cell_type": "code",
   "execution_count": 9,
   "metadata": {
    "scrolled": true
   },
   "outputs": [
    {
     "data": {
      "text/html": [
       "<div>\n",
       "<style scoped>\n",
       "    .dataframe tbody tr th:only-of-type {\n",
       "        vertical-align: middle;\n",
       "    }\n",
       "\n",
       "    .dataframe tbody tr th {\n",
       "        vertical-align: top;\n",
       "    }\n",
       "\n",
       "    .dataframe thead th {\n",
       "        text-align: right;\n",
       "    }\n",
       "</style>\n",
       "<table border=\"1\" class=\"dataframe\">\n",
       "  <thead>\n",
       "    <tr style=\"text-align: right;\">\n",
       "      <th></th>\n",
       "      <th>user_id</th>\n",
       "      <th>age</th>\n",
       "      <th>churn_date</th>\n",
       "      <th>city</th>\n",
       "      <th>first_name</th>\n",
       "      <th>last_name</th>\n",
       "      <th>reg_date</th>\n",
       "      <th>tariff</th>\n",
       "      <th>duration</th>\n",
       "      <th>calls_number</th>\n",
       "      <th>sessions_number</th>\n",
       "      <th>mb_used</th>\n",
       "      <th>messages_number</th>\n",
       "      <th>cost_duration_over_tariff</th>\n",
       "    </tr>\n",
       "  </thead>\n",
       "  <tbody>\n",
       "    <tr>\n",
       "      <th>0</th>\n",
       "      <td>1000</td>\n",
       "      <td>52</td>\n",
       "      <td>NaT</td>\n",
       "      <td>Краснодар</td>\n",
       "      <td>Рафаил</td>\n",
       "      <td>Верещагин</td>\n",
       "      <td>2018-05-25</td>\n",
       "      <td>ultra</td>\n",
       "      <td>159.0</td>\n",
       "      <td>22.0</td>\n",
       "      <td>5.0</td>\n",
       "      <td>2253.49</td>\n",
       "      <td>22.0</td>\n",
       "      <td>0.0</td>\n",
       "    </tr>\n",
       "    <tr>\n",
       "      <th>1</th>\n",
       "      <td>1000</td>\n",
       "      <td>52</td>\n",
       "      <td>NaT</td>\n",
       "      <td>Краснодар</td>\n",
       "      <td>Рафаил</td>\n",
       "      <td>Верещагин</td>\n",
       "      <td>2018-05-25</td>\n",
       "      <td>ultra</td>\n",
       "      <td>172.0</td>\n",
       "      <td>43.0</td>\n",
       "      <td>49.0</td>\n",
       "      <td>23233.77</td>\n",
       "      <td>60.0</td>\n",
       "      <td>0.0</td>\n",
       "    </tr>\n",
       "    <tr>\n",
       "      <th>2</th>\n",
       "      <td>1000</td>\n",
       "      <td>52</td>\n",
       "      <td>NaT</td>\n",
       "      <td>Краснодар</td>\n",
       "      <td>Рафаил</td>\n",
       "      <td>Верещагин</td>\n",
       "      <td>2018-05-25</td>\n",
       "      <td>ultra</td>\n",
       "      <td>340.0</td>\n",
       "      <td>47.0</td>\n",
       "      <td>29.0</td>\n",
       "      <td>14003.64</td>\n",
       "      <td>75.0</td>\n",
       "      <td>0.0</td>\n",
       "    </tr>\n",
       "    <tr>\n",
       "      <th>3</th>\n",
       "      <td>1000</td>\n",
       "      <td>52</td>\n",
       "      <td>NaT</td>\n",
       "      <td>Краснодар</td>\n",
       "      <td>Рафаил</td>\n",
       "      <td>Верещагин</td>\n",
       "      <td>2018-05-25</td>\n",
       "      <td>ultra</td>\n",
       "      <td>408.0</td>\n",
       "      <td>52.0</td>\n",
       "      <td>29.0</td>\n",
       "      <td>14055.93</td>\n",
       "      <td>81.0</td>\n",
       "      <td>0.0</td>\n",
       "    </tr>\n",
       "    <tr>\n",
       "      <th>4</th>\n",
       "      <td>1000</td>\n",
       "      <td>52</td>\n",
       "      <td>NaT</td>\n",
       "      <td>Краснодар</td>\n",
       "      <td>Рафаил</td>\n",
       "      <td>Верещагин</td>\n",
       "      <td>2018-05-25</td>\n",
       "      <td>ultra</td>\n",
       "      <td>466.0</td>\n",
       "      <td>58.0</td>\n",
       "      <td>27.0</td>\n",
       "      <td>14568.91</td>\n",
       "      <td>57.0</td>\n",
       "      <td>0.0</td>\n",
       "    </tr>\n",
       "  </tbody>\n",
       "</table>\n",
       "</div>"
      ],
      "text/plain": [
       "  user_id  age churn_date       city first_name  last_name   reg_date tariff  \\\n",
       "0    1000   52        NaT  Краснодар     Рафаил  Верещагин 2018-05-25  ultra   \n",
       "1    1000   52        NaT  Краснодар     Рафаил  Верещагин 2018-05-25  ultra   \n",
       "2    1000   52        NaT  Краснодар     Рафаил  Верещагин 2018-05-25  ultra   \n",
       "3    1000   52        NaT  Краснодар     Рафаил  Верещагин 2018-05-25  ultra   \n",
       "4    1000   52        NaT  Краснодар     Рафаил  Верещагин 2018-05-25  ultra   \n",
       "\n",
       "   duration  calls_number  sessions_number   mb_used  messages_number  \\\n",
       "0     159.0          22.0              5.0   2253.49             22.0   \n",
       "1     172.0          43.0             49.0  23233.77             60.0   \n",
       "2     340.0          47.0             29.0  14003.64             75.0   \n",
       "3     408.0          52.0             29.0  14055.93             81.0   \n",
       "4     466.0          58.0             27.0  14568.91             57.0   \n",
       "\n",
       "   cost_duration_over_tariff  \n",
       "0                        0.0  \n",
       "1                        0.0  \n",
       "2                        0.0  \n",
       "3                        0.0  \n",
       "4                        0.0  "
      ]
     },
     "execution_count": 9,
     "metadata": {},
     "output_type": "execute_result"
    }
   ],
   "source": [
    "def duration_over_tariff(row):\n",
    "    if row['tariff'] == 'ultra':\n",
    "        cost_duration_over_tariff = ((row['duration'] - data_tariffs.loc[1, 'minutes_included'])*data_tariffs.loc[1, 'rub_per_minute'])\n",
    "        if cost_duration_over_tariff > 0:\n",
    "            return cost_duration_over_tariff\n",
    "        else:\n",
    "            return 0\n",
    "    else:\n",
    "        cost_duration_over_tariff = ((row['duration'] - data_tariffs.loc[0, 'minutes_included'])*data_tariffs.loc[0, 'rub_per_minute'])\n",
    "        if cost_duration_over_tariff > 0:\n",
    "            return cost_duration_over_tariff\n",
    "        else:\n",
    "            return 0\n",
    "\n",
    "data_total['cost_duration_over_tariff'] = data_total.apply(duration_over_tariff, axis=1)\n",
    "data_total.head()"
   ]
  },
  {
   "cell_type": "code",
   "execution_count": 10,
   "metadata": {},
   "outputs": [
    {
     "data": {
      "text/html": [
       "<div>\n",
       "<style scoped>\n",
       "    .dataframe tbody tr th:only-of-type {\n",
       "        vertical-align: middle;\n",
       "    }\n",
       "\n",
       "    .dataframe tbody tr th {\n",
       "        vertical-align: top;\n",
       "    }\n",
       "\n",
       "    .dataframe thead th {\n",
       "        text-align: right;\n",
       "    }\n",
       "</style>\n",
       "<table border=\"1\" class=\"dataframe\">\n",
       "  <thead>\n",
       "    <tr style=\"text-align: right;\">\n",
       "      <th></th>\n",
       "      <th>user_id</th>\n",
       "      <th>age</th>\n",
       "      <th>churn_date</th>\n",
       "      <th>city</th>\n",
       "      <th>first_name</th>\n",
       "      <th>last_name</th>\n",
       "      <th>reg_date</th>\n",
       "      <th>tariff</th>\n",
       "      <th>duration</th>\n",
       "      <th>calls_number</th>\n",
       "      <th>sessions_number</th>\n",
       "      <th>mb_used</th>\n",
       "      <th>messages_number</th>\n",
       "      <th>cost_duration_over_tariff</th>\n",
       "      <th>cost_messages_over_tariff</th>\n",
       "    </tr>\n",
       "  </thead>\n",
       "  <tbody>\n",
       "    <tr>\n",
       "      <th>0</th>\n",
       "      <td>1000</td>\n",
       "      <td>52</td>\n",
       "      <td>NaT</td>\n",
       "      <td>Краснодар</td>\n",
       "      <td>Рафаил</td>\n",
       "      <td>Верещагин</td>\n",
       "      <td>2018-05-25</td>\n",
       "      <td>ultra</td>\n",
       "      <td>159.0</td>\n",
       "      <td>22.0</td>\n",
       "      <td>5.0</td>\n",
       "      <td>2253.49</td>\n",
       "      <td>22.0</td>\n",
       "      <td>0.0</td>\n",
       "      <td>0.0</td>\n",
       "    </tr>\n",
       "    <tr>\n",
       "      <th>1</th>\n",
       "      <td>1000</td>\n",
       "      <td>52</td>\n",
       "      <td>NaT</td>\n",
       "      <td>Краснодар</td>\n",
       "      <td>Рафаил</td>\n",
       "      <td>Верещагин</td>\n",
       "      <td>2018-05-25</td>\n",
       "      <td>ultra</td>\n",
       "      <td>172.0</td>\n",
       "      <td>43.0</td>\n",
       "      <td>49.0</td>\n",
       "      <td>23233.77</td>\n",
       "      <td>60.0</td>\n",
       "      <td>0.0</td>\n",
       "      <td>0.0</td>\n",
       "    </tr>\n",
       "    <tr>\n",
       "      <th>2</th>\n",
       "      <td>1000</td>\n",
       "      <td>52</td>\n",
       "      <td>NaT</td>\n",
       "      <td>Краснодар</td>\n",
       "      <td>Рафаил</td>\n",
       "      <td>Верещагин</td>\n",
       "      <td>2018-05-25</td>\n",
       "      <td>ultra</td>\n",
       "      <td>340.0</td>\n",
       "      <td>47.0</td>\n",
       "      <td>29.0</td>\n",
       "      <td>14003.64</td>\n",
       "      <td>75.0</td>\n",
       "      <td>0.0</td>\n",
       "      <td>0.0</td>\n",
       "    </tr>\n",
       "    <tr>\n",
       "      <th>3</th>\n",
       "      <td>1000</td>\n",
       "      <td>52</td>\n",
       "      <td>NaT</td>\n",
       "      <td>Краснодар</td>\n",
       "      <td>Рафаил</td>\n",
       "      <td>Верещагин</td>\n",
       "      <td>2018-05-25</td>\n",
       "      <td>ultra</td>\n",
       "      <td>408.0</td>\n",
       "      <td>52.0</td>\n",
       "      <td>29.0</td>\n",
       "      <td>14055.93</td>\n",
       "      <td>81.0</td>\n",
       "      <td>0.0</td>\n",
       "      <td>0.0</td>\n",
       "    </tr>\n",
       "    <tr>\n",
       "      <th>4</th>\n",
       "      <td>1000</td>\n",
       "      <td>52</td>\n",
       "      <td>NaT</td>\n",
       "      <td>Краснодар</td>\n",
       "      <td>Рафаил</td>\n",
       "      <td>Верещагин</td>\n",
       "      <td>2018-05-25</td>\n",
       "      <td>ultra</td>\n",
       "      <td>466.0</td>\n",
       "      <td>58.0</td>\n",
       "      <td>27.0</td>\n",
       "      <td>14568.91</td>\n",
       "      <td>57.0</td>\n",
       "      <td>0.0</td>\n",
       "      <td>0.0</td>\n",
       "    </tr>\n",
       "  </tbody>\n",
       "</table>\n",
       "</div>"
      ],
      "text/plain": [
       "  user_id  age churn_date       city first_name  last_name   reg_date tariff  \\\n",
       "0    1000   52        NaT  Краснодар     Рафаил  Верещагин 2018-05-25  ultra   \n",
       "1    1000   52        NaT  Краснодар     Рафаил  Верещагин 2018-05-25  ultra   \n",
       "2    1000   52        NaT  Краснодар     Рафаил  Верещагин 2018-05-25  ultra   \n",
       "3    1000   52        NaT  Краснодар     Рафаил  Верещагин 2018-05-25  ultra   \n",
       "4    1000   52        NaT  Краснодар     Рафаил  Верещагин 2018-05-25  ultra   \n",
       "\n",
       "   duration  calls_number  sessions_number   mb_used  messages_number  \\\n",
       "0     159.0          22.0              5.0   2253.49             22.0   \n",
       "1     172.0          43.0             49.0  23233.77             60.0   \n",
       "2     340.0          47.0             29.0  14003.64             75.0   \n",
       "3     408.0          52.0             29.0  14055.93             81.0   \n",
       "4     466.0          58.0             27.0  14568.91             57.0   \n",
       "\n",
       "   cost_duration_over_tariff  cost_messages_over_tariff  \n",
       "0                        0.0                        0.0  \n",
       "1                        0.0                        0.0  \n",
       "2                        0.0                        0.0  \n",
       "3                        0.0                        0.0  \n",
       "4                        0.0                        0.0  "
      ]
     },
     "execution_count": 10,
     "metadata": {},
     "output_type": "execute_result"
    }
   ],
   "source": [
    "def messages_over_tariff(row):\n",
    "    if row['tariff'] == 'ultra':\n",
    "        cost_messages_over_tariff = ((row['messages_number'] - data_tariffs.loc[1, 'messages_included'])*data_tariffs.loc[1, 'rub_per_message'])\n",
    "        if cost_messages_over_tariff > 0:\n",
    "            return cost_messages_over_tariff\n",
    "        else:\n",
    "            return 0\n",
    "    else:\n",
    "        cost_messages_over_tariff = ((row['messages_number'] - data_tariffs.loc[0, 'messages_included'])*data_tariffs.loc[0, 'rub_per_message'])\n",
    "        if cost_messages_over_tariff > 0:\n",
    "            return cost_messages_over_tariff\n",
    "        else:\n",
    "            return 0\n",
    "\n",
    "data_total['cost_messages_over_tariff'] = data_total.apply(messages_over_tariff, axis=1)\n",
    "\n",
    "data_total.head()"
   ]
  },
  {
   "cell_type": "code",
   "execution_count": 11,
   "metadata": {},
   "outputs": [
    {
     "data": {
      "text/html": [
       "<div>\n",
       "<style scoped>\n",
       "    .dataframe tbody tr th:only-of-type {\n",
       "        vertical-align: middle;\n",
       "    }\n",
       "\n",
       "    .dataframe tbody tr th {\n",
       "        vertical-align: top;\n",
       "    }\n",
       "\n",
       "    .dataframe thead th {\n",
       "        text-align: right;\n",
       "    }\n",
       "</style>\n",
       "<table border=\"1\" class=\"dataframe\">\n",
       "  <thead>\n",
       "    <tr style=\"text-align: right;\">\n",
       "      <th></th>\n",
       "      <th>user_id</th>\n",
       "      <th>age</th>\n",
       "      <th>churn_date</th>\n",
       "      <th>city</th>\n",
       "      <th>first_name</th>\n",
       "      <th>last_name</th>\n",
       "      <th>reg_date</th>\n",
       "      <th>tariff</th>\n",
       "      <th>duration</th>\n",
       "      <th>calls_number</th>\n",
       "      <th>sessions_number</th>\n",
       "      <th>mb_used</th>\n",
       "      <th>messages_number</th>\n",
       "      <th>cost_duration_over_tariff</th>\n",
       "      <th>cost_messages_over_tariff</th>\n",
       "      <th>cost_gb_over_tariff</th>\n",
       "    </tr>\n",
       "  </thead>\n",
       "  <tbody>\n",
       "    <tr>\n",
       "      <th>0</th>\n",
       "      <td>1000</td>\n",
       "      <td>52</td>\n",
       "      <td>NaT</td>\n",
       "      <td>Краснодар</td>\n",
       "      <td>Рафаил</td>\n",
       "      <td>Верещагин</td>\n",
       "      <td>2018-05-25</td>\n",
       "      <td>ultra</td>\n",
       "      <td>159.0</td>\n",
       "      <td>22.0</td>\n",
       "      <td>5.0</td>\n",
       "      <td>2253.49</td>\n",
       "      <td>22.0</td>\n",
       "      <td>0.0</td>\n",
       "      <td>0.0</td>\n",
       "      <td>0</td>\n",
       "    </tr>\n",
       "    <tr>\n",
       "      <th>1</th>\n",
       "      <td>1000</td>\n",
       "      <td>52</td>\n",
       "      <td>NaT</td>\n",
       "      <td>Краснодар</td>\n",
       "      <td>Рафаил</td>\n",
       "      <td>Верещагин</td>\n",
       "      <td>2018-05-25</td>\n",
       "      <td>ultra</td>\n",
       "      <td>172.0</td>\n",
       "      <td>43.0</td>\n",
       "      <td>49.0</td>\n",
       "      <td>23233.77</td>\n",
       "      <td>60.0</td>\n",
       "      <td>0.0</td>\n",
       "      <td>0.0</td>\n",
       "      <td>0</td>\n",
       "    </tr>\n",
       "    <tr>\n",
       "      <th>2</th>\n",
       "      <td>1000</td>\n",
       "      <td>52</td>\n",
       "      <td>NaT</td>\n",
       "      <td>Краснодар</td>\n",
       "      <td>Рафаил</td>\n",
       "      <td>Верещагин</td>\n",
       "      <td>2018-05-25</td>\n",
       "      <td>ultra</td>\n",
       "      <td>340.0</td>\n",
       "      <td>47.0</td>\n",
       "      <td>29.0</td>\n",
       "      <td>14003.64</td>\n",
       "      <td>75.0</td>\n",
       "      <td>0.0</td>\n",
       "      <td>0.0</td>\n",
       "      <td>0</td>\n",
       "    </tr>\n",
       "    <tr>\n",
       "      <th>3</th>\n",
       "      <td>1000</td>\n",
       "      <td>52</td>\n",
       "      <td>NaT</td>\n",
       "      <td>Краснодар</td>\n",
       "      <td>Рафаил</td>\n",
       "      <td>Верещагин</td>\n",
       "      <td>2018-05-25</td>\n",
       "      <td>ultra</td>\n",
       "      <td>408.0</td>\n",
       "      <td>52.0</td>\n",
       "      <td>29.0</td>\n",
       "      <td>14055.93</td>\n",
       "      <td>81.0</td>\n",
       "      <td>0.0</td>\n",
       "      <td>0.0</td>\n",
       "      <td>0</td>\n",
       "    </tr>\n",
       "    <tr>\n",
       "      <th>4</th>\n",
       "      <td>1000</td>\n",
       "      <td>52</td>\n",
       "      <td>NaT</td>\n",
       "      <td>Краснодар</td>\n",
       "      <td>Рафаил</td>\n",
       "      <td>Верещагин</td>\n",
       "      <td>2018-05-25</td>\n",
       "      <td>ultra</td>\n",
       "      <td>466.0</td>\n",
       "      <td>58.0</td>\n",
       "      <td>27.0</td>\n",
       "      <td>14568.91</td>\n",
       "      <td>57.0</td>\n",
       "      <td>0.0</td>\n",
       "      <td>0.0</td>\n",
       "      <td>0</td>\n",
       "    </tr>\n",
       "  </tbody>\n",
       "</table>\n",
       "</div>"
      ],
      "text/plain": [
       "  user_id  age churn_date       city first_name  last_name   reg_date tariff  \\\n",
       "0    1000   52        NaT  Краснодар     Рафаил  Верещагин 2018-05-25  ultra   \n",
       "1    1000   52        NaT  Краснодар     Рафаил  Верещагин 2018-05-25  ultra   \n",
       "2    1000   52        NaT  Краснодар     Рафаил  Верещагин 2018-05-25  ultra   \n",
       "3    1000   52        NaT  Краснодар     Рафаил  Верещагин 2018-05-25  ultra   \n",
       "4    1000   52        NaT  Краснодар     Рафаил  Верещагин 2018-05-25  ultra   \n",
       "\n",
       "   duration  calls_number  sessions_number   mb_used  messages_number  \\\n",
       "0     159.0          22.0              5.0   2253.49             22.0   \n",
       "1     172.0          43.0             49.0  23233.77             60.0   \n",
       "2     340.0          47.0             29.0  14003.64             75.0   \n",
       "3     408.0          52.0             29.0  14055.93             81.0   \n",
       "4     466.0          58.0             27.0  14568.91             57.0   \n",
       "\n",
       "   cost_duration_over_tariff  cost_messages_over_tariff  cost_gb_over_tariff  \n",
       "0                        0.0                        0.0                    0  \n",
       "1                        0.0                        0.0                    0  \n",
       "2                        0.0                        0.0                    0  \n",
       "3                        0.0                        0.0                    0  \n",
       "4                        0.0                        0.0                    0  "
      ]
     },
     "execution_count": 11,
     "metadata": {},
     "output_type": "execute_result"
    }
   ],
   "source": [
    "def gb_over_tariff(row):\n",
    "    if row['tariff'] == 'ultra':\n",
    "        cost_gb_over_tariff = ((math.ceil((row['mb_used'] - data_tariffs.loc[1, 'mb_per_month_included'])/1024)*data_tariffs.loc[1, 'rub_per_gb']))\n",
    "        if cost_gb_over_tariff > 0:\n",
    "            return cost_gb_over_tariff\n",
    "        else:\n",
    "            return 0\n",
    "    else:\n",
    "        cost_gb_over_tariff = ((math.ceil((row['mb_used'] - data_tariffs.loc[0, 'mb_per_month_included'])/1024)*data_tariffs.loc[0, 'rub_per_gb']))\n",
    "        if cost_gb_over_tariff > 0:\n",
    "            return cost_gb_over_tariff\n",
    "        else:\n",
    "            return 0\n",
    "\n",
    "data_total['cost_gb_over_tariff'] = data_total.apply(gb_over_tariff, axis=1)\n",
    "\n",
    "data_total.head()"
   ]
  },
  {
   "cell_type": "code",
   "execution_count": 12,
   "metadata": {
    "scrolled": true
   },
   "outputs": [
    {
     "data": {
      "text/html": [
       "<div>\n",
       "<style scoped>\n",
       "    .dataframe tbody tr th:only-of-type {\n",
       "        vertical-align: middle;\n",
       "    }\n",
       "\n",
       "    .dataframe tbody tr th {\n",
       "        vertical-align: top;\n",
       "    }\n",
       "\n",
       "    .dataframe thead th {\n",
       "        text-align: right;\n",
       "    }\n",
       "</style>\n",
       "<table border=\"1\" class=\"dataframe\">\n",
       "  <thead>\n",
       "    <tr style=\"text-align: right;\">\n",
       "      <th></th>\n",
       "      <th>user_id</th>\n",
       "      <th>age</th>\n",
       "      <th>churn_date</th>\n",
       "      <th>city</th>\n",
       "      <th>first_name</th>\n",
       "      <th>last_name</th>\n",
       "      <th>reg_date</th>\n",
       "      <th>tariff</th>\n",
       "      <th>duration</th>\n",
       "      <th>calls_number</th>\n",
       "      <th>sessions_number</th>\n",
       "      <th>mb_used</th>\n",
       "      <th>messages_number</th>\n",
       "      <th>cost_duration_over_tariff</th>\n",
       "      <th>cost_messages_over_tariff</th>\n",
       "      <th>cost_gb_over_tariff</th>\n",
       "      <th>tariff_costs</th>\n",
       "      <th>final_costs</th>\n",
       "    </tr>\n",
       "  </thead>\n",
       "  <tbody>\n",
       "    <tr>\n",
       "      <th>0</th>\n",
       "      <td>1000</td>\n",
       "      <td>52</td>\n",
       "      <td>NaT</td>\n",
       "      <td>Краснодар</td>\n",
       "      <td>Рафаил</td>\n",
       "      <td>Верещагин</td>\n",
       "      <td>2018-05-25</td>\n",
       "      <td>ultra</td>\n",
       "      <td>159.0</td>\n",
       "      <td>22.0</td>\n",
       "      <td>5.0</td>\n",
       "      <td>2253.49</td>\n",
       "      <td>22.0</td>\n",
       "      <td>0.0</td>\n",
       "      <td>0.0</td>\n",
       "      <td>0</td>\n",
       "      <td>0.0</td>\n",
       "      <td>1950.0</td>\n",
       "    </tr>\n",
       "    <tr>\n",
       "      <th>1</th>\n",
       "      <td>1000</td>\n",
       "      <td>52</td>\n",
       "      <td>NaT</td>\n",
       "      <td>Краснодар</td>\n",
       "      <td>Рафаил</td>\n",
       "      <td>Верещагин</td>\n",
       "      <td>2018-05-25</td>\n",
       "      <td>ultra</td>\n",
       "      <td>172.0</td>\n",
       "      <td>43.0</td>\n",
       "      <td>49.0</td>\n",
       "      <td>23233.77</td>\n",
       "      <td>60.0</td>\n",
       "      <td>0.0</td>\n",
       "      <td>0.0</td>\n",
       "      <td>0</td>\n",
       "      <td>0.0</td>\n",
       "      <td>1950.0</td>\n",
       "    </tr>\n",
       "    <tr>\n",
       "      <th>2</th>\n",
       "      <td>1000</td>\n",
       "      <td>52</td>\n",
       "      <td>NaT</td>\n",
       "      <td>Краснодар</td>\n",
       "      <td>Рафаил</td>\n",
       "      <td>Верещагин</td>\n",
       "      <td>2018-05-25</td>\n",
       "      <td>ultra</td>\n",
       "      <td>340.0</td>\n",
       "      <td>47.0</td>\n",
       "      <td>29.0</td>\n",
       "      <td>14003.64</td>\n",
       "      <td>75.0</td>\n",
       "      <td>0.0</td>\n",
       "      <td>0.0</td>\n",
       "      <td>0</td>\n",
       "      <td>0.0</td>\n",
       "      <td>1950.0</td>\n",
       "    </tr>\n",
       "    <tr>\n",
       "      <th>3</th>\n",
       "      <td>1000</td>\n",
       "      <td>52</td>\n",
       "      <td>NaT</td>\n",
       "      <td>Краснодар</td>\n",
       "      <td>Рафаил</td>\n",
       "      <td>Верещагин</td>\n",
       "      <td>2018-05-25</td>\n",
       "      <td>ultra</td>\n",
       "      <td>408.0</td>\n",
       "      <td>52.0</td>\n",
       "      <td>29.0</td>\n",
       "      <td>14055.93</td>\n",
       "      <td>81.0</td>\n",
       "      <td>0.0</td>\n",
       "      <td>0.0</td>\n",
       "      <td>0</td>\n",
       "      <td>0.0</td>\n",
       "      <td>1950.0</td>\n",
       "    </tr>\n",
       "    <tr>\n",
       "      <th>4</th>\n",
       "      <td>1000</td>\n",
       "      <td>52</td>\n",
       "      <td>NaT</td>\n",
       "      <td>Краснодар</td>\n",
       "      <td>Рафаил</td>\n",
       "      <td>Верещагин</td>\n",
       "      <td>2018-05-25</td>\n",
       "      <td>ultra</td>\n",
       "      <td>466.0</td>\n",
       "      <td>58.0</td>\n",
       "      <td>27.0</td>\n",
       "      <td>14568.91</td>\n",
       "      <td>57.0</td>\n",
       "      <td>0.0</td>\n",
       "      <td>0.0</td>\n",
       "      <td>0</td>\n",
       "      <td>0.0</td>\n",
       "      <td>1950.0</td>\n",
       "    </tr>\n",
       "  </tbody>\n",
       "</table>\n",
       "</div>"
      ],
      "text/plain": [
       "  user_id  age churn_date       city first_name  last_name   reg_date tariff  \\\n",
       "0    1000   52        NaT  Краснодар     Рафаил  Верещагин 2018-05-25  ultra   \n",
       "1    1000   52        NaT  Краснодар     Рафаил  Верещагин 2018-05-25  ultra   \n",
       "2    1000   52        NaT  Краснодар     Рафаил  Верещагин 2018-05-25  ultra   \n",
       "3    1000   52        NaT  Краснодар     Рафаил  Верещагин 2018-05-25  ultra   \n",
       "4    1000   52        NaT  Краснодар     Рафаил  Верещагин 2018-05-25  ultra   \n",
       "\n",
       "   duration  calls_number  sessions_number   mb_used  messages_number  \\\n",
       "0     159.0          22.0              5.0   2253.49             22.0   \n",
       "1     172.0          43.0             49.0  23233.77             60.0   \n",
       "2     340.0          47.0             29.0  14003.64             75.0   \n",
       "3     408.0          52.0             29.0  14055.93             81.0   \n",
       "4     466.0          58.0             27.0  14568.91             57.0   \n",
       "\n",
       "   cost_duration_over_tariff  cost_messages_over_tariff  cost_gb_over_tariff  \\\n",
       "0                        0.0                        0.0                    0   \n",
       "1                        0.0                        0.0                    0   \n",
       "2                        0.0                        0.0                    0   \n",
       "3                        0.0                        0.0                    0   \n",
       "4                        0.0                        0.0                    0   \n",
       "\n",
       "   tariff_costs  final_costs  \n",
       "0           0.0       1950.0  \n",
       "1           0.0       1950.0  \n",
       "2           0.0       1950.0  \n",
       "3           0.0       1950.0  \n",
       "4           0.0       1950.0  "
      ]
     },
     "execution_count": 12,
     "metadata": {},
     "output_type": "execute_result"
    }
   ],
   "source": [
    "data_total['tariff_costs'] = data_total['cost_duration_over_tariff'] + data_total['cost_messages_over_tariff'] + data_total['cost_gb_over_tariff']\n",
    "\n",
    "def final_costs(row):\n",
    "    if row['tariff'] == 'ultra':\n",
    "        total_costs = row['tariff_costs'] + data_tariffs.loc[1, 'rub_monthly_fee']\n",
    "        return total_costs\n",
    "    else:\n",
    "        total_costs = row['tariff_costs'] + data_tariffs.loc[0, 'rub_monthly_fee']\n",
    "        return total_costs\n",
    "    \n",
    "data_total['final_costs'] = data_total.apply(final_costs, axis=1)\n",
    "\n",
    "data_total.head()"
   ]
  },
  {
   "cell_type": "code",
   "execution_count": 13,
   "metadata": {},
   "outputs": [
    {
     "data": {
      "text/html": [
       "<div>\n",
       "<style scoped>\n",
       "    .dataframe tbody tr th:only-of-type {\n",
       "        vertical-align: middle;\n",
       "    }\n",
       "\n",
       "    .dataframe tbody tr th {\n",
       "        vertical-align: top;\n",
       "    }\n",
       "\n",
       "    .dataframe thead th {\n",
       "        text-align: right;\n",
       "    }\n",
       "</style>\n",
       "<table border=\"1\" class=\"dataframe\">\n",
       "  <thead>\n",
       "    <tr style=\"text-align: right;\">\n",
       "      <th></th>\n",
       "      <th>user_id</th>\n",
       "      <th>age</th>\n",
       "      <th>churn_date</th>\n",
       "      <th>city</th>\n",
       "      <th>first_name</th>\n",
       "      <th>last_name</th>\n",
       "      <th>reg_date</th>\n",
       "      <th>tariff</th>\n",
       "      <th>duration</th>\n",
       "      <th>calls_number</th>\n",
       "      <th>sessions_number</th>\n",
       "      <th>mb_used</th>\n",
       "      <th>messages_number</th>\n",
       "      <th>cost_duration_over_tariff</th>\n",
       "      <th>cost_messages_over_tariff</th>\n",
       "      <th>cost_gb_over_tariff</th>\n",
       "      <th>tariff_costs</th>\n",
       "      <th>final_costs</th>\n",
       "    </tr>\n",
       "  </thead>\n",
       "  <tbody>\n",
       "    <tr>\n",
       "      <th>1804</th>\n",
       "      <td>1284</td>\n",
       "      <td>62</td>\n",
       "      <td>NaT</td>\n",
       "      <td>Волгоград</td>\n",
       "      <td>Евфросинья</td>\n",
       "      <td>Петухова</td>\n",
       "      <td>2018-03-16</td>\n",
       "      <td>smart</td>\n",
       "      <td>533.0</td>\n",
       "      <td>68.0</td>\n",
       "      <td>64.0</td>\n",
       "      <td>21590.83</td>\n",
       "      <td>39.0</td>\n",
       "      <td>99.0</td>\n",
       "      <td>0.0</td>\n",
       "      <td>1400</td>\n",
       "      <td>1499.0</td>\n",
       "      <td>2049.0</td>\n",
       "    </tr>\n",
       "    <tr>\n",
       "      <th>2937</th>\n",
       "      <td>1457</td>\n",
       "      <td>35</td>\n",
       "      <td>NaT</td>\n",
       "      <td>Саратов</td>\n",
       "      <td>Татьяна</td>\n",
       "      <td>Авчинникова</td>\n",
       "      <td>2018-03-14</td>\n",
       "      <td>smart</td>\n",
       "      <td>516.0</td>\n",
       "      <td>64.0</td>\n",
       "      <td>40.0</td>\n",
       "      <td>11136.03</td>\n",
       "      <td>21.0</td>\n",
       "      <td>48.0</td>\n",
       "      <td>0.0</td>\n",
       "      <td>0</td>\n",
       "      <td>48.0</td>\n",
       "      <td>598.0</td>\n",
       "    </tr>\n",
       "    <tr>\n",
       "      <th>2907</th>\n",
       "      <td>1454</td>\n",
       "      <td>29</td>\n",
       "      <td>NaT</td>\n",
       "      <td>Томск</td>\n",
       "      <td>Адам</td>\n",
       "      <td>Алешин</td>\n",
       "      <td>2018-03-08</td>\n",
       "      <td>smart</td>\n",
       "      <td>491.0</td>\n",
       "      <td>74.0</td>\n",
       "      <td>34.0</td>\n",
       "      <td>11823.07</td>\n",
       "      <td>30.0</td>\n",
       "      <td>0.0</td>\n",
       "      <td>0.0</td>\n",
       "      <td>0</td>\n",
       "      <td>0.0</td>\n",
       "      <td>550.0</td>\n",
       "    </tr>\n",
       "    <tr>\n",
       "      <th>3015</th>\n",
       "      <td>1469</td>\n",
       "      <td>41</td>\n",
       "      <td>NaT</td>\n",
       "      <td>Сочи</td>\n",
       "      <td>Аксён</td>\n",
       "      <td>Абалкин</td>\n",
       "      <td>2018-07-06</td>\n",
       "      <td>ultra</td>\n",
       "      <td>793.0</td>\n",
       "      <td>102.0</td>\n",
       "      <td>50.0</td>\n",
       "      <td>23165.96</td>\n",
       "      <td>0.0</td>\n",
       "      <td>0.0</td>\n",
       "      <td>0.0</td>\n",
       "      <td>0</td>\n",
       "      <td>0.0</td>\n",
       "      <td>1950.0</td>\n",
       "    </tr>\n",
       "    <tr>\n",
       "      <th>2256</th>\n",
       "      <td>1358</td>\n",
       "      <td>64</td>\n",
       "      <td>NaT</td>\n",
       "      <td>Ставрополь</td>\n",
       "      <td>Демьян</td>\n",
       "      <td>Логинов</td>\n",
       "      <td>2018-02-21</td>\n",
       "      <td>smart</td>\n",
       "      <td>129.0</td>\n",
       "      <td>19.0</td>\n",
       "      <td>10.0</td>\n",
       "      <td>2859.68</td>\n",
       "      <td>12.0</td>\n",
       "      <td>0.0</td>\n",
       "      <td>0.0</td>\n",
       "      <td>0</td>\n",
       "      <td>0.0</td>\n",
       "      <td>550.0</td>\n",
       "    </tr>\n",
       "    <tr>\n",
       "      <th>1709</th>\n",
       "      <td>1270</td>\n",
       "      <td>18</td>\n",
       "      <td>NaT</td>\n",
       "      <td>Нижневартовск</td>\n",
       "      <td>Мальвина</td>\n",
       "      <td>Вешнякова</td>\n",
       "      <td>2018-07-01</td>\n",
       "      <td>ultra</td>\n",
       "      <td>285.0</td>\n",
       "      <td>42.0</td>\n",
       "      <td>27.0</td>\n",
       "      <td>11000.59</td>\n",
       "      <td>46.0</td>\n",
       "      <td>0.0</td>\n",
       "      <td>0.0</td>\n",
       "      <td>0</td>\n",
       "      <td>0.0</td>\n",
       "      <td>1950.0</td>\n",
       "    </tr>\n",
       "    <tr>\n",
       "      <th>440</th>\n",
       "      <td>1068</td>\n",
       "      <td>34</td>\n",
       "      <td>NaT</td>\n",
       "      <td>Москва</td>\n",
       "      <td>Ким</td>\n",
       "      <td>Демьянов</td>\n",
       "      <td>2018-07-16</td>\n",
       "      <td>smart</td>\n",
       "      <td>575.0</td>\n",
       "      <td>80.0</td>\n",
       "      <td>83.0</td>\n",
       "      <td>28083.47</td>\n",
       "      <td>28.0</td>\n",
       "      <td>225.0</td>\n",
       "      <td>0.0</td>\n",
       "      <td>2600</td>\n",
       "      <td>2825.0</td>\n",
       "      <td>3375.0</td>\n",
       "    </tr>\n",
       "    <tr>\n",
       "      <th>1470</th>\n",
       "      <td>1229</td>\n",
       "      <td>24</td>\n",
       "      <td>NaT</td>\n",
       "      <td>Москва</td>\n",
       "      <td>Нелли</td>\n",
       "      <td>Зубкова</td>\n",
       "      <td>2018-10-29</td>\n",
       "      <td>smart</td>\n",
       "      <td>1022.0</td>\n",
       "      <td>128.0</td>\n",
       "      <td>86.0</td>\n",
       "      <td>24999.56</td>\n",
       "      <td>6.0</td>\n",
       "      <td>1566.0</td>\n",
       "      <td>0.0</td>\n",
       "      <td>2000</td>\n",
       "      <td>3566.0</td>\n",
       "      <td>4116.0</td>\n",
       "    </tr>\n",
       "    <tr>\n",
       "      <th>2910</th>\n",
       "      <td>1454</td>\n",
       "      <td>29</td>\n",
       "      <td>NaT</td>\n",
       "      <td>Томск</td>\n",
       "      <td>Адам</td>\n",
       "      <td>Алешин</td>\n",
       "      <td>2018-03-08</td>\n",
       "      <td>smart</td>\n",
       "      <td>520.0</td>\n",
       "      <td>77.0</td>\n",
       "      <td>44.0</td>\n",
       "      <td>15346.11</td>\n",
       "      <td>28.0</td>\n",
       "      <td>60.0</td>\n",
       "      <td>0.0</td>\n",
       "      <td>0</td>\n",
       "      <td>60.0</td>\n",
       "      <td>610.0</td>\n",
       "    </tr>\n",
       "    <tr>\n",
       "      <th>925</th>\n",
       "      <td>1146</td>\n",
       "      <td>72</td>\n",
       "      <td>NaT</td>\n",
       "      <td>Санкт-Петербург</td>\n",
       "      <td>Владислав</td>\n",
       "      <td>Никонов</td>\n",
       "      <td>2018-05-25</td>\n",
       "      <td>smart</td>\n",
       "      <td>634.0</td>\n",
       "      <td>83.0</td>\n",
       "      <td>47.0</td>\n",
       "      <td>16715.65</td>\n",
       "      <td>78.0</td>\n",
       "      <td>402.0</td>\n",
       "      <td>84.0</td>\n",
       "      <td>400</td>\n",
       "      <td>886.0</td>\n",
       "      <td>1436.0</td>\n",
       "    </tr>\n",
       "    <tr>\n",
       "      <th>814</th>\n",
       "      <td>1126</td>\n",
       "      <td>71</td>\n",
       "      <td>NaT</td>\n",
       "      <td>Санкт-Петербург</td>\n",
       "      <td>Яна</td>\n",
       "      <td>Арсенкова</td>\n",
       "      <td>2018-01-19</td>\n",
       "      <td>ultra</td>\n",
       "      <td>534.0</td>\n",
       "      <td>79.0</td>\n",
       "      <td>50.0</td>\n",
       "      <td>26517.42</td>\n",
       "      <td>1.0</td>\n",
       "      <td>0.0</td>\n",
       "      <td>0.0</td>\n",
       "      <td>0</td>\n",
       "      <td>0.0</td>\n",
       "      <td>1950.0</td>\n",
       "    </tr>\n",
       "    <tr>\n",
       "      <th>2102</th>\n",
       "      <td>1331</td>\n",
       "      <td>26</td>\n",
       "      <td>NaT</td>\n",
       "      <td>Москва</td>\n",
       "      <td>Юлия</td>\n",
       "      <td>Малинина</td>\n",
       "      <td>2018-04-12</td>\n",
       "      <td>ultra</td>\n",
       "      <td>542.0</td>\n",
       "      <td>73.0</td>\n",
       "      <td>68.0</td>\n",
       "      <td>32954.66</td>\n",
       "      <td>72.0</td>\n",
       "      <td>0.0</td>\n",
       "      <td>0.0</td>\n",
       "      <td>450</td>\n",
       "      <td>450.0</td>\n",
       "      <td>2400.0</td>\n",
       "    </tr>\n",
       "    <tr>\n",
       "      <th>1307</th>\n",
       "      <td>1204</td>\n",
       "      <td>18</td>\n",
       "      <td>NaT</td>\n",
       "      <td>Москва</td>\n",
       "      <td>Мирослава</td>\n",
       "      <td>Лазарева</td>\n",
       "      <td>2018-01-04</td>\n",
       "      <td>smart</td>\n",
       "      <td>367.0</td>\n",
       "      <td>43.0</td>\n",
       "      <td>69.0</td>\n",
       "      <td>19745.95</td>\n",
       "      <td>0.0</td>\n",
       "      <td>0.0</td>\n",
       "      <td>0.0</td>\n",
       "      <td>1000</td>\n",
       "      <td>1000.0</td>\n",
       "      <td>1550.0</td>\n",
       "    </tr>\n",
       "    <tr>\n",
       "      <th>1899</th>\n",
       "      <td>1299</td>\n",
       "      <td>37</td>\n",
       "      <td>NaT</td>\n",
       "      <td>Уфа</td>\n",
       "      <td>Мариетта</td>\n",
       "      <td>Симонова</td>\n",
       "      <td>2018-01-27</td>\n",
       "      <td>smart</td>\n",
       "      <td>395.0</td>\n",
       "      <td>52.0</td>\n",
       "      <td>56.0</td>\n",
       "      <td>20741.56</td>\n",
       "      <td>46.0</td>\n",
       "      <td>0.0</td>\n",
       "      <td>0.0</td>\n",
       "      <td>1200</td>\n",
       "      <td>1200.0</td>\n",
       "      <td>1750.0</td>\n",
       "    </tr>\n",
       "    <tr>\n",
       "      <th>2580</th>\n",
       "      <td>1402</td>\n",
       "      <td>23</td>\n",
       "      <td>NaT</td>\n",
       "      <td>Пенза</td>\n",
       "      <td>Мариетта</td>\n",
       "      <td>Измайлова</td>\n",
       "      <td>2018-03-09</td>\n",
       "      <td>ultra</td>\n",
       "      <td>689.0</td>\n",
       "      <td>92.0</td>\n",
       "      <td>54.0</td>\n",
       "      <td>27426.18</td>\n",
       "      <td>32.0</td>\n",
       "      <td>0.0</td>\n",
       "      <td>0.0</td>\n",
       "      <td>0</td>\n",
       "      <td>0.0</td>\n",
       "      <td>1950.0</td>\n",
       "    </tr>\n",
       "    <tr>\n",
       "      <th>2066</th>\n",
       "      <td>1326</td>\n",
       "      <td>37</td>\n",
       "      <td>NaT</td>\n",
       "      <td>Санкт-Петербург</td>\n",
       "      <td>Леонид</td>\n",
       "      <td>Барсуков</td>\n",
       "      <td>2018-05-29</td>\n",
       "      <td>smart</td>\n",
       "      <td>32.0</td>\n",
       "      <td>4.0</td>\n",
       "      <td>9.0</td>\n",
       "      <td>2743.76</td>\n",
       "      <td>3.0</td>\n",
       "      <td>0.0</td>\n",
       "      <td>0.0</td>\n",
       "      <td>0</td>\n",
       "      <td>0.0</td>\n",
       "      <td>550.0</td>\n",
       "    </tr>\n",
       "    <tr>\n",
       "      <th>1725</th>\n",
       "      <td>1273</td>\n",
       "      <td>46</td>\n",
       "      <td>NaT</td>\n",
       "      <td>Курган</td>\n",
       "      <td>Рэм</td>\n",
       "      <td>Корнилов</td>\n",
       "      <td>2018-05-15</td>\n",
       "      <td>ultra</td>\n",
       "      <td>253.0</td>\n",
       "      <td>44.0</td>\n",
       "      <td>0.0</td>\n",
       "      <td>0.00</td>\n",
       "      <td>37.0</td>\n",
       "      <td>0.0</td>\n",
       "      <td>0.0</td>\n",
       "      <td>0</td>\n",
       "      <td>0.0</td>\n",
       "      <td>1950.0</td>\n",
       "    </tr>\n",
       "    <tr>\n",
       "      <th>1123</th>\n",
       "      <td>1176</td>\n",
       "      <td>37</td>\n",
       "      <td>NaT</td>\n",
       "      <td>Волгоград</td>\n",
       "      <td>Радим</td>\n",
       "      <td>Куприянов</td>\n",
       "      <td>2018-01-20</td>\n",
       "      <td>smart</td>\n",
       "      <td>400.0</td>\n",
       "      <td>59.0</td>\n",
       "      <td>58.0</td>\n",
       "      <td>17272.69</td>\n",
       "      <td>47.0</td>\n",
       "      <td>0.0</td>\n",
       "      <td>0.0</td>\n",
       "      <td>400</td>\n",
       "      <td>400.0</td>\n",
       "      <td>950.0</td>\n",
       "    </tr>\n",
       "    <tr>\n",
       "      <th>574</th>\n",
       "      <td>1091</td>\n",
       "      <td>36</td>\n",
       "      <td>NaT</td>\n",
       "      <td>Набережные Челны</td>\n",
       "      <td>Вера</td>\n",
       "      <td>Суслова</td>\n",
       "      <td>2018-05-08</td>\n",
       "      <td>ultra</td>\n",
       "      <td>0.0</td>\n",
       "      <td>0.0</td>\n",
       "      <td>29.0</td>\n",
       "      <td>16597.11</td>\n",
       "      <td>32.0</td>\n",
       "      <td>0.0</td>\n",
       "      <td>0.0</td>\n",
       "      <td>0</td>\n",
       "      <td>0.0</td>\n",
       "      <td>1950.0</td>\n",
       "    </tr>\n",
       "    <tr>\n",
       "      <th>76</th>\n",
       "      <td>1010</td>\n",
       "      <td>26</td>\n",
       "      <td>NaT</td>\n",
       "      <td>Тюмень</td>\n",
       "      <td>Эдуард</td>\n",
       "      <td>Кононов</td>\n",
       "      <td>2018-08-05</td>\n",
       "      <td>smart</td>\n",
       "      <td>290.0</td>\n",
       "      <td>39.0</td>\n",
       "      <td>56.0</td>\n",
       "      <td>19236.73</td>\n",
       "      <td>0.0</td>\n",
       "      <td>0.0</td>\n",
       "      <td>0.0</td>\n",
       "      <td>800</td>\n",
       "      <td>800.0</td>\n",
       "      <td>1350.0</td>\n",
       "    </tr>\n",
       "  </tbody>\n",
       "</table>\n",
       "</div>"
      ],
      "text/plain": [
       "     user_id  age churn_date              city  first_name    last_name  \\\n",
       "1804    1284   62        NaT         Волгоград  Евфросинья     Петухова   \n",
       "2937    1457   35        NaT           Саратов     Татьяна  Авчинникова   \n",
       "2907    1454   29        NaT             Томск        Адам       Алешин   \n",
       "3015    1469   41        NaT              Сочи       Аксён      Абалкин   \n",
       "2256    1358   64        NaT        Ставрополь      Демьян      Логинов   \n",
       "1709    1270   18        NaT     Нижневартовск    Мальвина    Вешнякова   \n",
       "440     1068   34        NaT            Москва         Ким     Демьянов   \n",
       "1470    1229   24        NaT            Москва       Нелли      Зубкова   \n",
       "2910    1454   29        NaT             Томск        Адам       Алешин   \n",
       "925     1146   72        NaT   Санкт-Петербург   Владислав      Никонов   \n",
       "814     1126   71        NaT   Санкт-Петербург         Яна    Арсенкова   \n",
       "2102    1331   26        NaT            Москва        Юлия     Малинина   \n",
       "1307    1204   18        NaT            Москва   Мирослава     Лазарева   \n",
       "1899    1299   37        NaT               Уфа    Мариетта     Симонова   \n",
       "2580    1402   23        NaT             Пенза    Мариетта    Измайлова   \n",
       "2066    1326   37        NaT   Санкт-Петербург      Леонид     Барсуков   \n",
       "1725    1273   46        NaT            Курган         Рэм     Корнилов   \n",
       "1123    1176   37        NaT         Волгоград       Радим    Куприянов   \n",
       "574     1091   36        NaT  Набережные Челны        Вера      Суслова   \n",
       "76      1010   26        NaT            Тюмень      Эдуард      Кононов   \n",
       "\n",
       "       reg_date tariff  duration  calls_number  sessions_number   mb_used  \\\n",
       "1804 2018-03-16  smart     533.0          68.0             64.0  21590.83   \n",
       "2937 2018-03-14  smart     516.0          64.0             40.0  11136.03   \n",
       "2907 2018-03-08  smart     491.0          74.0             34.0  11823.07   \n",
       "3015 2018-07-06  ultra     793.0         102.0             50.0  23165.96   \n",
       "2256 2018-02-21  smart     129.0          19.0             10.0   2859.68   \n",
       "1709 2018-07-01  ultra     285.0          42.0             27.0  11000.59   \n",
       "440  2018-07-16  smart     575.0          80.0             83.0  28083.47   \n",
       "1470 2018-10-29  smart    1022.0         128.0             86.0  24999.56   \n",
       "2910 2018-03-08  smart     520.0          77.0             44.0  15346.11   \n",
       "925  2018-05-25  smart     634.0          83.0             47.0  16715.65   \n",
       "814  2018-01-19  ultra     534.0          79.0             50.0  26517.42   \n",
       "2102 2018-04-12  ultra     542.0          73.0             68.0  32954.66   \n",
       "1307 2018-01-04  smart     367.0          43.0             69.0  19745.95   \n",
       "1899 2018-01-27  smart     395.0          52.0             56.0  20741.56   \n",
       "2580 2018-03-09  ultra     689.0          92.0             54.0  27426.18   \n",
       "2066 2018-05-29  smart      32.0           4.0              9.0   2743.76   \n",
       "1725 2018-05-15  ultra     253.0          44.0              0.0      0.00   \n",
       "1123 2018-01-20  smart     400.0          59.0             58.0  17272.69   \n",
       "574  2018-05-08  ultra       0.0           0.0             29.0  16597.11   \n",
       "76   2018-08-05  smart     290.0          39.0             56.0  19236.73   \n",
       "\n",
       "      messages_number  cost_duration_over_tariff  cost_messages_over_tariff  \\\n",
       "1804             39.0                       99.0                        0.0   \n",
       "2937             21.0                       48.0                        0.0   \n",
       "2907             30.0                        0.0                        0.0   \n",
       "3015              0.0                        0.0                        0.0   \n",
       "2256             12.0                        0.0                        0.0   \n",
       "1709             46.0                        0.0                        0.0   \n",
       "440              28.0                      225.0                        0.0   \n",
       "1470              6.0                     1566.0                        0.0   \n",
       "2910             28.0                       60.0                        0.0   \n",
       "925              78.0                      402.0                       84.0   \n",
       "814               1.0                        0.0                        0.0   \n",
       "2102             72.0                        0.0                        0.0   \n",
       "1307              0.0                        0.0                        0.0   \n",
       "1899             46.0                        0.0                        0.0   \n",
       "2580             32.0                        0.0                        0.0   \n",
       "2066              3.0                        0.0                        0.0   \n",
       "1725             37.0                        0.0                        0.0   \n",
       "1123             47.0                        0.0                        0.0   \n",
       "574              32.0                        0.0                        0.0   \n",
       "76                0.0                        0.0                        0.0   \n",
       "\n",
       "      cost_gb_over_tariff  tariff_costs  final_costs  \n",
       "1804                 1400        1499.0       2049.0  \n",
       "2937                    0          48.0        598.0  \n",
       "2907                    0           0.0        550.0  \n",
       "3015                    0           0.0       1950.0  \n",
       "2256                    0           0.0        550.0  \n",
       "1709                    0           0.0       1950.0  \n",
       "440                  2600        2825.0       3375.0  \n",
       "1470                 2000        3566.0       4116.0  \n",
       "2910                    0          60.0        610.0  \n",
       "925                   400         886.0       1436.0  \n",
       "814                     0           0.0       1950.0  \n",
       "2102                  450         450.0       2400.0  \n",
       "1307                 1000        1000.0       1550.0  \n",
       "1899                 1200        1200.0       1750.0  \n",
       "2580                    0           0.0       1950.0  \n",
       "2066                    0           0.0        550.0  \n",
       "1725                    0           0.0       1950.0  \n",
       "1123                  400         400.0        950.0  \n",
       "574                     0           0.0       1950.0  \n",
       "76                    800         800.0       1350.0  "
      ]
     },
     "execution_count": 13,
     "metadata": {},
     "output_type": "execute_result"
    }
   ],
   "source": [
    "data_total.sample(20)"
   ]
  },
  {
   "cell_type": "markdown",
   "metadata": {},
   "source": [
    "**Часть 3. Анализ данных**\n",
    "<a id='section_3'></a>"
   ]
  },
  {
   "cell_type": "code",
   "execution_count": 14,
   "metadata": {
    "scrolled": false
   },
   "outputs": [
    {
     "data": {
      "image/png": "[encoded data removed]",
      "text/plain": [
       "<Figure size 432x288 with 1 Axes>"
      ]
     },
     "metadata": {
      "needs_background": "light"
     },
     "output_type": "display_data"
    },
    {
     "data": {
      "text/html": [
       "<div>\n",
       "<style scoped>\n",
       "    .dataframe tbody tr th:only-of-type {\n",
       "        vertical-align: middle;\n",
       "    }\n",
       "\n",
       "    .dataframe tbody tr th {\n",
       "        vertical-align: top;\n",
       "    }\n",
       "\n",
       "    .dataframe thead th {\n",
       "        text-align: right;\n",
       "    }\n",
       "</style>\n",
       "<table border=\"1\" class=\"dataframe\">\n",
       "  <thead>\n",
       "    <tr style=\"text-align: right;\">\n",
       "      <th></th>\n",
       "      <th>count</th>\n",
       "      <th>mean</th>\n",
       "      <th>std</th>\n",
       "      <th>min</th>\n",
       "      <th>25%</th>\n",
       "      <th>50%</th>\n",
       "      <th>75%</th>\n",
       "      <th>max</th>\n",
       "    </tr>\n",
       "    <tr>\n",
       "      <th>tariff</th>\n",
       "      <th></th>\n",
       "      <th></th>\n",
       "      <th></th>\n",
       "      <th></th>\n",
       "      <th></th>\n",
       "      <th></th>\n",
       "      <th></th>\n",
       "      <th></th>\n",
       "    </tr>\n",
       "  </thead>\n",
       "  <tbody>\n",
       "    <tr>\n",
       "      <th>smart</th>\n",
       "      <td>2229.0</td>\n",
       "      <td>417.934948</td>\n",
       "      <td>190.313730</td>\n",
       "      <td>0.0</td>\n",
       "      <td>282.0</td>\n",
       "      <td>422.0</td>\n",
       "      <td>545.0</td>\n",
       "      <td>1435.0</td>\n",
       "    </tr>\n",
       "    <tr>\n",
       "      <th>ultra</th>\n",
       "      <td>985.0</td>\n",
       "      <td>526.623350</td>\n",
       "      <td>317.606098</td>\n",
       "      <td>0.0</td>\n",
       "      <td>284.0</td>\n",
       "      <td>518.0</td>\n",
       "      <td>752.0</td>\n",
       "      <td>1673.0</td>\n",
       "    </tr>\n",
       "  </tbody>\n",
       "</table>\n",
       "</div>"
      ],
      "text/plain": [
       "         count        mean         std  min    25%    50%    75%     max\n",
       "tariff                                                                  \n",
       "smart   2229.0  417.934948  190.313730  0.0  282.0  422.0  545.0  1435.0\n",
       "ultra    985.0  526.623350  317.606098  0.0  284.0  518.0  752.0  1673.0"
      ]
     },
     "metadata": {},
     "output_type": "display_data"
    },
    {
     "data": {
      "text/plain": [
       "tariff\n",
       "smart     36219.315784\n",
       "ultra    100873.633397\n",
       "Name: duration, dtype: float64"
      ]
     },
     "execution_count": 14,
     "metadata": {},
     "output_type": "execute_result"
    }
   ],
   "source": [
    "data_total.groupby('tariff')['duration'].plot(kind='hist',\n",
    "    bins=30,\n",
    "    legend=True,\n",
    "    grid=True)\n",
    "\n",
    "plt.axvline(x=550, color='b', ls=':', label='Лимит по smart') # в label даем название, которое отразится в легенде\n",
    "plt.axvline(x=3000, color='orange', ls=':', label='Лимит по ultra')\n",
    "plt.title('Распределение абонентов по продолжительности звонков в тарифах')\n",
    "plt.xlabel('Продолжительность звонков, мин')\n",
    "plt.ylabel('Количество')\n",
    "plt.show()\n",
    "\n",
    "display(data_total.groupby('tariff')['duration'].describe())\n",
    "data_total.groupby('tariff')['duration'].var()"
   ]
  },
  {
   "cell_type": "markdown",
   "metadata": {},
   "source": [
    "Распределение пользователнй в тарифе 'Smart' близко к нормальному с пиком около 400 минут в месяц. Здесь же видно, аномальное значение - кто-то говорил в месяц 1484 минут в месяц (около суток). Из данных выше видно, что средняя продолжительность разговора в тарифе Ультра выше на 30 %, при этом среднее количество звонков в этом тарифе также больше на 30%. "
   ]
  },
  {
   "cell_type": "code",
   "execution_count": 15,
   "metadata": {},
   "outputs": [
    {
     "data": {
      "image/png": "[encoded data removed]",
      "text/plain": [
       "<Figure size 432x288 with 1 Axes>"
      ]
     },
     "metadata": {
      "needs_background": "light"
     },
     "output_type": "display_data"
    },
    {
     "data": {
      "text/html": [
       "<div>\n",
       "<style scoped>\n",
       "    .dataframe tbody tr th:only-of-type {\n",
       "        vertical-align: middle;\n",
       "    }\n",
       "\n",
       "    .dataframe tbody tr th {\n",
       "        vertical-align: top;\n",
       "    }\n",
       "\n",
       "    .dataframe thead th {\n",
       "        text-align: right;\n",
       "    }\n",
       "</style>\n",
       "<table border=\"1\" class=\"dataframe\">\n",
       "  <thead>\n",
       "    <tr style=\"text-align: right;\">\n",
       "      <th></th>\n",
       "      <th>count</th>\n",
       "      <th>mean</th>\n",
       "      <th>std</th>\n",
       "      <th>min</th>\n",
       "      <th>25%</th>\n",
       "      <th>50%</th>\n",
       "      <th>75%</th>\n",
       "      <th>max</th>\n",
       "    </tr>\n",
       "    <tr>\n",
       "      <th>tariff</th>\n",
       "      <th></th>\n",
       "      <th></th>\n",
       "      <th></th>\n",
       "      <th></th>\n",
       "      <th></th>\n",
       "      <th></th>\n",
       "      <th></th>\n",
       "      <th></th>\n",
       "    </tr>\n",
       "  </thead>\n",
       "  <tbody>\n",
       "    <tr>\n",
       "      <th>smart</th>\n",
       "      <td>2229.0</td>\n",
       "      <td>33.384029</td>\n",
       "      <td>28.227876</td>\n",
       "      <td>0.0</td>\n",
       "      <td>10.0</td>\n",
       "      <td>28.0</td>\n",
       "      <td>51.0</td>\n",
       "      <td>143.0</td>\n",
       "    </tr>\n",
       "    <tr>\n",
       "      <th>ultra</th>\n",
       "      <td>985.0</td>\n",
       "      <td>49.363452</td>\n",
       "      <td>47.804457</td>\n",
       "      <td>0.0</td>\n",
       "      <td>6.0</td>\n",
       "      <td>38.0</td>\n",
       "      <td>79.0</td>\n",
       "      <td>224.0</td>\n",
       "    </tr>\n",
       "  </tbody>\n",
       "</table>\n",
       "</div>"
      ],
      "text/plain": [
       "         count       mean        std  min   25%   50%   75%    max\n",
       "tariff                                                            \n",
       "smart   2229.0  33.384029  28.227876  0.0  10.0  28.0  51.0  143.0\n",
       "ultra    985.0  49.363452  47.804457  0.0   6.0  38.0  79.0  224.0"
      ]
     },
     "metadata": {},
     "output_type": "display_data"
    },
    {
     "data": {
      "text/plain": [
       "tariff\n",
       "smart     796.812958\n",
       "ultra    2285.266143\n",
       "Name: messages_number, dtype: float64"
      ]
     },
     "execution_count": 15,
     "metadata": {},
     "output_type": "execute_result"
    }
   ],
   "source": [
    "data_total.groupby('tariff')['messages_number'].plot(kind='hist',\n",
    "    bins=50,\n",
    "    legend=True,\n",
    "    grid=True)\n",
    "\n",
    "plt.title('Распределение абонентов по количеству сообщений в тарифах')\n",
    "plt.xlabel('Количество сообщений')\n",
    "plt.ylabel('Количество')\n",
    "plt.show()\n",
    "\n",
    "display(data_total.groupby('tariff')['messages_number'].describe())\n",
    "data_total.groupby('tariff')['messages_number'].var()"
   ]
  },
  {
   "cell_type": "markdown",
   "metadata": {},
   "source": [
    "Из графика видно, что большое количество пользователей в обоих тарифах не используют сообщения или используют крайне редко. Но есть и аномальные значения - кто отправил около 250 сообщений в месяц. Сообщениями также обмениваются больше владельцы тарифа \"Ультра\" на 48%."
   ]
  },
  {
   "cell_type": "code",
   "execution_count": 16,
   "metadata": {},
   "outputs": [
    {
     "data": {
      "image/png": "[encoded data removed]",
      "text/plain": [
       "<Figure size 432x288 with 1 Axes>"
      ]
     },
     "metadata": {
      "needs_background": "light"
     },
     "output_type": "display_data"
    },
    {
     "data": {
      "text/html": [
       "<div>\n",
       "<style scoped>\n",
       "    .dataframe tbody tr th:only-of-type {\n",
       "        vertical-align: middle;\n",
       "    }\n",
       "\n",
       "    .dataframe tbody tr th {\n",
       "        vertical-align: top;\n",
       "    }\n",
       "\n",
       "    .dataframe thead th {\n",
       "        text-align: right;\n",
       "    }\n",
       "</style>\n",
       "<table border=\"1\" class=\"dataframe\">\n",
       "  <thead>\n",
       "    <tr style=\"text-align: right;\">\n",
       "      <th></th>\n",
       "      <th>count</th>\n",
       "      <th>mean</th>\n",
       "      <th>std</th>\n",
       "      <th>min</th>\n",
       "      <th>25%</th>\n",
       "      <th>50%</th>\n",
       "      <th>75%</th>\n",
       "      <th>max</th>\n",
       "    </tr>\n",
       "    <tr>\n",
       "      <th>tariff</th>\n",
       "      <th></th>\n",
       "      <th></th>\n",
       "      <th></th>\n",
       "      <th></th>\n",
       "      <th></th>\n",
       "      <th></th>\n",
       "      <th></th>\n",
       "      <th></th>\n",
       "    </tr>\n",
       "  </thead>\n",
       "  <tbody>\n",
       "    <tr>\n",
       "      <th>smart</th>\n",
       "      <td>2229.0</td>\n",
       "      <td>16208.386990</td>\n",
       "      <td>5870.476681</td>\n",
       "      <td>0.0</td>\n",
       "      <td>12643.01</td>\n",
       "      <td>16506.84</td>\n",
       "      <td>20042.93</td>\n",
       "      <td>38552.45</td>\n",
       "    </tr>\n",
       "    <tr>\n",
       "      <th>ultra</th>\n",
       "      <td>985.0</td>\n",
       "      <td>19468.805208</td>\n",
       "      <td>10087.170752</td>\n",
       "      <td>0.0</td>\n",
       "      <td>11770.26</td>\n",
       "      <td>19308.01</td>\n",
       "      <td>26837.69</td>\n",
       "      <td>49745.69</td>\n",
       "    </tr>\n",
       "  </tbody>\n",
       "</table>\n",
       "</div>"
      ],
      "text/plain": [
       "         count          mean           std  min       25%       50%       75%  \\\n",
       "tariff                                                                          \n",
       "smart   2229.0  16208.386990   5870.476681  0.0  12643.01  16506.84  20042.93   \n",
       "ultra    985.0  19468.805208  10087.170752  0.0  11770.26  19308.01  26837.69   \n",
       "\n",
       "             max  \n",
       "tariff            \n",
       "smart   38552.45  \n",
       "ultra   49745.69  "
      ]
     },
     "metadata": {},
     "output_type": "display_data"
    },
    {
     "data": {
      "text/plain": [
       "tariff\n",
       "smart    3.446250e+07\n",
       "ultra    1.017510e+08\n",
       "Name: mb_used, dtype: float64"
      ]
     },
     "execution_count": 16,
     "metadata": {},
     "output_type": "execute_result"
    }
   ],
   "source": [
    "data_total.groupby('tariff')['mb_used'].plot(kind='hist',\n",
    "    bins=15,\n",
    "    legend=True,\n",
    "    grid=True)\n",
    "\n",
    "plt.title('Распределение абонентов по расходу интернета в тарифах')\n",
    "plt.xlabel('Количество МБ')\n",
    "plt.ylabel('Количество')\n",
    "plt.show()\n",
    "\n",
    "display(data_total.groupby('tariff')['mb_used'].describe())\n",
    "data_total.groupby('tariff')['mb_used'].var()"
   ]
  },
  {
   "cell_type": "markdown",
   "metadata": {},
   "source": [
    "Вновь распределение абонентов в тарифе \"Smart\" близко к нормальному. Также пользователи в тарифе Ультра в среднем тратят на 3 ГБ больше интернета, но заходят чаще пользователи тарифа Smart на 30%."
   ]
  },
  {
   "cell_type": "code",
   "execution_count": 17,
   "metadata": {
    "scrolled": false
   },
   "outputs": [
    {
     "data": {
      "image/png": "[encoded data removed]",
      "text/plain": [
       "<Figure size 432x288 with 1 Axes>"
      ]
     },
     "metadata": {
      "needs_background": "light"
     },
     "output_type": "display_data"
    },
    {
     "data": {
      "text/html": [
       "<div>\n",
       "<style scoped>\n",
       "    .dataframe tbody tr th:only-of-type {\n",
       "        vertical-align: middle;\n",
       "    }\n",
       "\n",
       "    .dataframe tbody tr th {\n",
       "        vertical-align: top;\n",
       "    }\n",
       "\n",
       "    .dataframe thead th {\n",
       "        text-align: right;\n",
       "    }\n",
       "</style>\n",
       "<table border=\"1\" class=\"dataframe\">\n",
       "  <thead>\n",
       "    <tr style=\"text-align: right;\">\n",
       "      <th></th>\n",
       "      <th>count</th>\n",
       "      <th>mean</th>\n",
       "      <th>std</th>\n",
       "      <th>min</th>\n",
       "      <th>25%</th>\n",
       "      <th>50%</th>\n",
       "      <th>75%</th>\n",
       "      <th>max</th>\n",
       "    </tr>\n",
       "    <tr>\n",
       "      <th>tariff</th>\n",
       "      <th></th>\n",
       "      <th></th>\n",
       "      <th></th>\n",
       "      <th></th>\n",
       "      <th></th>\n",
       "      <th></th>\n",
       "      <th></th>\n",
       "      <th></th>\n",
       "    </tr>\n",
       "  </thead>\n",
       "  <tbody>\n",
       "    <tr>\n",
       "      <th>smart</th>\n",
       "      <td>2229.0</td>\n",
       "      <td>1289.973531</td>\n",
       "      <td>818.404367</td>\n",
       "      <td>550.0</td>\n",
       "      <td>550.0</td>\n",
       "      <td>1023.0</td>\n",
       "      <td>1750.0</td>\n",
       "      <td>6770.0</td>\n",
       "    </tr>\n",
       "    <tr>\n",
       "      <th>ultra</th>\n",
       "      <td>985.0</td>\n",
       "      <td>2070.152284</td>\n",
       "      <td>376.187114</td>\n",
       "      <td>1950.0</td>\n",
       "      <td>1950.0</td>\n",
       "      <td>1950.0</td>\n",
       "      <td>1950.0</td>\n",
       "      <td>4800.0</td>\n",
       "    </tr>\n",
       "  </tbody>\n",
       "</table>\n",
       "</div>"
      ],
      "text/plain": [
       "         count         mean         std     min     25%     50%     75%  \\\n",
       "tariff                                                                    \n",
       "smart   2229.0  1289.973531  818.404367   550.0   550.0  1023.0  1750.0   \n",
       "ultra    985.0  2070.152284  376.187114  1950.0  1950.0  1950.0  1950.0   \n",
       "\n",
       "           max  \n",
       "tariff          \n",
       "smart   6770.0  \n",
       "ultra   4800.0  "
      ]
     },
     "metadata": {},
     "output_type": "display_data"
    },
    {
     "data": {
      "text/plain": [
       "tariff\n",
       "smart    669785.708006\n",
       "ultra    141516.745079\n",
       "Name: final_costs, dtype: float64"
      ]
     },
     "execution_count": 17,
     "metadata": {},
     "output_type": "execute_result"
    }
   ],
   "source": [
    "data_total.groupby('tariff')['final_costs'].plot(kind='hist',\n",
    "    bins=10,\n",
    "    legend=True,\n",
    "    grid=True)\n",
    "\n",
    "plt.title('Распределение абонентов по итоговым затратам в тарифах')\n",
    "plt.xlabel('Уплачено руб')\n",
    "plt.ylabel('Количество')\n",
    "plt.show()\n",
    "\n",
    "display(data_total.groupby('tariff')['final_costs'].describe())\n",
    "data_total.groupby('tariff')['final_costs'].var()"
   ]
  },
  {
   "cell_type": "markdown",
   "metadata": {},
   "source": [
    "## Проверка гипотез"
   ]
  },
  {
   "cell_type": "markdown",
   "metadata": {},
   "source": [
    "Средняя выручка пользователей тарифов «Ультра» и «Смарт» различаются."
   ]
  },
  {
   "cell_type": "markdown",
   "metadata": {},
   "source": [
    "Нулевая гипотеза: средняя выручка пользователей тарифов \"Ультра\" и \"Смарт\" равны."
   ]
  },
  {
   "cell_type": "markdown",
   "metadata": {},
   "source": [
    "Альтернативная гипотеза: средняя выручка пользователей тарифов \"Ультра\" и \"Смарт\" не равны."
   ]
  },
  {
   "cell_type": "code",
   "execution_count": 18,
   "metadata": {},
   "outputs": [
    {
     "name": "stdout",
     "output_type": "stream",
     "text": [
      "2229\n"
     ]
    },
    {
     "data": {
      "text/plain": [
       "985"
      ]
     },
     "execution_count": 18,
     "metadata": {},
     "output_type": "execute_result"
    }
   ],
   "source": [
    "smart_tariff = data_total.query('tariff == \"smart\"')\n",
    "ultra_tariff = data_total.query('tariff == \"ultra\"')\n",
    "\n",
    "print(smart_tariff['final_costs'].count())\n",
    "ultra_tariff['final_costs'].count()"
   ]
  },
  {
   "cell_type": "code",
   "execution_count": 19,
   "metadata": {},
   "outputs": [
    {
     "name": "stdout",
     "output_type": "stream",
     "text": [
      "p-значение:  4.2606313931076085e-250\n",
      "Ответгаем нулевую гипотезу\n"
     ]
    }
   ],
   "source": [
    "alpha = .05\n",
    "\n",
    "results = st.ttest_ind(\n",
    "    smart_tariff['final_costs'],\n",
    "    ultra_tariff['final_costs'],\n",
    "    equal_var=False)\n",
    "\n",
    "print('p-значение: ', results.pvalue)\n",
    "\n",
    "if results.pvalue < alpha:\n",
    "    print('Ответгаем нулевую гипотезу')\n",
    "else:\n",
    "    print('Не получилось отвергнуть нулевую гипотезу')"
   ]
  },
  {
   "cell_type": "markdown",
   "metadata": {},
   "source": [
    "Вывод: Средняя выручка от пользователей тарифов \"Ультра\" и \"Смарт\" не равны."
   ]
  },
  {
   "cell_type": "markdown",
   "metadata": {},
   "source": [
    "Средняя выручка пользователей из Москвы отличается от выручки пользователей из других регионов."
   ]
  },
  {
   "cell_type": "code",
   "execution_count": 20,
   "metadata": {},
   "outputs": [
    {
     "name": "stdout",
     "output_type": "stream",
     "text": [
      "611\n"
     ]
    },
    {
     "data": {
      "text/plain": [
       "2603"
      ]
     },
     "execution_count": 20,
     "metadata": {},
     "output_type": "execute_result"
    }
   ],
   "source": [
    "moscow_data = data_total.query('city == \"Москва\"')\n",
    "others_cities_data = data_total.query('city != \"Москва\"')\n",
    "\n",
    "print(moscow_data['final_costs'].count())\n",
    "others_cities_data['final_costs'].count()"
   ]
  },
  {
   "cell_type": "markdown",
   "metadata": {},
   "source": [
    "Нулевая гипотеза: средняя выручка от пользователей из Москвы равна средней выручке пользователей из других регионов."
   ]
  },
  {
   "cell_type": "markdown",
   "metadata": {},
   "source": [
    "Альтернативная гипотеза: средння выручка от пользователей из Москвы не равна средней выручке от пользователей из других регионов."
   ]
  },
  {
   "cell_type": "code",
   "execution_count": 21,
   "metadata": {
    "scrolled": true
   },
   "outputs": [
    {
     "name": "stdout",
     "output_type": "stream",
     "text": [
      "p-значение:  0.5257376663729298\n",
      "Не получилось отвергнуть нулевую гипотезу\n"
     ]
    }
   ],
   "source": [
    "alpha = .05\n",
    "\n",
    "results = st.ttest_ind(\n",
    "    moscow_data['final_costs'],\n",
    "    others_cities_data['final_costs'],\n",
    "    equal_var=False)\n",
    "\n",
    "print('p-значение: ', results.pvalue)\n",
    "\n",
    "if results.pvalue < alpha:\n",
    "    print('Ответгаем нулевую гипотезу')\n",
    "else:\n",
    "    print('Не получилось отвергнуть нулевую гипотезу')"
   ]
  },
  {
   "cell_type": "markdown",
   "metadata": {},
   "source": [
    "Вывод: На основе того, что не получилось отвергнуть нулевую гипотезу, можно сделать вывод, что средняя выручка от пользователей из Москвы может быть равна средней выручке от пользователей из других регионов."
   ]
  },
  {
   "cell_type": "markdown",
   "metadata": {},
   "source": [
    "## Общий вывод"
   ]
  },
  {
   "cell_type": "markdown",
   "metadata": {},
   "source": [
    "БОльшая часть абонентов выборки пользуются тарифом \"Smart\". Дополнительные траты несут абоненты обоих тарифов, но в Смарте их больше (скорее всего это связано с большей репрезентативностью), и максимальное значение оплаты в месяц также принадлежит абоненту этого тарифа. Средний уровень выручки не зависит от региона проживая абонента. Плата по тарифам отличается практически в 4 раза, поэтому выручка от пользователей разных тарифов не равна."
   ]
  }
 ],
 "metadata": {
  "ExecuteTimeLog": [
   {
    "duration": 893,
    "start_time": "2022-01-27T11:15:17.612Z"
   },
   {
    "duration": 211,
    "start_time": "2022-01-27T11:16:57.829Z"
   },
   {
    "duration": 218,
    "start_time": "2022-01-27T11:17:12.081Z"
   },
   {
    "duration": 388,
    "start_time": "2022-01-27T11:18:14.555Z"
   },
   {
    "duration": 526,
    "start_time": "2022-01-27T11:19:06.525Z"
   },
   {
    "duration": 502,
    "start_time": "2022-01-27T11:19:35.756Z"
   },
   {
    "duration": 489,
    "start_time": "2022-01-27T11:20:42.009Z"
   },
   {
    "duration": 538,
    "start_time": "2022-01-27T11:21:40.522Z"
   },
   {
    "duration": 561,
    "start_time": "2022-01-27T11:22:56.442Z"
   },
   {
    "duration": 553,
    "start_time": "2022-01-27T11:23:23.611Z"
   },
   {
    "duration": 669,
    "start_time": "2022-01-27T11:23:59.113Z"
   },
   {
    "duration": 566,
    "start_time": "2022-01-27T11:24:10.033Z"
   },
   {
    "duration": 582,
    "start_time": "2022-01-27T11:24:48.160Z"
   },
   {
    "duration": 575,
    "start_time": "2022-01-27T11:25:45.306Z"
   },
   {
    "duration": 575,
    "start_time": "2022-01-27T11:26:36.089Z"
   },
   {
    "duration": 635,
    "start_time": "2022-01-27T11:39:27.694Z"
   },
   {
    "duration": 642,
    "start_time": "2022-01-27T11:40:31.530Z"
   },
   {
    "duration": 653,
    "start_time": "2022-01-27T11:50:27.287Z"
   },
   {
    "duration": 654,
    "start_time": "2022-01-27T11:50:32.304Z"
   },
   {
    "duration": 624,
    "start_time": "2022-01-27T11:51:46.233Z"
   },
   {
    "duration": 684,
    "start_time": "2022-01-27T11:51:57.809Z"
   },
   {
    "duration": 591,
    "start_time": "2022-01-27T11:53:13.914Z"
   },
   {
    "duration": 948,
    "start_time": "2022-01-27T11:55:29.115Z"
   },
   {
    "duration": 656,
    "start_time": "2022-01-27T11:56:40.386Z"
   },
   {
    "duration": 583,
    "start_time": "2022-01-27T12:00:17.294Z"
   },
   {
    "duration": 562,
    "start_time": "2022-01-27T12:00:38.509Z"
   },
   {
    "duration": 581,
    "start_time": "2022-01-27T12:01:23.788Z"
   },
   {
    "duration": 689,
    "start_time": "2022-01-27T12:03:25.582Z"
   },
   {
    "duration": 628,
    "start_time": "2022-01-27T12:05:42.093Z"
   },
   {
    "duration": 588,
    "start_time": "2022-01-27T12:06:19.750Z"
   },
   {
    "duration": 554,
    "start_time": "2022-01-27T12:06:54.726Z"
   },
   {
    "duration": 616,
    "start_time": "2022-01-27T12:07:28.889Z"
   },
   {
    "duration": 618,
    "start_time": "2022-01-27T12:09:17.637Z"
   },
   {
    "duration": 565,
    "start_time": "2022-01-27T12:09:34.078Z"
   },
   {
    "duration": 9367,
    "start_time": "2022-01-27T12:12:05.170Z"
   },
   {
    "duration": 8468,
    "start_time": "2022-01-27T12:12:33.087Z"
   },
   {
    "duration": 8913,
    "start_time": "2022-01-27T12:12:50.013Z"
   },
   {
    "duration": 743,
    "start_time": "2022-01-27T12:13:18.177Z"
   },
   {
    "duration": 609,
    "start_time": "2022-01-27T12:13:48.024Z"
   },
   {
    "duration": 618,
    "start_time": "2022-01-27T12:14:11.110Z"
   },
   {
    "duration": 612,
    "start_time": "2022-01-27T12:14:58.824Z"
   },
   {
    "duration": 649,
    "start_time": "2022-01-27T12:16:07.800Z"
   },
   {
    "duration": 588,
    "start_time": "2022-01-27T12:16:20.760Z"
   },
   {
    "duration": 602,
    "start_time": "2022-01-27T12:17:13.345Z"
   },
   {
    "duration": 9997,
    "start_time": "2022-01-27T12:20:03.823Z"
   },
   {
    "duration": 656,
    "start_time": "2022-01-27T12:20:53.099Z"
   },
   {
    "duration": 628,
    "start_time": "2022-01-27T12:44:54.042Z"
   },
   {
    "duration": 634,
    "start_time": "2022-01-27T12:45:39.657Z"
   },
   {
    "duration": 666,
    "start_time": "2022-01-27T12:53:25.411Z"
   },
   {
    "duration": 906,
    "start_time": "2022-01-27T12:54:44.093Z"
   },
   {
    "duration": 619,
    "start_time": "2022-01-27T13:01:15.279Z"
   },
   {
    "duration": 634,
    "start_time": "2022-01-27T13:02:24.914Z"
   },
   {
    "duration": 599,
    "start_time": "2022-01-27T13:03:43.760Z"
   },
   {
    "duration": 649,
    "start_time": "2022-01-27T13:04:16.771Z"
   },
   {
    "duration": 658,
    "start_time": "2022-01-27T13:05:30.688Z"
   },
   {
    "duration": 598,
    "start_time": "2022-01-27T13:06:20.098Z"
   },
   {
    "duration": 620,
    "start_time": "2022-01-27T13:08:37.472Z"
   },
   {
    "duration": 624,
    "start_time": "2022-01-27T13:08:50.071Z"
   },
   {
    "duration": 977,
    "start_time": "2022-01-27T13:09:42.545Z"
   },
   {
    "duration": 648,
    "start_time": "2022-01-27T13:10:06.491Z"
   },
   {
    "duration": 636,
    "start_time": "2022-01-27T13:10:39.945Z"
   },
   {
    "duration": 671,
    "start_time": "2022-01-27T13:10:59.627Z"
   },
   {
    "duration": 965,
    "start_time": "2022-01-27T13:11:06.441Z"
   },
   {
    "duration": 147,
    "start_time": "2022-01-27T13:11:16.578Z"
   },
   {
    "duration": 622,
    "start_time": "2022-01-27T13:11:19.167Z"
   },
   {
    "duration": 645,
    "start_time": "2022-01-27T13:11:39.521Z"
   },
   {
    "duration": 602,
    "start_time": "2022-01-27T13:12:22.837Z"
   },
   {
    "duration": 640,
    "start_time": "2022-01-27T13:12:37.492Z"
   },
   {
    "duration": 709,
    "start_time": "2022-01-27T13:12:47.845Z"
   },
   {
    "duration": 731,
    "start_time": "2022-01-27T13:14:27.449Z"
   },
   {
    "duration": 10101,
    "start_time": "2022-01-27T13:20:55.227Z"
   },
   {
    "duration": 494,
    "start_time": "2022-01-27T13:21:28.405Z"
   },
   {
    "duration": 8518,
    "start_time": "2022-01-27T13:21:31.957Z"
   },
   {
    "duration": 862,
    "start_time": "2022-01-27T13:22:43.987Z"
   },
   {
    "duration": 786,
    "start_time": "2022-01-27T13:23:03.469Z"
   },
   {
    "duration": 8742,
    "start_time": "2022-01-27T13:23:10.693Z"
   },
   {
    "duration": 11200,
    "start_time": "2022-01-27T13:24:16.568Z"
   },
   {
    "duration": 8498,
    "start_time": "2022-01-27T13:24:43.388Z"
   },
   {
    "duration": 921,
    "start_time": "2022-01-27T13:26:24.441Z"
   },
   {
    "duration": 707,
    "start_time": "2022-01-27T13:26:41.087Z"
   },
   {
    "duration": 698,
    "start_time": "2022-01-27T13:26:53.430Z"
   },
   {
    "duration": 670,
    "start_time": "2022-01-27T13:27:37.487Z"
   },
   {
    "duration": 702,
    "start_time": "2022-01-27T13:28:17.491Z"
   },
   {
    "duration": 689,
    "start_time": "2022-01-27T13:28:34.416Z"
   },
   {
    "duration": 695,
    "start_time": "2022-01-27T13:46:26.677Z"
   },
   {
    "duration": 662,
    "start_time": "2022-01-27T13:46:53.966Z"
   },
   {
    "duration": 668,
    "start_time": "2022-01-27T13:47:21.470Z"
   },
   {
    "duration": 786,
    "start_time": "2022-01-27T13:48:18.430Z"
   },
   {
    "duration": 696,
    "start_time": "2022-01-27T13:48:49.749Z"
   },
   {
    "duration": 670,
    "start_time": "2022-01-27T13:48:57.523Z"
   },
   {
    "duration": 693,
    "start_time": "2022-01-27T13:49:48.079Z"
   },
   {
    "duration": 682,
    "start_time": "2022-01-27T13:50:57.623Z"
   },
   {
    "duration": 698,
    "start_time": "2022-01-27T13:51:15.192Z"
   },
   {
    "duration": 658,
    "start_time": "2022-01-27T13:53:09.225Z"
   },
   {
    "duration": 645,
    "start_time": "2022-01-27T13:57:26.898Z"
   },
   {
    "duration": 622,
    "start_time": "2022-01-27T13:57:51.514Z"
   },
   {
    "duration": 683,
    "start_time": "2022-01-27T13:58:05.740Z"
   },
   {
    "duration": 625,
    "start_time": "2022-01-27T14:09:31.853Z"
   },
   {
    "duration": 543,
    "start_time": "2022-01-27T14:14:19.938Z"
   },
   {
    "duration": 541,
    "start_time": "2022-01-27T14:14:32.336Z"
   },
   {
    "duration": 566,
    "start_time": "2022-01-27T14:14:43.416Z"
   },
   {
    "duration": 545,
    "start_time": "2022-01-27T14:15:04.061Z"
   },
   {
    "duration": 635,
    "start_time": "2022-01-27T14:15:14.600Z"
   },
   {
    "duration": 535,
    "start_time": "2022-01-27T14:15:18.359Z"
   },
   {
    "duration": 565,
    "start_time": "2022-01-27T14:15:27.231Z"
   },
   {
    "duration": 599,
    "start_time": "2022-01-27T14:16:22.430Z"
   },
   {
    "duration": 1515,
    "start_time": "2022-01-27T14:19:04.275Z"
   },
   {
    "duration": 554,
    "start_time": "2022-01-27T14:19:15.283Z"
   },
   {
    "duration": 1470,
    "start_time": "2022-01-27T14:19:17.353Z"
   },
   {
    "duration": 960,
    "start_time": "2022-01-27T14:19:33.879Z"
   },
   {
    "duration": 184,
    "start_time": "2022-01-27T14:21:58.279Z"
   },
   {
    "duration": 238,
    "start_time": "2022-01-27T14:22:23.155Z"
   },
   {
    "duration": 287,
    "start_time": "2022-01-27T14:22:36.775Z"
   },
   {
    "duration": 266,
    "start_time": "2022-01-27T14:23:08.137Z"
   },
   {
    "duration": 1013,
    "start_time": "2022-01-27T14:23:51.417Z"
   },
   {
    "duration": 998,
    "start_time": "2022-01-27T14:24:00.397Z"
   },
   {
    "duration": 329,
    "start_time": "2022-01-27T14:24:51.441Z"
   },
   {
    "duration": 601,
    "start_time": "2022-01-27T14:33:54.875Z"
   },
   {
    "duration": 313,
    "start_time": "2022-01-27T14:34:04.010Z"
   },
   {
    "duration": 328,
    "start_time": "2022-01-27T14:34:10.735Z"
   },
   {
    "duration": 307,
    "start_time": "2022-01-27T14:35:33.708Z"
   },
   {
    "duration": 129,
    "start_time": "2022-01-27T14:49:57.118Z"
   },
   {
    "duration": 334,
    "start_time": "2022-01-27T14:50:09.447Z"
   },
   {
    "duration": 331,
    "start_time": "2022-01-27T14:50:14.440Z"
   },
   {
    "duration": 349,
    "start_time": "2022-01-27T14:50:28.168Z"
   },
   {
    "duration": 206,
    "start_time": "2022-01-27T15:01:05.529Z"
   },
   {
    "duration": 201,
    "start_time": "2022-01-27T15:01:25.913Z"
   },
   {
    "duration": 118,
    "start_time": "2022-01-27T15:28:23.264Z"
   },
   {
    "duration": 37,
    "start_time": "2022-01-27T15:29:09.291Z"
   },
   {
    "duration": 42,
    "start_time": "2022-01-27T15:31:52.131Z"
   },
   {
    "duration": 42,
    "start_time": "2022-01-27T15:38:30.501Z"
   },
   {
    "duration": 495,
    "start_time": "2022-01-27T15:38:43.651Z"
   },
   {
    "duration": 43,
    "start_time": "2022-01-27T15:38:59.804Z"
   },
   {
    "duration": 34,
    "start_time": "2022-01-27T15:40:47.045Z"
   },
   {
    "duration": 338,
    "start_time": "2022-01-27T15:50:13.534Z"
   },
   {
    "duration": 337,
    "start_time": "2022-01-27T15:50:23.868Z"
   },
   {
    "duration": 36,
    "start_time": "2022-01-27T15:50:30.046Z"
   },
   {
    "duration": 38,
    "start_time": "2022-01-27T15:50:46.680Z"
   },
   {
    "duration": 35,
    "start_time": "2022-01-27T15:51:16.649Z"
   },
   {
    "duration": 306,
    "start_time": "2022-01-27T15:51:45.330Z"
   },
   {
    "duration": 37,
    "start_time": "2022-01-27T15:51:47.984Z"
   },
   {
    "duration": 35,
    "start_time": "2022-01-27T15:51:58.624Z"
   },
   {
    "duration": 1010,
    "start_time": "2022-01-27T18:49:46.346Z"
   },
   {
    "duration": 466,
    "start_time": "2022-01-27T18:49:47.359Z"
   },
   {
    "duration": 358,
    "start_time": "2022-01-27T18:49:47.832Z"
   },
   {
    "duration": 332,
    "start_time": "2022-01-27T18:49:48.193Z"
   },
   {
    "duration": 53,
    "start_time": "2022-01-27T18:49:48.528Z"
   },
   {
    "duration": 63,
    "start_time": "2022-01-27T18:52:57.443Z"
   },
   {
    "duration": 543,
    "start_time": "2022-01-27T19:04:06.705Z"
   },
   {
    "duration": 46,
    "start_time": "2022-01-27T19:04:30.136Z"
   },
   {
    "duration": 51,
    "start_time": "2022-01-27T19:05:04.630Z"
   },
   {
    "duration": 61,
    "start_time": "2022-01-27T19:05:18.019Z"
   },
   {
    "duration": 68,
    "start_time": "2022-01-27T19:08:30.439Z"
   },
   {
    "duration": 80,
    "start_time": "2022-01-27T19:09:14.177Z"
   },
   {
    "duration": 415,
    "start_time": "2022-01-27T19:09:58.898Z"
   },
   {
    "duration": 406,
    "start_time": "2022-01-27T19:10:03.226Z"
   },
   {
    "duration": 417,
    "start_time": "2022-01-27T19:10:27.421Z"
   },
   {
    "duration": 543,
    "start_time": "2022-01-27T19:10:33.432Z"
   },
   {
    "duration": 421,
    "start_time": "2022-01-27T19:10:40.377Z"
   },
   {
    "duration": 490,
    "start_time": "2022-01-27T19:12:09.706Z"
   },
   {
    "duration": 131,
    "start_time": "2022-01-27T19:12:18.644Z"
   },
   {
    "duration": 53,
    "start_time": "2022-01-27T19:12:32.559Z"
   },
   {
    "duration": 359,
    "start_time": "2022-01-27T19:12:37.725Z"
   },
   {
    "duration": 316,
    "start_time": "2022-01-27T19:12:41.973Z"
   },
   {
    "duration": 246,
    "start_time": "2022-01-27T19:12:46.015Z"
   },
   {
    "duration": 65,
    "start_time": "2022-01-27T19:12:51.413Z"
   },
   {
    "duration": 19,
    "start_time": "2022-01-27T19:12:57.132Z"
   },
   {
    "duration": 45,
    "start_time": "2022-01-27T19:13:52.744Z"
   },
   {
    "duration": 701,
    "start_time": "2022-02-01T14:47:17.662Z"
   },
   {
    "duration": 269,
    "start_time": "2022-02-01T14:47:21.377Z"
   },
   {
    "duration": 244,
    "start_time": "2022-02-01T14:47:24.885Z"
   },
   {
    "duration": 178,
    "start_time": "2022-02-01T14:47:27.769Z"
   },
   {
    "duration": 31,
    "start_time": "2022-02-01T14:47:30.491Z"
   },
   {
    "duration": 33,
    "start_time": "2022-02-01T14:47:35.268Z"
   },
   {
    "duration": 708,
    "start_time": "2022-02-02T10:17:00.912Z"
   },
   {
    "duration": 237,
    "start_time": "2022-02-02T10:17:06.672Z"
   },
   {
    "duration": 223,
    "start_time": "2022-02-02T10:17:12.256Z"
   },
   {
    "duration": 313,
    "start_time": "2022-02-02T10:17:16.299Z"
   },
   {
    "duration": 229,
    "start_time": "2022-02-02T10:17:51.827Z"
   },
   {
    "duration": 281,
    "start_time": "2022-02-02T10:19:18.195Z"
   },
   {
    "duration": 156,
    "start_time": "2022-02-02T10:19:32.489Z"
   },
   {
    "duration": 31,
    "start_time": "2022-02-02T10:19:37.669Z"
   },
   {
    "duration": 21,
    "start_time": "2022-02-02T10:19:45.687Z"
   },
   {
    "duration": 31,
    "start_time": "2022-02-02T10:20:41.019Z"
   },
   {
    "duration": 32,
    "start_time": "2022-02-02T10:20:51.413Z"
   },
   {
    "duration": 21,
    "start_time": "2022-02-02T10:20:59.777Z"
   },
   {
    "duration": 237,
    "start_time": "2022-02-02T11:46:56.292Z"
   },
   {
    "duration": 402,
    "start_time": "2022-02-02T11:47:43.123Z"
   },
   {
    "duration": 246,
    "start_time": "2022-02-02T11:48:03.330Z"
   },
   {
    "duration": 409,
    "start_time": "2022-02-02T11:53:36.026Z"
   },
   {
    "duration": 46,
    "start_time": "2022-02-02T11:53:50.684Z"
   },
   {
    "duration": 227,
    "start_time": "2022-02-02T11:53:53.315Z"
   },
   {
    "duration": 232,
    "start_time": "2022-02-02T11:53:55.619Z"
   },
   {
    "duration": 156,
    "start_time": "2022-02-02T11:53:58.029Z"
   },
   {
    "duration": 29,
    "start_time": "2022-02-02T11:54:01.581Z"
   },
   {
    "duration": 20,
    "start_time": "2022-02-02T11:54:07.709Z"
   },
   {
    "duration": 272,
    "start_time": "2022-02-02T11:54:10.012Z"
   },
   {
    "duration": 264,
    "start_time": "2022-02-02T11:57:59.244Z"
   },
   {
    "duration": 927,
    "start_time": "2022-02-02T11:59:33.615Z"
   },
   {
    "duration": 926,
    "start_time": "2022-02-02T11:59:48.191Z"
   },
   {
    "duration": 1708,
    "start_time": "2022-02-02T12:00:10.469Z"
   },
   {
    "duration": 425,
    "start_time": "2022-02-02T12:04:19.823Z"
   },
   {
    "duration": 397,
    "start_time": "2022-02-02T12:04:51.394Z"
   },
   {
    "duration": 399,
    "start_time": "2022-02-02T12:06:17.321Z"
   },
   {
    "duration": 240,
    "start_time": "2022-02-02T12:11:11.656Z"
   },
   {
    "duration": 230,
    "start_time": "2022-02-02T12:14:11.151Z"
   },
   {
    "duration": 288,
    "start_time": "2022-02-02T12:17:42.146Z"
   },
   {
    "duration": 6494,
    "start_time": "2022-02-02T12:18:56.868Z"
   },
   {
    "duration": 6107,
    "start_time": "2022-02-02T12:19:21.037Z"
   },
   {
    "duration": 50,
    "start_time": "2022-02-02T12:20:16.831Z"
   },
   {
    "duration": 5603,
    "start_time": "2022-02-02T12:20:28.672Z"
   },
   {
    "duration": 5977,
    "start_time": "2022-02-02T12:20:50.846Z"
   },
   {
    "duration": 1051,
    "start_time": "2022-02-02T12:30:15.465Z"
   },
   {
    "duration": 261,
    "start_time": "2022-02-02T12:31:08.944Z"
   },
   {
    "duration": 19,
    "start_time": "2022-02-02T12:31:19.748Z"
   },
   {
    "duration": 39,
    "start_time": "2022-02-02T12:31:48.788Z"
   },
   {
    "duration": 220,
    "start_time": "2022-02-02T12:31:51.436Z"
   },
   {
    "duration": 202,
    "start_time": "2022-02-02T12:31:53.384Z"
   },
   {
    "duration": 153,
    "start_time": "2022-02-02T12:31:55.551Z"
   },
   {
    "duration": 22,
    "start_time": "2022-02-02T12:32:01.470Z"
   },
   {
    "duration": 30,
    "start_time": "2022-02-02T12:32:30.375Z"
   },
   {
    "duration": 14,
    "start_time": "2022-02-02T12:32:34.518Z"
   },
   {
    "duration": 24,
    "start_time": "2022-02-02T12:43:41.105Z"
   },
   {
    "duration": 24,
    "start_time": "2022-02-02T12:43:50.149Z"
   },
   {
    "duration": 269,
    "start_time": "2022-02-02T12:44:36.560Z"
   },
   {
    "duration": 30,
    "start_time": "2022-02-02T12:44:43.312Z"
   },
   {
    "duration": 26,
    "start_time": "2022-02-02T12:46:09.713Z"
   },
   {
    "duration": 31,
    "start_time": "2022-02-02T12:46:39.241Z"
   },
   {
    "duration": 50,
    "start_time": "2022-02-02T12:47:26.890Z"
   },
   {
    "duration": 24,
    "start_time": "2022-02-02T12:48:42.387Z"
   },
   {
    "duration": 16,
    "start_time": "2022-02-02T13:01:44.737Z"
   },
   {
    "duration": 23,
    "start_time": "2022-02-02T13:02:07.811Z"
   },
   {
    "duration": 26,
    "start_time": "2022-02-02T13:13:03.716Z"
   },
   {
    "duration": 33,
    "start_time": "2022-02-02T13:13:45.750Z"
   },
   {
    "duration": 62,
    "start_time": "2022-02-02T13:14:15.518Z"
   },
   {
    "duration": 233,
    "start_time": "2022-02-02T13:14:17.165Z"
   },
   {
    "duration": 216,
    "start_time": "2022-02-02T13:14:18.274Z"
   },
   {
    "duration": 152,
    "start_time": "2022-02-02T13:14:20.178Z"
   },
   {
    "duration": 25,
    "start_time": "2022-02-02T13:14:22.221Z"
   },
   {
    "duration": 659,
    "start_time": "2022-02-02T13:14:54.348Z"
   },
   {
    "duration": 244,
    "start_time": "2022-02-02T13:14:55.009Z"
   },
   {
    "duration": 215,
    "start_time": "2022-02-02T13:14:55.255Z"
   },
   {
    "duration": 157,
    "start_time": "2022-02-02T13:14:55.472Z"
   },
   {
    "duration": 23,
    "start_time": "2022-02-02T13:14:55.630Z"
   },
   {
    "duration": 17,
    "start_time": "2022-02-02T13:14:55.655Z"
   },
   {
    "duration": 1479,
    "start_time": "2022-02-02T13:14:55.674Z"
   },
   {
    "duration": 25,
    "start_time": "2022-02-02T13:17:27.818Z"
   },
   {
    "duration": 30,
    "start_time": "2022-02-02T13:18:06.751Z"
   },
   {
    "duration": 28,
    "start_time": "2022-02-02T13:18:32.640Z"
   },
   {
    "duration": 698,
    "start_time": "2022-02-02T13:18:49.214Z"
   },
   {
    "duration": 246,
    "start_time": "2022-02-02T13:18:49.914Z"
   },
   {
    "duration": 221,
    "start_time": "2022-02-02T13:18:50.164Z"
   },
   {
    "duration": 165,
    "start_time": "2022-02-02T13:18:50.386Z"
   },
   {
    "duration": 25,
    "start_time": "2022-02-02T13:18:50.552Z"
   },
   {
    "duration": 34,
    "start_time": "2022-02-02T13:18:50.578Z"
   },
   {
    "duration": 5552,
    "start_time": "2022-02-02T13:18:50.614Z"
   },
   {
    "duration": 982,
    "start_time": "2022-02-02T13:18:58.638Z"
   },
   {
    "duration": 1073,
    "start_time": "2022-02-02T13:19:13.429Z"
   },
   {
    "duration": 127,
    "start_time": "2022-02-02T13:19:58.999Z"
   },
   {
    "duration": 1236,
    "start_time": "2022-02-02T13:20:03.031Z"
   },
   {
    "duration": 228,
    "start_time": "2022-02-02T13:20:20.651Z"
   },
   {
    "duration": 711,
    "start_time": "2022-02-02T13:20:48.699Z"
   },
   {
    "duration": 232,
    "start_time": "2022-02-02T13:20:49.411Z"
   },
   {
    "duration": 225,
    "start_time": "2022-02-02T13:20:49.647Z"
   },
   {
    "duration": 155,
    "start_time": "2022-02-02T13:20:49.874Z"
   },
   {
    "duration": 25,
    "start_time": "2022-02-02T13:20:50.030Z"
   },
   {
    "duration": 30,
    "start_time": "2022-02-02T13:20:50.056Z"
   },
   {
    "duration": 3256,
    "start_time": "2022-02-02T13:20:50.112Z"
   },
   {
    "duration": 3057,
    "start_time": "2022-02-02T13:21:50.666Z"
   },
   {
    "duration": 401,
    "start_time": "2022-02-02T13:23:03.705Z"
   },
   {
    "duration": 515,
    "start_time": "2022-02-02T13:28:54.008Z"
   },
   {
    "duration": 47,
    "start_time": "2022-02-02T13:42:24.187Z"
   },
   {
    "duration": 243,
    "start_time": "2022-02-02T13:42:26.198Z"
   },
   {
    "duration": 212,
    "start_time": "2022-02-02T13:42:28.506Z"
   },
   {
    "duration": 149,
    "start_time": "2022-02-02T13:42:30.293Z"
   },
   {
    "duration": 22,
    "start_time": "2022-02-02T13:42:31.921Z"
   },
   {
    "duration": 29,
    "start_time": "2022-02-02T13:42:33.301Z"
   },
   {
    "duration": 391,
    "start_time": "2022-02-02T13:42:34.768Z"
   },
   {
    "duration": 430,
    "start_time": "2022-02-02T13:43:14.471Z"
   },
   {
    "duration": 404,
    "start_time": "2022-02-02T14:11:22.415Z"
   },
   {
    "duration": 5675,
    "start_time": "2022-02-02T14:12:22.901Z"
   },
   {
    "duration": 648,
    "start_time": "2022-02-02T14:12:37.549Z"
   },
   {
    "duration": 245,
    "start_time": "2022-02-02T14:12:38.199Z"
   },
   {
    "duration": 214,
    "start_time": "2022-02-02T14:12:38.446Z"
   },
   {
    "duration": 153,
    "start_time": "2022-02-02T14:12:38.662Z"
   },
   {
    "duration": 23,
    "start_time": "2022-02-02T14:12:38.817Z"
   },
   {
    "duration": 27,
    "start_time": "2022-02-02T14:12:38.841Z"
   },
   {
    "duration": 5357,
    "start_time": "2022-02-02T14:12:38.870Z"
   },
   {
    "duration": 5547,
    "start_time": "2022-02-02T14:12:59.627Z"
   },
   {
    "duration": 5465,
    "start_time": "2022-02-02T14:13:34.614Z"
   },
   {
    "duration": 653,
    "start_time": "2022-02-02T14:13:52.264Z"
   },
   {
    "duration": 240,
    "start_time": "2022-02-02T14:13:52.919Z"
   },
   {
    "duration": 217,
    "start_time": "2022-02-02T14:13:53.161Z"
   },
   {
    "duration": 155,
    "start_time": "2022-02-02T14:13:53.380Z"
   },
   {
    "duration": 22,
    "start_time": "2022-02-02T14:13:53.537Z"
   },
   {
    "duration": 26,
    "start_time": "2022-02-02T14:13:53.561Z"
   },
   {
    "duration": 5617,
    "start_time": "2022-02-02T14:13:53.589Z"
   },
   {
    "duration": 461,
    "start_time": "2022-02-02T14:16:03.131Z"
   },
   {
    "duration": 428,
    "start_time": "2022-02-02T14:16:29.654Z"
   },
   {
    "duration": 71,
    "start_time": "2022-02-02T14:17:28.403Z"
   },
   {
    "duration": 415,
    "start_time": "2022-02-02T14:17:56.319Z"
   },
   {
    "duration": 6845,
    "start_time": "2022-02-02T14:18:22.907Z"
   },
   {
    "duration": 686,
    "start_time": "2022-02-02T14:18:49.724Z"
   },
   {
    "duration": 249,
    "start_time": "2022-02-02T14:18:50.412Z"
   },
   {
    "duration": 219,
    "start_time": "2022-02-02T14:18:50.663Z"
   },
   {
    "duration": 165,
    "start_time": "2022-02-02T14:18:50.884Z"
   },
   {
    "duration": 23,
    "start_time": "2022-02-02T14:18:51.051Z"
   },
   {
    "duration": 45,
    "start_time": "2022-02-02T14:18:51.075Z"
   },
   {
    "duration": 5674,
    "start_time": "2022-02-02T14:18:51.122Z"
   },
   {
    "duration": 83,
    "start_time": "2022-02-02T14:34:07.779Z"
   },
   {
    "duration": 94,
    "start_time": "2022-02-02T14:34:22.075Z"
   },
   {
    "duration": 71,
    "start_time": "2022-02-02T14:34:48.246Z"
   },
   {
    "duration": 131,
    "start_time": "2022-02-02T14:36:10.197Z"
   },
   {
    "duration": 77,
    "start_time": "2022-02-02T14:36:53.293Z"
   },
   {
    "duration": 71,
    "start_time": "2022-02-02T14:36:58.487Z"
   },
   {
    "duration": 73,
    "start_time": "2022-02-02T14:37:17.748Z"
   },
   {
    "duration": 84,
    "start_time": "2022-02-02T14:37:56.337Z"
   },
   {
    "duration": 84,
    "start_time": "2022-02-02T14:38:04.809Z"
   },
   {
    "duration": 86,
    "start_time": "2022-02-02T14:38:50.897Z"
   },
   {
    "duration": 87,
    "start_time": "2022-02-02T14:40:43.097Z"
   },
   {
    "duration": 75,
    "start_time": "2022-02-02T14:40:54.662Z"
   },
   {
    "duration": 91,
    "start_time": "2022-02-02T14:41:10.707Z"
   },
   {
    "duration": 5805,
    "start_time": "2022-02-02T14:41:34.584Z"
   },
   {
    "duration": 6391,
    "start_time": "2022-02-02T14:45:00.422Z"
   },
   {
    "duration": 22,
    "start_time": "2022-02-02T14:45:51.877Z"
   },
   {
    "duration": 42,
    "start_time": "2022-02-02T14:46:20.199Z"
   },
   {
    "duration": 651,
    "start_time": "2022-02-02T14:46:28.860Z"
   },
   {
    "duration": 239,
    "start_time": "2022-02-02T14:46:29.513Z"
   },
   {
    "duration": 212,
    "start_time": "2022-02-02T14:46:29.754Z"
   },
   {
    "duration": 151,
    "start_time": "2022-02-02T14:46:29.969Z"
   },
   {
    "duration": 23,
    "start_time": "2022-02-02T14:46:30.122Z"
   },
   {
    "duration": 27,
    "start_time": "2022-02-02T14:46:30.147Z"
   },
   {
    "duration": 288,
    "start_time": "2022-02-02T14:46:30.176Z"
   },
   {
    "duration": 23,
    "start_time": "2022-02-02T14:47:36.878Z"
   },
   {
    "duration": 6379,
    "start_time": "2022-02-02T14:48:21.095Z"
   },
   {
    "duration": 631,
    "start_time": "2022-02-02T14:49:52.269Z"
   },
   {
    "duration": 241,
    "start_time": "2022-02-02T14:49:52.902Z"
   },
   {
    "duration": 214,
    "start_time": "2022-02-02T14:49:53.145Z"
   },
   {
    "duration": 154,
    "start_time": "2022-02-02T14:49:53.360Z"
   },
   {
    "duration": 22,
    "start_time": "2022-02-02T14:49:53.516Z"
   },
   {
    "duration": 19,
    "start_time": "2022-02-02T14:49:53.540Z"
   },
   {
    "duration": 105,
    "start_time": "2022-02-02T14:49:53.560Z"
   },
   {
    "duration": 71,
    "start_time": "2022-02-02T14:52:04.350Z"
   },
   {
    "duration": 83,
    "start_time": "2022-02-02T14:52:08.850Z"
   },
   {
    "duration": 85,
    "start_time": "2022-02-02T14:52:24.772Z"
   },
   {
    "duration": 81,
    "start_time": "2022-02-02T14:53:11.660Z"
   },
   {
    "duration": 79,
    "start_time": "2022-02-02T14:53:21.413Z"
   },
   {
    "duration": 83,
    "start_time": "2022-02-02T14:53:24.648Z"
   },
   {
    "duration": 82,
    "start_time": "2022-02-02T14:55:01.177Z"
   },
   {
    "duration": 456,
    "start_time": "2022-02-02T15:04:50.362Z"
   },
   {
    "duration": 87,
    "start_time": "2022-02-02T15:05:22.741Z"
   },
   {
    "duration": 84,
    "start_time": "2022-02-02T15:16:33.948Z"
   },
   {
    "duration": 85,
    "start_time": "2022-02-02T15:17:33.573Z"
   },
   {
    "duration": 692,
    "start_time": "2022-02-02T15:20:26.724Z"
   },
   {
    "duration": 255,
    "start_time": "2022-02-02T15:20:27.418Z"
   },
   {
    "duration": 228,
    "start_time": "2022-02-02T15:20:27.675Z"
   },
   {
    "duration": 178,
    "start_time": "2022-02-02T15:20:27.905Z"
   },
   {
    "duration": 40,
    "start_time": "2022-02-02T15:20:28.085Z"
   },
   {
    "duration": 21,
    "start_time": "2022-02-02T15:20:28.127Z"
   },
   {
    "duration": 110,
    "start_time": "2022-02-02T15:20:28.150Z"
   },
   {
    "duration": 96,
    "start_time": "2022-02-02T15:20:28.263Z"
   },
   {
    "duration": 67,
    "start_time": "2022-02-02T15:20:28.361Z"
   },
   {
    "duration": 528,
    "start_time": "2022-02-02T15:20:41.285Z"
   },
   {
    "duration": 86,
    "start_time": "2022-02-02T15:22:21.795Z"
   },
   {
    "duration": 416,
    "start_time": "2022-02-02T15:23:06.321Z"
   },
   {
    "duration": 96,
    "start_time": "2022-02-02T15:23:30.418Z"
   },
   {
    "duration": 85,
    "start_time": "2022-02-02T15:23:31.268Z"
   },
   {
    "duration": 392,
    "start_time": "2022-02-02T15:23:32.678Z"
   },
   {
    "duration": 420,
    "start_time": "2022-02-02T15:24:01.218Z"
   },
   {
    "duration": 128,
    "start_time": "2022-02-02T15:24:19.160Z"
   },
   {
    "duration": 86,
    "start_time": "2022-02-02T15:24:20.125Z"
   },
   {
    "duration": 402,
    "start_time": "2022-02-02T15:24:21.404Z"
   },
   {
    "duration": 88,
    "start_time": "2022-02-02T15:25:51.569Z"
   },
   {
    "duration": 86,
    "start_time": "2022-02-02T15:25:52.128Z"
   },
   {
    "duration": 90,
    "start_time": "2022-02-02T15:25:53.276Z"
   },
   {
    "duration": 226,
    "start_time": "2022-02-02T15:36:09.160Z"
   },
   {
    "duration": 221,
    "start_time": "2022-02-02T15:36:39.868Z"
   },
   {
    "duration": 227,
    "start_time": "2022-02-02T15:36:47.801Z"
   },
   {
    "duration": 218,
    "start_time": "2022-02-02T15:36:57.691Z"
   },
   {
    "duration": 247,
    "start_time": "2022-02-02T15:39:34.171Z"
   },
   {
    "duration": 228,
    "start_time": "2022-02-02T15:39:39.208Z"
   },
   {
    "duration": 231,
    "start_time": "2022-02-02T15:45:57.042Z"
   },
   {
    "duration": 252,
    "start_time": "2022-02-02T15:47:22.196Z"
   },
   {
    "duration": 243,
    "start_time": "2022-02-02T15:47:29.313Z"
   },
   {
    "duration": 242,
    "start_time": "2022-02-02T15:47:32.386Z"
   },
   {
    "duration": 234,
    "start_time": "2022-02-02T15:56:36.535Z"
   },
   {
    "duration": 233,
    "start_time": "2022-02-02T16:30:13.493Z"
   },
   {
    "duration": 74,
    "start_time": "2022-02-02T16:32:35.786Z"
   },
   {
    "duration": 299,
    "start_time": "2022-02-02T16:33:12.761Z"
   },
   {
    "duration": 215,
    "start_time": "2022-02-02T16:33:56.066Z"
   },
   {
    "duration": 718,
    "start_time": "2022-02-02T16:34:03.985Z"
   },
   {
    "duration": 249,
    "start_time": "2022-02-02T16:34:04.705Z"
   },
   {
    "duration": 244,
    "start_time": "2022-02-02T16:34:04.959Z"
   },
   {
    "duration": 161,
    "start_time": "2022-02-02T16:34:05.204Z"
   },
   {
    "duration": 25,
    "start_time": "2022-02-02T16:34:05.366Z"
   },
   {
    "duration": 32,
    "start_time": "2022-02-02T16:34:05.393Z"
   },
   {
    "duration": 100,
    "start_time": "2022-02-02T16:34:05.426Z"
   },
   {
    "duration": 95,
    "start_time": "2022-02-02T16:34:05.529Z"
   },
   {
    "duration": 102,
    "start_time": "2022-02-02T16:34:05.626Z"
   },
   {
    "duration": 237,
    "start_time": "2022-02-02T16:34:05.730Z"
   },
   {
    "duration": 471,
    "start_time": "2022-02-02T17:19:28.599Z"
   },
   {
    "duration": 683,
    "start_time": "2022-02-02T17:19:39.132Z"
   },
   {
    "duration": 238,
    "start_time": "2022-02-02T17:19:39.817Z"
   },
   {
    "duration": 215,
    "start_time": "2022-02-02T17:19:40.058Z"
   },
   {
    "duration": 163,
    "start_time": "2022-02-02T17:19:40.274Z"
   },
   {
    "duration": 24,
    "start_time": "2022-02-02T17:19:40.438Z"
   },
   {
    "duration": 20,
    "start_time": "2022-02-02T17:19:40.464Z"
   },
   {
    "duration": 111,
    "start_time": "2022-02-02T17:19:40.485Z"
   },
   {
    "duration": 92,
    "start_time": "2022-02-02T17:19:40.598Z"
   },
   {
    "duration": 99,
    "start_time": "2022-02-02T17:19:40.692Z"
   },
   {
    "duration": 471,
    "start_time": "2022-02-02T17:19:40.793Z"
   },
   {
    "duration": 106,
    "start_time": "2022-02-02T17:23:54.850Z"
   },
   {
    "duration": 81,
    "start_time": "2022-02-02T17:25:44.745Z"
   },
   {
    "duration": 103,
    "start_time": "2022-02-02T17:26:39.038Z"
   },
   {
    "duration": 90,
    "start_time": "2022-02-02T17:26:43.680Z"
   },
   {
    "duration": 121,
    "start_time": "2022-02-02T17:26:50.454Z"
   },
   {
    "duration": 740,
    "start_time": "2022-02-02T17:50:10.983Z"
   },
   {
    "duration": 239,
    "start_time": "2022-02-02T17:50:11.725Z"
   },
   {
    "duration": 226,
    "start_time": "2022-02-02T17:50:11.966Z"
   },
   {
    "duration": 179,
    "start_time": "2022-02-02T17:50:12.194Z"
   },
   {
    "duration": 26,
    "start_time": "2022-02-02T17:50:12.376Z"
   },
   {
    "duration": 21,
    "start_time": "2022-02-02T17:50:12.413Z"
   },
   {
    "duration": 106,
    "start_time": "2022-02-02T17:50:12.436Z"
   },
   {
    "duration": 93,
    "start_time": "2022-02-02T17:50:12.545Z"
   },
   {
    "duration": 103,
    "start_time": "2022-02-02T17:50:12.640Z"
   },
   {
    "duration": 99,
    "start_time": "2022-02-02T17:50:12.744Z"
   },
   {
    "duration": 11,
    "start_time": "2022-02-02T17:57:27.430Z"
   },
   {
    "duration": 22,
    "start_time": "2022-02-02T17:57:51.615Z"
   },
   {
    "duration": 245,
    "start_time": "2022-02-02T18:07:16.152Z"
   },
   {
    "duration": 16,
    "start_time": "2022-02-02T18:08:52.000Z"
   },
   {
    "duration": 287,
    "start_time": "2022-02-02T18:13:16.618Z"
   },
   {
    "duration": 18,
    "start_time": "2022-02-02T18:13:30.700Z"
   },
   {
    "duration": 677,
    "start_time": "2022-02-02T18:22:30.234Z"
   },
   {
    "duration": 31,
    "start_time": "2022-02-02T18:22:40.098Z"
   },
   {
    "duration": 726,
    "start_time": "2022-02-02T18:23:09.021Z"
   },
   {
    "duration": 250,
    "start_time": "2022-02-02T18:23:09.749Z"
   },
   {
    "duration": 227,
    "start_time": "2022-02-02T18:23:10.003Z"
   },
   {
    "duration": 154,
    "start_time": "2022-02-02T18:23:10.231Z"
   },
   {
    "duration": 30,
    "start_time": "2022-02-02T18:23:10.387Z"
   },
   {
    "duration": 17,
    "start_time": "2022-02-02T18:23:10.419Z"
   },
   {
    "duration": 94,
    "start_time": "2022-02-02T18:23:10.438Z"
   },
   {
    "duration": 91,
    "start_time": "2022-02-02T18:23:10.534Z"
   },
   {
    "duration": 95,
    "start_time": "2022-02-02T18:23:10.627Z"
   },
   {
    "duration": 98,
    "start_time": "2022-02-02T18:23:10.723Z"
   },
   {
    "duration": 28,
    "start_time": "2022-02-02T18:23:10.823Z"
   },
   {
    "duration": 250,
    "start_time": "2022-02-02T18:23:10.852Z"
   },
   {
    "duration": 20,
    "start_time": "2022-02-02T18:24:42.471Z"
   },
   {
    "duration": 327,
    "start_time": "2022-02-02T18:25:56.208Z"
   },
   {
    "duration": 29,
    "start_time": "2022-02-02T18:26:02.724Z"
   },
   {
    "duration": 265,
    "start_time": "2022-02-02T18:35:00.492Z"
   },
   {
    "duration": 294,
    "start_time": "2022-02-02T18:37:36.753Z"
   },
   {
    "duration": 258,
    "start_time": "2022-02-02T18:37:51.790Z"
   },
   {
    "duration": 269,
    "start_time": "2022-02-02T18:39:07.997Z"
   },
   {
    "duration": 296,
    "start_time": "2022-02-02T18:40:58.178Z"
   },
   {
    "duration": 333,
    "start_time": "2022-02-02T18:41:07.206Z"
   },
   {
    "duration": 449,
    "start_time": "2022-02-02T18:41:19.935Z"
   },
   {
    "duration": 360,
    "start_time": "2022-02-02T18:41:29.301Z"
   },
   {
    "duration": 414,
    "start_time": "2022-02-02T18:46:40.623Z"
   },
   {
    "duration": 355,
    "start_time": "2022-02-02T18:49:11.514Z"
   },
   {
    "duration": 384,
    "start_time": "2022-02-02T18:50:27.461Z"
   },
   {
    "duration": 487,
    "start_time": "2022-02-02T18:54:15.969Z"
   },
   {
    "duration": 343,
    "start_time": "2022-02-02T18:55:43.492Z"
   },
   {
    "duration": 296,
    "start_time": "2022-02-02T18:57:07.097Z"
   },
   {
    "duration": 282,
    "start_time": "2022-02-02T18:57:15.706Z"
   },
   {
    "duration": 429,
    "start_time": "2022-02-02T18:59:16.129Z"
   },
   {
    "duration": 378,
    "start_time": "2022-02-02T19:00:39.573Z"
   },
   {
    "duration": 382,
    "start_time": "2022-02-02T19:05:25.754Z"
   },
   {
    "duration": 429,
    "start_time": "2022-02-02T19:05:48.856Z"
   },
   {
    "duration": 351,
    "start_time": "2022-02-02T19:06:14.026Z"
   },
   {
    "duration": 1176,
    "start_time": "2022-02-03T10:12:11.993Z"
   },
   {
    "duration": 305,
    "start_time": "2022-02-03T10:16:43.426Z"
   },
   {
    "duration": 1133,
    "start_time": "2022-02-03T10:16:59.814Z"
   },
   {
    "duration": 242,
    "start_time": "2022-02-03T10:17:00.949Z"
   },
   {
    "duration": 221,
    "start_time": "2022-02-03T10:17:01.195Z"
   },
   {
    "duration": 147,
    "start_time": "2022-02-03T10:17:01.417Z"
   },
   {
    "duration": 24,
    "start_time": "2022-02-03T10:17:01.566Z"
   },
   {
    "duration": 37,
    "start_time": "2022-02-03T10:17:01.592Z"
   },
   {
    "duration": 98,
    "start_time": "2022-02-03T10:17:01.632Z"
   },
   {
    "duration": 97,
    "start_time": "2022-02-03T10:17:01.732Z"
   },
   {
    "duration": 100,
    "start_time": "2022-02-03T10:17:01.831Z"
   },
   {
    "duration": 95,
    "start_time": "2022-02-03T10:17:01.932Z"
   },
   {
    "duration": 384,
    "start_time": "2022-02-03T10:17:02.029Z"
   },
   {
    "duration": 462,
    "start_time": "2022-02-03T10:17:02.414Z"
   },
   {
    "duration": 314,
    "start_time": "2022-02-03T10:17:02.878Z"
   },
   {
    "duration": 319,
    "start_time": "2022-02-03T10:17:03.193Z"
   },
   {
    "duration": 311,
    "start_time": "2022-02-03T10:18:09.803Z"
   },
   {
    "duration": 455,
    "start_time": "2022-02-03T10:18:23.132Z"
   },
   {
    "duration": 457,
    "start_time": "2022-02-03T10:18:29.561Z"
   },
   {
    "duration": 278,
    "start_time": "2022-02-03T10:18:37.009Z"
   },
   {
    "duration": 321,
    "start_time": "2022-02-03T10:24:32.059Z"
   },
   {
    "duration": 9,
    "start_time": "2022-02-03T10:24:59.133Z"
   },
   {
    "duration": 287,
    "start_time": "2022-02-03T10:30:24.614Z"
   },
   {
    "duration": 22,
    "start_time": "2022-02-03T10:41:25.813Z"
   },
   {
    "duration": 8,
    "start_time": "2022-02-03T10:43:39.873Z"
   },
   {
    "duration": 237,
    "start_time": "2022-02-03T10:50:38.933Z"
   },
   {
    "duration": 4,
    "start_time": "2022-02-03T10:50:49.678Z"
   },
   {
    "duration": 6,
    "start_time": "2022-02-03T11:00:40.631Z"
   },
   {
    "duration": 250,
    "start_time": "2022-02-03T11:13:07.375Z"
   },
   {
    "duration": 11,
    "start_time": "2022-02-03T11:13:18.331Z"
   },
   {
    "duration": 5,
    "start_time": "2022-02-03T11:13:22.036Z"
   },
   {
    "duration": 284,
    "start_time": "2022-02-03T11:18:20.984Z"
   },
   {
    "duration": 12,
    "start_time": "2022-02-03T11:24:13.150Z"
   },
   {
    "duration": 6,
    "start_time": "2022-02-03T11:26:44.907Z"
   },
   {
    "duration": 11,
    "start_time": "2022-02-03T11:27:58.643Z"
   },
   {
    "duration": 12,
    "start_time": "2022-02-03T11:29:14.096Z"
   },
   {
    "duration": 11,
    "start_time": "2022-02-03T11:29:22.568Z"
   },
   {
    "duration": 11,
    "start_time": "2022-02-03T11:29:33.330Z"
   },
   {
    "duration": 10,
    "start_time": "2022-02-03T11:30:00.764Z"
   },
   {
    "duration": 1077,
    "start_time": "2022-02-03T11:45:49.642Z"
   },
   {
    "duration": 242,
    "start_time": "2022-02-03T11:45:50.721Z"
   },
   {
    "duration": 217,
    "start_time": "2022-02-03T11:45:50.965Z"
   },
   {
    "duration": 161,
    "start_time": "2022-02-03T11:45:51.183Z"
   },
   {
    "duration": 23,
    "start_time": "2022-02-03T11:45:51.346Z"
   },
   {
    "duration": 41,
    "start_time": "2022-02-03T11:45:51.371Z"
   },
   {
    "duration": 88,
    "start_time": "2022-02-03T11:45:51.414Z"
   },
   {
    "duration": 90,
    "start_time": "2022-02-03T11:45:51.505Z"
   },
   {
    "duration": 85,
    "start_time": "2022-02-03T11:45:51.613Z"
   },
   {
    "duration": 95,
    "start_time": "2022-02-03T11:45:51.700Z"
   },
   {
    "duration": 373,
    "start_time": "2022-02-03T11:45:51.797Z"
   },
   {
    "duration": 458,
    "start_time": "2022-02-03T11:45:52.172Z"
   },
   {
    "duration": 311,
    "start_time": "2022-02-03T11:45:52.632Z"
   },
   {
    "duration": 283,
    "start_time": "2022-02-03T11:45:52.944Z"
   },
   {
    "duration": 11,
    "start_time": "2022-02-03T11:45:53.228Z"
   },
   {
    "duration": 5,
    "start_time": "2022-02-03T11:45:53.240Z"
   },
   {
    "duration": 12,
    "start_time": "2022-02-03T11:45:53.247Z"
   },
   {
    "duration": 8,
    "start_time": "2022-02-03T11:45:53.260Z"
   },
   {
    "duration": 1734,
    "start_time": "2022-02-12T08:38:45.575Z"
   },
   {
    "duration": 326,
    "start_time": "2022-02-12T08:38:47.313Z"
   },
   {
    "duration": 304,
    "start_time": "2022-02-12T08:38:47.642Z"
   },
   {
    "duration": 217,
    "start_time": "2022-02-12T08:38:47.948Z"
   },
   {
    "duration": 55,
    "start_time": "2022-02-12T08:38:48.168Z"
   },
   {
    "duration": 33,
    "start_time": "2022-02-12T08:38:48.226Z"
   },
   {
    "duration": 168,
    "start_time": "2022-02-12T08:38:48.262Z"
   },
   {
    "duration": 155,
    "start_time": "2022-02-12T08:38:48.435Z"
   },
   {
    "duration": 160,
    "start_time": "2022-02-12T08:38:48.593Z"
   },
   {
    "duration": 149,
    "start_time": "2022-02-12T08:38:48.755Z"
   },
   {
    "duration": 683,
    "start_time": "2022-02-12T08:38:48.906Z"
   },
   {
    "duration": 773,
    "start_time": "2022-02-12T08:38:49.591Z"
   },
   {
    "duration": 524,
    "start_time": "2022-02-12T08:38:50.366Z"
   },
   {
    "duration": 444,
    "start_time": "2022-02-12T08:38:50.893Z"
   },
   {
    "duration": 17,
    "start_time": "2022-02-12T08:38:51.339Z"
   },
   {
    "duration": 11,
    "start_time": "2022-02-12T08:38:51.358Z"
   },
   {
    "duration": 51,
    "start_time": "2022-02-12T08:38:51.372Z"
   },
   {
    "duration": 9,
    "start_time": "2022-02-12T08:38:51.426Z"
   },
   {
    "duration": 603,
    "start_time": "2022-02-12T08:56:47.654Z"
   },
   {
    "duration": 37,
    "start_time": "2022-02-12T08:56:57.959Z"
   },
   {
    "duration": 1339,
    "start_time": "2022-02-14T12:03:20.237Z"
   },
   {
    "duration": 27,
    "start_time": "2022-02-14T13:05:02.200Z"
   },
   {
    "duration": 373,
    "start_time": "2022-02-14T13:51:02.536Z"
   },
   {
    "duration": 387,
    "start_time": "2022-02-14T13:51:12.767Z"
   },
   {
    "duration": 175,
    "start_time": "2022-02-14T13:51:17.565Z"
   },
   {
    "duration": 23,
    "start_time": "2022-02-14T13:51:42.784Z"
   },
   {
    "duration": 47,
    "start_time": "2022-02-14T13:51:47.619Z"
   },
   {
    "duration": 318,
    "start_time": "2022-02-14T13:51:57.686Z"
   },
   {
    "duration": 403,
    "start_time": "2022-02-14T13:55:06.437Z"
   },
   {
    "duration": 17,
    "start_time": "2022-02-14T13:55:09.084Z"
   },
   {
    "duration": 57,
    "start_time": "2022-02-14T13:55:16.829Z"
   },
   {
    "duration": 24,
    "start_time": "2022-02-14T13:55:42.888Z"
   },
   {
    "duration": 361,
    "start_time": "2022-02-14T13:55:53.612Z"
   },
   {
    "duration": 101,
    "start_time": "2022-02-14T13:59:07.471Z"
   },
   {
    "duration": 93,
    "start_time": "2022-02-14T13:59:41.480Z"
   },
   {
    "duration": 96,
    "start_time": "2022-02-14T14:00:48.887Z"
   },
   {
    "duration": 107,
    "start_time": "2022-02-14T14:06:10.505Z"
   },
   {
    "duration": 158,
    "start_time": "2022-02-14T14:07:19.023Z"
   },
   {
    "duration": 32,
    "start_time": "2022-02-14T14:07:29.287Z"
   },
   {
    "duration": 29,
    "start_time": "2022-02-14T14:07:42.096Z"
   },
   {
    "duration": 34,
    "start_time": "2022-02-14T14:07:52.775Z"
   },
   {
    "duration": 32,
    "start_time": "2022-02-14T14:08:01.296Z"
   },
   {
    "duration": 32,
    "start_time": "2022-02-14T14:08:26.497Z"
   },
   {
    "duration": 118,
    "start_time": "2022-02-14T14:09:28.192Z"
   },
   {
    "duration": 144,
    "start_time": "2022-02-14T14:11:40.178Z"
   },
   {
    "duration": 401,
    "start_time": "2022-02-14T14:11:52.280Z"
   },
   {
    "duration": 381,
    "start_time": "2022-02-14T14:13:49.362Z"
   },
   {
    "duration": 135,
    "start_time": "2022-02-14T14:14:05.046Z"
   },
   {
    "duration": 357,
    "start_time": "2022-02-14T14:14:08.082Z"
   },
   {
    "duration": 389,
    "start_time": "2022-02-14T14:14:15.365Z"
   },
   {
    "duration": 18,
    "start_time": "2022-02-14T14:14:18.105Z"
   },
   {
    "duration": 35,
    "start_time": "2022-02-14T14:14:21.881Z"
   },
   {
    "duration": 164,
    "start_time": "2022-02-14T14:14:25.099Z"
   },
   {
    "duration": 166,
    "start_time": "2022-02-14T14:14:30.274Z"
   },
   {
    "duration": 475,
    "start_time": "2022-02-14T14:15:00.628Z"
   },
   {
    "duration": 492,
    "start_time": "2022-02-14T14:15:51.826Z"
   },
   {
    "duration": 493,
    "start_time": "2022-02-14T14:16:11.803Z"
   },
   {
    "duration": 499,
    "start_time": "2022-02-14T14:16:33.196Z"
   },
   {
    "duration": 511,
    "start_time": "2022-02-14T14:16:58.298Z"
   },
   {
    "duration": 500,
    "start_time": "2022-02-14T14:17:29.794Z"
   },
   {
    "duration": 507,
    "start_time": "2022-02-14T14:17:39.819Z"
   },
   {
    "duration": 513,
    "start_time": "2022-02-14T14:17:47.487Z"
   },
   {
    "duration": 551,
    "start_time": "2022-02-14T14:18:17.782Z"
   },
   {
    "duration": 585,
    "start_time": "2022-02-14T14:18:48.643Z"
   },
   {
    "duration": 761,
    "start_time": "2022-02-14T14:19:15.148Z"
   },
   {
    "duration": 90,
    "start_time": "2022-02-14T14:19:57.262Z"
   },
   {
    "duration": 97,
    "start_time": "2022-02-14T14:20:02.107Z"
   },
   {
    "duration": 87,
    "start_time": "2022-02-14T14:23:31.102Z"
   },
   {
    "duration": 263,
    "start_time": "2022-02-14T14:25:41.749Z"
   },
   {
    "duration": 140,
    "start_time": "2022-02-14T14:25:47.549Z"
   },
   {
    "duration": 40,
    "start_time": "2022-02-14T14:25:51.741Z"
   },
   {
    "duration": 8711,
    "start_time": "2022-02-14T14:27:55.485Z"
   },
   {
    "duration": 107,
    "start_time": "2022-02-14T14:28:21.900Z"
   },
   {
    "duration": 6910,
    "start_time": "2022-02-14T14:28:24.722Z"
   },
   {
    "duration": 1981,
    "start_time": "2022-02-14T14:29:54.867Z"
   },
   {
    "duration": 18,
    "start_time": "2022-02-14T14:29:56.851Z"
   },
   {
    "duration": 43,
    "start_time": "2022-02-14T14:29:56.874Z"
   },
   {
    "duration": 188,
    "start_time": "2022-02-14T14:29:56.947Z"
   },
   {
    "duration": 202,
    "start_time": "2022-02-14T14:29:57.149Z"
   },
   {
    "duration": 159,
    "start_time": "2022-02-14T14:29:57.354Z"
   },
   {
    "duration": 49,
    "start_time": "2022-02-14T14:29:57.516Z"
   },
   {
    "duration": 31,
    "start_time": "2022-02-14T14:29:57.569Z"
   },
   {
    "duration": 183,
    "start_time": "2022-02-14T14:29:57.604Z"
   },
   {
    "duration": 149,
    "start_time": "2022-02-14T14:29:57.790Z"
   },
   {
    "duration": 153,
    "start_time": "2022-02-14T14:29:57.942Z"
   },
   {
    "duration": 156,
    "start_time": "2022-02-14T14:29:58.098Z"
   },
   {
    "duration": 39,
    "start_time": "2022-02-14T14:29:58.256Z"
   },
   {
    "duration": 686,
    "start_time": "2022-02-14T14:29:58.298Z"
   },
   {
    "duration": 802,
    "start_time": "2022-02-14T14:29:58.987Z"
   },
   {
    "duration": 486,
    "start_time": "2022-02-14T14:29:59.792Z"
   },
   {
    "duration": 445,
    "start_time": "2022-02-14T14:30:00.280Z"
   },
   {
    "duration": 31,
    "start_time": "2022-02-14T14:30:00.728Z"
   },
   {
    "duration": 12,
    "start_time": "2022-02-14T14:30:00.762Z"
   },
   {
    "duration": 33,
    "start_time": "2022-02-14T14:30:00.776Z"
   },
   {
    "duration": 10,
    "start_time": "2022-02-14T14:30:00.811Z"
   },
   {
    "duration": 47,
    "start_time": "2022-02-14T14:30:58.613Z"
   },
   {
    "duration": 2058,
    "start_time": "2022-02-14T15:05:03.182Z"
   },
   {
    "duration": 18,
    "start_time": "2022-02-14T15:05:05.249Z"
   },
   {
    "duration": 37,
    "start_time": "2022-02-14T15:05:05.274Z"
   },
   {
    "duration": 221,
    "start_time": "2022-02-14T15:05:05.314Z"
   },
   {
    "duration": 188,
    "start_time": "2022-02-14T15:05:05.549Z"
   },
   {
    "duration": 152,
    "start_time": "2022-02-14T15:05:05.748Z"
   },
   {
    "duration": 64,
    "start_time": "2022-02-14T15:05:05.903Z"
   },
   {
    "duration": 29,
    "start_time": "2022-02-14T15:05:05.971Z"
   },
   {
    "duration": 173,
    "start_time": "2022-02-14T15:05:06.003Z"
   },
   {
    "duration": 154,
    "start_time": "2022-02-14T15:05:06.179Z"
   },
   {
    "duration": 159,
    "start_time": "2022-02-14T15:05:06.336Z"
   },
   {
    "duration": 162,
    "start_time": "2022-02-14T15:05:06.498Z"
   },
   {
    "duration": 42,
    "start_time": "2022-02-14T15:05:06.662Z"
   },
   {
    "duration": 606,
    "start_time": "2022-02-14T15:05:06.707Z"
   },
   {
    "duration": 684,
    "start_time": "2022-02-14T15:05:07.316Z"
   },
   {
    "duration": 595,
    "start_time": "2022-02-14T15:05:08.003Z"
   },
   {
    "duration": 611,
    "start_time": "2022-02-14T15:05:08.602Z"
   },
   {
    "duration": 33,
    "start_time": "2022-02-14T15:05:09.215Z"
   },
   {
    "duration": 8,
    "start_time": "2022-02-14T15:05:09.251Z"
   },
   {
    "duration": 19,
    "start_time": "2022-02-14T15:05:09.262Z"
   },
   {
    "duration": 7,
    "start_time": "2022-02-14T15:05:09.284Z"
   },
   {
    "duration": 420,
    "start_time": "2022-02-14T15:05:52.807Z"
   },
   {
    "duration": 63,
    "start_time": "2022-02-14T15:06:01.021Z"
   },
   {
    "duration": 55,
    "start_time": "2022-02-14T15:07:23.238Z"
   },
   {
    "duration": 8095,
    "start_time": "2022-02-14T15:09:50.558Z"
   },
   {
    "duration": 61,
    "start_time": "2022-02-14T15:10:11.451Z"
   },
   {
    "duration": 10154,
    "start_time": "2022-02-14T15:17:20.937Z"
   },
   {
    "duration": 7611,
    "start_time": "2022-02-14T15:17:54.033Z"
   },
   {
    "duration": 9127,
    "start_time": "2022-02-14T15:23:50.648Z"
   },
   {
    "duration": 11948,
    "start_time": "2022-02-14T15:25:15.614Z"
   },
   {
    "duration": 7940,
    "start_time": "2022-02-14T15:28:44.098Z"
   },
   {
    "duration": 87,
    "start_time": "2022-02-14T15:29:06.567Z"
   },
   {
    "duration": 113,
    "start_time": "2022-02-14T15:29:15.943Z"
   },
   {
    "duration": 2617,
    "start_time": "2022-02-14T15:29:42.894Z"
   },
   {
    "duration": 31,
    "start_time": "2022-02-14T15:29:45.526Z"
   },
   {
    "duration": 224,
    "start_time": "2022-02-14T15:29:45.563Z"
   },
   {
    "duration": 337,
    "start_time": "2022-02-14T15:29:45.792Z"
   },
   {
    "duration": 195,
    "start_time": "2022-02-14T15:29:46.133Z"
   },
   {
    "duration": 161,
    "start_time": "2022-02-14T15:29:46.330Z"
   },
   {
    "duration": 76,
    "start_time": "2022-02-14T15:29:46.494Z"
   },
   {
    "duration": 32,
    "start_time": "2022-02-14T15:29:46.574Z"
   },
   {
    "duration": 128,
    "start_time": "2022-02-14T15:29:46.609Z"
   },
   {
    "duration": -608,
    "start_time": "2022-02-14T15:29:47.348Z"
   },
   {
    "duration": -613,
    "start_time": "2022-02-14T15:29:47.355Z"
   },
   {
    "duration": -612,
    "start_time": "2022-02-14T15:29:47.356Z"
   },
   {
    "duration": -610,
    "start_time": "2022-02-14T15:29:47.357Z"
   },
   {
    "duration": -612,
    "start_time": "2022-02-14T15:29:47.361Z"
   },
   {
    "duration": -619,
    "start_time": "2022-02-14T15:29:47.370Z"
   },
   {
    "duration": -619,
    "start_time": "2022-02-14T15:29:47.372Z"
   },
   {
    "duration": -618,
    "start_time": "2022-02-14T15:29:47.373Z"
   },
   {
    "duration": -616,
    "start_time": "2022-02-14T15:29:47.374Z"
   },
   {
    "duration": -615,
    "start_time": "2022-02-14T15:29:47.375Z"
   },
   {
    "duration": -614,
    "start_time": "2022-02-14T15:29:47.376Z"
   },
   {
    "duration": -613,
    "start_time": "2022-02-14T15:29:47.377Z"
   },
   {
    "duration": 265,
    "start_time": "2022-02-14T15:29:53.695Z"
   },
   {
    "duration": 259,
    "start_time": "2022-02-14T15:33:39.762Z"
   },
   {
    "duration": 81,
    "start_time": "2022-02-14T15:37:44.266Z"
   },
   {
    "duration": 286,
    "start_time": "2022-02-14T15:38:04.498Z"
   },
   {
    "duration": 2136,
    "start_time": "2022-02-14T15:38:30.949Z"
   },
   {
    "duration": 17,
    "start_time": "2022-02-14T15:38:33.087Z"
   },
   {
    "duration": 60,
    "start_time": "2022-02-14T15:38:33.107Z"
   },
   {
    "duration": 212,
    "start_time": "2022-02-14T15:38:33.170Z"
   },
   {
    "duration": 188,
    "start_time": "2022-02-14T15:38:33.384Z"
   },
   {
    "duration": 152,
    "start_time": "2022-02-14T15:38:33.575Z"
   },
   {
    "duration": 61,
    "start_time": "2022-02-14T15:38:33.730Z"
   },
   {
    "duration": 56,
    "start_time": "2022-02-14T15:38:33.794Z"
   },
   {
    "duration": 400,
    "start_time": "2022-02-14T15:38:33.854Z"
   },
   {
    "duration": 272,
    "start_time": "2022-02-14T15:38:34.257Z"
   },
   {
    "duration": 293,
    "start_time": "2022-02-14T15:38:34.531Z"
   },
   {
    "duration": 156,
    "start_time": "2022-02-14T15:38:34.827Z"
   },
   {
    "duration": 37,
    "start_time": "2022-02-14T15:38:34.986Z"
   },
   {
    "duration": 601,
    "start_time": "2022-02-14T15:38:35.026Z"
   },
   {
    "duration": 678,
    "start_time": "2022-02-14T15:38:35.629Z"
   },
   {
    "duration": 462,
    "start_time": "2022-02-14T15:38:36.309Z"
   },
   {
    "duration": 430,
    "start_time": "2022-02-14T15:38:36.774Z"
   },
   {
    "duration": 17,
    "start_time": "2022-02-14T15:38:37.207Z"
   },
   {
    "duration": 8,
    "start_time": "2022-02-14T15:38:37.249Z"
   },
   {
    "duration": 19,
    "start_time": "2022-02-14T15:38:37.260Z"
   },
   {
    "duration": 7,
    "start_time": "2022-02-14T15:38:37.282Z"
   },
   {
    "duration": 372,
    "start_time": "2022-02-14T15:40:21.203Z"
   },
   {
    "duration": 217,
    "start_time": "2022-02-14T15:40:29.816Z"
   },
   {
    "duration": 1055,
    "start_time": "2022-02-14T15:43:32.504Z"
   },
   {
    "duration": 1930,
    "start_time": "2022-02-14T15:45:09.780Z"
   },
   {
    "duration": 17,
    "start_time": "2022-02-14T15:45:11.712Z"
   },
   {
    "duration": 47,
    "start_time": "2022-02-14T15:45:11.732Z"
   },
   {
    "duration": 213,
    "start_time": "2022-02-14T15:45:11.782Z"
   },
   {
    "duration": 222,
    "start_time": "2022-02-14T15:45:11.998Z"
   },
   {
    "duration": 165,
    "start_time": "2022-02-14T15:45:12.223Z"
   },
   {
    "duration": 78,
    "start_time": "2022-02-14T15:45:12.392Z"
   },
   {
    "duration": 33,
    "start_time": "2022-02-14T15:45:12.474Z"
   },
   {
    "duration": 304,
    "start_time": "2022-02-14T15:45:12.510Z"
   },
   {
    "duration": 279,
    "start_time": "2022-02-14T15:45:12.816Z"
   },
   {
    "duration": 288,
    "start_time": "2022-02-14T15:45:13.098Z"
   },
   {
    "duration": 250,
    "start_time": "2022-02-14T15:45:13.389Z"
   },
   {
    "duration": 42,
    "start_time": "2022-02-14T15:45:13.642Z"
   },
   {
    "duration": 946,
    "start_time": "2022-02-14T15:45:13.686Z"
   },
   {
    "duration": 676,
    "start_time": "2022-02-14T15:45:14.635Z"
   },
   {
    "duration": 456,
    "start_time": "2022-02-14T15:45:15.313Z"
   },
   {
    "duration": 434,
    "start_time": "2022-02-14T15:45:15.772Z"
   },
   {
    "duration": 16,
    "start_time": "2022-02-14T15:45:16.208Z"
   },
   {
    "duration": 7,
    "start_time": "2022-02-14T15:45:16.249Z"
   },
   {
    "duration": 36,
    "start_time": "2022-02-14T15:45:16.259Z"
   },
   {
    "duration": 29,
    "start_time": "2022-02-14T15:45:16.298Z"
   },
   {
    "duration": 617,
    "start_time": "2022-02-14T15:45:58.616Z"
   },
   {
    "duration": 79,
    "start_time": "2022-02-14T15:46:43.538Z"
   },
   {
    "duration": 88,
    "start_time": "2022-02-14T15:46:54.272Z"
   },
   {
    "duration": 104,
    "start_time": "2022-02-14T15:47:04.431Z"
   },
   {
    "duration": 559,
    "start_time": "2022-02-14T15:50:22.841Z"
   },
   {
    "duration": 678,
    "start_time": "2022-02-14T15:51:15.612Z"
   },
   {
    "duration": 671,
    "start_time": "2022-02-14T15:51:38.706Z"
   },
   {
    "duration": 414,
    "start_time": "2022-02-14T15:52:08.465Z"
   },
   {
    "duration": 1510,
    "start_time": "2022-02-15T14:23:08.856Z"
   },
   {
    "duration": 9,
    "start_time": "2022-02-15T14:23:10.367Z"
   },
   {
    "duration": 22,
    "start_time": "2022-02-15T14:23:10.378Z"
   },
   {
    "duration": 130,
    "start_time": "2022-02-15T14:23:10.402Z"
   },
   {
    "duration": 130,
    "start_time": "2022-02-15T14:23:10.533Z"
   },
   {
    "duration": 104,
    "start_time": "2022-02-15T14:23:10.664Z"
   },
   {
    "duration": 31,
    "start_time": "2022-02-15T14:23:10.769Z"
   },
   {
    "duration": 20,
    "start_time": "2022-02-15T14:23:10.803Z"
   },
   {
    "duration": 143,
    "start_time": "2022-02-15T14:23:10.846Z"
   },
   {
    "duration": 143,
    "start_time": "2022-02-15T14:23:10.990Z"
   },
   {
    "duration": 146,
    "start_time": "2022-02-15T14:23:11.135Z"
   },
   {
    "duration": 126,
    "start_time": "2022-02-15T14:23:11.283Z"
   },
   {
    "duration": 21,
    "start_time": "2022-02-15T14:23:11.411Z"
   },
   {
    "duration": 321,
    "start_time": "2022-02-15T14:23:11.434Z"
   },
   {
    "duration": 378,
    "start_time": "2022-02-15T14:23:11.756Z"
   },
   {
    "duration": 242,
    "start_time": "2022-02-15T14:23:12.136Z"
   },
   {
    "duration": 237,
    "start_time": "2022-02-15T14:23:12.380Z"
   },
   {
    "duration": 8,
    "start_time": "2022-02-15T14:23:12.619Z"
   },
   {
    "duration": 19,
    "start_time": "2022-02-15T14:23:12.629Z"
   },
   {
    "duration": 11,
    "start_time": "2022-02-15T14:23:12.649Z"
   },
   {
    "duration": 5,
    "start_time": "2022-02-15T14:23:12.662Z"
   },
   {
    "duration": 438,
    "start_time": "2022-02-15T14:50:06.033Z"
   },
   {
    "duration": 532,
    "start_time": "2022-02-15T14:51:00.463Z"
   },
   {
    "duration": 1403,
    "start_time": "2022-02-15T14:54:17.243Z"
   },
   {
    "duration": 8,
    "start_time": "2022-02-15T14:54:18.650Z"
   },
   {
    "duration": 19,
    "start_time": "2022-02-15T14:54:18.660Z"
   },
   {
    "duration": 134,
    "start_time": "2022-02-15T14:54:18.681Z"
   },
   {
    "duration": 122,
    "start_time": "2022-02-15T14:54:18.816Z"
   },
   {
    "duration": 90,
    "start_time": "2022-02-15T14:54:18.946Z"
   },
   {
    "duration": 31,
    "start_time": "2022-02-15T14:54:19.046Z"
   },
   {
    "duration": 19,
    "start_time": "2022-02-15T14:54:19.079Z"
   },
   {
    "duration": 167,
    "start_time": "2022-02-15T14:54:19.100Z"
   },
   {
    "duration": 143,
    "start_time": "2022-02-15T14:54:19.268Z"
   },
   {
    "duration": 144,
    "start_time": "2022-02-15T14:54:19.413Z"
   },
   {
    "duration": 117,
    "start_time": "2022-02-15T14:54:19.559Z"
   },
   {
    "duration": 19,
    "start_time": "2022-02-15T14:54:19.678Z"
   },
   {
    "duration": 299,
    "start_time": "2022-02-15T14:54:19.699Z"
   },
   {
    "duration": 360,
    "start_time": "2022-02-15T14:54:20.000Z"
   },
   {
    "duration": 234,
    "start_time": "2022-02-15T14:54:20.361Z"
   },
   {
    "duration": 231,
    "start_time": "2022-02-15T14:54:20.597Z"
   },
   {
    "duration": 18,
    "start_time": "2022-02-15T14:54:20.829Z"
   },
   {
    "duration": 4,
    "start_time": "2022-02-15T14:54:20.849Z"
   },
   {
    "duration": 11,
    "start_time": "2022-02-15T14:54:20.854Z"
   },
   {
    "duration": 7,
    "start_time": "2022-02-15T14:54:20.866Z"
   }
  ],
  "kernelspec": {
   "display_name": "Python 3 (ipykernel)",
   "language": "python",
   "name": "python3"
  },
  "language_info": {
   "codemirror_mode": {
    "name": "ipython",
    "version": 3
   },
   "file_extension": ".py",
   "mimetype": "text/x-python",
   "name": "python",
   "nbconvert_exporter": "python",
   "pygments_lexer": "ipython3",
   "version": "3.9.12"
  },
  "toc": {
   "base_numbering": 1,
   "nav_menu": {},
   "number_sections": true,
   "sideBar": true,
   "skip_h1_title": true,
   "title_cell": "Table of Contents",
   "title_sidebar": "Contents",
   "toc_cell": false,
   "toc_position": {},
   "toc_section_display": true,
   "toc_window_display": false
  }
 },
 "nbformat": 4,
 "nbformat_minor": 2
}
