{
 "cells": [
  {
   "cell_type": "markdown",
   "metadata": {},
   "source": [
    "# Исследование надёжности заёмщиков\n",
    "\n",
    "Заказчик — кредитный отдел банка. Нужно разобраться, влияет ли семейное положение и количество детей клиента на факт погашения кредита в срок. Входные данные от банка — статистика о платёжеспособности клиентов.\n",
    "\n",
    "Результаты исследования будут учтены при построении модели *кредитного скоринга* — специальной системы, которая оценивает способность потенциального заёмщика вернуть кредит банку."
   ]
  },
  {
   "cell_type": "markdown",
   "metadata": {},
   "source": [
    "**Описание данных:**   \n",
    " - количество детей в семье      \n",
    " - общий трудовой стаж в днях   \n",
    " - возраст клиента в годах   \n",
    " - уровень образования клиента   \n",
    " - идентификатор уровня образования   \n",
    " - семейное положение   \n",
    " - идентификатор семейного положения   \n",
    " - пол клиента   \n",
    " - тип занятости   \n",
    " - имел ли задолженность по возврату кредитов   \n",
    " - ежемесячный доход   \n",
    " - цель получения кредита"
   ]
  },
  {
   "cell_type": "markdown",
   "metadata": {},
   "source": [
    "## Предобработка данных"
   ]
  },
  {
   "cell_type": "code",
   "execution_count": null,
   "metadata": {},
   "outputs": [],
   "source": [
    "import pandas as pd\n",
    "from pymystem3 import Mystem\n",
    "from collections import Counter\n",
    "m = Mystem()"
   ]
  },
  {
   "cell_type": "code",
   "execution_count": 1,
   "metadata": {},
   "outputs": [
    {
     "name": "stdout",
     "output_type": "stream",
     "text": [
      "<class 'pandas.core.frame.DataFrame'>\n",
      "RangeIndex: 21525 entries, 0 to 21524\n",
      "Data columns (total 12 columns):\n",
      "children            21525 non-null int64\n",
      "days_employed       19351 non-null float64\n",
      "dob_years           21525 non-null int64\n",
      "education           21525 non-null object\n",
      "education_id        21525 non-null int64\n",
      "family_status       21525 non-null object\n",
      "family_status_id    21525 non-null int64\n",
      "gender              21525 non-null object\n",
      "income_type         21525 non-null object\n",
      "debt                21525 non-null int64\n",
      "total_income        19351 non-null float64\n",
      "purpose             21525 non-null object\n",
      "dtypes: float64(2), int64(5), object(5)\n",
      "memory usage: 2.0+ MB\n"
     ]
    }
   ],
   "source": [
    "data = pd.read_csv('_')\n",
    "\n",
    "data.info()"
   ]
  },
  {
   "cell_type": "markdown",
   "metadata": {},
   "source": [
    "Из 12 столбиков с данными пропущенные значения есть только в столбиках days_employed и total_income. Вероятнее всего это связано с тем, что не все кто брал кредиты работали."
   ]
  },
  {
   "cell_type": "markdown",
   "metadata": {},
   "source": [
    "### Обработка пропусков"
   ]
  },
  {
   "cell_type": "markdown",
   "metadata": {},
   "source": [
    "Заменяем пустые значения ежемесячного дохода на медианное, т.к. разрыв между max и min ежемесячного дохода может быть неограниченно большим"
   ]
  },
  {
   "cell_type": "code",
   "execution_count": 2,
   "metadata": {},
   "outputs": [],
   "source": [
    "data['total_income'] = data['total_income'].fillna(value=(data['total_income'].median())) "
   ]
  },
  {
   "cell_type": "code",
   "execution_count": 3,
   "metadata": {},
   "outputs": [
    {
     "data": {
      "text/html": [
       "<div>\n",
       "<style scoped>\n",
       "    .dataframe tbody tr th:only-of-type {\n",
       "        vertical-align: middle;\n",
       "    }\n",
       "\n",
       "    .dataframe tbody tr th {\n",
       "        vertical-align: top;\n",
       "    }\n",
       "\n",
       "    .dataframe thead th {\n",
       "        text-align: right;\n",
       "    }\n",
       "</style>\n",
       "<table border=\"1\" class=\"dataframe\">\n",
       "  <thead>\n",
       "    <tr style=\"text-align: right;\">\n",
       "      <th></th>\n",
       "      <th>children</th>\n",
       "      <th>days_employed</th>\n",
       "      <th>dob_years</th>\n",
       "      <th>education</th>\n",
       "      <th>education_id</th>\n",
       "      <th>family_status</th>\n",
       "      <th>family_status_id</th>\n",
       "      <th>gender</th>\n",
       "      <th>income_type</th>\n",
       "      <th>debt</th>\n",
       "      <th>total_income</th>\n",
       "      <th>purpose</th>\n",
       "      <th>days_employed &gt; 0</th>\n",
       "    </tr>\n",
       "  </thead>\n",
       "  <tbody>\n",
       "    <tr>\n",
       "      <td>0</td>\n",
       "      <td>1</td>\n",
       "      <td>-8437.673028</td>\n",
       "      <td>42</td>\n",
       "      <td>высшее</td>\n",
       "      <td>0</td>\n",
       "      <td>женат / замужем</td>\n",
       "      <td>0</td>\n",
       "      <td>F</td>\n",
       "      <td>сотрудник</td>\n",
       "      <td>0</td>\n",
       "      <td>253875.639453</td>\n",
       "      <td>покупка жилья</td>\n",
       "      <td>False</td>\n",
       "    </tr>\n",
       "    <tr>\n",
       "      <td>1</td>\n",
       "      <td>1</td>\n",
       "      <td>-4024.803754</td>\n",
       "      <td>36</td>\n",
       "      <td>среднее</td>\n",
       "      <td>1</td>\n",
       "      <td>женат / замужем</td>\n",
       "      <td>0</td>\n",
       "      <td>F</td>\n",
       "      <td>сотрудник</td>\n",
       "      <td>0</td>\n",
       "      <td>112080.014102</td>\n",
       "      <td>приобретение автомобиля</td>\n",
       "      <td>False</td>\n",
       "    </tr>\n",
       "    <tr>\n",
       "      <td>2</td>\n",
       "      <td>0</td>\n",
       "      <td>-5623.422610</td>\n",
       "      <td>33</td>\n",
       "      <td>Среднее</td>\n",
       "      <td>1</td>\n",
       "      <td>женат / замужем</td>\n",
       "      <td>0</td>\n",
       "      <td>M</td>\n",
       "      <td>сотрудник</td>\n",
       "      <td>0</td>\n",
       "      <td>145885.952297</td>\n",
       "      <td>покупка жилья</td>\n",
       "      <td>False</td>\n",
       "    </tr>\n",
       "    <tr>\n",
       "      <td>3</td>\n",
       "      <td>3</td>\n",
       "      <td>-4124.747207</td>\n",
       "      <td>32</td>\n",
       "      <td>среднее</td>\n",
       "      <td>1</td>\n",
       "      <td>женат / замужем</td>\n",
       "      <td>0</td>\n",
       "      <td>M</td>\n",
       "      <td>сотрудник</td>\n",
       "      <td>0</td>\n",
       "      <td>267628.550329</td>\n",
       "      <td>дополнительное образование</td>\n",
       "      <td>False</td>\n",
       "    </tr>\n",
       "    <tr>\n",
       "      <td>4</td>\n",
       "      <td>0</td>\n",
       "      <td>340266.072047</td>\n",
       "      <td>53</td>\n",
       "      <td>среднее</td>\n",
       "      <td>1</td>\n",
       "      <td>гражданский брак</td>\n",
       "      <td>1</td>\n",
       "      <td>F</td>\n",
       "      <td>пенсионер</td>\n",
       "      <td>0</td>\n",
       "      <td>158616.077870</td>\n",
       "      <td>сыграть свадьбу</td>\n",
       "      <td>True</td>\n",
       "    </tr>\n",
       "    <tr>\n",
       "      <td>...</td>\n",
       "      <td>...</td>\n",
       "      <td>...</td>\n",
       "      <td>...</td>\n",
       "      <td>...</td>\n",
       "      <td>...</td>\n",
       "      <td>...</td>\n",
       "      <td>...</td>\n",
       "      <td>...</td>\n",
       "      <td>...</td>\n",
       "      <td>...</td>\n",
       "      <td>...</td>\n",
       "      <td>...</td>\n",
       "      <td>...</td>\n",
       "    </tr>\n",
       "    <tr>\n",
       "      <td>21520</td>\n",
       "      <td>1</td>\n",
       "      <td>-4529.316663</td>\n",
       "      <td>43</td>\n",
       "      <td>среднее</td>\n",
       "      <td>1</td>\n",
       "      <td>гражданский брак</td>\n",
       "      <td>1</td>\n",
       "      <td>F</td>\n",
       "      <td>компаньон</td>\n",
       "      <td>0</td>\n",
       "      <td>224791.862382</td>\n",
       "      <td>операции с жильем</td>\n",
       "      <td>False</td>\n",
       "    </tr>\n",
       "    <tr>\n",
       "      <td>21521</td>\n",
       "      <td>0</td>\n",
       "      <td>343937.404131</td>\n",
       "      <td>67</td>\n",
       "      <td>среднее</td>\n",
       "      <td>1</td>\n",
       "      <td>женат / замужем</td>\n",
       "      <td>0</td>\n",
       "      <td>F</td>\n",
       "      <td>пенсионер</td>\n",
       "      <td>0</td>\n",
       "      <td>155999.806512</td>\n",
       "      <td>сделка с автомобилем</td>\n",
       "      <td>True</td>\n",
       "    </tr>\n",
       "    <tr>\n",
       "      <td>21522</td>\n",
       "      <td>1</td>\n",
       "      <td>-2113.346888</td>\n",
       "      <td>38</td>\n",
       "      <td>среднее</td>\n",
       "      <td>1</td>\n",
       "      <td>гражданский брак</td>\n",
       "      <td>1</td>\n",
       "      <td>M</td>\n",
       "      <td>сотрудник</td>\n",
       "      <td>1</td>\n",
       "      <td>89672.561153</td>\n",
       "      <td>недвижимость</td>\n",
       "      <td>False</td>\n",
       "    </tr>\n",
       "    <tr>\n",
       "      <td>21523</td>\n",
       "      <td>3</td>\n",
       "      <td>-3112.481705</td>\n",
       "      <td>38</td>\n",
       "      <td>среднее</td>\n",
       "      <td>1</td>\n",
       "      <td>женат / замужем</td>\n",
       "      <td>0</td>\n",
       "      <td>M</td>\n",
       "      <td>сотрудник</td>\n",
       "      <td>1</td>\n",
       "      <td>244093.050500</td>\n",
       "      <td>на покупку своего автомобиля</td>\n",
       "      <td>False</td>\n",
       "    </tr>\n",
       "    <tr>\n",
       "      <td>21524</td>\n",
       "      <td>2</td>\n",
       "      <td>-1984.507589</td>\n",
       "      <td>40</td>\n",
       "      <td>среднее</td>\n",
       "      <td>1</td>\n",
       "      <td>женат / замужем</td>\n",
       "      <td>0</td>\n",
       "      <td>F</td>\n",
       "      <td>сотрудник</td>\n",
       "      <td>0</td>\n",
       "      <td>82047.418899</td>\n",
       "      <td>на покупку автомобиля</td>\n",
       "      <td>False</td>\n",
       "    </tr>\n",
       "  </tbody>\n",
       "</table>\n",
       "<p>21525 rows × 13 columns</p>\n",
       "</div>"
      ],
      "text/plain": [
       "       children  days_employed  dob_years education  education_id  \\\n",
       "0             1   -8437.673028         42    высшее             0   \n",
       "1             1   -4024.803754         36   среднее             1   \n",
       "2             0   -5623.422610         33   Среднее             1   \n",
       "3             3   -4124.747207         32   среднее             1   \n",
       "4             0  340266.072047         53   среднее             1   \n",
       "...         ...            ...        ...       ...           ...   \n",
       "21520         1   -4529.316663         43   среднее             1   \n",
       "21521         0  343937.404131         67   среднее             1   \n",
       "21522         1   -2113.346888         38   среднее             1   \n",
       "21523         3   -3112.481705         38   среднее             1   \n",
       "21524         2   -1984.507589         40   среднее             1   \n",
       "\n",
       "          family_status  family_status_id gender income_type  debt  \\\n",
       "0       женат / замужем                 0      F   сотрудник     0   \n",
       "1       женат / замужем                 0      F   сотрудник     0   \n",
       "2       женат / замужем                 0      M   сотрудник     0   \n",
       "3       женат / замужем                 0      M   сотрудник     0   \n",
       "4      гражданский брак                 1      F   пенсионер     0   \n",
       "...                 ...               ...    ...         ...   ...   \n",
       "21520  гражданский брак                 1      F   компаньон     0   \n",
       "21521   женат / замужем                 0      F   пенсионер     0   \n",
       "21522  гражданский брак                 1      M   сотрудник     1   \n",
       "21523   женат / замужем                 0      M   сотрудник     1   \n",
       "21524   женат / замужем                 0      F   сотрудник     0   \n",
       "\n",
       "        total_income                       purpose  days_employed > 0  \n",
       "0      253875.639453                 покупка жилья              False  \n",
       "1      112080.014102       приобретение автомобиля              False  \n",
       "2      145885.952297                 покупка жилья              False  \n",
       "3      267628.550329    дополнительное образование              False  \n",
       "4      158616.077870               сыграть свадьбу               True  \n",
       "...              ...                           ...                ...  \n",
       "21520  224791.862382             операции с жильем              False  \n",
       "21521  155999.806512          сделка с автомобилем               True  \n",
       "21522   89672.561153                  недвижимость              False  \n",
       "21523  244093.050500  на покупку своего автомобиля              False  \n",
       "21524   82047.418899         на покупку автомобиля              False  \n",
       "\n",
       "[21525 rows x 13 columns]"
      ]
     },
     "metadata": {},
     "output_type": "display_data"
    }
   ],
   "source": [
    "temp = data.copy()\n",
    "temp['days_employed > 0'] = data['days_employed'] > 0\n",
    "temp.pivot_table(index='income_type',columns='days_employed > 0', values='debt', aggfunc='count')\n",
    "display(temp)\n",
    "\n",
    "ata['days_employed'] = data['days_employed'].abs()"
   ]
  },
  {
   "cell_type": "code",
   "execution_count": 4,
   "metadata": {},
   "outputs": [
    {
     "name": "stdout",
     "output_type": "stream",
     "text": [
      "<class 'pandas.core.frame.DataFrame'>\n",
      "RangeIndex: 21525 entries, 0 to 21524\n",
      "Data columns (total 12 columns):\n",
      "children            21525 non-null int64\n",
      "days_employed       21525 non-null float64\n",
      "dob_years           21525 non-null int64\n",
      "education           21525 non-null object\n",
      "education_id        21525 non-null int64\n",
      "family_status       21525 non-null object\n",
      "family_status_id    21525 non-null int64\n",
      "gender              21525 non-null object\n",
      "income_type         21525 non-null object\n",
      "debt                21525 non-null int64\n",
      "total_income        21525 non-null float64\n",
      "purpose             21525 non-null object\n",
      "dtypes: float64(2), int64(5), object(5)\n",
      "memory usage: 2.0+ MB\n"
     ]
    }
   ],
   "source": [
    "data['days_employed'] = data['days_employed']/24\n",
    "\n",
    "data['days_employed'] = data['days_employed'].fillna(value=(data['days_employed'].mean()))\n",
    "\n",
    "data.info()"
   ]
  },
  {
   "cell_type": "markdown",
   "metadata": {},
   "source": [
    "Во всех столбцах таблицы теперь равное количество значений, соответсвенно пропусков не осталось, цель достигнута."
   ]
  },
  {
   "cell_type": "markdown",
   "metadata": {},
   "source": [
    "### Замена типа данных"
   ]
  },
  {
   "cell_type": "code",
   "execution_count": 5,
   "metadata": {},
   "outputs": [
    {
     "data": {
      "text/html": [
       "<div>\n",
       "<style scoped>\n",
       "    .dataframe tbody tr th:only-of-type {\n",
       "        vertical-align: middle;\n",
       "    }\n",
       "\n",
       "    .dataframe tbody tr th {\n",
       "        vertical-align: top;\n",
       "    }\n",
       "\n",
       "    .dataframe thead th {\n",
       "        text-align: right;\n",
       "    }\n",
       "</style>\n",
       "<table border=\"1\" class=\"dataframe\">\n",
       "  <thead>\n",
       "    <tr style=\"text-align: right;\">\n",
       "      <th></th>\n",
       "      <th>children</th>\n",
       "      <th>days_employed</th>\n",
       "      <th>dob_years</th>\n",
       "      <th>education</th>\n",
       "      <th>education_id</th>\n",
       "      <th>family_status</th>\n",
       "      <th>family_status_id</th>\n",
       "      <th>gender</th>\n",
       "      <th>income_type</th>\n",
       "      <th>debt</th>\n",
       "      <th>total_income</th>\n",
       "      <th>purpose</th>\n",
       "    </tr>\n",
       "  </thead>\n",
       "  <tbody>\n",
       "    <tr>\n",
       "      <td>0</td>\n",
       "      <td>1</td>\n",
       "      <td>351</td>\n",
       "      <td>42</td>\n",
       "      <td>высшее</td>\n",
       "      <td>0</td>\n",
       "      <td>женат / замужем</td>\n",
       "      <td>0</td>\n",
       "      <td>F</td>\n",
       "      <td>сотрудник</td>\n",
       "      <td>0</td>\n",
       "      <td>253875.639453</td>\n",
       "      <td>покупка жилья</td>\n",
       "    </tr>\n",
       "    <tr>\n",
       "      <td>1</td>\n",
       "      <td>1</td>\n",
       "      <td>167</td>\n",
       "      <td>36</td>\n",
       "      <td>среднее</td>\n",
       "      <td>1</td>\n",
       "      <td>женат / замужем</td>\n",
       "      <td>0</td>\n",
       "      <td>F</td>\n",
       "      <td>сотрудник</td>\n",
       "      <td>0</td>\n",
       "      <td>112080.014102</td>\n",
       "      <td>приобретение автомобиля</td>\n",
       "    </tr>\n",
       "    <tr>\n",
       "      <td>2</td>\n",
       "      <td>0</td>\n",
       "      <td>234</td>\n",
       "      <td>33</td>\n",
       "      <td>Среднее</td>\n",
       "      <td>1</td>\n",
       "      <td>женат / замужем</td>\n",
       "      <td>0</td>\n",
       "      <td>M</td>\n",
       "      <td>сотрудник</td>\n",
       "      <td>0</td>\n",
       "      <td>145885.952297</td>\n",
       "      <td>покупка жилья</td>\n",
       "    </tr>\n",
       "    <tr>\n",
       "      <td>3</td>\n",
       "      <td>3</td>\n",
       "      <td>171</td>\n",
       "      <td>32</td>\n",
       "      <td>среднее</td>\n",
       "      <td>1</td>\n",
       "      <td>женат / замужем</td>\n",
       "      <td>0</td>\n",
       "      <td>M</td>\n",
       "      <td>сотрудник</td>\n",
       "      <td>0</td>\n",
       "      <td>267628.550329</td>\n",
       "      <td>дополнительное образование</td>\n",
       "    </tr>\n",
       "    <tr>\n",
       "      <td>4</td>\n",
       "      <td>0</td>\n",
       "      <td>14177</td>\n",
       "      <td>53</td>\n",
       "      <td>среднее</td>\n",
       "      <td>1</td>\n",
       "      <td>гражданский брак</td>\n",
       "      <td>1</td>\n",
       "      <td>F</td>\n",
       "      <td>пенсионер</td>\n",
       "      <td>0</td>\n",
       "      <td>158616.077870</td>\n",
       "      <td>сыграть свадьбу</td>\n",
       "    </tr>\n",
       "    <tr>\n",
       "      <td>5</td>\n",
       "      <td>0</td>\n",
       "      <td>38</td>\n",
       "      <td>27</td>\n",
       "      <td>высшее</td>\n",
       "      <td>0</td>\n",
       "      <td>гражданский брак</td>\n",
       "      <td>1</td>\n",
       "      <td>M</td>\n",
       "      <td>компаньон</td>\n",
       "      <td>0</td>\n",
       "      <td>255763.565419</td>\n",
       "      <td>покупка жилья</td>\n",
       "    </tr>\n",
       "    <tr>\n",
       "      <td>6</td>\n",
       "      <td>0</td>\n",
       "      <td>119</td>\n",
       "      <td>43</td>\n",
       "      <td>высшее</td>\n",
       "      <td>0</td>\n",
       "      <td>женат / замужем</td>\n",
       "      <td>0</td>\n",
       "      <td>F</td>\n",
       "      <td>компаньон</td>\n",
       "      <td>0</td>\n",
       "      <td>240525.971920</td>\n",
       "      <td>операции с жильем</td>\n",
       "    </tr>\n",
       "    <tr>\n",
       "      <td>7</td>\n",
       "      <td>0</td>\n",
       "      <td>6</td>\n",
       "      <td>50</td>\n",
       "      <td>СРЕДНЕЕ</td>\n",
       "      <td>1</td>\n",
       "      <td>женат / замужем</td>\n",
       "      <td>0</td>\n",
       "      <td>M</td>\n",
       "      <td>сотрудник</td>\n",
       "      <td>0</td>\n",
       "      <td>135823.934197</td>\n",
       "      <td>образование</td>\n",
       "    </tr>\n",
       "    <tr>\n",
       "      <td>8</td>\n",
       "      <td>2</td>\n",
       "      <td>288</td>\n",
       "      <td>35</td>\n",
       "      <td>ВЫСШЕЕ</td>\n",
       "      <td>0</td>\n",
       "      <td>гражданский брак</td>\n",
       "      <td>1</td>\n",
       "      <td>F</td>\n",
       "      <td>сотрудник</td>\n",
       "      <td>0</td>\n",
       "      <td>95856.832424</td>\n",
       "      <td>на проведение свадьбы</td>\n",
       "    </tr>\n",
       "    <tr>\n",
       "      <td>9</td>\n",
       "      <td>0</td>\n",
       "      <td>91</td>\n",
       "      <td>41</td>\n",
       "      <td>среднее</td>\n",
       "      <td>1</td>\n",
       "      <td>женат / замужем</td>\n",
       "      <td>0</td>\n",
       "      <td>M</td>\n",
       "      <td>сотрудник</td>\n",
       "      <td>0</td>\n",
       "      <td>144425.938277</td>\n",
       "      <td>покупка жилья для семьи</td>\n",
       "    </tr>\n",
       "  </tbody>\n",
       "</table>\n",
       "</div>"
      ],
      "text/plain": [
       "   children  days_employed  dob_years education  education_id  \\\n",
       "0         1            351         42    высшее             0   \n",
       "1         1            167         36   среднее             1   \n",
       "2         0            234         33   Среднее             1   \n",
       "3         3            171         32   среднее             1   \n",
       "4         0          14177         53   среднее             1   \n",
       "5         0             38         27    высшее             0   \n",
       "6         0            119         43    высшее             0   \n",
       "7         0              6         50   СРЕДНЕЕ             1   \n",
       "8         2            288         35    ВЫСШЕЕ             0   \n",
       "9         0             91         41   среднее             1   \n",
       "\n",
       "      family_status  family_status_id gender income_type  debt   total_income  \\\n",
       "0   женат / замужем                 0      F   сотрудник     0  253875.639453   \n",
       "1   женат / замужем                 0      F   сотрудник     0  112080.014102   \n",
       "2   женат / замужем                 0      M   сотрудник     0  145885.952297   \n",
       "3   женат / замужем                 0      M   сотрудник     0  267628.550329   \n",
       "4  гражданский брак                 1      F   пенсионер     0  158616.077870   \n",
       "5  гражданский брак                 1      M   компаньон     0  255763.565419   \n",
       "6   женат / замужем                 0      F   компаньон     0  240525.971920   \n",
       "7   женат / замужем                 0      M   сотрудник     0  135823.934197   \n",
       "8  гражданский брак                 1      F   сотрудник     0   95856.832424   \n",
       "9   женат / замужем                 0      M   сотрудник     0  144425.938277   \n",
       "\n",
       "                      purpose  \n",
       "0               покупка жилья  \n",
       "1     приобретение автомобиля  \n",
       "2               покупка жилья  \n",
       "3  дополнительное образование  \n",
       "4             сыграть свадьбу  \n",
       "5               покупка жилья  \n",
       "6           операции с жильем  \n",
       "7                 образование  \n",
       "8       на проведение свадьбы  \n",
       "9     покупка жилья для семьи  "
      ]
     },
     "execution_count": 5,
     "metadata": {},
     "output_type": "execute_result"
    }
   ],
   "source": [
    "data['days_employed'] = data['days_employed'].astype(int)\n",
    "\n",
    "data.head(10)"
   ]
  },
  {
   "cell_type": "markdown",
   "metadata": {},
   "source": [
    "Количество дней сдели целочисленным, т.к. отработать можно только рабочий день полностью."
   ]
  },
  {
   "cell_type": "markdown",
   "metadata": {},
   "source": [
    "### Обработка дубликатов"
   ]
  },
  {
   "cell_type": "code",
   "execution_count": 6,
   "metadata": {},
   "outputs": [
    {
     "name": "stdout",
     "output_type": "stream",
     "text": [
      "<class 'pandas.core.frame.DataFrame'>\n",
      "RangeIndex: 21454 entries, 0 to 21453\n",
      "Data columns (total 12 columns):\n",
      "children            21454 non-null int64\n",
      "days_employed       21454 non-null int64\n",
      "dob_years           21454 non-null int64\n",
      "education           21454 non-null object\n",
      "education_id        21454 non-null int64\n",
      "family_status       21454 non-null object\n",
      "family_status_id    21454 non-null int64\n",
      "gender              21454 non-null object\n",
      "income_type         21454 non-null object\n",
      "debt                21454 non-null int64\n",
      "total_income        21454 non-null float64\n",
      "purpose             21454 non-null object\n",
      "dtypes: float64(1), int64(6), object(5)\n",
      "memory usage: 2.0+ MB\n"
     ]
    }
   ],
   "source": [
    "data['education'] = data['education'].str.lower()\n",
    "data['family_status'] = data['family_status'].str.lower()\n",
    "\n",
    "data = data.drop_duplicates().reset_index(drop=True)\n",
    "\n",
    "data.info()"
   ]
  },
  {
   "cell_type": "markdown",
   "metadata": {},
   "source": [
    "После удаления явных дубликатов осталось 21 454 значение."
   ]
  },
  {
   "cell_type": "markdown",
   "metadata": {},
   "source": [
    "### Лемматизация"
   ]
  },
  {
   "cell_type": "code",
   "execution_count": 7,
   "metadata": {},
   "outputs": [
    {
     "data": {
      "text/html": [
       "<div>\n",
       "<style scoped>\n",
       "    .dataframe tbody tr th:only-of-type {\n",
       "        vertical-align: middle;\n",
       "    }\n",
       "\n",
       "    .dataframe tbody tr th {\n",
       "        vertical-align: top;\n",
       "    }\n",
       "\n",
       "    .dataframe thead th {\n",
       "        text-align: right;\n",
       "    }\n",
       "</style>\n",
       "<table border=\"1\" class=\"dataframe\">\n",
       "  <thead>\n",
       "    <tr style=\"text-align: right;\">\n",
       "      <th></th>\n",
       "      <th>children</th>\n",
       "      <th>days_employed</th>\n",
       "      <th>dob_years</th>\n",
       "      <th>education</th>\n",
       "      <th>education_id</th>\n",
       "      <th>family_status</th>\n",
       "      <th>family_status_id</th>\n",
       "      <th>gender</th>\n",
       "      <th>income_type</th>\n",
       "      <th>debt</th>\n",
       "      <th>total_income</th>\n",
       "      <th>purpose</th>\n",
       "      <th>purpose_category</th>\n",
       "    </tr>\n",
       "  </thead>\n",
       "  <tbody>\n",
       "    <tr>\n",
       "      <td>0</td>\n",
       "      <td>1</td>\n",
       "      <td>351</td>\n",
       "      <td>42</td>\n",
       "      <td>высшее</td>\n",
       "      <td>0</td>\n",
       "      <td>женат / замужем</td>\n",
       "      <td>0</td>\n",
       "      <td>F</td>\n",
       "      <td>сотрудник</td>\n",
       "      <td>0</td>\n",
       "      <td>253875.639453</td>\n",
       "      <td>покупка жилья</td>\n",
       "      <td>нежвижимость</td>\n",
       "    </tr>\n",
       "    <tr>\n",
       "      <td>1</td>\n",
       "      <td>1</td>\n",
       "      <td>167</td>\n",
       "      <td>36</td>\n",
       "      <td>среднее</td>\n",
       "      <td>1</td>\n",
       "      <td>женат / замужем</td>\n",
       "      <td>0</td>\n",
       "      <td>F</td>\n",
       "      <td>сотрудник</td>\n",
       "      <td>0</td>\n",
       "      <td>112080.014102</td>\n",
       "      <td>приобретение автомобиля</td>\n",
       "      <td>автомобиль</td>\n",
       "    </tr>\n",
       "    <tr>\n",
       "      <td>2</td>\n",
       "      <td>0</td>\n",
       "      <td>234</td>\n",
       "      <td>33</td>\n",
       "      <td>среднее</td>\n",
       "      <td>1</td>\n",
       "      <td>женат / замужем</td>\n",
       "      <td>0</td>\n",
       "      <td>M</td>\n",
       "      <td>сотрудник</td>\n",
       "      <td>0</td>\n",
       "      <td>145885.952297</td>\n",
       "      <td>покупка жилья</td>\n",
       "      <td>нежвижимость</td>\n",
       "    </tr>\n",
       "    <tr>\n",
       "      <td>3</td>\n",
       "      <td>3</td>\n",
       "      <td>171</td>\n",
       "      <td>32</td>\n",
       "      <td>среднее</td>\n",
       "      <td>1</td>\n",
       "      <td>женат / замужем</td>\n",
       "      <td>0</td>\n",
       "      <td>M</td>\n",
       "      <td>сотрудник</td>\n",
       "      <td>0</td>\n",
       "      <td>267628.550329</td>\n",
       "      <td>дополнительное образование</td>\n",
       "      <td>нежвижимость</td>\n",
       "    </tr>\n",
       "    <tr>\n",
       "      <td>4</td>\n",
       "      <td>0</td>\n",
       "      <td>14177</td>\n",
       "      <td>53</td>\n",
       "      <td>среднее</td>\n",
       "      <td>1</td>\n",
       "      <td>гражданский брак</td>\n",
       "      <td>1</td>\n",
       "      <td>F</td>\n",
       "      <td>пенсионер</td>\n",
       "      <td>0</td>\n",
       "      <td>158616.077870</td>\n",
       "      <td>сыграть свадьбу</td>\n",
       "      <td>свадьба</td>\n",
       "    </tr>\n",
       "    <tr>\n",
       "      <td>5</td>\n",
       "      <td>0</td>\n",
       "      <td>38</td>\n",
       "      <td>27</td>\n",
       "      <td>высшее</td>\n",
       "      <td>0</td>\n",
       "      <td>гражданский брак</td>\n",
       "      <td>1</td>\n",
       "      <td>M</td>\n",
       "      <td>компаньон</td>\n",
       "      <td>0</td>\n",
       "      <td>255763.565419</td>\n",
       "      <td>покупка жилья</td>\n",
       "      <td>нежвижимость</td>\n",
       "    </tr>\n",
       "    <tr>\n",
       "      <td>6</td>\n",
       "      <td>0</td>\n",
       "      <td>119</td>\n",
       "      <td>43</td>\n",
       "      <td>высшее</td>\n",
       "      <td>0</td>\n",
       "      <td>женат / замужем</td>\n",
       "      <td>0</td>\n",
       "      <td>F</td>\n",
       "      <td>компаньон</td>\n",
       "      <td>0</td>\n",
       "      <td>240525.971920</td>\n",
       "      <td>операции с жильем</td>\n",
       "      <td>нежвижимость</td>\n",
       "    </tr>\n",
       "    <tr>\n",
       "      <td>7</td>\n",
       "      <td>0</td>\n",
       "      <td>6</td>\n",
       "      <td>50</td>\n",
       "      <td>среднее</td>\n",
       "      <td>1</td>\n",
       "      <td>женат / замужем</td>\n",
       "      <td>0</td>\n",
       "      <td>M</td>\n",
       "      <td>сотрудник</td>\n",
       "      <td>0</td>\n",
       "      <td>135823.934197</td>\n",
       "      <td>образование</td>\n",
       "      <td>нежвижимость</td>\n",
       "    </tr>\n",
       "    <tr>\n",
       "      <td>8</td>\n",
       "      <td>2</td>\n",
       "      <td>288</td>\n",
       "      <td>35</td>\n",
       "      <td>высшее</td>\n",
       "      <td>0</td>\n",
       "      <td>гражданский брак</td>\n",
       "      <td>1</td>\n",
       "      <td>F</td>\n",
       "      <td>сотрудник</td>\n",
       "      <td>0</td>\n",
       "      <td>95856.832424</td>\n",
       "      <td>на проведение свадьбы</td>\n",
       "      <td>свадьба</td>\n",
       "    </tr>\n",
       "    <tr>\n",
       "      <td>9</td>\n",
       "      <td>0</td>\n",
       "      <td>91</td>\n",
       "      <td>41</td>\n",
       "      <td>среднее</td>\n",
       "      <td>1</td>\n",
       "      <td>женат / замужем</td>\n",
       "      <td>0</td>\n",
       "      <td>M</td>\n",
       "      <td>сотрудник</td>\n",
       "      <td>0</td>\n",
       "      <td>144425.938277</td>\n",
       "      <td>покупка жилья для семьи</td>\n",
       "      <td>нежвижимость</td>\n",
       "    </tr>\n",
       "  </tbody>\n",
       "</table>\n",
       "</div>"
      ],
      "text/plain": [
       "   children  days_employed  dob_years education  education_id  \\\n",
       "0         1            351         42    высшее             0   \n",
       "1         1            167         36   среднее             1   \n",
       "2         0            234         33   среднее             1   \n",
       "3         3            171         32   среднее             1   \n",
       "4         0          14177         53   среднее             1   \n",
       "5         0             38         27    высшее             0   \n",
       "6         0            119         43    высшее             0   \n",
       "7         0              6         50   среднее             1   \n",
       "8         2            288         35    высшее             0   \n",
       "9         0             91         41   среднее             1   \n",
       "\n",
       "      family_status  family_status_id gender income_type  debt   total_income  \\\n",
       "0   женат / замужем                 0      F   сотрудник     0  253875.639453   \n",
       "1   женат / замужем                 0      F   сотрудник     0  112080.014102   \n",
       "2   женат / замужем                 0      M   сотрудник     0  145885.952297   \n",
       "3   женат / замужем                 0      M   сотрудник     0  267628.550329   \n",
       "4  гражданский брак                 1      F   пенсионер     0  158616.077870   \n",
       "5  гражданский брак                 1      M   компаньон     0  255763.565419   \n",
       "6   женат / замужем                 0      F   компаньон     0  240525.971920   \n",
       "7   женат / замужем                 0      M   сотрудник     0  135823.934197   \n",
       "8  гражданский брак                 1      F   сотрудник     0   95856.832424   \n",
       "9   женат / замужем                 0      M   сотрудник     0  144425.938277   \n",
       "\n",
       "                      purpose purpose_category  \n",
       "0               покупка жилья     нежвижимость  \n",
       "1     приобретение автомобиля       автомобиль  \n",
       "2               покупка жилья     нежвижимость  \n",
       "3  дополнительное образование     нежвижимость  \n",
       "4             сыграть свадьбу          свадьба  \n",
       "5               покупка жилья     нежвижимость  \n",
       "6           операции с жильем     нежвижимость  \n",
       "7                 образование     нежвижимость  \n",
       "8       на проведение свадьбы          свадьба  \n",
       "9     покупка жилья для семьи     нежвижимость  "
      ]
     },
     "execution_count": 7,
     "metadata": {},
     "output_type": "execute_result"
    }
   ],
   "source": [
    "def lemmatize(purpose):\n",
    "    lemma = m.lemmatize(purpose)\n",
    "    if 'автомобиль' in lemma:\n",
    "        return 'автомобиль'\n",
    "    elif 'свадьба' in lemma:\n",
    "        return 'свадьба'\n",
    "    elif ('недвижимость') or ('жилье') in lemma:\n",
    "        return 'нежвижимость'\n",
    "    elif 'образование' in lemma:\n",
    "        return 'образование'\n",
    "    else:\n",
    "        return 'другое'\n",
    "        \n",
    "data['purpose_category'] = data['purpose'].apply(lemmatize)\n",
    "\n",
    "data.head(10)"
   ]
  },
  {
   "cell_type": "markdown",
   "metadata": {},
   "source": [
    "Результатом леммитизации стало понимание, что целей кредитования в реальной жизни не так много как могло показаться и можно выделить 3 крупные категории."
   ]
  },
  {
   "cell_type": "markdown",
   "metadata": {},
   "source": [
    "### Категоризация данных"
   ]
  },
  {
   "cell_type": "markdown",
   "metadata": {},
   "source": [
    "Результатом леммитизации стало выделение трёх категорий по целям кредита. Можно оценить объём каждой из категориию"
   ]
  },
  {
   "cell_type": "code",
   "execution_count": 8,
   "metadata": {},
   "outputs": [
    {
     "data": {
      "text/plain": [
       "нежвижимость    14824\n",
       "автомобиль       4306\n",
       "свадьба          2324\n",
       "Name: purpose_category, dtype: int64"
      ]
     },
     "metadata": {},
     "output_type": "display_data"
    },
    {
     "name": "stdout",
     "output_type": "stream",
     "text": [
      "Минимальный ежемесячный доход 20667.26379327158\n",
      "Медиана ежемесячного дохода 165226.14396668624\n",
      "Максимальный ежемесячный доход 2265604.028722744\n"
     ]
    },
    {
     "data": {
      "text/plain": [
       "средний класс          12649\n",
       "доход выше среднего     7707\n",
       "доход ниже среднего     1098\n",
       "Name: income_category, dtype: int64"
      ]
     },
     "metadata": {},
     "output_type": "display_data"
    },
    {
     "data": {
      "text/html": [
       "<div>\n",
       "<style scoped>\n",
       "    .dataframe tbody tr th:only-of-type {\n",
       "        vertical-align: middle;\n",
       "    }\n",
       "\n",
       "    .dataframe tbody tr th {\n",
       "        vertical-align: top;\n",
       "    }\n",
       "\n",
       "    .dataframe thead th {\n",
       "        text-align: right;\n",
       "    }\n",
       "</style>\n",
       "<table border=\"1\" class=\"dataframe\">\n",
       "  <thead>\n",
       "    <tr style=\"text-align: right;\">\n",
       "      <th></th>\n",
       "      <th>education</th>\n",
       "      <th>education_id</th>\n",
       "    </tr>\n",
       "  </thead>\n",
       "  <tbody>\n",
       "    <tr>\n",
       "      <td>0</td>\n",
       "      <td>высшее</td>\n",
       "      <td>0</td>\n",
       "    </tr>\n",
       "    <tr>\n",
       "      <td>1</td>\n",
       "      <td>среднее</td>\n",
       "      <td>1</td>\n",
       "    </tr>\n",
       "    <tr>\n",
       "      <td>2</td>\n",
       "      <td>неоконченное высшее</td>\n",
       "      <td>2</td>\n",
       "    </tr>\n",
       "    <tr>\n",
       "      <td>3</td>\n",
       "      <td>начальное</td>\n",
       "      <td>3</td>\n",
       "    </tr>\n",
       "    <tr>\n",
       "      <td>4</td>\n",
       "      <td>ученая степень</td>\n",
       "      <td>4</td>\n",
       "    </tr>\n",
       "  </tbody>\n",
       "</table>\n",
       "</div>"
      ],
      "text/plain": [
       "             education  education_id\n",
       "0               высшее             0\n",
       "1              среднее             1\n",
       "2  неоконченное высшее             2\n",
       "3            начальное             3\n",
       "4       ученая степень             4"
      ]
     },
     "metadata": {},
     "output_type": "display_data"
    },
    {
     "data": {
      "text/html": [
       "<div>\n",
       "<style scoped>\n",
       "    .dataframe tbody tr th:only-of-type {\n",
       "        vertical-align: middle;\n",
       "    }\n",
       "\n",
       "    .dataframe tbody tr th {\n",
       "        vertical-align: top;\n",
       "    }\n",
       "\n",
       "    .dataframe thead th {\n",
       "        text-align: right;\n",
       "    }\n",
       "</style>\n",
       "<table border=\"1\" class=\"dataframe\">\n",
       "  <thead>\n",
       "    <tr style=\"text-align: right;\">\n",
       "      <th></th>\n",
       "      <th>family_status</th>\n",
       "      <th>family_status_id</th>\n",
       "    </tr>\n",
       "  </thead>\n",
       "  <tbody>\n",
       "    <tr>\n",
       "      <td>0</td>\n",
       "      <td>женат / замужем</td>\n",
       "      <td>0</td>\n",
       "    </tr>\n",
       "    <tr>\n",
       "      <td>1</td>\n",
       "      <td>гражданский брак</td>\n",
       "      <td>1</td>\n",
       "    </tr>\n",
       "    <tr>\n",
       "      <td>2</td>\n",
       "      <td>вдовец / вдова</td>\n",
       "      <td>2</td>\n",
       "    </tr>\n",
       "    <tr>\n",
       "      <td>3</td>\n",
       "      <td>в разводе</td>\n",
       "      <td>3</td>\n",
       "    </tr>\n",
       "    <tr>\n",
       "      <td>4</td>\n",
       "      <td>не женат / не замужем</td>\n",
       "      <td>4</td>\n",
       "    </tr>\n",
       "  </tbody>\n",
       "</table>\n",
       "</div>"
      ],
      "text/plain": [
       "           family_status  family_status_id\n",
       "0        женат / замужем                 0\n",
       "1       гражданский брак                 1\n",
       "2         вдовец / вдова                 2\n",
       "3              в разводе                 3\n",
       "4  не женат / не замужем                 4"
      ]
     },
     "metadata": {},
     "output_type": "display_data"
    }
   ],
   "source": [
    "display(data['purpose_category'].value_counts())\n",
    "\n",
    "print(data['total_income'].describe())\n",
    "\n",
    "def income_category(income):\n",
    "    if income <= 65000:\n",
    "        return 'доход ниже среднего'\n",
    "    elif 65000 < income <= 165000:\n",
    "        return 'средний класс'\n",
    "    else:\n",
    "        return 'доход выше среднего'\n",
    "\n",
    "data['income_category'] = data['total_income'].apply(income_category)\n",
    "display(data['income_category'].value_counts()) \n",
    "\n",
    "glossary_education_id = data[['education', 'education_id']]\n",
    "glossary_education_id = glossary_education_id.drop_duplicates().reset_index(drop=True)\n",
    "display(glossary_education_id)\n",
    "\n",
    "glossary_family_status_id = data[['family_status', 'family_status_id']]\n",
    "glossary_family_status_id = glossary_family_status_id.drop_duplicates().reset_index(drop=True)\n",
    "display(glossary_family_status_id)"
   ]
  },
  {
   "cell_type": "markdown",
   "metadata": {},
   "source": [
    "Исходя из категорий по целям кредита чаще всего клиенты банка берут кредиты на недвижимость (как личную, так и коммерческую).\n",
    "У большей части клиентов кредитного отдела банка ежемесячный доход от 65 до 165 тысяч рублей.\n",
    "Созданы 2 словаря для распознования id семейных статусов и уровней образования."
   ]
  },
  {
   "cell_type": "markdown",
   "metadata": {},
   "source": [
    "## Ответы на вопросы заказчика "
   ]
  },
  {
   "cell_type": "markdown",
   "metadata": {},
   "source": [
    "- Есть ли зависимость между наличием детей и возвратом кредита в срок?"
   ]
  },
  {
   "cell_type": "code",
   "execution_count": 9,
   "metadata": {},
   "outputs": [
    {
     "data": {
      "text/plain": [
       "children_category\n",
       "1-2 ребёнка          0.092654\n",
       "многодетная семья    0.081579\n",
       "нет детей            0.075438\n",
       "Name: debt, dtype: float64"
      ]
     },
     "execution_count": 9,
     "metadata": {},
     "output_type": "execute_result"
    }
   ],
   "source": [
    "data.groupby('children')['debt'].mean()\n",
    "\n",
    "data.loc[(data['children']==(-1)), 'children'] = 1\n",
    "data.loc[(data['children']==(20)), 'children'] = 2\n",
    "\n",
    "def children_category(children):\n",
    "    if children == 0:\n",
    "        return 'нет детей'\n",
    "    elif 1 <= children <= 2:\n",
    "        return '1-2 ребёнка'\n",
    "    else:\n",
    "        return 'многодетная семья'\n",
    "\n",
    "data['children_category'] = data['children'].apply(children_category)\n",
    "data.groupby('children_category')['debt'].mean()"
   ]
  },
  {
   "cell_type": "markdown",
   "metadata": {},
   "source": [
    "**Вывод**"
   ]
  },
  {
   "cell_type": "markdown",
   "metadata": {},
   "source": [
    "При рассмотрении категоризации по количеству детей заёмщиков наибольшая доля должников с задержками по выплатам в категории \"1-2 ребёнка\"; наименьшая доля должников с задержками по выплатам в категории тех, у кого нет детей.</div>"
   ]
  },
  {
   "cell_type": "markdown",
   "metadata": {},
   "source": [
    "- Есть ли зависимость между семейным положением и возвратом кредита в срок?"
   ]
  },
  {
   "cell_type": "code",
   "execution_count": 10,
   "metadata": {},
   "outputs": [
    {
     "data": {
      "text/html": [
       "<div>\n",
       "<style scoped>\n",
       "    .dataframe tbody tr th:only-of-type {\n",
       "        vertical-align: middle;\n",
       "    }\n",
       "\n",
       "    .dataframe tbody tr th {\n",
       "        vertical-align: top;\n",
       "    }\n",
       "\n",
       "    .dataframe thead th {\n",
       "        text-align: right;\n",
       "    }\n",
       "</style>\n",
       "<table border=\"1\" class=\"dataframe\">\n",
       "  <thead>\n",
       "    <tr style=\"text-align: right;\">\n",
       "      <th></th>\n",
       "      <th></th>\n",
       "      <th>debt</th>\n",
       "    </tr>\n",
       "    <tr>\n",
       "      <th>family_status_id</th>\n",
       "      <th>family_status</th>\n",
       "      <th></th>\n",
       "    </tr>\n",
       "  </thead>\n",
       "  <tbody>\n",
       "    <tr>\n",
       "      <td>0</td>\n",
       "      <td>женат / замужем</td>\n",
       "      <td>0.075452</td>\n",
       "    </tr>\n",
       "    <tr>\n",
       "      <td>1</td>\n",
       "      <td>гражданский брак</td>\n",
       "      <td>0.093471</td>\n",
       "    </tr>\n",
       "    <tr>\n",
       "      <td>2</td>\n",
       "      <td>вдовец / вдова</td>\n",
       "      <td>0.065693</td>\n",
       "    </tr>\n",
       "    <tr>\n",
       "      <td>3</td>\n",
       "      <td>в разводе</td>\n",
       "      <td>0.071130</td>\n",
       "    </tr>\n",
       "    <tr>\n",
       "      <td>4</td>\n",
       "      <td>не женат / не замужем</td>\n",
       "      <td>0.097509</td>\n",
       "    </tr>\n",
       "  </tbody>\n",
       "</table>\n",
       "</div>"
      ],
      "text/plain": [
       "                                            debt\n",
       "family_status_id family_status                  \n",
       "0                женат / замужем        0.075452\n",
       "1                гражданский брак       0.093471\n",
       "2                вдовец / вдова         0.065693\n",
       "3                в разводе              0.071130\n",
       "4                не женат / не замужем  0.097509"
      ]
     },
     "execution_count": 10,
     "metadata": {},
     "output_type": "execute_result"
    }
   ],
   "source": [
    "data.groupby('family_status_id')['debt'].mean()\n",
    "\n",
    "data.pivot_table(index=['family_status_id', 'family_status'], values='debt')"
   ]
  },
  {
   "cell_type": "markdown",
   "metadata": {},
   "source": [
    "**Вывод**"
   ]
  },
  {
   "cell_type": "markdown",
   "metadata": {},
   "source": [
    " При рассмотрении информации о влиянии семейного статуса на наличие задержек по выплатам наибольшая доля должников с задержками по выплатам у тех, кто не женат/не замужем; наименьшая доля должников с задержками по выплатам у вдов/вдовцов.</div>"
   ]
  },
  {
   "cell_type": "markdown",
   "metadata": {},
   "source": [
    "- Есть ли зависимость между уровнем дохода и возвратом кредита в срок?"
   ]
  },
  {
   "cell_type": "code",
   "execution_count": 11,
   "metadata": {},
   "outputs": [
    {
     "data": {
      "text/plain": [
       "income_category\n",
       "доход выше среднего    0.077851\n",
       "доход ниже среднего    0.066485\n",
       "средний класс          0.084434\n",
       "Name: debt, dtype: float64"
      ]
     },
     "metadata": {},
     "output_type": "display_data"
    }
   ],
   "source": [
    "display(data.groupby('income_category')['debt'].mean())"
   ]
  },
  {
   "cell_type": "markdown",
   "metadata": {},
   "source": [
    "**Вывод**"
   ]
  },
  {
   "cell_type": "markdown",
   "metadata": {},
   "source": [
    " При рассмотрении информации о влиянии дохода на наличие задержек по выплатам наибольшая доля должников с задержками по выплатам у тех, кто относится к среднему классу (от 65 до 165 тысяч рублей); наименьшая доля должников с задержками в категории \"доход ниже среднего\" (меньше 65 тысяч рублей).</div>"
   ]
  },
  {
   "cell_type": "markdown",
   "metadata": {},
   "source": [
    "- Как разные цели кредита влияют на его возврат в срок?"
   ]
  },
  {
   "cell_type": "code",
   "execution_count": 12,
   "metadata": {},
   "outputs": [
    {
     "data": {
      "text/plain": [
       "purpose_category\n",
       "автомобиль      0.093590\n",
       "нежвижимость    0.077712\n",
       "свадьба         0.080034\n",
       "Name: debt, dtype: float64"
      ]
     },
     "metadata": {},
     "output_type": "display_data"
    }
   ],
   "source": [
    "display(data.groupby('purpose_category')['debt'].mean())"
   ]
  },
  {
   "cell_type": "markdown",
   "metadata": {},
   "source": [
    "**Вывод**"
   ]
  },
  {
   "cell_type": "markdown",
   "metadata": {},
   "source": [
    "При рассмотрении информации о влиянии целей кредита на наличие задержек по выплатам наибольшая доля должников с задержками по выплатам у тех, чья цель кредита - автомобиль; наименьшая доля должников с задержками в категории \"недвижимость\".</div>"
   ]
  },
  {
   "cell_type": "markdown",
   "metadata": {},
   "source": [
    "## Общий вывод"
   ]
  },
  {
   "cell_type": "markdown",
   "metadata": {},
   "source": [
    "Портрет хорошего заёмщика: вдовец/вдова без детей с ежемесячным доходом меньше 65 тысяч рублей,берущий кредит на недвижимость (прям грустно).   \n",
    "Портрет плохого заёмщика: жентатый/замужний человек с 1-2 детьми с ежемесячным доходом между 65 и 165 тысячами рублей,берущий кредит на автомобиль (это нужно сказать голосом Якубовича)."
   ]
  },
  {
   "cell_type": "code",
   "execution_count": null,
   "metadata": {},
   "outputs": [],
   "source": []
  }
 ],
 "metadata": {
  "ExecuteTimeLog": [
   {
    "duration": 619,
    "start_time": "2021-12-21T09:22:59.515Z"
   },
   {
    "duration": 45,
    "start_time": "2021-12-21T09:48:04.237Z"
   },
   {
    "duration": 10,
    "start_time": "2021-12-21T09:48:15.015Z"
   },
   {
    "duration": 6,
    "start_time": "2021-12-21T09:48:32.322Z"
   },
   {
    "duration": 24,
    "start_time": "2021-12-21T09:49:20.907Z"
   },
   {
    "duration": 22,
    "start_time": "2021-12-21T09:49:57.000Z"
   },
   {
    "duration": 22,
    "start_time": "2021-12-21T09:50:32.398Z"
   },
   {
    "duration": 5,
    "start_time": "2021-12-21T13:49:33.130Z"
   },
   {
    "duration": 8,
    "start_time": "2021-12-21T13:49:52.871Z"
   },
   {
    "duration": 8,
    "start_time": "2021-12-21T13:50:46.415Z"
   },
   {
    "duration": 9,
    "start_time": "2021-12-21T13:51:08.599Z"
   },
   {
    "duration": 8,
    "start_time": "2021-12-21T13:54:13.286Z"
   },
   {
    "duration": 17,
    "start_time": "2021-12-21T13:57:40.490Z"
   },
   {
    "duration": 3,
    "start_time": "2021-12-21T13:57:59.216Z"
   },
   {
    "duration": 4,
    "start_time": "2021-12-21T13:58:03.337Z"
   },
   {
    "duration": 5,
    "start_time": "2021-12-21T13:58:14.737Z"
   },
   {
    "duration": 7,
    "start_time": "2021-12-21T14:02:41.718Z"
   },
   {
    "duration": 14,
    "start_time": "2021-12-21T14:03:00.129Z"
   },
   {
    "duration": 60,
    "start_time": "2021-12-21T14:05:55.461Z"
   },
   {
    "duration": 57,
    "start_time": "2021-12-21T14:08:06.246Z"
   },
   {
    "duration": 13,
    "start_time": "2021-12-21T14:08:11.264Z"
   },
   {
    "duration": 5,
    "start_time": "2021-12-21T14:08:21.349Z"
   },
   {
    "duration": 4,
    "start_time": "2021-12-21T14:08:23.906Z"
   },
   {
    "duration": 12,
    "start_time": "2021-12-21T14:08:26.792Z"
   },
   {
    "duration": 3,
    "start_time": "2021-12-21T14:21:59.810Z"
   },
   {
    "duration": 3,
    "start_time": "2021-12-21T14:22:02.709Z"
   },
   {
    "duration": 134,
    "start_time": "2021-12-21T14:22:31.053Z"
   },
   {
    "duration": 11,
    "start_time": "2021-12-21T14:22:36.296Z"
   },
   {
    "duration": 12,
    "start_time": "2021-12-21T14:23:53.635Z"
   },
   {
    "duration": 132,
    "start_time": "2021-12-21T14:53:21.588Z"
   },
   {
    "duration": 136,
    "start_time": "2021-12-21T14:54:42.648Z"
   },
   {
    "duration": 125,
    "start_time": "2021-12-21T14:56:21.256Z"
   },
   {
    "duration": 148,
    "start_time": "2021-12-21T14:56:37.712Z"
   },
   {
    "duration": 16,
    "start_time": "2021-12-21T14:56:53.129Z"
   },
   {
    "duration": 15,
    "start_time": "2021-12-21T14:57:05.893Z"
   },
   {
    "duration": 15,
    "start_time": "2021-12-21T14:59:14.823Z"
   },
   {
    "duration": 21,
    "start_time": "2021-12-21T14:59:27.663Z"
   },
   {
    "duration": 131,
    "start_time": "2021-12-21T15:00:09.504Z"
   },
   {
    "duration": 132,
    "start_time": "2021-12-21T15:00:14.554Z"
   },
   {
    "duration": 119,
    "start_time": "2021-12-21T15:00:22.023Z"
   },
   {
    "duration": 137,
    "start_time": "2021-12-21T15:00:29.446Z"
   },
   {
    "duration": 151,
    "start_time": "2021-12-21T15:02:40.480Z"
   },
   {
    "duration": 138,
    "start_time": "2021-12-21T15:02:46.967Z"
   },
   {
    "duration": 11,
    "start_time": "2021-12-21T15:04:39.014Z"
   },
   {
    "duration": 14,
    "start_time": "2021-12-21T15:05:11.753Z"
   },
   {
    "duration": 81,
    "start_time": "2021-12-23T14:47:09.916Z"
   },
   {
    "duration": 5,
    "start_time": "2021-12-23T14:47:14.275Z"
   },
   {
    "duration": 4,
    "start_time": "2021-12-23T14:47:16.055Z"
   },
   {
    "duration": 22,
    "start_time": "2021-12-23T14:47:17.910Z"
   },
   {
    "duration": 14,
    "start_time": "2021-12-23T14:47:20.978Z"
   },
   {
    "duration": 31,
    "start_time": "2021-12-23T14:47:51.147Z"
   },
   {
    "duration": 27,
    "start_time": "2021-12-23T14:48:10.126Z"
   },
   {
    "duration": 31,
    "start_time": "2021-12-23T14:48:22.564Z"
   },
   {
    "duration": 23,
    "start_time": "2021-12-23T14:48:38.812Z"
   },
   {
    "duration": 3970,
    "start_time": "2021-12-23T14:52:08.187Z"
   },
   {
    "duration": 1676,
    "start_time": "2021-12-23T14:52:39.493Z"
   },
   {
    "duration": 2725,
    "start_time": "2021-12-23T14:53:51.848Z"
   },
   {
    "duration": 2863,
    "start_time": "2021-12-23T14:54:18.067Z"
   },
   {
    "duration": 2588,
    "start_time": "2021-12-23T14:55:02.031Z"
   },
   {
    "duration": 141,
    "start_time": "2021-12-23T15:01:56.891Z"
   },
   {
    "duration": 4,
    "start_time": "2021-12-23T15:03:06.699Z"
   },
   {
    "duration": 4,
    "start_time": "2021-12-23T15:03:54.259Z"
   },
   {
    "duration": 3413,
    "start_time": "2021-12-23T15:05:04.019Z"
   },
   {
    "duration": 3185,
    "start_time": "2021-12-23T15:05:15.307Z"
   },
   {
    "duration": 2864,
    "start_time": "2021-12-23T15:06:03.380Z"
   },
   {
    "duration": 2818,
    "start_time": "2021-12-23T15:06:42.165Z"
   },
   {
    "duration": 2547,
    "start_time": "2021-12-23T15:07:01.677Z"
   },
   {
    "duration": 42,
    "start_time": "2021-12-23T15:08:51.245Z"
   },
   {
    "duration": 4,
    "start_time": "2021-12-23T15:08:55.901Z"
   },
   {
    "duration": 47,
    "start_time": "2021-12-23T15:10:48.288Z"
   },
   {
    "duration": 3,
    "start_time": "2021-12-23T15:11:18.335Z"
   },
   {
    "duration": 138,
    "start_time": "2021-12-23T15:12:15.503Z"
   },
   {
    "duration": 47,
    "start_time": "2021-12-23T15:13:17.103Z"
   },
   {
    "duration": 56,
    "start_time": "2021-12-23T15:13:28.297Z"
   },
   {
    "duration": 42,
    "start_time": "2021-12-23T15:13:40.727Z"
   },
   {
    "duration": 50,
    "start_time": "2021-12-23T15:13:46.305Z"
   },
   {
    "duration": 38,
    "start_time": "2021-12-23T15:13:57.455Z"
   },
   {
    "duration": 48,
    "start_time": "2021-12-23T15:14:09.911Z"
   },
   {
    "duration": 52,
    "start_time": "2021-12-23T15:14:20.767Z"
   },
   {
    "duration": 48,
    "start_time": "2021-12-23T15:15:00.528Z"
   },
   {
    "duration": 50,
    "start_time": "2021-12-23T15:15:08.872Z"
   },
   {
    "duration": 48,
    "start_time": "2021-12-23T15:15:15.224Z"
   },
   {
    "duration": 50,
    "start_time": "2021-12-23T15:19:33.081Z"
   },
   {
    "duration": 76,
    "start_time": "2021-12-23T15:19:44.257Z"
   },
   {
    "duration": 43,
    "start_time": "2021-12-23T15:19:50.073Z"
   },
   {
    "duration": 3,
    "start_time": "2021-12-23T15:19:55.890Z"
   },
   {
    "duration": 137,
    "start_time": "2021-12-23T15:25:58.967Z"
   },
   {
    "duration": 46,
    "start_time": "2021-12-23T15:26:23.084Z"
   },
   {
    "duration": 10138,
    "start_time": "2021-12-23T15:26:29.364Z"
   },
   {
    "duration": 129,
    "start_time": "2021-12-23T15:28:13.748Z"
   },
   {
    "duration": 42,
    "start_time": "2021-12-23T15:28:22.541Z"
   },
   {
    "duration": 117,
    "start_time": "2021-12-23T15:28:26.901Z"
   },
   {
    "duration": 134,
    "start_time": "2021-12-23T15:29:49.622Z"
   },
   {
    "duration": 10570,
    "start_time": "2021-12-23T15:30:59.358Z"
   },
   {
    "duration": 10453,
    "start_time": "2021-12-23T15:35:22.658Z"
   },
   {
    "duration": 10047,
    "start_time": "2021-12-23T15:40:34.330Z"
   },
   {
    "duration": 53,
    "start_time": "2021-12-23T15:41:55.171Z"
   },
   {
    "duration": 9970,
    "start_time": "2021-12-23T15:42:05.603Z"
   },
   {
    "duration": 10670,
    "start_time": "2021-12-23T15:43:06.950Z"
   },
   {
    "duration": 10315,
    "start_time": "2021-12-23T15:43:25.963Z"
   },
   {
    "duration": 10233,
    "start_time": "2021-12-23T15:43:47.701Z"
   },
   {
    "duration": 9941,
    "start_time": "2021-12-23T15:45:25.421Z"
   },
   {
    "duration": 10052,
    "start_time": "2021-12-23T15:45:43.853Z"
   },
   {
    "duration": 10107,
    "start_time": "2021-12-23T15:46:31.021Z"
   },
   {
    "duration": 9965,
    "start_time": "2021-12-23T15:49:07.142Z"
   },
   {
    "duration": 10283,
    "start_time": "2021-12-23T15:50:28.175Z"
   },
   {
    "duration": 10166,
    "start_time": "2021-12-23T15:50:52.143Z"
   },
   {
    "duration": 46,
    "start_time": "2021-12-23T15:52:32.759Z"
   },
   {
    "duration": 9894,
    "start_time": "2021-12-23T15:52:36.335Z"
   },
   {
    "duration": 128,
    "start_time": "2021-12-23T15:54:22.262Z"
   },
   {
    "duration": 10089,
    "start_time": "2021-12-23T15:54:57.032Z"
   },
   {
    "duration": 9927,
    "start_time": "2021-12-23T15:55:44.065Z"
   },
   {
    "duration": 10077,
    "start_time": "2021-12-23T15:57:29.138Z"
   },
   {
    "duration": 10108,
    "start_time": "2021-12-23T15:58:06.274Z"
   },
   {
    "duration": 10643,
    "start_time": "2021-12-23T16:00:13.692Z"
   },
   {
    "duration": 128,
    "start_time": "2021-12-23T16:07:56.558Z"
   },
   {
    "duration": 130,
    "start_time": "2021-12-23T16:08:08.662Z"
   },
   {
    "duration": 125,
    "start_time": "2021-12-23T16:08:41.374Z"
   },
   {
    "duration": 126,
    "start_time": "2021-12-23T16:09:37.216Z"
   },
   {
    "duration": 148,
    "start_time": "2021-12-23T16:10:03.886Z"
   },
   {
    "duration": 151,
    "start_time": "2021-12-23T16:11:16.877Z"
   },
   {
    "duration": 121,
    "start_time": "2021-12-23T16:11:27.230Z"
   },
   {
    "duration": 129,
    "start_time": "2021-12-23T16:13:46.480Z"
   },
   {
    "duration": 139,
    "start_time": "2021-12-23T16:14:13.479Z"
   },
   {
    "duration": 146,
    "start_time": "2021-12-23T16:14:31.602Z"
   },
   {
    "duration": 244,
    "start_time": "2021-12-23T16:15:23.032Z"
   },
   {
    "duration": 179,
    "start_time": "2021-12-23T16:20:46.201Z"
   },
   {
    "duration": 15,
    "start_time": "2021-12-23T16:22:09.019Z"
   },
   {
    "duration": 145,
    "start_time": "2021-12-23T16:42:06.528Z"
   },
   {
    "duration": 143,
    "start_time": "2021-12-23T16:42:06.532Z"
   },
   {
    "duration": 61,
    "start_time": "2021-12-23T16:42:09.324Z"
   },
   {
    "duration": 6,
    "start_time": "2021-12-23T16:42:15.691Z"
   },
   {
    "duration": 4,
    "start_time": "2021-12-23T16:42:17.805Z"
   },
   {
    "duration": 144,
    "start_time": "2021-12-23T16:42:21.484Z"
   },
   {
    "duration": 60,
    "start_time": "2021-12-23T16:42:36.405Z"
   },
   {
    "duration": 5,
    "start_time": "2021-12-23T16:42:40.123Z"
   },
   {
    "duration": 4,
    "start_time": "2021-12-23T16:42:42.475Z"
   },
   {
    "duration": 14,
    "start_time": "2021-12-23T16:42:44.898Z"
   },
   {
    "duration": 13,
    "start_time": "2021-12-23T16:42:48.219Z"
   },
   {
    "duration": 23,
    "start_time": "2021-12-23T16:42:52.227Z"
   },
   {
    "duration": 74,
    "start_time": "2021-12-23T17:06:18.251Z"
   },
   {
    "duration": 5,
    "start_time": "2021-12-23T17:06:18.327Z"
   },
   {
    "duration": 5,
    "start_time": "2021-12-23T17:06:18.334Z"
   },
   {
    "duration": 18,
    "start_time": "2021-12-23T17:06:18.341Z"
   },
   {
    "duration": 35,
    "start_time": "2021-12-23T17:06:18.361Z"
   },
   {
    "duration": 24,
    "start_time": "2021-12-23T17:06:18.398Z"
   },
   {
    "duration": 695,
    "start_time": "2021-12-23T17:06:18.424Z"
   },
   {
    "duration": 59,
    "start_time": "2021-12-23T17:07:02.611Z"
   },
   {
    "duration": 4,
    "start_time": "2021-12-23T17:07:05.631Z"
   },
   {
    "duration": 4,
    "start_time": "2021-12-23T17:07:07.643Z"
   },
   {
    "duration": 13,
    "start_time": "2021-12-23T17:07:09.987Z"
   },
   {
    "duration": 11,
    "start_time": "2021-12-23T17:07:13.123Z"
   },
   {
    "duration": 25,
    "start_time": "2021-12-23T17:07:16.106Z"
   },
   {
    "duration": 758,
    "start_time": "2021-12-23T18:57:05.111Z"
   },
   {
    "duration": 6,
    "start_time": "2021-12-23T18:57:10.236Z"
   },
   {
    "duration": 5,
    "start_time": "2021-12-23T18:57:13.272Z"
   },
   {
    "duration": 22,
    "start_time": "2021-12-23T18:57:15.573Z"
   },
   {
    "duration": 20,
    "start_time": "2021-12-23T18:57:20.984Z"
   },
   {
    "duration": 27,
    "start_time": "2021-12-23T18:57:26.005Z"
   },
   {
    "duration": 619,
    "start_time": "2021-12-24T06:45:07.711Z"
   },
   {
    "duration": 5,
    "start_time": "2021-12-24T06:45:12.940Z"
   },
   {
    "duration": 5,
    "start_time": "2021-12-24T06:45:15.270Z"
   },
   {
    "duration": 22,
    "start_time": "2021-12-24T06:45:17.111Z"
   },
   {
    "duration": 11,
    "start_time": "2021-12-24T06:45:21.387Z"
   },
   {
    "duration": 30,
    "start_time": "2021-12-24T06:45:27.144Z"
   },
   {
    "duration": 564,
    "start_time": "2021-12-24T06:47:16.405Z"
   },
   {
    "duration": 5,
    "start_time": "2021-12-24T06:47:16.971Z"
   },
   {
    "duration": 7,
    "start_time": "2021-12-24T06:47:16.977Z"
   },
   {
    "duration": 19,
    "start_time": "2021-12-24T06:47:16.986Z"
   },
   {
    "duration": 11,
    "start_time": "2021-12-24T06:47:17.007Z"
   },
   {
    "duration": 43,
    "start_time": "2021-12-24T06:47:17.019Z"
   },
   {
    "duration": 944,
    "start_time": "2021-12-24T06:47:17.064Z"
   },
   {
    "duration": 3535,
    "start_time": "2021-12-24T06:47:55.821Z"
   },
   {
    "duration": 2855,
    "start_time": "2021-12-24T06:48:16.286Z"
   },
   {
    "duration": 268,
    "start_time": "2021-12-24T06:50:40.919Z"
   },
   {
    "duration": 2870,
    "start_time": "2021-12-24T06:51:14.520Z"
   },
   {
    "duration": 395,
    "start_time": "2021-12-24T14:20:28.923Z"
   },
   {
    "duration": 839,
    "start_time": "2021-12-24T14:20:44.009Z"
   },
   {
    "duration": 7,
    "start_time": "2021-12-24T14:20:48.254Z"
   },
   {
    "duration": 5,
    "start_time": "2021-12-24T14:20:50.090Z"
   },
   {
    "duration": 29,
    "start_time": "2021-12-24T14:20:52.707Z"
   },
   {
    "duration": 18,
    "start_time": "2021-12-24T14:20:55.283Z"
   },
   {
    "duration": 35,
    "start_time": "2021-12-24T14:20:57.968Z"
   },
   {
    "duration": 4918,
    "start_time": "2021-12-24T14:21:01.705Z"
   },
   {
    "duration": 108,
    "start_time": "2021-12-24T15:41:58.736Z"
   },
   {
    "duration": 7,
    "start_time": "2021-12-24T15:42:23.965Z"
   },
   {
    "duration": 5,
    "start_time": "2021-12-24T15:42:27.364Z"
   },
   {
    "duration": 5,
    "start_time": "2021-12-24T16:05:23.220Z"
   },
   {
    "duration": 33,
    "start_time": "2021-12-24T16:06:15.157Z"
   },
   {
    "duration": 414,
    "start_time": "2021-12-24T16:06:52.665Z"
   },
   {
    "duration": 1633,
    "start_time": "2021-12-24T16:07:58.728Z"
   },
   {
    "duration": 9321,
    "start_time": "2021-12-24T16:08:41.782Z"
   },
   {
    "duration": 1614,
    "start_time": "2021-12-24T16:10:22.313Z"
   },
   {
    "duration": 324,
    "start_time": "2021-12-24T16:13:37.995Z"
   },
   {
    "duration": 344,
    "start_time": "2021-12-24T16:13:50.370Z"
   },
   {
    "duration": 352,
    "start_time": "2021-12-24T16:15:01.919Z"
   },
   {
    "duration": 309,
    "start_time": "2021-12-24T16:16:18.997Z"
   },
   {
    "duration": 323,
    "start_time": "2021-12-24T16:17:50.429Z"
   },
   {
    "duration": 518,
    "start_time": "2021-12-24T16:18:22.801Z"
   },
   {
    "duration": 320,
    "start_time": "2021-12-24T16:19:57.258Z"
   },
   {
    "duration": 8932,
    "start_time": "2021-12-24T16:20:08.146Z"
   },
   {
    "duration": 9349,
    "start_time": "2021-12-24T16:20:52.982Z"
   },
   {
    "duration": 36,
    "start_time": "2021-12-24T16:23:55.955Z"
   },
   {
    "duration": 378,
    "start_time": "2021-12-24T16:24:25.024Z"
   },
   {
    "duration": 1188,
    "start_time": "2021-12-24T16:24:45.121Z"
   },
   {
    "duration": 427,
    "start_time": "2021-12-24T16:25:03.128Z"
   },
   {
    "duration": 422,
    "start_time": "2021-12-24T16:26:23.726Z"
   },
   {
    "duration": 42,
    "start_time": "2021-12-24T16:31:42.113Z"
   },
   {
    "duration": 43,
    "start_time": "2021-12-24T16:33:21.797Z"
   },
   {
    "duration": 1283,
    "start_time": "2021-12-24T16:34:04.187Z"
   },
   {
    "duration": 43,
    "start_time": "2021-12-24T16:34:14.834Z"
   },
   {
    "duration": 41,
    "start_time": "2021-12-24T16:34:40.561Z"
   },
   {
    "duration": 42,
    "start_time": "2021-12-24T16:36:07.848Z"
   },
   {
    "duration": 42,
    "start_time": "2021-12-24T16:36:27.317Z"
   },
   {
    "duration": 38,
    "start_time": "2021-12-24T16:37:05.783Z"
   },
   {
    "duration": 48,
    "start_time": "2021-12-24T16:37:23.005Z"
   },
   {
    "duration": 42,
    "start_time": "2021-12-24T16:42:36.801Z"
   },
   {
    "duration": 1482,
    "start_time": "2021-12-24T16:43:14.558Z"
   },
   {
    "duration": 616,
    "start_time": "2021-12-27T11:36:03.453Z"
   },
   {
    "duration": 5,
    "start_time": "2021-12-27T11:36:09.106Z"
   },
   {
    "duration": 3,
    "start_time": "2021-12-27T11:36:11.008Z"
   },
   {
    "duration": 15,
    "start_time": "2021-12-27T11:36:13.410Z"
   },
   {
    "duration": 12,
    "start_time": "2021-12-27T11:36:17.611Z"
   },
   {
    "duration": 26,
    "start_time": "2021-12-27T11:36:49.792Z"
   },
   {
    "duration": 206,
    "start_time": "2021-12-27T11:37:55.628Z"
   },
   {
    "duration": 22,
    "start_time": "2021-12-27T11:38:02.771Z"
   },
   {
    "duration": 16,
    "start_time": "2021-12-27T11:42:43.334Z"
   },
   {
    "duration": 47,
    "start_time": "2021-12-27T11:44:18.820Z"
   },
   {
    "duration": 53,
    "start_time": "2021-12-27T11:44:20.728Z"
   },
   {
    "duration": 49,
    "start_time": "2021-12-27T11:44:24.133Z"
   },
   {
    "duration": 3443,
    "start_time": "2021-12-27T11:44:32.174Z"
   },
   {
    "duration": 58,
    "start_time": "2021-12-27T11:47:40.204Z"
   },
   {
    "duration": 66,
    "start_time": "2021-12-27T11:47:55.067Z"
   },
   {
    "duration": 2709,
    "start_time": "2021-12-27T11:49:12.312Z"
   },
   {
    "duration": 2807,
    "start_time": "2021-12-27T11:49:20.747Z"
   },
   {
    "duration": 2974,
    "start_time": "2021-12-27T11:49:29.975Z"
   },
   {
    "duration": 2910,
    "start_time": "2021-12-27T11:50:41.012Z"
   },
   {
    "duration": 2825,
    "start_time": "2021-12-27T11:54:01.430Z"
   },
   {
    "duration": 2726,
    "start_time": "2021-12-27T11:54:25.522Z"
   },
   {
    "duration": 2790,
    "start_time": "2021-12-27T11:55:26.338Z"
   },
   {
    "duration": 82,
    "start_time": "2021-12-27T12:00:03.600Z"
   },
   {
    "duration": 624,
    "start_time": "2021-12-27T12:01:01.333Z"
   },
   {
    "duration": 3073,
    "start_time": "2021-12-27T12:02:06.059Z"
   },
   {
    "duration": 691,
    "start_time": "2021-12-27T12:03:23.118Z"
   },
   {
    "duration": 2698,
    "start_time": "2021-12-27T12:03:48.308Z"
   },
   {
    "duration": 2647,
    "start_time": "2021-12-27T12:04:24.007Z"
   },
   {
    "duration": 2856,
    "start_time": "2021-12-27T12:04:48.016Z"
   },
   {
    "duration": 2811,
    "start_time": "2021-12-27T12:05:40.725Z"
   },
   {
    "duration": 8,
    "start_time": "2021-12-27T12:09:08.566Z"
   },
   {
    "duration": 19,
    "start_time": "2021-12-27T12:18:45.593Z"
   },
   {
    "duration": 78,
    "start_time": "2021-12-27T12:19:20.673Z"
   },
   {
    "duration": 6,
    "start_time": "2021-12-27T12:19:26.017Z"
   },
   {
    "duration": 4,
    "start_time": "2021-12-27T12:19:28.065Z"
   },
   {
    "duration": 13,
    "start_time": "2021-12-27T12:19:30.579Z"
   },
   {
    "duration": 566,
    "start_time": "2021-12-27T12:19:41.351Z"
   },
   {
    "duration": 4,
    "start_time": "2021-12-27T12:19:41.919Z"
   },
   {
    "duration": 5,
    "start_time": "2021-12-27T12:19:41.926Z"
   },
   {
    "duration": 17,
    "start_time": "2021-12-27T12:19:41.932Z"
   },
   {
    "duration": 22,
    "start_time": "2021-12-27T12:19:41.950Z"
   },
   {
    "duration": 65,
    "start_time": "2021-12-27T12:19:41.973Z"
   },
   {
    "duration": 3655,
    "start_time": "2021-12-27T12:19:42.039Z"
   },
   {
    "duration": 19,
    "start_time": "2021-12-27T12:19:45.697Z"
   },
   {
    "duration": 15,
    "start_time": "2021-12-27T12:22:31.700Z"
   },
   {
    "duration": 74,
    "start_time": "2021-12-27T12:22:37.643Z"
   },
   {
    "duration": 3141,
    "start_time": "2021-12-27T12:23:03.210Z"
   },
   {
    "duration": 15,
    "start_time": "2021-12-27T12:23:18.070Z"
   },
   {
    "duration": 3301,
    "start_time": "2021-12-27T12:27:07.063Z"
   },
   {
    "duration": 15,
    "start_time": "2021-12-27T12:27:43.323Z"
   },
   {
    "duration": 141,
    "start_time": "2021-12-27T12:28:10.634Z"
   },
   {
    "duration": 9,
    "start_time": "2021-12-27T12:28:19.690Z"
   },
   {
    "duration": 10,
    "start_time": "2021-12-27T12:29:33.938Z"
   },
   {
    "duration": 11,
    "start_time": "2021-12-27T12:43:22.423Z"
   },
   {
    "duration": 10,
    "start_time": "2021-12-27T12:45:54.211Z"
   },
   {
    "duration": 53,
    "start_time": "2021-12-27T12:48:25.877Z"
   },
   {
    "duration": 149,
    "start_time": "2021-12-27T12:48:51.263Z"
   },
   {
    "duration": 10,
    "start_time": "2021-12-27T12:49:17.136Z"
   },
   {
    "duration": 14,
    "start_time": "2021-12-27T12:49:40.809Z"
   },
   {
    "duration": 12,
    "start_time": "2021-12-27T12:50:17.892Z"
   },
   {
    "duration": 135,
    "start_time": "2021-12-27T12:50:31.001Z"
   },
   {
    "duration": 16,
    "start_time": "2021-12-27T12:50:37.521Z"
   },
   {
    "duration": 15,
    "start_time": "2021-12-27T12:50:56.055Z"
   },
   {
    "duration": 5,
    "start_time": "2021-12-27T13:09:38.883Z"
   },
   {
    "duration": 5,
    "start_time": "2021-12-27T13:09:41.936Z"
   },
   {
    "duration": 10,
    "start_time": "2021-12-27T13:10:16.931Z"
   },
   {
    "duration": 12,
    "start_time": "2021-12-27T13:10:31.269Z"
   },
   {
    "duration": 13,
    "start_time": "2021-12-27T13:10:53.341Z"
   },
   {
    "duration": 150,
    "start_time": "2021-12-27T13:12:29.889Z"
   },
   {
    "duration": 144,
    "start_time": "2021-12-27T13:13:44.301Z"
   },
   {
    "duration": 144,
    "start_time": "2021-12-27T13:14:29.413Z"
   },
   {
    "duration": 20,
    "start_time": "2021-12-27T13:14:42.148Z"
   },
   {
    "duration": 8,
    "start_time": "2021-12-27T13:25:57.021Z"
   },
   {
    "duration": 6,
    "start_time": "2021-12-27T13:37:34.872Z"
   },
   {
    "duration": 7,
    "start_time": "2021-12-27T13:39:01.916Z"
   },
   {
    "duration": 24,
    "start_time": "2021-12-27T13:58:01.459Z"
   },
   {
    "duration": 30,
    "start_time": "2021-12-27T13:58:18.174Z"
   },
   {
    "duration": 233,
    "start_time": "2021-12-27T14:23:35.450Z"
   },
   {
    "duration": 233,
    "start_time": "2021-12-27T14:23:39.279Z"
   },
   {
    "duration": 240,
    "start_time": "2021-12-27T14:23:58.200Z"
   },
   {
    "duration": 240,
    "start_time": "2021-12-27T14:25:44.761Z"
   },
   {
    "duration": 248,
    "start_time": "2021-12-27T14:26:19.794Z"
   },
   {
    "duration": 258,
    "start_time": "2021-12-27T14:26:35.354Z"
   },
   {
    "duration": 242,
    "start_time": "2021-12-27T14:26:51.176Z"
   },
   {
    "duration": 234,
    "start_time": "2021-12-27T14:27:13.912Z"
   },
   {
    "duration": 236,
    "start_time": "2021-12-27T14:27:24.018Z"
   },
   {
    "duration": 247,
    "start_time": "2021-12-27T14:27:29.446Z"
   },
   {
    "duration": 235,
    "start_time": "2021-12-27T14:27:32.539Z"
   },
   {
    "duration": 239,
    "start_time": "2021-12-27T14:27:54.583Z"
   },
   {
    "duration": 240,
    "start_time": "2021-12-27T14:28:58.603Z"
   },
   {
    "duration": 256,
    "start_time": "2021-12-27T14:29:18.417Z"
   },
   {
    "duration": 238,
    "start_time": "2021-12-27T14:31:06.059Z"
   },
   {
    "duration": 782,
    "start_time": "2021-12-27T14:40:02.620Z"
   },
   {
    "duration": 37,
    "start_time": "2021-12-27T14:40:57.507Z"
   },
   {
    "duration": 50,
    "start_time": "2021-12-27T14:42:11.181Z"
   },
   {
    "duration": 39,
    "start_time": "2021-12-27T14:42:45.874Z"
   },
   {
    "duration": 41,
    "start_time": "2021-12-27T14:44:27.010Z"
   },
   {
    "duration": 47,
    "start_time": "2021-12-27T14:44:43.746Z"
   },
   {
    "duration": 39,
    "start_time": "2021-12-27T14:45:15.373Z"
   },
   {
    "duration": 39,
    "start_time": "2021-12-27T14:45:47.329Z"
   },
   {
    "duration": 40,
    "start_time": "2021-12-27T14:46:03.222Z"
   },
   {
    "duration": 39,
    "start_time": "2021-12-27T14:46:22.089Z"
   },
   {
    "duration": 7,
    "start_time": "2021-12-27T14:49:16.019Z"
   },
   {
    "duration": 40,
    "start_time": "2021-12-27T14:51:47.079Z"
   },
   {
    "duration": 37,
    "start_time": "2021-12-27T14:52:47.145Z"
   },
   {
    "duration": 36,
    "start_time": "2021-12-27T14:52:58.444Z"
   },
   {
    "duration": 8,
    "start_time": "2021-12-27T14:54:37.548Z"
   },
   {
    "duration": 39,
    "start_time": "2021-12-27T14:56:27.219Z"
   },
   {
    "duration": 8,
    "start_time": "2021-12-27T14:56:55.072Z"
   },
   {
    "duration": 8,
    "start_time": "2021-12-27T14:56:59.204Z"
   },
   {
    "duration": 7,
    "start_time": "2021-12-27T14:57:03.869Z"
   },
   {
    "duration": 8,
    "start_time": "2021-12-27T14:57:59.918Z"
   },
   {
    "duration": 7,
    "start_time": "2021-12-27T14:59:40.763Z"
   },
   {
    "duration": 9,
    "start_time": "2021-12-27T15:00:39.983Z"
   },
   {
    "duration": 8,
    "start_time": "2021-12-27T15:01:36.641Z"
   },
   {
    "duration": 10,
    "start_time": "2021-12-27T15:02:26.346Z"
   },
   {
    "duration": 8,
    "start_time": "2021-12-27T15:04:34.666Z"
   },
   {
    "duration": 8,
    "start_time": "2021-12-27T15:04:43.389Z"
   },
   {
    "duration": 7,
    "start_time": "2021-12-27T15:06:51.037Z"
   },
   {
    "duration": 9,
    "start_time": "2021-12-27T15:07:02.881Z"
   },
   {
    "duration": 8,
    "start_time": "2021-12-27T15:07:04.957Z"
   },
   {
    "duration": 10,
    "start_time": "2021-12-27T15:08:29.021Z"
   },
   {
    "duration": 10,
    "start_time": "2021-12-27T15:08:32.203Z"
   },
   {
    "duration": 10,
    "start_time": "2021-12-27T15:09:30.691Z"
   },
   {
    "duration": 2709,
    "start_time": "2021-12-27T15:10:33.311Z"
   },
   {
    "duration": 2739,
    "start_time": "2021-12-27T15:10:54.792Z"
   },
   {
    "duration": 45,
    "start_time": "2021-12-27T15:11:08.578Z"
   },
   {
    "duration": 617,
    "start_time": "2021-12-27T17:01:15.077Z"
   },
   {
    "duration": 4,
    "start_time": "2021-12-27T17:01:15.696Z"
   },
   {
    "duration": 5,
    "start_time": "2021-12-27T17:01:15.702Z"
   },
   {
    "duration": 18,
    "start_time": "2021-12-27T17:01:15.709Z"
   },
   {
    "duration": 20,
    "start_time": "2021-12-27T17:01:15.728Z"
   },
   {
    "duration": 67,
    "start_time": "2021-12-27T17:01:15.750Z"
   },
   {
    "duration": 3455,
    "start_time": "2021-12-27T17:01:15.819Z"
   },
   {
    "duration": 56,
    "start_time": "2021-12-27T17:01:19.277Z"
   },
   {
    "duration": 6,
    "start_time": "2021-12-27T17:01:19.335Z"
   },
   {
    "duration": 7,
    "start_time": "2021-12-27T17:01:19.343Z"
   },
   {
    "duration": 12,
    "start_time": "2021-12-27T17:01:19.351Z"
   },
   {
    "duration": 326,
    "start_time": "2021-12-27T17:01:19.391Z"
   },
   {
    "duration": 10,
    "start_time": "2021-12-27T17:13:15.656Z"
   },
   {
    "duration": 891,
    "start_time": "2021-12-28T13:48:03.791Z"
   },
   {
    "duration": 8,
    "start_time": "2021-12-28T13:48:04.686Z"
   },
   {
    "duration": 8,
    "start_time": "2021-12-28T13:48:04.697Z"
   },
   {
    "duration": 27,
    "start_time": "2021-12-28T13:48:04.707Z"
   },
   {
    "duration": 57,
    "start_time": "2021-12-28T13:48:04.737Z"
   },
   {
    "duration": 86,
    "start_time": "2021-12-28T13:48:04.796Z"
   },
   {
    "duration": 4692,
    "start_time": "2021-12-28T13:48:04.885Z"
   },
   {
    "duration": 85,
    "start_time": "2021-12-28T13:48:09.581Z"
   },
   {
    "duration": 10,
    "start_time": "2021-12-28T13:48:09.669Z"
   },
   {
    "duration": 18,
    "start_time": "2021-12-28T13:48:09.681Z"
   },
   {
    "duration": 13,
    "start_time": "2021-12-28T13:48:09.702Z"
   },
   {
    "duration": 54,
    "start_time": "2021-12-28T13:48:09.718Z"
   },
   {
    "duration": 9,
    "start_time": "2021-12-28T13:57:54.111Z"
   },
   {
    "duration": 13,
    "start_time": "2021-12-28T13:59:50.111Z"
   },
   {
    "duration": 97,
    "start_time": "2021-12-28T13:59:57.627Z"
   },
   {
    "duration": 7,
    "start_time": "2021-12-28T13:59:57.727Z"
   },
   {
    "duration": 35,
    "start_time": "2021-12-28T13:59:58.998Z"
   },
   {
    "duration": 34,
    "start_time": "2021-12-28T14:00:02.101Z"
   },
   {
    "duration": 9,
    "start_time": "2021-12-28T14:00:11.731Z"
   },
   {
    "duration": 411,
    "start_time": "2021-12-28T14:00:45.908Z"
   },
   {
    "duration": 9,
    "start_time": "2021-12-28T14:00:53.013Z"
   },
   {
    "duration": 33,
    "start_time": "2021-12-28T14:03:05.140Z"
   },
   {
    "duration": 328,
    "start_time": "2021-12-28T14:27:50.662Z"
   },
   {
    "duration": 82,
    "start_time": "2021-12-28T14:28:17.848Z"
   },
   {
    "duration": 6,
    "start_time": "2021-12-28T14:28:17.933Z"
   },
   {
    "duration": 26,
    "start_time": "2021-12-28T14:28:17.943Z"
   },
   {
    "duration": 21,
    "start_time": "2021-12-28T14:28:17.972Z"
   },
   {
    "duration": 21,
    "start_time": "2021-12-28T14:28:17.996Z"
   },
   {
    "duration": 116,
    "start_time": "2021-12-28T14:28:18.020Z"
   },
   {
    "duration": 4901,
    "start_time": "2021-12-28T14:28:18.139Z"
   },
   {
    "duration": 77,
    "start_time": "2021-12-28T14:28:23.043Z"
   },
   {
    "duration": 9,
    "start_time": "2021-12-28T14:28:23.123Z"
   },
   {
    "duration": 39,
    "start_time": "2021-12-28T14:28:23.135Z"
   },
   {
    "duration": 9,
    "start_time": "2021-12-28T14:28:23.177Z"
   },
   {
    "duration": 325,
    "start_time": "2021-12-28T17:50:57.177Z"
   },
   {
    "duration": 243,
    "start_time": "2021-12-28T17:51:06.069Z"
   },
   {
    "duration": 250,
    "start_time": "2021-12-28T17:51:56.186Z"
   },
   {
    "duration": 262,
    "start_time": "2021-12-28T17:52:30.046Z"
   },
   {
    "duration": 1114,
    "start_time": "2021-12-28T17:53:16.177Z"
   },
   {
    "duration": 8,
    "start_time": "2021-12-28T17:53:17.295Z"
   },
   {
    "duration": 137,
    "start_time": "2021-12-28T17:53:17.307Z"
   },
   {
    "duration": 30,
    "start_time": "2021-12-28T17:53:17.448Z"
   },
   {
    "duration": 31,
    "start_time": "2021-12-28T17:53:17.484Z"
   },
   {
    "duration": 146,
    "start_time": "2021-12-28T17:53:17.518Z"
   },
   {
    "duration": 5302,
    "start_time": "2021-12-28T17:53:17.667Z"
   },
   {
    "duration": 101,
    "start_time": "2021-12-28T17:53:22.973Z"
   },
   {
    "duration": 12,
    "start_time": "2021-12-28T17:53:23.076Z"
   },
   {
    "duration": 8,
    "start_time": "2021-12-28T17:53:23.091Z"
   },
   {
    "duration": 12,
    "start_time": "2021-12-28T17:53:23.101Z"
   },
   {
    "duration": 59,
    "start_time": "2021-12-28T17:53:23.116Z"
   },
   {
    "duration": 10,
    "start_time": "2021-12-28T17:55:12.642Z"
   },
   {
    "duration": 9,
    "start_time": "2021-12-28T17:56:31.554Z"
   },
   {
    "duration": 12,
    "start_time": "2021-12-28T18:09:35.964Z"
   },
   {
    "duration": 10,
    "start_time": "2021-12-28T18:09:43.800Z"
   },
   {
    "duration": 13,
    "start_time": "2021-12-28T18:09:56.017Z"
   },
   {
    "duration": 79,
    "start_time": "2021-12-28T18:22:36.074Z"
   },
   {
    "duration": 1155,
    "start_time": "2021-12-28T18:22:45.012Z"
   },
   {
    "duration": 77,
    "start_time": "2021-12-28T18:23:10.265Z"
   },
   {
    "duration": 80,
    "start_time": "2021-12-28T18:23:16.098Z"
   },
   {
    "duration": 80,
    "start_time": "2021-12-28T18:23:28.717Z"
   },
   {
    "duration": 148,
    "start_time": "2021-12-28T18:23:38.439Z"
   },
   {
    "duration": 250,
    "start_time": "2021-12-28T18:23:57.852Z"
   },
   {
    "duration": 16,
    "start_time": "2021-12-28T18:24:44.131Z"
   },
   {
    "duration": 19,
    "start_time": "2021-12-28T18:25:03.203Z"
   },
   {
    "duration": 88,
    "start_time": "2021-12-28T18:34:25.905Z"
   },
   {
    "duration": 42,
    "start_time": "2021-12-28T18:34:33.353Z"
   },
   {
    "duration": 10,
    "start_time": "2021-12-28T18:39:46.397Z"
   },
   {
    "duration": 24,
    "start_time": "2021-12-28T18:51:59.754Z"
   },
   {
    "duration": 23,
    "start_time": "2021-12-28T19:02:17.319Z"
   },
   {
    "duration": 25,
    "start_time": "2021-12-28T19:03:11.191Z"
   },
   {
    "duration": 40,
    "start_time": "2021-12-28T19:06:14.751Z"
   },
   {
    "duration": 17,
    "start_time": "2021-12-28T19:13:46.657Z"
   },
   {
    "duration": 11,
    "start_time": "2021-12-28T19:14:02.001Z"
   },
   {
    "duration": 13,
    "start_time": "2021-12-28T19:19:26.708Z"
   },
   {
    "duration": 30,
    "start_time": "2021-12-28T19:29:02.034Z"
   },
   {
    "duration": 832,
    "start_time": "2021-12-28T19:30:35.274Z"
   },
   {
    "duration": 5,
    "start_time": "2021-12-28T19:30:36.109Z"
   },
   {
    "duration": 84,
    "start_time": "2021-12-28T19:30:36.118Z"
   },
   {
    "duration": 24,
    "start_time": "2021-12-28T19:30:36.206Z"
   },
   {
    "duration": 54,
    "start_time": "2021-12-28T19:30:36.233Z"
   },
   {
    "duration": 95,
    "start_time": "2021-12-28T19:30:36.294Z"
   },
   {
    "duration": 5114,
    "start_time": "2021-12-28T19:30:36.391Z"
   },
   {
    "duration": 91,
    "start_time": "2021-12-28T19:30:41.508Z"
   },
   {
    "duration": 36,
    "start_time": "2021-12-28T19:30:41.603Z"
   },
   {
    "duration": 56,
    "start_time": "2021-12-28T19:30:41.641Z"
   },
   {
    "duration": 11,
    "start_time": "2021-12-28T19:30:41.700Z"
   },
   {
    "duration": 10,
    "start_time": "2021-12-28T19:30:41.714Z"
   },
   {
    "duration": 995,
    "start_time": "2021-12-28T21:19:44.872Z"
   },
   {
    "duration": 7,
    "start_time": "2021-12-28T21:19:45.870Z"
   },
   {
    "duration": 110,
    "start_time": "2021-12-28T21:19:45.881Z"
   },
   {
    "duration": 26,
    "start_time": "2021-12-28T21:19:45.994Z"
   },
   {
    "duration": 48,
    "start_time": "2021-12-28T21:19:46.024Z"
   },
   {
    "duration": 100,
    "start_time": "2021-12-28T21:19:46.076Z"
   },
   {
    "duration": 4889,
    "start_time": "2021-12-28T21:19:46.187Z"
   },
   {
    "duration": 96,
    "start_time": "2021-12-28T21:19:51.081Z"
   },
   {
    "duration": 38,
    "start_time": "2021-12-28T21:19:51.180Z"
   },
   {
    "duration": 59,
    "start_time": "2021-12-28T21:19:51.220Z"
   },
   {
    "duration": 11,
    "start_time": "2021-12-28T21:19:51.281Z"
   },
   {
    "duration": 9,
    "start_time": "2021-12-28T21:19:51.295Z"
   }
  ],
  "kernelspec": {
   "display_name": "Python 3 (ipykernel)",
   "language": "python",
   "name": "python3"
  },
  "language_info": {
   "codemirror_mode": {
    "name": "ipython",
    "version": 3
   },
   "file_extension": ".py",
   "mimetype": "text/x-python",
   "name": "python",
   "nbconvert_exporter": "python",
   "pygments_lexer": "ipython3",
   "version": "3.9.12"
  },
  "toc": {
   "base_numbering": 1,
   "nav_menu": {},
   "number_sections": true,
   "sideBar": true,
   "skip_h1_title": true,
   "title_cell": "Table of Contents",
   "title_sidebar": "Contents",
   "toc_cell": false,
   "toc_position": {},
   "toc_section_display": true,
   "toc_window_display": false
  }
 },
 "nbformat": 4,
 "nbformat_minor": 2
}
